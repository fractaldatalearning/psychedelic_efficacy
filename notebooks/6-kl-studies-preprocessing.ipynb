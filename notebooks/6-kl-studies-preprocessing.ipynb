{
 "cells": [
  {
   "cell_type": "markdown",
   "id": "7be25e46",
   "metadata": {},
   "source": [
    "# <font color='violet'> Feature Engineering\n",
    "\n",
    "On data that was processed here: https://github.com/fractaldatalearning/psychedelic_efficacy/blob/main/notebooks/5-kl-studies-lang-eda.ipynb\n",
    "    \n",
    "Resource to check out re: visualizing word embeddings using spacy's visualizer: https://medium.com/acing-ai/visualizations-in-natural-language-processing-2ca60dd34ce\n"
   ]
  },
  {
   "cell_type": "code",
   "execution_count": null,
   "id": "e7d6d92c",
   "metadata": {},
   "outputs": [],
   "source": []
  }
 ],
 "metadata": {
  "kernelspec": {
   "display_name": "Python 3 (ipykernel)",
   "language": "python",
   "name": "python3"
  },
  "language_info": {
   "codemirror_mode": {
    "name": "ipython",
    "version": 3
   },
   "file_extension": ".py",
   "mimetype": "text/x-python",
   "name": "python",
   "nbconvert_exporter": "python",
   "pygments_lexer": "ipython3",
   "version": "3.9.15"
  }
 },
 "nbformat": 4,
 "nbformat_minor": 5
}
