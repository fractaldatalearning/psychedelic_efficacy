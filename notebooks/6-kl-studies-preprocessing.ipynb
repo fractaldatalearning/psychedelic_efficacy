{
 "cells": [
  {
   "cell_type": "markdown",
   "id": "af6d0f7f",
   "metadata": {},
   "source": [
    "# <font color='violet'> Feature Engineering\n",
    "\n",
    "On data that was processed here: https://github.com/fractaldatalearning/psychedelic_efficacy/blob/main/notebooks/5-kl-studies-lang-eda.ipynb\n",
    "    \n",
    "\n",
    "Keep drawing from this resource: https://towardsdatascience.com/a-practitioners-guide-to-natural-language-processing-part-i-processing-understanding-text-9f4abfd13e72\n",
    "    \n",
    "Resource to check out re: using spacy's visualizer: https://medium.com/acing-ai/visualizations-in-natural-language-processing-2ca60dd34ce\n",
    "    \n",
    "Come back to this resource used in the previous notebook; it also contains info re: visualizing word embeddings: Still especially interested in digging deeper with visualizing word embeddings: https://medium.com/plotly/nlp-visualisations-for-clear-immediate-insights-into-text-data-and-outputs-9ebfab168d5b\n",
    "    \n",
    "I'll start with creating columns to hold information about each review's sentiment score, then move into word embedding. For sentiment analysis, I'll use TextBlob because it returns easy-to-interpret sentiment scores that include both sentiment poliarity and subjectivity. Subjectivity seems particular relevant in this context because the typical subjectivitiy of scrubbed experience reports may differ from that of reviews contained in this current dataset. I can't know for sure until I explore, but I'd imagine some experience reports try to simply convey what happened when somebody took a drug, while others are highly subjective and mostly share opinions about how the experience went. In this current dataset, the reviews may share straightforward experiences but are probably more so considered explanations for why a particular rating was given. So, it would be great to have the ability to differentiate by more-and-less subjective reviews."
   ]
  },
  {
   "cell_type": "code",
   "execution_count": 1,
   "id": "c010b6aa",
   "metadata": {},
   "outputs": [],
   "source": [
    "import pandas as pd\n",
    "from textblob import TextBlob"
   ]
  },
  {
   "cell_type": "code",
   "execution_count": null,
   "id": "0da53e7a",
   "metadata": {},
   "outputs": [],
   "source": []
  }
 ],
 "metadata": {
  "kernelspec": {
   "display_name": "Python 3 (ipykernel)",
   "language": "python",
   "name": "python3"
  },
  "language_info": {
   "codemirror_mode": {
    "name": "ipython",
    "version": 3
   },
   "file_extension": ".py",
   "mimetype": "text/x-python",
   "name": "python",
   "nbconvert_exporter": "python",
   "pygments_lexer": "ipython3",
   "version": "3.9.15"
  }
 },
 "nbformat": 4,
 "nbformat_minor": 5
}
