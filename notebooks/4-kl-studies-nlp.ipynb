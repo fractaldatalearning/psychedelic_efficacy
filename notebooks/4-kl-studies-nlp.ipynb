{
 "cells": [
  {
   "cell_type": "markdown",
   "id": "b783c893",
   "metadata": {},
   "source": [
    "# <font color='violet'> Continue Deeper Language Processing\n",
    "    \n",
    "Using prescription drug review data analyzed and parsed here: https://github.com/fractaldatalearning/psychedelic_efficacy/blob/main/notebooks/3-kl-studies-early-eda-parse.ipynb"
   ]
  },
  {
   "cell_type": "code",
   "execution_count": 1,
   "id": "f77f6db9",
   "metadata": {},
   "outputs": [],
   "source": [
    "# ! pip install spacy\n",
    "# ! python -m spacy download en_core_web_sm"
   ]
  },
  {
   "cell_type": "code",
   "execution_count": 2,
   "id": "af2aaa0b",
   "metadata": {},
   "outputs": [],
   "source": [
    "import pandas as pd\n",
    "import spacy\n",
    "import re\n",
    "from tqdm import tqdm\n",
    "import numpy as np"
   ]
  },
  {
   "cell_type": "code",
   "execution_count": 3,
   "id": "97ca8590",
   "metadata": {},
   "outputs": [
    {
     "name": "stdout",
     "output_type": "stream",
     "text": [
      "<class 'pandas.core.frame.DataFrame'>\n",
      "RangeIndex: 31559 entries, 0 to 31558\n",
      "Data columns (total 23 columns):\n",
      " #   Column         Non-Null Count  Dtype  \n",
      "---  ------         --------------  -----  \n",
      " 0   Unnamed: 0     31559 non-null  int64  \n",
      " 1   rating         31559 non-null  float64\n",
      " 2   condition      31559 non-null  object \n",
      " 3   review         31559 non-null  object \n",
      " 4   date           31451 non-null  object \n",
      " 5   drug0          31559 non-null  object \n",
      " 6   drug1          18992 non-null  object \n",
      " 7   drug2          32 non-null     object \n",
      " 8   drug3          23 non-null     object \n",
      " 9   drug4          12 non-null     object \n",
      " 10  drug5          11 non-null     object \n",
      " 11  drug6          7 non-null      object \n",
      " 12  drug7          5 non-null      object \n",
      " 13  drug8          3 non-null      object \n",
      " 14  drug9          2 non-null      object \n",
      " 15  drug10         2 non-null      object \n",
      " 16  drug11         2 non-null      object \n",
      " 17  drug12         2 non-null      object \n",
      " 18  drug13         2 non-null      object \n",
      " 19  drug14         1 non-null      object \n",
      " 20  drug15         1 non-null      object \n",
      " 21  ratings_count  31559 non-null  int64  \n",
      " 22  count_by_date  31451 non-null  float64\n",
      "dtypes: float64(2), int64(2), object(19)\n",
      "memory usage: 5.5+ MB\n"
     ]
    }
   ],
   "source": [
    "df = pd.read_csv('../data/interim/studies_early_parsing.csv')\n",
    "df.info()"
   ]
  },
  {
   "cell_type": "code",
   "execution_count": 4,
   "id": "1cc51e31",
   "metadata": {},
   "outputs": [
    {
     "data": {
      "text/html": [
       "<div>\n",
       "<style scoped>\n",
       "    .dataframe tbody tr th:only-of-type {\n",
       "        vertical-align: middle;\n",
       "    }\n",
       "\n",
       "    .dataframe tbody tr th {\n",
       "        vertical-align: top;\n",
       "    }\n",
       "\n",
       "    .dataframe thead th {\n",
       "        text-align: right;\n",
       "    }\n",
       "</style>\n",
       "<table border=\"1\" class=\"dataframe\">\n",
       "  <thead>\n",
       "    <tr style=\"text-align: right;\">\n",
       "      <th></th>\n",
       "      <th>rating</th>\n",
       "      <th>condition</th>\n",
       "      <th>review</th>\n",
       "      <th>date</th>\n",
       "      <th>drug0</th>\n",
       "      <th>drug1</th>\n",
       "      <th>drug2</th>\n",
       "      <th>drug3</th>\n",
       "      <th>drug4</th>\n",
       "      <th>drug5</th>\n",
       "      <th>drug6</th>\n",
       "      <th>drug7</th>\n",
       "      <th>drug8</th>\n",
       "      <th>drug9</th>\n",
       "      <th>drug10</th>\n",
       "      <th>drug11</th>\n",
       "      <th>drug12</th>\n",
       "      <th>drug13</th>\n",
       "      <th>drug14</th>\n",
       "      <th>drug15</th>\n",
       "    </tr>\n",
       "  </thead>\n",
       "  <tbody>\n",
       "    <tr>\n",
       "      <th>0</th>\n",
       "      <td>9.0</td>\n",
       "      <td>add</td>\n",
       "      <td>I had began taking 20mg of Vyvanse for three m...</td>\n",
       "      <td>NaN</td>\n",
       "      <td>vyvanse</td>\n",
       "      <td>NaN</td>\n",
       "      <td>NaN</td>\n",
       "      <td>NaN</td>\n",
       "      <td>NaN</td>\n",
       "      <td>NaN</td>\n",
       "      <td>NaN</td>\n",
       "      <td>NaN</td>\n",
       "      <td>NaN</td>\n",
       "      <td>NaN</td>\n",
       "      <td>NaN</td>\n",
       "      <td>NaN</td>\n",
       "      <td>NaN</td>\n",
       "      <td>NaN</td>\n",
       "      <td>NaN</td>\n",
       "      <td>NaN</td>\n",
       "    </tr>\n",
       "    <tr>\n",
       "      <th>1</th>\n",
       "      <td>8.0</td>\n",
       "      <td>add</td>\n",
       "      <td>Switched from Adderall to Dexedrine to compare...</td>\n",
       "      <td>NaN</td>\n",
       "      <td>dextroamphetamine</td>\n",
       "      <td>NaN</td>\n",
       "      <td>NaN</td>\n",
       "      <td>NaN</td>\n",
       "      <td>NaN</td>\n",
       "      <td>NaN</td>\n",
       "      <td>NaN</td>\n",
       "      <td>NaN</td>\n",
       "      <td>NaN</td>\n",
       "      <td>NaN</td>\n",
       "      <td>NaN</td>\n",
       "      <td>NaN</td>\n",
       "      <td>NaN</td>\n",
       "      <td>NaN</td>\n",
       "      <td>NaN</td>\n",
       "      <td>NaN</td>\n",
       "    </tr>\n",
       "    <tr>\n",
       "      <th>2</th>\n",
       "      <td>8.0</td>\n",
       "      <td>adhd</td>\n",
       "      <td>I have only been on Vyvanse for 2 weeks  I sta...</td>\n",
       "      <td>NaN</td>\n",
       "      <td>vyvanse</td>\n",
       "      <td>NaN</td>\n",
       "      <td>NaN</td>\n",
       "      <td>NaN</td>\n",
       "      <td>NaN</td>\n",
       "      <td>NaN</td>\n",
       "      <td>NaN</td>\n",
       "      <td>NaN</td>\n",
       "      <td>NaN</td>\n",
       "      <td>NaN</td>\n",
       "      <td>NaN</td>\n",
       "      <td>NaN</td>\n",
       "      <td>NaN</td>\n",
       "      <td>NaN</td>\n",
       "      <td>NaN</td>\n",
       "      <td>NaN</td>\n",
       "    </tr>\n",
       "  </tbody>\n",
       "</table>\n",
       "</div>"
      ],
      "text/plain": [
       "   rating condition                                             review date  \\\n",
       "0     9.0       add  I had began taking 20mg of Vyvanse for three m...  NaN   \n",
       "1     8.0       add  Switched from Adderall to Dexedrine to compare...  NaN   \n",
       "2     8.0      adhd  I have only been on Vyvanse for 2 weeks  I sta...  NaN   \n",
       "\n",
       "               drug0 drug1 drug2 drug3 drug4 drug5 drug6 drug7 drug8 drug9  \\\n",
       "0            vyvanse   NaN   NaN   NaN   NaN   NaN   NaN   NaN   NaN   NaN   \n",
       "1  dextroamphetamine   NaN   NaN   NaN   NaN   NaN   NaN   NaN   NaN   NaN   \n",
       "2            vyvanse   NaN   NaN   NaN   NaN   NaN   NaN   NaN   NaN   NaN   \n",
       "\n",
       "  drug10 drug11 drug12 drug13 drug14 drug15  \n",
       "0    NaN    NaN    NaN    NaN    NaN    NaN  \n",
       "1    NaN    NaN    NaN    NaN    NaN    NaN  \n",
       "2    NaN    NaN    NaN    NaN    NaN    NaN  "
      ]
     },
     "execution_count": 4,
     "metadata": {},
     "output_type": "execute_result"
    }
   ],
   "source": [
    "# Delete unnamed column and columns I'd used for eda previously but won't need here.\n",
    "df = df.drop(columns = ['Unnamed: 0', 'ratings_count', 'count_by_date'])\n",
    "df.head(3)"
   ]
  },
  {
   "cell_type": "markdown",
   "id": "46c2ae68",
   "metadata": {},
   "source": [
    "It's unclear whether it is a good idea to lemmatize the text and remove stopwords. \n",
    "\n",
    "With stopword removal during sentiment analysis, it is important to carefully analyze the stopword list and refrain from removing words that indicate negation, such as no and not. It would be possible to use a word list that does not include these words and enables retention of important sentiment information. \n",
    "\n",
    "As for lemmatization, it can be less than ideal for sentiment analysis if it (as it often does) lemmatizes words with nuanced meaning to the same word, i.e. bad and worse both becoming bad, losing the intensity of the word worse. But, in my context, since I am hoping to apply this model with new narratives that may or may not contain similar words to those in my current dataset, lemmatization could help with normalization. \n",
    "\n",
    "For this reason, I am going to first strip the last remaining tricky symbols from the reviews, and then the last cleaning step can be lemmatization and stopword removal *with a wordlist excluding words that impact sentiment*\n",
    "\n",
    "<font color='violet'> Deal with remaining punctuation"
   ]
  },
  {
   "cell_type": "code",
   "execution_count": 5,
   "id": "614d5c1a",
   "metadata": {},
   "outputs": [
    {
     "data": {
      "text/plain": [
       "{'\\t',\n",
       " '\\n',\n",
       " '\\r',\n",
       " ' ',\n",
       " '!',\n",
       " '#',\n",
       " '$',\n",
       " '%',\n",
       " '(',\n",
       " ')',\n",
       " '+',\n",
       " '0',\n",
       " '1',\n",
       " '2',\n",
       " '3',\n",
       " '4',\n",
       " '5',\n",
       " '6',\n",
       " '7',\n",
       " '8',\n",
       " '9',\n",
       " ':',\n",
       " ';',\n",
       " '=',\n",
       " '?',\n",
       " '\\\\',\n",
       " '`',\n",
       " '\\x7f'}"
      ]
     },
     "execution_count": 5,
     "metadata": {},
     "output_type": "execute_result"
    }
   ],
   "source": [
    "punctuation = set([token for token in df.review.str.cat(sep=' ') if \n",
    "                   token.isalpha()==False])\n",
    "punctuation"
   ]
  },
  {
   "cell_type": "code",
   "execution_count": 6,
   "id": "e19d00a2",
   "metadata": {},
   "outputs": [
    {
     "data": {
      "text/html": [
       "<div>\n",
       "<style scoped>\n",
       "    .dataframe tbody tr th:only-of-type {\n",
       "        vertical-align: middle;\n",
       "    }\n",
       "\n",
       "    .dataframe tbody tr th {\n",
       "        vertical-align: top;\n",
       "    }\n",
       "\n",
       "    .dataframe thead th {\n",
       "        text-align: right;\n",
       "    }\n",
       "</style>\n",
       "<table border=\"1\" class=\"dataframe\">\n",
       "  <thead>\n",
       "    <tr style=\"text-align: right;\">\n",
       "      <th></th>\n",
       "      <th>rating</th>\n",
       "      <th>condition</th>\n",
       "      <th>review</th>\n",
       "      <th>date</th>\n",
       "      <th>drug0</th>\n",
       "      <th>drug1</th>\n",
       "      <th>drug2</th>\n",
       "      <th>drug3</th>\n",
       "      <th>drug4</th>\n",
       "      <th>drug5</th>\n",
       "      <th>drug6</th>\n",
       "      <th>drug7</th>\n",
       "      <th>drug8</th>\n",
       "      <th>drug9</th>\n",
       "      <th>drug10</th>\n",
       "      <th>drug11</th>\n",
       "      <th>drug12</th>\n",
       "      <th>drug13</th>\n",
       "      <th>drug14</th>\n",
       "      <th>drug15</th>\n",
       "    </tr>\n",
       "  </thead>\n",
       "  <tbody>\n",
       "    <tr>\n",
       "      <th>1600</th>\n",
       "      <td>1.0</td>\n",
       "      <td>depression</td>\n",
       "      <td>bull \\t19 April 2016\\r\\r\\n\\r\\r\\nBegan initial ...</td>\n",
       "      <td>2016-04-22</td>\n",
       "      <td>duloxetine</td>\n",
       "      <td>NaN</td>\n",
       "      <td>NaN</td>\n",
       "      <td>NaN</td>\n",
       "      <td>NaN</td>\n",
       "      <td>NaN</td>\n",
       "      <td>NaN</td>\n",
       "      <td>NaN</td>\n",
       "      <td>NaN</td>\n",
       "      <td>NaN</td>\n",
       "      <td>NaN</td>\n",
       "      <td>NaN</td>\n",
       "      <td>NaN</td>\n",
       "      <td>NaN</td>\n",
       "      <td>NaN</td>\n",
       "      <td>NaN</td>\n",
       "    </tr>\n",
       "  </tbody>\n",
       "</table>\n",
       "</div>"
      ],
      "text/plain": [
       "      rating   condition                                             review  \\\n",
       "1600     1.0  depression  bull \\t19 April 2016\\r\\r\\n\\r\\r\\nBegan initial ...   \n",
       "\n",
       "            date       drug0 drug1 drug2 drug3 drug4 drug5 drug6 drug7 drug8  \\\n",
       "1600  2016-04-22  duloxetine   NaN   NaN   NaN   NaN   NaN   NaN   NaN   NaN   \n",
       "\n",
       "     drug9 drug10 drug11 drug12 drug13 drug14 drug15  \n",
       "1600   NaN    NaN    NaN    NaN    NaN    NaN    NaN  "
      ]
     },
     "execution_count": 6,
     "metadata": {},
     "output_type": "execute_result"
    }
   ],
   "source": [
    "# Identify obviously unwanted symbols. Some of the symbols above still carry meaning\n",
    "replacements = ['\\t', '\\n', '\\r', '\\\\', '`', '\\x7f']\n",
    "\n",
    "# Find where some of these occur, so as to see if removing them work?\n",
    "df[df.review.str.find('\\t')!=-1].head(1)"
   ]
  },
  {
   "cell_type": "code",
   "execution_count": 7,
   "id": "a3baf9cd",
   "metadata": {},
   "outputs": [
    {
     "data": {
      "text/html": [
       "<div>\n",
       "<style scoped>\n",
       "    .dataframe tbody tr th:only-of-type {\n",
       "        vertical-align: middle;\n",
       "    }\n",
       "\n",
       "    .dataframe tbody tr th {\n",
       "        vertical-align: top;\n",
       "    }\n",
       "\n",
       "    .dataframe thead th {\n",
       "        text-align: right;\n",
       "    }\n",
       "</style>\n",
       "<table border=\"1\" class=\"dataframe\">\n",
       "  <thead>\n",
       "    <tr style=\"text-align: right;\">\n",
       "      <th></th>\n",
       "      <th>rating</th>\n",
       "      <th>condition</th>\n",
       "      <th>review</th>\n",
       "      <th>date</th>\n",
       "      <th>drug0</th>\n",
       "      <th>drug1</th>\n",
       "      <th>drug2</th>\n",
       "      <th>drug3</th>\n",
       "      <th>drug4</th>\n",
       "      <th>drug5</th>\n",
       "      <th>drug6</th>\n",
       "      <th>drug7</th>\n",
       "      <th>drug8</th>\n",
       "      <th>drug9</th>\n",
       "      <th>drug10</th>\n",
       "      <th>drug11</th>\n",
       "      <th>drug12</th>\n",
       "      <th>drug13</th>\n",
       "      <th>drug14</th>\n",
       "      <th>drug15</th>\n",
       "    </tr>\n",
       "  </thead>\n",
       "  <tbody>\n",
       "    <tr>\n",
       "      <th>85</th>\n",
       "      <td>9.0</td>\n",
       "      <td>add</td>\n",
       "      <td>Took 20mg 3x a day Immediate release worked be...</td>\n",
       "      <td>NaN</td>\n",
       "      <td>adderall</td>\n",
       "      <td>NaN</td>\n",
       "      <td>NaN</td>\n",
       "      <td>NaN</td>\n",
       "      <td>NaN</td>\n",
       "      <td>NaN</td>\n",
       "      <td>NaN</td>\n",
       "      <td>NaN</td>\n",
       "      <td>NaN</td>\n",
       "      <td>NaN</td>\n",
       "      <td>NaN</td>\n",
       "      <td>NaN</td>\n",
       "      <td>NaN</td>\n",
       "      <td>NaN</td>\n",
       "      <td>NaN</td>\n",
       "      <td>NaN</td>\n",
       "    </tr>\n",
       "  </tbody>\n",
       "</table>\n",
       "</div>"
      ],
      "text/plain": [
       "    rating condition                                             review date  \\\n",
       "85     9.0       add  Took 20mg 3x a day Immediate release worked be...  NaN   \n",
       "\n",
       "       drug0 drug1 drug2 drug3 drug4 drug5 drug6 drug7 drug8 drug9 drug10  \\\n",
       "85  adderall   NaN   NaN   NaN   NaN   NaN   NaN   NaN   NaN   NaN    NaN   \n",
       "\n",
       "   drug11 drug12 drug13 drug14 drug15  \n",
       "85    NaN    NaN    NaN    NaN    NaN  "
      ]
     },
     "execution_count": 7,
     "metadata": {},
     "output_type": "execute_result"
    }
   ],
   "source": [
    "df[df.review.str.find('\\\\')!=-1].head(1)"
   ]
  },
  {
   "cell_type": "code",
   "execution_count": 8,
   "id": "66d6f02f",
   "metadata": {},
   "outputs": [
    {
     "data": {
      "text/plain": [
       "'Took 20mg 3x a day Immediate release worked better than the extended version because I had more control of the med to taper it to my needsschedule during the day Dry mouth leading to some dental cavities Desire to smoke is increased Jawhandfoot clenching Loss of appetite great for keeping thin sometimes have to force myself to eatdrink Ability to focus motivation energy stamina all increased Feeling of wellbeing after being in the black hole of depression My sleep is improved have no trouble going to sleep quells disturbing\\\\busy dreams that used to leave me exhausted in the morning I do not lie awake at night trying to slow down or calm my mind'"
      ]
     },
     "execution_count": 8,
     "metadata": {},
     "output_type": "execute_result"
    }
   ],
   "source": [
    "df.review[85]"
   ]
  },
  {
   "cell_type": "code",
   "execution_count": 9,
   "id": "b5b179c7",
   "metadata": {},
   "outputs": [
    {
     "data": {
      "text/html": [
       "<div>\n",
       "<style scoped>\n",
       "    .dataframe tbody tr th:only-of-type {\n",
       "        vertical-align: middle;\n",
       "    }\n",
       "\n",
       "    .dataframe tbody tr th {\n",
       "        vertical-align: top;\n",
       "    }\n",
       "\n",
       "    .dataframe thead th {\n",
       "        text-align: right;\n",
       "    }\n",
       "</style>\n",
       "<table border=\"1\" class=\"dataframe\">\n",
       "  <thead>\n",
       "    <tr style=\"text-align: right;\">\n",
       "      <th></th>\n",
       "      <th>rating</th>\n",
       "      <th>condition</th>\n",
       "      <th>review</th>\n",
       "      <th>date</th>\n",
       "      <th>drug0</th>\n",
       "      <th>drug1</th>\n",
       "      <th>drug2</th>\n",
       "      <th>drug3</th>\n",
       "      <th>drug4</th>\n",
       "      <th>drug5</th>\n",
       "      <th>drug6</th>\n",
       "      <th>drug7</th>\n",
       "      <th>drug8</th>\n",
       "      <th>drug9</th>\n",
       "      <th>drug10</th>\n",
       "      <th>drug11</th>\n",
       "      <th>drug12</th>\n",
       "      <th>drug13</th>\n",
       "      <th>drug14</th>\n",
       "      <th>drug15</th>\n",
       "    </tr>\n",
       "  </thead>\n",
       "  <tbody>\n",
       "    <tr>\n",
       "      <th>2535</th>\n",
       "      <td>10.0</td>\n",
       "      <td>other</td>\n",
       "      <td>I`ve had Ulcerative Colitis  YOUC  since I was...</td>\n",
       "      <td>2008-06-09</td>\n",
       "      <td>alprazolam</td>\n",
       "      <td>NaN</td>\n",
       "      <td>NaN</td>\n",
       "      <td>NaN</td>\n",
       "      <td>NaN</td>\n",
       "      <td>NaN</td>\n",
       "      <td>NaN</td>\n",
       "      <td>NaN</td>\n",
       "      <td>NaN</td>\n",
       "      <td>NaN</td>\n",
       "      <td>NaN</td>\n",
       "      <td>NaN</td>\n",
       "      <td>NaN</td>\n",
       "      <td>NaN</td>\n",
       "      <td>NaN</td>\n",
       "      <td>NaN</td>\n",
       "    </tr>\n",
       "  </tbody>\n",
       "</table>\n",
       "</div>"
      ],
      "text/plain": [
       "      rating condition                                             review  \\\n",
       "2535    10.0     other  I`ve had Ulcerative Colitis  YOUC  since I was...   \n",
       "\n",
       "            date       drug0 drug1 drug2 drug3 drug4 drug5 drug6 drug7 drug8  \\\n",
       "2535  2008-06-09  alprazolam   NaN   NaN   NaN   NaN   NaN   NaN   NaN   NaN   \n",
       "\n",
       "     drug9 drug10 drug11 drug12 drug13 drug14 drug15  \n",
       "2535   NaN    NaN    NaN    NaN    NaN    NaN    NaN  "
      ]
     },
     "execution_count": 9,
     "metadata": {},
     "output_type": "execute_result"
    }
   ],
   "source": [
    "df[df.review.str.find('`')!=-1].head(1)"
   ]
  },
  {
   "cell_type": "code",
   "execution_count": 10,
   "id": "17fb3f01",
   "metadata": {},
   "outputs": [
    {
     "data": {
      "text/html": [
       "<div>\n",
       "<style scoped>\n",
       "    .dataframe tbody tr th:only-of-type {\n",
       "        vertical-align: middle;\n",
       "    }\n",
       "\n",
       "    .dataframe tbody tr th {\n",
       "        vertical-align: top;\n",
       "    }\n",
       "\n",
       "    .dataframe thead th {\n",
       "        text-align: right;\n",
       "    }\n",
       "</style>\n",
       "<table border=\"1\" class=\"dataframe\">\n",
       "  <thead>\n",
       "    <tr style=\"text-align: right;\">\n",
       "      <th></th>\n",
       "      <th>rating</th>\n",
       "      <th>condition</th>\n",
       "      <th>review</th>\n",
       "      <th>date</th>\n",
       "      <th>drug0</th>\n",
       "      <th>drug1</th>\n",
       "      <th>drug2</th>\n",
       "      <th>drug3</th>\n",
       "      <th>drug4</th>\n",
       "      <th>drug5</th>\n",
       "      <th>drug6</th>\n",
       "      <th>drug7</th>\n",
       "      <th>drug8</th>\n",
       "      <th>drug9</th>\n",
       "      <th>drug10</th>\n",
       "      <th>drug11</th>\n",
       "      <th>drug12</th>\n",
       "      <th>drug13</th>\n",
       "      <th>drug14</th>\n",
       "      <th>drug15</th>\n",
       "    </tr>\n",
       "  </thead>\n",
       "  <tbody>\n",
       "    <tr>\n",
       "      <th>25327</th>\n",
       "      <td>1.0</td>\n",
       "      <td>schizophrenia</td>\n",
       "      <td>I was told that Latuda is a better tablet than...</td>\n",
       "      <td>2016-10-06</td>\n",
       "      <td>lurasidone</td>\n",
       "      <td>latuda</td>\n",
       "      <td>NaN</td>\n",
       "      <td>NaN</td>\n",
       "      <td>NaN</td>\n",
       "      <td>NaN</td>\n",
       "      <td>NaN</td>\n",
       "      <td>NaN</td>\n",
       "      <td>NaN</td>\n",
       "      <td>NaN</td>\n",
       "      <td>NaN</td>\n",
       "      <td>NaN</td>\n",
       "      <td>NaN</td>\n",
       "      <td>NaN</td>\n",
       "      <td>NaN</td>\n",
       "      <td>NaN</td>\n",
       "    </tr>\n",
       "  </tbody>\n",
       "</table>\n",
       "</div>"
      ],
      "text/plain": [
       "       rating      condition  \\\n",
       "25327     1.0  schizophrenia   \n",
       "\n",
       "                                                  review        date  \\\n",
       "25327  I was told that Latuda is a better tablet than...  2016-10-06   \n",
       "\n",
       "            drug0   drug1 drug2 drug3 drug4 drug5 drug6 drug7 drug8 drug9  \\\n",
       "25327  lurasidone  latuda   NaN   NaN   NaN   NaN   NaN   NaN   NaN   NaN   \n",
       "\n",
       "      drug10 drug11 drug12 drug13 drug14 drug15  \n",
       "25327    NaN    NaN    NaN    NaN    NaN    NaN  "
      ]
     },
     "execution_count": 10,
     "metadata": {},
     "output_type": "execute_result"
    }
   ],
   "source": [
    "df[df.review.str.find('\\x7f')!=-1].head(1)"
   ]
  },
  {
   "cell_type": "code",
   "execution_count": 11,
   "id": "4139fdb8",
   "metadata": {},
   "outputs": [
    {
     "data": {
      "text/plain": [
       "'I was told that Latuda is a better tablet than taking my older tablet which is stelazine 10ml a day only side affect was that it made me tired all the time and I was sleeping that is all So I am now on 60ml a day I had side effects bad ones and worse thing happened tonight i have never in my life been so aggressive against\\x7f my daughter and my husband never had I been like that on Stelazine never\\r\\r\\nMy husband was in tears tonight because of my attitude and my aggressive behavior I did not feel any remorse what so ever definitely not a good tablet for me I have both Schizophrenia and Bipolar and depression I do not care how hard it is to get Stelazine but I am going to go back on the stelazine its so much better for me and my family    '"
      ]
     },
     "execution_count": 11,
     "metadata": {},
     "output_type": "execute_result"
    }
   ],
   "source": [
    "df.review[25327]"
   ]
  },
  {
   "cell_type": "code",
   "execution_count": 12,
   "id": "d25079ee",
   "metadata": {},
   "outputs": [
    {
     "data": {
      "text/plain": [
       "'bull  19 April 2016      Began initial dose at 2230 hours Felt the medicine working within a frac12; hour Was in a good mood as I had been taken off of Warfarin this date Before drifting off to sleep I glanced at the clock It was approx 2300 hrs I had an odd feeling in my throat that was possibly closing up I remember worrying what is going on here? As the feeling in my throat persisted I also felt my ldquo Adamrsquo s applerdquo  fluttering and an elevated heart rate I soon fell asleep No other meds taken except for Atorvastatin      bull  20 April 2016        I awoke a 0600 hours to go to the bathroom Upon arising I felt a damp spot at the back of my underwear Pulled the sheets back a discovered I had Shit the bed in my sleep Felt real dizzy and drowsy Thought to myself ldquo how amp  why?rdquo  this happened Went to shower      As the morning continued on at 0630 the side effects were evident    1 ldquo Hot flashesrdquo  Absolutely miserable Could not get  stay comfortable Firstly had the flushing sweats then I would get too cold Turning off the air conditioner and fan for about a half an hour Becoming hot again This has continued on and has not stopped Extremely bad migraines as well since waking and did not let up at all Sensitive to noise light and sounds   2 The same feeling in my throat upon waking I drank water to cool off and see if this would stop And it didnrsquo t   3 My face was tingling all over as well   4 Moderately nauseous upon standing up or sitting down The nausea had continued all day Had a special K cereal bar to ease this up in the morning Having only relief from it less than an hour   5 Tried eat cereal for lunch and discovered unable to eat it at all The taste of it was making me sicker   6 Took two 500 mg acetaminophen at 0700 relief was only slight and the head aches returned less than two hours   7 Overall neck pain eased up and other arthritic symptoms did as well I could definitley tell a difference However the head ache did not         8 Decided to take a dosage during the morning at 1000 hrs To avoid loss of bowel control in my sleep Within about two hours felt it working through my system Same effects I mentioned as before Severe headaches and Nausea all day And of course unbearable hot amp  cold feelings again thinking that these should eventually pass as I become used to it   9 Laid down from 1400 to 1700 to alleviate the symptoms Awoke from the nap and tried to eat dinner One bite made me sick to my stomach Headaches still there    10 Overall felt the same until bedtime as I did all day Will give it one more try tomorrow morning   Did not take any meds except Atorvastatin and two acetaminophen      bull  21 April 2016      Awoke at 0815  No bowel leakage Took another dose of Duloxetine at 1000 Was able to tolerate a cereal bar  Noticed the side effects once again and unable to have a bowel movement within an hour of trying  I will now stop this medication  As I do not feel well at all and its side effects are terrible    '"
      ]
     },
     "execution_count": 12,
     "metadata": {},
     "output_type": "execute_result"
    }
   ],
   "source": [
    "# Remove these tokens wherever they are\n",
    "for symbol in replacements:\n",
    "    df['review'] = df.review.str.replace(symbol, ' ', regex=False)\n",
    "\n",
    "df.review[1600]"
   ]
  },
  {
   "cell_type": "code",
   "execution_count": 13,
   "id": "323a86a6",
   "metadata": {},
   "outputs": [
    {
     "data": {
      "text/plain": [
       "'Took 20mg 3x a day Immediate release worked better than the extended version because I had more control of the med to taper it to my needsschedule during the day Dry mouth leading to some dental cavities Desire to smoke is increased Jawhandfoot clenching Loss of appetite great for keeping thin sometimes have to force myself to eatdrink Ability to focus motivation energy stamina all increased Feeling of wellbeing after being in the black hole of depression My sleep is improved have no trouble going to sleep quells disturbing busy dreams that used to leave me exhausted in the morning I do not lie awake at night trying to slow down or calm my mind'"
      ]
     },
     "execution_count": 13,
     "metadata": {},
     "output_type": "execute_result"
    }
   ],
   "source": [
    "df.review[85]"
   ]
  },
  {
   "cell_type": "code",
   "execution_count": 14,
   "id": "65517350",
   "metadata": {},
   "outputs": [
    {
     "data": {
      "text/plain": [
       "'I ve had Ulcerative Colitis  YOUC  since I was 17 At the age of 25 I thought I was having a heart attack and went to the emergency room I was diagnosed with a panic attack they gave me a XANAX (1mg  No more heart attack Told my doctor the story and with my history of YOUC he prescribed 2mg a day I am now 37 years young and XANAX freed the tyranny of two debilitating conditions    '"
      ]
     },
     "execution_count": 14,
     "metadata": {},
     "output_type": "execute_result"
    }
   ],
   "source": [
    "df.review[2535]"
   ]
  },
  {
   "cell_type": "code",
   "execution_count": 15,
   "id": "d3d30962",
   "metadata": {},
   "outputs": [
    {
     "data": {
      "text/plain": [
       "'I was told that Latuda is a better tablet than taking my older tablet which is stelazine 10ml a day only side affect was that it made me tired all the time and I was sleeping that is all So I am now on 60ml a day I had side effects bad ones and worse thing happened tonight i have never in my life been so aggressive against  my daughter and my husband never had I been like that on Stelazine never   My husband was in tears tonight because of my attitude and my aggressive behavior I did not feel any remorse what so ever definitely not a good tablet for me I have both Schizophrenia and Bipolar and depression I do not care how hard it is to get Stelazine but I am going to go back on the stelazine its so much better for me and my family    '"
      ]
     },
     "execution_count": 15,
     "metadata": {},
     "output_type": "execute_result"
    }
   ],
   "source": [
    "df.review[25327]"
   ]
  },
  {
   "cell_type": "markdown",
   "id": "f9823f4d",
   "metadata": {},
   "source": [
    "'That worked to get rid of the most obviously meaningless symbols. Non-alphabetic characters yet to deal with are: ! # $ ( ) + : ; = ? % 0-9\n",
    "\n",
    "! I'm going to keep wherever it appears because it's so strongly indicative of sentiment.\n",
    "For the rest, I'd like to check out individually and see where exactly they appear. \n",
    "\n",
    "<font color='violet'> Inspect context of characters that may or may not impact basic meaning and sentiment"
   ]
  },
  {
   "cell_type": "code",
   "execution_count": 16,
   "id": "4b68a432",
   "metadata": {},
   "outputs": [
    {
     "data": {
      "text/plain": [
       "125     I am on day #10 of this medication and the sid...\n",
       "2519    Of the nonbenzodiazepeine antianxiety agents V...\n",
       "2750    Been taking buspirone on and off for 15 years ...\n",
       "2796    I have just started this med  I have a spinal ...\n",
       "3339    From Day One the very first dose of Suboxone I...\n",
       "Name: review, dtype: object"
      ]
     },
     "execution_count": 16,
     "metadata": {},
     "output_type": "execute_result"
    }
   ],
   "source": [
    "df[df.review.str.find('#')!=-1].review.head()"
   ]
  },
  {
   "cell_type": "code",
   "execution_count": 17,
   "id": "681f1451",
   "metadata": {},
   "outputs": [
    {
     "data": {
      "text/plain": [
       "59"
      ]
     },
     "execution_count": 17,
     "metadata": {},
     "output_type": "execute_result"
    }
   ],
   "source": [
    "len(df[df.review.str.find('#')!=-1])"
   ]
  },
  {
   "cell_type": "code",
   "execution_count": 18,
   "id": "2bb87eda",
   "metadata": {},
   "outputs": [
    {
     "data": {
      "text/plain": [
       "'I Have been on Methadone for over ten years and currentlyI am trying to get off of this drug I Have been decreasing my does 2 mgs per month for over a year I am at 3 mgs and really starting to feel the withdrawI do not plan to get my next 30 dosesbecause its almost rediculous how little it does for me I have 3 does doses of 3 mg and I Am terrified Can anyone give me some truthful encouragement?    '"
      ]
     },
     "execution_count": 18,
     "metadata": {},
     "output_type": "execute_result"
    }
   ],
   "source": [
    "# the # symbol appears frequently. Does it provide meaningful content?\n",
    "df.review[109]"
   ]
  },
  {
   "cell_type": "code",
   "execution_count": 19,
   "id": "3aa167d0",
   "metadata": {},
   "outputs": [
    {
     "data": {
      "text/plain": [
       "'I smoked for 50+ years  Took it for one week and that was it  I did not think it was possible for me to quit  It has been 6 years now  Great product    '"
      ]
     },
     "execution_count": 19,
     "metadata": {},
     "output_type": "execute_result"
    }
   ],
   "source": [
    "df.review[112]"
   ]
  },
  {
   "cell_type": "markdown",
   "id": "d1c6bf73",
   "metadata": {},
   "source": [
    "In all of the first few reviews where it appears, the # is just a glitch, a placeholder for an apostrophe. Any value it might add to the rare review where somebody may have been trying to make some sort of point by using the vernacular of adding a hashtag for emphasis isn't worth it. Get rid of all the #\n",
    "\n",
    "Next, look into $"
   ]
  },
  {
   "cell_type": "code",
   "execution_count": 20,
   "id": "593942e4",
   "metadata": {},
   "outputs": [
    {
     "data": {
      "text/plain": [
       "22     Unfortunately I had a doctor who was uneducate...\n",
       "33     Unpleasant !   By the way is it normal to pay ...\n",
       "37     Vyvanse is a new medication used to treat ADHD...\n",
       "93     When i first started going to the methadone cl...\n",
       "160    Horrible side effects! I tried Ciprelex  escit...\n",
       "Name: review, dtype: object"
      ]
     },
     "execution_count": 20,
     "metadata": {},
     "output_type": "execute_result"
    }
   ],
   "source": [
    "df[df.review.str.find('$')!=-1].review.head()"
   ]
  },
  {
   "cell_type": "code",
   "execution_count": 21,
   "id": "4abfce35",
   "metadata": {},
   "outputs": [
    {
     "data": {
      "text/plain": [
       "329"
      ]
     },
     "execution_count": 21,
     "metadata": {},
     "output_type": "execute_result"
    }
   ],
   "source": [
    "len(df[df.review.str.find('$')!=-1])"
   ]
  },
  {
   "cell_type": "code",
   "execution_count": 22,
   "id": "c99c7b00",
   "metadata": {},
   "outputs": [
    {
     "data": {
      "text/plain": [
       "'Unfortunately I had a doctor who was uneducated about ADD and was very uncomfortable prescribing any medications for it She put me on 10mg firstAfter 34 weeks I went back and asked for her to increase it She prescribed 20mg which I found they do not make 20mg doses  Instead of changing it to a proper mg she decided to have me take 2 10mg pills every morning which also doubled the cost and that amount was not enough to have much benefit After about a year  I was finally prescribed a therapeutic dosage of 40mg I had too many problems with the pharmacy ordering the right amount ( they had me take 4 10mg pills a day because they did not order the right ones! I have no health insurance so was getting it on some program that made it cost me $6 but when they would screw up the order  I would either run out or have to get the full amount which was $13000 at the 10mgs so X 2 for 20mg x 4 for 40mgs!! Just because of the way the pharmacy was doing itScamming the federal programs or  somethingso I finally just quit taking it I definately had noticed that it made pee without barely any warning and my eyesight got alot worse and my fiance said it made me mean All that has stopped now that I am not on it But my ADD is back full force! Blurry vision increased bladder leaksmoodiness a little weight gain which may not be from Strattera I was much more awake in the mornings instead of groggy and foggy brained I was able to focus a LITTLE bit better'"
      ]
     },
     "execution_count": 22,
     "metadata": {},
     "output_type": "execute_result"
    }
   ],
   "source": [
    "df.review[22]"
   ]
  },
  {
   "cell_type": "code",
   "execution_count": 23,
   "id": "08b02b87",
   "metadata": {},
   "outputs": [
    {
     "data": {
      "text/plain": [
       "'Unpleasant !   By the way is it normal to pay to see the psychiatrist around 150 $ for monthly renewal and says he does not take insurance How do other people handle this   I invite you to answer me at fionahopes to hotmail NOW day 3 up to now  I feel mostly the side effects such as nausea physical numbness and irritated and NO effect of increase on attention   I am paying attention as to know if I should continue or try something else or live without it as I always did Very unpleasant !!! Women seem to do great on Aderall The 2 first day we are fantastic I was easy going task did not birding me and I would overall say that my focus was good However my well being was so great that I was mostly in my mind with great Joy'"
      ]
     },
     "execution_count": 23,
     "metadata": {},
     "output_type": "execute_result"
    }
   ],
   "source": [
    "df.review[33]"
   ]
  },
  {
   "cell_type": "code",
   "execution_count": 24,
   "id": "e3526bcb",
   "metadata": {},
   "outputs": [
    {
     "data": {
      "text/plain": [
       "'Vyvanse is a new medication used to treat ADHD  It is a timereleased capsule  It is easy to swallow  no bad taste like pressed pills  and does not upset your stomach  I took one 70mg pill in the morning  The pill releases the drug slowly so you are not hit with all of it at one time  This allows for the medicine to be equally effective all day not just for a few hours I did NOT have any of the normal ADHD med side effects such as  rapid heart rate anxiety jittery feeling  The only downside to this medication is the cost  Since Vyvanse is new there is no generic for it  I paid $160month for 30 pills! I was selfpay though so I am sure having insurance would be ideal! Although it is very expensive it is well worth it I had no side effects with this drug!  I loved it Sustained focus improvement in attention span and greater achievement of daily tasks  Easy to take just one pill a day!'"
      ]
     },
     "execution_count": 24,
     "metadata": {},
     "output_type": "execute_result"
    }
   ],
   "source": [
    "df.review[37]"
   ]
  },
  {
   "cell_type": "markdown",
   "id": "4103b1ff",
   "metadata": {},
   "source": [
    "So far, every time '$' appears, somebody is just talking about how much something costs, which seems like meaningful content. Keep the dolar sign intact. \n",
    "\n",
    "Find all the (\n",
    "\n",
    "My assumption has been that this might appear as part of an emoji. Does that assumption even hold true?"
   ]
  },
  {
   "cell_type": "code",
   "execution_count": 25,
   "id": "aebb5c4b",
   "metadata": {},
   "outputs": [
    {
     "data": {
      "text/plain": [
       "66"
      ]
     },
     "execution_count": 25,
     "metadata": {},
     "output_type": "execute_result"
    }
   ],
   "source": [
    "len(df[df.review.str.find(':(')!=-1])"
   ]
  },
  {
   "cell_type": "code",
   "execution_count": 26,
   "id": "2907af0f",
   "metadata": {},
   "outputs": [
    {
     "data": {
      "text/plain": [
       "13    With or without this medication I am a philoso...\n",
       "22    Unfortunately I had a doctor who was uneducate...\n",
       "31    On 91811 I was prescribed (30) 30mg Vyvanse fo...\n",
       "71    I take a 30 mg pill shortly after waking and w...\n",
       "74    I seemed to metabolized the drug quickly Onset...\n",
       "Name: review, dtype: object"
      ]
     },
     "execution_count": 26,
     "metadata": {},
     "output_type": "execute_result"
    }
   ],
   "source": [
    "# Yes, there are 66 :( emoji alone. Find where else the ( symbol still appears.\n",
    "df[df.review.str.find('(')!=-1].review.head()"
   ]
  },
  {
   "cell_type": "code",
   "execution_count": 27,
   "id": "9da8807c",
   "metadata": {},
   "outputs": [
    {
     "data": {
      "text/plain": [
       "'With or without this medication I am a philosopher So I will be explain how the drug works on me from a philosophical assessment      Background    I had taken Strattera for three years (20052007) where it helped control ADD where I had difficulty doing so It helped me focus stay organized manage relations and most or all of the benefits I listed prior I dropped the drug for 3 years so that I may learn how to control my ADD without the help of medication During those three years I gained remarkable self control in overcoming ADD However I got to the point where I could not win over ADD which was losing focus randomly During college lectures that I found very intriguing I would often zone outspace out when I could not have been more interested in what was being professed The frustration of this led me to conclude that medical assistance was the best choice      On the drug    I read and understand that the  generally  biggest conside effectto this drug is that there is some sort of depressive or suicidal figure involved From an evaluative standpoint of myself I have concluded that my desire for happiness is lowered from where it was prior to the drug In other words if I felt a need for a happiness at a 9th strength before I now had the need for happiness at a 5th strength Since happiness to me and most I would say is the driving force for existence in life a lessened desire for it would lead to two results Lessened feeling for the needing to existlive and feeling less depressed  because I now do not need to be happy as much as before       Understand that this drug does not control me I control this drug I suggest that while you take the medication you assert a greater selfawareness As you examine how it affects you you can understand when you are thinking naturally or by the drug Lower regard for selfvalue naturally depressive concepts seem less farfetched appear less happy Greater focus stronger commitment lessened stress improved selfconfidence goal setting less depressed better organization and memory  as in remembering events  clearer in thought and expression thereof'"
      ]
     },
     "execution_count": 27,
     "metadata": {},
     "output_type": "execute_result"
    }
   ],
   "source": [
    "df.review[13]"
   ]
  },
  {
   "cell_type": "markdown",
   "id": "4b1d75e6",
   "metadata": {},
   "source": [
    "The ( and ) were previously removed when adjacent to eltters but are now still present around numbers. Work to delete them from those contexts as well. Possibly with all the number they're around, possibly not.\n",
    "\n",
    "Check :"
   ]
  },
  {
   "cell_type": "code",
   "execution_count": 28,
   "id": "629e1770",
   "metadata": {},
   "outputs": [
    {
     "data": {
      "text/plain": [
       "64    1 pill 30 mg Vyvanse as needed I never take mo...\n",
       "81    My prescriber and I went through about 3 diffe...\n",
       "91    i was prescribed 60 tablets of 20 mg he told m...\n",
       "93    When i first started going to the methadone cl...\n",
       "96    One pill daily as soon as I wake up Decreased ...\n",
       "Name: review, dtype: object"
      ]
     },
     "execution_count": 28,
     "metadata": {},
     "output_type": "execute_result"
    }
   ],
   "source": [
    "df[df.review.str.find(':')!=-1].review.head()"
   ]
  },
  {
   "cell_type": "code",
   "execution_count": 29,
   "id": "7432be2d",
   "metadata": {},
   "outputs": [
    {
     "data": {
      "text/plain": [
       "'1 pill 30 mg Vyvanse as needed I never take more than the prescribed amount  not trying to get addicted here  This treatment is concurrent with my ongoing treatment for chronic depression A little bit of sleeplessness at first I take Vyvanse in the morning at around 5:30 to fix this I just set my alarm take the pill with a glass of water and go back to sleep for an hour I then wake up around 7 without any problems Although I had mild sleep problems the first two days of taking Vyvanse I had virtually no side effects Granted my dose was low but I had a hard time concentrating and summoning up the energy to do basic things like paying bills etc Vyvanse is no wonder drug but I live pretty much like everyone else now which is great My mother is stunned She says this is the first time she is ever been able to ask me where things are in my apartment and have me know  and be right  I take a medication holiday from Vyvanse most weekends and actual work holidays when I do not need to be able to concentrate'"
      ]
     },
     "execution_count": 29,
     "metadata": {},
     "output_type": "execute_result"
    }
   ],
   "source": [
    "df.review[64]"
   ]
  },
  {
   "cell_type": "code",
   "execution_count": 30,
   "id": "a2a39566",
   "metadata": {},
   "outputs": [
    {
     "data": {
      "text/plain": [
       "'My prescriber and I went through about 3 different medications before Adderall and those did have unpleasant side effects such as sweaty palms  all the time  dizziness and heart palpitations  Once I found that Adderall did not because side effects for me we gradually increased the dosage from 5 mg to 10mg and then back down to 75 mg which works best for me I did not notice any side effects from Adderall  However it is metabolized very quickly and only stays effective for about 3 to 4 hours  Forgetting to take the second dose around 1:00pm makes for a confusing afternoon until I remember to take it Adderall greatly improved my focus and concentration  Before my diagnosis of adult ADD I had a very difficult time focusing and staying on task  I also experienced hyperfocusing which prevented me from getting things done at work in a timely manner  It has also helped improved my memory'"
      ]
     },
     "execution_count": 30,
     "metadata": {},
     "output_type": "execute_result"
    }
   ],
   "source": [
    "df.review[81]"
   ]
  },
  {
   "cell_type": "code",
   "execution_count": 31,
   "id": "12e9a7c8",
   "metadata": {},
   "outputs": [
    {
     "data": {
      "text/plain": [
       "'i was prescribed 60 tablets of 20 mg he told me to experiment myself as to what dosage worked for me not exceeding 2 whole pills daily normally i take one whole pill in the morning at 6:307  12 at 12 and 12 before work at 4 pm sometimes on the weekend i will only take 1 because i try to have extras in case needed at another time  i do not want to build up tolerance dry mouth sometimes slight headaches but not completely sure if its just from medicatation or being tired as i do have a very busy schedule ability to stay awake focus do daily household chores run needed errands  helped my organizational skills as far as bills'"
      ]
     },
     "execution_count": 31,
     "metadata": {},
     "output_type": "execute_result"
    }
   ],
   "source": [
    "df.review[91]"
   ]
  },
  {
   "cell_type": "markdown",
   "id": "3efb2d1e",
   "metadata": {},
   "source": [
    "All of the first few : appear as part of a timestamp, which it makes sense to keep. There could be other occurances that aren't at all meaningful, such as if a stray : is hanging out adjacent to neither letter (already taken care of in the previous notebook) nor a number (keep it when that's the case) nor another symbol (also keep it here). Check this out. "
   ]
  },
  {
   "cell_type": "code",
   "execution_count": 32,
   "id": "e10bb007",
   "metadata": {},
   "outputs": [
    {
     "data": {
      "text/plain": [
       "591     I was on this firstly for social anxiety disor...\n",
       "850     It caused severe anxiety attacks along with ot...\n",
       "1212    Hi there I am 35 years old male have strong an...\n",
       "1383    Took my first dose last night before dinner I ...\n",
       "2083    Pristiq has significantly helped my depression...\n",
       "Name: review, dtype: object"
      ]
     },
     "execution_count": 32,
     "metadata": {},
     "output_type": "execute_result"
    }
   ],
   "source": [
    "df[df.review.str.find(' : ')!=-1].review.head()"
   ]
  },
  {
   "cell_type": "code",
   "execution_count": 33,
   "id": "91dc78f0",
   "metadata": {},
   "outputs": [
    {
     "data": {
      "text/plain": [
       "'I was on this firstly for social anxiety disorder  after 1 month I felt pleased happy and had interest in doing any thing then I concluded that I had mild depression but it has done nothing for my SAD  but it helped by giving me the desire to socialize  my ratings : 10 for depression and 6 for SAD    '"
      ]
     },
     "execution_count": 33,
     "metadata": {},
     "output_type": "execute_result"
    }
   ],
   "source": [
    "df.review[591]"
   ]
  },
  {
   "cell_type": "markdown",
   "id": "aad1122d",
   "metadata": {},
   "source": [
    "Delete the symbool : if it appears surrounded by spaces. Now, see where ; appears"
   ]
  },
  {
   "cell_type": "code",
   "execution_count": 34,
   "id": "68cf729e",
   "metadata": {},
   "outputs": [
    {
     "data": {
      "text/plain": [
       "6       So far the throwing up has stopped and the hea...\n",
       "523     I have been on seroquel twice now I was hearin...\n",
       "532     I have been on seroquel twice now I was hearin...\n",
       "1335    1) Severe anxiety  2) social anxiety disorder ...\n",
       "1456    Never written a review in my life Was often on...\n",
       "Name: review, dtype: object"
      ]
     },
     "execution_count": 34,
     "metadata": {},
     "output_type": "execute_result"
    }
   ],
   "source": [
    "# All of the : in the first few examples are part of a time. Keep those. Check out ;\n",
    "df[df.review.str.find(';')!=-1].review.head()"
   ]
  },
  {
   "cell_type": "code",
   "execution_count": 35,
   "id": "dcfb41c9",
   "metadata": {},
   "outputs": [
    {
     "data": {
      "text/plain": [
       "'I suffer from OCD and intrusivecompulsive thoughts that create almost unbearable anxiety In Oct 11 I was prescribed Zoloft and found it to work incredibly On 100mg my OCD is 8590% gone and I can easily rationalize and even blow off my intrusivecompulsive thoughts about 95% of the time I felt better within a week but it did take 34 weeks for me to notice its full effect I would describe the feeling it gives as light airy and happydrifty I have not experienced any side effects and have not gained any weight On a side note I also found that one huge factor contributing to my anxiety is too much caffeine even when taking Zoloft  I still have one cup of coffee to wake up in the morning but I have found that is my strict limit     '"
      ]
     },
     "execution_count": 35,
     "metadata": {},
     "output_type": "execute_result"
    }
   ],
   "source": [
    "df.review[163]"
   ]
  },
  {
   "cell_type": "code",
   "execution_count": 36,
   "id": "374a9bf2",
   "metadata": {},
   "outputs": [
    {
     "data": {
      "text/plain": [
       "'Wellbutrin works well for the type of depression recently crippling me  That I Do not Want to Get Out of Bed and Face Yet Another Horrible Day  I Just Want to Give Up type of depression Wellbutrin for me erases those bad feelings and does so very quickly Within 4 hours of my first dose my confidence came surging back The rapidity of action is due to the unique way it works  it is not the typical antidepressant      Wellbutrin has side effects but none harsh enough to stop me from taking it regular The side effects I experience is  a  a tense feeling  physically  and  b  kind of a chemical taste in my mouth But there is no blurred vision no zombie feeling and no terribly dry mouth The payoff is worth it    '"
      ]
     },
     "execution_count": 36,
     "metadata": {},
     "output_type": "execute_result"
    }
   ],
   "source": [
    "df.review[193]"
   ]
  },
  {
   "cell_type": "code",
   "execution_count": 37,
   "id": "0af1026e",
   "metadata": {},
   "outputs": [
    {
     "data": {
      "text/plain": [
       "'Today is my 3rd day on medication I was prescribed it for social anxiety  despite being a beautiful 62 male with no reason to be anxious about appearance  generalized anxiety and panic attacks Talking to people in malls convenience stores and being around large groups of people frighten me I have not noticed much of a difference other than lack of sleep crazy amazing lucid dreams for the first two nights and my jaw clenching So far no effect on anxiety and took a benzo because I Am feeling restless but still feeling restless right now I pray this works as I Am unable to work now due to my anxiety I Have always had anxiety but after having mono for 2 months it has spiraled completely out of control I will update this soon Please work!    '"
      ]
     },
     "execution_count": 37,
     "metadata": {},
     "output_type": "execute_result"
    }
   ],
   "source": [
    "df.review[242]"
   ]
  },
  {
   "cell_type": "markdown",
   "id": "47b521ba",
   "metadata": {},
   "source": [
    "It seems that apart from where it appears in emoji, the ; has no meaningful context. It's already been deleted from next to letters. It should definitely be deleted from where it appears in between two other characters. In one example, it follows a number, and in emoji it is usually preceding another symbol or number as in ;) or ;0, so delete it wherever it just follows another character, as well. What about where it precedes a number as in ;0. Is that even a common occurrance, or when that happens is there just more nonsense happening?\n"
   ]
  },
  {
   "cell_type": "code",
   "execution_count": 38,
   "id": "5eead7fd",
   "metadata": {},
   "outputs": [
    {
     "data": {
      "text/plain": [
       "12047    I took one 3mg Lunesta at 9;00 pm IT IS NOW 4:...\n",
       "14480    I was waking up and depressed until around 10;...\n",
       "Name: review, dtype: object"
      ]
     },
     "execution_count": 38,
     "metadata": {},
     "output_type": "execute_result"
    }
   ],
   "source": [
    "df[df.review.str.find(';0')!=-1].review"
   ]
  },
  {
   "cell_type": "code",
   "execution_count": 39,
   "id": "25a67c54",
   "metadata": {},
   "outputs": [
    {
     "data": {
      "text/plain": [
       "'I currently have my 2nd Vantas Implant and am very discourged with what i believe are negative side effects I had a Radical protetecomy in June 04 nerve sparing  then went through 40 radiation treatments due to the fact my PSA continued to elevate ( ever so slightly ) My Dr recommended the implant it has in my opinion dramatically decreased my sex drive and created a serious problem of erectile dysfunction due to the fact that it reduces your level of testosterone dramatically    '"
      ]
     },
     "execution_count": 39,
     "metadata": {},
     "output_type": "execute_result"
    }
   ],
   "source": [
    "df.review[761]"
   ]
  },
  {
   "cell_type": "code",
   "execution_count": 40,
   "id": "cdfe3e32",
   "metadata": {},
   "outputs": [
    {
     "data": {
      "text/plain": [
       "'I was prescribed this a few months ago getting anxiety while driving The prescription is 05 mg once a day as neededquot  I have taken it about 35 times a week a few times I have taken it twice a day I have been having family issues recently and I first thought that was the reason my occasional anxiety has progressed to debilitating  flying off the handle depressive dying thoughts chest pains  but  after research I have concluded that I am actually going through withdrawal when I do not take it everyday Now it is 2:36 AM I am scared mind will not shut off  do not know how to wean off of this properly I am  tired will be calling into work in the morning for lack of sleep Please do not take this and just get counselling for your anxiety first    '"
      ]
     },
     "execution_count": 40,
     "metadata": {},
     "output_type": "execute_result"
    }
   ],
   "source": [
    "df.review[3511]"
   ]
  },
  {
   "cell_type": "code",
   "execution_count": 41,
   "id": "093ff4a3",
   "metadata": {},
   "outputs": [
    {
     "data": {
      "text/plain": [
       "'My mom died when I was 4 and last semester I always had anxiety in the background and now at 15 spring semester of 08 I had some mild panic attacks and worry nervousness sadness and excessive shyness all day long This medication is a life saver and I love it They say 8 weeks for the full effect and sure it might rebalance your chemicals in 8 weeks but give it a chance as it still takes a while after that for you to break out of your she will    '"
      ]
     },
     "execution_count": 41,
     "metadata": {},
     "output_type": "execute_result"
    }
   ],
   "source": [
    "df.review[4406]"
   ]
  },
  {
   "cell_type": "markdown",
   "id": "8d5cf469",
   "metadata": {},
   "source": [
    "These are nonsense. The ; should be deleted anyplace it is adjacent to any number or hanging out by itself. It should only be kept where it appears adjacent to another symbol. \n",
    "\n",
    "<font color='violet'> Remaining to investigate: + = ? % 0-9"
   ]
  },
  {
   "cell_type": "code",
   "execution_count": 42,
   "id": "22f0319e",
   "metadata": {},
   "outputs": [
    {
     "data": {
      "text/plain": [
       "98     Started off taking concerta for add related is...\n",
       "112    I smoked for 50+ years  Took it for one week a...\n",
       "116    This medication should not be being prescribed...\n",
       "189    I was prescribed Ambien then later Ambien CR f...\n",
       "316    Dealing with PTSD for 20+ years has been a blu...\n",
       "Name: review, dtype: object"
      ]
     },
     "execution_count": 42,
     "metadata": {},
     "output_type": "execute_result"
    }
   ],
   "source": [
    "df[df.review.str.find('+')!=-1].review.head()"
   ]
  },
  {
   "cell_type": "code",
   "execution_count": 43,
   "id": "a8c1a93e",
   "metadata": {},
   "outputs": [
    {
     "data": {
      "text/plain": [
       "'Started off taking concerta for add related issues but had become dependent and tolerant to the dosage then went on strattera for a few months but had severe sideeffects now on wellbutrin xl for 6 months with relative success magnified anxiety over future stressfull tasks possible hair loss Increased learning capability + focus happier'"
      ]
     },
     "execution_count": 43,
     "metadata": {},
     "output_type": "execute_result"
    }
   ],
   "source": [
    "df.review[98]"
   ]
  },
  {
   "cell_type": "code",
   "execution_count": 44,
   "id": "38e54f81",
   "metadata": {},
   "outputs": [
    {
     "data": {
      "text/plain": [
       "'I smoked for 50+ years  Took it for one week and that was it  I did not think it was possible for me to quit  It has been 6 years now  Great product    '"
      ]
     },
     "execution_count": 44,
     "metadata": {},
     "output_type": "execute_result"
    }
   ],
   "source": [
    "df.review[112]"
   ]
  },
  {
   "cell_type": "code",
   "execution_count": 45,
   "id": "057d282c",
   "metadata": {},
   "outputs": [
    {
     "data": {
      "text/plain": [
       "'This medication should not be being prescribed for Bipolar 2 a milder form of a different illness called Biploar 1 for which this medication works very well Folks Doctors NEED to be using SCIENCE to treat illnesses not giving out random prescriptions for 2+ medications for 1 illness If your Doctor is not doing monthly blood tests AT LEAST to see how the medications are affecting your body chemistry and serotonin levels then you need to fire the Doctor and find one who does do hisher job the right way and who is good at the science part of the job Every medication you take counteracts and interacts with the other medications and the foods and other things that you put into your body each day messing with the chemistry of your body    '"
      ]
     },
     "execution_count": 45,
     "metadata": {},
     "output_type": "execute_result"
    }
   ],
   "source": [
    "df.review[116]"
   ]
  },
  {
   "cell_type": "code",
   "execution_count": 46,
   "id": "24a48a88",
   "metadata": {},
   "outputs": [
    {
     "data": {
      "text/plain": [
       "122     Coming from a very problematic childhood I hav...\n",
       "828     Paxil is good at first but the quot goodquot  ...\n",
       "1791    I agree w Triple Dee This drug=the worst It  w...\n",
       "2017    Citalopram has literally given me my life back...\n",
       "2031    I Have always been skinny but not to a point w...\n",
       "Name: review, dtype: object"
      ]
     },
     "execution_count": 46,
     "metadata": {},
     "output_type": "execute_result"
    }
   ],
   "source": [
    "# So far all the + seem to add meaning to text. Check out =\n",
    "df[df.review.str.find('=')!=-1].review.head()"
   ]
  },
  {
   "cell_type": "code",
   "execution_count": 47,
   "id": "df2e4a2c",
   "metadata": {},
   "outputs": [
    {
     "data": {
      "text/plain": [
       "'Coming from a very problematic childhood I have been labeled everything from A to Z by psychiatrists and given a slew of meds Wellbutrin in my experience has been beyond beneficial At first for the first week or two I had slight tremors irregular heartbeat major insomnia and headaches but dismissed I still have slight insomnia which is why I take them when I wake up But reading comprehension multitasking thought focus and moods overall have dramatically improved! I am one of those people that may have to take them for the rest of my life but I am not complaining =) One thing that does bother me though is dry mouth from wellbutrin but I take biotene which helps a bit Enough to make it worth it anyways lol    '"
      ]
     },
     "execution_count": 47,
     "metadata": {},
     "output_type": "execute_result"
    }
   ],
   "source": [
    "df.review[122]"
   ]
  },
  {
   "cell_type": "code",
   "execution_count": 48,
   "id": "1c5185c8",
   "metadata": {},
   "outputs": [
    {
     "data": {
      "text/plain": [
       "'Paxil is good at first but the quot goodquot  influence will wear out as soon as your body get used to it While on it I felt confident but only on the surface  the med alleviates the physical aspects of SA  On the inside however I am filled with self doubt negative thoughts jealousy of naturally confident people etc It also made me  careless  not give a damn about socializing so I am less interested in social situations = more isolated = fear peoples views of me Anyways please do not consider taking it as it is only a temporary fix I was dumb enough to believe the success stories written here and tried it I now have trouble quitting because of the nasty withdrawal symptom    '"
      ]
     },
     "execution_count": 48,
     "metadata": {},
     "output_type": "execute_result"
    }
   ],
   "source": [
    "df.review[828]"
   ]
  },
  {
   "cell_type": "code",
   "execution_count": 49,
   "id": "059bb8f8",
   "metadata": {},
   "outputs": [
    {
     "data": {
      "text/plain": [
       "'I agree w Triple Dee This drug=the worst It  was suppose to help psychotics It turned me into a zombie Also turned me into a compulsive shopper which can be accomplished from the couch I became glued to due to my zombie state With no motivation my house was a mess And the eating!!! OMG I gained a pound a day I have clinical depression amp  massive anxiety I take 40mg of Viibryd Tough tough drug to get on in the beginning but I stuck to it amp  it is been a blessing No sexual or eating side effects I went on 450 WellButrin to survive Midwest winters I stay on it year round AnxietyI take Xanaxfour 5 pills a day3  bedtime amp  I split the 4th12 in the morning  12 at dinner Do not want all these drugs but they keep me going amp  productive    '"
      ]
     },
     "execution_count": 49,
     "metadata": {},
     "output_type": "execute_result"
    }
   ],
   "source": [
    "df.review[1791]"
   ]
  },
  {
   "cell_type": "code",
   "execution_count": 50,
   "id": "56bbfc66",
   "metadata": {},
   "outputs": [
    {
     "data": {
      "text/plain": [
       "49     I returned to school midcareer when I saw the ...\n",
       "62     Afterbreaking for 3 months and receiving antib...\n",
       "80     already described above  I do not believe in p...\n",
       "100    I was diagnosed with ADHD in college and have ...\n",
       "109    I Have been on Methadone for over ten years an...\n",
       "Name: review, dtype: object"
      ]
     },
     "execution_count": 50,
     "metadata": {},
     "output_type": "execute_result"
    }
   ],
   "source": [
    "# Keep '='. Check out ?\n",
    "df[df.review.str.find('?')!=-1].review.head()"
   ]
  },
  {
   "cell_type": "code",
   "execution_count": 51,
   "id": "ce102bc7",
   "metadata": {},
   "outputs": [
    {
     "data": {
      "text/plain": [
       "'I returned to school midcareer when I saw the economy tanking I was unable to grasp the rudiments  law rigorous despite many hours of studying and reading During that time my father died I was depressed and close to failing out I went through therapy and asked about ADD meds I took a test showing attention and memory lapses Doc prescribed 60 mg I could tell an immediate difference My grades improved dramatically which was specifically the result I wanted I now take 70 mg and intend to until graduating and taking the big test in October 11 After that I hope to stop taking it I am not certain that it is effective over 6 months It seems that one might build up a tolerance to the effectiveness This most recent semester my memory seemed to be where it was before I started taking it but I have not found out yet Slow production overconcentration?)   Heart palpitations  occasional esp with caffeine    Pharmacy information says may be habit forming and not recommended for people with a history of drug abuse If alcohol and tobacco habits are considered drug abuse then smokers and drinkers  incl coffee  may be more vulnerable to forming a habit   Loss of appetite I went to therapy and asked about ADD meds I took a test showing attention and memory lapses Doc gave me 60 mg my grades improved dramatically which was specifically the result I wanted Furthermore I got far more done outside of school coincidentally'"
      ]
     },
     "execution_count": 51,
     "metadata": {},
     "output_type": "execute_result"
    }
   ],
   "source": [
    "df.review[49]"
   ]
  },
  {
   "cell_type": "code",
   "execution_count": 52,
   "id": "4e870c0e",
   "metadata": {},
   "outputs": [
    {
     "data": {
      "text/plain": [
       "'Afterbreaking for 3 months and receiving antibiotics treatment for the chest problem resumed strattera 60mg till current however currently though with earlier benefits I have a feeling of getting stuck and hypoerfocussing on things that interest me like browsing listening to music etc and lack of the initial kick to complete tasts and look at things in details Can someone help adviseshould my dosage be increased to 80mg or more? I weigh 80kg My dosing has not been basd on weight ED ejaculation when urinating dry mouth stomach upsets sweatingincreased temperatures Chills and Fevers  difficulty breathing at 9th month problems with right lung side and had to request Dr to stop Suffered Effusion on the right sideDry Eyes Started with Fluoxetine for 2 year befoe starting Strattera Initial benefits  Feeling of urgency to complete work Morefocus on details Less emotional labilityFeeling in control Less forgettingLess anxiety panic stopped completely depressive moods disappeared appearing occasionally Took once a week counselling ADHD dicussion groups before and during starteera therapy'"
      ]
     },
     "execution_count": 52,
     "metadata": {},
     "output_type": "execute_result"
    }
   ],
   "source": [
    "df.review[62]"
   ]
  },
  {
   "cell_type": "code",
   "execution_count": 53,
   "id": "052d1bf5",
   "metadata": {},
   "outputs": [
    {
     "data": {
      "text/plain": [
       "'already described above  I do not believe in pharmacuticals for neurological disorders      Supplements can provide benefits but the process is long and expensive  There is not standard cure   for any central nervous condition  It takes time and reading and research and taking a pill is only a short term solution  I had allergies and my homeopathic doctor cleared my pathways that were not getting nutrients to my brain  I am now dieting and staying away from gluten and lactose and processed food      I am doing detoxing and find with all the natural changes I have increased energy and do not have to depend on drugs      Who know what the side effects are?  I could have aged my liver when my doctor increase dexedrine to 30 mg I got speed but not the focus and I became OCDseriously   It kept me up all night      Effexor which i took for 10 years numbs you out  I was on 75 mg for add and depression  I did cure depression but not really the add Dexedrine as well as effexor I found for my add works well the first few times then the efficacy wears   off because of tolerance      So now I take supplements and find they work just as well but take 2 months to feel effects'"
      ]
     },
     "execution_count": 53,
     "metadata": {},
     "output_type": "execute_result"
    }
   ],
   "source": [
    "df.review[80]"
   ]
  },
  {
   "cell_type": "markdown",
   "id": "4abdd2af",
   "metadata": {},
   "source": [
    "The ? are seemingly mostly used when there is an actual question. I'm unsure what's best here, as I imagine somebody asking a question could impact sentiment, but I'm not sure to what degree. The ? doesn't hold literal meaning the way + = $ do. But, since I'm keeping some special symbols anyway, and since ? could be meaningful, I'll keep them. \n",
    "\n",
    "Check out %"
   ]
  },
  {
   "cell_type": "code",
   "execution_count": 54,
   "id": "d6854b07",
   "metadata": {},
   "outputs": [
    {
     "data": {
      "text/plain": [
       "34     recd speed but no focus I took the dexerine in...\n",
       "43     I have been on antidepression meds for 15 year...\n",
       "118    I am a 25 year old female I was diagnosed with...\n",
       "137    I lost my sexuality from the first pill overni...\n",
       "163    I suffer from OCD and intrusivecompulsive thou...\n",
       "Name: review, dtype: object"
      ]
     },
     "execution_count": 54,
     "metadata": {},
     "output_type": "execute_result"
    }
   ],
   "source": [
    "df[df.review.str.find('%')!=-1].review.head()"
   ]
  },
  {
   "cell_type": "code",
   "execution_count": 55,
   "id": "d4a34f43",
   "metadata": {},
   "outputs": [
    {
     "data": {
      "text/plain": [
       "'recd speed but no focus I took the dexerine in morning and it wears off at   night  I lost weight for the first time as the metabolism was great sadly   i gained 15 lbs off the same diet insomnia I got obsessive complusive and had to stop  I also think I have a bit   of liver damage of taking meds over 10 years  I only took dexedrine for a few months weight loss right away  I felt it working in brain right away but lost the efficacy when I built my tolerance  My MD gave me more and the same thing happened      Meds do not cure add 100% so now I take supplements'"
      ]
     },
     "execution_count": 55,
     "metadata": {},
     "output_type": "execute_result"
    }
   ],
   "source": [
    "df.review[34]"
   ]
  },
  {
   "cell_type": "code",
   "execution_count": 56,
   "id": "bff1c36f",
   "metadata": {},
   "outputs": [
    {
     "data": {
      "text/plain": [
       "'I have been on antidepression meds for 15 years but my depression persisted regardless of the treatment  I used to sleep 1216 hours per day and was always tired and fatigued when awake  I was diagnosed with sleep apnea 5 years ago but even sleeping with CPAP did not help with my daytime fatigue  After seeing MANY family practitioners I finally broke down and INVESTED in a very well educated Psychiatrist who diagnoed me with ADD since childhood  His decision to prescribe Vyvanse was brilliant!  I feel better than ever and am totally clear headed and able to consentrate  For the first time in as long as I can remember I can think normally!  No more racing thoughts in my head and my depression and anxiety has all but vanashed!  I do still take an antidepressive but I am CERTAIN that the Vyvanse gave the antidepression meds the ability to work  I can FINALLY sleep a normal 7 to 9 hours and still be awake and alert throughout my 12hour work days  I was worried that the Vyvanse would elevate my anxiety level but the opposite occured!  My anxiety is all but absent and I no longer have the need to continue with my antianxiety meds!  There is NO SUBSTITUTE for a Doctor who is a specialist in mental health  Spend the money and see!  A good Psychiatrist will spend HOURS with you before making a diagnosis and if Adult ADD is what you have then give Vyvanse a try  It worked GREAT for me and my live has turned around for the better  It is the best remedy that I have found in 15 years!  You MUST take it when you awaken for your day because it takes about 1215 hours to get out of your system  If you take it later in the day  you will experaince insomnia  Ask your SPECIALIST about Vyvanse Dry mouth  which is great because I now drink a lot of water instead of sodas because the sodas do not quinch my thirst  Clear headed Able to complete projects without procastination 100% help with shortterm memory lessened depression and anxiety no more obsessive eating weight loss'"
      ]
     },
     "execution_count": 56,
     "metadata": {},
     "output_type": "execute_result"
    }
   ],
   "source": [
    "df.review[43]"
   ]
  },
  {
   "cell_type": "code",
   "execution_count": 57,
   "id": "9c9f973e",
   "metadata": {},
   "outputs": [
    {
     "data": {
      "text/plain": [
       "'I am a 25 year old female I was diagnosed with bipolar II disorder about 5 years ago I have been taking 150mg of lamotrigine for over 2 years Thus far I have experienced significant improvements in controlling my bipolar II disorder I recently paired 100mg of sertraline to improve the lows Also I experience rapid cycling I rated this drug 70% as I feel I still have a long way to go in recovery But the drug has definitely allowed me to be a highly functioning individual    '"
      ]
     },
     "execution_count": 57,
     "metadata": {},
     "output_type": "execute_result"
    }
   ],
   "source": [
    "df.review[118]"
   ]
  },
  {
   "cell_type": "markdown",
   "id": "1e5446d7",
   "metadata": {},
   "source": [
    "Here, the % aren't too much a part of nonsense strings and are adjacent to numbers as would be predictable. Keep them. \n",
    "\n",
    "All that's left now is numbers. They should be kept in some contexts such as timestamps or statements like '9 days ago', but I've already seen that they appear in some nonsense contexts as well. I'm not sure if there's a simple clear way to tease these out. One thing I'll do is, when deleting symbols, don't always replace them with a string. Some of them seem to be often inserted into the midst of some nonsense including numbers that I might want to be able to pull out in full later, rather than just subdividing the nonsense into smaller parts that will be more difficult to isolate and analyze later. \n",
    "\n",
    "<font color='violet'> Summary so far of what to do with symbols:\n",
    "- Leave for now and investigate further later: 0-9\n",
    "- Keep where they exist: ! $ + = ? %\n",
    "- Delte everywhere: # \n",
    "- Delete if surrounded by spaces or adjacent to numbers rather than adjacent to another symbol: ( ) : ; "
   ]
  },
  {
   "cell_type": "code",
   "execution_count": 58,
   "id": "8d750d80",
   "metadata": {},
   "outputs": [
    {
     "data": {
      "text/html": [
       "<div>\n",
       "<style scoped>\n",
       "    .dataframe tbody tr th:only-of-type {\n",
       "        vertical-align: middle;\n",
       "    }\n",
       "\n",
       "    .dataframe tbody tr th {\n",
       "        vertical-align: top;\n",
       "    }\n",
       "\n",
       "    .dataframe thead th {\n",
       "        text-align: right;\n",
       "    }\n",
       "</style>\n",
       "<table border=\"1\" class=\"dataframe\">\n",
       "  <thead>\n",
       "    <tr style=\"text-align: right;\">\n",
       "      <th></th>\n",
       "      <th>rating</th>\n",
       "      <th>condition</th>\n",
       "      <th>review</th>\n",
       "      <th>date</th>\n",
       "      <th>drug0</th>\n",
       "      <th>drug1</th>\n",
       "      <th>drug2</th>\n",
       "      <th>drug3</th>\n",
       "      <th>drug4</th>\n",
       "      <th>drug5</th>\n",
       "      <th>drug6</th>\n",
       "      <th>drug7</th>\n",
       "      <th>drug8</th>\n",
       "      <th>drug9</th>\n",
       "      <th>drug10</th>\n",
       "      <th>drug11</th>\n",
       "      <th>drug12</th>\n",
       "      <th>drug13</th>\n",
       "      <th>drug14</th>\n",
       "      <th>drug15</th>\n",
       "    </tr>\n",
       "  </thead>\n",
       "  <tbody>\n",
       "  </tbody>\n",
       "</table>\n",
       "</div>"
      ],
      "text/plain": [
       "Empty DataFrame\n",
       "Columns: [rating, condition, review, date, drug0, drug1, drug2, drug3, drug4, drug5, drug6, drug7, drug8, drug9, drug10, drug11, drug12, drug13, drug14, drug15]\n",
       "Index: []"
      ]
     },
     "execution_count": 58,
     "metadata": {},
     "output_type": "execute_result"
    }
   ],
   "source": [
    "df['review'] = df.review.str.replace('#', '')\n",
    "df[df.review.str.find('#')!=-1]"
   ]
  },
  {
   "cell_type": "code",
   "execution_count": 59,
   "id": "3518eb79",
   "metadata": {},
   "outputs": [
    {
     "data": {
      "text/html": [
       "<div>\n",
       "<style scoped>\n",
       "    .dataframe tbody tr th:only-of-type {\n",
       "        vertical-align: middle;\n",
       "    }\n",
       "\n",
       "    .dataframe tbody tr th {\n",
       "        vertical-align: top;\n",
       "    }\n",
       "\n",
       "    .dataframe thead th {\n",
       "        text-align: right;\n",
       "    }\n",
       "</style>\n",
       "<table border=\"1\" class=\"dataframe\">\n",
       "  <thead>\n",
       "    <tr style=\"text-align: right;\">\n",
       "      <th></th>\n",
       "      <th>rating</th>\n",
       "      <th>condition</th>\n",
       "      <th>review</th>\n",
       "      <th>date</th>\n",
       "      <th>drug0</th>\n",
       "      <th>drug1</th>\n",
       "      <th>drug2</th>\n",
       "      <th>drug3</th>\n",
       "      <th>drug4</th>\n",
       "      <th>drug5</th>\n",
       "      <th>drug6</th>\n",
       "      <th>drug7</th>\n",
       "      <th>drug8</th>\n",
       "      <th>drug9</th>\n",
       "      <th>drug10</th>\n",
       "      <th>drug11</th>\n",
       "      <th>drug12</th>\n",
       "      <th>drug13</th>\n",
       "      <th>drug14</th>\n",
       "      <th>drug15</th>\n",
       "    </tr>\n",
       "  </thead>\n",
       "  <tbody>\n",
       "  </tbody>\n",
       "</table>\n",
       "</div>"
      ],
      "text/plain": [
       "Empty DataFrame\n",
       "Columns: [rating, condition, review, date, drug0, drug1, drug2, drug3, drug4, drug5, drug6, drug7, drug8, drug9, drug10, drug11, drug12, drug13, drug14, drug15]\n",
       "Index: []"
      ]
     },
     "execution_count": 59,
     "metadata": {},
     "output_type": "execute_result"
    }
   ],
   "source": [
    "# Successfully removed # Move on to ():; where surrounded by spaces\n",
    "remove_if_spaces = [' ( ', ' ) ', ' : ', ' ; ']\n",
    "for char in remove_if_spaces:\n",
    "    # Replace each character surrounded by spaces with just a single space\n",
    "    df['review'] = df.review.str.replace(char, ' ', regex=False)\n",
    "df[df.review.str.find(' ; ')!=-1]"
   ]
  },
  {
   "cell_type": "markdown",
   "id": "fb6c8e7d",
   "metadata": {},
   "source": [
    "Successfully removed these symbols where they're surrounded by spaces. \n",
    "\n",
    "<font color='violet'> The function below should be added to my parsing functions package. "
   ]
  },
  {
   "cell_type": "code",
   "execution_count": 60,
   "id": "fd33a9ba",
   "metadata": {
    "scrolled": true
   },
   "outputs": [
    {
     "name": "stderr",
     "output_type": "stream",
     "text": [
      "100%|██████████| 31559/31559 [00:27<00:00, 1139.75it/s]\n"
     ]
    },
    {
     "data": {
      "text/plain": [
       "183    I have a friend who had taken ambien for years...\n",
       "456    Got a trial prescription for Nuvigil 150mg tab...\n",
       "521    Expensive if you buy the extended release ($16...\n",
       "649    My personal experience with suboxone is good s...\n",
       "658    My personal experience with suboxone is good s...\n",
       "Name: review, dtype: object"
      ]
     },
     "execution_count": 60,
     "metadata": {},
     "output_type": "execute_result"
    }
   ],
   "source": [
    "def strip_if_adjacent_number(df, column):\n",
    "\n",
    "    \"\"\"Deletes the symbols :;() where they appear next to numbers.\n",
    "        Replaces these symbols with nothing: ''. Leaves them anytime they don't appear adjacent to numbers.\n",
    "\n",
    "    Args: \n",
    "        df = dataframe with the strings to be stripped\n",
    "        column: name of a column from the dataframe where strings are that should be stripped\n",
    "      \n",
    "\n",
    "    Returns: same string in the same position within the df, with ;:() removed in the fashion described above.\n",
    "\n",
    "    \"\"\"\n",
    "\n",
    "    import re\n",
    "    chars_to_remove = ['(', ')', ':', ';']\n",
    "    \n",
    "    # Isolate 1 narrative at a time \n",
    "    for row in tqdm(range(len(df))):\n",
    "        string_to_strip = df.loc[row,column]\n",
    "        # Match the ( where it appears before or after a number. \n",
    "        parenth_open_matches = re.findall('\\([0-9]', string_to_strip) + re.findall(\n",
    "            '[0-9]\\(', string_to_strip)\n",
    "        # Match remaining symbols\n",
    "        parenth_close_matches = re.findall('\\)[0-9]', string_to_strip) + re.findall(\n",
    "            '[0-9]\\)', string_to_strip)\n",
    "        colon_matches = re.findall(':[0-9]', string_to_strip) + re.findall(\n",
    "            '[0-9]:', string_to_strip)\n",
    "        semicolon_matches = re.findall(';[0-9]', string_to_strip) + re.findall(\n",
    "            '[0-9];', string_to_strip)\n",
    "        # combine all lists to capture all matched strings where any symbols should be replaced\n",
    "        all_matches = list(parenth_open_matches + parenth_close_matches + colon_matches + \n",
    "                           semicolon_matches)\n",
    "        # Now replace just the symbols, not the numbers, in these matched strings\n",
    "        for match in all_matches: \n",
    "            for char in chars_to_remove:\n",
    "                string_to_strip = string_to_strip.replace(match, match.replace(char, ''))\n",
    "        df.loc[row,column] = string_to_strip\n",
    "        \n",
    "strip_if_adjacent_number(df,'review')\n",
    "df[df.review.str.find('(')!=-1].review.head()"
   ]
  },
  {
   "cell_type": "code",
   "execution_count": 61,
   "id": "37ae9c82",
   "metadata": {},
   "outputs": [
    {
     "data": {
      "text/plain": [
       "'I have a friend who had taken ambien for years without any problems For whatever reason he had an episode where he took his pill and then remembers nothing until he was at the police station He had drank three beers  which he only knows because that is all that was in his frig  then proceded to drive (!!) and ended up crashing into another parked car This is scarey stuff eh? It works wonderfully but I surely would not want to have a blackout and end up driving Is there any class action suit against this drug? I have heard of the other stories  walking naked in the winter cold eating while sleeping and then my friends experience    '"
      ]
     },
     "execution_count": 61,
     "metadata": {},
     "output_type": "execute_result"
    }
   ],
   "source": [
    "df.review[183]"
   ]
  },
  {
   "cell_type": "code",
   "execution_count": 62,
   "id": "eb518924",
   "metadata": {},
   "outputs": [
    {
     "data": {
      "text/plain": [
       "'Got a trial prescription for Nuvigil 150mg tablets first day was incredible but after a few days the effectiveness was greatly diminished  Still worked but did not have the same effect as day one  Worried about using it regularly since it is not covered by insurance and without that the cost is outrageous ($33030 tablets   Does not leave you nervous like Ritalin and lasts longer than Provigil Worth trying if your health care plan covers it    '"
      ]
     },
     "execution_count": 62,
     "metadata": {},
     "output_type": "execute_result"
    }
   ],
   "source": [
    "df.review[456]"
   ]
  },
  {
   "cell_type": "code",
   "execution_count": 63,
   "id": "1b2add88",
   "metadata": {},
   "outputs": [
    {
     "data": {
      "text/plain": [
       "6      So far the throwing up has stopped and the hea...\n",
       "49     I returned to school midcareer when I saw the ...\n",
       "75     I take this medication once each morning and i...\n",
       "93     When i first started going to the methadone cl...\n",
       "100    I was diagnosed with ADHD in college and have ...\n",
       "Name: review, dtype: object"
      ]
     },
     "execution_count": 63,
     "metadata": {},
     "output_type": "execute_result"
    }
   ],
   "source": [
    "df[df.review.str.find(')')!=-1].review.head()"
   ]
  },
  {
   "cell_type": "code",
   "execution_count": 64,
   "id": "73eb70d3",
   "metadata": {},
   "outputs": [
    {
     "data": {
      "text/plain": [
       "'I returned to school midcareer when I saw the economy tanking I was unable to grasp the rudiments  law rigorous despite many hours of studying and reading During that time my father died I was depressed and close to failing out I went through therapy and asked about ADD meds I took a test showing attention and memory lapses Doc prescribed 60 mg I could tell an immediate difference My grades improved dramatically which was specifically the result I wanted I now take 70 mg and intend to until graduating and taking the big test in October 11 After that I hope to stop taking it I am not certain that it is effective over 6 months It seems that one might build up a tolerance to the effectiveness This most recent semester my memory seemed to be where it was before I started taking it but I have not found out yet Slow production overconcentration?)   Heart palpitations  occasional esp with caffeine    Pharmacy information says may be habit forming and not recommended for people with a history of drug abuse If alcohol and tobacco habits are considered drug abuse then smokers and drinkers  incl coffee  may be more vulnerable to forming a habit   Loss of appetite I went to therapy and asked about ADD meds I took a test showing attention and memory lapses Doc gave me 60 mg my grades improved dramatically which was specifically the result I wanted Furthermore I got far more done outside of school coincidentally'"
      ]
     },
     "execution_count": 64,
     "metadata": {},
     "output_type": "execute_result"
    }
   ],
   "source": [
    "df.review[49]"
   ]
  },
  {
   "cell_type": "code",
   "execution_count": 65,
   "id": "4914b4ce",
   "metadata": {},
   "outputs": [
    {
     "data": {
      "text/plain": [
       "'I take this medication once each morning and it lasts throughout the day and into the early evening With this medication you must see your provider every six months to evaluate weight changes and effectiveness During the 2 checks that I have had my weight has been consistent Luckily dosage has not been modified  we started out with the correct dosage Although from what I understand that is rare dosages often have to be modified to find what works best for each individual Appetite is reduced but not to an unhealthy degree Smaller portions at both meal time and snack time are all that you can manage during the day However in my experience I eat normal dinner portions In fact I feel that with this medication I am eating ample healthy portions for my gender bodytype and build  It should be noted that with this and other medications like it you are often so focused it is easy to forget to eat but it will catch up with you later in the day You will want the portions you should have had but no longer have the hours left to spread them out I set a timer to remind me its time to stop and have lunch With this medication versus other drugs to treat ADD I do not experience a coming down off of something effect It is highly effective without the severe side effects of comparable medications to treat the same condition Also it does not destroy my appetite and I feel healthier with particular medication I do not experience dry mouth  but I have always been a huge water drinker!) nervousness irritability insomnia or that racing heart feeling'"
      ]
     },
     "execution_count": 65,
     "metadata": {},
     "output_type": "execute_result"
    }
   ],
   "source": [
    "df.review[75]"
   ]
  },
  {
   "cell_type": "code",
   "execution_count": 66,
   "id": "ad1dff85",
   "metadata": {},
   "outputs": [
    {
     "data": {
      "text/plain": [
       "158"
      ]
     },
     "execution_count": 66,
     "metadata": {},
     "output_type": "execute_result"
    }
   ],
   "source": [
    "len(df[df.review.str.find('(')!=-1])"
   ]
  },
  {
   "cell_type": "code",
   "execution_count": 67,
   "id": "16330270",
   "metadata": {},
   "outputs": [
    {
     "data": {
      "text/plain": [
       "508"
      ]
     },
     "execution_count": 67,
     "metadata": {},
     "output_type": "execute_result"
    }
   ],
   "source": [
    "len(df[df.review.str.find(')')!=-1])"
   ]
  },
  {
   "cell_type": "code",
   "execution_count": 68,
   "id": "b34dfbce",
   "metadata": {},
   "outputs": [
    {
     "data": {
      "text/plain": [
       "304"
      ]
     },
     "execution_count": 68,
     "metadata": {},
     "output_type": "execute_result"
    }
   ],
   "source": [
    "len(df[df.review.str.find(':')!=-1])"
   ]
  },
  {
   "cell_type": "code",
   "execution_count": 69,
   "id": "60173f94",
   "metadata": {},
   "outputs": [
    {
     "data": {
      "text/plain": [
       "24"
      ]
     },
     "execution_count": 69,
     "metadata": {},
     "output_type": "execute_result"
    }
   ],
   "source": [
    "len(df[df.review.str.find(';')!=-1])"
   ]
  },
  {
   "cell_type": "markdown",
   "id": "474601e0",
   "metadata": {},
   "source": [
    "Emoji are intact, and it's looking like the remaining symbols appear next to other symbols, sometimes in weird ways that I'd ideally not have around. But, the number of rows that contain unwanted symbols has been dramatically reduced. \n",
    "\n",
    "<font color='violet'> The last bit of basic cleaning is to deal with unwanted strings of numbers as best as possible.  "
   ]
  },
  {
   "cell_type": "code",
   "execution_count": 70,
   "id": "8eeaa3ef",
   "metadata": {},
   "outputs": [
    {
     "data": {
      "text/plain": [
       "{'0',\n",
       " '00',\n",
       " '0002',\n",
       " '001',\n",
       " '002',\n",
       " '0025',\n",
       " '005',\n",
       " '01',\n",
       " '0100',\n",
       " '010107',\n",
       " '0103',\n",
       " '011909',\n",
       " '0125',\n",
       " '02',\n",
       " '02092015',\n",
       " '0212',\n",
       " '025',\n",
       " '02505',\n",
       " '03',\n",
       " '03122014',\n",
       " '0331',\n",
       " '04',\n",
       " '05',\n",
       " '050',\n",
       " '050075',\n",
       " '051',\n",
       " '0515',\n",
       " '06',\n",
       " '06082015',\n",
       " '0625',\n",
       " '07',\n",
       " '070710',\n",
       " '07082016',\n",
       " '075',\n",
       " '08',\n",
       " '09',\n",
       " '1',\n",
       " '10',\n",
       " '100',\n",
       " '1000',\n",
       " '10000',\n",
       " '100000',\n",
       " '1000000',\n",
       " '10002000',\n",
       " '100120',\n",
       " '100200',\n",
       " '101',\n",
       " '1010',\n",
       " '1011',\n",
       " '101112',\n",
       " '1012',\n",
       " '10125',\n",
       " '1014',\n",
       " '101416',\n",
       " '1015',\n",
       " '1018',\n",
       " '102',\n",
       " '1020',\n",
       " '102012',\n",
       " '10216',\n",
       " '10222015',\n",
       " '103',\n",
       " '1030',\n",
       " '10325',\n",
       " '1043',\n",
       " '105',\n",
       " '106',\n",
       " '108',\n",
       " '109',\n",
       " '1090',\n",
       " '11',\n",
       " '110',\n",
       " '1100',\n",
       " '11074',\n",
       " '1108',\n",
       " '1112',\n",
       " '111315',\n",
       " '111814',\n",
       " '112',\n",
       " '1125',\n",
       " '113',\n",
       " '1130',\n",
       " '114',\n",
       " '115',\n",
       " '1155',\n",
       " '11609',\n",
       " '117',\n",
       " '117124',\n",
       " '118122',\n",
       " '12',\n",
       " '120',\n",
       " '1200',\n",
       " '12012',\n",
       " '120125',\n",
       " '1206',\n",
       " '12080',\n",
       " '121',\n",
       " '1213',\n",
       " '1214',\n",
       " '1215',\n",
       " '1216',\n",
       " '1217',\n",
       " '1218',\n",
       " '122',\n",
       " '12272066',\n",
       " '12282015',\n",
       " '123',\n",
       " '1230',\n",
       " '124',\n",
       " '125',\n",
       " '1250',\n",
       " '12525',\n",
       " '1272007',\n",
       " '1298',\n",
       " '13',\n",
       " '130',\n",
       " '1300',\n",
       " '130000',\n",
       " '13114',\n",
       " '1314',\n",
       " '1315',\n",
       " '1328',\n",
       " '134',\n",
       " '135',\n",
       " '13590',\n",
       " '136',\n",
       " '14',\n",
       " '140',\n",
       " '14090',\n",
       " '1412',\n",
       " '1415',\n",
       " '1416',\n",
       " '142',\n",
       " '142014',\n",
       " '145',\n",
       " '148',\n",
       " '15',\n",
       " '150',\n",
       " '1500',\n",
       " '15000',\n",
       " '150170',\n",
       " '150200',\n",
       " '150300',\n",
       " '1510',\n",
       " '1516',\n",
       " '152',\n",
       " '1520',\n",
       " '152009',\n",
       " '1525',\n",
       " '1530',\n",
       " '154',\n",
       " '155',\n",
       " '156',\n",
       " '157110',\n",
       " '16',\n",
       " '160',\n",
       " '1600',\n",
       " '1617',\n",
       " '1618',\n",
       " '1630',\n",
       " '164',\n",
       " '165',\n",
       " '165175',\n",
       " '166',\n",
       " '17',\n",
       " '170',\n",
       " '1700',\n",
       " '172007',\n",
       " '174',\n",
       " '175',\n",
       " '1750',\n",
       " '18',\n",
       " '180',\n",
       " '1800',\n",
       " '18000',\n",
       " '18002100',\n",
       " '180120',\n",
       " '1819',\n",
       " '1821',\n",
       " '182164',\n",
       " '1822',\n",
       " '1824',\n",
       " '183',\n",
       " '1840',\n",
       " '185',\n",
       " '185100',\n",
       " '1875',\n",
       " '188',\n",
       " '18888',\n",
       " '19',\n",
       " '1900',\n",
       " '190119',\n",
       " '190250',\n",
       " '191016',\n",
       " '1920',\n",
       " '19416',\n",
       " '1960',\n",
       " '1965',\n",
       " '1968',\n",
       " '1970',\n",
       " '1971',\n",
       " '1972',\n",
       " '1974',\n",
       " '1975',\n",
       " '1976',\n",
       " '1977',\n",
       " '1979',\n",
       " '1980',\n",
       " '1982',\n",
       " '1983',\n",
       " '1984',\n",
       " '1986',\n",
       " '1987',\n",
       " '1989',\n",
       " '19891999',\n",
       " '198990',\n",
       " '1990',\n",
       " '1991',\n",
       " '1992',\n",
       " '1993',\n",
       " '1994',\n",
       " '1995',\n",
       " '1996',\n",
       " '19962001',\n",
       " '19962005',\n",
       " '1997',\n",
       " '1998',\n",
       " '1999',\n",
       " '2',\n",
       " '20',\n",
       " '200',\n",
       " '2000',\n",
       " '2001',\n",
       " '200110',\n",
       " '200120',\n",
       " '2002',\n",
       " '2003',\n",
       " '200300',\n",
       " '20034',\n",
       " '2004',\n",
       " '200400',\n",
       " '2005',\n",
       " '20052007',\n",
       " '2006',\n",
       " '2007',\n",
       " '200700',\n",
       " '2008',\n",
       " '2009',\n",
       " '201',\n",
       " '2010',\n",
       " '2011',\n",
       " '20112012',\n",
       " '2012',\n",
       " '201213',\n",
       " '2013',\n",
       " '2014',\n",
       " '20142015',\n",
       " '2015',\n",
       " '2016',\n",
       " '2017',\n",
       " '2019',\n",
       " '2025',\n",
       " '2026',\n",
       " '2030',\n",
       " '2040',\n",
       " '2060',\n",
       " '206126',\n",
       " '207',\n",
       " '21',\n",
       " '210',\n",
       " '2100',\n",
       " '21000',\n",
       " '21017',\n",
       " '212013',\n",
       " '216',\n",
       " '2172017',\n",
       " '22',\n",
       " '220',\n",
       " '22216',\n",
       " '2224',\n",
       " '224',\n",
       " '225',\n",
       " '23',\n",
       " '230',\n",
       " '230330',\n",
       " '234',\n",
       " '235',\n",
       " '24',\n",
       " '240',\n",
       " '242010',\n",
       " '2430',\n",
       " '2436',\n",
       " '244',\n",
       " '247',\n",
       " '25',\n",
       " '250',\n",
       " '2500',\n",
       " '25100',\n",
       " '25150',\n",
       " '253',\n",
       " '2530',\n",
       " '2550',\n",
       " '2575',\n",
       " '26',\n",
       " '260',\n",
       " '263',\n",
       " '2665',\n",
       " '267',\n",
       " '27',\n",
       " '270',\n",
       " '2700',\n",
       " '270120',\n",
       " '27500',\n",
       " '28',\n",
       " '280',\n",
       " '2845',\n",
       " '287',\n",
       " '29',\n",
       " '290',\n",
       " '3',\n",
       " '30',\n",
       " '300',\n",
       " '3000',\n",
       " '300500',\n",
       " '30120',\n",
       " '30309',\n",
       " '3035',\n",
       " '3040',\n",
       " '3045',\n",
       " '3050',\n",
       " '3060',\n",
       " '3093',\n",
       " '31',\n",
       " '310',\n",
       " '31016',\n",
       " '312',\n",
       " '31209',\n",
       " '315',\n",
       " '316',\n",
       " '32',\n",
       " '320',\n",
       " '3200',\n",
       " '32109',\n",
       " '32210',\n",
       " '325',\n",
       " '328',\n",
       " '33',\n",
       " '330',\n",
       " '333',\n",
       " '334',\n",
       " '34',\n",
       " '3400',\n",
       " '343',\n",
       " '35',\n",
       " '350',\n",
       " '35000',\n",
       " '3545',\n",
       " '36',\n",
       " '360',\n",
       " '3600',\n",
       " '36030',\n",
       " '3644',\n",
       " '37',\n",
       " '374',\n",
       " '375',\n",
       " '38',\n",
       " '39',\n",
       " '4',\n",
       " '40',\n",
       " '400',\n",
       " '400500',\n",
       " '400800',\n",
       " '404',\n",
       " '4045',\n",
       " '4060',\n",
       " '41',\n",
       " '4100',\n",
       " '4152012',\n",
       " '4172014',\n",
       " '42',\n",
       " '425',\n",
       " '43',\n",
       " '430',\n",
       " '432',\n",
       " '44',\n",
       " '45',\n",
       " '450',\n",
       " '45000',\n",
       " '46',\n",
       " '47',\n",
       " '48',\n",
       " '49',\n",
       " '5',\n",
       " '50',\n",
       " '500',\n",
       " '5000',\n",
       " '50100',\n",
       " '50150',\n",
       " '50300',\n",
       " '5070',\n",
       " '51',\n",
       " '510',\n",
       " '51411',\n",
       " '5152015',\n",
       " '52',\n",
       " '522',\n",
       " '53',\n",
       " '530',\n",
       " '5325',\n",
       " '5328',\n",
       " '54',\n",
       " '55',\n",
       " '5500',\n",
       " '56',\n",
       " '57',\n",
       " '58',\n",
       " '59',\n",
       " '6',\n",
       " '60',\n",
       " '600',\n",
       " '60150',\n",
       " '6080',\n",
       " '6090',\n",
       " '61',\n",
       " '610',\n",
       " '6100',\n",
       " '615',\n",
       " '618',\n",
       " '62',\n",
       " '62010',\n",
       " '625',\n",
       " '63',\n",
       " '630',\n",
       " '64',\n",
       " '645',\n",
       " '65',\n",
       " '650',\n",
       " '6500',\n",
       " '6542',\n",
       " '66',\n",
       " '67',\n",
       " '6730',\n",
       " '677',\n",
       " '67890987656789',\n",
       " '68',\n",
       " '69',\n",
       " '7',\n",
       " '70',\n",
       " '700',\n",
       " '71',\n",
       " '710',\n",
       " '711',\n",
       " '71316',\n",
       " '72',\n",
       " '720',\n",
       " '72807',\n",
       " '73',\n",
       " '730',\n",
       " '73112',\n",
       " '74',\n",
       " '741',\n",
       " '75',\n",
       " '750',\n",
       " '75100',\n",
       " '77',\n",
       " '78',\n",
       " '79',\n",
       " '8',\n",
       " '80',\n",
       " '800',\n",
       " '8000',\n",
       " '80000',\n",
       " '8025',\n",
       " '8090',\n",
       " '81',\n",
       " '810',\n",
       " '8112011',\n",
       " '812',\n",
       " '815',\n",
       " '82',\n",
       " '82511',\n",
       " '8283',\n",
       " '83',\n",
       " '830',\n",
       " '85',\n",
       " '850',\n",
       " '86',\n",
       " '87',\n",
       " '8716',\n",
       " '88',\n",
       " '8898',\n",
       " '89',\n",
       " '9',\n",
       " '90',\n",
       " '900',\n",
       " '9000',\n",
       " '9095',\n",
       " '910',\n",
       " '911',\n",
       " '915',\n",
       " '91811',\n",
       " '93',\n",
       " '930',\n",
       " '94',\n",
       " '9495',\n",
       " '95',\n",
       " '95100',\n",
       " '96',\n",
       " '97',\n",
       " '98',\n",
       " '99',\n",
       " '999',\n",
       " nan}"
      ]
     },
     "execution_count": 70,
     "metadata": {},
     "output_type": "execute_result"
    }
   ],
   "source": [
    "token_w_digit = df.review.str.extract('(\\d+)')\n",
    "token_w_digit = set(token_w_digit.iloc[:,0])\n",
    "token_w_digit"
   ]
  },
  {
   "cell_type": "code",
   "execution_count": 71,
   "id": "c06878f8",
   "metadata": {},
   "outputs": [
    {
     "data": {
      "text/plain": [
       "[0,\n",
       " 0,\n",
       " 1,\n",
       " 1,\n",
       " 1,\n",
       " 2,\n",
       " 2,\n",
       " 2,\n",
       " 2,\n",
       " 3,\n",
       " 3,\n",
       " 4,\n",
       " 4,\n",
       " 5,\n",
       " 5,\n",
       " 5,\n",
       " 6,\n",
       " 6,\n",
       " 7,\n",
       " 7,\n",
       " 8,\n",
       " 8,\n",
       " 9,\n",
       " 9,\n",
       " 10,\n",
       " 11,\n",
       " 12,\n",
       " 13,\n",
       " 14,\n",
       " 15,\n",
       " 16,\n",
       " 17,\n",
       " 18,\n",
       " 19,\n",
       " 20,\n",
       " 21,\n",
       " 22,\n",
       " 23,\n",
       " 24,\n",
       " 25,\n",
       " 25,\n",
       " 25,\n",
       " 26,\n",
       " 27,\n",
       " 28,\n",
       " 29,\n",
       " 30,\n",
       " 31,\n",
       " 32,\n",
       " 33,\n",
       " 34,\n",
       " 35,\n",
       " 36,\n",
       " 37,\n",
       " 38,\n",
       " 39,\n",
       " 40,\n",
       " 41,\n",
       " 42,\n",
       " 43,\n",
       " 44,\n",
       " 45,\n",
       " 46,\n",
       " 47,\n",
       " 48,\n",
       " 49,\n",
       " 50,\n",
       " 50,\n",
       " 51,\n",
       " 51,\n",
       " 52,\n",
       " 53,\n",
       " 54,\n",
       " 55,\n",
       " 56,\n",
       " 57,\n",
       " 58,\n",
       " 59,\n",
       " 60,\n",
       " 61,\n",
       " 62,\n",
       " 63,\n",
       " 64,\n",
       " 65,\n",
       " 66,\n",
       " 67,\n",
       " 68,\n",
       " 69,\n",
       " 70,\n",
       " 71,\n",
       " 72,\n",
       " 73,\n",
       " 74,\n",
       " 75,\n",
       " 75,\n",
       " 77,\n",
       " 78,\n",
       " 79,\n",
       " 80,\n",
       " 81,\n",
       " 82,\n",
       " 83,\n",
       " 85,\n",
       " 86,\n",
       " 87,\n",
       " 88,\n",
       " 89,\n",
       " 90,\n",
       " 93,\n",
       " 94,\n",
       " 95,\n",
       " 96,\n",
       " 97,\n",
       " 98,\n",
       " 99,\n",
       " 100,\n",
       " 100,\n",
       " 101,\n",
       " 102,\n",
       " 103,\n",
       " 103,\n",
       " 105,\n",
       " 106,\n",
       " 108,\n",
       " 109,\n",
       " 110,\n",
       " 112,\n",
       " 113,\n",
       " 114,\n",
       " 115,\n",
       " 117,\n",
       " 120,\n",
       " 121,\n",
       " 122,\n",
       " 123,\n",
       " 124,\n",
       " 125,\n",
       " 125,\n",
       " 130,\n",
       " 134,\n",
       " 135,\n",
       " 136,\n",
       " 140,\n",
       " 142,\n",
       " 145,\n",
       " 148,\n",
       " 150,\n",
       " 152,\n",
       " 154,\n",
       " 155,\n",
       " 156,\n",
       " 160,\n",
       " 164,\n",
       " 165,\n",
       " 166,\n",
       " 170,\n",
       " 174,\n",
       " 175,\n",
       " 180,\n",
       " 183,\n",
       " 185,\n",
       " 188,\n",
       " 200,\n",
       " 201,\n",
       " 207,\n",
       " 210,\n",
       " 212,\n",
       " 216,\n",
       " 220,\n",
       " 224,\n",
       " 225,\n",
       " 230,\n",
       " 234,\n",
       " 235,\n",
       " 240,\n",
       " 244,\n",
       " 247,\n",
       " 250,\n",
       " 253,\n",
       " 260,\n",
       " 263,\n",
       " 267,\n",
       " 270,\n",
       " 280,\n",
       " 287,\n",
       " 290,\n",
       " 300,\n",
       " 310,\n",
       " 312,\n",
       " 315,\n",
       " 316,\n",
       " 320,\n",
       " 325,\n",
       " 328,\n",
       " 330,\n",
       " 331,\n",
       " 333,\n",
       " 334,\n",
       " 343,\n",
       " 350,\n",
       " 360,\n",
       " 374,\n",
       " 375,\n",
       " 400,\n",
       " 404,\n",
       " 425,\n",
       " 430,\n",
       " 432,\n",
       " 450,\n",
       " 500,\n",
       " 510,\n",
       " 515,\n",
       " 522,\n",
       " 530,\n",
       " 600,\n",
       " 610,\n",
       " 615,\n",
       " 618,\n",
       " 625,\n",
       " 625,\n",
       " 630,\n",
       " 645,\n",
       " 650,\n",
       " 677,\n",
       " 700,\n",
       " 710,\n",
       " 711,\n",
       " 720,\n",
       " 730,\n",
       " 741,\n",
       " 750,\n",
       " 800,\n",
       " 810,\n",
       " 812,\n",
       " 815,\n",
       " 830,\n",
       " 850,\n",
       " 900,\n",
       " 910,\n",
       " 911,\n",
       " 915,\n",
       " 930,\n",
       " 999,\n",
       " 1000,\n",
       " 1010,\n",
       " 1011,\n",
       " 1012,\n",
       " 1014,\n",
       " 1015,\n",
       " 1018,\n",
       " 1020,\n",
       " 1030,\n",
       " 1043,\n",
       " 1090,\n",
       " 1100,\n",
       " 1108,\n",
       " 1112,\n",
       " 1125,\n",
       " 1130,\n",
       " 1155,\n",
       " 1200,\n",
       " 1206,\n",
       " 1213,\n",
       " 1214,\n",
       " 1215,\n",
       " 1216,\n",
       " 1217,\n",
       " 1218,\n",
       " 1230,\n",
       " 1250,\n",
       " 1298,\n",
       " 1300,\n",
       " 1314,\n",
       " 1315,\n",
       " 1328,\n",
       " 1412,\n",
       " 1415,\n",
       " 1416,\n",
       " 1500,\n",
       " 1510,\n",
       " 1516,\n",
       " 1520,\n",
       " 1525,\n",
       " 1530,\n",
       " 1600,\n",
       " 1617,\n",
       " 1618,\n",
       " 1630,\n",
       " 1700,\n",
       " 1750,\n",
       " 1800,\n",
       " 1819,\n",
       " 1821,\n",
       " 1822,\n",
       " 1824,\n",
       " 1840,\n",
       " 1875,\n",
       " 1900,\n",
       " 1920,\n",
       " 1960,\n",
       " 1965,\n",
       " 1968,\n",
       " 1970,\n",
       " 1971,\n",
       " 1972,\n",
       " 1974,\n",
       " 1975,\n",
       " 1976,\n",
       " 1977,\n",
       " 1979,\n",
       " 1980,\n",
       " 1982,\n",
       " 1983,\n",
       " 1984,\n",
       " 1986,\n",
       " 1987,\n",
       " 1989,\n",
       " 1990,\n",
       " 1991,\n",
       " 1992,\n",
       " 1993,\n",
       " 1994,\n",
       " 1995,\n",
       " 1996,\n",
       " 1997,\n",
       " 1998,\n",
       " 1999,\n",
       " 2000,\n",
       " 2001,\n",
       " 2002,\n",
       " 2003,\n",
       " 2004,\n",
       " 2005,\n",
       " 2006,\n",
       " 2007,\n",
       " 2008,\n",
       " 2009,\n",
       " 2010,\n",
       " 2011,\n",
       " 2012,\n",
       " 2013,\n",
       " 2014,\n",
       " 2015,\n",
       " 2016,\n",
       " 2017,\n",
       " 2019,\n",
       " 2025,\n",
       " 2026,\n",
       " 2030,\n",
       " 2040,\n",
       " 2060,\n",
       " 2100,\n",
       " 2224,\n",
       " 2430,\n",
       " 2436,\n",
       " 2500,\n",
       " 2505,\n",
       " 2530,\n",
       " 2550,\n",
       " 2575,\n",
       " 2665,\n",
       " 2700,\n",
       " 2845,\n",
       " 3000,\n",
       " 3035,\n",
       " 3040,\n",
       " 3045,\n",
       " 3050,\n",
       " 3060,\n",
       " 3093,\n",
       " 3200,\n",
       " 3400,\n",
       " 3545,\n",
       " 3600,\n",
       " 3644,\n",
       " 4045,\n",
       " 4060,\n",
       " 4100,\n",
       " 5000,\n",
       " 5070,\n",
       " 5325,\n",
       " 5328,\n",
       " 5500,\n",
       " 6080,\n",
       " 6090,\n",
       " 6100,\n",
       " 6500,\n",
       " 6542,\n",
       " 6730,\n",
       " 8000,\n",
       " 8025,\n",
       " 8090,\n",
       " 8283,\n",
       " 8716,\n",
       " 8898,\n",
       " 9000,\n",
       " 9095,\n",
       " 9495,\n",
       " 10000,\n",
       " 10107,\n",
       " 10125,\n",
       " 10216,\n",
       " 10325,\n",
       " 11074,\n",
       " 11609,\n",
       " 11909,\n",
       " 12012,\n",
       " 12080,\n",
       " 12525,\n",
       " 13114,\n",
       " 13590,\n",
       " 14090,\n",
       " 15000,\n",
       " 18000,\n",
       " 18888,\n",
       " 19416,\n",
       " 20034,\n",
       " 21000,\n",
       " 21017,\n",
       " 22216,\n",
       " 25100,\n",
       " 25150,\n",
       " 27500,\n",
       " 30120,\n",
       " 30309,\n",
       " 31016,\n",
       " 31209,\n",
       " 32109,\n",
       " 32210,\n",
       " 35000,\n",
       " 36030,\n",
       " 45000,\n",
       " 50075,\n",
       " 50100,\n",
       " 50150,\n",
       " 50300,\n",
       " 51411,\n",
       " 60150,\n",
       " 62010,\n",
       " 70710,\n",
       " 71316,\n",
       " 72807,\n",
       " 73112,\n",
       " 75100,\n",
       " 80000,\n",
       " 82511,\n",
       " 91811,\n",
       " 95100,\n",
       " 100000,\n",
       " 100120,\n",
       " 100200,\n",
       " 101112,\n",
       " 101416,\n",
       " 102012,\n",
       " 111315,\n",
       " 111814,\n",
       " 117124,\n",
       " 118122,\n",
       " 120125,\n",
       " 130000,\n",
       " 142014,\n",
       " 150170,\n",
       " 150200,\n",
       " 150300,\n",
       " 152009,\n",
       " 157110,\n",
       " 165175,\n",
       " 172007,\n",
       " 180120,\n",
       " 182164,\n",
       " 185100,\n",
       " 190119,\n",
       " 190250,\n",
       " 191016,\n",
       " 198990,\n",
       " 200110,\n",
       " 200120,\n",
       " 200300,\n",
       " 200400,\n",
       " 200700,\n",
       " 201213,\n",
       " 206126,\n",
       " 212013,\n",
       " 230330,\n",
       " 242010,\n",
       " 270120,\n",
       " 300500,\n",
       " 400500,\n",
       " 400800,\n",
       " 1000000,\n",
       " 1272007,\n",
       " 2092015,\n",
       " 2172017,\n",
       " 3122014,\n",
       " 4152012,\n",
       " 4172014,\n",
       " 5152015,\n",
       " 6082015,\n",
       " 7082016,\n",
       " 8112011,\n",
       " 10002000,\n",
       " 10222015,\n",
       " 12272066,\n",
       " 12282015,\n",
       " 18002100,\n",
       " 19891999,\n",
       " 19962001,\n",
       " 19962005,\n",
       " 20052007,\n",
       " 20112012,\n",
       " 20142015,\n",
       " 67890987656789]"
      ]
     },
     "execution_count": 71,
     "metadata": {},
     "output_type": "execute_result"
    }
   ],
   "source": [
    "# Sort this set \n",
    "sorted_numbers = [item for item in list(token_w_digit) if not(pd.isnull(item)) == True]\n",
    "sorted_numbers = sorted(list(map(int, sorted_numbers)))\n",
    "sorted_numbers"
   ]
  },
  {
   "cell_type": "markdown",
   "id": "d83e6d95",
   "metadata": {},
   "source": [
    "My guess is that the really big numbers are just nonsene errors in the reviews for the most parts. And individual numbers up to 3-digit numbers seem more likely to carry meaning such as naming a number of days or listing a time of day. Inspect some of these examples. "
   ]
  },
  {
   "cell_type": "code",
   "execution_count": 72,
   "id": "2f8001c0",
   "metadata": {},
   "outputs": [
    {
     "data": {
      "text/plain": [
       "19551    This medicine saved my life if I could rate th...\n",
       "Name: review, dtype: object"
      ]
     },
     "execution_count": 72,
     "metadata": {},
     "output_type": "execute_result"
    }
   ],
   "source": [
    "df[df.review.str.find('67890987656789')!=-1].review"
   ]
  },
  {
   "cell_type": "code",
   "execution_count": 73,
   "id": "f7bae517",
   "metadata": {},
   "outputs": [
    {
     "data": {
      "text/plain": [
       "'This medicine saved my life if I could rate this medicine 67890987656789 billion I would It was the first medicine I have ever had to take on a daily basis  I am 13 and it was a hit    '"
      ]
     },
     "execution_count": 73,
     "metadata": {},
     "output_type": "execute_result"
    }
   ],
   "source": [
    "df.review[19551]"
   ]
  },
  {
   "cell_type": "code",
   "execution_count": 74,
   "id": "c485d39e",
   "metadata": {},
   "outputs": [
    {
     "data": {
      "text/plain": [
       "23124    Lexapro is an absolutely fantastic medication ...\n",
       "Name: review, dtype: object"
      ]
     },
     "execution_count": 74,
     "metadata": {},
     "output_type": "execute_result"
    }
   ],
   "source": [
    "df[df.review.str.find('20142015')!=-1].review"
   ]
  },
  {
   "cell_type": "code",
   "execution_count": 75,
   "id": "41103a19",
   "metadata": {},
   "outputs": [
    {
     "data": {
      "text/plain": [
       "'Lexapro is an absolutely fantastic medication for anxiety I went on it from 20142015 and had lifechanging results but I ended up going off because I gained 1015 lbs I ended up switching to Prozac which is good for anxiety too but it is not the same Lexapro brought me somewhat of a euphoria I felt liberated It feels more quot purequot  than Prozac Fast forward to 2017 I have decided to try Lexapro again    '"
      ]
     },
     "execution_count": 75,
     "metadata": {},
     "output_type": "execute_result"
    }
   ],
   "source": [
    "df.review[23124]"
   ]
  },
  {
   "cell_type": "code",
   "execution_count": 76,
   "id": "698208d4",
   "metadata": {},
   "outputs": [
    {
     "data": {
      "text/plain": [
       "3001    I have stopped smoking as of 8112011 while tak...\n",
       "Name: review, dtype: object"
      ]
     },
     "execution_count": 76,
     "metadata": {},
     "output_type": "execute_result"
    }
   ],
   "source": [
    "df[df.review.str.find('8112011')!=-1].review"
   ]
  },
  {
   "cell_type": "code",
   "execution_count": 77,
   "id": "d0a18eb1",
   "metadata": {},
   "outputs": [
    {
     "data": {
      "text/plain": [
       "'I have stopped smoking as of 8112011 while taking Chantix  Before that date I smoked a pack a day for 37 years  Honestly I enjoyed smoking and would not have quit until I was diagnosed with the beginning stage of emphysema  COPD   At first everything was going fine while taking Chantix  It helped to ease my cravings although I still wanted to smoke at times When the cravings would creep up I would just take my pill and the craving would greatly decrease  During the two months of taking this medicine I noticed that while it eased my cravings I began to experience bouts of depression I mean severe depression      '"
      ]
     },
     "execution_count": 77,
     "metadata": {},
     "output_type": "execute_result"
    }
   ],
   "source": [
    "df.review[3001]"
   ]
  },
  {
   "cell_type": "code",
   "execution_count": 78,
   "id": "dba74d9f",
   "metadata": {},
   "outputs": [
    {
     "data": {
      "text/plain": [
       "7568     By far the best sleep medication I have ever t...\n",
       "27894    I was prescribed imipramine for depression It ...\n",
       "28698    Hi all!! I have been clean now for 72 hours fr...\n",
       "Name: review, dtype: object"
      ]
     },
     "execution_count": 78,
     "metadata": {},
     "output_type": "execute_result"
    }
   ],
   "source": [
    "df[df.review.str.find('400500')!=-1].review"
   ]
  },
  {
   "cell_type": "code",
   "execution_count": 79,
   "id": "8160aac0",
   "metadata": {},
   "outputs": [
    {
     "data": {
      "text/plain": [
       "'By far the best sleep medication I have ever taken  I take 400500 mg approximately 2 hours before bed  It is a very deep restful sleep    I was very scared to take this because I have had bad reactions to a few other medications  I took Remeron for sleep and that would give me a very strange head the next day  I remember I used to have a lot of false awakenings on that stuff  Trazodone was similar  I used to feel utterly horrible the next day    Seroquel is good    '"
      ]
     },
     "execution_count": 79,
     "metadata": {},
     "output_type": "execute_result"
    }
   ],
   "source": [
    "df.review[7568]"
   ]
  },
  {
   "cell_type": "code",
   "execution_count": 80,
   "id": "a07a9537",
   "metadata": {},
   "outputs": [
    {
     "data": {
      "text/plain": [
       "5792     I find this new antidepressant the best I have...\n",
       "18388    I started taking lexapro my first semester of ...\n",
       "Name: review, dtype: object"
      ]
     },
     "execution_count": 80,
     "metadata": {},
     "output_type": "execute_result"
    }
   ],
   "source": [
    "df[df.review.str.find('95100')!=-1].review"
   ]
  },
  {
   "cell_type": "code",
   "execution_count": 81,
   "id": "90efff3c",
   "metadata": {},
   "outputs": [
    {
     "data": {
      "text/plain": [
       "'I find this new antidepressant the best I have tried so far and I have tried so very many  I give it 95100 only because it gives me really really bad hot flushes through the night which wake me up and I toss and turn and get hot and cold  all night    '"
      ]
     },
     "execution_count": 81,
     "metadata": {},
     "output_type": "execute_result"
    }
   ],
   "source": [
    "df.review[5792]"
   ]
  },
  {
   "cell_type": "code",
   "execution_count": 82,
   "id": "bd72065c",
   "metadata": {},
   "outputs": [
    {
     "data": {
      "text/plain": [
       "5702     I have had insomnia for years until I found lu...\n",
       "11762    GOODBYE SEX DRIVE!  Besides my sex drive dropp...\n",
       "14028    The only positive thing to say is that it made...\n",
       "15265    I was on the fentanyl pain patch 75 mcg amp  2...\n",
       "Name: review, dtype: object"
      ]
     },
     "execution_count": 82,
     "metadata": {},
     "output_type": "execute_result"
    }
   ],
   "source": [
    "df[df.review.str.find('9000')!=-1].review"
   ]
  },
  {
   "cell_type": "code",
   "execution_count": 83,
   "id": "c0ce2c09",
   "metadata": {},
   "outputs": [
    {
     "data": {
      "text/plain": [
       "'I suffer from this type of schizophrenia since the late 1900s early 2000s and nothing worked for my depressive episodes  I spent the last two weeks in bed because of a depressive episode and my family was ready to take me to the psych hospital again  I did not want to be hospitalized I have been hospitalized aproximately 14 times in the last 10 years with no improvement until I found this a sample bottle of Wellbutrin XL in an old medicine box that I have next to bed  This medication took me out of bed within a day literally so I called my doctor and told me about it and he could not believe it either  Before this medication I felt useless now I am getting back in track like I used to be many years ago Side effects will go away soon    '"
      ]
     },
     "execution_count": 83,
     "metadata": {},
     "output_type": "execute_result"
    }
   ],
   "source": [
    "df.review[5662]"
   ]
  },
  {
   "cell_type": "markdown",
   "id": "96db8707",
   "metadata": {},
   "source": [
    "So I was wrong about the big numbers. Many of them seem to be dates or quantities (i.e. 300-400mg) that had their punctuation deleted. In one case the original text read \"I give it a 95/100\" My initial function to strip_most_punc didn't leave a space, it just deleted characters.\n",
    "\n",
    "I could go back and make that function replace punctuation with a space instead of just deleting it, but that has its drawbacks, as well, especially since there are instances in the raw data of nonsense strings of numbers mixed with characters that might then just become smaller numbers that aren't easy to hunt down and separate from small numbers that actually hold meaning. \n",
    "\n",
    "I can probably just leave these numbers as they are for the most part. There aren't so many of them they're creating tons of noise. They aren't going to communicate super specific meaning, but in an ML model, if the presence of a number simply indicates that there is likely some mention of date, time, quantity, or hyperbole (i.e. I love this drug, would give it a rating of 5000000 if I could), that could play into sentiment analysis and is good enough for my purposes, for now. Whether the format is 1/3/22 for a date or 1322, for example, seems largely irrelevant. I have no reason I can think of to try to get the model to pick up on specific dates, times, etc. as such datatypes where they appear within the reviews.  \n",
    "\n",
    "Move on to deciding if/how to lemmatize and remove stopwords. I think it would be best to create a new column for a version of the reviews columns that is lemmatized. Then, eventually, the efficacy of doing sentiment analysis or otherwise modeling can be compared between lemmatized and non-lemmatized text. This would be the best way to see whether more normalization or more nuanced meaning is more important when it comes to making predictions of ratings. \n",
    "\n",
    "I'll go ahead and make this new column. But first, a new stopword list needs to be created that doesn't include key words like anything that indicates negation. "
   ]
  },
  {
   "cell_type": "code",
   "execution_count": 91,
   "id": "49754570",
   "metadata": {},
   "outputs": [
    {
     "data": {
      "text/plain": [
       "{\"'d\",\n",
       " \"'ll\",\n",
       " \"'m\",\n",
       " \"'re\",\n",
       " \"'s\",\n",
       " \"'ve\",\n",
       " 'a',\n",
       " 'about',\n",
       " 'above',\n",
       " 'across',\n",
       " 'after',\n",
       " 'afterwards',\n",
       " 'again',\n",
       " 'against',\n",
       " 'all',\n",
       " 'almost',\n",
       " 'alone',\n",
       " 'along',\n",
       " 'already',\n",
       " 'also',\n",
       " 'although',\n",
       " 'always',\n",
       " 'am',\n",
       " 'among',\n",
       " 'amongst',\n",
       " 'amount',\n",
       " 'an',\n",
       " 'and',\n",
       " 'another',\n",
       " 'any',\n",
       " 'anyhow',\n",
       " 'anyone',\n",
       " 'anything',\n",
       " 'anyway',\n",
       " 'anywhere',\n",
       " 'are',\n",
       " 'around',\n",
       " 'as',\n",
       " 'at',\n",
       " 'back',\n",
       " 'be',\n",
       " 'became',\n",
       " 'because',\n",
       " 'become',\n",
       " 'becomes',\n",
       " 'becoming',\n",
       " 'been',\n",
       " 'before',\n",
       " 'beforehand',\n",
       " 'behind',\n",
       " 'being',\n",
       " 'below',\n",
       " 'beside',\n",
       " 'besides',\n",
       " 'between',\n",
       " 'beyond',\n",
       " 'both',\n",
       " 'bottom',\n",
       " 'but',\n",
       " 'by',\n",
       " 'ca',\n",
       " 'call',\n",
       " 'can',\n",
       " 'cannot',\n",
       " 'could',\n",
       " 'did',\n",
       " 'do',\n",
       " 'does',\n",
       " 'doing',\n",
       " 'done',\n",
       " 'down',\n",
       " 'due',\n",
       " 'during',\n",
       " 'each',\n",
       " 'eight',\n",
       " 'either',\n",
       " 'eleven',\n",
       " 'else',\n",
       " 'elsewhere',\n",
       " 'empty',\n",
       " 'enough',\n",
       " 'even',\n",
       " 'ever',\n",
       " 'every',\n",
       " 'everyone',\n",
       " 'everything',\n",
       " 'everywhere',\n",
       " 'except',\n",
       " 'few',\n",
       " 'fifteen',\n",
       " 'fifty',\n",
       " 'first',\n",
       " 'five',\n",
       " 'for',\n",
       " 'former',\n",
       " 'formerly',\n",
       " 'forty',\n",
       " 'four',\n",
       " 'from',\n",
       " 'front',\n",
       " 'full',\n",
       " 'further',\n",
       " 'get',\n",
       " 'give',\n",
       " 'go',\n",
       " 'had',\n",
       " 'has',\n",
       " 'have',\n",
       " 'he',\n",
       " 'hence',\n",
       " 'her',\n",
       " 'here',\n",
       " 'hereafter',\n",
       " 'hereby',\n",
       " 'herein',\n",
       " 'hereupon',\n",
       " 'hers',\n",
       " 'herself',\n",
       " 'him',\n",
       " 'himself',\n",
       " 'his',\n",
       " 'how',\n",
       " 'however',\n",
       " 'hundred',\n",
       " 'i',\n",
       " 'if',\n",
       " 'in',\n",
       " 'indeed',\n",
       " 'into',\n",
       " 'is',\n",
       " 'it',\n",
       " 'its',\n",
       " 'itself',\n",
       " 'just',\n",
       " 'keep',\n",
       " 'last',\n",
       " 'latter',\n",
       " 'latterly',\n",
       " 'least',\n",
       " 'less',\n",
       " 'made',\n",
       " 'make',\n",
       " 'many',\n",
       " 'may',\n",
       " 'me',\n",
       " 'meanwhile',\n",
       " 'might',\n",
       " 'mine',\n",
       " 'more',\n",
       " 'moreover',\n",
       " 'most',\n",
       " 'mostly',\n",
       " 'move',\n",
       " 'much',\n",
       " 'must',\n",
       " 'my',\n",
       " 'myself',\n",
       " \"n't\",\n",
       " 'name',\n",
       " 'namely',\n",
       " 'neither',\n",
       " 'never',\n",
       " 'nevertheless',\n",
       " 'next',\n",
       " 'nine',\n",
       " 'no',\n",
       " 'nobody',\n",
       " 'none',\n",
       " 'noone',\n",
       " 'nor',\n",
       " 'not',\n",
       " 'nothing',\n",
       " 'now',\n",
       " 'nowhere',\n",
       " 'n‘t',\n",
       " 'n’t',\n",
       " 'of',\n",
       " 'off',\n",
       " 'often',\n",
       " 'on',\n",
       " 'once',\n",
       " 'one',\n",
       " 'only',\n",
       " 'onto',\n",
       " 'or',\n",
       " 'other',\n",
       " 'others',\n",
       " 'otherwise',\n",
       " 'our',\n",
       " 'ours',\n",
       " 'ourselves',\n",
       " 'out',\n",
       " 'over',\n",
       " 'own',\n",
       " 'part',\n",
       " 'per',\n",
       " 'perhaps',\n",
       " 'please',\n",
       " 'put',\n",
       " 'quite',\n",
       " 'rather',\n",
       " 're',\n",
       " 'really',\n",
       " 'regarding',\n",
       " 'same',\n",
       " 'say',\n",
       " 'see',\n",
       " 'seem',\n",
       " 'seemed',\n",
       " 'seeming',\n",
       " 'seems',\n",
       " 'serious',\n",
       " 'several',\n",
       " 'she',\n",
       " 'should',\n",
       " 'show',\n",
       " 'side',\n",
       " 'since',\n",
       " 'six',\n",
       " 'sixty',\n",
       " 'so',\n",
       " 'some',\n",
       " 'somehow',\n",
       " 'someone',\n",
       " 'something',\n",
       " 'sometime',\n",
       " 'sometimes',\n",
       " 'somewhere',\n",
       " 'still',\n",
       " 'such',\n",
       " 'take',\n",
       " 'ten',\n",
       " 'than',\n",
       " 'that',\n",
       " 'the',\n",
       " 'their',\n",
       " 'them',\n",
       " 'themselves',\n",
       " 'then',\n",
       " 'thence',\n",
       " 'there',\n",
       " 'thereafter',\n",
       " 'thereby',\n",
       " 'therefore',\n",
       " 'therein',\n",
       " 'thereupon',\n",
       " 'these',\n",
       " 'they',\n",
       " 'third',\n",
       " 'this',\n",
       " 'those',\n",
       " 'though',\n",
       " 'three',\n",
       " 'through',\n",
       " 'throughout',\n",
       " 'thru',\n",
       " 'thus',\n",
       " 'to',\n",
       " 'together',\n",
       " 'too',\n",
       " 'top',\n",
       " 'toward',\n",
       " 'towards',\n",
       " 'twelve',\n",
       " 'twenty',\n",
       " 'two',\n",
       " 'under',\n",
       " 'unless',\n",
       " 'until',\n",
       " 'up',\n",
       " 'upon',\n",
       " 'us',\n",
       " 'used',\n",
       " 'using',\n",
       " 'various',\n",
       " 'very',\n",
       " 'via',\n",
       " 'was',\n",
       " 'we',\n",
       " 'well',\n",
       " 'were',\n",
       " 'what',\n",
       " 'whatever',\n",
       " 'when',\n",
       " 'whence',\n",
       " 'whenever',\n",
       " 'where',\n",
       " 'whereafter',\n",
       " 'whereas',\n",
       " 'whereby',\n",
       " 'wherein',\n",
       " 'whereupon',\n",
       " 'wherever',\n",
       " 'whether',\n",
       " 'which',\n",
       " 'while',\n",
       " 'whither',\n",
       " 'who',\n",
       " 'whoever',\n",
       " 'whole',\n",
       " 'whom',\n",
       " 'whose',\n",
       " 'why',\n",
       " 'will',\n",
       " 'with',\n",
       " 'within',\n",
       " 'without',\n",
       " 'would',\n",
       " 'yet',\n",
       " 'you',\n",
       " 'your',\n",
       " 'yours',\n",
       " 'yourself',\n",
       " 'yourselves',\n",
       " '‘d',\n",
       " '‘ll',\n",
       " '‘m',\n",
       " '‘re',\n",
       " '‘s',\n",
       " '‘ve',\n",
       " '’d',\n",
       " '’ll',\n",
       " '’m',\n",
       " '’re',\n",
       " '’s',\n",
       " '’ve'}"
      ]
     },
     "execution_count": 91,
     "metadata": {},
     "output_type": "execute_result"
    }
   ],
   "source": [
    "# Change this default stopwords list; remove those obviously related to negation, degree, etc.\n",
    "nlp = spacy.load('en_core_web_sm')\n",
    "stopwords = spacy.lang.en.stop_words.STOP_WORDS        \n",
    "nlp.Defaults.stop_words"
   ]
  },
  {
   "cell_type": "code",
   "execution_count": 92,
   "id": "84b9c276",
   "metadata": {},
   "outputs": [
    {
     "data": {
      "text/plain": [
       "326"
      ]
     },
     "execution_count": 92,
     "metadata": {},
     "output_type": "execute_result"
    }
   ],
   "source": [
    "len(nlp.Defaults.stop_words)"
   ]
  },
  {
   "cell_type": "code",
   "execution_count": 94,
   "id": "46c3fa0f",
   "metadata": {},
   "outputs": [
    {
     "data": {
      "text/plain": [
       "296"
      ]
     },
     "execution_count": 94,
     "metadata": {},
     "output_type": "execute_result"
    }
   ],
   "source": [
    "nlp.Defaults.stop_words -= {\"against\", \"all\", 'alone', 'always', 'any', 'anyone', 'anything', \n",
    "                            'cannot', 'each', 'empty', 'ever', 'every', 'everyone', \n",
    "                            'everything', 'few', 'first', 'least', 'less', 'many', 'most', \n",
    "                            'mostly', 'much', 'never', 'no', 'not', 'nothing', 'nowhere', \n",
    "                            'not', 'really', 'serious', 'whatever'}\n",
    "len(nlp.Defaults.stop_words)"
   ]
  },
  {
   "cell_type": "code",
   "execution_count": null,
   "id": "904fefcb",
   "metadata": {},
   "outputs": [],
   "source": [
    "# Now ready for lemmatization and stopword removal. \n",
    "df['no_stops_lemm'] = df.review.apply(lambda text: \" \".join(token.lemma_ for token in nlp(text) if not token.is_stop))\n",
    "\n",
    "df.no_stops_lemm.head()"
   ]
  },
  {
   "cell_type": "markdown",
   "id": "2e7471d7",
   "metadata": {},
   "source": [
    "Lemmatization took a long time. Pick up in a new notebook in order to do EDA on the language itself: "
   ]
  },
  {
   "cell_type": "markdown",
   "id": "4c06785f",
   "metadata": {},
   "source": [
    "Resources with tips for effective EDA visualization with NLP:\n",
    "\n",
    "https://medium.com/plotly/nlp-visualisations-for-clear-immediate-insights-into-text-data-and-outputs-9ebfab168d5b\n",
    "    \n",
    "https://www.numpyninja.com/post/nlp-text-data-visualization\n",
    "    \n",
    "https://www.kaggle.com/code/sainathkrothapalli/nlp-visualisation-guide\n",
    "    \n",
    "https://medium.com/acing-ai/visualizations-in-natural-language-processing-2ca60dd34ce\n",
    "    \n",
    "https://towardsdatascience.com/a-complete-exploratory-data-analysis-and-visualization-for-text-data-29fb1b96fb6a\n",
    "    \n",
    "https://towardsdatascience.com/getting-started-with-text-nlp-visualization-9dcb54bc91dd\n",
    "    \n",
    "https://www.kaggle.com/code/mitramir5/nlp-visualization-eda-glove\n",
    "    \n",
    "https://medium.com/analytics-vidhya/how-to-begin-performing-eda-on-nlp-ffdef92bedf6\n",
    "    \n",
    "https://inside-machinelearning.com/en/eda-nlp/\n",
    "    \n",
    "https://towardsdatascience.com/fundamental-eda-techniques-for-nlp-f81a93696a75\n",
    "    \n",
    "https://neptune.ai/blog/exploratory-data-analysis-natural-language-processing-tools\n",
    "    \n",
    "https://www.kdnuggets.com/2019/05/complete-exploratory-data-analysis-visualization-text-data.html\n",
    "    \n"
   ]
  }
 ],
 "metadata": {
  "kernelspec": {
   "display_name": "Python 3 (ipykernel)",
   "language": "python",
   "name": "python3"
  },
  "language_info": {
   "codemirror_mode": {
    "name": "ipython",
    "version": 3
   },
   "file_extension": ".py",
   "mimetype": "text/x-python",
   "name": "python",
   "nbconvert_exporter": "python",
   "pygments_lexer": "ipython3",
   "version": "3.9.15"
  }
 },
 "nbformat": 4,
 "nbformat_minor": 5
}
