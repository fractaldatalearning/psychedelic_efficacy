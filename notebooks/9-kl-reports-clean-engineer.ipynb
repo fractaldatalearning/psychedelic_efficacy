{
 "cells": [
  {
   "cell_type": "markdown",
   "id": "024634ee",
   "metadata": {},
   "source": [
    "# <font color='violet'> Cleaning, Parsing, Feature Engineering on Psychedelic Experience Reports\n",
    "    \n",
    "Use the same methods I used for the reviews from studies to clean up the report texts. Address any issues that are unique to the texts from Erowid and require additional cleaning. Then, do feature engineering to create the same columns from data modeled previously: complexity level, similarity with a meta-perfect-review, subjectivity, and polarity. "
   ]
  },
  {
   "cell_type": "code",
   "execution_count": 1,
   "id": "8bf0c9a7",
   "metadata": {},
   "outputs": [],
   "source": [
    "import pandas as pd\n",
    "from tqdm import tqdm"
   ]
  },
  {
   "cell_type": "code",
   "execution_count": 2,
   "id": "a5e74d07",
   "metadata": {},
   "outputs": [
    {
     "name": "stdout",
     "output_type": "stream",
     "text": [
      "<class 'pandas.core.frame.DataFrame'>\n",
      "RangeIndex: 15555 entries, 0 to 15554\n",
      "Data columns (total 8 columns):\n",
      " #   Column      Non-Null Count  Dtype \n",
      "---  ------      --------------  ----- \n",
      " 0   Unnamed: 0  15555 non-null  int64 \n",
      " 1   drug        15555 non-null  object\n",
      " 2   weight      15555 non-null  object\n",
      " 3   year        15555 non-null  object\n",
      " 4   gender      15555 non-null  object\n",
      " 5   age         15555 non-null  object\n",
      " 6   report      15555 non-null  object\n",
      " 7   url         15555 non-null  object\n",
      "dtypes: int64(1), object(7)\n",
      "memory usage: 972.3+ KB\n"
     ]
    }
   ],
   "source": [
    "df = pd.read_csv('../data/raw/erowid/raw_reports_final.csv')\n",
    "df.info()"
   ]
  },
  {
   "cell_type": "code",
   "execution_count": 3,
   "id": "4b51b97d",
   "metadata": {},
   "outputs": [
    {
     "data": {
      "text/plain": [
       "Index(['drug', 'weight', 'year', 'gender', 'age', 'report', 'url'], dtype='object')"
      ]
     },
     "execution_count": 3,
     "metadata": {},
     "output_type": "execute_result"
    }
   ],
   "source": [
    "df = df.drop(columns=['Unnamed: 0'])\n",
    "df.columns"
   ]
  },
  {
   "cell_type": "code",
   "execution_count": 4,
   "id": "ec7762ef",
   "metadata": {},
   "outputs": [
    {
     "name": "stdout",
     "output_type": "stream",
     "text": [
      "<class 'pandas.core.frame.DataFrame'>\n",
      "RangeIndex: 9330 entries, 0 to 9329\n",
      "Data columns (total 7 columns):\n",
      " #   Column  Non-Null Count  Dtype \n",
      "---  ------  --------------  ----- \n",
      " 0   drug    9330 non-null   object\n",
      " 1   weight  9330 non-null   object\n",
      " 2   year    9330 non-null   object\n",
      " 3   gender  9330 non-null   object\n",
      " 4   age     9330 non-null   object\n",
      " 5   report  9330 non-null   object\n",
      " 6   url     9330 non-null   object\n",
      "dtypes: object(7)\n",
      "memory usage: 510.4+ KB\n"
     ]
    }
   ],
   "source": [
    "# Are there rows that are total dupicates of one another?\n",
    "df = df.drop_duplicates().reset_index(drop=True)\n",
    "df.info()"
   ]
  },
  {
   "cell_type": "code",
   "execution_count": 5,
   "id": "efe47c38",
   "metadata": {},
   "outputs": [
    {
     "data": {
      "text/plain": [
       "8469"
      ]
     },
     "execution_count": 5,
     "metadata": {},
     "output_type": "execute_result"
    }
   ],
   "source": [
    "# Are there rows that are identical in everything except for the url?\n",
    "without_urls = df.drop(columns=['url']).drop_duplicates().reset_index(drop=True)\n",
    "len(without_urls)"
   ]
  },
  {
   "cell_type": "code",
   "execution_count": 6,
   "id": "bac770ac",
   "metadata": {},
   "outputs": [
    {
     "data": {
      "text/plain": [
       "['AET',\n",
       " 'AL-LAD',\n",
       " 'ALD-52',\n",
       " 'ALEPH',\n",
       " 'Aleph-4',\n",
       " 'Allylescaline',\n",
       " 'AMT',\n",
       " 'Arylcyclohexylamines',\n",
       " 'Ayahuasca',\n",
       " 'Banisteriopsis caapi']"
      ]
     },
     "execution_count": 6,
     "metadata": {},
     "output_type": "execute_result"
    }
   ],
   "source": [
    "# Get my list of target drugs I actually want to analyze. \n",
    "drugs_file = open('../data/raw/erowid/psychedelic_drugs.txt', 'r')\n",
    "drugs_as_string = drugs_file.read()\n",
    "psychedelic_drugs = drugs_as_string.split(',')\n",
    "psychedelic_drugs[:10]"
   ]
  },
  {
   "cell_type": "code",
   "execution_count": 11,
   "id": "a4aba6e9",
   "metadata": {},
   "outputs": [
    {
     "name": "stdout",
     "output_type": "stream",
     "text": [
      "<class 'pandas.core.frame.DataFrame'>\n",
      "Int64Index: 4985 entries, 0 to 8467\n",
      "Data columns (total 6 columns):\n",
      " #   Column  Non-Null Count  Dtype \n",
      "---  ------  --------------  ----- \n",
      " 0   drug    4985 non-null   object\n",
      " 1   weight  4985 non-null   object\n",
      " 2   year    4985 non-null   object\n",
      " 3   gender  4985 non-null   object\n",
      " 4   age     4985 non-null   object\n",
      " 5   report  4985 non-null   object\n",
      "dtypes: object(6)\n",
      "memory usage: 272.6+ KB\n"
     ]
    }
   ],
   "source": [
    "# Rename the dataframes I'm working with\n",
    "with_urls = df.copy()\n",
    "\n",
    "# Drop rows from without_urls for non-target drugs\n",
    "df = without_urls[without_urls.drug.isin(psychedelic_drugs)].copy()\n",
    "df.info()"
   ]
  },
  {
   "cell_type": "code",
   "execution_count": null,
   "id": "4d2ef09a",
   "metadata": {},
   "outputs": [],
   "source": [
    "# How many reviews are still duplicated?\n",
    "len(set(df.report))"
   ]
  },
  {
   "cell_type": "code",
   "execution_count": null,
   "id": "5943c1e3",
   "metadata": {},
   "outputs": [],
   "source": []
  },
  {
   "cell_type": "markdown",
   "id": "c0ab65b5",
   "metadata": {},
   "source": [
    "<font color='violet'> Next step. "
   ]
  },
  {
   "cell_type": "code",
   "execution_count": 8,
   "id": "00a95fd8",
   "metadata": {},
   "outputs": [],
   "source": [
    "df.to_csv('../data/processed/erowid_cleaned.csv')"
   ]
  },
  {
   "cell_type": "code",
   "execution_count": null,
   "id": "c3929256",
   "metadata": {},
   "outputs": [],
   "source": []
  }
 ],
 "metadata": {
  "kernelspec": {
   "display_name": "Python 3 (ipykernel)",
   "language": "python",
   "name": "python3"
  },
  "language_info": {
   "codemirror_mode": {
    "name": "ipython",
    "version": 3
   },
   "file_extension": ".py",
   "mimetype": "text/x-python",
   "name": "python",
   "nbconvert_exporter": "python",
   "pygments_lexer": "ipython3",
   "version": "3.9.15"
  }
 },
 "nbformat": 4,
 "nbformat_minor": 5
}
