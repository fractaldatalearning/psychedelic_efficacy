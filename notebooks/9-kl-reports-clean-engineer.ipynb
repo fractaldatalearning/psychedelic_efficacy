{
 "cells": [
  {
   "cell_type": "markdown",
   "id": "024634ee",
   "metadata": {},
   "source": [
    "# <font color='violet'> Cleaning, Parsing, Feature Engineering on Psychedelic Experience Reports\n",
    "    \n",
    "Use the same methods I used for the reviews from studies to clean up the report texts. Address any issues that are unique to the texts from Erowid and require additional cleaning. Then, do feature engineering to create the same columns from data modeled previously: complexity level, similarity with a meta-perfect-review, subjectivity, and polarity. "
   ]
  },
  {
   "cell_type": "code",
   "execution_count": 78,
   "id": "8bf0c9a7",
   "metadata": {},
   "outputs": [],
   "source": [
    "import pandas as pd\n",
    "from tqdm import tqdm\n",
    "from collections import Counter\n",
    "from textstat import flesch_kincaid_grade\n",
    "import contractions"
   ]
  },
  {
   "cell_type": "code",
   "execution_count": 98,
   "id": "4f2d0722",
   "metadata": {},
   "outputs": [
    {
     "ename": "ImportError",
     "evalue": "cannot import name 'strip_emoji_like_if_spaces' from 'nlp.parse' (/Users/admin/Documents/GitHub/psychedelic_efficacy/notebooks/../src/nlp/parse.py)",
     "output_type": "error",
     "traceback": [
      "\u001b[0;31m---------------------------------------------------------------------------\u001b[0m",
      "\u001b[0;31mImportError\u001b[0m                               Traceback (most recent call last)",
      "Cell \u001b[0;32mIn[98], line 7\u001b[0m\n\u001b[1;32m      4\u001b[0m sys\u001b[38;5;241m.\u001b[39mpath\u001b[38;5;241m.\u001b[39mappend(src)\n\u001b[1;32m      6\u001b[0m \u001b[38;5;66;03m# import local functions\u001b[39;00m\n\u001b[0;32m----> 7\u001b[0m \u001b[38;5;28;01mfrom\u001b[39;00m \u001b[38;5;21;01mnlp\u001b[39;00m\u001b[38;5;21;01m.\u001b[39;00m\u001b[38;5;21;01mparse\u001b[39;00m \u001b[38;5;28;01mimport\u001b[39;00m remove_accented_chars, strip_most_punc, strip_apostrophe, \\\n\u001b[1;32m      8\u001b[0m strip_emoji_like_if_spaces, strip_non_emoji_emoji_symbol\n",
      "\u001b[0;31mImportError\u001b[0m: cannot import name 'strip_emoji_like_if_spaces' from 'nlp.parse' (/Users/admin/Documents/GitHub/psychedelic_efficacy/notebooks/../src/nlp/parse.py)"
     ]
    }
   ],
   "source": [
    "# prepare to add local python functions; import modules from src directory\n",
    "import sys\n",
    "src = '../src'\n",
    "sys.path.append(src)\n",
    "\n",
    "# import local functions\n",
    "from nlp.parse import remove_accented_chars, strip_most_punc, strip_apostrophe, \\\n",
    "strip_emoji_like_if_spaces, strip_non_emoji_emoji_symbol"
   ]
  },
  {
   "cell_type": "code",
   "execution_count": 2,
   "id": "a5e74d07",
   "metadata": {},
   "outputs": [
    {
     "name": "stdout",
     "output_type": "stream",
     "text": [
      "<class 'pandas.core.frame.DataFrame'>\n",
      "RangeIndex: 15994 entries, 0 to 15993\n",
      "Data columns (total 8 columns):\n",
      " #   Column      Non-Null Count  Dtype \n",
      "---  ------      --------------  ----- \n",
      " 0   Unnamed: 0  15994 non-null  int64 \n",
      " 1   drug        15994 non-null  object\n",
      " 2   weight      15994 non-null  object\n",
      " 3   year        15994 non-null  object\n",
      " 4   gender      15994 non-null  object\n",
      " 5   age         15994 non-null  object\n",
      " 6   report      15994 non-null  object\n",
      " 7   url         15994 non-null  object\n",
      "dtypes: int64(1), object(7)\n",
      "memory usage: 999.8+ KB\n"
     ]
    }
   ],
   "source": [
    "df = pd.read_csv('../data/raw/erowid/raw_reports_final.csv')\n",
    "df.info()"
   ]
  },
  {
   "cell_type": "code",
   "execution_count": 3,
   "id": "4b51b97d",
   "metadata": {},
   "outputs": [
    {
     "data": {
      "text/plain": [
       "Index(['drug', 'weight', 'year', 'gender', 'age', 'report', 'url'], dtype='object')"
      ]
     },
     "execution_count": 3,
     "metadata": {},
     "output_type": "execute_result"
    }
   ],
   "source": [
    "df = df.drop(columns=['Unnamed: 0'])\n",
    "df.columns"
   ]
  },
  {
   "cell_type": "code",
   "execution_count": 4,
   "id": "ec7762ef",
   "metadata": {},
   "outputs": [
    {
     "name": "stdout",
     "output_type": "stream",
     "text": [
      "<class 'pandas.core.frame.DataFrame'>\n",
      "RangeIndex: 9458 entries, 0 to 9457\n",
      "Data columns (total 7 columns):\n",
      " #   Column  Non-Null Count  Dtype \n",
      "---  ------  --------------  ----- \n",
      " 0   drug    9458 non-null   object\n",
      " 1   weight  9458 non-null   object\n",
      " 2   year    9458 non-null   object\n",
      " 3   gender  9458 non-null   object\n",
      " 4   age     9458 non-null   object\n",
      " 5   report  9458 non-null   object\n",
      " 6   url     9458 non-null   object\n",
      "dtypes: object(7)\n",
      "memory usage: 517.4+ KB\n"
     ]
    }
   ],
   "source": [
    "# Are there rows that are total dupicates of one another?\n",
    "df = df.drop_duplicates().reset_index(drop=True)\n",
    "df.info()"
   ]
  },
  {
   "cell_type": "code",
   "execution_count": 5,
   "id": "efe47c38",
   "metadata": {},
   "outputs": [
    {
     "data": {
      "text/plain": [
       "9458"
      ]
     },
     "execution_count": 5,
     "metadata": {},
     "output_type": "execute_result"
    }
   ],
   "source": [
    "# Are there rows that are identical in everything except for the url?\n",
    "without_urls = df.drop(columns=['url']).drop_duplicates().reset_index(drop=True)\n",
    "len(without_urls)"
   ]
  },
  {
   "cell_type": "code",
   "execution_count": 6,
   "id": "bac770ac",
   "metadata": {},
   "outputs": [
    {
     "data": {
      "text/plain": [
       "['AET',\n",
       " 'AL-LAD',\n",
       " 'ALD-52',\n",
       " 'ALEPH',\n",
       " 'Aleph-4',\n",
       " 'Allylescaline',\n",
       " 'AMT',\n",
       " 'Arylcyclohexylamines',\n",
       " 'Ayahuasca',\n",
       " 'Banisteriopsis caapi']"
      ]
     },
     "execution_count": 6,
     "metadata": {},
     "output_type": "execute_result"
    }
   ],
   "source": [
    "# Get my list of target drugs I actually want to analyze. \n",
    "drugs_file = open('../data/raw/erowid/psychedelic_drugs.txt', 'r')\n",
    "drugs_as_string = drugs_file.read()\n",
    "psychedelic_drugs = drugs_as_string.split(',')\n",
    "psychedelic_drugs[:10]"
   ]
  },
  {
   "cell_type": "code",
   "execution_count": 7,
   "id": "a4aba6e9",
   "metadata": {},
   "outputs": [
    {
     "name": "stdout",
     "output_type": "stream",
     "text": [
      "<class 'pandas.core.frame.DataFrame'>\n",
      "Int64Index: 5458 entries, 0 to 9456\n",
      "Data columns (total 6 columns):\n",
      " #   Column  Non-Null Count  Dtype \n",
      "---  ------  --------------  ----- \n",
      " 0   drug    5458 non-null   object\n",
      " 1   weight  5458 non-null   object\n",
      " 2   year    5458 non-null   object\n",
      " 3   gender  5458 non-null   object\n",
      " 4   age     5458 non-null   object\n",
      " 5   report  5458 non-null   object\n",
      "dtypes: object(6)\n",
      "memory usage: 298.5+ KB\n"
     ]
    }
   ],
   "source": [
    "# Rename the dataframes I'm working with\n",
    "with_urls = df.copy()\n",
    "\n",
    "# Drop rows from without_urls for non-target drugs\n",
    "df = without_urls[without_urls.drug.isin(psychedelic_drugs)].copy()\n",
    "df.info()"
   ]
  },
  {
   "cell_type": "code",
   "execution_count": 8,
   "id": "4d2ef09a",
   "metadata": {},
   "outputs": [
    {
     "data": {
      "text/plain": [
       "4554"
      ]
     },
     "execution_count": 8,
     "metadata": {},
     "output_type": "execute_result"
    }
   ],
   "source": [
    "# How many reviews are still duplicated?\n",
    "len(set(df.report))"
   ]
  },
  {
   "cell_type": "markdown",
   "id": "442253c0",
   "metadata": {},
   "source": [
    "Remove some rows where duplicate reviews are associated with multiple drugs. Remove the row with the less common drug, so that I maximize data I have on the most popular psychedelics. \n",
    "<font color='violet'> Remove rows with duplicate reviews. "
   ]
  },
  {
   "cell_type": "code",
   "execution_count": 25,
   "id": "edf2fdd2",
   "metadata": {},
   "outputs": [
    {
     "name": "stdout",
     "output_type": "stream",
     "text": [
      "<class 'pandas.core.frame.DataFrame'>\n",
      "RangeIndex: 5458 entries, 0 to 5457\n",
      "Data columns (total 6 columns):\n",
      " #   Column  Non-Null Count  Dtype \n",
      "---  ------  --------------  ----- \n",
      " 0   drug    5458 non-null   object\n",
      " 1   weight  5458 non-null   object\n",
      " 2   year    5458 non-null   object\n",
      " 3   gender  5458 non-null   object\n",
      " 4   age     5458 non-null   object\n",
      " 5   report  5458 non-null   object\n",
      "dtypes: object(6)\n",
      "memory usage: 256.0+ KB\n"
     ]
    }
   ],
   "source": [
    "# I'll need an index without gaps\n",
    "df = df.reset_index(drop=True)\n",
    "df.info()"
   ]
  },
  {
   "cell_type": "code",
   "execution_count": 20,
   "id": "5943c1e3",
   "metadata": {},
   "outputs": [
    {
     "data": {
      "text/plain": [
       "{'MDMA': 223,\n",
       " 'LSD': 181,\n",
       " 'DMT': 157,\n",
       " '2C-I': 127,\n",
       " 'Ketamine': 126,\n",
       " 'Mushrooms': 123,\n",
       " 'Mimosa tenuiflora': 123,\n",
       " '4-AcO-DMT': 120,\n",
       " '2C-E': 120,\n",
       " '2C-B': 113,\n",
       " 'Methoxetamine': 109,\n",
       " '5-MeO-DMT': 109,\n",
       " 'Mushrooms - P. cubensis': 109,\n",
       " 'DPT': 107,\n",
       " 'H.B. Woodrose': 105,\n",
       " '2C-T-2': 104,\n",
       " '2C-C': 98,\n",
       " '2C-T-7': 98,\n",
       " 'Ayahuasca': 97,\n",
       " '5-MeO-DiPT': 96,\n",
       " 'DOC': 95,\n",
       " '1P-LSD': 94,\n",
       " '5-MeO-MIPT': 94,\n",
       " 'AMT': 94,\n",
       " '4-HO-MET': 94,\n",
       " '5-MeO-AMT': 93,\n",
       " 'PCP': 91,\n",
       " '4-HO-MiPT': 89,\n",
       " '2C-P': 88,\n",
       " 'MDA': 86,\n",
       " 'Mescaline': 85,\n",
       " 'AL-LAD': 80,\n",
       " 'Banisteriopsis caapi': 79,\n",
       " 'DiPT': 76,\n",
       " 'Mushrooms - P. semilanceata': 71,\n",
       " '2C-D': 69,\n",
       " 'Tabernanthe iboga': 61,\n",
       " '3-MeO-PCP': 60,\n",
       " '4-HO-DiPT': 57,\n",
       " 'DOM': 54,\n",
       " '4-AcO-DET': 54,\n",
       " '4-AcO-DiPT': 54,\n",
       " 'DOB': 54,\n",
       " 'Mushrooms - P. cyanescens': 47,\n",
       " 'Peyote': 45,\n",
       " 'DOI': 43,\n",
       " 'Ibogaine': 43,\n",
       " 'MDAI': 42,\n",
       " 'Mushrooms - Panaeolus cyanescens': 36,\n",
       " 'Mushrooms - P. mexicana': 35,\n",
       " 'Deschloroketamine': 34,\n",
       " 'TMA-2': 33,\n",
       " 'ALD-52': 32,\n",
       " '4-AcO-MiPT': 32,\n",
       " '3-MEO-PCE': 26,\n",
       " '2C-B-Fly': 26,\n",
       " '2C-T-21': 25,\n",
       " 'Mushrooms - P. tampanensis': 25,\n",
       " 'LSZ': 25,\n",
       " '5-MeO-DALT': 24,\n",
       " '2C-T-4': 23,\n",
       " '4-AcO-MET': 22,\n",
       " 'Methallylescaline': 22,\n",
       " 'Mushrooms - P. subaeruginosa': 21,\n",
       " 'ETH-LAD': 20,\n",
       " 'Allylescaline': 19,\n",
       " '2-Fluorodeschloroketamine': 17,\n",
       " \"2'-Oxo-PCE\": 17,\n",
       " 'Mushrooms - P. azurescens': 17,\n",
       " '4-HO-DET': 17,\n",
       " 'Phenethylamine': 15,\n",
       " '3-HO-PCP': 15,\n",
       " 'MET': 14,\n",
       " 'S-Ketamine': 14,\n",
       " 'DET': 14,\n",
       " 'MIPT': 14,\n",
       " 'Herbal Ecstasy': 14,\n",
       " 'Psilocin': 13,\n",
       " 'LSA': 12,\n",
       " 'Harmaline': 11,\n",
       " '4-MeO-PCP': 11,\n",
       " 'Methoxpropamine': 10,\n",
       " 'DMXE': 10,\n",
       " 'Huasca Brew': 10,\n",
       " 'MDE': 10,\n",
       " 'BOD': 9,\n",
       " '3C-P': 9,\n",
       " '4-MeO-MiPT': 9,\n",
       " 'AET': 8,\n",
       " '1cP-LSD': 8,\n",
       " 'MXiPr': 8,\n",
       " '5-MeO-DPT': 8,\n",
       " 'DOPR': 7,\n",
       " 'TMA-6': 7,\n",
       " '4-HO-DPT': 6,\n",
       " 'Mushrooms - P. atlantis': 6,\n",
       " 'Bufotenin': 6,\n",
       " 'MIPLA': 6,\n",
       " '1V-LSD': 6,\n",
       " 'DALT': 5,\n",
       " 'Harmine': 5,\n",
       " 'Tetrahydroharmine': 5,\n",
       " 'Mushrooms - G. spectabilis': 5,\n",
       " '2C-N': 5,\n",
       " '2C-TFM': 5,\n",
       " '4-HO-EPT': 5,\n",
       " '4-HO-PIPT': 5,\n",
       " 'MPT': 4,\n",
       " 'DOF': 4,\n",
       " 'DON': 4,\n",
       " '4-AcO-DPT': 4,\n",
       " 'Escaline': 4,\n",
       " '2C-EF': 4,\n",
       " 'Proscaline': 4,\n",
       " 'Psilocybin': 4,\n",
       " '3C-E': 4,\n",
       " '4-AcO-DALT': 4,\n",
       " '4-HO-MCPT': 4,\n",
       " 'ALEPH': 3,\n",
       " 'Fluorexetamine': 3,\n",
       " 'Cacti - Mescaline-containing': 3,\n",
       " 'DOET': 3,\n",
       " 'DOIP': 3,\n",
       " 'MMDA': 3,\n",
       " 'PCE': 3,\n",
       " '5-MeO-MET': 3,\n",
       " '1P-ETH-LAD': 3,\n",
       " '3-HO-PCE': 3,\n",
       " '5-MeO-MALT': 3,\n",
       " '4-HO-MPT': 3,\n",
       " '4-PrO-DMT': 3,\n",
       " '3-Methyl-PCP': 2,\n",
       " 'BOH-2C-B': 2,\n",
       " '5-Chloro-AMT': 2,\n",
       " 'Mimosa spp.': 2,\n",
       " 'LSM-775': 2,\n",
       " 'MALT': 2,\n",
       " 'MEM': 2,\n",
       " 'TCB-2': 2,\n",
       " '1B-LSD': 2,\n",
       " '3-Me-PCPy': 2,\n",
       " '3-MeO-PCMo': 2,\n",
       " '3F-PCP': 2,\n",
       " '5-MeO-TMT': 2,\n",
       " '5-Methoxy-Tryptamine': 2,\n",
       " '4-HO-MALT': 2,\n",
       " '4-MTA': 2,\n",
       " '4C-D': 2,\n",
       " 'HXE': 1,\n",
       " 'DMT-Containing': 1,\n",
       " 'EIPLA': 1,\n",
       " 'EPT': 1,\n",
       " 'HOT-2': 1,\n",
       " 'Huasca Combo': 1,\n",
       " 'Isoproscaline': 1,\n",
       " 'Mimosa ophthalmocentra': 1,\n",
       " 'MMDA-3a': 1,\n",
       " 'Mushrooms - P. weilii': 1,\n",
       " 'Phenethylamines - Other': 1,\n",
       " 'PIPT': 1,\n",
       " 'TMA': 1,\n",
       " '1cP-AL-LAD': 1,\n",
       " '1F-LSD': 1,\n",
       " '2-Me-DMT': 1,\n",
       " '2C-G-N': 1,\n",
       " '2C-H': 1,\n",
       " '2C-IP': 1,\n",
       " '3-Cl-PCP': 1,\n",
       " '3-Me-PCE': 1,\n",
       " '4-AcO-EIPT': 1,\n",
       " '4-AcO-EPT': 1,\n",
       " '4-AcO-MPT': 1,\n",
       " '5-MeO-EIPT': 1,\n",
       " '5-MeO-AET': 1}"
      ]
     },
     "execution_count": 20,
     "metadata": {},
     "output_type": "execute_result"
    }
   ],
   "source": [
    "drug_prevalance = out = dict(Counter(df['drug'].explode()).most_common())\n",
    "drug_prevalance"
   ]
  },
  {
   "cell_type": "code",
   "execution_count": 30,
   "id": "ea47d468",
   "metadata": {},
   "outputs": [
    {
     "name": "stderr",
     "output_type": "stream",
     "text": [
      "100%|██████████| 5458/5458 [14:01<00:00,  6.49it/s]\n"
     ]
    },
    {
     "data": {
      "text/plain": [
       "1144"
      ]
     },
     "execution_count": 30,
     "metadata": {},
     "output_type": "execute_result"
    }
   ],
   "source": [
    "# Remove the less-common drug's row for duplicate reviews\n",
    "indices_to_drop = []\n",
    "\n",
    "for row in tqdm(range(len(df))):\n",
    "    for n in range(row-1):\n",
    "        # Not all combos of row+n will work.  \n",
    "        try:\n",
    "            # Identify later rows where the reviews are the same as the target row\n",
    "            if (df.loc[row,'report'] == df.loc[row+n, 'report']) & (drug_prevalance[\n",
    "                # Only delete the row with a less-common drug, if there is one. \n",
    "                df.loc[row,'drug']] < drug_prevalance[df.loc[row+n,'drug']]):\n",
    "                indices_to_drop.append(row)\n",
    "            # See about whether row+n is actually smaller. \n",
    "            elif (df.loc[row,'report'] == df.loc[row+n, 'report']) & (drug_prevalance[\n",
    "                df.loc[row,'drug']] > drug_prevalance[df.loc[row+n,'drug']]):\n",
    "                indices_to_drop.append(row+n)\n",
    "            # If drug prevalance for row == for row+n, it's probably the same row: keep this row.\n",
    "            else: pass\n",
    "        except: pass\n",
    "            \n",
    "len(indices_to_drop)     "
   ]
  },
  {
   "cell_type": "code",
   "execution_count": 33,
   "id": "00a95fd8",
   "metadata": {},
   "outputs": [
    {
     "name": "stdout",
     "output_type": "stream",
     "text": [
      "<class 'pandas.core.frame.DataFrame'>\n",
      "Int64Index: 4562 entries, 0 to 5457\n",
      "Data columns (total 6 columns):\n",
      " #   Column  Non-Null Count  Dtype \n",
      "---  ------  --------------  ----- \n",
      " 0   drug    4562 non-null   object\n",
      " 1   weight  4562 non-null   object\n",
      " 2   year    4562 non-null   object\n",
      " 3   gender  4562 non-null   object\n",
      " 4   age     4562 non-null   object\n",
      " 5   report  4562 non-null   object\n",
      "dtypes: object(6)\n",
      "memory usage: 249.5+ KB\n"
     ]
    }
   ],
   "source": [
    "# This is close to what I'd expect the length of duplicates to be. Drop these rows.\n",
    "df = df.drop(index=indices_to_drop)\n",
    "df.info()"
   ]
  },
  {
   "cell_type": "markdown",
   "id": "32623254",
   "metadata": {},
   "source": [
    "<font color='violet'> Parse text \n",
    "    \n",
    " In general, use the same processes used on previously-modeled reviews of psych meds from studies. \n",
    "    \n",
    "But before removing punctuation and such, I had previously noticed that most of the reports started with a bunch of html still present. Remove that, then create a function or functions that clean up the core text. "
   ]
  },
  {
   "cell_type": "code",
   "execution_count": 34,
   "id": "e788d255",
   "metadata": {},
   "outputs": [
    {
     "data": {
      "text/plain": [
       "\"\\n\\n\\xa0\\n\\n\\n\\n\\nDOSE:\\n\\xa0 repeated\\nsmoked\\nDMT\\n\\n\\n\\xa0\\n\\xa0 repeated\\nsmoked\\nCannabis\\n\\n\\n\\n\\n\\nBODY WEIGHT:\\n102 kg\\n\\n\\n\\n\\nSeeing my Buddha-Nature on DMT \\r\\n\\nI am a 22 year old male around 102kg. What I am about to tell you is my experience of using DMT for the first time. I took around 100-150mg of DMT about a month ago. I have no clue as to what the exact dosage is I have no clue as to what the exact dosage is, because I eventually started eyeballing it trying to take bigger dosages in my attempt to “break through”, which I believe was unsuccessful. My only other psychedelic experience is LSD which I tripped heavily on around a year ago, but I stopped completely a couple months before this experience. I am writing this from memory so all of the details may not be 100 percent accurate. \\r\\n\\nThis trip happened about a month ago. I decided to try DMT for the first time because the guy I usually see had it and it tested clean. I also live in student accommodation and everyone had left for christmas and I was the only one still there, so I had no one to bother me when I was tripping and to smell the DMT if I smoked it in my room, which I did. It was the perfect opportunity. \\r\\n\\nAfter I had got the DMT I went to my room, loaded up my bong with one layer of weed, one layer of DMT and another layer of weed again. I was a bit nervous because it was my first time doing DMT and most people say it is very intense. My mistake was loading up the cone piece with too much weed, which meant I couldn’t hold in the hits for very long, so I ended up wasting most of the DMT. The first couple hits were nothing amazing, I got very slight open eye visuals, almost like taking LSD but lasting for a fraction of a second. After a while I closed my eyes and that was where the real experience began. \\r\\n\\nI believe what I saw was influenced by my religious/spiritual beliefs, research and historical knowledge. I am interested in many different types of philosophy, mainly Buddhist philosophy and spirituality as of late, and also western practices and ideas to do with the esoteric/spiritual. As for my religion, I am a Buddhist. I also like to study history, mainly ancient/medieval europe/near east in particular. Many things I will describe relate to specific spiritual doctrines so I will provide links to those for you to research instead of me trying to explain them.\\r\\n\\nClosing my eyes I was transported to a buddhist temple on the coast. Either side of the temple I could see massive white cliffs stretching out to the horizon with ocean waves crashing against them. I was standing in the main courtyard of the temple. The closest looking thing to the courtyard I can describe was the ancient Greek theaters, with stairs going upwards surrounding a flat “stage”. On the stage were many avatars of Hindu gods dancing, as well as Bodhisattvas, as well as different incarnations of the Buddha. Many monks dressed in orange robes were watching from the stairs. \\r\\n\\nI then flew up into the sky and over the ocean. Hovering over the water was a massive wrathful deity. I can’t describe how it looked but if you search google images it will give you a rough approximation. Out of this deity came a being of pure light in the shape of a man, which I knew was the spirit of the Buddha, which I will just call “the spirit” from now on. Most of the information wasn’t communicated to me, I just “knew”. The spirit and I also communicated telepathically and could change our forms at will, although we mostly kept our original forms. The spirit took me higher into the air and I could see the island which the temple was on from a birds-eye view, as well as other islands around it. The spirit told me I was going to see my past lives and flew me to a cold, forested island north of the “temple island”. \\r\\n\\nI saw a clearing next to a stream in a pine forest, with a large cave a few meters away. Out of that cave came a pale, hunched over creature that walked on all fours, resembling a man. The closest thing that looked like the man was Gollum from LOTR. I saw it hobbling out of the cave, through the trees and towards the steam. I knew this creature was me from one of my previous lives. The spirit then flew me upwards and towards the next life.\\r\\n\\nWe soon entered a medieval style city. All of the buildings were multi-story, Tudor style buildings. We stood in the large town square and walked around for a while. I then saw a beautiful woman brushing her hair in the sun and I briefly stopped to look at her. I wanted to stay longer in this city. After a while the spirit wanted me to leave to see the rest of my lives, but I refused to go. The spirit then cast dark clouds over the city, turning it from charming to almost sinister. The entire vibe shifted and I left quickly with the spirit into the air. \\r\\n\\nI was then transported into a large room of a french medieval castle. I knew that I was back during the medieval era but I’m not sure on the exact date. At the head of the table sat the king and surrounding the table were his closest nobles. When I saw one of the nobles I knew that he was one of my distant ancestors as well as one of my previous lives. I then left.\\r\\n\\nI then arrived at an English forest during the Anglo-Saxon period. I saw two Anglo-Saxon warriors walking through the forest, wearing full chain mail, swords strapped to their sides and shields on their backs. I knew that one of them was my ancestor as well as one of my previous lives, much like the last place I had been to. I flew with the spirit into the sky again. \\r\\n\\nThis time we flew higher into the sky, out of the atmosphere and into earth's orbit. Me and the spirit hovered looking down at the earth. The spirit then told me it wasn’t a separate entity from myself and was my “Buddha nature”. It was the part of myself that contained the potential for my enlightenment but hadn’t been “activated” yet. After I was told this the spirit disappeared. The trip ended suddenly as though I clicked my fingers and I was back to being completely sober. \\r\\n\\nI don’t know what to make of this experience but overall I learned at least a bit more about myself and hopefully the nature of reality/consciousness.\\n\\n\\nExp Year: 2022ExpID: 116975\\nGender: Male\\xa0\\nAge at time of experience: 22\\xa0\\nPublished: Jan 28, 2023Views: 141\\n[ View as PDF (for printing) ] [ View as LaTeX (for geeks) ]\\n[ Switch Colors ]\\n\\nDMT (18), Cannabis (1) : First Times (2), Combinations (3), Entities / Beings (37), Alone (16)\\n\\n\\n\""
      ]
     },
     "execution_count": 34,
     "metadata": {},
     "output_type": "execute_result"
    }
   ],
   "source": [
    "# Take a look at one of the reports\n",
    "df.report[0]"
   ]
  },
  {
   "cell_type": "markdown",
   "id": "fe17bbd3",
   "metadata": {},
   "source": [
    "I want to remove everything through the final string of 5 line breaks \\n\\n\\n\\n\\n that comes after the BODY WEIGHT section. And everything past \"Exp Year\". Is this a consistent pattern across many of the strings?\n",
    "\n",
    " Start by removing everything up through the word WEIGHT; there are multiple \\n\\n\\n\\n\\nbefore that; removing them will make it easier to find the final \\n\\n\\n\\n\\n"
   ]
  },
  {
   "cell_type": "code",
   "execution_count": 55,
   "id": "f0473dab",
   "metadata": {},
   "outputs": [
    {
     "data": {
      "text/plain": [
       "'\\n\\n\\xa0\\n\\n\\n\\n\\nDOSE:\\n\\xa0 repeated\\nsmoked\\nDMT\\n\\n\\n\\xa0\\n\\xa0 repeated\\nsmoked\\nCannabis\\n\\n\\n\\n\\n\\nBODY WEIGHT'"
      ]
     },
     "execution_count": 55,
     "metadata": {},
     "output_type": "execute_result"
    }
   ],
   "source": [
    "# Test with the first text\n",
    "text = df.report[0]\n",
    "cut_beg_loc = text.index('WEIGHT')\n",
    "beg_to_cut = text[:cut_beg_loc] + 'WEIGHT'\n",
    "beg_to_cut"
   ]
  },
  {
   "cell_type": "code",
   "execution_count": 56,
   "id": "542335e0",
   "metadata": {},
   "outputs": [
    {
     "data": {
      "text/html": [
       "<div>\n",
       "<style scoped>\n",
       "    .dataframe tbody tr th:only-of-type {\n",
       "        vertical-align: middle;\n",
       "    }\n",
       "\n",
       "    .dataframe tbody tr th {\n",
       "        vertical-align: top;\n",
       "    }\n",
       "\n",
       "    .dataframe thead th {\n",
       "        text-align: right;\n",
       "    }\n",
       "</style>\n",
       "<table border=\"1\" class=\"dataframe\">\n",
       "  <thead>\n",
       "    <tr style=\"text-align: right;\">\n",
       "      <th></th>\n",
       "      <th>drug</th>\n",
       "      <th>weight</th>\n",
       "      <th>year</th>\n",
       "      <th>gender</th>\n",
       "      <th>age</th>\n",
       "      <th>report</th>\n",
       "    </tr>\n",
       "  </thead>\n",
       "  <tbody>\n",
       "    <tr>\n",
       "      <th>0</th>\n",
       "      <td>DMT</td>\n",
       "      <td>102 kg</td>\n",
       "      <td>2022</td>\n",
       "      <td>Male</td>\n",
       "      <td>22</td>\n",
       "      <td>\\n\\n \\n\\n\\n\\n\\nDOSE:\\n  repeated\\nsmoked\\nDMT\\...</td>\n",
       "    </tr>\n",
       "    <tr>\n",
       "      <th>1</th>\n",
       "      <td>AET</td>\n",
       "      <td>150 lb</td>\n",
       "      <td>2006</td>\n",
       "      <td>Male</td>\n",
       "      <td>Not Given</td>\n",
       "      <td>\\n\\n\\n \\n\\n\\n\\n\\nDOSE:\\n  repeated\\ninsufflate...</td>\n",
       "    </tr>\n",
       "  </tbody>\n",
       "</table>\n",
       "</div>"
      ],
      "text/plain": [
       "  drug  weight  year gender        age  \\\n",
       "0  DMT  102 kg  2022   Male         22   \n",
       "1  AET  150 lb  2006   Male  Not Given   \n",
       "\n",
       "                                              report  \n",
       "0  \\n\\n \\n\\n\\n\\n\\nDOSE:\\n  repeated\\nsmoked\\nDMT\\...  \n",
       "1  \\n\\n\\n \\n\\n\\n\\n\\nDOSE:\\n  repeated\\ninsufflate...  "
      ]
     },
     "execution_count": 56,
     "metadata": {},
     "output_type": "execute_result"
    }
   ],
   "source": [
    "# Reset the index again\n",
    "df = df.reset_index(drop=True)\n",
    "df.head(2)"
   ]
  },
  {
   "cell_type": "code",
   "execution_count": 57,
   "id": "148aedc8",
   "metadata": {},
   "outputs": [
    {
     "name": "stderr",
     "output_type": "stream",
     "text": [
      "100%|██████████| 4562/4562 [00:00<00:00, 5742.82it/s]\n"
     ]
    },
    {
     "data": {
      "text/plain": [
       "0    :\\n102 kg\\n\\n\\n\\n\\nSeeing my Buddha-Nature on ...\n",
       "1    :\\n150 lb\\n\\n\\n\\n\\n\\nOver the past week, I've ...\n",
       "2    :\\n170 lb\\n\\n\\n\\n\\n\\n8:00 p.m.\\t130 mg AET ora...\n",
       "Name: report, dtype: object"
      ]
     },
     "execution_count": 57,
     "metadata": {},
     "output_type": "execute_result"
    }
   ],
   "source": [
    "# Remove everything up through WEIGHT on every report. \n",
    "\n",
    "for row in tqdm(range(len(df))):\n",
    "    text = df.loc[row,'report']\n",
    "    cut_beg_idx = text.index('WEIGHT')\n",
    "    beg_to_cut = text[:cut_beg_idx] + 'WEIGHT'\n",
    "    new_text = text.replace(beg_to_cut,'')\n",
    "    df.loc[row,'report'] = new_text\n",
    "\n",
    "# check if that worked\n",
    "df.report[:3]"
   ]
  },
  {
   "cell_type": "code",
   "execution_count": 60,
   "id": "4ed453c3",
   "metadata": {},
   "outputs": [
    {
     "data": {
      "text/plain": [
       "':\\n102 kg\\n\\n\\n\\n\\n'"
      ]
     },
     "execution_count": 60,
     "metadata": {},
     "output_type": "execute_result"
    }
   ],
   "source": [
    "# Looking good so far. Now remove up through the \\n\\n\\n\\n\\n. Test with the first text first.\n",
    "text = df.report[0]\n",
    "cut_beg_loc = text.index('\\n\\n\\n\\n\\n')\n",
    "beg_to_cut = text[:cut_beg_loc] + '\\n\\n\\n\\n\\n'\n",
    "beg_to_cut"
   ]
  },
  {
   "cell_type": "code",
   "execution_count": 61,
   "id": "e3e2575d",
   "metadata": {},
   "outputs": [
    {
     "name": "stderr",
     "output_type": "stream",
     "text": [
      "100%|██████████| 4562/4562 [00:00<00:00, 7838.53it/s]\n"
     ]
    },
    {
     "data": {
      "text/plain": [
       "0    Seeing my Buddha-Nature on DMT \\r\\n\\nI am a 22...\n",
       "1    \\nOver the past week, I've had the chance to t...\n",
       "2    \\n8:00 p.m.\\t130 mg AET oral capsule \\r\\nT+3:1...\n",
       "Name: report, dtype: object"
      ]
     },
     "execution_count": 61,
     "metadata": {},
     "output_type": "execute_result"
    }
   ],
   "source": [
    "# Repeat removal of this substring from the beginning of each review. \n",
    "\n",
    "for row in tqdm(range(len(df))):\n",
    "    text = df.loc[row,'report']\n",
    "    cut_beg_idx = text.index('\\n\\n\\n\\n\\n')\n",
    "    beg_to_cut = text[:cut_beg_idx] + '\\n\\n\\n\\n\\n'\n",
    "    new_text = text.replace(beg_to_cut,'')\n",
    "    df.loc[row,'report'] = new_text\n",
    "\n",
    "# check if that worked\n",
    "df.report[:3]"
   ]
  },
  {
   "cell_type": "code",
   "execution_count": 69,
   "id": "80fc2385",
   "metadata": {},
   "outputs": [
    {
     "data": {
      "text/plain": [
       "'Exp Year: 2022ExpID: 116975\\nGender: Male\\xa0\\nAge at time of experience: 22\\xa0\\nPublished: Jan 28, 2023Views: 141\\n[ View as PDF (for printing) ] [ View as LaTeX (for geeks) ]\\n[ Switch Colors ]\\n\\nDMT (18), Cannabis (1) : First Times (2), Combinations (3), Entities / Beings (37), Alone (16)\\n\\n\\n'"
      ]
     },
     "execution_count": 69,
     "metadata": {},
     "output_type": "execute_result"
    }
   ],
   "source": [
    "# Repeat for cutting off the endings. Start by finding in the first report. \n",
    "text = df.report[0]\n",
    "cut_end_loc = text.index('Exp Year: ')\n",
    "end_to_cut = text[cut_end_loc:]\n",
    "end_to_cut"
   ]
  },
  {
   "cell_type": "code",
   "execution_count": 71,
   "id": "7c17f17a",
   "metadata": {},
   "outputs": [
    {
     "name": "stderr",
     "output_type": "stream",
     "text": [
      "100%|██████████| 4562/4562 [00:00<00:00, 6837.20it/s] \n"
     ]
    },
    {
     "data": {
      "text/plain": [
       "\"Seeing my Buddha-Nature on DMT \\r\\n\\nI am a 22 year old male around 102kg. What I am about to tell you is my experience of using DMT for the first time. I took around 100-150mg of DMT about a month ago. I have no clue as to what the exact dosage is I have no clue as to what the exact dosage is, because I eventually started eyeballing it trying to take bigger dosages in my attempt to “break through”, which I believe was unsuccessful. My only other psychedelic experience is LSD which I tripped heavily on around a year ago, but I stopped completely a couple months before this experience. I am writing this from memory so all of the details may not be 100 percent accurate. \\r\\n\\nThis trip happened about a month ago. I decided to try DMT for the first time because the guy I usually see had it and it tested clean. I also live in student accommodation and everyone had left for christmas and I was the only one still there, so I had no one to bother me when I was tripping and to smell the DMT if I smoked it in my room, which I did. It was the perfect opportunity. \\r\\n\\nAfter I had got the DMT I went to my room, loaded up my bong with one layer of weed, one layer of DMT and another layer of weed again. I was a bit nervous because it was my first time doing DMT and most people say it is very intense. My mistake was loading up the cone piece with too much weed, which meant I couldn’t hold in the hits for very long, so I ended up wasting most of the DMT. The first couple hits were nothing amazing, I got very slight open eye visuals, almost like taking LSD but lasting for a fraction of a second. After a while I closed my eyes and that was where the real experience began. \\r\\n\\nI believe what I saw was influenced by my religious/spiritual beliefs, research and historical knowledge. I am interested in many different types of philosophy, mainly Buddhist philosophy and spirituality as of late, and also western practices and ideas to do with the esoteric/spiritual. As for my religion, I am a Buddhist. I also like to study history, mainly ancient/medieval europe/near east in particular. Many things I will describe relate to specific spiritual doctrines so I will provide links to those for you to research instead of me trying to explain them.\\r\\n\\nClosing my eyes I was transported to a buddhist temple on the coast. Either side of the temple I could see massive white cliffs stretching out to the horizon with ocean waves crashing against them. I was standing in the main courtyard of the temple. The closest looking thing to the courtyard I can describe was the ancient Greek theaters, with stairs going upwards surrounding a flat “stage”. On the stage were many avatars of Hindu gods dancing, as well as Bodhisattvas, as well as different incarnations of the Buddha. Many monks dressed in orange robes were watching from the stairs. \\r\\n\\nI then flew up into the sky and over the ocean. Hovering over the water was a massive wrathful deity. I can’t describe how it looked but if you search google images it will give you a rough approximation. Out of this deity came a being of pure light in the shape of a man, which I knew was the spirit of the Buddha, which I will just call “the spirit” from now on. Most of the information wasn’t communicated to me, I just “knew”. The spirit and I also communicated telepathically and could change our forms at will, although we mostly kept our original forms. The spirit took me higher into the air and I could see the island which the temple was on from a birds-eye view, as well as other islands around it. The spirit told me I was going to see my past lives and flew me to a cold, forested island north of the “temple island”. \\r\\n\\nI saw a clearing next to a stream in a pine forest, with a large cave a few meters away. Out of that cave came a pale, hunched over creature that walked on all fours, resembling a man. The closest thing that looked like the man was Gollum from LOTR. I saw it hobbling out of the cave, through the trees and towards the steam. I knew this creature was me from one of my previous lives. The spirit then flew me upwards and towards the next life.\\r\\n\\nWe soon entered a medieval style city. All of the buildings were multi-story, Tudor style buildings. We stood in the large town square and walked around for a while. I then saw a beautiful woman brushing her hair in the sun and I briefly stopped to look at her. I wanted to stay longer in this city. After a while the spirit wanted me to leave to see the rest of my lives, but I refused to go. The spirit then cast dark clouds over the city, turning it from charming to almost sinister. The entire vibe shifted and I left quickly with the spirit into the air. \\r\\n\\nI was then transported into a large room of a french medieval castle. I knew that I was back during the medieval era but I’m not sure on the exact date. At the head of the table sat the king and surrounding the table were his closest nobles. When I saw one of the nobles I knew that he was one of my distant ancestors as well as one of my previous lives. I then left.\\r\\n\\nI then arrived at an English forest during the Anglo-Saxon period. I saw two Anglo-Saxon warriors walking through the forest, wearing full chain mail, swords strapped to their sides and shields on their backs. I knew that one of them was my ancestor as well as one of my previous lives, much like the last place I had been to. I flew with the spirit into the sky again. \\r\\n\\nThis time we flew higher into the sky, out of the atmosphere and into earth's orbit. Me and the spirit hovered looking down at the earth. The spirit then told me it wasn’t a separate entity from myself and was my “Buddha nature”. It was the part of myself that contained the potential for my enlightenment but hadn’t been “activated” yet. After I was told this the spirit disappeared. The trip ended suddenly as though I clicked my fingers and I was back to being completely sober. \\r\\n\\nI don’t know what to make of this experience but overall I learned at least a bit more about myself and hopefully the nature of reality/consciousness.\\n\\n\\n\""
      ]
     },
     "execution_count": 71,
     "metadata": {},
     "output_type": "execute_result"
    }
   ],
   "source": [
    "# Remove the tail of all reports\n",
    "for row in tqdm(range(len(df))):\n",
    "    # Some don't contain the substring\n",
    "    try: \n",
    "        text = df.loc[row,'report']\n",
    "        cut_end_loc = text.index('Exp Year: ')\n",
    "        end_to_cut = text[cut_end_loc:]\n",
    "        new_text = text.replace(end_to_cut,'')\n",
    "        df.loc[row,'report'] = new_text\n",
    "    except: pass\n",
    "\n",
    "# check if that worked\n",
    "df.report[0]"
   ]
  },
  {
   "cell_type": "markdown",
   "id": "df3fda40",
   "metadata": {},
   "source": [
    "<font color='violet'> Remove remaining html code\n",
    "    \n",
    "This seems to appear as \\r or \\n or some combination of these. Just replace each with a space wherever they are. Use a space rather than '' because that may produce extra spaces but at least won't result in improperly compounded words. "
   ]
  },
  {
   "cell_type": "code",
   "execution_count": 72,
   "id": "7f2d8e05",
   "metadata": {},
   "outputs": [
    {
     "name": "stderr",
     "output_type": "stream",
     "text": [
      "100%|██████████| 4562/4562 [00:00<00:00, 6488.62it/s]\n"
     ]
    },
    {
     "data": {
      "text/plain": [
       "\"Seeing my Buddha-Nature on DMT    I am a 22 year old male around 102kg. What I am about to tell you is my experience of using DMT for the first time. I took around 100-150mg of DMT about a month ago. I have no clue as to what the exact dosage is I have no clue as to what the exact dosage is, because I eventually started eyeballing it trying to take bigger dosages in my attempt to “break through”, which I believe was unsuccessful. My only other psychedelic experience is LSD which I tripped heavily on around a year ago, but I stopped completely a couple months before this experience. I am writing this from memory so all of the details may not be 100 percent accurate.    This trip happened about a month ago. I decided to try DMT for the first time because the guy I usually see had it and it tested clean. I also live in student accommodation and everyone had left for christmas and I was the only one still there, so I had no one to bother me when I was tripping and to smell the DMT if I smoked it in my room, which I did. It was the perfect opportunity.    After I had got the DMT I went to my room, loaded up my bong with one layer of weed, one layer of DMT and another layer of weed again. I was a bit nervous because it was my first time doing DMT and most people say it is very intense. My mistake was loading up the cone piece with too much weed, which meant I couldn’t hold in the hits for very long, so I ended up wasting most of the DMT. The first couple hits were nothing amazing, I got very slight open eye visuals, almost like taking LSD but lasting for a fraction of a second. After a while I closed my eyes and that was where the real experience began.    I believe what I saw was influenced by my religious/spiritual beliefs, research and historical knowledge. I am interested in many different types of philosophy, mainly Buddhist philosophy and spirituality as of late, and also western practices and ideas to do with the esoteric/spiritual. As for my religion, I am a Buddhist. I also like to study history, mainly ancient/medieval europe/near east in particular. Many things I will describe relate to specific spiritual doctrines so I will provide links to those for you to research instead of me trying to explain them.   Closing my eyes I was transported to a buddhist temple on the coast. Either side of the temple I could see massive white cliffs stretching out to the horizon with ocean waves crashing against them. I was standing in the main courtyard of the temple. The closest looking thing to the courtyard I can describe was the ancient Greek theaters, with stairs going upwards surrounding a flat “stage”. On the stage were many avatars of Hindu gods dancing, as well as Bodhisattvas, as well as different incarnations of the Buddha. Many monks dressed in orange robes were watching from the stairs.    I then flew up into the sky and over the ocean. Hovering over the water was a massive wrathful deity. I can’t describe how it looked but if you search google images it will give you a rough approximation. Out of this deity came a being of pure light in the shape of a man, which I knew was the spirit of the Buddha, which I will just call “the spirit” from now on. Most of the information wasn’t communicated to me, I just “knew”. The spirit and I also communicated telepathically and could change our forms at will, although we mostly kept our original forms. The spirit took me higher into the air and I could see the island which the temple was on from a birds-eye view, as well as other islands around it. The spirit told me I was going to see my past lives and flew me to a cold, forested island north of the “temple island”.    I saw a clearing next to a stream in a pine forest, with a large cave a few meters away. Out of that cave came a pale, hunched over creature that walked on all fours, resembling a man. The closest thing that looked like the man was Gollum from LOTR. I saw it hobbling out of the cave, through the trees and towards the steam. I knew this creature was me from one of my previous lives. The spirit then flew me upwards and towards the next life.   We soon entered a medieval style city. All of the buildings were multi-story, Tudor style buildings. We stood in the large town square and walked around for a while. I then saw a beautiful woman brushing her hair in the sun and I briefly stopped to look at her. I wanted to stay longer in this city. After a while the spirit wanted me to leave to see the rest of my lives, but I refused to go. The spirit then cast dark clouds over the city, turning it from charming to almost sinister. The entire vibe shifted and I left quickly with the spirit into the air.    I was then transported into a large room of a french medieval castle. I knew that I was back during the medieval era but I’m not sure on the exact date. At the head of the table sat the king and surrounding the table were his closest nobles. When I saw one of the nobles I knew that he was one of my distant ancestors as well as one of my previous lives. I then left.   I then arrived at an English forest during the Anglo-Saxon period. I saw two Anglo-Saxon warriors walking through the forest, wearing full chain mail, swords strapped to their sides and shields on their backs. I knew that one of them was my ancestor as well as one of my previous lives, much like the last place I had been to. I flew with the spirit into the sky again.    This time we flew higher into the sky, out of the atmosphere and into earth's orbit. Me and the spirit hovered looking down at the earth. The spirit then told me it wasn’t a separate entity from myself and was my “Buddha nature”. It was the part of myself that contained the potential for my enlightenment but hadn’t been “activated” yet. After I was told this the spirit disappeared. The trip ended suddenly as though I clicked my fingers and I was back to being completely sober.    I don’t know what to make of this experience but overall I learned at least a bit more about myself and hopefully the nature of reality/consciousness.   \""
      ]
     },
     "execution_count": 72,
     "metadata": {},
     "output_type": "execute_result"
    }
   ],
   "source": [
    "for row in tqdm(range(len(df))):\n",
    "    text = df.loc[row,'report']\n",
    "    remove_rs = text.replace('\\r', ' ')\n",
    "    remove_ns = remove_rs.replace('\\n', ' ')\n",
    "    df.loc[row,'report'] = remove_ns\n",
    "\n",
    "df.report[0]"
   ]
  },
  {
   "cell_type": "markdown",
   "id": "af674dbb",
   "metadata": {},
   "source": [
    "Before removing any more punctuation, I need to get the text complexity of each report, like I did with the previous psych med reviews.\n",
    "\n",
    "<font color='violet'> Create feature: text complexity "
   ]
  },
  {
   "cell_type": "code",
   "execution_count": 74,
   "id": "7396aea0",
   "metadata": {},
   "outputs": [
    {
     "data": {
      "text/html": [
       "<div>\n",
       "<style scoped>\n",
       "    .dataframe tbody tr th:only-of-type {\n",
       "        vertical-align: middle;\n",
       "    }\n",
       "\n",
       "    .dataframe tbody tr th {\n",
       "        vertical-align: top;\n",
       "    }\n",
       "\n",
       "    .dataframe thead th {\n",
       "        text-align: right;\n",
       "    }\n",
       "</style>\n",
       "<table border=\"1\" class=\"dataframe\">\n",
       "  <thead>\n",
       "    <tr style=\"text-align: right;\">\n",
       "      <th></th>\n",
       "      <th>drug</th>\n",
       "      <th>weight</th>\n",
       "      <th>year</th>\n",
       "      <th>gender</th>\n",
       "      <th>age</th>\n",
       "      <th>report</th>\n",
       "      <th>complexity</th>\n",
       "    </tr>\n",
       "  </thead>\n",
       "  <tbody>\n",
       "    <tr>\n",
       "      <th>0</th>\n",
       "      <td>DMT</td>\n",
       "      <td>102 kg</td>\n",
       "      <td>2022</td>\n",
       "      <td>Male</td>\n",
       "      <td>22</td>\n",
       "      <td>Seeing my Buddha-Nature on DMT    I am a 22 ye...</td>\n",
       "      <td>7.9</td>\n",
       "    </tr>\n",
       "    <tr>\n",
       "      <th>1</th>\n",
       "      <td>AET</td>\n",
       "      <td>150 lb</td>\n",
       "      <td>2006</td>\n",
       "      <td>Male</td>\n",
       "      <td>Not Given</td>\n",
       "      <td>Over the past week, I've had the chance to tr...</td>\n",
       "      <td>7.8</td>\n",
       "    </tr>\n",
       "    <tr>\n",
       "      <th>2</th>\n",
       "      <td>AET</td>\n",
       "      <td>170 lb</td>\n",
       "      <td>2007</td>\n",
       "      <td>Male</td>\n",
       "      <td>Not Given</td>\n",
       "      <td>8:00 p.m.\\t130 mg AET oral capsule   T+3:15\\t...</td>\n",
       "      <td>7.2</td>\n",
       "    </tr>\n",
       "    <tr>\n",
       "      <th>3</th>\n",
       "      <td>AET</td>\n",
       "      <td>220 lb</td>\n",
       "      <td>2007</td>\n",
       "      <td>Male</td>\n",
       "      <td>Not Given</td>\n",
       "      <td>I read about people insuffulating this to bri...</td>\n",
       "      <td>5.6</td>\n",
       "    </tr>\n",
       "    <tr>\n",
       "      <th>4</th>\n",
       "      <td>AET</td>\n",
       "      <td>200 lb</td>\n",
       "      <td>1986</td>\n",
       "      <td>Male</td>\n",
       "      <td>Not Given</td>\n",
       "      <td>Back in the mid to late 80s AET was legal and...</td>\n",
       "      <td>6.9</td>\n",
       "    </tr>\n",
       "  </tbody>\n",
       "</table>\n",
       "</div>"
      ],
      "text/plain": [
       "  drug  weight  year gender        age  \\\n",
       "0  DMT  102 kg  2022   Male         22   \n",
       "1  AET  150 lb  2006   Male  Not Given   \n",
       "2  AET  170 lb  2007   Male  Not Given   \n",
       "3  AET  220 lb  2007   Male  Not Given   \n",
       "4  AET  200 lb  1986   Male  Not Given   \n",
       "\n",
       "                                              report  complexity  \n",
       "0  Seeing my Buddha-Nature on DMT    I am a 22 ye...         7.9  \n",
       "1   Over the past week, I've had the chance to tr...         7.8  \n",
       "2   8:00 p.m.\\t130 mg AET oral capsule   T+3:15\\t...         7.2  \n",
       "3   I read about people insuffulating this to bri...         5.6  \n",
       "4   Back in the mid to late 80s AET was legal and...         6.9  "
      ]
     },
     "execution_count": 74,
     "metadata": {},
     "output_type": "execute_result"
    }
   ],
   "source": [
    "df['complexity'] = df['report'].apply(lambda x : flesch_kincaid_grade(x))\n",
    "df.head()"
   ]
  },
  {
   "cell_type": "markdown",
   "id": "b1aa0a79",
   "metadata": {},
   "source": [
    "<font color='violet'> Continue parsing with previously-created functions"
   ]
  },
  {
   "cell_type": "code",
   "execution_count": 76,
   "id": "45a26dbe",
   "metadata": {},
   "outputs": [
    {
     "data": {
      "text/html": [
       "<div>\n",
       "<style scoped>\n",
       "    .dataframe tbody tr th:only-of-type {\n",
       "        vertical-align: middle;\n",
       "    }\n",
       "\n",
       "    .dataframe tbody tr th {\n",
       "        vertical-align: top;\n",
       "    }\n",
       "\n",
       "    .dataframe thead th {\n",
       "        text-align: right;\n",
       "    }\n",
       "</style>\n",
       "<table border=\"1\" class=\"dataframe\">\n",
       "  <thead>\n",
       "    <tr style=\"text-align: right;\">\n",
       "      <th></th>\n",
       "      <th>drug</th>\n",
       "      <th>weight</th>\n",
       "      <th>year</th>\n",
       "      <th>gender</th>\n",
       "      <th>age</th>\n",
       "      <th>report</th>\n",
       "      <th>complexity</th>\n",
       "    </tr>\n",
       "  </thead>\n",
       "  <tbody>\n",
       "    <tr>\n",
       "      <th>0</th>\n",
       "      <td>DMT</td>\n",
       "      <td>102 kg</td>\n",
       "      <td>2022</td>\n",
       "      <td>Male</td>\n",
       "      <td>22</td>\n",
       "      <td>Seeing my Buddha-Nature on DMT    I am a 22 ye...</td>\n",
       "      <td>7.9</td>\n",
       "    </tr>\n",
       "    <tr>\n",
       "      <th>1</th>\n",
       "      <td>AET</td>\n",
       "      <td>150 lb</td>\n",
       "      <td>2006</td>\n",
       "      <td>Male</td>\n",
       "      <td>Not Given</td>\n",
       "      <td>Over the past week, I've had the chance to tr...</td>\n",
       "      <td>7.8</td>\n",
       "    </tr>\n",
       "    <tr>\n",
       "      <th>2</th>\n",
       "      <td>AET</td>\n",
       "      <td>170 lb</td>\n",
       "      <td>2007</td>\n",
       "      <td>Male</td>\n",
       "      <td>Not Given</td>\n",
       "      <td>8:00 p.m.\\t130 mg AET oral capsule   T+3:15\\t...</td>\n",
       "      <td>7.2</td>\n",
       "    </tr>\n",
       "    <tr>\n",
       "      <th>3</th>\n",
       "      <td>AET</td>\n",
       "      <td>220 lb</td>\n",
       "      <td>2007</td>\n",
       "      <td>Male</td>\n",
       "      <td>Not Given</td>\n",
       "      <td>I read about people insuffulating this to bri...</td>\n",
       "      <td>5.6</td>\n",
       "    </tr>\n",
       "    <tr>\n",
       "      <th>4</th>\n",
       "      <td>AET</td>\n",
       "      <td>200 lb</td>\n",
       "      <td>1986</td>\n",
       "      <td>Male</td>\n",
       "      <td>Not Given</td>\n",
       "      <td>Back in the mid to late 80s AET was legal and...</td>\n",
       "      <td>6.9</td>\n",
       "    </tr>\n",
       "  </tbody>\n",
       "</table>\n",
       "</div>"
      ],
      "text/plain": [
       "  drug  weight  year gender        age  \\\n",
       "0  DMT  102 kg  2022   Male         22   \n",
       "1  AET  150 lb  2006   Male  Not Given   \n",
       "2  AET  170 lb  2007   Male  Not Given   \n",
       "3  AET  220 lb  2007   Male  Not Given   \n",
       "4  AET  200 lb  1986   Male  Not Given   \n",
       "\n",
       "                                              report  complexity  \n",
       "0  Seeing my Buddha-Nature on DMT    I am a 22 ye...         7.9  \n",
       "1   Over the past week, I've had the chance to tr...         7.8  \n",
       "2   8:00 p.m.\\t130 mg AET oral capsule   T+3:15\\t...         7.2  \n",
       "3   I read about people insuffulating this to bri...         5.6  \n",
       "4   Back in the mid to late 80s AET was legal and...         6.9  "
      ]
     },
     "execution_count": 76,
     "metadata": {},
     "output_type": "execute_result"
    }
   ],
   "source": [
    "# Remove accented characters if there are any.\n",
    "df['report'] = df['report'].apply(remove_accented_chars)\n",
    "df.head()"
   ]
  },
  {
   "cell_type": "code",
   "execution_count": 79,
   "id": "ec00cede",
   "metadata": {},
   "outputs": [
    {
     "data": {
      "text/plain": [
       "\" Over the past week, I have had the chance to try out AET at 3 different dosage levels.  Considering the rarity of the substance, I have decided that, even though I encountered nothing mindblowing, I should most definitely write up a summary of those experiences.   FIRST TRIAL   On the first trial, I took 100mg orally at about 10:00pm.  I would have done it earlier but I checked my mail, totally not expecting to see it yet, but it had in fact arrived.  I was going to start with 80mg but in reading the TIHKAL entries, it seemed that 80 would have been very weak indeed, so I started with 100.  The taste, texture, and shape of the granules reminds me greatly of AMT, as does the smell.  It is a less powerful whiff of the same shit-like stench that pervades the air when opening AMT up.  I held it in my mouth with some spit and swished it around, attempting to force sublingual absorbtion.  That skatole taste filled my mouth, weaker than with AMT but still offensive.     After about 5 minutes, my mucous mebranes started to burn, and although I had originally intended on holding it in my mouth for 15-20 minutes, at 10 minutes it burned too much and I swallowed.  I rinsed my mouth out with cold distilled water for a while and ate a few bites of ice cream, and within minutes the burning faded to a memory.   The comeup was inconsequential.  I began to feel a warm but subtle energy at about T+30 minutes, and by T+45 to 1 hour I was feeling nice and happy.  I did not feel much like moving, but I had a very pleasant but light body high.  Mentally, I was unaffected other than a mood boost.  There was less psychedelic buzz than with AMT, but overall the body highs felt quite similar.  At about T+2 hours I ingested 8 grams of kratom and took a few vaporizer hits of extreme quality cannabis which boosted the body high.  After about 4-5 hours the high had faded to a baseline buzz.  I tried to sleep, but unfortunately I retained quite a bit of stimulation and slept very lightly with many interruptions throughout the next 6 hours.  I got up and went on the computer for a short time twice.  It was pretty frustrating, but the next day, I felt pretty good anyway.   SECOND TRIAL   A couple of days later, I decided to try again, this time with 120mg total, but with 60 oral and 60 insufflated.  Yes, that may sound a bit nuts, but I have actually found that I enjoy boosting AMT by insufflating smaller amounts, and AET has begun to seem very similar.  With most psychedelics I find the nasal route to be counterproducxtive, but with the alpha-x-tryptamines, or the two I have tried so far anyway, it seems to just increase the power and speed of onset.  But be warned - insufflating AMT and/or AET is not pleasant!  Observe:   T+0:00 - Snorted up a 30mg line in one nostril and then immediately another in the other nostril.  No immediate pain...   T+0:03 seconds - Pain begins.  It feels like a caustic chemical is burning the delicate mucous membranes in my nose.  Slowly, the smell of indole byproducts fills my nasal cavity.  By now AMT's burn would have been in full force.   T+0:10 - Pain is at full.  It is less sharp and intense than with AMT, and the smell is less forward, but it is still highly unpleasant.   T+5:00 - The pain is still the same intensity.  It comes and goes in waves.  My nose is running a lot so I must repeatedly sniff the snot back into my nose, which renews the pain every time.  The AMT sting is all but gone right now, it appears that AET's sting lasts for longer, although the pain is less intense.   T+10:00 - The pain has faded somewhat but it is really starting to bother me now.  It is just so annoying and lingering.   T+15:00 - The pain is all gone now leaving just a tenderness inside my nostrils.  By now, the effects have begun.   As you can see, it took about 15 minutes to start coming up well this time.  Almost immediately, I noticed the intensity shoot to about double my first trial.  The insufflation definitely worked well despite the pain.   At about T+0:45 I feel the comeup from the oral portion of my dosage.  This acts to increase the intensity as well as smooth the edges out.  The high was very non-edgy, but a faint restless energy crept in from the speed of the insufflation.  The comeup stage reminds me of MDMA a little bit, occasionally slightly uncomfortable but nothing at all major, and AET is milder than MDMA in that respect.   At this point I laid down and evaluated the effects.  Of course they were much like the first trial, but much stronger in the body and this time they carried a hint of a mental trip.  My mind did not feel particularly sped up or lucid, but it definitely was affected.  Interestingly, unlike with AMT where I feel very mentally adept and quick, AET almost made my mind a little lethargic, although it was nothing unpleasant.  I felt perfectly capable socially, but a little lagging in the quick-thinking department.   The body high was so good that it was drawing me in.  It reminded me a bit of MDMA but gentler and less pushy, and more natural.  My overall impression of the high was that it was really not much like MDMA except for a few surface similarities.  But the comparisons are hard not to make.   At about T+1:30, the effects seemed to peak, although it was a gentle and rather indistinct peak.  During this time, I had some noticeable eye wiggling, and felt really damn good.  It was hard for me to stay focused on one thing visually for very long.  Although I did not get any actual visuals (nor do I with AMT), everything around me seemed to sparkle and I noticed patterns in the subtle shading of objects.  This effect was more sparkly than with AMT, but less psychedelic.  Nevertheless, it was rather neat.  There was also noticeable palm and foot sweating which grossed my girlfriend out.  Oops!   As time went on, I did not notice any lessening of effects for quite a while.  Eventually I began to drift off into a reverie state not unlike sleep but different from it at the same time.  In this state my body was buzzing very strongly and pleasurably, and my mind was traveling some free-association path of strange logic.  When I would re-enter the real world, I would say something nonsensical as I do when I first waking up after nodding off.  This was much to the amusement of myself and my girlfriend.   After about 6 hours, decidedly longer than with the first trial, I realized the effects had faded quite a bit.  I took 30mg of morphine rectally and this boosted me back into the land of huge body buzzes, but with a much more opiated focus.  I enjoyed it greatly for a couple of more hours, and then went to bed.  I was able to sleep better than after my first trial, which is perhaps not so odd considering I used morphine during the second trial.   THIRD AND MOST RECENT TRIAL   Just two days after the past trial I decided to up the dosage a little bit more and see if I could discover anything else that AET had to offer.  Most psychedelics I find I can use without feeling any compulsion, with the exception of empathogens, which I tend to use often while I have them.  AET and AMT I find are the closest to full psychedelic chemicals that I have troubles keeping away from sometimes.   So, that being said, I decided this night to ingest the same dosage as last time, and then throw in a 50mg nasal booster at about T+1:00.  The experience progressed just as previously, and then at T+1:00, shortly before the peak would start, I insufflated another 50mg.  This time it burned even more fiercely, and for a few minutes I regretted taking more.  However, by the time the burn faded, I was the highest I would been thus far in my AET trials.  Let me explain...   The effects from AET are not quite what I would call a trip.  It is more like a cross between a light mental high which is rather difficult to describe and an empathogen.  At this dosage level, I found it quite difficult to stay focused on a single thing, and the eye wiggles were quite strong at times.  I would not want to have to do anything in this state.  It is also quite physically pleasurable, and at times ridiculously so.  As the peak really sets in, at least in my pretty much sedentary setting, I found the urge to drift off into trance-land to be quite strong, and thus I spent a good two hours drifting in and out of consciousness, always with some link to reality.  But that link grew thin sometimes.   After a few hours of this, it began to slowly trail off, and by T+6 or 7, there was just a little residual body high/stimulation, which I found it pretty easy to sleep on.  I woke up the next day, as I did in the other two trials, feeling fine.  In fact, I felt pretty great.  Since then, there has been no depression or lethargy to speak of, which excites me because empathogens tend to really kick my ass for the following few days to a week.   SUMMARY   I am truly glad to have discovered a sample of AET.  So far I have found that it would probably have very little value in reaching anyplace profound, but then again MDMA and its like have become useless to me over the years - perhaps had I tried AET 4 years or so ago, I would have had a very psychedelic and profound journey.  I guess I will never know.   What I do know for sure is that AET feels much more benign than MDMA, and was an all-around great time.  I really enjoyed the relaxed stimulation and the nodding off - it reminded me of opiate nodding (even when I did not combine it with opiates), but more sparkly and psychedelic.  The trance-like states I achieved were really the only part of the experiences I would consider psychedelic.  The rest was just a strong high/sedation which was still extremely pleasurable.  I also really like the lack of aftereffects.   My initial three trials have made me happy to have discovered this rare gem, indeed.  I still prefer AMT overall in this class of tryptamines, but AET definitely gives it a run for its money in some areas.   \""
      ]
     },
     "execution_count": 79,
     "metadata": {},
     "output_type": "execute_result"
    }
   ],
   "source": [
    "# Expand contractions. Check results on row 1, which I can already see has a contraction. \n",
    "df['report'] = df['report'].apply(contractions.fix)\n",
    "df.report[1]"
   ]
  },
  {
   "cell_type": "code",
   "execution_count": 81,
   "id": "00bb4100",
   "metadata": {},
   "outputs": [
    {
     "name": "stderr",
     "output_type": "stream",
     "text": [
      "100%|██████████| 4562/4562 [00:00<00:00, 6006.21it/s]\n"
     ]
    },
    {
     "data": {
      "text/plain": [
       "\" Over the past week I have had the chance to try out AET at 3 different dosage levels  Considering the rarity of the substance I have decided that even though I encountered nothing mindblowing I should most definitely write up a summary of those experiences   FIRST TRIAL   On the first trial I took 100mg orally at about 10:00pm  I would have done it earlier but I checked my mail totally not expecting to see it yet but it had in fact arrived  I was going to start with 80mg but in reading the TIHKAL entries it seemed that 80 would have been very weak indeed so I started with 100  The taste texture and shape of the granules reminds me greatly of AMT as does the smell  It is a less powerful whiff of the same shitlike stench that pervades the air when opening AMT up  I held it in my mouth with some spit and swished it around attempting to force sublingual absorbtion  That skatole taste filled my mouth weaker than with AMT but still offensive     After about 5 minutes my mucous mebranes started to burn and although I had originally intended on holding it in my mouth for 1520 minutes at 10 minutes it burned too much and I swallowed  I rinsed my mouth out with cold distilled water for a while and ate a few bites of ice cream and within minutes the burning faded to a memory   The comeup was inconsequential  I began to feel a warm but subtle energy at about T+30 minutes and by T+45 to 1 hour I was feeling nice and happy  I did not feel much like moving but I had a very pleasant but light body high  Mentally I was unaffected other than a mood boost  There was less psychedelic buzz than with AMT but overall the body highs felt quite similar  At about T+2 hours I ingested 8 grams of kratom and took a few vaporizer hits of extreme quality cannabis which boosted the body high  After about 45 hours the high had faded to a baseline buzz  I tried to sleep but unfortunately I retained quite a bit of stimulation and slept very lightly with many interruptions throughout the next 6 hours  I got up and went on the computer for a short time twice  It was pretty frustrating but the next day I felt pretty good anyway   SECOND TRIAL   A couple of days later I decided to try again this time with 120mg total but with 60 oral and 60 insufflated  Yes that may sound a bit nuts but I have actually found that I enjoy boosting AMT by insufflating smaller amounts and AET has begun to seem very similar  With most psychedelics I find the nasal route to be counterproducxtive but with the alphaxtryptamines or the two I have tried so far anyway it seems to just increase the power and speed of onset  But be warned  insufflating AMT andor AET is not pleasant!  Observe:   T+0:00  Snorted up a 30mg line in one nostril and then immediately another in the other nostril  No immediate pain   T+0:03 seconds  Pain begins  It feels like a caustic chemical is burning the delicate mucous membranes in my nose  Slowly the smell of indole byproducts fills my nasal cavity  By now AMT's burn would have been in full force   T+0:10  Pain is at full  It is less sharp and intense than with AMT and the smell is less forward but it is still highly unpleasant   T+5:00  The pain is still the same intensity  It comes and goes in waves  My nose is running a lot so I must repeatedly sniff the snot back into my nose which renews the pain every time  The AMT sting is all but gone right now it appears that AET's sting lasts for longer although the pain is less intense   T+10:00  The pain has faded somewhat but it is really starting to bother me now  It is just so annoying and lingering   T+15:00  The pain is all gone now leaving just a tenderness inside my nostrils  By now the effects have begun   As you can see it took about 15 minutes to start coming up well this time  Almost immediately I noticed the intensity shoot to about double my first trial  The insufflation definitely worked well despite the pain   At about T+0:45 I feel the comeup from the oral portion of my dosage  This acts to increase the intensity as well as smooth the edges out  The high was very nonedgy but a faint restless energy crept in from the speed of the insufflation  The comeup stage reminds me of MDMA a little bit occasionally slightly uncomfortable but nothing at all major and AET is milder than MDMA in that respect   At this point I laid down and evaluated the effects  Of course they were much like the first trial but much stronger in the body and this time they carried a hint of a mental trip  My mind did not feel particularly sped up or lucid but it definitely was affected  Interestingly unlike with AMT where I feel very mentally adept and quick AET almost made my mind a little lethargic although it was nothing unpleasant  I felt perfectly capable socially but a little lagging in the quickthinking department   The body high was so good that it was drawing me in  It reminded me a bit of MDMA but gentler and less pushy and more natural  My overall impression of the high was that it was really not much like MDMA except for a few surface similarities  But the comparisons are hard not to make   At about T+1:30 the effects seemed to peak although it was a gentle and rather indistinct peak  During this time I had some noticeable eye wiggling and felt really damn good  It was hard for me to stay focused on one thing visually for very long  Although I did not get any actual visuals (nor do I with AMT) everything around me seemed to sparkle and I noticed patterns in the subtle shading of objects  This effect was more sparkly than with AMT but less psychedelic  Nevertheless it was rather neat  There was also noticeable palm and foot sweating which grossed my girlfriend out  Oops!   As time went on I did not notice any lessening of effects for quite a while  Eventually I began to drift off into a reverie state not unlike sleep but different from it at the same time  In this state my body was buzzing very strongly and pleasurably and my mind was traveling some freeassociation path of strange logic  When I would reenter the real world I would say something nonsensical as I do when I first waking up after nodding off  This was much to the amusement of myself and my girlfriend   After about 6 hours decidedly longer than with the first trial I realized the effects had faded quite a bit  I took 30mg of morphine rectally and this boosted me back into the land of huge body buzzes but with a much more opiated focus  I enjoyed it greatly for a couple of more hours and then went to bed  I was able to sleep better than after my first trial which is perhaps not so odd considering I used morphine during the second trial   THIRD AND MOST RECENT TRIAL   Just two days after the past trial I decided to up the dosage a little bit more and see if I could discover anything else that AET had to offer  Most psychedelics I find I can use without feeling any compulsion with the exception of empathogens which I tend to use often while I have them  AET and AMT I find are the closest to full psychedelic chemicals that I have troubles keeping away from sometimes   So that being said I decided this night to ingest the same dosage as last time and then throw in a 50mg nasal booster at about T+1:00  The experience progressed just as previously and then at T+1:00 shortly before the peak would start I insufflated another 50mg  This time it burned even more fiercely and for a few minutes I regretted taking more  However by the time the burn faded I was the highest I would been thus far in my AET trials  Let me explain   The effects from AET are not quite what I would call a trip  It is more like a cross between a light mental high which is rather difficult to describe and an empathogen  At this dosage level I found it quite difficult to stay focused on a single thing and the eye wiggles were quite strong at times  I would not want to have to do anything in this state  It is also quite physically pleasurable and at times ridiculously so  As the peak really sets in at least in my pretty much sedentary setting I found the urge to drift off into tranceland to be quite strong and thus I spent a good two hours drifting in and out of consciousness always with some link to reality  But that link grew thin sometimes   After a few hours of this it began to slowly trail off and by T+6 or 7 there was just a little residual body highstimulation which I found it pretty easy to sleep on  I woke up the next day as I did in the other two trials feeling fine  In fact I felt pretty great  Since then there has been no depression or lethargy to speak of which excites me because empathogens tend to really kick my ass for the following few days to a week   SUMMARY   I am truly glad to have discovered a sample of AET  So far I have found that it would probably have very little value in reaching anyplace profound but then again MDMA and its like have become useless to me over the years  perhaps had I tried AET 4 years or so ago I would have had a very psychedelic and profound journey  I guess I will never know   What I do know for sure is that AET feels much more benign than MDMA and was an allaround great time  I really enjoyed the relaxed stimulation and the nodding off  it reminded me of opiate nodding (even when I did not combine it with opiates) but more sparkly and psychedelic  The trancelike states I achieved were really the only part of the experiences I would consider psychedelic  The rest was just a strong highsedation which was still extremely pleasurable  I also really like the lack of aftereffects   My initial three trials have made me happy to have discovered this rare gem indeed  I still prefer AMT overall in this class of tryptamines but AET definitely gives it a run for its money in some areas   \""
      ]
     },
     "execution_count": 81,
     "metadata": {},
     "output_type": "execute_result"
    }
   ],
   "source": [
    "# That worked. Now, strip most of the punctuation with function strip_most_punc\n",
    "strip_most_punc(df, 'report')\n",
    "df.report[1]"
   ]
  },
  {
   "cell_type": "code",
   "execution_count": 82,
   "id": "49e87af0",
   "metadata": {},
   "outputs": [
    {
     "data": {
      "text/html": [
       "<div>\n",
       "<style scoped>\n",
       "    .dataframe tbody tr th:only-of-type {\n",
       "        vertical-align: middle;\n",
       "    }\n",
       "\n",
       "    .dataframe tbody tr th {\n",
       "        vertical-align: top;\n",
       "    }\n",
       "\n",
       "    .dataframe thead th {\n",
       "        text-align: right;\n",
       "    }\n",
       "</style>\n",
       "<table border=\"1\" class=\"dataframe\">\n",
       "  <thead>\n",
       "    <tr style=\"text-align: right;\">\n",
       "      <th></th>\n",
       "      <th>drug</th>\n",
       "      <th>weight</th>\n",
       "      <th>year</th>\n",
       "      <th>gender</th>\n",
       "      <th>age</th>\n",
       "      <th>report</th>\n",
       "      <th>complexity</th>\n",
       "    </tr>\n",
       "  </thead>\n",
       "  <tbody>\n",
       "    <tr>\n",
       "      <th>0</th>\n",
       "      <td>DMT</td>\n",
       "      <td>102 kg</td>\n",
       "      <td>2022</td>\n",
       "      <td>Male</td>\n",
       "      <td>22</td>\n",
       "      <td>Seeing my BuddhaNature on DMT    I am a 22 yea...</td>\n",
       "      <td>7.9</td>\n",
       "    </tr>\n",
       "  </tbody>\n",
       "</table>\n",
       "</div>"
      ],
      "text/plain": [
       "  drug  weight  year gender age  \\\n",
       "0  DMT  102 kg  2022   Male  22   \n",
       "\n",
       "                                              report  complexity  \n",
       "0  Seeing my BuddhaNature on DMT    I am a 22 yea...         7.9  "
      ]
     },
     "execution_count": 82,
     "metadata": {},
     "output_type": "execute_result"
    }
   ],
   "source": [
    "# Most punctuation is now gone. Strip apostrophes. First, find one so I know it worked. \n",
    "df[df['report'].str.find(\"'\")!=-1].head(1)"
   ]
  },
  {
   "cell_type": "code",
   "execution_count": 83,
   "id": "89a3eace",
   "metadata": {},
   "outputs": [
    {
     "data": {
      "text/plain": [
       "\"Seeing my BuddhaNature on DMT    I am a 22 year old male around 102kg What I am about to tell you is my experience of using DMT for the first time I took around 100150mg of DMT about a month ago I have no clue as to what the exact dosage is I have no clue as to what the exact dosage is because I eventually started eyeballing it trying to take bigger dosages in my attempt to break through which I believe was unsuccessful My only other psychedelic experience is LSD which I tripped heavily on around a year ago but I stopped completely a couple months before this experience I am writing this from memory so all of the details may not be 100 percent accurate    This trip happened about a month ago I decided to try DMT for the first time because the guy I usually see had it and it tested clean I also live in student accommodation and everyone had left for christmas and I was the only one still there so I had no one to bother me when I was tripping and to smell the DMT if I smoked it in my room which I did It was the perfect opportunity    After I had got the DMT I went to my room loaded up my bong with one layer of weed one layer of DMT and another layer of weed again I was a bit nervous because it was my first time doing DMT and most people say it is very intense My mistake was loading up the cone piece with too much weed which meant I could not hold in the hits for very long so I ended up wasting most of the DMT The first couple hits were nothing amazing I got very slight open eye visuals almost like taking LSD but lasting for a fraction of a second After a while I closed my eyes and that was where the real experience began    I believe what I saw was influenced by my religiousspiritual beliefs research and historical knowledge I am interested in many different types of philosophy mainly Buddhist philosophy and spirituality as of late and also western practices and ideas to do with the esotericspiritual As for my religion I am a Buddhist I also like to study history mainly ancientmedieval europenear east in particular Many things I will describe relate to specific spiritual doctrines so I will provide links to those for you to research instead of me trying to explain them   Closing my eyes I was transported to a buddhist temple on the coast Either side of the temple I could see massive white cliffs stretching out to the horizon with ocean waves crashing against them I was standing in the main courtyard of the temple The closest looking thing to the courtyard I can describe was the ancient Greek theaters with stairs going upwards surrounding a flat stage On the stage were many avatars of Hindu gods dancing as well as Bodhisattvas as well as different incarnations of the Buddha Many monks dressed in orange robes were watching from the stairs    I then flew up into the sky and over the ocean Hovering over the water was a massive wrathful deity I cannot describe how it looked but if you search google images it will give you a rough approximation Out of this deity came a being of pure light in the shape of a man which I knew was the spirit of the Buddha which I will just call the spirit from now on Most of the information was not communicated to me I just knew The spirit and I also communicated telepathically and could change our forms at will although we mostly kept our original forms The spirit took me higher into the air and I could see the island which the temple was on from a birdseye view as well as other islands around it The spirit told me I was going to see my past lives and flew me to a cold forested island north of the temple island    I saw a clearing next to a stream in a pine forest with a large cave a few meters away Out of that cave came a pale hunched over creature that walked on all fours resembling a man The closest thing that looked like the man was Gollum from LOTR I saw it hobbling out of the cave through the trees and towards the steam I knew this creature was me from one of my previous lives The spirit then flew me upwards and towards the next life   We soon entered a medieval style city All of the buildings were multistory Tudor style buildings We stood in the large town square and walked around for a while I then saw a beautiful woman brushing her hair in the sun and I briefly stopped to look at her I wanted to stay longer in this city After a while the spirit wanted me to leave to see the rest of my lives but I refused to go The spirit then cast dark clouds over the city turning it from charming to almost sinister The entire vibe shifted and I left quickly with the spirit into the air    I was then transported into a large room of a french medieval castle I knew that I was back during the medieval era but I Am not sure on the exact date At the head of the table sat the king and surrounding the table were his closest nobles When I saw one of the nobles I knew that he was one of my distant ancestors as well as one of my previous lives I then left   I then arrived at an English forest during the AngloSaxon period I saw two AngloSaxon warriors walking through the forest wearing full chain mail swords strapped to their sides and shields on their backs I knew that one of them was my ancestor as well as one of my previous lives much like the last place I had been to I flew with the spirit into the sky again    This time we flew higher into the sky out of the atmosphere and into earth's orbit Me and the spirit hovered looking down at the earth The spirit then told me it was not a separate entity from myself and was my Buddha nature It was the part of myself that contained the potential for my enlightenment but had not been activated yet After I was told this the spirit disappeared The trip ended suddenly as though I clicked my fingers and I was back to being completely sober    I do not know what to make of this experience but overall I learned at least a bit more about myself and hopefully the nature of realityconsciousness   \""
      ]
     },
     "execution_count": 83,
     "metadata": {},
     "output_type": "execute_result"
    }
   ],
   "source": [
    "df.report[0]"
   ]
  },
  {
   "cell_type": "code",
   "execution_count": 84,
   "id": "89b19c04",
   "metadata": {},
   "outputs": [
    {
     "name": "stderr",
     "output_type": "stream",
     "text": [
      "100%|██████████| 4562/4562 [00:01<00:00, 2953.38it/s]\n"
     ]
    },
    {
     "data": {
      "text/plain": [
       "'Seeing my BuddhaNature on DMT    I am a 22 year old male around 102kg What I am about to tell you is my experience of using DMT for the first time I took around 100150mg of DMT about a month ago I have no clue as to what the exact dosage is I have no clue as to what the exact dosage is because I eventually started eyeballing it trying to take bigger dosages in my attempt to break through which I believe was unsuccessful My only other psychedelic experience is LSD which I tripped heavily on around a year ago but I stopped completely a couple months before this experience I am writing this from memory so all of the details may not be 100 percent accurate    This trip happened about a month ago I decided to try DMT for the first time because the guy I usually see had it and it tested clean I also live in student accommodation and everyone had left for christmas and I was the only one still there so I had no one to bother me when I was tripping and to smell the DMT if I smoked it in my room which I did It was the perfect opportunity    After I had got the DMT I went to my room loaded up my bong with one layer of weed one layer of DMT and another layer of weed again I was a bit nervous because it was my first time doing DMT and most people say it is very intense My mistake was loading up the cone piece with too much weed which meant I could not hold in the hits for very long so I ended up wasting most of the DMT The first couple hits were nothing amazing I got very slight open eye visuals almost like taking LSD but lasting for a fraction of a second After a while I closed my eyes and that was where the real experience began    I believe what I saw was influenced by my religiousspiritual beliefs research and historical knowledge I am interested in many different types of philosophy mainly Buddhist philosophy and spirituality as of late and also western practices and ideas to do with the esotericspiritual As for my religion I am a Buddhist I also like to study history mainly ancientmedieval europenear east in particular Many things I will describe relate to specific spiritual doctrines so I will provide links to those for you to research instead of me trying to explain them   Closing my eyes I was transported to a buddhist temple on the coast Either side of the temple I could see massive white cliffs stretching out to the horizon with ocean waves crashing against them I was standing in the main courtyard of the temple The closest looking thing to the courtyard I can describe was the ancient Greek theaters with stairs going upwards surrounding a flat stage On the stage were many avatars of Hindu gods dancing as well as Bodhisattvas as well as different incarnations of the Buddha Many monks dressed in orange robes were watching from the stairs    I then flew up into the sky and over the ocean Hovering over the water was a massive wrathful deity I cannot describe how it looked but if you search google images it will give you a rough approximation Out of this deity came a being of pure light in the shape of a man which I knew was the spirit of the Buddha which I will just call the spirit from now on Most of the information was not communicated to me I just knew The spirit and I also communicated telepathically and could change our forms at will although we mostly kept our original forms The spirit took me higher into the air and I could see the island which the temple was on from a birdseye view as well as other islands around it The spirit told me I was going to see my past lives and flew me to a cold forested island north of the temple island    I saw a clearing next to a stream in a pine forest with a large cave a few meters away Out of that cave came a pale hunched over creature that walked on all fours resembling a man The closest thing that looked like the man was Gollum from LOTR I saw it hobbling out of the cave through the trees and towards the steam I knew this creature was me from one of my previous lives The spirit then flew me upwards and towards the next life   We soon entered a medieval style city All of the buildings were multistory Tudor style buildings We stood in the large town square and walked around for a while I then saw a beautiful woman brushing her hair in the sun and I briefly stopped to look at her I wanted to stay longer in this city After a while the spirit wanted me to leave to see the rest of my lives but I refused to go The spirit then cast dark clouds over the city turning it from charming to almost sinister The entire vibe shifted and I left quickly with the spirit into the air    I was then transported into a large room of a french medieval castle I knew that I was back during the medieval era but I Am not sure on the exact date At the head of the table sat the king and surrounding the table were his closest nobles When I saw one of the nobles I knew that he was one of my distant ancestors as well as one of my previous lives I then left   I then arrived at an English forest during the AngloSaxon period I saw two AngloSaxon warriors walking through the forest wearing full chain mail swords strapped to their sides and shields on their backs I knew that one of them was my ancestor as well as one of my previous lives much like the last place I had been to I flew with the spirit into the sky again    This time we flew higher into the sky out of the atmosphere and into earths orbit Me and the spirit hovered looking down at the earth The spirit then told me it was not a separate entity from myself and was my Buddha nature It was the part of myself that contained the potential for my enlightenment but had not been activated yet After I was told this the spirit disappeared The trip ended suddenly as though I clicked my fingers and I was back to being completely sober    I do not know what to make of this experience but overall I learned at least a bit more about myself and hopefully the nature of realityconsciousness   '"
      ]
     },
     "execution_count": 84,
     "metadata": {},
     "output_type": "execute_result"
    }
   ],
   "source": [
    "# There's an apostrophe toward the bottom in earth's\n",
    "strip_apostrophe(df, 'report')\n",
    "df.report[0]"
   ]
  },
  {
   "cell_type": "code",
   "execution_count": 85,
   "id": "ed63cf67",
   "metadata": {},
   "outputs": [
    {
     "data": {
      "text/html": [
       "<div>\n",
       "<style scoped>\n",
       "    .dataframe tbody tr th:only-of-type {\n",
       "        vertical-align: middle;\n",
       "    }\n",
       "\n",
       "    .dataframe tbody tr th {\n",
       "        vertical-align: top;\n",
       "    }\n",
       "\n",
       "    .dataframe thead th {\n",
       "        text-align: right;\n",
       "    }\n",
       "</style>\n",
       "<table border=\"1\" class=\"dataframe\">\n",
       "  <thead>\n",
       "    <tr style=\"text-align: right;\">\n",
       "      <th></th>\n",
       "      <th>drug</th>\n",
       "      <th>weight</th>\n",
       "      <th>year</th>\n",
       "      <th>gender</th>\n",
       "      <th>age</th>\n",
       "      <th>report</th>\n",
       "      <th>complexity</th>\n",
       "    </tr>\n",
       "  </thead>\n",
       "  <tbody>\n",
       "    <tr>\n",
       "      <th>1</th>\n",
       "      <td>AET</td>\n",
       "      <td>150 lb</td>\n",
       "      <td>2006</td>\n",
       "      <td>Male</td>\n",
       "      <td>Not Given</td>\n",
       "      <td>Over the past week I have had the chance to t...</td>\n",
       "      <td>7.8</td>\n",
       "    </tr>\n",
       "  </tbody>\n",
       "</table>\n",
       "</div>"
      ],
      "text/plain": [
       "  drug  weight  year gender        age  \\\n",
       "1  AET  150 lb  2006   Male  Not Given   \n",
       "\n",
       "                                              report  complexity  \n",
       "1   Over the past week I have had the chance to t...         7.8  "
      ]
     },
     "execution_count": 85,
     "metadata": {},
     "output_type": "execute_result"
    }
   ],
   "source": [
    "# Stripping apostrophes worked. Find a ) to see if it gets stripped properly with \n",
    "# the strip_non_emoji_emoji_symbol function. \n",
    "\n",
    "df[df['report'].str.find(\")\")!=-1].head(1)"
   ]
  },
  {
   "cell_type": "code",
   "execution_count": 86,
   "id": "8f8511d9",
   "metadata": {},
   "outputs": [
    {
     "data": {
      "text/plain": [
       "' Over the past week I have had the chance to try out AET at 3 different dosage levels  Considering the rarity of the substance I have decided that even though I encountered nothing mindblowing I should most definitely write up a summary of those experiences   FIRST TRIAL   On the first trial I took 100mg orally at about 10:00pm  I would have done it earlier but I checked my mail totally not expecting to see it yet but it had in fact arrived  I was going to start with 80mg but in reading the TIHKAL entries it seemed that 80 would have been very weak indeed so I started with 100  The taste texture and shape of the granules reminds me greatly of AMT as does the smell  It is a less powerful whiff of the same shitlike stench that pervades the air when opening AMT up  I held it in my mouth with some spit and swished it around attempting to force sublingual absorbtion  That skatole taste filled my mouth weaker than with AMT but still offensive     After about 5 minutes my mucous mebranes started to burn and although I had originally intended on holding it in my mouth for 1520 minutes at 10 minutes it burned too much and I swallowed  I rinsed my mouth out with cold distilled water for a while and ate a few bites of ice cream and within minutes the burning faded to a memory   The comeup was inconsequential  I began to feel a warm but subtle energy at about T+30 minutes and by T+45 to 1 hour I was feeling nice and happy  I did not feel much like moving but I had a very pleasant but light body high  Mentally I was unaffected other than a mood boost  There was less psychedelic buzz than with AMT but overall the body highs felt quite similar  At about T+2 hours I ingested 8 grams of kratom and took a few vaporizer hits of extreme quality cannabis which boosted the body high  After about 45 hours the high had faded to a baseline buzz  I tried to sleep but unfortunately I retained quite a bit of stimulation and slept very lightly with many interruptions throughout the next 6 hours  I got up and went on the computer for a short time twice  It was pretty frustrating but the next day I felt pretty good anyway   SECOND TRIAL   A couple of days later I decided to try again this time with 120mg total but with 60 oral and 60 insufflated  Yes that may sound a bit nuts but I have actually found that I enjoy boosting AMT by insufflating smaller amounts and AET has begun to seem very similar  With most psychedelics I find the nasal route to be counterproducxtive but with the alphaxtryptamines or the two I have tried so far anyway it seems to just increase the power and speed of onset  But be warned  insufflating AMT andor AET is not pleasant!  Observe:   T+0:00  Snorted up a 30mg line in one nostril and then immediately another in the other nostril  No immediate pain   T+0:03 seconds  Pain begins  It feels like a caustic chemical is burning the delicate mucous membranes in my nose  Slowly the smell of indole byproducts fills my nasal cavity  By now AMTs burn would have been in full force   T+0:10  Pain is at full  It is less sharp and intense than with AMT and the smell is less forward but it is still highly unpleasant   T+5:00  The pain is still the same intensity  It comes and goes in waves  My nose is running a lot so I must repeatedly sniff the snot back into my nose which renews the pain every time  The AMT sting is all but gone right now it appears that AETs sting lasts for longer although the pain is less intense   T+10:00  The pain has faded somewhat but it is really starting to bother me now  It is just so annoying and lingering   T+15:00  The pain is all gone now leaving just a tenderness inside my nostrils  By now the effects have begun   As you can see it took about 15 minutes to start coming up well this time  Almost immediately I noticed the intensity shoot to about double my first trial  The insufflation definitely worked well despite the pain   At about T+0:45 I feel the comeup from the oral portion of my dosage  This acts to increase the intensity as well as smooth the edges out  The high was very nonedgy but a faint restless energy crept in from the speed of the insufflation  The comeup stage reminds me of MDMA a little bit occasionally slightly uncomfortable but nothing at all major and AET is milder than MDMA in that respect   At this point I laid down and evaluated the effects  Of course they were much like the first trial but much stronger in the body and this time they carried a hint of a mental trip  My mind did not feel particularly sped up or lucid but it definitely was affected  Interestingly unlike with AMT where I feel very mentally adept and quick AET almost made my mind a little lethargic although it was nothing unpleasant  I felt perfectly capable socially but a little lagging in the quickthinking department   The body high was so good that it was drawing me in  It reminded me a bit of MDMA but gentler and less pushy and more natural  My overall impression of the high was that it was really not much like MDMA except for a few surface similarities  But the comparisons are hard not to make   At about T+1:30 the effects seemed to peak although it was a gentle and rather indistinct peak  During this time I had some noticeable eye wiggling and felt really damn good  It was hard for me to stay focused on one thing visually for very long  Although I did not get any actual visuals (nor do I with AMT) everything around me seemed to sparkle and I noticed patterns in the subtle shading of objects  This effect was more sparkly than with AMT but less psychedelic  Nevertheless it was rather neat  There was also noticeable palm and foot sweating which grossed my girlfriend out  Oops!   As time went on I did not notice any lessening of effects for quite a while  Eventually I began to drift off into a reverie state not unlike sleep but different from it at the same time  In this state my body was buzzing very strongly and pleasurably and my mind was traveling some freeassociation path of strange logic  When I would reenter the real world I would say something nonsensical as I do when I first waking up after nodding off  This was much to the amusement of myself and my girlfriend   After about 6 hours decidedly longer than with the first trial I realized the effects had faded quite a bit  I took 30mg of morphine rectally and this boosted me back into the land of huge body buzzes but with a much more opiated focus  I enjoyed it greatly for a couple of more hours and then went to bed  I was able to sleep better than after my first trial which is perhaps not so odd considering I used morphine during the second trial   THIRD AND MOST RECENT TRIAL   Just two days after the past trial I decided to up the dosage a little bit more and see if I could discover anything else that AET had to offer  Most psychedelics I find I can use without feeling any compulsion with the exception of empathogens which I tend to use often while I have them  AET and AMT I find are the closest to full psychedelic chemicals that I have troubles keeping away from sometimes   So that being said I decided this night to ingest the same dosage as last time and then throw in a 50mg nasal booster at about T+1:00  The experience progressed just as previously and then at T+1:00 shortly before the peak would start I insufflated another 50mg  This time it burned even more fiercely and for a few minutes I regretted taking more  However by the time the burn faded I was the highest I would been thus far in my AET trials  Let me explain   The effects from AET are not quite what I would call a trip  It is more like a cross between a light mental high which is rather difficult to describe and an empathogen  At this dosage level I found it quite difficult to stay focused on a single thing and the eye wiggles were quite strong at times  I would not want to have to do anything in this state  It is also quite physically pleasurable and at times ridiculously so  As the peak really sets in at least in my pretty much sedentary setting I found the urge to drift off into tranceland to be quite strong and thus I spent a good two hours drifting in and out of consciousness always with some link to reality  But that link grew thin sometimes   After a few hours of this it began to slowly trail off and by T+6 or 7 there was just a little residual body highstimulation which I found it pretty easy to sleep on  I woke up the next day as I did in the other two trials feeling fine  In fact I felt pretty great  Since then there has been no depression or lethargy to speak of which excites me because empathogens tend to really kick my ass for the following few days to a week   SUMMARY   I am truly glad to have discovered a sample of AET  So far I have found that it would probably have very little value in reaching anyplace profound but then again MDMA and its like have become useless to me over the years  perhaps had I tried AET 4 years or so ago I would have had a very psychedelic and profound journey  I guess I will never know   What I do know for sure is that AET feels much more benign than MDMA and was an allaround great time  I really enjoyed the relaxed stimulation and the nodding off  it reminded me of opiate nodding (even when I did not combine it with opiates) but more sparkly and psychedelic  The trancelike states I achieved were really the only part of the experiences I would consider psychedelic  The rest was just a strong highsedation which was still extremely pleasurable  I also really like the lack of aftereffects   My initial three trials have made me happy to have discovered this rare gem indeed  I still prefer AMT overall in this class of tryptamines but AET definitely gives it a run for its money in some areas   '"
      ]
     },
     "execution_count": 86,
     "metadata": {},
     "output_type": "execute_result"
    }
   ],
   "source": [
    "df.report[1]"
   ]
  },
  {
   "cell_type": "code",
   "execution_count": 87,
   "id": "c90cb153",
   "metadata": {},
   "outputs": [
    {
     "name": "stderr",
     "output_type": "stream",
     "text": [
      "100%|██████████| 4562/4562 [00:06<00:00, 758.41it/s] \n"
     ]
    },
    {
     "data": {
      "text/plain": [
       "' Over the past week I have had the chance to try out AET at 3 different dosage levels  Considering the rarity of the substance I have decided that even though I encountered nothing mindblowing I should most definitely write up a summary of those experiences   FIRST TRIAL   On the first trial I took 100mg orally at about 10:00pm  I would have done it earlier but I checked my mail totally not expecting to see it yet but it had in fact arrived  I was going to start with 80mg but in reading the TIHKAL entries it seemed that 80 would have been very weak indeed so I started with 100  The taste texture and shape of the granules reminds me greatly of AMT as does the smell  It is a less powerful whiff of the same shitlike stench that pervades the air when opening AMT up  I held it in my mouth with some spit and swished it around attempting to force sublingual absorbtion  That skatole taste filled my mouth weaker than with AMT but still offensive     After about 5 minutes my mucous mebranes started to burn and although I had originally intended on holding it in my mouth for 1520 minutes at 10 minutes it burned too much and I swallowed  I rinsed my mouth out with cold distilled water for a while and ate a few bites of ice cream and within minutes the burning faded to a memory   The comeup was inconsequential  I began to feel a warm but subtle energy at about T+30 minutes and by T+45 to 1 hour I was feeling nice and happy  I did not feel much like moving but I had a very pleasant but light body high  Mentally I was unaffected other than a mood boost  There was less psychedelic buzz than with AMT but overall the body highs felt quite similar  At about T+2 hours I ingested 8 grams of kratom and took a few vaporizer hits of extreme quality cannabis which boosted the body high  After about 45 hours the high had faded to a baseline buzz  I tried to sleep but unfortunately I retained quite a bit of stimulation and slept very lightly with many interruptions throughout the next 6 hours  I got up and went on the computer for a short time twice  It was pretty frustrating but the next day I felt pretty good anyway   SECOND TRIAL   A couple of days later I decided to try again this time with 120mg total but with 60 oral and 60 insufflated  Yes that may sound a bit nuts but I have actually found that I enjoy boosting AMT by insufflating smaller amounts and AET has begun to seem very similar  With most psychedelics I find the nasal route to be counterproducxtive but with the alphaxtryptamines or the two I have tried so far anyway it seems to just increase the power and speed of onset  But be warned  insufflating AMT andor AET is not pleasant!  Observe   T+0:00  Snorted up a 30mg line in one nostril and then immediately another in the other nostril  No immediate pain   T+0:03 seconds  Pain begins  It feels like a caustic chemical is burning the delicate mucous membranes in my nose  Slowly the smell of indole byproducts fills my nasal cavity  By now AMTs burn would have been in full force   T+0:10  Pain is at full  It is less sharp and intense than with AMT and the smell is less forward but it is still highly unpleasant   T+5:00  The pain is still the same intensity  It comes and goes in waves  My nose is running a lot so I must repeatedly sniff the snot back into my nose which renews the pain every time  The AMT sting is all but gone right now it appears that AETs sting lasts for longer although the pain is less intense   T+10:00  The pain has faded somewhat but it is really starting to bother me now  It is just so annoying and lingering   T+15:00  The pain is all gone now leaving just a tenderness inside my nostrils  By now the effects have begun   As you can see it took about 15 minutes to start coming up well this time  Almost immediately I noticed the intensity shoot to about double my first trial  The insufflation definitely worked well despite the pain   At about T+0:45 I feel the comeup from the oral portion of my dosage  This acts to increase the intensity as well as smooth the edges out  The high was very nonedgy but a faint restless energy crept in from the speed of the insufflation  The comeup stage reminds me of MDMA a little bit occasionally slightly uncomfortable but nothing at all major and AET is milder than MDMA in that respect   At this point I laid down and evaluated the effects  Of course they were much like the first trial but much stronger in the body and this time they carried a hint of a mental trip  My mind did not feel particularly sped up or lucid but it definitely was affected  Interestingly unlike with AMT where I feel very mentally adept and quick AET almost made my mind a little lethargic although it was nothing unpleasant  I felt perfectly capable socially but a little lagging in the quickthinking department   The body high was so good that it was drawing me in  It reminded me a bit of MDMA but gentler and less pushy and more natural  My overall impression of the high was that it was really not much like MDMA except for a few surface similarities  But the comparisons are hard not to make   At about T+1:30 the effects seemed to peak although it was a gentle and rather indistinct peak  During this time I had some noticeable eye wiggling and felt really damn good  It was hard for me to stay focused on one thing visually for very long  Although I did not get any actual visuals nor do I with AMT everything around me seemed to sparkle and I noticed patterns in the subtle shading of objects  This effect was more sparkly than with AMT but less psychedelic  Nevertheless it was rather neat  There was also noticeable palm and foot sweating which grossed my girlfriend out  Oops!   As time went on I did not notice any lessening of effects for quite a while  Eventually I began to drift off into a reverie state not unlike sleep but different from it at the same time  In this state my body was buzzing very strongly and pleasurably and my mind was traveling some freeassociation path of strange logic  When I would reenter the real world I would say something nonsensical as I do when I first waking up after nodding off  This was much to the amusement of myself and my girlfriend   After about 6 hours decidedly longer than with the first trial I realized the effects had faded quite a bit  I took 30mg of morphine rectally and this boosted me back into the land of huge body buzzes but with a much more opiated focus  I enjoyed it greatly for a couple of more hours and then went to bed  I was able to sleep better than after my first trial which is perhaps not so odd considering I used morphine during the second trial   THIRD AND MOST RECENT TRIAL   Just two days after the past trial I decided to up the dosage a little bit more and see if I could discover anything else that AET had to offer  Most psychedelics I find I can use without feeling any compulsion with the exception of empathogens which I tend to use often while I have them  AET and AMT I find are the closest to full psychedelic chemicals that I have troubles keeping away from sometimes   So that being said I decided this night to ingest the same dosage as last time and then throw in a 50mg nasal booster at about T+1:00  The experience progressed just as previously and then at T+1:00 shortly before the peak would start I insufflated another 50mg  This time it burned even more fiercely and for a few minutes I regretted taking more  However by the time the burn faded I was the highest I would been thus far in my AET trials  Let me explain   The effects from AET are not quite what I would call a trip  It is more like a cross between a light mental high which is rather difficult to describe and an empathogen  At this dosage level I found it quite difficult to stay focused on a single thing and the eye wiggles were quite strong at times  I would not want to have to do anything in this state  It is also quite physically pleasurable and at times ridiculously so  As the peak really sets in at least in my pretty much sedentary setting I found the urge to drift off into tranceland to be quite strong and thus I spent a good two hours drifting in and out of consciousness always with some link to reality  But that link grew thin sometimes   After a few hours of this it began to slowly trail off and by T+6 or 7 there was just a little residual body highstimulation which I found it pretty easy to sleep on  I woke up the next day as I did in the other two trials feeling fine  In fact I felt pretty great  Since then there has been no depression or lethargy to speak of which excites me because empathogens tend to really kick my ass for the following few days to a week   SUMMARY   I am truly glad to have discovered a sample of AET  So far I have found that it would probably have very little value in reaching anyplace profound but then again MDMA and its like have become useless to me over the years  perhaps had I tried AET 4 years or so ago I would have had a very psychedelic and profound journey  I guess I will never know   What I do know for sure is that AET feels much more benign than MDMA and was an allaround great time  I really enjoyed the relaxed stimulation and the nodding off  it reminded me of opiate nodding even when I did not combine it with opiates but more sparkly and psychedelic  The trancelike states I achieved were really the only part of the experiences I would consider psychedelic  The rest was just a strong highsedation which was still extremely pleasurable  I also really like the lack of aftereffects   My initial three trials have made me happy to have discovered this rare gem indeed  I still prefer AMT overall in this class of tryptamines but AET definitely gives it a run for its money in some areas   '"
      ]
     },
     "execution_count": 87,
     "metadata": {},
     "output_type": "execute_result"
    }
   ],
   "source": [
    "# ( and ) show up toward the end: (even when I did not combine. . .). Now strip. \n",
    "strip_non_emoji_emoji_symbol(df,'report')\n",
    "df.report[1]"
   ]
  },
  {
   "cell_type": "markdown",
   "id": "40f3d638",
   "metadata": {},
   "source": [
    "Parsing so far has worked well. Originally, I kept some punctuation intact because it might appear in the context of an emoji. Here were the steps I took with remaining punctuation after doing the parsing from above:\n",
    "\n",
    "- Keep where they exist: ! $ + = ? % 0-9\n",
    "- Delte everywhere: #\n",
    "- Delete if surrounded by spaces or adjacent to numbers rather than adjacent to another symbol: ( ) : ;\n"
   ]
  },
  {
   "cell_type": "code",
   "execution_count": 88,
   "id": "4491fe9f",
   "metadata": {},
   "outputs": [
    {
     "data": {
      "text/html": [
       "<div>\n",
       "<style scoped>\n",
       "    .dataframe tbody tr th:only-of-type {\n",
       "        vertical-align: middle;\n",
       "    }\n",
       "\n",
       "    .dataframe tbody tr th {\n",
       "        vertical-align: top;\n",
       "    }\n",
       "\n",
       "    .dataframe thead th {\n",
       "        text-align: right;\n",
       "    }\n",
       "</style>\n",
       "<table border=\"1\" class=\"dataframe\">\n",
       "  <thead>\n",
       "    <tr style=\"text-align: right;\">\n",
       "      <th></th>\n",
       "      <th>drug</th>\n",
       "      <th>weight</th>\n",
       "      <th>year</th>\n",
       "      <th>gender</th>\n",
       "      <th>age</th>\n",
       "      <th>report</th>\n",
       "      <th>complexity</th>\n",
       "    </tr>\n",
       "  </thead>\n",
       "  <tbody>\n",
       "    <tr>\n",
       "      <th>45</th>\n",
       "      <td>4-AcO-DMT</td>\n",
       "      <td>245 lb</td>\n",
       "      <td>2013</td>\n",
       "      <td>Male</td>\n",
       "      <td>29</td>\n",
       "      <td>Background 29 year old male  62 250lbs  Very ...</td>\n",
       "      <td>4.3</td>\n",
       "    </tr>\n",
       "  </tbody>\n",
       "</table>\n",
       "</div>"
      ],
      "text/plain": [
       "         drug  weight  year gender age  \\\n",
       "45  4-AcO-DMT  245 lb  2013   Male  29   \n",
       "\n",
       "                                               report  complexity  \n",
       "45   Background 29 year old male  62 250lbs  Very ...         4.3  "
      ]
     },
     "execution_count": 88,
     "metadata": {},
     "output_type": "execute_result"
    }
   ],
   "source": [
    "# Delete hashtag symbols if there are any. \n",
    "df[df['report'].str.find(\"#\")!=-1].head(1)"
   ]
  },
  {
   "cell_type": "code",
   "execution_count": 89,
   "id": "12dc4e13",
   "metadata": {},
   "outputs": [
    {
     "data": {
      "text/plain": [
       "' Background 29 year old male  62 250lbs  Very experienced with psychedelic drugs    Going into this experience I had been quite stressed from personal financial matters and work related complications  I have the house to myself for the night  Girlfriend is gone for the night and the roommate is out of town  My dog will be keeping me company  I had a few beers in the afternoonbetween 2:30 and 3:30)  Followed by hydrating and relaxing  I ate an early dinner  Around 5:30  2 slices of pizza   7:52pm I opened a beer to relax my nerves  I plan to consume about half of it before dosing the ALLAD  I will wash down the 4acoDMT with a few sips of beer   8:08pm dose placed on tongue   8:16pm ALLAD onset is always super quick  Warmth slight alertness light headed buzz and euphoria  Tab still is in my mouth   8:20pm tab swallowed   8:23pm 4acoDMT consumed orally   8:25pm Very alert  At a ++  Still nursing my beer  About to put on some music   8:31pm I let the dog out to pee plus took a few rips off my kratom vape pen  Feeling really good  I am sweating  Which is normal for these psychedelics   8:42pm very smooth come up  I feel the speedy component of the tryptamine as well as the dream state of the ergoline  The dream state will over take it I know this   8:55pm Tracers present  Very tactile feel  Loss of ego present  I feel very connected  Thinking a lot about my relationship with my wonderful girlfriend  Rooms and my phone are breathing  Huge connection with my fellow man   Little to no body load for me   9:01pm minor closed eyed and open eyed visuals   9:18pm still at ++  Enjoying the introspection and the CEVs   Thought a lot about the tendencies and actions of an old addict friend I have not spoken with in years  I miss him despite all his short comings   I reflected on my own short comings  How I can be wasteful or irresponsible  How I have slowly been making changes   9:31pm shooting up to +++  Visuals intensifying  Thoughts quite profound  Pondering my death  My life  Connections  What is and is not worth doing?   Some mild stomach discomfort   9:49pm still some stomach discomfort  Trip is intense  Shower curtain is vibrating  Like a water fountain tumbling down   10:04pm stomach discomfort dissipating  Still at +++   10:31pm  Stomach discomfort completely gone  Really high  Just took several rips of kratom  It really potentates the trip  Cracked beer #2   10:44pm cracked beer #3 Def past the peak  At a ++ right now   11:00pm I just ate some Indian garlic fried rice leftovers  Taste is incredible  Very spicy  I am sweating profusely from it   Post Trip notes  Between 11pm and 3am I watched Fear and Loathing in Las Vegas and then the Big Lebowski  I administered St Johns Wort Valerian Root and Melatonin to myself around 3am  I feel asleep right before 4am  I woke up around 7am     I had a hangover from drinking 8 high gravity beers plus the usual feel from synthetic psychedelics  By the afternoon I felt fine  I rested and exercised as sweating out the toxins is the best means to recovery     Overall it was a great trip  I never really got too out there  It also never really reached the level of intensity I desired but that was also expected given the dosage of each substance  As a side note I find kratom to be an excellent substitute for marijuana when it is absent or not available  I had purchased an ecig from a local head shop which had a kratom cartridge in it  It def helped in the trip and intensified the trips at times   '"
      ]
     },
     "execution_count": 89,
     "metadata": {},
     "output_type": "execute_result"
    }
   ],
   "source": [
    "df.report[45]"
   ]
  },
  {
   "cell_type": "code",
   "execution_count": 90,
   "id": "514e1efd",
   "metadata": {},
   "outputs": [
    {
     "name": "stderr",
     "output_type": "stream",
     "text": [
      "100%|██████████| 4562/4562 [00:01<00:00, 3604.96it/s]\n"
     ]
    },
    {
     "data": {
      "text/plain": [
       "' Background 29 year old male  62 250lbs  Very experienced with psychedelic drugs    Going into this experience I had been quite stressed from personal financial matters and work related complications  I have the house to myself for the night  Girlfriend is gone for the night and the roommate is out of town  My dog will be keeping me company  I had a few beers in the afternoonbetween 2:30 and 3:30)  Followed by hydrating and relaxing  I ate an early dinner  Around 5:30  2 slices of pizza   7:52pm I opened a beer to relax my nerves  I plan to consume about half of it before dosing the ALLAD  I will wash down the 4acoDMT with a few sips of beer   8:08pm dose placed on tongue   8:16pm ALLAD onset is always super quick  Warmth slight alertness light headed buzz and euphoria  Tab still is in my mouth   8:20pm tab swallowed   8:23pm 4acoDMT consumed orally   8:25pm Very alert  At a ++  Still nursing my beer  About to put on some music   8:31pm I let the dog out to pee plus took a few rips off my kratom vape pen  Feeling really good  I am sweating  Which is normal for these psychedelics   8:42pm very smooth come up  I feel the speedy component of the tryptamine as well as the dream state of the ergoline  The dream state will over take it I know this   8:55pm Tracers present  Very tactile feel  Loss of ego present  I feel very connected  Thinking a lot about my relationship with my wonderful girlfriend  Rooms and my phone are breathing  Huge connection with my fellow man   Little to no body load for me   9:01pm minor closed eyed and open eyed visuals   9:18pm still at ++  Enjoying the introspection and the CEVs   Thought a lot about the tendencies and actions of an old addict friend I have not spoken with in years  I miss him despite all his short comings   I reflected on my own short comings  How I can be wasteful or irresponsible  How I have slowly been making changes   9:31pm shooting up to +++  Visuals intensifying  Thoughts quite profound  Pondering my death  My life  Connections  What is and is not worth doing?   Some mild stomach discomfort   9:49pm still some stomach discomfort  Trip is intense  Shower curtain is vibrating  Like a water fountain tumbling down   10:04pm stomach discomfort dissipating  Still at +++   10:31pm  Stomach discomfort completely gone  Really high  Just took several rips of kratom  It really potentates the trip  Cracked beer  2   10:44pm cracked beer  3 Def past the peak  At a ++ right now   11:00pm I just ate some Indian garlic fried rice leftovers  Taste is incredible  Very spicy  I am sweating profusely from it   Post Trip notes  Between 11pm and 3am I watched Fear and Loathing in Las Vegas and then the Big Lebowski  I administered St Johns Wort Valerian Root and Melatonin to myself around 3am  I feel asleep right before 4am  I woke up around 7am     I had a hangover from drinking 8 high gravity beers plus the usual feel from synthetic psychedelics  By the afternoon I felt fine  I rested and exercised as sweating out the toxins is the best means to recovery     Overall it was a great trip  I never really got too out there  It also never really reached the level of intensity I desired but that was also expected given the dosage of each substance  As a side note I find kratom to be an excellent substitute for marijuana when it is absent or not available  I had purchased an ecig from a local head shop which had a kratom cartridge in it  It def helped in the trip and intensified the trips at times   '"
      ]
     },
     "execution_count": 90,
     "metadata": {},
     "output_type": "execute_result"
    }
   ],
   "source": [
    "# That showed up toward the bottom beer #2...beer #3\n",
    "for row in tqdm(range(len(df))):\n",
    "    text = df.loc[row,'report']\n",
    "    df.loc[row,'report'] = text.replace('#', ' ')\n",
    "\n",
    "df.report[45]"
   ]
  },
  {
   "cell_type": "markdown",
   "id": "f6553686",
   "metadata": {},
   "source": [
    "That worked. Now deal with ():; First, remove them where they are just surrounded by spaces. "
   ]
  },
  {
   "cell_type": "code",
   "execution_count": 91,
   "id": "95bd0121",
   "metadata": {},
   "outputs": [
    {
     "data": {
      "text/html": [
       "<div>\n",
       "<style scoped>\n",
       "    .dataframe tbody tr th:only-of-type {\n",
       "        vertical-align: middle;\n",
       "    }\n",
       "\n",
       "    .dataframe tbody tr th {\n",
       "        vertical-align: top;\n",
       "    }\n",
       "\n",
       "    .dataframe thead th {\n",
       "        text-align: right;\n",
       "    }\n",
       "</style>\n",
       "<table border=\"1\" class=\"dataframe\">\n",
       "  <thead>\n",
       "    <tr style=\"text-align: right;\">\n",
       "      <th></th>\n",
       "      <th>drug</th>\n",
       "      <th>weight</th>\n",
       "      <th>year</th>\n",
       "      <th>gender</th>\n",
       "      <th>age</th>\n",
       "      <th>report</th>\n",
       "      <th>complexity</th>\n",
       "    </tr>\n",
       "  </thead>\n",
       "  <tbody>\n",
       "    <tr>\n",
       "      <th>20</th>\n",
       "      <td>AL-LAD</td>\n",
       "      <td>140 lb</td>\n",
       "      <td>2013</td>\n",
       "      <td>Male</td>\n",
       "      <td>44</td>\n",
       "      <td>Received ten x 100mcg blotters of ALLAD to tr...</td>\n",
       "      <td>7.9</td>\n",
       "    </tr>\n",
       "  </tbody>\n",
       "</table>\n",
       "</div>"
      ],
      "text/plain": [
       "      drug  weight  year gender age  \\\n",
       "20  AL-LAD  140 lb  2013   Male  44   \n",
       "\n",
       "                                               report  complexity  \n",
       "20   Received ten x 100mcg blotters of ALLAD to tr...         7.9  "
      ]
     },
     "execution_count": 91,
     "metadata": {},
     "output_type": "execute_result"
    }
   ],
   "source": [
    "# Find an example.\n",
    "df[df['report'].str.find(\" ( \")!=-1].head(1)"
   ]
  },
  {
   "cell_type": "code",
   "execution_count": 92,
   "id": "a997f010",
   "metadata": {},
   "outputs": [
    {
     "data": {
      "text/plain": [
       "' Received ten x 100mcg blotters of ALLAD to trial for a vendor had it synthed up in a European lab licensed to handle LSD as a kind of proof of concept thing low volume run hoping it would be commercially viable NMRs and LCMS are available for it I trust the source based on past dealings my two experiences with it and those of others I have read from those who have also trialled it from the same source are entirely consistent with Shulgins reports on it and those I have read elsewhere previously I have every reason to believe what I got is exactly what it says on the tin despite it being a very rare chem generally   Trialled 300mcg one week previous to good effect though not quite where I wanted it to be at that dose Experienced with a good number of your traditional and notsotraditional psychedelics Years since last had LSD but plenty familiar enough with it to know the similarities and the differences here subtle though they are Running a tolerance generally due to somewhat frequent overuse of mainly NBOMes aMT the various APBs 2CE 4AcODMT recently on a good as weekly certainly fortnightly basis for some months I always dose high with any psyche I do not do halfmeasures want it full full on  Noone should extrapolate anything from this dose then As in all things YMMV!  Reports elsewhere of fairly strong effects at 150mcg and up 300mcg may be a more typical dose for most for similar intensity to that described here I would hazard an educated guess that is your range for light  common  strong then 150  300  500 mcg   Trip report   17:00 450ug as close as I can be cutting blotters Applied upper lip see if buccal admin comes up any faster Proved it is active orally last week with a 300ug oral dose   +0:45 Not much at all from it Cannot say there is any effects worth noting at all? Swallowed down at this point   +1:00 First signs of a visual disturbance patches of colour coming at the very edges of vision Buzz mainly at the temples coming in Very vague at this point   +2:00 Still very vague Feels like it is going to be a disappointing night maybe tolerance but not feeling anything like as strong as last week Got some movement in bathroom tiles and vague patterns in carpet towels etc for instance but not nearly as much as I would expect Nice feel in the body nice buzz and warm rushes hollow feel in the chest   +3:00 Developed real fast all of a sudden from +2:30 and on seemed to suddenly come up in a great big rush Massive rush of colour patterns exploding all over visual field stacking up over each other Lots of vibration to everything long tracers swirling my hands about bedroom door looks pretty jellified wobbling and melting in its door frame all over the place rippling away Really good detailed CEVs beautifully intricate and dynamic fractal patterns Brightly lit colours are lots of pale pinks and yellows kind of neon Thrashing around a bit breathing hard helps bring massive rushes of euphoria with waves of warmth coming up from the body and up through the head helps work the images up they seem to surge with the motion of my head   +4:00 Weird thinking patterns very much in evidence Caught myself a couple of times going down long meanders that do not make sense the chain of thoughts from one thing to another do not link up I do not understand the thinking going on Some of it very irrational hints of the madhouse I sometimes get with LSD that kind of have I gone mad questioning where I cannot make sense of things Little kind of timeout moments where I have to just stop and focus right on the moment stop all thought and try and pull back to something I have a handle on properly Not easy that at times have to exert some real effort to wrest control back Very meditative emotionally connected   I can let myself go quite easily close my eyes and just kind of dissolve into the visual field CEVs emanating right from a single point in my head I am at the centre of flowing from me I can merge into it all at will Quite dissociative almost moments of being somewhere else mainly feel at the centre of all things all things contained within that centre Union with all as the source of all as creative consciousness Had some really interesting pingponging effects where the single point of consciousness I seem to inhabit seems to jump this place to that and seem to be inhabiting different identitities at each point They are not me they are not my usual selves it is like trying on a costume being someone else completely for a moment then switch Weird And catch myself being almost just out of body very slightly out of phase as though I have a vantage point from just outside myself looking in then snap back into position It is very LSDlike in the mental effects though a little less so if that makes sense The same kind of odd thinking is there but not so fucked up there is still the rational observer present There is potential for a bad one here if you got the wrong side of it more than I expected It is properly psychedelic more so than 25I by a long way There is craziness here for some   Music sounds incredible Massive distortions to it huge flanging effects pitchshifting tempo seems really all over the place at times Odd moments where it was just waves of sound washing over me the shape of each one evident in minute detail working out what they would done to produce a sonic shape so intricate could properly analyse every last detail like the music was in slowmo or I had it under a microscope zoomed in close and then pull the focus back and it surges back into normal time and the tune continues Difficult to describe in a way that makes sense I guess   +6:00 Past peak now Still very visual colourful CEVs have dropped off in intensity not so engaging Still there but cannot melt into them any more they are outside of myself again eyecandy only Still can barely see to type though but easier Very euphoric still but more relaxed with it calmer not rushy any more still a nice buzz to it   +8:00 Still going not faded completely yet Colour patterns still in evidence all OEV now though CEVs are almost gone becoming more like phosphene patterns though still more in evidence and better lit  detailed than usual Stick a film on cannot follow it for shit Keep drifiting off a bit Think will sleep despite there still being some of the buzz going It is not stimulation as such   Notes end Reckon I drifted off about the +9:00 mark   Some more thoughts   Different class from last week at 300mcg the extra 150 made the world of difference More than I expected I thought I was in for a disappointing night still even +2hrs in then suddenly boom here you go full full on Could not see for shit at +3hrs barely see to type My notes all taken contemporaneously typed into Notepad as timestamped took some right editing this morning   Intensity was right up there had much more to it than even stupidly high dosed NBOMe combos mentally and visually I would prefer this every time Just as full on every bit is visual better than 25I OEV and CEV much closer to LSD in detail complexity fluidity multilayered multidimenional proper psychedelic depth to it and did not feel like I was risking a heart attack and seizure to get it Perfectly comfortable on the body throughout nice rushy body high VERY euphoric VERY horny on it very tactile and fully functional lovely stuff Would deffo buy if it came to market if the price was right had just about everything I would want could be very good once better used to it enough to make the most of it get the set right Winner!   Was disappointed with 300mics last week but 450mics Friday night was full of win Fuck NBOMes I hope to Gd this comes out I am buying as much as I can while I have got chance Closest thing to acid yet if I would been sold it in a pub as LSD I would have accepted that is what I would got It is its own drug there are subtle differences ( lighter trip more candycoloured visuals more MDMAlike in the body very rushy and euphoric ) but almost indistinguishable Exactly what I have been looking for with RCs all along   '"
      ]
     },
     "execution_count": 92,
     "metadata": {},
     "output_type": "execute_result"
    }
   ],
   "source": [
    "df.report[20]"
   ]
  },
  {
   "cell_type": "code",
   "execution_count": 95,
   "id": "8cc80e6a",
   "metadata": {},
   "outputs": [
    {
     "data": {
      "text/plain": [
       "' Received ten x 100mcg blotters of ALLAD to trial for a vendor had it synthed up in a European lab licensed to handle LSD as a kind of proof of concept thing low volume run hoping it would be commercially viable NMRs and LCMS are available for it I trust the source based on past dealings my two experiences with it and those of others I have read from those who have also trialled it from the same source are entirely consistent with Shulgins reports on it and those I have read elsewhere previously I have every reason to believe what I got is exactly what it says on the tin despite it being a very rare chem generally   Trialled 300mcg one week previous to good effect though not quite where I wanted it to be at that dose Experienced with a good number of your traditional and notsotraditional psychedelics Years since last had LSD but plenty familiar enough with it to know the similarities and the differences here subtle though they are Running a tolerance generally due to somewhat frequent overuse of mainly NBOMes aMT the various APBs 2CE 4AcODMT recently on a good as weekly certainly fortnightly basis for some months I always dose high with any psyche I do not do halfmeasures want it full full on  Noone should extrapolate anything from this dose then As in all things YMMV!  Reports elsewhere of fairly strong effects at 150mcg and up 300mcg may be a more typical dose for most for similar intensity to that described here I would hazard an educated guess that is your range for light  common  strong then 150  300  500 mcg   Trip report   17:00 450ug as close as I can be cutting blotters Applied upper lip see if buccal admin comes up any faster Proved it is active orally last week with a 300ug oral dose   +0:45 Not much at all from it Cannot say there is any effects worth noting at all? Swallowed down at this point   +1:00 First signs of a visual disturbance patches of colour coming at the very edges of vision Buzz mainly at the temples coming in Very vague at this point   +2:00 Still very vague Feels like it is going to be a disappointing night maybe tolerance but not feeling anything like as strong as last week Got some movement in bathroom tiles and vague patterns in carpet towels etc for instance but not nearly as much as I would expect Nice feel in the body nice buzz and warm rushes hollow feel in the chest   +3:00 Developed real fast all of a sudden from +2:30 and on seemed to suddenly come up in a great big rush Massive rush of colour patterns exploding all over visual field stacking up over each other Lots of vibration to everything long tracers swirling my hands about bedroom door looks pretty jellified wobbling and melting in its door frame all over the place rippling away Really good detailed CEVs beautifully intricate and dynamic fractal patterns Brightly lit colours are lots of pale pinks and yellows kind of neon Thrashing around a bit breathing hard helps bring massive rushes of euphoria with waves of warmth coming up from the body and up through the head helps work the images up they seem to surge with the motion of my head   +4:00 Weird thinking patterns very much in evidence Caught myself a couple of times going down long meanders that do not make sense the chain of thoughts from one thing to another do not link up I do not understand the thinking going on Some of it very irrational hints of the madhouse I sometimes get with LSD that kind of have I gone mad questioning where I cannot make sense of things Little kind of timeout moments where I have to just stop and focus right on the moment stop all thought and try and pull back to something I have a handle on properly Not easy that at times have to exert some real effort to wrest control back Very meditative emotionally connected   I can let myself go quite easily close my eyes and just kind of dissolve into the visual field CEVs emanating right from a single point in my head I am at the centre of flowing from me I can merge into it all at will Quite dissociative almost moments of being somewhere else mainly feel at the centre of all things all things contained within that centre Union with all as the source of all as creative consciousness Had some really interesting pingponging effects where the single point of consciousness I seem to inhabit seems to jump this place to that and seem to be inhabiting different identitities at each point They are not me they are not my usual selves it is like trying on a costume being someone else completely for a moment then switch Weird And catch myself being almost just out of body very slightly out of phase as though I have a vantage point from just outside myself looking in then snap back into position It is very LSDlike in the mental effects though a little less so if that makes sense The same kind of odd thinking is there but not so fucked up there is still the rational observer present There is potential for a bad one here if you got the wrong side of it more than I expected It is properly psychedelic more so than 25I by a long way There is craziness here for some   Music sounds incredible Massive distortions to it huge flanging effects pitchshifting tempo seems really all over the place at times Odd moments where it was just waves of sound washing over me the shape of each one evident in minute detail working out what they would done to produce a sonic shape so intricate could properly analyse every last detail like the music was in slowmo or I had it under a microscope zoomed in close and then pull the focus back and it surges back into normal time and the tune continues Difficult to describe in a way that makes sense I guess   +6:00 Past peak now Still very visual colourful CEVs have dropped off in intensity not so engaging Still there but cannot melt into them any more they are outside of myself again eyecandy only Still can barely see to type though but easier Very euphoric still but more relaxed with it calmer not rushy any more still a nice buzz to it   +8:00 Still going not faded completely yet Colour patterns still in evidence all OEV now though CEVs are almost gone becoming more like phosphene patterns though still more in evidence and better lit  detailed than usual Stick a film on cannot follow it for shit Keep drifiting off a bit Think will sleep despite there still being some of the buzz going It is not stimulation as such   Notes end Reckon I drifted off about the +9:00 mark   Some more thoughts   Different class from last week at 300mcg the extra 150 made the world of difference More than I expected I thought I was in for a disappointing night still even +2hrs in then suddenly boom here you go full full on Could not see for shit at +3hrs barely see to type My notes all taken contemporaneously typed into Notepad as timestamped took some right editing this morning   Intensity was right up there had much more to it than even stupidly high dosed NBOMe combos mentally and visually I would prefer this every time Just as full on every bit is visual better than 25I OEV and CEV much closer to LSD in detail complexity fluidity multilayered multidimenional proper psychedelic depth to it and did not feel like I was risking a heart attack and seizure to get it Perfectly comfortable on the body throughout nice rushy body high VERY euphoric VERY horny on it very tactile and fully functional lovely stuff Would deffo buy if it came to market if the price was right had just about everything I would want could be very good once better used to it enough to make the most of it get the set right Winner!   Was disappointed with 300mics last week but 450mics Friday night was full of win Fuck NBOMes I hope to Gd this comes out I am buying as much as I can while I have got chance Closest thing to acid yet if I would been sold it in a pub as LSD I would have accepted that is what I would got It is its own drug there are subtle differences lighter trip more candycoloured visuals more MDMAlike in the body very rushy and euphoric but almost indistinguishable Exactly what I have been looking for with RCs all along   '"
      ]
     },
     "execution_count": 95,
     "metadata": {},
     "output_type": "execute_result"
    }
   ],
   "source": [
    "# There's a solitary ( toward the end. Run the function to remove these. \n",
    "strip_emoji_like_if_spaces(df,'report')\n",
    "\n",
    "df.report[20]"
   ]
  },
  {
   "cell_type": "code",
   "execution_count": null,
   "id": "36b54e5f",
   "metadata": {},
   "outputs": [],
   "source": [
    "\n",
    "\n"
   ]
  },
  {
   "cell_type": "code",
   "execution_count": null,
   "id": "c3929256",
   "metadata": {},
   "outputs": [],
   "source": [
    "df.to_csv('../data/processed/erowid_cleaned.csv')"
   ]
  }
 ],
 "metadata": {
  "kernelspec": {
   "display_name": "Python 3 (ipykernel)",
   "language": "python",
   "name": "python3"
  },
  "language_info": {
   "codemirror_mode": {
    "name": "ipython",
    "version": 3
   },
   "file_extension": ".py",
   "mimetype": "text/x-python",
   "name": "python",
   "nbconvert_exporter": "python",
   "pygments_lexer": "ipython3",
   "version": "3.9.15"
  }
 },
 "nbformat": 4,
 "nbformat_minor": 5
}
