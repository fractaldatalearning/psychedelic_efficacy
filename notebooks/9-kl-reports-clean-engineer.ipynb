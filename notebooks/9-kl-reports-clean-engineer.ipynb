{
 "cells": [
  {
   "cell_type": "markdown",
   "id": "024634ee",
   "metadata": {},
   "source": [
    "# <font color='violet'> Cleaning, Parsing, Feature Engineering on Psychedelic Experience Reports\n",
    "    \n",
    "Use the same methods I used for the reviews from studies to clean up the report texts. Address any issues that are unique to the texts from Erowid and require additional cleaning. Then, do feature engineering to create the same columns from data modeled previously: complexity level, similarity with a meta-perfect-review, subjectivity, and polarity. "
   ]
  },
  {
   "cell_type": "code",
   "execution_count": 1,
   "id": "8bf0c9a7",
   "metadata": {},
   "outputs": [],
   "source": [
    "import pandas as pd\n",
    "from tqdm import tqdm"
   ]
  },
  {
   "cell_type": "code",
   "execution_count": 2,
   "id": "a5e74d07",
   "metadata": {},
   "outputs": [
    {
     "name": "stdout",
     "output_type": "stream",
     "text": [
      "<class 'pandas.core.frame.DataFrame'>\n",
      "RangeIndex: 8775 entries, 0 to 8774\n",
      "Data columns (total 8 columns):\n",
      " #   Column      Non-Null Count  Dtype \n",
      "---  ------      --------------  ----- \n",
      " 0   Unnamed: 0  8775 non-null   int64 \n",
      " 1   drug        8775 non-null   object\n",
      " 2   weight      8775 non-null   object\n",
      " 3   year        8775 non-null   object\n",
      " 4   gender      8775 non-null   object\n",
      " 5   age         8775 non-null   object\n",
      " 6   report      8775 non-null   object\n",
      " 7   url         8775 non-null   object\n",
      "dtypes: int64(1), object(7)\n",
      "memory usage: 548.6+ KB\n"
     ]
    }
   ],
   "source": [
    "df = pd.read_csv('../data/raw/erowid/raw_reports_final.csv')\n",
    "df.info()"
   ]
  },
  {
   "cell_type": "code",
   "execution_count": 3,
   "id": "4b51b97d",
   "metadata": {},
   "outputs": [
    {
     "data": {
      "text/plain": [
       "Index(['drug', 'weight', 'year', 'gender', 'age', 'report', 'url'], dtype='object')"
      ]
     },
     "execution_count": 3,
     "metadata": {},
     "output_type": "execute_result"
    }
   ],
   "source": [
    "df = df.drop(columns=['Unnamed: 0'])\n",
    "df.columns"
   ]
  },
  {
   "cell_type": "code",
   "execution_count": 4,
   "id": "ec7762ef",
   "metadata": {},
   "outputs": [
    {
     "name": "stdout",
     "output_type": "stream",
     "text": [
      "<class 'pandas.core.frame.DataFrame'>\n",
      "RangeIndex: 5264 entries, 0 to 5263\n",
      "Data columns (total 7 columns):\n",
      " #   Column  Non-Null Count  Dtype \n",
      "---  ------  --------------  ----- \n",
      " 0   drug    5264 non-null   object\n",
      " 1   weight  5264 non-null   object\n",
      " 2   year    5264 non-null   object\n",
      " 3   gender  5264 non-null   object\n",
      " 4   age     5264 non-null   object\n",
      " 5   report  5264 non-null   object\n",
      " 6   url     5264 non-null   object\n",
      "dtypes: object(7)\n",
      "memory usage: 288.0+ KB\n"
     ]
    }
   ],
   "source": [
    "# Are there rows that are total dupicates of one another?\n",
    "df = df.drop_duplicates().reset_index(drop=True)\n",
    "df.info()"
   ]
  },
  {
   "cell_type": "code",
   "execution_count": 5,
   "id": "efe47c38",
   "metadata": {},
   "outputs": [
    {
     "data": {
      "text/plain": [
       "5264"
      ]
     },
     "execution_count": 5,
     "metadata": {},
     "output_type": "execute_result"
    }
   ],
   "source": [
    "# Are there rows that are identical in everything except for the url?\n",
    "without_urls = df.drop(columns=['url']).drop_duplicates().reset_index(drop=True)\n",
    "len(without_urls)"
   ]
  },
  {
   "cell_type": "code",
   "execution_count": 6,
   "id": "bac770ac",
   "metadata": {},
   "outputs": [
    {
     "data": {
      "text/plain": [
       "['AET',\n",
       " 'AL-LAD',\n",
       " 'ALD-52',\n",
       " 'ALEPH',\n",
       " 'Aleph-4',\n",
       " 'Allylescaline',\n",
       " 'AMT',\n",
       " 'Arylcyclohexylamines',\n",
       " 'Ayahuasca',\n",
       " 'Banisteriopsis caapi']"
      ]
     },
     "execution_count": 6,
     "metadata": {},
     "output_type": "execute_result"
    }
   ],
   "source": [
    "# Get my list of target drugs I actually want to analyze. \n",
    "drugs_file = open('../data/raw/erowid/psychedelic_drugs.txt', 'r')\n",
    "drugs_as_string = drugs_file.read()\n",
    "psychedelic_drugs = drugs_as_string.split(',')\n",
    "psychedelic_drugs[:10]"
   ]
  },
  {
   "cell_type": "code",
   "execution_count": 7,
   "id": "a4aba6e9",
   "metadata": {},
   "outputs": [
    {
     "name": "stdout",
     "output_type": "stream",
     "text": [
      "<class 'pandas.core.frame.DataFrame'>\n",
      "Int64Index: 2948 entries, 0 to 5263\n",
      "Data columns (total 6 columns):\n",
      " #   Column  Non-Null Count  Dtype \n",
      "---  ------  --------------  ----- \n",
      " 0   drug    2948 non-null   object\n",
      " 1   weight  2948 non-null   object\n",
      " 2   year    2948 non-null   object\n",
      " 3   gender  2948 non-null   object\n",
      " 4   age     2948 non-null   object\n",
      " 5   report  2948 non-null   object\n",
      "dtypes: object(6)\n",
      "memory usage: 161.2+ KB\n"
     ]
    }
   ],
   "source": [
    "# Rename the dataframes I'm working with\n",
    "with_urls = df.copy()\n",
    "\n",
    "# Drop rows from without_urls for non-target drugs\n",
    "df = without_urls[without_urls.drug.isin(psychedelic_drugs)].copy()\n",
    "df.info()"
   ]
  },
  {
   "cell_type": "code",
   "execution_count": 8,
   "id": "4d2ef09a",
   "metadata": {},
   "outputs": [
    {
     "data": {
      "text/plain": [
       "2397"
      ]
     },
     "execution_count": 8,
     "metadata": {},
     "output_type": "execute_result"
    }
   ],
   "source": [
    "# How many reviews are still duplicated?\n",
    "len(set(df.report))"
   ]
  },
  {
   "cell_type": "code",
   "execution_count": null,
   "id": "fee4080d",
   "metadata": {},
   "outputs": [],
   "source": [
    "# Remove some rows where duplicate reviews are associated with "
   ]
  },
  {
   "cell_type": "code",
   "execution_count": null,
   "id": "5943c1e3",
   "metadata": {},
   "outputs": [],
   "source": []
  },
  {
   "cell_type": "markdown",
   "id": "c0ab65b5",
   "metadata": {},
   "source": [
    "<font color='violet'> Next step. "
   ]
  },
  {
   "cell_type": "code",
   "execution_count": 9,
   "id": "00a95fd8",
   "metadata": {},
   "outputs": [],
   "source": [
    "df.to_csv('../data/processed/erowid_cleaned.csv')"
   ]
  },
  {
   "cell_type": "code",
   "execution_count": null,
   "id": "c3929256",
   "metadata": {},
   "outputs": [],
   "source": []
  }
 ],
 "metadata": {
  "kernelspec": {
   "display_name": "Python 3 (ipykernel)",
   "language": "python",
   "name": "python3"
  },
  "language_info": {
   "codemirror_mode": {
    "name": "ipython",
    "version": 3
   },
   "file_extension": ".py",
   "mimetype": "text/x-python",
   "name": "python",
   "nbconvert_exporter": "python",
   "pygments_lexer": "ipython3",
   "version": "3.9.15"
  }
 },
 "nbformat": 4,
 "nbformat_minor": 5
}
