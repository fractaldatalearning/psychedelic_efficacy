{
 "cells": [
  {
   "cell_type": "markdown",
   "id": "024634ee",
   "metadata": {},
   "source": [
    "# <font color='violet'> Cleaning, Parsing, Feature Engineering on Psychedelic Experience Reports\n",
    "    \n",
    "Use the same methods I used for the reviews from studies to clean up the report texts. Address any issues that are unique to the texts from Erowid and require additional cleaning. Then, do feature engineering to create the same columns from data modeled previously: complexity level, similarity with a meta-perfect-review, subjectivity, and polarity. "
   ]
  },
  {
   "cell_type": "code",
   "execution_count": null,
   "id": "8bf0c9a7",
   "metadata": {},
   "outputs": [],
   "source": []
  },
  {
   "cell_type": "markdown",
   "id": "c0ab65b5",
   "metadata": {},
   "source": [
    "<font color='violet'> Next step. "
   ]
  }
 ],
 "metadata": {
  "kernelspec": {
   "display_name": "Python 3 (ipykernel)",
   "language": "python",
   "name": "python3"
  },
  "language_info": {
   "codemirror_mode": {
    "name": "ipython",
    "version": 3
   },
   "file_extension": ".py",
   "mimetype": "text/x-python",
   "name": "python",
   "nbconvert_exporter": "python",
   "pygments_lexer": "ipython3",
   "version": "3.9.15"
  }
 },
 "nbformat": 4,
 "nbformat_minor": 5
}
