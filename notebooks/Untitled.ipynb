{
 "cells": [
  {
   "cell_type": "markdown",
   "id": "43331b1d",
   "metadata": {},
   "source": [
    "# <font color='violet'> Complete Feature Engineering & Assign Ratigns to Psychedelic Experience Reports"
   ]
  },
  {
   "cell_type": "code",
   "execution_count": null,
   "id": "ba9ca3c4",
   "metadata": {},
   "outputs": [],
   "source": [
    "import"
   ]
  },
  {
   "cell_type": "code",
   "execution_count": null,
   "id": "fe0b3bea",
   "metadata": {},
   "outputs": [],
   "source": [
    "# prepare to add local python functions; import modules from src directory\n",
    "import sys\n",
    "src = '../src'\n",
    "sys.path.append(src)\n",
    "\n",
    "# import local functions\n",
    "from nlp.feature_engineer import analyze_sentiment"
   ]
  },
  {
   "cell_type": "code",
   "execution_count": null,
   "id": "63d5319e",
   "metadata": {},
   "outputs": [],
   "source": [
    "df = pd.read_csv('../data/processed/erowid_cleaned.csv')\n",
    "df.info()"
   ]
  },
  {
   "cell_type": "markdown",
   "id": "3a1662a1",
   "metadata": {},
   "source": [
    "<font color='violet'> Next Thing. "
   ]
  },
  {
   "cell_type": "code",
   "execution_count": null,
   "id": "04a73432",
   "metadata": {},
   "outputs": [],
   "source": [
    "df.to_csv('../data/processed/name_this_data.csv')"
   ]
  }
 ],
 "metadata": {
  "kernelspec": {
   "display_name": "Python 3 (ipykernel)",
   "language": "python",
   "name": "python3"
  },
  "language_info": {
   "codemirror_mode": {
    "name": "ipython",
    "version": 3
   },
   "file_extension": ".py",
   "mimetype": "text/x-python",
   "name": "python",
   "nbconvert_exporter": "python",
   "pygments_lexer": "ipython3",
   "version": "3.9.15"
  }
 },
 "nbformat": 4,
 "nbformat_minor": 5
}
