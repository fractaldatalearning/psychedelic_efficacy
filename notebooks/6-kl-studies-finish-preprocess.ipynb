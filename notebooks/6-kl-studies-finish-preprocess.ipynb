{
 "cells": [
  {
   "cell_type": "markdown",
   "id": "af6d0f7f",
   "metadata": {},
   "source": [
    "# <font color='violet'> Feature Engineering for Review Language \n",
    "\n",
    "On data that I started pre-processing here: https://github.com/fractaldatalearning/psychedelic_efficacy/blob/main/notebooks/5-kl-studies-lang-eda-preprocess.ipynb\n",
    "    \n",
    "Move into further options for preprocessing:\n",
    "- Consider using sklearn.feature_extraction.text CountVectorizer to create a column for each ngram. Or, instead of counting the number of every single ngram, extract the count of key words/ngrams in each review. Can use NLTK to filter out rare ngrams or do pmi (comparing ngrams) \n",
    "- Assign words (or even ngrams?) in reviews tfidf scores using TfidfVectorizer in order to add weight to more important words for predictive purposes. (Use case: large corpus, want to simplify them into fewer words for application)\n",
    "- Generate word embeddings using spacy's pretrained model: use a larger spacy model if using word embedding. Generate a word vector for each word. Check out \"Beyond n-grams: word embeddings\" lesson in Data Camp course Feature Engineering for NLP in Python. Can also use different methods for creating word emboeddings, i.e. WordVec, GloVe. (Use case: working with word nuances, relationships, semantics)\n",
    "- Lots of helpful tips here: https://www.kaggle.com/code/abhishek/approaching-almost-any-nlp-problem-on-kaggle/notebook\n",
    "\n",
    "    \n",
    "Other resources to check out:\n",
    "- re: using spacy's visualizer: https://medium.com/acing-ai/visualizations-in-natural-language-processing-2ca60dd34ce\n",
    "- Come back to this resource used in the previous notebook; it also contains info re: visualizing word embeddings: Still especially interested in digging deeper with visualizing word embeddings: https://medium.com/plotly/nlp-visualisations-for-clear-immediate-insights-into-text-data-and-outputs-9ebfab168d5b\n",
    "    "
   ]
  },
  {
   "cell_type": "code",
   "execution_count": 1,
   "id": "c010b6aa",
   "metadata": {},
   "outputs": [],
   "source": []
  },
  {
   "cell_type": "code",
   "execution_count": null,
   "id": "0da53e7a",
   "metadata": {},
   "outputs": [],
   "source": []
  }
 ],
 "metadata": {
  "kernelspec": {
   "display_name": "Python 3 (ipykernel)",
   "language": "python",
   "name": "python3"
  },
  "language_info": {
   "codemirror_mode": {
    "name": "ipython",
    "version": 3
   },
   "file_extension": ".py",
   "mimetype": "text/x-python",
   "name": "python",
   "nbconvert_exporter": "python",
   "pygments_lexer": "ipython3",
   "version": "3.9.15"
  }
 },
 "nbformat": 4,
 "nbformat_minor": 5
}
