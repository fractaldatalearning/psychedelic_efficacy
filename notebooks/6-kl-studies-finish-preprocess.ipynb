{
 "cells": [
  {
   "cell_type": "markdown",
   "id": "af6d0f7f",
   "metadata": {},
   "source": [
    "# <font color='violet'> Feature Engineering for Review Language \n",
    "\n",
    "On data that I started pre-processing here: https://github.com/fractaldatalearning/psychedelic_efficacy/blob/main/notebooks/5-kl-studies-lang-eda-preprocess.ipynb\n",
    "    \n",
    "Try multiple methods for engineering features out of the text of the reviews. "
   ]
  },
  {
   "cell_type": "code",
   "execution_count": 59,
   "id": "9fe4db2e",
   "metadata": {},
   "outputs": [
    {
     "name": "stdout",
     "output_type": "stream",
     "text": [
      "Collecting en-core-web-lg==3.4.1\n",
      "  Downloading https://github.com/explosion/spacy-models/releases/download/en_core_web_lg-3.4.1/en_core_web_lg-3.4.1-py3-none-any.whl (587.7 MB)\n",
      "\u001b[2K     \u001b[90m━━━━━━━━━━━━━━━━━━━━━━━━━━━━━━━━━━━━━━━\u001b[0m \u001b[32m587.7/587.7 MB\u001b[0m \u001b[31m1.3 MB/s\u001b[0m eta \u001b[36m0:00:00\u001b[0m00:01\u001b[0m00:02\u001b[0m\n",
      "\u001b[?25hRequirement already satisfied: spacy<3.5.0,>=3.4.0 in /Users/admin/opt/anaconda3/envs/psychedelic_efficacy/lib/python3.9/site-packages (from en-core-web-lg==3.4.1) (3.4.4)\n",
      "Requirement already satisfied: spacy-loggers<2.0.0,>=1.0.0 in /Users/admin/opt/anaconda3/envs/psychedelic_efficacy/lib/python3.9/site-packages (from spacy<3.5.0,>=3.4.0->en-core-web-lg==3.4.1) (1.0.4)\n",
      "Requirement already satisfied: langcodes<4.0.0,>=3.2.0 in /Users/admin/opt/anaconda3/envs/psychedelic_efficacy/lib/python3.9/site-packages (from spacy<3.5.0,>=3.4.0->en-core-web-lg==3.4.1) (3.3.0)\n",
      "Requirement already satisfied: thinc<8.2.0,>=8.1.0 in /Users/admin/opt/anaconda3/envs/psychedelic_efficacy/lib/python3.9/site-packages (from spacy<3.5.0,>=3.4.0->en-core-web-lg==3.4.1) (8.1.6)\n",
      "Requirement already satisfied: cymem<2.1.0,>=2.0.2 in /Users/admin/opt/anaconda3/envs/psychedelic_efficacy/lib/python3.9/site-packages (from spacy<3.5.0,>=3.4.0->en-core-web-lg==3.4.1) (2.0.7)\n",
      "Requirement already satisfied: setuptools in /Users/admin/opt/anaconda3/envs/psychedelic_efficacy/lib/python3.9/site-packages (from spacy<3.5.0,>=3.4.0->en-core-web-lg==3.4.1) (64.0.2)\n",
      "Requirement already satisfied: numpy>=1.15.0 in /Users/admin/opt/anaconda3/envs/psychedelic_efficacy/lib/python3.9/site-packages (from spacy<3.5.0,>=3.4.0->en-core-web-lg==3.4.1) (1.24.1)\n",
      "Requirement already satisfied: typer<0.8.0,>=0.3.0 in /Users/admin/opt/anaconda3/envs/psychedelic_efficacy/lib/python3.9/site-packages (from spacy<3.5.0,>=3.4.0->en-core-web-lg==3.4.1) (0.7.0)\n",
      "Requirement already satisfied: requests<3.0.0,>=2.13.0 in /Users/admin/opt/anaconda3/envs/psychedelic_efficacy/lib/python3.9/site-packages (from spacy<3.5.0,>=3.4.0->en-core-web-lg==3.4.1) (2.28.1)\n",
      "Requirement already satisfied: srsly<3.0.0,>=2.4.3 in /Users/admin/opt/anaconda3/envs/psychedelic_efficacy/lib/python3.9/site-packages (from spacy<3.5.0,>=3.4.0->en-core-web-lg==3.4.1) (2.4.5)\n",
      "Requirement already satisfied: pathy>=0.3.5 in /Users/admin/opt/anaconda3/envs/psychedelic_efficacy/lib/python3.9/site-packages (from spacy<3.5.0,>=3.4.0->en-core-web-lg==3.4.1) (0.10.1)\n",
      "Requirement already satisfied: murmurhash<1.1.0,>=0.28.0 in /Users/admin/opt/anaconda3/envs/psychedelic_efficacy/lib/python3.9/site-packages (from spacy<3.5.0,>=3.4.0->en-core-web-lg==3.4.1) (1.0.9)\n",
      "Requirement already satisfied: packaging>=20.0 in /Users/admin/opt/anaconda3/envs/psychedelic_efficacy/lib/python3.9/site-packages (from spacy<3.5.0,>=3.4.0->en-core-web-lg==3.4.1) (22.0)\n",
      "Requirement already satisfied: wasabi<1.1.0,>=0.9.1 in /Users/admin/opt/anaconda3/envs/psychedelic_efficacy/lib/python3.9/site-packages (from spacy<3.5.0,>=3.4.0->en-core-web-lg==3.4.1) (0.10.1)\n",
      "Requirement already satisfied: smart-open<7.0.0,>=5.2.1 in /Users/admin/opt/anaconda3/envs/psychedelic_efficacy/lib/python3.9/site-packages (from spacy<3.5.0,>=3.4.0->en-core-web-lg==3.4.1) (6.3.0)\n",
      "Requirement already satisfied: jinja2 in /Users/admin/opt/anaconda3/envs/psychedelic_efficacy/lib/python3.9/site-packages (from spacy<3.5.0,>=3.4.0->en-core-web-lg==3.4.1) (3.1.2)\n",
      "Requirement already satisfied: catalogue<2.1.0,>=2.0.6 in /Users/admin/opt/anaconda3/envs/psychedelic_efficacy/lib/python3.9/site-packages (from spacy<3.5.0,>=3.4.0->en-core-web-lg==3.4.1) (2.0.8)\n",
      "Requirement already satisfied: preshed<3.1.0,>=3.0.2 in /Users/admin/opt/anaconda3/envs/psychedelic_efficacy/lib/python3.9/site-packages (from spacy<3.5.0,>=3.4.0->en-core-web-lg==3.4.1) (3.0.8)\n",
      "Requirement already satisfied: tqdm<5.0.0,>=4.38.0 in /Users/admin/opt/anaconda3/envs/psychedelic_efficacy/lib/python3.9/site-packages (from spacy<3.5.0,>=3.4.0->en-core-web-lg==3.4.1) (4.64.1)\n",
      "Requirement already satisfied: pydantic!=1.8,!=1.8.1,<1.11.0,>=1.7.4 in /Users/admin/opt/anaconda3/envs/psychedelic_efficacy/lib/python3.9/site-packages (from spacy<3.5.0,>=3.4.0->en-core-web-lg==3.4.1) (1.10.4)\n",
      "Requirement already satisfied: spacy-legacy<3.1.0,>=3.0.10 in /Users/admin/opt/anaconda3/envs/psychedelic_efficacy/lib/python3.9/site-packages (from spacy<3.5.0,>=3.4.0->en-core-web-lg==3.4.1) (3.0.11)\n",
      "Requirement already satisfied: typing-extensions>=4.2.0 in /Users/admin/opt/anaconda3/envs/psychedelic_efficacy/lib/python3.9/site-packages (from pydantic!=1.8,!=1.8.1,<1.11.0,>=1.7.4->spacy<3.5.0,>=3.4.0->en-core-web-lg==3.4.1) (4.4.0)\n",
      "Requirement already satisfied: certifi>=2017.4.17 in /Users/admin/opt/anaconda3/envs/psychedelic_efficacy/lib/python3.9/site-packages (from requests<3.0.0,>=2.13.0->spacy<3.5.0,>=3.4.0->en-core-web-lg==3.4.1) (2022.12.7)\n",
      "Requirement already satisfied: urllib3<1.27,>=1.21.1 in /Users/admin/opt/anaconda3/envs/psychedelic_efficacy/lib/python3.9/site-packages (from requests<3.0.0,>=2.13.0->spacy<3.5.0,>=3.4.0->en-core-web-lg==3.4.1) (1.26.13)\n",
      "Requirement already satisfied: charset-normalizer<3,>=2 in /Users/admin/opt/anaconda3/envs/psychedelic_efficacy/lib/python3.9/site-packages (from requests<3.0.0,>=2.13.0->spacy<3.5.0,>=3.4.0->en-core-web-lg==3.4.1) (2.1.1)\n",
      "Requirement already satisfied: idna<4,>=2.5 in /Users/admin/opt/anaconda3/envs/psychedelic_efficacy/lib/python3.9/site-packages (from requests<3.0.0,>=2.13.0->spacy<3.5.0,>=3.4.0->en-core-web-lg==3.4.1) (3.4)\n",
      "Requirement already satisfied: confection<1.0.0,>=0.0.1 in /Users/admin/opt/anaconda3/envs/psychedelic_efficacy/lib/python3.9/site-packages (from thinc<8.2.0,>=8.1.0->spacy<3.5.0,>=3.4.0->en-core-web-lg==3.4.1) (0.0.3)\n",
      "Requirement already satisfied: blis<0.8.0,>=0.7.8 in /Users/admin/opt/anaconda3/envs/psychedelic_efficacy/lib/python3.9/site-packages (from thinc<8.2.0,>=8.1.0->spacy<3.5.0,>=3.4.0->en-core-web-lg==3.4.1) (0.7.9)\n",
      "Requirement already satisfied: click<9.0.0,>=7.1.1 in /Users/admin/opt/anaconda3/envs/psychedelic_efficacy/lib/python3.9/site-packages (from typer<0.8.0,>=0.3.0->spacy<3.5.0,>=3.4.0->en-core-web-lg==3.4.1) (8.1.3)\n",
      "Requirement already satisfied: MarkupSafe>=2.0 in /Users/admin/opt/anaconda3/envs/psychedelic_efficacy/lib/python3.9/site-packages (from jinja2->spacy<3.5.0,>=3.4.0->en-core-web-lg==3.4.1) (2.1.1)\n",
      "Installing collected packages: en-core-web-lg\n",
      "Successfully installed en-core-web-lg-3.4.1\n",
      "\u001b[38;5;2m✔ Download and installation successful\u001b[0m\n",
      "You can now load the package via spacy.load('en_core_web_lg')\n"
     ]
    }
   ],
   "source": [
    "# ! python -m spacy download en_core_web_lg"
   ]
  },
  {
   "cell_type": "code",
   "execution_count": 91,
   "id": "e0e0685e",
   "metadata": {},
   "outputs": [],
   "source": [
    "import pandas as pd\n",
    "from tqdm import tqdm\n",
    "from sklearn.model_selection import train_test_split\n",
    "from sklearn.feature_extraction.text import TfidfVectorizer, CountVectorizer\n",
    "from sklearn.naive_bayes import MultinomialNB\n",
    "from sklearn import metrics\n",
    "import spacy\n",
    "import numpy as np\n",
    "import seaborn as sns\n",
    "import matplotlib.pyplot as plt"
   ]
  },
  {
   "cell_type": "code",
   "execution_count": 2,
   "id": "c010b6aa",
   "metadata": {},
   "outputs": [
    {
     "name": "stdout",
     "output_type": "stream",
     "text": [
      "<class 'pandas.core.frame.DataFrame'>\n",
      "RangeIndex: 31559 entries, 0 to 31558\n",
      "Data columns (total 13 columns):\n",
      " #   Column             Non-Null Count  Dtype  \n",
      "---  ------             --------------  -----  \n",
      " 0   rating             31559 non-null  float64\n",
      " 1   condition          31559 non-null  object \n",
      " 2   review             31559 non-null  object \n",
      " 3   date               31451 non-null  object \n",
      " 4   drug0              31559 non-null  object \n",
      " 5   drug1              18992 non-null  object \n",
      " 6   review_len         31559 non-null  int64  \n",
      " 7   complexity         31559 non-null  float64\n",
      " 8   spell_corr         31559 non-null  object \n",
      " 9   no_stops_lemm      31558 non-null  object \n",
      " 10  no_stop_cap_lemm   31558 non-null  object \n",
      " 11  subjectivity       31559 non-null  float64\n",
      " 12  original_polarity  31559 non-null  float64\n",
      "dtypes: float64(4), int64(1), object(8)\n",
      "memory usage: 3.1+ MB\n"
     ]
    }
   ],
   "source": [
    "df = pd.read_csv('../data/interim/studies_w_sentiment.csv').drop(columns=['Unnamed: 0'])\n",
    "df.info()"
   ]
  },
  {
   "cell_type": "code",
   "execution_count": 3,
   "id": "8498cf9e",
   "metadata": {},
   "outputs": [
    {
     "name": "stdout",
     "output_type": "stream",
     "text": [
      "<class 'pandas.core.frame.DataFrame'>\n",
      "RangeIndex: 31559 entries, 0 to 31558\n",
      "Data columns (total 10 columns):\n",
      " #   Column             Non-Null Count  Dtype  \n",
      "---  ------             --------------  -----  \n",
      " 0   rating             31559 non-null  float64\n",
      " 1   condition          31559 non-null  object \n",
      " 2   date               31451 non-null  object \n",
      " 3   drug0              31559 non-null  object \n",
      " 4   drug1              18992 non-null  object \n",
      " 5   review_len         31559 non-null  int64  \n",
      " 6   complexity         31559 non-null  float64\n",
      " 7   no_stop_cap_lemm   31558 non-null  object \n",
      " 8   subjectivity       31559 non-null  float64\n",
      " 9   original_polarity  31559 non-null  float64\n",
      "dtypes: float64(4), int64(1), object(5)\n",
      "memory usage: 2.4+ MB\n"
     ]
    }
   ],
   "source": [
    "# I'll just be using the cleanest text\n",
    "df = df.drop(columns=['review', 'spell_corr', 'no_stops_lemm'])\n",
    "df.info()"
   ]
  },
  {
   "cell_type": "markdown",
   "id": "367c7968",
   "metadata": {},
   "source": [
    "I'll start by engineering features with tfidf. Based on what I found during eda, ngrams through n=4 provided meaningful-seeming phrases, but apart from !!!!, the most commonly-occuring quadgram \"post traumatic stress disorder\" only appeared in less than 1% of reviews. While ptsd could very likely appear later in scrubbed psychedelic experience reports, other quadgrams are unlikely to improve model performance enough to make it worth the over-fitting that comes with including them. So, for tfidf, focus on ngrams 1-3. \n",
    "\n",
    "Speaking of exclamation points, I'd wanted to get rid of exccessive exclamations and reduce each instance to just 3 !!!. Do that real quick, and clean up and null values. I'd kept some null values in place earlier on until I more thoroughly understood the data/ was ready to create a train-test split, and that time has come. With everything clean, things will go smoother with modeling to test out various feature engineering techniques. "
   ]
  },
  {
   "cell_type": "code",
   "execution_count": 4,
   "id": "031c1d47",
   "metadata": {},
   "outputs": [
    {
     "data": {
      "text/html": [
       "<div>\n",
       "<style scoped>\n",
       "    .dataframe tbody tr th:only-of-type {\n",
       "        vertical-align: middle;\n",
       "    }\n",
       "\n",
       "    .dataframe tbody tr th {\n",
       "        vertical-align: top;\n",
       "    }\n",
       "\n",
       "    .dataframe thead th {\n",
       "        text-align: right;\n",
       "    }\n",
       "</style>\n",
       "<table border=\"1\" class=\"dataframe\">\n",
       "  <thead>\n",
       "    <tr style=\"text-align: right;\">\n",
       "      <th></th>\n",
       "      <th>rating</th>\n",
       "      <th>condition</th>\n",
       "      <th>date</th>\n",
       "      <th>drug0</th>\n",
       "      <th>drug1</th>\n",
       "      <th>review_len</th>\n",
       "      <th>complexity</th>\n",
       "      <th>no_stop_cap_lemm</th>\n",
       "      <th>subjectivity</th>\n",
       "      <th>original_polarity</th>\n",
       "    </tr>\n",
       "  </thead>\n",
       "  <tbody>\n",
       "    <tr>\n",
       "      <th>29472</th>\n",
       "      <td>8.0</td>\n",
       "      <td>anxiety</td>\n",
       "      <td>2016-10-19</td>\n",
       "      <td>clonazepam</td>\n",
       "      <td>NaN</td>\n",
       "      <td>7</td>\n",
       "      <td>-3.5</td>\n",
       "      <td>NaN</td>\n",
       "      <td>0.0</td>\n",
       "      <td>0.0</td>\n",
       "    </tr>\n",
       "  </tbody>\n",
       "</table>\n",
       "</div>"
      ],
      "text/plain": [
       "       rating condition        date       drug0 drug1  review_len  complexity  \\\n",
       "29472     8.0   anxiety  2016-10-19  clonazepam   NaN           7        -3.5   \n",
       "\n",
       "      no_stop_cap_lemm  subjectivity  original_polarity  \n",
       "29472              NaN           0.0                0.0  "
      ]
     },
     "execution_count": 4,
     "metadata": {},
     "output_type": "execute_result"
    }
   ],
   "source": [
    "# It appears as though stopword deletion left one very short review consisting of nothing\n",
    "# Drop that row, then reset the index so it's in order, in order to replace !!!!. \n",
    "df[df.no_stop_cap_lemm.isnull()]"
   ]
  },
  {
   "cell_type": "code",
   "execution_count": 5,
   "id": "70642d57",
   "metadata": {},
   "outputs": [
    {
     "name": "stdout",
     "output_type": "stream",
     "text": [
      "<class 'pandas.core.frame.DataFrame'>\n",
      "RangeIndex: 31558 entries, 0 to 31557\n",
      "Data columns (total 10 columns):\n",
      " #   Column             Non-Null Count  Dtype  \n",
      "---  ------             --------------  -----  \n",
      " 0   rating             31558 non-null  float64\n",
      " 1   condition          31558 non-null  object \n",
      " 2   date               31450 non-null  object \n",
      " 3   drug0              31558 non-null  object \n",
      " 4   drug1              18992 non-null  object \n",
      " 5   review_len         31558 non-null  int64  \n",
      " 6   complexity         31558 non-null  float64\n",
      " 7   no_stop_cap_lemm   31558 non-null  object \n",
      " 8   subjectivity       31558 non-null  float64\n",
      " 9   original_polarity  31558 non-null  float64\n",
      "dtypes: float64(4), int64(1), object(5)\n",
      "memory usage: 2.4+ MB\n"
     ]
    }
   ],
   "source": [
    "df = df.drop(labels=29472).reset_index(drop=True)\n",
    "df.info()"
   ]
  },
  {
   "cell_type": "code",
   "execution_count": 6,
   "id": "017e9da6",
   "metadata": {},
   "outputs": [
    {
     "data": {
      "text/html": [
       "<div>\n",
       "<style scoped>\n",
       "    .dataframe tbody tr th:only-of-type {\n",
       "        vertical-align: middle;\n",
       "    }\n",
       "\n",
       "    .dataframe tbody tr th {\n",
       "        vertical-align: top;\n",
       "    }\n",
       "\n",
       "    .dataframe thead th {\n",
       "        text-align: right;\n",
       "    }\n",
       "</style>\n",
       "<table border=\"1\" class=\"dataframe\">\n",
       "  <thead>\n",
       "    <tr style=\"text-align: right;\">\n",
       "      <th></th>\n",
       "      <th>rating</th>\n",
       "      <th>condition</th>\n",
       "      <th>date</th>\n",
       "      <th>drug0</th>\n",
       "      <th>drug1</th>\n",
       "      <th>review_len</th>\n",
       "      <th>complexity</th>\n",
       "      <th>no_stop_cap_lemm</th>\n",
       "      <th>subjectivity</th>\n",
       "      <th>original_polarity</th>\n",
       "    </tr>\n",
       "  </thead>\n",
       "  <tbody>\n",
       "    <tr>\n",
       "      <th>9255</th>\n",
       "      <td>7.0</td>\n",
       "      <td>addiction</td>\n",
       "      <td>2016-08-28</td>\n",
       "      <td>varenicline</td>\n",
       "      <td>chantix</td>\n",
       "      <td>763</td>\n",
       "      <td>4.1</td>\n",
       "      <td>want let everyone know react chantexday 7 8 so...</td>\n",
       "      <td>0.736111</td>\n",
       "      <td>-0.364583</td>\n",
       "    </tr>\n",
       "  </tbody>\n",
       "</table>\n",
       "</div>"
      ],
      "text/plain": [
       "      rating  condition        date        drug0    drug1  review_len  \\\n",
       "9255     7.0  addiction  2016-08-28  varenicline  chantix         763   \n",
       "\n",
       "      complexity                                   no_stop_cap_lemm  \\\n",
       "9255         4.1  want let everyone know react chantexday 7 8 so...   \n",
       "\n",
       "      subjectivity  original_polarity  \n",
       "9255      0.736111          -0.364583  "
      ]
     },
     "execution_count": 6,
     "metadata": {},
     "output_type": "execute_result"
    }
   ],
   "source": [
    "# That worked. Find some exclamation points that need replacing.\n",
    "df[df.no_stop_cap_lemm.str.find('!!!!!!')!=-1]"
   ]
  },
  {
   "cell_type": "code",
   "execution_count": 7,
   "id": "3c2d2af2",
   "metadata": {},
   "outputs": [
    {
     "data": {
      "text/plain": [
       "'want let everyone know react chantexday 7 8 soon tired desire mad angry confused know ! get sleep tell need bed set bed ! think computer desk study ! 4 pm asleep 10 time wake all want sleep tired doctoream color tired thankfully hit weekend tomorrow work ! hopefully able ! worry have cigarette anymore really fierceness quit get smoke!!!!!!quit numb'"
      ]
     },
     "execution_count": 7,
     "metadata": {},
     "output_type": "execute_result"
    }
   ],
   "source": [
    "df.no_stop_cap_lemm[9255]"
   ]
  },
  {
   "cell_type": "code",
   "execution_count": 8,
   "id": "c6b68d99",
   "metadata": {},
   "outputs": [
    {
     "name": "stderr",
     "output_type": "stream",
     "text": [
      "100%|██████████| 31558/31558 [00:20<00:00, 1555.86it/s]\n"
     ]
    },
    {
     "data": {
      "text/plain": [
       "'want let everyone know react chantexday 7 8 soon tired desire mad angry confused know ! get sleep tell need bed set bed ! think computer desk study ! 4 pm asleep 10 time wake all want sleep tired doctoream color tired thankfully hit weekend tomorrow work ! hopefully able ! worry have cigarette anymore really fierceness quit get smoke!!!quit numb'"
      ]
     },
     "execution_count": 8,
     "metadata": {},
     "output_type": "execute_result"
    }
   ],
   "source": [
    "exclamation_replacement = {'!!!!':'!!!', '!!!!!':'!!!', '!!!!!!':'!!!',\n",
    "                            '!!!!!!!':'!!!', '!!!!!!!!':'!!!'}\n",
    "\n",
    "for row in tqdm(range(len(df))):\n",
    "    str_to_reduce_exclam = df.loc[row,'no_stop_cap_lemm']\n",
    "    for key, value in exclamation_replacement.items():\n",
    "        str_to_reduce_exclam = str_to_reduce_exclam.replace(key,value)\n",
    "    df.loc[row,'no_stop_cap_lemm'] = str_to_reduce_exclam\n",
    "        \n",
    "df.no_stop_cap_lemm[9255]"
   ]
  },
  {
   "cell_type": "markdown",
   "id": "9e7c0546",
   "metadata": {},
   "source": [
    "That worked, move on. \n",
    "\n",
    "<font color='violet'> Deal with null values. "
   ]
  },
  {
   "cell_type": "code",
   "execution_count": 9,
   "id": "e2041524",
   "metadata": {},
   "outputs": [
    {
     "data": {
      "text/html": [
       "<div>\n",
       "<style scoped>\n",
       "    .dataframe tbody tr th:only-of-type {\n",
       "        vertical-align: middle;\n",
       "    }\n",
       "\n",
       "    .dataframe tbody tr th {\n",
       "        vertical-align: top;\n",
       "    }\n",
       "\n",
       "    .dataframe thead th {\n",
       "        text-align: right;\n",
       "    }\n",
       "</style>\n",
       "<table border=\"1\" class=\"dataframe\">\n",
       "  <thead>\n",
       "    <tr style=\"text-align: right;\">\n",
       "      <th></th>\n",
       "      <th>rating</th>\n",
       "      <th>condition</th>\n",
       "      <th>date</th>\n",
       "      <th>drug0</th>\n",
       "      <th>drug1</th>\n",
       "      <th>review_len</th>\n",
       "      <th>complexity</th>\n",
       "      <th>no_stop_cap_lemm</th>\n",
       "      <th>subjectivity</th>\n",
       "      <th>original_polarity</th>\n",
       "    </tr>\n",
       "  </thead>\n",
       "  <tbody>\n",
       "  </tbody>\n",
       "</table>\n",
       "</div>"
      ],
      "text/plain": [
       "Empty DataFrame\n",
       "Columns: [rating, condition, date, drug0, drug1, review_len, complexity, no_stop_cap_lemm, subjectivity, original_polarity]\n",
       "Index: []"
      ]
     },
     "execution_count": 9,
     "metadata": {},
     "output_type": "execute_result"
    }
   ],
   "source": [
    "# It appears as though stopword deletion left one very short review consisting of nothing\n",
    "# Drop that row, then reset the index so it's in order. \n",
    "df[df.no_stop_cap_lemm.isnull()]"
   ]
  },
  {
   "cell_type": "code",
   "execution_count": 10,
   "id": "2dd80522",
   "metadata": {},
   "outputs": [
    {
     "name": "stdout",
     "output_type": "stream",
     "text": [
      "<class 'pandas.core.frame.DataFrame'>\n",
      "RangeIndex: 31557 entries, 0 to 31556\n",
      "Data columns (total 10 columns):\n",
      " #   Column             Non-Null Count  Dtype  \n",
      "---  ------             --------------  -----  \n",
      " 0   rating             31557 non-null  float64\n",
      " 1   condition          31557 non-null  object \n",
      " 2   date               31449 non-null  object \n",
      " 3   drug0              31557 non-null  object \n",
      " 4   drug1              18991 non-null  object \n",
      " 5   review_len         31557 non-null  int64  \n",
      " 6   complexity         31557 non-null  float64\n",
      " 7   no_stop_cap_lemm   31557 non-null  object \n",
      " 8   subjectivity       31557 non-null  float64\n",
      " 9   original_polarity  31557 non-null  float64\n",
      "dtypes: float64(4), int64(1), object(5)\n",
      "memory usage: 2.4+ MB\n"
     ]
    }
   ],
   "source": [
    "df = df.drop(labels=29472).reset_index(drop=True)\n",
    "df.info()"
   ]
  },
  {
   "cell_type": "code",
   "execution_count": 11,
   "id": "3e8c5108",
   "metadata": {},
   "outputs": [
    {
     "data": {
      "text/plain": [
       "rating               False\n",
       "condition            False\n",
       "date                  True\n",
       "drug0                False\n",
       "drug1                False\n",
       "review_len           False\n",
       "complexity           False\n",
       "no_stop_cap_lemm     False\n",
       "subjectivity         False\n",
       "original_polarity    False\n",
       "dtype: bool"
      ]
     },
     "execution_count": 11,
     "metadata": {},
     "output_type": "execute_result"
    }
   ],
   "source": [
    "# There are rows without values for drug1; just replace nan with the string \"na\"\n",
    "df['drug1'] = df.drug1.fillna('na')\n",
    "df.isnull().any()"
   ]
  },
  {
   "cell_type": "markdown",
   "id": "6ec8ab05",
   "metadata": {},
   "source": [
    "There are missing dates. I don't want to introduce leakage by imputing missing values with the most common date overall, but I can start with the train_test_split and just impute all missing dates with the most common date from the training set. "
   ]
  },
  {
   "cell_type": "code",
   "execution_count": 12,
   "id": "e4118f77",
   "metadata": {},
   "outputs": [
    {
     "name": "stdout",
     "output_type": "stream",
     "text": [
      "<class 'pandas.core.frame.DataFrame'>\n",
      "RangeIndex: 31557 entries, 0 to 31556\n",
      "Data columns (total 10 columns):\n",
      " #   Column             Non-Null Count  Dtype         \n",
      "---  ------             --------------  -----         \n",
      " 0   rating             31557 non-null  float64       \n",
      " 1   condition          31557 non-null  object        \n",
      " 2   date               31449 non-null  datetime64[ns]\n",
      " 3   drug0              31557 non-null  object        \n",
      " 4   drug1              31557 non-null  object        \n",
      " 5   review_len         31557 non-null  int64         \n",
      " 6   complexity         31557 non-null  float64       \n",
      " 7   no_stop_cap_lemm   31557 non-null  object        \n",
      " 8   subjectivity       31557 non-null  float64       \n",
      " 9   original_polarity  31557 non-null  float64       \n",
      "dtypes: datetime64[ns](1), float64(4), int64(1), object(4)\n",
      "memory usage: 2.4+ MB\n"
     ]
    }
   ],
   "source": [
    "# First, turn the date column into a date type\n",
    "df['date'] = pd.to_datetime(df.date)\n",
    "df.info()"
   ]
  },
  {
   "cell_type": "code",
   "execution_count": 13,
   "id": "cba846eb",
   "metadata": {},
   "outputs": [
    {
     "name": "stdout",
     "output_type": "stream",
     "text": [
      "<class 'pandas.core.frame.DataFrame'>\n",
      "Int64Index: 22089 entries, 3172 to 30071\n",
      "Data columns (total 9 columns):\n",
      " #   Column             Non-Null Count  Dtype         \n",
      "---  ------             --------------  -----         \n",
      " 0   condition          22089 non-null  object        \n",
      " 1   date               22010 non-null  datetime64[ns]\n",
      " 2   drug0              22089 non-null  object        \n",
      " 3   drug1              22089 non-null  object        \n",
      " 4   review_len         22089 non-null  int64         \n",
      " 5   complexity         22089 non-null  float64       \n",
      " 6   no_stop_cap_lemm   22089 non-null  object        \n",
      " 7   subjectivity       22089 non-null  float64       \n",
      " 8   original_polarity  22089 non-null  float64       \n",
      "dtypes: datetime64[ns](1), float64(3), int64(1), object(4)\n",
      "memory usage: 1.7+ MB\n"
     ]
    }
   ],
   "source": [
    "X = df.drop(columns='rating')\n",
    "y = df.rating\n",
    "X_train, X_test, y_train, y_test = train_test_split(X, y, test_size=0.3, random_state=17, \n",
    "                                                    stratify=y)\n",
    "X_train.info()"
   ]
  },
  {
   "cell_type": "code",
   "execution_count": 14,
   "id": "5f57cccd",
   "metadata": {},
   "outputs": [
    {
     "data": {
      "text/plain": [
       "2016-02-21    28\n",
       "2016-01-14    24\n",
       "2017-01-25    23\n",
       "2017-01-18    22\n",
       "2015-10-12    22\n",
       "              ..\n",
       "2010-01-14     1\n",
       "2010-02-16     1\n",
       "2008-11-12     1\n",
       "2009-04-15     1\n",
       "2009-03-14     1\n",
       "Name: date, Length: 3503, dtype: int64"
      ]
     },
     "execution_count": 14,
     "metadata": {},
     "output_type": "execute_result"
    }
   ],
   "source": [
    "X_train.date.value_counts(ascending=False)"
   ]
  },
  {
   "cell_type": "code",
   "execution_count": 15,
   "id": "59589098",
   "metadata": {},
   "outputs": [
    {
     "data": {
      "text/plain": [
       "condition            False\n",
       "date                 False\n",
       "drug0                False\n",
       "drug1                False\n",
       "review_len           False\n",
       "complexity           False\n",
       "no_stop_cap_lemm     False\n",
       "subjectivity         False\n",
       "original_polarity    False\n",
       "dtype: bool"
      ]
     },
     "execution_count": 15,
     "metadata": {},
     "output_type": "execute_result"
    }
   ],
   "source": [
    "X_train['date'] = X_train.date.fillna('2016-02-21')\n",
    "X_test['date'] = X_test.date.fillna('2016-02-21')\n",
    "X_train.isnull().any()"
   ]
  },
  {
   "cell_type": "code",
   "execution_count": 16,
   "id": "d19a57bf",
   "metadata": {},
   "outputs": [
    {
     "data": {
      "text/plain": [
       "condition            False\n",
       "date                 False\n",
       "drug0                False\n",
       "drug1                False\n",
       "review_len           False\n",
       "complexity           False\n",
       "no_stop_cap_lemm     False\n",
       "subjectivity         False\n",
       "original_polarity    False\n",
       "dtype: bool"
      ]
     },
     "execution_count": 16,
     "metadata": {},
     "output_type": "execute_result"
    }
   ],
   "source": [
    "X_test.isnull().any()"
   ]
  },
  {
   "cell_type": "code",
   "execution_count": 17,
   "id": "7320792c",
   "metadata": {},
   "outputs": [
    {
     "name": "stdout",
     "output_type": "stream",
     "text": [
      "<class 'pandas.core.frame.DataFrame'>\n",
      "Int64Index: 22089 entries, 3172 to 30071\n",
      "Data columns (total 9 columns):\n",
      " #   Column             Non-Null Count  Dtype         \n",
      "---  ------             --------------  -----         \n",
      " 0   condition          22089 non-null  object        \n",
      " 1   date               22089 non-null  datetime64[ns]\n",
      " 2   drug0              22089 non-null  object        \n",
      " 3   drug1              22089 non-null  object        \n",
      " 4   review_len         22089 non-null  int64         \n",
      " 5   complexity         22089 non-null  float64       \n",
      " 6   no_stop_cap_lemm   22089 non-null  object        \n",
      " 7   subjectivity       22089 non-null  float64       \n",
      " 8   original_polarity  22089 non-null  float64       \n",
      "dtypes: datetime64[ns](1), float64(3), int64(1), object(4)\n",
      "memory usage: 1.7+ MB\n"
     ]
    }
   ],
   "source": [
    "X_train.info()"
   ]
  },
  {
   "cell_type": "markdown",
   "id": "c5c64e36",
   "metadata": {},
   "source": [
    "Ready to carry on with feature engineering\n",
    "\n",
    "<font color='violet'> Implement tfidf \n",
    "    \n",
    "I'll need to quickly create and evaluate a model after implementing each method of feature extraction from the no_stop_cap_lemm text. I'll do model tuning later, but for now, my understanding is that naive bayes is a common, solid model for nlp classification tasks, so I'll use that to compare various preprocessing techniques explored here. \n",
    "    \n",
    "I'll start by modeling with just the extracted text features. These could be recombined with the other columns later (once they're encoded numerically) for improved model performance if I have some reason to do so. But I don't want to do all my modeling including variables like drugs and conditions, because those features will be absent from scraped psychedelic experience reports. "
   ]
  },
  {
   "cell_type": "code",
   "execution_count": 23,
   "id": "66e6c5de",
   "metadata": {},
   "outputs": [
    {
     "name": "stdout",
     "output_type": "stream",
     "text": [
      "<class 'pandas.core.frame.DataFrame'>\n",
      "Int64Index: 22089 entries, 3172 to 30071\n",
      "Data columns (total 5 columns):\n",
      " #   Column             Non-Null Count  Dtype  \n",
      "---  ------             --------------  -----  \n",
      " 0   review_len         22089 non-null  int64  \n",
      " 1   complexity         22089 non-null  float64\n",
      " 2   no_stop_cap_lemm   22089 non-null  object \n",
      " 3   subjectivity       22089 non-null  float64\n",
      " 4   original_polarity  22089 non-null  float64\n",
      "dtypes: float64(3), int64(1), object(1)\n",
      "memory usage: 1.0+ MB\n"
     ]
    }
   ],
   "source": [
    "X_train_models = X_train.drop(columns=['condition', 'date', 'drug0', 'drug1'])\n",
    "X_test_models = X_test.drop(columns=['condition', 'date', 'drug0', 'drug1'])\n",
    "X_train_models.info()"
   ]
  },
  {
   "cell_type": "code",
   "execution_count": 56,
   "id": "e5d1fa3e",
   "metadata": {},
   "outputs": [
    {
     "data": {
      "text/plain": [
       "3172                                     good give run gas\n",
       "21607    75 mg x daily no noticeable effect 150 mg x da...\n",
       "28990    take 145 mg 10 year fantastic insomnia really ...\n",
       "23881    help stability mood help insomnia start experi...\n",
       "16374                                  crazy eat sleep sit\n",
       "Name: no_stop_cap_lemm, dtype: object"
      ]
     },
     "execution_count": 56,
     "metadata": {},
     "output_type": "execute_result"
    }
   ],
   "source": [
    "# Specifically, to get tfidf feature engineering to work, pare it down to just text column\n",
    "X_train_tfidf = X_train_models.no_stop_cap_lemm\n",
    "X_test_tfidf = X_test_models.no_stop_cap_lemm\n",
    "X_train_tfidf.head()"
   ]
  },
  {
   "cell_type": "code",
   "execution_count": 57,
   "id": "72b92a2e",
   "metadata": {},
   "outputs": [
    {
     "data": {
      "text/plain": [
       "0.6055234472676633"
      ]
     },
     "execution_count": 57,
     "metadata": {},
     "output_type": "execute_result"
    }
   ],
   "source": [
    "# Could change parametes to include min_df, max_df, but for now just use a simple version\n",
    "tfidf = TfidfVectorizer(ngram_range=(1, 3), lowercase=False)\n",
    "\n",
    "# Fit to training set, and transform both sets\n",
    "X_train_tfidf = tfidf.fit_transform(X_train_tfidf)\n",
    "X_test_tfidf = tfidf.transform(X_test_tfidf)\n",
    "\n",
    "# Run through a model to evaluate accuracy\n",
    "nb_clf = MultinomialNB()\n",
    "nb_clf.fit(X_train_tfidf, y_train)\n",
    "pred = nb_clf.predict_proba(X_test_tfidf)\n",
    "metrics.roc_auc_score(y_test, pred, multi_class='ovr')"
   ]
  },
  {
   "cell_type": "markdown",
   "id": "932a78dc",
   "metadata": {},
   "source": [
    "With only the text itself and no additional features such as sentiment polarity, which is quite well-correlated with rating, the area under the curve is 0.6. Try some other methods for feature engineering with the text column. \n",
    "\n",
    "<font color='violet'> Implement feature engineering with CountVectorizer "
   ]
  },
  {
   "cell_type": "code",
   "execution_count": 58,
   "id": "aa3e5ddd",
   "metadata": {},
   "outputs": [
    {
     "data": {
      "text/plain": [
       "0.6497113011239557"
      ]
     },
     "execution_count": 58,
     "metadata": {},
     "output_type": "execute_result"
    }
   ],
   "source": [
    "# Copy to create relevant train and test sets\n",
    "X_train_cvect = X_train_models.no_stop_cap_lemm\n",
    "X_test_cvect = X_test_models.no_stop_cap_lemm\n",
    "\n",
    "# Instantiate count vectorizer\n",
    "cvect = CountVectorizer(lowercase=False)\n",
    "\n",
    "# Fit to training set, and transform both sets\n",
    "X_train_cvect = cvect.fit_transform(X_train_cvect)\n",
    "X_test_cvect = cvect.transform(X_test_cvect)\n",
    "\n",
    "# Run through a model to evaluate accuracy\n",
    "nb_clf = MultinomialNB()\n",
    "nb_clf.fit(X_train_cvect, y_train)\n",
    "pred = nb_clf.predict_proba(X_test_cvect)\n",
    "metrics.roc_auc_score(y_test, pred, multi_class='ovr')"
   ]
  },
  {
   "cell_type": "markdown",
   "id": "b1243a12",
   "metadata": {},
   "source": [
    "The features created by the count vectorizer worked better with the model than those from tfidf. Given that individual words rather than bigrams or trigrams as arranged here are more likely to show up in unseen data from psychedelic experience reports, it also makes sense to favor count vectorizer from a perspective of avoiding overfitting. \n",
    "\n",
    "Finally, generate word embeddings. There are multiple methods with which to do this such as spacy's pretrained models or GloVe. I'm unsure about relative usability or performance, so play around. \n",
    "\n",
    "<font color='violet'> Explore word embedding "
   ]
  },
  {
   "cell_type": "code",
   "execution_count": 65,
   "id": "1d8a61d5",
   "metadata": {},
   "outputs": [
    {
     "data": {
      "text/html": [
       "<div>\n",
       "<style scoped>\n",
       "    .dataframe tbody tr th:only-of-type {\n",
       "        vertical-align: middle;\n",
       "    }\n",
       "\n",
       "    .dataframe tbody tr th {\n",
       "        vertical-align: top;\n",
       "    }\n",
       "\n",
       "    .dataframe thead th {\n",
       "        text-align: right;\n",
       "    }\n",
       "</style>\n",
       "<table border=\"1\" class=\"dataframe\">\n",
       "  <thead>\n",
       "    <tr style=\"text-align: right;\">\n",
       "      <th></th>\n",
       "      <th>rating</th>\n",
       "      <th>condition</th>\n",
       "      <th>date</th>\n",
       "      <th>drug0</th>\n",
       "      <th>drug1</th>\n",
       "      <th>review_len</th>\n",
       "      <th>complexity</th>\n",
       "      <th>no_stop_cap_lemm</th>\n",
       "      <th>subjectivity</th>\n",
       "      <th>original_polarity</th>\n",
       "      <th>vector</th>\n",
       "    </tr>\n",
       "  </thead>\n",
       "  <tbody>\n",
       "    <tr>\n",
       "      <th>0</th>\n",
       "      <td>9.0</td>\n",
       "      <td>add</td>\n",
       "      <td>NaT</td>\n",
       "      <td>vyvanse</td>\n",
       "      <td>na</td>\n",
       "      <td>793</td>\n",
       "      <td>10.4</td>\n",
       "      <td>begin take 20 mg vyvanse month surprised find ...</td>\n",
       "      <td>0.461111</td>\n",
       "      <td>0.039286</td>\n",
       "      <td>-0.088692</td>\n",
       "    </tr>\n",
       "    <tr>\n",
       "      <th>1</th>\n",
       "      <td>8.0</td>\n",
       "      <td>add</td>\n",
       "      <td>NaT</td>\n",
       "      <td>dextroamphetamine</td>\n",
       "      <td>na</td>\n",
       "      <td>795</td>\n",
       "      <td>8.0</td>\n",
       "      <td>twitch adderall dexedoctorine compare effect d...</td>\n",
       "      <td>0.501837</td>\n",
       "      <td>0.140464</td>\n",
       "      <td>-0.020730</td>\n",
       "    </tr>\n",
       "    <tr>\n",
       "      <th>2</th>\n",
       "      <td>8.0</td>\n",
       "      <td>adhd</td>\n",
       "      <td>NaT</td>\n",
       "      <td>vyvanse</td>\n",
       "      <td>na</td>\n",
       "      <td>446</td>\n",
       "      <td>2.9</td>\n",
       "      <td>vyvanse 2 week start 40 60 week probably upper...</td>\n",
       "      <td>0.241667</td>\n",
       "      <td>0.010667</td>\n",
       "      <td>-0.055985</td>\n",
       "    </tr>\n",
       "    <tr>\n",
       "      <th>3</th>\n",
       "      <td>8.0</td>\n",
       "      <td>fatigue</td>\n",
       "      <td>NaT</td>\n",
       "      <td>saizen</td>\n",
       "      <td>na</td>\n",
       "      <td>508</td>\n",
       "      <td>14.1</td>\n",
       "      <td>1 subcutaneous injection somatropin abdoman in...</td>\n",
       "      <td>0.348810</td>\n",
       "      <td>0.320000</td>\n",
       "      <td>-0.043427</td>\n",
       "    </tr>\n",
       "    <tr>\n",
       "      <th>4</th>\n",
       "      <td>3.0</td>\n",
       "      <td>dementia</td>\n",
       "      <td>NaT</td>\n",
       "      <td>zyprexa</td>\n",
       "      <td>na</td>\n",
       "      <td>417</td>\n",
       "      <td>11.5</td>\n",
       "      <td>many diseaselewy body syndoctorome dementia ta...</td>\n",
       "      <td>0.466667</td>\n",
       "      <td>0.000000</td>\n",
       "      <td>-0.026450</td>\n",
       "    </tr>\n",
       "  </tbody>\n",
       "</table>\n",
       "</div>"
      ],
      "text/plain": [
       "   rating condition date              drug0 drug1  review_len  complexity  \\\n",
       "0     9.0       add  NaT            vyvanse    na         793        10.4   \n",
       "1     8.0       add  NaT  dextroamphetamine    na         795         8.0   \n",
       "2     8.0      adhd  NaT            vyvanse    na         446         2.9   \n",
       "3     8.0   fatigue  NaT             saizen    na         508        14.1   \n",
       "4     3.0  dementia  NaT            zyprexa    na         417        11.5   \n",
       "\n",
       "                                    no_stop_cap_lemm  subjectivity  \\\n",
       "0  begin take 20 mg vyvanse month surprised find ...      0.461111   \n",
       "1  twitch adderall dexedoctorine compare effect d...      0.501837   \n",
       "2  vyvanse 2 week start 40 60 week probably upper...      0.241667   \n",
       "3  1 subcutaneous injection somatropin abdoman in...      0.348810   \n",
       "4  many diseaselewy body syndoctorome dementia ta...      0.466667   \n",
       "\n",
       "   original_polarity    vector  \n",
       "0           0.039286 -0.088692  \n",
       "1           0.140464 -0.020730  \n",
       "2           0.010667 -0.055985  \n",
       "3           0.320000 -0.043427  \n",
       "4           0.000000 -0.026450  "
      ]
     },
     "execution_count": 65,
     "metadata": {},
     "output_type": "execute_result"
    }
   ],
   "source": [
    "# Start with just using the spacy vector value to get average token vectors for each review. \n",
    "\n",
    "nlp = spacy.load('en_core_web_lg') \n",
    "df['vector'] = df['no_stop_cap_lemm'].apply(nlp).apply(lambda text: np.mean([token.vector for \n",
    "                                                                             token in text]))\n",
    "df.head()"
   ]
  },
  {
   "cell_type": "code",
   "execution_count": 93,
   "id": "103b455c",
   "metadata": {},
   "outputs": [
    {
     "data": {
      "image/png": "[encoded data removed]",
      "text/plain": [
       "<Figure size 640x480 with 1 Axes>"
      ]
     },
     "metadata": {},
     "output_type": "display_data"
    }
   ],
   "source": [
    "# Is this vector column correlated with the ratings column? \n",
    "sns.boxplot(data=df, x='rating', y='vector').set(ylim=(-0.3,0.1))\n",
    "plt.show()"
   ]
  },
  {
   "cell_type": "markdown",
   "id": "6347dc6e",
   "metadata": {},
   "source": [
    "It appears as though the mean word vector value for each review isn't very meaningful on its own. However, what about columns that contains each review's similarity to a mega-review that is made up of all of the test set's reviews for just rating 1, rating 2, rating 3, etc? "
   ]
  },
  {
   "cell_type": "code",
   "execution_count": 109,
   "id": "dc58a8a1",
   "metadata": {},
   "outputs": [
    {
     "name": "stderr",
     "output_type": "stream",
     "text": [
      "/var/folders/xz/sq63wkqx22q0t_hr7_1jfrhr0000gn/T/ipykernel_46625/834193681.py:5: UserWarning: [W008] Evaluating Doc.similarity based on empty vectors.\n",
      "  lambda text: text.similarity(rating_10_review))\n"
     ]
    },
    {
     "data": {
      "text/html": [
       "<div>\n",
       "<style scoped>\n",
       "    .dataframe tbody tr th:only-of-type {\n",
       "        vertical-align: middle;\n",
       "    }\n",
       "\n",
       "    .dataframe tbody tr th {\n",
       "        vertical-align: top;\n",
       "    }\n",
       "\n",
       "    .dataframe thead th {\n",
       "        text-align: right;\n",
       "    }\n",
       "</style>\n",
       "<table border=\"1\" class=\"dataframe\">\n",
       "  <thead>\n",
       "    <tr style=\"text-align: right;\">\n",
       "      <th></th>\n",
       "      <th>rating</th>\n",
       "      <th>condition</th>\n",
       "      <th>date</th>\n",
       "      <th>drug0</th>\n",
       "      <th>drug1</th>\n",
       "      <th>review_len</th>\n",
       "      <th>complexity</th>\n",
       "      <th>no_stop_cap_lemm</th>\n",
       "      <th>subjectivity</th>\n",
       "      <th>original_polarity</th>\n",
       "      <th>vector</th>\n",
       "      <th>similarity_w_10</th>\n",
       "    </tr>\n",
       "  </thead>\n",
       "  <tbody>\n",
       "    <tr>\n",
       "      <th>0</th>\n",
       "      <td>9.0</td>\n",
       "      <td>add</td>\n",
       "      <td>NaT</td>\n",
       "      <td>vyvanse</td>\n",
       "      <td>na</td>\n",
       "      <td>793</td>\n",
       "      <td>10.4</td>\n",
       "      <td>begin take 20 mg vyvanse month surprised find ...</td>\n",
       "      <td>0.461111</td>\n",
       "      <td>0.039286</td>\n",
       "      <td>-0.088692</td>\n",
       "      <td>0.935310</td>\n",
       "    </tr>\n",
       "    <tr>\n",
       "      <th>1</th>\n",
       "      <td>8.0</td>\n",
       "      <td>add</td>\n",
       "      <td>NaT</td>\n",
       "      <td>dextroamphetamine</td>\n",
       "      <td>na</td>\n",
       "      <td>795</td>\n",
       "      <td>8.0</td>\n",
       "      <td>twitch adderall dexedoctorine compare effect d...</td>\n",
       "      <td>0.501837</td>\n",
       "      <td>0.140464</td>\n",
       "      <td>-0.020730</td>\n",
       "      <td>0.864160</td>\n",
       "    </tr>\n",
       "    <tr>\n",
       "      <th>2</th>\n",
       "      <td>8.0</td>\n",
       "      <td>adhd</td>\n",
       "      <td>NaT</td>\n",
       "      <td>vyvanse</td>\n",
       "      <td>na</td>\n",
       "      <td>446</td>\n",
       "      <td>2.9</td>\n",
       "      <td>vyvanse 2 week start 40 60 week probably upper...</td>\n",
       "      <td>0.241667</td>\n",
       "      <td>0.010667</td>\n",
       "      <td>-0.055985</td>\n",
       "      <td>0.885539</td>\n",
       "    </tr>\n",
       "    <tr>\n",
       "      <th>3</th>\n",
       "      <td>8.0</td>\n",
       "      <td>fatigue</td>\n",
       "      <td>NaT</td>\n",
       "      <td>saizen</td>\n",
       "      <td>na</td>\n",
       "      <td>508</td>\n",
       "      <td>14.1</td>\n",
       "      <td>1 subcutaneous injection somatropin abdoman in...</td>\n",
       "      <td>0.348810</td>\n",
       "      <td>0.320000</td>\n",
       "      <td>-0.043427</td>\n",
       "      <td>0.870077</td>\n",
       "    </tr>\n",
       "    <tr>\n",
       "      <th>4</th>\n",
       "      <td>3.0</td>\n",
       "      <td>dementia</td>\n",
       "      <td>NaT</td>\n",
       "      <td>zyprexa</td>\n",
       "      <td>na</td>\n",
       "      <td>417</td>\n",
       "      <td>11.5</td>\n",
       "      <td>many diseaselewy body syndoctorome dementia ta...</td>\n",
       "      <td>0.466667</td>\n",
       "      <td>0.000000</td>\n",
       "      <td>-0.026450</td>\n",
       "      <td>0.843738</td>\n",
       "    </tr>\n",
       "  </tbody>\n",
       "</table>\n",
       "</div>"
      ],
      "text/plain": [
       "   rating condition date              drug0 drug1  review_len  complexity  \\\n",
       "0     9.0       add  NaT            vyvanse    na         793        10.4   \n",
       "1     8.0       add  NaT  dextroamphetamine    na         795         8.0   \n",
       "2     8.0      adhd  NaT            vyvanse    na         446         2.9   \n",
       "3     8.0   fatigue  NaT             saizen    na         508        14.1   \n",
       "4     3.0  dementia  NaT            zyprexa    na         417        11.5   \n",
       "\n",
       "                                    no_stop_cap_lemm  subjectivity  \\\n",
       "0  begin take 20 mg vyvanse month surprised find ...      0.461111   \n",
       "1  twitch adderall dexedoctorine compare effect d...      0.501837   \n",
       "2  vyvanse 2 week start 40 60 week probably upper...      0.241667   \n",
       "3  1 subcutaneous injection somatropin abdoman in...      0.348810   \n",
       "4  many diseaselewy body syndoctorome dementia ta...      0.466667   \n",
       "\n",
       "   original_polarity    vector  similarity_w_10  \n",
       "0           0.039286 -0.088692         0.935310  \n",
       "1           0.140464 -0.020730         0.864160  \n",
       "2           0.010667 -0.055985         0.885539  \n",
       "3           0.320000 -0.043427         0.870077  \n",
       "4           0.000000 -0.026450         0.843738  "
      ]
     },
     "execution_count": 109,
     "metadata": {},
     "output_type": "execute_result"
    }
   ],
   "source": [
    "# Try creating just one column: similarity with reviews with a rating of 10\n",
    "rating_10_review = ' '.join(df[df['rating']==10]['no_stop_cap_lemm'])\n",
    "rating_10_review = nlp(rating_10_review[:100000])\n",
    "df['similarity_w_10'] = df.no_stop_cap_lemm.apply(nlp).apply(\n",
    "    lambda text: text.similarity(rating_10_review))\n",
    "df.head()"
   ]
  },
  {
   "cell_type": "code",
   "execution_count": 112,
   "id": "d59000bc",
   "metadata": {},
   "outputs": [
    {
     "data": {
      "image/png": "[encoded data removed]",
      "text/plain": [
       "<Figure size 640x480 with 1 Axes>"
      ]
     },
     "metadata": {},
     "output_type": "display_data"
    }
   ],
   "source": [
    "sns.boxplot(data=df, x='rating', y='similarity_w_10').set(ylim=0.6)\n",
    "plt.show()"
   ]
  },
  {
   "cell_type": "code",
   "execution_count": 111,
   "id": "d98395c0",
   "metadata": {},
   "outputs": [
    {
     "data": {
      "image/png": "[encoded data removed]",
      "text/plain": [
       "<Figure size 800x600 with 2 Axes>"
      ]
     },
     "metadata": {},
     "output_type": "display_data"
    }
   ],
   "source": [
    "# This appears slightly more meaningful than several other variables. Confirm. \n",
    "\n",
    "plt.figure(figsize=(8,6))\n",
    "cmap = sns.diverging_palette(h_neg=0, h_pos=0, s=0, l=0, as_cmap=True)\n",
    "sns.heatmap(df[['rating', 'review_len', 'complexity', 'subjectivity', \n",
    "                'original_polarity', 'vector', 'similarity_w_10']].corr(), linewidths=.1, cmap=cmap, center=0.0, annot=True)\n",
    "plt.yticks(rotation=0);"
   ]
  },
  {
   "cell_type": "markdown",
   "id": "a0c532ec",
   "metadata": {},
   "source": [
    "\"Similarity with 10\" has a stronger correlation with rating than any variable other than polarity. It seems worth it to create more of these vector similarity columns. But, of course, only using the texts from the train set. Return to the train and test sets created earlier, and do any manipulation necessary to create spacy nlp docs for the train set's reviews associated with ratings 1-10. Then, create columns for each.  \n",
    "\n",
    "<font color='violet'> Create columns for vector similarity with meta-reviews based on each rating. "
   ]
  },
  {
   "cell_type": "code",
   "execution_count": 118,
   "id": "ad6b506a",
   "metadata": {},
   "outputs": [
    {
     "data": {
      "text/html": [
       "<div>\n",
       "<style scoped>\n",
       "    .dataframe tbody tr th:only-of-type {\n",
       "        vertical-align: middle;\n",
       "    }\n",
       "\n",
       "    .dataframe tbody tr th {\n",
       "        vertical-align: top;\n",
       "    }\n",
       "\n",
       "    .dataframe thead th {\n",
       "        text-align: right;\n",
       "    }\n",
       "</style>\n",
       "<table border=\"1\" class=\"dataframe\">\n",
       "  <thead>\n",
       "    <tr style=\"text-align: right;\">\n",
       "      <th></th>\n",
       "      <th>condition</th>\n",
       "      <th>date</th>\n",
       "      <th>drug0</th>\n",
       "      <th>drug1</th>\n",
       "      <th>review_len</th>\n",
       "      <th>complexity</th>\n",
       "      <th>no_stop_cap_lemm</th>\n",
       "      <th>subjectivity</th>\n",
       "      <th>original_polarity</th>\n",
       "      <th>set</th>\n",
       "      <th>rating</th>\n",
       "    </tr>\n",
       "  </thead>\n",
       "  <tbody>\n",
       "    <tr>\n",
       "      <th>3172</th>\n",
       "      <td>anxiety</td>\n",
       "      <td>2013-12-14</td>\n",
       "      <td>escitalopram</td>\n",
       "      <td>lexapro</td>\n",
       "      <td>36</td>\n",
       "      <td>-1.2</td>\n",
       "      <td>good give run gas</td>\n",
       "      <td>0.600000</td>\n",
       "      <td>0.700000</td>\n",
       "      <td>train</td>\n",
       "      <td>9.0</td>\n",
       "    </tr>\n",
       "    <tr>\n",
       "      <th>21607</th>\n",
       "      <td>anxiety</td>\n",
       "      <td>2017-03-13</td>\n",
       "      <td>pregabalin</td>\n",
       "      <td>na</td>\n",
       "      <td>547</td>\n",
       "      <td>5.4</td>\n",
       "      <td>75 mg x daily no noticeable effect 150 mg x da...</td>\n",
       "      <td>0.343056</td>\n",
       "      <td>0.031439</td>\n",
       "      <td>train</td>\n",
       "      <td>8.0</td>\n",
       "    </tr>\n",
       "    <tr>\n",
       "      <th>28990</th>\n",
       "      <td>depression</td>\n",
       "      <td>2016-10-16</td>\n",
       "      <td>mirtazapine</td>\n",
       "      <td>na</td>\n",
       "      <td>390</td>\n",
       "      <td>4.8</td>\n",
       "      <td>take 145 mg 10 year fantastic insomnia really ...</td>\n",
       "      <td>0.591667</td>\n",
       "      <td>0.096296</td>\n",
       "      <td>train</td>\n",
       "      <td>8.0</td>\n",
       "    </tr>\n",
       "    <tr>\n",
       "      <th>23881</th>\n",
       "      <td>bpd</td>\n",
       "      <td>2017-08-16</td>\n",
       "      <td>quetiapine</td>\n",
       "      <td>na</td>\n",
       "      <td>156</td>\n",
       "      <td>8.2</td>\n",
       "      <td>help stability mood help insomnia start experi...</td>\n",
       "      <td>1.000000</td>\n",
       "      <td>-1.000000</td>\n",
       "      <td>train</td>\n",
       "      <td>7.0</td>\n",
       "    </tr>\n",
       "    <tr>\n",
       "      <th>16374</th>\n",
       "      <td>depression</td>\n",
       "      <td>2014-09-19</td>\n",
       "      <td>fluoxetine</td>\n",
       "      <td>prozac</td>\n",
       "      <td>66</td>\n",
       "      <td>-0.4</td>\n",
       "      <td>crazy eat sleep sit</td>\n",
       "      <td>0.900000</td>\n",
       "      <td>-0.600000</td>\n",
       "      <td>train</td>\n",
       "      <td>2.0</td>\n",
       "    </tr>\n",
       "  </tbody>\n",
       "</table>\n",
       "</div>"
      ],
      "text/plain": [
       "        condition       date         drug0    drug1  review_len  complexity  \\\n",
       "3172      anxiety 2013-12-14  escitalopram  lexapro          36        -1.2   \n",
       "21607     anxiety 2017-03-13    pregabalin       na         547         5.4   \n",
       "28990  depression 2016-10-16   mirtazapine       na         390         4.8   \n",
       "23881         bpd 2017-08-16    quetiapine       na         156         8.2   \n",
       "16374  depression 2014-09-19    fluoxetine   prozac          66        -0.4   \n",
       "\n",
       "                                        no_stop_cap_lemm  subjectivity  \\\n",
       "3172                                   good give run gas      0.600000   \n",
       "21607  75 mg x daily no noticeable effect 150 mg x da...      0.343056   \n",
       "28990  take 145 mg 10 year fantastic insomnia really ...      0.591667   \n",
       "23881  help stability mood help insomnia start experi...      1.000000   \n",
       "16374                                crazy eat sleep sit      0.900000   \n",
       "\n",
       "       original_polarity    set  rating  \n",
       "3172            0.700000  train     9.0  \n",
       "21607           0.031439  train     8.0  \n",
       "28990           0.096296  train     8.0  \n",
       "23881          -1.000000  train     7.0  \n",
       "16374          -0.600000  train     2.0  "
      ]
     },
     "execution_count": 118,
     "metadata": {},
     "output_type": "execute_result"
    }
   ],
   "source": [
    "X_train['set'] = 'train'\n",
    "X_test['set'] = 'test'\n",
    "train_set = pd.concat([X_train, y_train], axis=1)\n",
    "train_set.head()"
   ]
  },
  {
   "cell_type": "code",
   "execution_count": 124,
   "id": "e3cf3455",
   "metadata": {},
   "outputs": [
    {
     "data": {
      "text/plain": [
       "15695"
      ]
     },
     "execution_count": 124,
     "metadata": {},
     "output_type": "execute_result"
    }
   ],
   "source": [
    "rating_10_meta = ' '.join(train_set[train_set['rating']==10]['no_stop_cap_lemm'])\n",
    "rating_10_meta = nlp(rating_10_meta[:100000])\n",
    "\n",
    "rating_9_meta = ' '.join(train_set[train_set['rating']==9]['no_stop_cap_lemm'])\n",
    "rating_9_meta = nlp(rating_9_meta[:100000])\n",
    "\n",
    "rating_8_meta = ' '.join(train_set[train_set['rating']==8]['no_stop_cap_lemm'])\n",
    "rating_8_meta = nlp(rating_8_meta[:100000])\n",
    "\n",
    "rating_7_meta = ' '.join(train_set[train_set['rating']==7]['no_stop_cap_lemm'])\n",
    "rating_7_meta = nlp(rating_7_meta[:100000])\n",
    "\n",
    "rating_6_meta = ' '.join(train_set[train_set['rating']==6]['no_stop_cap_lemm'])\n",
    "rating_6_meta = nlp(rating_6_meta[:100000])\n",
    "\n",
    "rating_5_meta = ' '.join(train_set[train_set['rating']==5]['no_stop_cap_lemm'])\n",
    "rating_5_meta = nlp(rating_5_meta[:100000])\n",
    "\n",
    "rating_4_meta = ' '.join(train_set[train_set['rating']==4]['no_stop_cap_lemm'])\n",
    "rating_4_meta = nlp(rating_4_meta[:100000])\n",
    "\n",
    "rating_3_meta = ' '.join(train_set[train_set['rating']==3]['no_stop_cap_lemm'])\n",
    "rating_3_meta = nlp(rating_3_meta[:100000])\n",
    "\n",
    "rating_2_meta = ' '.join(train_set[train_set['rating']==2]['no_stop_cap_lemm'])\n",
    "rating_2_meta = nlp(rating_2_meta[:100000])\n",
    "\n",
    "rating_1_meta = ' '.join(train_set[train_set['rating']==1]['no_stop_cap_lemm'])\n",
    "rating_1_meta = nlp(rating_1_meta[:100000])\n",
    "\n",
    "len(rating_1_meta)"
   ]
  },
  {
   "cell_type": "code",
   "execution_count": 128,
   "id": "f63404de",
   "metadata": {},
   "outputs": [
    {
     "name": "stdout",
     "output_type": "stream",
     "text": [
      "15583 15672 15783 15680 15712 15599 15663 15529 15790\n"
     ]
    }
   ],
   "source": [
    "print(len(rating_2_meta), len(rating_3_meta), len(rating_4_meta), len(rating_5_meta), \n",
    "      len(rating_6_meta), len(rating_7_meta), len(rating_8_meta), len(rating_9_meta), \n",
    "      len(rating_10_meta))"
   ]
  },
  {
   "cell_type": "markdown",
   "id": "3e5f8ad7",
   "metadata": {},
   "source": [
    "For the entire dataset, now that each rating_n_meta doc contains only text from the training set, add a column and fill with each review's similarity to each meta-review. "
   ]
  },
  {
   "cell_type": "code",
   "execution_count": 126,
   "id": "b03d2d14",
   "metadata": {},
   "outputs": [
    {
     "data": {
      "text/html": [
       "<div>\n",
       "<style scoped>\n",
       "    .dataframe tbody tr th:only-of-type {\n",
       "        vertical-align: middle;\n",
       "    }\n",
       "\n",
       "    .dataframe tbody tr th {\n",
       "        vertical-align: top;\n",
       "    }\n",
       "\n",
       "    .dataframe thead th {\n",
       "        text-align: right;\n",
       "    }\n",
       "</style>\n",
       "<table border=\"1\" class=\"dataframe\">\n",
       "  <thead>\n",
       "    <tr style=\"text-align: right;\">\n",
       "      <th></th>\n",
       "      <th>condition</th>\n",
       "      <th>date</th>\n",
       "      <th>drug0</th>\n",
       "      <th>drug1</th>\n",
       "      <th>review_len</th>\n",
       "      <th>complexity</th>\n",
       "      <th>no_stop_cap_lemm</th>\n",
       "      <th>subjectivity</th>\n",
       "      <th>original_polarity</th>\n",
       "      <th>set</th>\n",
       "      <th>rating</th>\n",
       "    </tr>\n",
       "  </thead>\n",
       "  <tbody>\n",
       "    <tr>\n",
       "      <th>15431</th>\n",
       "      <td>anxiety</td>\n",
       "      <td>2015-03-08</td>\n",
       "      <td>clonazepam</td>\n",
       "      <td>klonopin</td>\n",
       "      <td>362</td>\n",
       "      <td>5.6</td>\n",
       "      <td>klonopin good benzodiazepine opinion any sort ...</td>\n",
       "      <td>0.448148</td>\n",
       "      <td>0.104167</td>\n",
       "      <td>train</td>\n",
       "      <td>10.0</td>\n",
       "    </tr>\n",
       "    <tr>\n",
       "      <th>18550</th>\n",
       "      <td>bipolar</td>\n",
       "      <td>2012-09-17</td>\n",
       "      <td>lurasidone</td>\n",
       "      <td>latuda</td>\n",
       "      <td>759</td>\n",
       "      <td>6.5</td>\n",
       "      <td>love meditation clear head feel lot stable luv...</td>\n",
       "      <td>0.596667</td>\n",
       "      <td>0.287500</td>\n",
       "      <td>test</td>\n",
       "      <td>8.0</td>\n",
       "    </tr>\n",
       "    <tr>\n",
       "      <th>7443</th>\n",
       "      <td>addiction</td>\n",
       "      <td>2015-04-15</td>\n",
       "      <td>acamprosate</td>\n",
       "      <td>na</td>\n",
       "      <td>744</td>\n",
       "      <td>2.5</td>\n",
       "      <td>dependence alcohol 1510 year real heavy doctor...</td>\n",
       "      <td>0.510956</td>\n",
       "      <td>0.069318</td>\n",
       "      <td>train</td>\n",
       "      <td>8.0</td>\n",
       "    </tr>\n",
       "    <tr>\n",
       "      <th>6436</th>\n",
       "      <td>anxiety</td>\n",
       "      <td>2011-10-20</td>\n",
       "      <td>clonazepam</td>\n",
       "      <td>klonopin</td>\n",
       "      <td>768</td>\n",
       "      <td>4.7</td>\n",
       "      <td>klonopin work excellent anxiety ptsd issue 05 ...</td>\n",
       "      <td>0.705225</td>\n",
       "      <td>0.139583</td>\n",
       "      <td>train</td>\n",
       "      <td>9.0</td>\n",
       "    </tr>\n",
       "    <tr>\n",
       "      <th>2484</th>\n",
       "      <td>anxiety</td>\n",
       "      <td>2016-02-15</td>\n",
       "      <td>lorazepam</td>\n",
       "      <td>ativan</td>\n",
       "      <td>356</td>\n",
       "      <td>5.9</td>\n",
       "      <td>save life life managable far superior numerous...</td>\n",
       "      <td>0.613333</td>\n",
       "      <td>0.053571</td>\n",
       "      <td>train</td>\n",
       "      <td>9.0</td>\n",
       "    </tr>\n",
       "  </tbody>\n",
       "</table>\n",
       "</div>"
      ],
      "text/plain": [
       "       condition       date        drug0     drug1  review_len  complexity  \\\n",
       "15431    anxiety 2015-03-08   clonazepam  klonopin         362         5.6   \n",
       "18550    bipolar 2012-09-17   lurasidone    latuda         759         6.5   \n",
       "7443   addiction 2015-04-15  acamprosate        na         744         2.5   \n",
       "6436     anxiety 2011-10-20   clonazepam  klonopin         768         4.7   \n",
       "2484     anxiety 2016-02-15    lorazepam    ativan         356         5.9   \n",
       "\n",
       "                                        no_stop_cap_lemm  subjectivity  \\\n",
       "15431  klonopin good benzodiazepine opinion any sort ...      0.448148   \n",
       "18550  love meditation clear head feel lot stable luv...      0.596667   \n",
       "7443   dependence alcohol 1510 year real heavy doctor...      0.510956   \n",
       "6436   klonopin work excellent anxiety ptsd issue 05 ...      0.705225   \n",
       "2484   save life life managable far superior numerous...      0.613333   \n",
       "\n",
       "       original_polarity    set  rating  \n",
       "15431           0.104167  train    10.0  \n",
       "18550           0.287500   test     8.0  \n",
       "7443            0.069318  train     8.0  \n",
       "6436            0.139583  train     9.0  \n",
       "2484            0.053571  train     9.0  "
      ]
     },
     "execution_count": 126,
     "metadata": {},
     "output_type": "execute_result"
    }
   ],
   "source": [
    "test_set = pd.concat([X_test, y_test], axis=1)\n",
    "df = pd.concat([train_set, test_set])\n",
    "df.sample(5)"
   ]
  },
  {
   "cell_type": "code",
   "execution_count": 134,
   "id": "ba4b1e29",
   "metadata": {},
   "outputs": [
    {
     "name": "stderr",
     "output_type": "stream",
     "text": [
      "/var/folders/xz/sq63wkqx22q0t_hr7_1jfrhr0000gn/T/ipykernel_46625/2076254851.py:3: UserWarning: [W008] Evaluating Doc.similarity based on empty vectors.\n",
      "  lambda text: text.similarity(rating_10_meta))\n",
      "/var/folders/xz/sq63wkqx22q0t_hr7_1jfrhr0000gn/T/ipykernel_46625/2076254851.py:6: UserWarning: [W008] Evaluating Doc.similarity based on empty vectors.\n",
      "  lambda text: text.similarity(rating_9_meta))\n",
      "/var/folders/xz/sq63wkqx22q0t_hr7_1jfrhr0000gn/T/ipykernel_46625/2076254851.py:9: UserWarning: [W008] Evaluating Doc.similarity based on empty vectors.\n",
      "  lambda text: text.similarity(rating_8_meta))\n",
      "/var/folders/xz/sq63wkqx22q0t_hr7_1jfrhr0000gn/T/ipykernel_46625/2076254851.py:12: UserWarning: [W008] Evaluating Doc.similarity based on empty vectors.\n",
      "  lambda text: text.similarity(rating_7_meta))\n",
      "/var/folders/xz/sq63wkqx22q0t_hr7_1jfrhr0000gn/T/ipykernel_46625/2076254851.py:15: UserWarning: [W008] Evaluating Doc.similarity based on empty vectors.\n",
      "  lambda text: text.similarity(rating_6_meta))\n",
      "/var/folders/xz/sq63wkqx22q0t_hr7_1jfrhr0000gn/T/ipykernel_46625/2076254851.py:18: UserWarning: [W008] Evaluating Doc.similarity based on empty vectors.\n",
      "  lambda text: text.similarity(rating_5_meta))\n",
      "/var/folders/xz/sq63wkqx22q0t_hr7_1jfrhr0000gn/T/ipykernel_46625/2076254851.py:21: UserWarning: [W008] Evaluating Doc.similarity based on empty vectors.\n",
      "  lambda text: text.similarity(rating_4_meta))\n",
      "/var/folders/xz/sq63wkqx22q0t_hr7_1jfrhr0000gn/T/ipykernel_46625/2076254851.py:24: UserWarning: [W008] Evaluating Doc.similarity based on empty vectors.\n",
      "  lambda text: text.similarity(rating_3_meta))\n",
      "/var/folders/xz/sq63wkqx22q0t_hr7_1jfrhr0000gn/T/ipykernel_46625/2076254851.py:27: UserWarning: [W008] Evaluating Doc.similarity based on empty vectors.\n",
      "  lambda text: text.similarity(rating_2_meta))\n",
      "/var/folders/xz/sq63wkqx22q0t_hr7_1jfrhr0000gn/T/ipykernel_46625/2076254851.py:30: UserWarning: [W008] Evaluating Doc.similarity based on empty vectors.\n",
      "  lambda text: text.similarity(rating_1_meta))\n"
     ]
    },
    {
     "data": {
      "text/html": [
       "<div>\n",
       "<style scoped>\n",
       "    .dataframe tbody tr th:only-of-type {\n",
       "        vertical-align: middle;\n",
       "    }\n",
       "\n",
       "    .dataframe tbody tr th {\n",
       "        vertical-align: top;\n",
       "    }\n",
       "\n",
       "    .dataframe thead th {\n",
       "        text-align: right;\n",
       "    }\n",
       "</style>\n",
       "<table border=\"1\" class=\"dataframe\">\n",
       "  <thead>\n",
       "    <tr style=\"text-align: right;\">\n",
       "      <th></th>\n",
       "      <th>condition</th>\n",
       "      <th>date</th>\n",
       "      <th>drug0</th>\n",
       "      <th>drug1</th>\n",
       "      <th>review_len</th>\n",
       "      <th>complexity</th>\n",
       "      <th>no_stop_cap_lemm</th>\n",
       "      <th>subjectivity</th>\n",
       "      <th>original_polarity</th>\n",
       "      <th>set</th>\n",
       "      <th>...</th>\n",
       "      <th>similarity_w_10</th>\n",
       "      <th>similarity_w_9</th>\n",
       "      <th>similarity_w_8</th>\n",
       "      <th>similarity_w_7</th>\n",
       "      <th>similarity_w_6</th>\n",
       "      <th>similarity_w_5</th>\n",
       "      <th>similarity_w_4</th>\n",
       "      <th>similarity_w_3</th>\n",
       "      <th>similarity_w_2</th>\n",
       "      <th>similarity_w_1</th>\n",
       "    </tr>\n",
       "  </thead>\n",
       "  <tbody>\n",
       "    <tr>\n",
       "      <th>3172</th>\n",
       "      <td>anxiety</td>\n",
       "      <td>2013-12-14</td>\n",
       "      <td>escitalopram</td>\n",
       "      <td>lexapro</td>\n",
       "      <td>36</td>\n",
       "      <td>-1.2</td>\n",
       "      <td>good give run gas</td>\n",
       "      <td>0.600000</td>\n",
       "      <td>0.700000</td>\n",
       "      <td>train</td>\n",
       "      <td>...</td>\n",
       "      <td>0.640050</td>\n",
       "      <td>0.634459</td>\n",
       "      <td>0.637919</td>\n",
       "      <td>0.635768</td>\n",
       "      <td>0.634801</td>\n",
       "      <td>0.634340</td>\n",
       "      <td>0.640152</td>\n",
       "      <td>0.641377</td>\n",
       "      <td>0.641142</td>\n",
       "      <td>0.645604</td>\n",
       "    </tr>\n",
       "    <tr>\n",
       "      <th>21607</th>\n",
       "      <td>anxiety</td>\n",
       "      <td>2017-03-13</td>\n",
       "      <td>pregabalin</td>\n",
       "      <td>na</td>\n",
       "      <td>547</td>\n",
       "      <td>5.4</td>\n",
       "      <td>75 mg x daily no noticeable effect 150 mg x da...</td>\n",
       "      <td>0.343056</td>\n",
       "      <td>0.031439</td>\n",
       "      <td>train</td>\n",
       "      <td>...</td>\n",
       "      <td>0.841263</td>\n",
       "      <td>0.850843</td>\n",
       "      <td>0.855461</td>\n",
       "      <td>0.855266</td>\n",
       "      <td>0.856042</td>\n",
       "      <td>0.858260</td>\n",
       "      <td>0.855610</td>\n",
       "      <td>0.848723</td>\n",
       "      <td>0.849097</td>\n",
       "      <td>0.839889</td>\n",
       "    </tr>\n",
       "    <tr>\n",
       "      <th>28990</th>\n",
       "      <td>depression</td>\n",
       "      <td>2016-10-16</td>\n",
       "      <td>mirtazapine</td>\n",
       "      <td>na</td>\n",
       "      <td>390</td>\n",
       "      <td>4.8</td>\n",
       "      <td>take 145 mg 10 year fantastic insomnia really ...</td>\n",
       "      <td>0.591667</td>\n",
       "      <td>0.096296</td>\n",
       "      <td>train</td>\n",
       "      <td>...</td>\n",
       "      <td>0.922576</td>\n",
       "      <td>0.929451</td>\n",
       "      <td>0.930742</td>\n",
       "      <td>0.929888</td>\n",
       "      <td>0.930491</td>\n",
       "      <td>0.931889</td>\n",
       "      <td>0.927173</td>\n",
       "      <td>0.923545</td>\n",
       "      <td>0.923686</td>\n",
       "      <td>0.916180</td>\n",
       "    </tr>\n",
       "    <tr>\n",
       "      <th>23881</th>\n",
       "      <td>bpd</td>\n",
       "      <td>2017-08-16</td>\n",
       "      <td>quetiapine</td>\n",
       "      <td>na</td>\n",
       "      <td>156</td>\n",
       "      <td>8.2</td>\n",
       "      <td>help stability mood help insomnia start experi...</td>\n",
       "      <td>1.000000</td>\n",
       "      <td>-1.000000</td>\n",
       "      <td>train</td>\n",
       "      <td>...</td>\n",
       "      <td>0.825203</td>\n",
       "      <td>0.830641</td>\n",
       "      <td>0.825423</td>\n",
       "      <td>0.824707</td>\n",
       "      <td>0.823785</td>\n",
       "      <td>0.824721</td>\n",
       "      <td>0.822876</td>\n",
       "      <td>0.824725</td>\n",
       "      <td>0.824692</td>\n",
       "      <td>0.823800</td>\n",
       "    </tr>\n",
       "    <tr>\n",
       "      <th>16374</th>\n",
       "      <td>depression</td>\n",
       "      <td>2014-09-19</td>\n",
       "      <td>fluoxetine</td>\n",
       "      <td>prozac</td>\n",
       "      <td>66</td>\n",
       "      <td>-0.4</td>\n",
       "      <td>crazy eat sleep sit</td>\n",
       "      <td>0.900000</td>\n",
       "      <td>-0.600000</td>\n",
       "      <td>train</td>\n",
       "      <td>...</td>\n",
       "      <td>0.467668</td>\n",
       "      <td>0.462199</td>\n",
       "      <td>0.469501</td>\n",
       "      <td>0.470684</td>\n",
       "      <td>0.475591</td>\n",
       "      <td>0.484710</td>\n",
       "      <td>0.497155</td>\n",
       "      <td>0.490050</td>\n",
       "      <td>0.495104</td>\n",
       "      <td>0.504138</td>\n",
       "    </tr>\n",
       "  </tbody>\n",
       "</table>\n",
       "<p>5 rows × 21 columns</p>\n",
       "</div>"
      ],
      "text/plain": [
       "        condition       date         drug0    drug1  review_len  complexity  \\\n",
       "3172      anxiety 2013-12-14  escitalopram  lexapro          36        -1.2   \n",
       "21607     anxiety 2017-03-13    pregabalin       na         547         5.4   \n",
       "28990  depression 2016-10-16   mirtazapine       na         390         4.8   \n",
       "23881         bpd 2017-08-16    quetiapine       na         156         8.2   \n",
       "16374  depression 2014-09-19    fluoxetine   prozac          66        -0.4   \n",
       "\n",
       "                                        no_stop_cap_lemm  subjectivity  \\\n",
       "3172                                   good give run gas      0.600000   \n",
       "21607  75 mg x daily no noticeable effect 150 mg x da...      0.343056   \n",
       "28990  take 145 mg 10 year fantastic insomnia really ...      0.591667   \n",
       "23881  help stability mood help insomnia start experi...      1.000000   \n",
       "16374                                crazy eat sleep sit      0.900000   \n",
       "\n",
       "       original_polarity    set  ...  similarity_w_10  similarity_w_9  \\\n",
       "3172            0.700000  train  ...         0.640050        0.634459   \n",
       "21607           0.031439  train  ...         0.841263        0.850843   \n",
       "28990           0.096296  train  ...         0.922576        0.929451   \n",
       "23881          -1.000000  train  ...         0.825203        0.830641   \n",
       "16374          -0.600000  train  ...         0.467668        0.462199   \n",
       "\n",
       "       similarity_w_8  similarity_w_7  similarity_w_6  similarity_w_5  \\\n",
       "3172         0.637919        0.635768        0.634801        0.634340   \n",
       "21607        0.855461        0.855266        0.856042        0.858260   \n",
       "28990        0.930742        0.929888        0.930491        0.931889   \n",
       "23881        0.825423        0.824707        0.823785        0.824721   \n",
       "16374        0.469501        0.470684        0.475591        0.484710   \n",
       "\n",
       "       similarity_w_4  similarity_w_3  similarity_w_2  similarity_w_1  \n",
       "3172         0.640152        0.641377        0.641142        0.645604  \n",
       "21607        0.855610        0.848723        0.849097        0.839889  \n",
       "28990        0.927173        0.923545        0.923686        0.916180  \n",
       "23881        0.822876        0.824725        0.824692        0.823800  \n",
       "16374        0.497155        0.490050        0.495104        0.504138  \n",
       "\n",
       "[5 rows x 21 columns]"
      ]
     },
     "execution_count": 134,
     "metadata": {},
     "output_type": "execute_result"
    }
   ],
   "source": [
    "# Create the columns\n",
    "df['similarity_w_10'] = df.no_stop_cap_lemm.apply(nlp).apply(\n",
    "    lambda text: text.similarity(rating_10_meta))\n",
    "\n",
    "df['similarity_w_9'] = df.no_stop_cap_lemm.apply(nlp).apply(\n",
    "    lambda text: text.similarity(rating_9_meta))\n",
    "\n",
    "df['similarity_w_8'] = df.no_stop_cap_lemm.apply(nlp).apply(\n",
    "    lambda text: text.similarity(rating_8_meta))\n",
    "\n",
    "df['similarity_w_7'] = df.no_stop_cap_lemm.apply(nlp).apply(\n",
    "    lambda text: text.similarity(rating_7_meta))\n",
    "\n",
    "df['similarity_w_6'] = df.no_stop_cap_lemm.apply(nlp).apply(\n",
    "    lambda text: text.similarity(rating_6_meta))\n",
    "\n",
    "df['similarity_w_5'] = df.no_stop_cap_lemm.apply(nlp).apply(\n",
    "    lambda text: text.similarity(rating_5_meta))\n",
    "\n",
    "df['similarity_w_4'] = df.no_stop_cap_lemm.apply(nlp).apply(\n",
    "    lambda text: text.similarity(rating_4_meta))\n",
    "\n",
    "df['similarity_w_3'] = df.no_stop_cap_lemm.apply(nlp).apply(\n",
    "    lambda text: text.similarity(rating_3_meta))\n",
    "\n",
    "df['similarity_w_2'] = df.no_stop_cap_lemm.apply(nlp).apply(\n",
    "    lambda text: text.similarity(rating_2_meta))\n",
    "\n",
    "df['similarity_w_1'] = df.no_stop_cap_lemm.apply(nlp).apply(\n",
    "    lambda text: text.similarity(rating_1_meta))\n",
    "\n",
    "df.head()"
   ]
  },
  {
   "cell_type": "code",
   "execution_count": 135,
   "id": "b882a04a",
   "metadata": {},
   "outputs": [
    {
     "data": {
      "image/png": "[encoded data removed]",
      "text/plain": [
       "<Figure size 800x600 with 2 Axes>"
      ]
     },
     "metadata": {},
     "output_type": "display_data"
    }
   ],
   "source": [
    "plt.figure(figsize=(8,6))\n",
    "cmap = sns.diverging_palette(h_neg=0, h_pos=0, s=0, l=0, as_cmap=True)\n",
    "sns.heatmap(df[['rating', 'similarity_w_10', 'similarity_w_9', 'similarity_w_8', \n",
    "                'similarity_w_7', 'similarity_w_6', 'similarity_w_5', 'similarity_w_4', \n",
    "                'similarity_w_3', 'similarity_w_2', 'similarity_w_1']].corr(), \n",
    "            linewidths=.1, cmap=cmap, center=0.0, annot=True)\n",
    "plt.yticks(rotation=0);"
   ]
  },
  {
   "cell_type": "markdown",
   "id": "8794211c",
   "metadata": {},
   "source": [
    "These columns are highly correlated with one another. Keep just the one column that has the highest correlation with rating, \"similarity_w_10\""
   ]
  },
  {
   "cell_type": "code",
   "execution_count": 136,
   "id": "66532c26",
   "metadata": {},
   "outputs": [
    {
     "data": {
      "text/html": [
       "<div>\n",
       "<style scoped>\n",
       "    .dataframe tbody tr th:only-of-type {\n",
       "        vertical-align: middle;\n",
       "    }\n",
       "\n",
       "    .dataframe tbody tr th {\n",
       "        vertical-align: top;\n",
       "    }\n",
       "\n",
       "    .dataframe thead th {\n",
       "        text-align: right;\n",
       "    }\n",
       "</style>\n",
       "<table border=\"1\" class=\"dataframe\">\n",
       "  <thead>\n",
       "    <tr style=\"text-align: right;\">\n",
       "      <th></th>\n",
       "      <th>condition</th>\n",
       "      <th>date</th>\n",
       "      <th>drug0</th>\n",
       "      <th>drug1</th>\n",
       "      <th>review_len</th>\n",
       "      <th>complexity</th>\n",
       "      <th>no_stop_cap_lemm</th>\n",
       "      <th>subjectivity</th>\n",
       "      <th>original_polarity</th>\n",
       "      <th>set</th>\n",
       "      <th>rating</th>\n",
       "      <th>similarity_w_10</th>\n",
       "    </tr>\n",
       "  </thead>\n",
       "  <tbody>\n",
       "    <tr>\n",
       "      <th>3172</th>\n",
       "      <td>anxiety</td>\n",
       "      <td>2013-12-14</td>\n",
       "      <td>escitalopram</td>\n",
       "      <td>lexapro</td>\n",
       "      <td>36</td>\n",
       "      <td>-1.2</td>\n",
       "      <td>good give run gas</td>\n",
       "      <td>0.600000</td>\n",
       "      <td>0.700000</td>\n",
       "      <td>train</td>\n",
       "      <td>9.0</td>\n",
       "      <td>0.640050</td>\n",
       "    </tr>\n",
       "    <tr>\n",
       "      <th>21607</th>\n",
       "      <td>anxiety</td>\n",
       "      <td>2017-03-13</td>\n",
       "      <td>pregabalin</td>\n",
       "      <td>na</td>\n",
       "      <td>547</td>\n",
       "      <td>5.4</td>\n",
       "      <td>75 mg x daily no noticeable effect 150 mg x da...</td>\n",
       "      <td>0.343056</td>\n",
       "      <td>0.031439</td>\n",
       "      <td>train</td>\n",
       "      <td>8.0</td>\n",
       "      <td>0.841263</td>\n",
       "    </tr>\n",
       "    <tr>\n",
       "      <th>28990</th>\n",
       "      <td>depression</td>\n",
       "      <td>2016-10-16</td>\n",
       "      <td>mirtazapine</td>\n",
       "      <td>na</td>\n",
       "      <td>390</td>\n",
       "      <td>4.8</td>\n",
       "      <td>take 145 mg 10 year fantastic insomnia really ...</td>\n",
       "      <td>0.591667</td>\n",
       "      <td>0.096296</td>\n",
       "      <td>train</td>\n",
       "      <td>8.0</td>\n",
       "      <td>0.922576</td>\n",
       "    </tr>\n",
       "    <tr>\n",
       "      <th>23881</th>\n",
       "      <td>bpd</td>\n",
       "      <td>2017-08-16</td>\n",
       "      <td>quetiapine</td>\n",
       "      <td>na</td>\n",
       "      <td>156</td>\n",
       "      <td>8.2</td>\n",
       "      <td>help stability mood help insomnia start experi...</td>\n",
       "      <td>1.000000</td>\n",
       "      <td>-1.000000</td>\n",
       "      <td>train</td>\n",
       "      <td>7.0</td>\n",
       "      <td>0.825203</td>\n",
       "    </tr>\n",
       "    <tr>\n",
       "      <th>16374</th>\n",
       "      <td>depression</td>\n",
       "      <td>2014-09-19</td>\n",
       "      <td>fluoxetine</td>\n",
       "      <td>prozac</td>\n",
       "      <td>66</td>\n",
       "      <td>-0.4</td>\n",
       "      <td>crazy eat sleep sit</td>\n",
       "      <td>0.900000</td>\n",
       "      <td>-0.600000</td>\n",
       "      <td>train</td>\n",
       "      <td>2.0</td>\n",
       "      <td>0.467668</td>\n",
       "    </tr>\n",
       "  </tbody>\n",
       "</table>\n",
       "</div>"
      ],
      "text/plain": [
       "        condition       date         drug0    drug1  review_len  complexity  \\\n",
       "3172      anxiety 2013-12-14  escitalopram  lexapro          36        -1.2   \n",
       "21607     anxiety 2017-03-13    pregabalin       na         547         5.4   \n",
       "28990  depression 2016-10-16   mirtazapine       na         390         4.8   \n",
       "23881         bpd 2017-08-16    quetiapine       na         156         8.2   \n",
       "16374  depression 2014-09-19    fluoxetine   prozac          66        -0.4   \n",
       "\n",
       "                                        no_stop_cap_lemm  subjectivity  \\\n",
       "3172                                   good give run gas      0.600000   \n",
       "21607  75 mg x daily no noticeable effect 150 mg x da...      0.343056   \n",
       "28990  take 145 mg 10 year fantastic insomnia really ...      0.591667   \n",
       "23881  help stability mood help insomnia start experi...      1.000000   \n",
       "16374                                crazy eat sleep sit      0.900000   \n",
       "\n",
       "       original_polarity    set  rating  similarity_w_10  \n",
       "3172            0.700000  train     9.0         0.640050  \n",
       "21607           0.031439  train     8.0         0.841263  \n",
       "28990           0.096296  train     8.0         0.922576  \n",
       "23881          -1.000000  train     7.0         0.825203  \n",
       "16374          -0.600000  train     2.0         0.467668  "
      ]
     },
     "execution_count": 136,
     "metadata": {},
     "output_type": "execute_result"
    }
   ],
   "source": [
    "df = df.drop(columns=['similarity_w_9', 'similarity_w_8', 'similarity_w_7', 'similarity_w_6', \n",
    "                      'similarity_w_5', 'similarity_w_4', 'similarity_w_3', 'similarity_w_2', \n",
    "                      'similarity_w_1'])\n",
    "df.head()"
   ]
  },
  {
   "cell_type": "markdown",
   "id": "71c18141",
   "metadata": {},
   "source": [
    "Several of these columns so far, if combined with the feature engineering done by CountVectorizer, could support solid modeling. Try a more advanced word embedding technique with GloVe. \n",
    "\n",
    "<font color='violet'> Explore GloVe. "
   ]
  },
  {
   "cell_type": "code",
   "execution_count": null,
   "id": "be5c84b0",
   "metadata": {},
   "outputs": [],
   "source": []
  },
  {
   "cell_type": "markdown",
   "id": "96a1c65c",
   "metadata": {},
   "source": [
    "I drew some code from this resource: https://www.kaggle.com/code/abhishek/approaching-almost-any-nlp-problem-on-kaggle/notebook\n",
    "\n",
    "Other resources to check out:\n",
    "- Try using huggingface based on example here: https://towardsdatascience.com/a-beginners-guide-to-use-bert-for-the-first-time-2e99b8c5423\n",
    "- re: using spacy's visualizer: https://medium.com/acing-ai/visualizations-in-natural-language-processing-2ca60dd34ce\n",
    "- Come back to this resource used in the previous notebook; it also contains info re: visualizing word embeddings: Still especially interested in digging deeper with visualizing word embeddings: https://medium.com/plotly/nlp-visualisations-for-clear-immediate-insights-into-text-data-and-outputs-9ebfab168d5b\n",
    "    "
   ]
  },
  {
   "cell_type": "code",
   "execution_count": null,
   "id": "203b03cd",
   "metadata": {},
   "outputs": [],
   "source": []
  }
 ],
 "metadata": {
  "kernelspec": {
   "display_name": "Python 3 (ipykernel)",
   "language": "python",
   "name": "python3"
  },
  "language_info": {
   "codemirror_mode": {
    "name": "ipython",
    "version": 3
   },
   "file_extension": ".py",
   "mimetype": "text/x-python",
   "name": "python",
   "nbconvert_exporter": "python",
   "pygments_lexer": "ipython3",
   "version": "3.9.15"
  }
 },
 "nbformat": 4,
 "nbformat_minor": 5
}
