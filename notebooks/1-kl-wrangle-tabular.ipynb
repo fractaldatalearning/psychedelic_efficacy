{
 "cells": [
  {
   "cell_type": "markdown",
   "id": "39026aa8",
   "metadata": {},
   "source": [
    "# <font color='violet'> Data Wrangling\n",
    "\n",
    "Before doing any work with psychedelic experience reports, I need to create a predictive model using labeled data from formal studies of the effects of prescription psych meds. Several studies' results will be combined here to form one large dataset with which to build a model. Data comes from the following sources:\n",
    "    \n",
    "    - https://archive.ics.uci.edu/ml/datasets/Drug+Review+Dataset+%28Druglib.com%29\n",
    "    - https://archive.ics.uci.edu/ml/datasets/Drug+Review+Dataset+%28Drugs.com%29\n",
    "    - https://www.askapatient.com/store/#!/Psytar-Data-Set/p/449080512/category=129206256\n"
   ]
  },
  {
   "cell_type": "code",
   "execution_count": 1,
   "id": "660d69ee",
   "metadata": {},
   "outputs": [],
   "source": [
    "# ! pip install pandas"
   ]
  },
  {
   "cell_type": "code",
   "execution_count": 2,
   "id": "c7643235",
   "metadata": {},
   "outputs": [],
   "source": [
    "import pandas as pd"
   ]
  },
  {
   "cell_type": "code",
   "execution_count": 3,
   "id": "cbdd66dc",
   "metadata": {},
   "outputs": [
    {
     "name": "stdout",
     "output_type": "stream",
     "text": [
      "Index(['Unnamed: 0', 'drugName', 'condition', 'review', 'rating', 'date',\n",
      "       'usefulCount'],\n",
      "      dtype='object') Index(['Unnamed: 0', 'drugName', 'condition', 'review', 'rating', 'date',\n",
      "       'usefulCount'],\n",
      "      dtype='object') (53766, 7) (161297, 7)\n"
     ]
    }
   ],
   "source": [
    "# Concatenate two sets from drugs.com \n",
    "drugs_dotcom_train = pd.read_csv('../data/raw/drugsComTrain_raw.tsv', sep='\\t')\n",
    "drugs_dotcom_test = pd.read_csv('../data/raw/drugsComTest_raw.tsv', sep='\\t')\n",
    "\n",
    "print(drugs_dotcom_test.columns, drugs_dotcom_train.columns, drugs_dotcom_test.shape, \n",
    "      drugs_dotcom_train.shape)"
   ]
  },
  {
   "cell_type": "code",
   "execution_count": 4,
   "id": "d65a8b9e",
   "metadata": {},
   "outputs": [
    {
     "name": "stdout",
     "output_type": "stream",
     "text": [
      "<class 'pandas.core.frame.DataFrame'>\n",
      "Int64Index: 215063 entries, 0 to 161296\n",
      "Data columns (total 7 columns):\n",
      " #   Column       Non-Null Count   Dtype  \n",
      "---  ------       --------------   -----  \n",
      " 0   Unnamed: 0   215063 non-null  int64  \n",
      " 1   drugName     215063 non-null  object \n",
      " 2   condition    213869 non-null  object \n",
      " 3   review       215063 non-null  object \n",
      " 4   rating       215063 non-null  float64\n",
      " 5   date         215063 non-null  object \n",
      " 6   usefulCount  215063 non-null  int64  \n",
      "dtypes: float64(1), int64(2), object(4)\n",
      "memory usage: 13.1+ MB\n"
     ]
    }
   ],
   "source": [
    "drugs_dotcom = pd.concat([drugs_dotcom_test, drugs_dotcom_train])\n",
    "drugs_dotcom.info()"
   ]
  },
  {
   "cell_type": "code",
   "execution_count": 5,
   "id": "1f2f5a85",
   "metadata": {},
   "outputs": [
    {
     "name": "stdout",
     "output_type": "stream",
     "text": [
      "Index(['Unnamed: 0', 'urlDrugName', 'rating', 'effectiveness', 'sideEffects',\n",
      "       'condition', 'benefitsReview', 'sideEffectsReview', 'commentsReview'],\n",
      "      dtype='object') Index(['Unnamed: 0', 'urlDrugName', 'rating', 'effectiveness', 'sideEffects',\n",
      "       'condition', 'benefitsReview', 'sideEffectsReview', 'commentsReview'],\n",
      "      dtype='object') (3107, 9) (1036, 9)\n"
     ]
    }
   ],
   "source": [
    "# Do the same with data from druglib\n",
    "druglib_train = pd.read_csv('../data/raw/drugLibTrain_raw.tsv', sep='\\t')\n",
    "druglib_test = pd.read_csv('../data/raw/drugLibTest_raw.tsv', sep='\\t')\n",
    "\n",
    "print(druglib_train.columns, druglib_test.columns, druglib_train.shape, druglib_test.shape)"
   ]
  },
  {
   "cell_type": "code",
   "execution_count": 6,
   "id": "8e2364df",
   "metadata": {},
   "outputs": [
    {
     "name": "stdout",
     "output_type": "stream",
     "text": [
      "<class 'pandas.core.frame.DataFrame'>\n",
      "Int64Index: 4143 entries, 0 to 1035\n",
      "Data columns (total 9 columns):\n",
      " #   Column             Non-Null Count  Dtype \n",
      "---  ------             --------------  ----- \n",
      " 0   Unnamed: 0         4143 non-null   int64 \n",
      " 1   urlDrugName        4143 non-null   object\n",
      " 2   rating             4143 non-null   int64 \n",
      " 3   effectiveness      4143 non-null   object\n",
      " 4   sideEffects        4143 non-null   object\n",
      " 5   condition          4142 non-null   object\n",
      " 6   benefitsReview     4143 non-null   object\n",
      " 7   sideEffectsReview  4141 non-null   object\n",
      " 8   commentsReview     4135 non-null   object\n",
      "dtypes: int64(2), object(7)\n",
      "memory usage: 323.7+ KB\n"
     ]
    }
   ],
   "source": [
    "druglib = pd.concat([druglib_train, druglib_test])\n",
    "druglib.info()"
   ]
  },
  {
   "cell_type": "code",
   "execution_count": 7,
   "id": "d132c39b",
   "metadata": {},
   "outputs": [
    {
     "name": "stdout",
     "output_type": "stream",
     "text": [
      "<class 'pandas.core.frame.DataFrame'>\n",
      "RangeIndex: 891 entries, 0 to 890\n",
      "Data columns (total 13 columns):\n",
      " #   Column           Non-Null Count  Dtype  \n",
      "---  ------           --------------  -----  \n",
      " 0   index            891 non-null    int64  \n",
      " 1   comment_index    891 non-null    int64  \n",
      " 2   comment_id       891 non-null    int64  \n",
      " 3   drug_id          891 non-null    object \n",
      " 4   rating           891 non-null    int64  \n",
      " 5   disorder         891 non-null    object \n",
      " 6   side-effect      877 non-null    object \n",
      " 7   comment          768 non-null    object \n",
      " 8   gender           881 non-null    object \n",
      " 9   age              879 non-null    float64\n",
      " 10  dosage_duration  888 non-null    object \n",
      " 11  date             891 non-null    object \n",
      " 12  category         891 non-null    object \n",
      "dtypes: float64(1), int64(4), object(8)\n",
      "memory usage: 90.6+ KB\n"
     ]
    }
   ],
   "source": [
    "# Finally, import from psytar\n",
    "psytar = pd.read_csv('../data/raw/PsyTAR_dataset_samples.csv')\n",
    "psytar.info()"
   ]
  },
  {
   "cell_type": "markdown",
   "id": "ef683a18",
   "metadata": {},
   "source": [
    "**<font color='violet'>Find a way to combine datasets</font>**"
   ]
  },
  {
   "cell_type": "code",
   "execution_count": 8,
   "id": "c2606730",
   "metadata": {},
   "outputs": [
    {
     "name": "stdout",
     "output_type": "stream",
     "text": [
      "Index(['Unnamed: 0', 'drugName', 'condition', 'review', 'rating', 'date',\n",
      "       'usefulCount'],\n",
      "      dtype='object')\n",
      "Index(['Unnamed: 0', 'urlDrugName', 'rating', 'effectiveness', 'sideEffects',\n",
      "       'condition', 'benefitsReview', 'sideEffectsReview', 'commentsReview'],\n",
      "      dtype='object')\n"
     ]
    }
   ],
   "source": [
    "print(drugs_dotcom.columns)\n",
    "print(druglib.columns)"
   ]
  },
  {
   "cell_type": "code",
   "execution_count": 9,
   "id": "766b6f7c",
   "metadata": {},
   "outputs": [
    {
     "data": {
      "text/html": [
       "<div>\n",
       "<style scoped>\n",
       "    .dataframe tbody tr th:only-of-type {\n",
       "        vertical-align: middle;\n",
       "    }\n",
       "\n",
       "    .dataframe tbody tr th {\n",
       "        vertical-align: top;\n",
       "    }\n",
       "\n",
       "    .dataframe thead th {\n",
       "        text-align: right;\n",
       "    }\n",
       "</style>\n",
       "<table border=\"1\" class=\"dataframe\">\n",
       "  <thead>\n",
       "    <tr style=\"text-align: right;\">\n",
       "      <th></th>\n",
       "      <th>Unnamed: 0</th>\n",
       "      <th>drugName</th>\n",
       "      <th>condition</th>\n",
       "      <th>review</th>\n",
       "      <th>rating</th>\n",
       "      <th>date</th>\n",
       "      <th>usefulCount</th>\n",
       "    </tr>\n",
       "  </thead>\n",
       "  <tbody>\n",
       "    <tr>\n",
       "      <th>0</th>\n",
       "      <td>163740</td>\n",
       "      <td>Mirtazapine</td>\n",
       "      <td>Depression</td>\n",
       "      <td>\"I&amp;#039;ve tried a few antidepressants over th...</td>\n",
       "      <td>10.0</td>\n",
       "      <td>February 28, 2012</td>\n",
       "      <td>22</td>\n",
       "    </tr>\n",
       "    <tr>\n",
       "      <th>1</th>\n",
       "      <td>206473</td>\n",
       "      <td>Mesalamine</td>\n",
       "      <td>Crohn's Disease, Maintenance</td>\n",
       "      <td>\"My son has Crohn&amp;#039;s disease and has done ...</td>\n",
       "      <td>8.0</td>\n",
       "      <td>May 17, 2009</td>\n",
       "      <td>17</td>\n",
       "    </tr>\n",
       "    <tr>\n",
       "      <th>2</th>\n",
       "      <td>159672</td>\n",
       "      <td>Bactrim</td>\n",
       "      <td>Urinary Tract Infection</td>\n",
       "      <td>\"Quick reduction of symptoms\"</td>\n",
       "      <td>9.0</td>\n",
       "      <td>September 29, 2017</td>\n",
       "      <td>3</td>\n",
       "    </tr>\n",
       "    <tr>\n",
       "      <th>3</th>\n",
       "      <td>39293</td>\n",
       "      <td>Contrave</td>\n",
       "      <td>Weight Loss</td>\n",
       "      <td>\"Contrave combines drugs that were used for al...</td>\n",
       "      <td>9.0</td>\n",
       "      <td>March 5, 2017</td>\n",
       "      <td>35</td>\n",
       "    </tr>\n",
       "    <tr>\n",
       "      <th>4</th>\n",
       "      <td>97768</td>\n",
       "      <td>Cyclafem 1 / 35</td>\n",
       "      <td>Birth Control</td>\n",
       "      <td>\"I have been on this birth control for one cyc...</td>\n",
       "      <td>9.0</td>\n",
       "      <td>October 22, 2015</td>\n",
       "      <td>4</td>\n",
       "    </tr>\n",
       "  </tbody>\n",
       "</table>\n",
       "</div>"
      ],
      "text/plain": [
       "   Unnamed: 0         drugName                     condition  \\\n",
       "0      163740      Mirtazapine                    Depression   \n",
       "1      206473       Mesalamine  Crohn's Disease, Maintenance   \n",
       "2      159672          Bactrim       Urinary Tract Infection   \n",
       "3       39293         Contrave                   Weight Loss   \n",
       "4       97768  Cyclafem 1 / 35                 Birth Control   \n",
       "\n",
       "                                              review  rating  \\\n",
       "0  \"I&#039;ve tried a few antidepressants over th...    10.0   \n",
       "1  \"My son has Crohn&#039;s disease and has done ...     8.0   \n",
       "2                      \"Quick reduction of symptoms\"     9.0   \n",
       "3  \"Contrave combines drugs that were used for al...     9.0   \n",
       "4  \"I have been on this birth control for one cyc...     9.0   \n",
       "\n",
       "                 date  usefulCount  \n",
       "0   February 28, 2012           22  \n",
       "1        May 17, 2009           17  \n",
       "2  September 29, 2017            3  \n",
       "3       March 5, 2017           35  \n",
       "4    October 22, 2015            4  "
      ]
     },
     "execution_count": 9,
     "metadata": {},
     "output_type": "execute_result"
    }
   ],
   "source": [
    "# These tables have drugname, condition, and rating in common. \n",
    "# Perhaps one of druglib's review cols pairs well with drugs.com's review col\n",
    "drugs_dotcom.head()"
   ]
  },
  {
   "cell_type": "code",
   "execution_count": 10,
   "id": "43b9124c",
   "metadata": {},
   "outputs": [
    {
     "data": {
      "text/html": [
       "<div>\n",
       "<style scoped>\n",
       "    .dataframe tbody tr th:only-of-type {\n",
       "        vertical-align: middle;\n",
       "    }\n",
       "\n",
       "    .dataframe tbody tr th {\n",
       "        vertical-align: top;\n",
       "    }\n",
       "\n",
       "    .dataframe thead th {\n",
       "        text-align: right;\n",
       "    }\n",
       "</style>\n",
       "<table border=\"1\" class=\"dataframe\">\n",
       "  <thead>\n",
       "    <tr style=\"text-align: right;\">\n",
       "      <th></th>\n",
       "      <th>Unnamed: 0</th>\n",
       "      <th>urlDrugName</th>\n",
       "      <th>rating</th>\n",
       "      <th>effectiveness</th>\n",
       "      <th>sideEffects</th>\n",
       "      <th>condition</th>\n",
       "      <th>benefitsReview</th>\n",
       "      <th>sideEffectsReview</th>\n",
       "      <th>commentsReview</th>\n",
       "    </tr>\n",
       "  </thead>\n",
       "  <tbody>\n",
       "    <tr>\n",
       "      <th>0</th>\n",
       "      <td>2202</td>\n",
       "      <td>enalapril</td>\n",
       "      <td>4</td>\n",
       "      <td>Highly Effective</td>\n",
       "      <td>Mild Side Effects</td>\n",
       "      <td>management of congestive heart failure</td>\n",
       "      <td>slowed the progression of left ventricular dys...</td>\n",
       "      <td>cough, hypotension , proteinuria, impotence , ...</td>\n",
       "      <td>monitor blood pressure , weight and asses for ...</td>\n",
       "    </tr>\n",
       "    <tr>\n",
       "      <th>1</th>\n",
       "      <td>3117</td>\n",
       "      <td>ortho-tri-cyclen</td>\n",
       "      <td>1</td>\n",
       "      <td>Highly Effective</td>\n",
       "      <td>Severe Side Effects</td>\n",
       "      <td>birth prevention</td>\n",
       "      <td>Although this type of birth control has more c...</td>\n",
       "      <td>Heavy Cycle, Cramps, Hot Flashes, Fatigue, Lon...</td>\n",
       "      <td>I Hate This Birth Control, I Would Not Suggest...</td>\n",
       "    </tr>\n",
       "    <tr>\n",
       "      <th>2</th>\n",
       "      <td>1146</td>\n",
       "      <td>ponstel</td>\n",
       "      <td>10</td>\n",
       "      <td>Highly Effective</td>\n",
       "      <td>No Side Effects</td>\n",
       "      <td>menstrual cramps</td>\n",
       "      <td>I was used to having cramps so badly that they...</td>\n",
       "      <td>Heavier bleeding and clotting than normal.</td>\n",
       "      <td>I took 2 pills at the onset of my menstrual cr...</td>\n",
       "    </tr>\n",
       "    <tr>\n",
       "      <th>3</th>\n",
       "      <td>3947</td>\n",
       "      <td>prilosec</td>\n",
       "      <td>3</td>\n",
       "      <td>Marginally Effective</td>\n",
       "      <td>Mild Side Effects</td>\n",
       "      <td>acid reflux</td>\n",
       "      <td>The acid reflux went away for a few months aft...</td>\n",
       "      <td>Constipation, dry mouth and some mild dizzines...</td>\n",
       "      <td>I was given Prilosec prescription at a dose of...</td>\n",
       "    </tr>\n",
       "    <tr>\n",
       "      <th>4</th>\n",
       "      <td>1951</td>\n",
       "      <td>lyrica</td>\n",
       "      <td>2</td>\n",
       "      <td>Marginally Effective</td>\n",
       "      <td>Severe Side Effects</td>\n",
       "      <td>fibromyalgia</td>\n",
       "      <td>I think that the Lyrica was starting to help w...</td>\n",
       "      <td>I felt extremely drugged and dopey.  Could not...</td>\n",
       "      <td>See above</td>\n",
       "    </tr>\n",
       "  </tbody>\n",
       "</table>\n",
       "</div>"
      ],
      "text/plain": [
       "   Unnamed: 0       urlDrugName  rating         effectiveness  \\\n",
       "0        2202         enalapril       4      Highly Effective   \n",
       "1        3117  ortho-tri-cyclen       1      Highly Effective   \n",
       "2        1146           ponstel      10      Highly Effective   \n",
       "3        3947          prilosec       3  Marginally Effective   \n",
       "4        1951            lyrica       2  Marginally Effective   \n",
       "\n",
       "           sideEffects                               condition  \\\n",
       "0    Mild Side Effects  management of congestive heart failure   \n",
       "1  Severe Side Effects                        birth prevention   \n",
       "2      No Side Effects                        menstrual cramps   \n",
       "3    Mild Side Effects                             acid reflux   \n",
       "4  Severe Side Effects                            fibromyalgia   \n",
       "\n",
       "                                      benefitsReview  \\\n",
       "0  slowed the progression of left ventricular dys...   \n",
       "1  Although this type of birth control has more c...   \n",
       "2  I was used to having cramps so badly that they...   \n",
       "3  The acid reflux went away for a few months aft...   \n",
       "4  I think that the Lyrica was starting to help w...   \n",
       "\n",
       "                                   sideEffectsReview  \\\n",
       "0  cough, hypotension , proteinuria, impotence , ...   \n",
       "1  Heavy Cycle, Cramps, Hot Flashes, Fatigue, Lon...   \n",
       "2         Heavier bleeding and clotting than normal.   \n",
       "3  Constipation, dry mouth and some mild dizzines...   \n",
       "4  I felt extremely drugged and dopey.  Could not...   \n",
       "\n",
       "                                      commentsReview  \n",
       "0  monitor blood pressure , weight and asses for ...  \n",
       "1  I Hate This Birth Control, I Would Not Suggest...  \n",
       "2  I took 2 pills at the onset of my menstrual cr...  \n",
       "3  I was given Prilosec prescription at a dose of...  \n",
       "4                                          See above  "
      ]
     },
     "execution_count": 10,
     "metadata": {},
     "output_type": "execute_result"
    }
   ],
   "source": [
    "druglib.head()"
   ]
  },
  {
   "cell_type": "code",
   "execution_count": 11,
   "id": "f948e7c4",
   "metadata": {},
   "outputs": [
    {
     "name": "stdout",
     "output_type": "stream",
     "text": [
      "<class 'pandas.core.frame.DataFrame'>\n",
      "Int64Index: 219206 entries, 0 to 219205\n",
      "Data columns (total 11 columns):\n",
      " #   Column             Non-Null Count   Dtype  \n",
      "---  ------             --------------   -----  \n",
      " 0   Unnamed: 0         219206 non-null  int64  \n",
      " 1   drugName           219206 non-null  object \n",
      " 2   rating             219206 non-null  float64\n",
      " 3   effectiveness      4143 non-null    object \n",
      " 4   sideEffects        4143 non-null    object \n",
      " 5   condition          218011 non-null  object \n",
      " 6   benefitsReview     4143 non-null    object \n",
      " 7   sideEffectsReview  4141 non-null    object \n",
      " 8   review             219198 non-null  object \n",
      " 9   date               215063 non-null  object \n",
      " 10  usefulCount        215063 non-null  float64\n",
      "dtypes: float64(2), int64(1), object(8)\n",
      "memory usage: 20.1+ MB\n"
     ]
    }
   ],
   "source": [
    "# It seems that \"comments review\" is a general product review in druglib. \n",
    "# This can be merged with \"review\" in drugs.com.\n",
    "\n",
    "druglib.columns = ['Unnamed: 0', 'drugName', 'rating', 'effectiveness', 'sideEffects',\n",
    "       'condition', 'benefitsReview', 'sideEffectsReview', 'review']\n",
    "\n",
    "druglib_dotcom = pd.merge(left=druglib, right=drugs_dotcom, how='outer')\n",
    "druglib_dotcom.info()"
   ]
  },
  {
   "cell_type": "code",
   "execution_count": 12,
   "id": "1b47f4b3",
   "metadata": {},
   "outputs": [
    {
     "data": {
      "text/html": [
       "<div>\n",
       "<style scoped>\n",
       "    .dataframe tbody tr th:only-of-type {\n",
       "        vertical-align: middle;\n",
       "    }\n",
       "\n",
       "    .dataframe tbody tr th {\n",
       "        vertical-align: top;\n",
       "    }\n",
       "\n",
       "    .dataframe thead th {\n",
       "        text-align: right;\n",
       "    }\n",
       "</style>\n",
       "<table border=\"1\" class=\"dataframe\">\n",
       "  <thead>\n",
       "    <tr style=\"text-align: right;\">\n",
       "      <th></th>\n",
       "      <th>index</th>\n",
       "      <th>comment_index</th>\n",
       "      <th>comment_id</th>\n",
       "      <th>drug_id</th>\n",
       "      <th>rating</th>\n",
       "      <th>disorder</th>\n",
       "      <th>side-effect</th>\n",
       "      <th>comment</th>\n",
       "      <th>gender</th>\n",
       "      <th>age</th>\n",
       "      <th>dosage_duration</th>\n",
       "      <th>date</th>\n",
       "      <th>category</th>\n",
       "    </tr>\n",
       "  </thead>\n",
       "  <tbody>\n",
       "    <tr>\n",
       "      <th>0</th>\n",
       "      <td>1</td>\n",
       "      <td>372</td>\n",
       "      <td>1</td>\n",
       "      <td>lexapro.1</td>\n",
       "      <td>1</td>\n",
       "      <td>depression and anxiety</td>\n",
       "      <td>extreme weight gain, short-term memory loss, h...</td>\n",
       "      <td>I am detoxing from Lexapro now. I slowly cut m...</td>\n",
       "      <td>F</td>\n",
       "      <td>39.0</td>\n",
       "      <td>5  years20mg 1X D</td>\n",
       "      <td>2011-02-21 0:00:00</td>\n",
       "      <td>ssri</td>\n",
       "    </tr>\n",
       "    <tr>\n",
       "      <th>1</th>\n",
       "      <td>2</td>\n",
       "      <td>4</td>\n",
       "      <td>2</td>\n",
       "      <td>lexapro.2</td>\n",
       "      <td>1</td>\n",
       "      <td>depression</td>\n",
       "      <td>COMPLETELY DESTROYED SEXUALLY FUNCTIONING - EV...</td>\n",
       "      <td>Just TWO tablets of Lexapro 10mg completely de...</td>\n",
       "      <td>M</td>\n",
       "      <td>40.0</td>\n",
       "      <td>2  days10mg 1X D</td>\n",
       "      <td>2016-08-21 0:00:00</td>\n",
       "      <td>ssri</td>\n",
       "    </tr>\n",
       "    <tr>\n",
       "      <th>2</th>\n",
       "      <td>3</td>\n",
       "      <td>419</td>\n",
       "      <td>3</td>\n",
       "      <td>lexapro.3</td>\n",
       "      <td>1</td>\n",
       "      <td>depression</td>\n",
       "      <td>Nausea, Blurred Vision, 3 to 5 hours sleep, Su...</td>\n",
       "      <td>Be careful with this medication.  This was my ...</td>\n",
       "      <td>M</td>\n",
       "      <td>50.0</td>\n",
       "      <td>2  days10mg 1X D</td>\n",
       "      <td>2010-10-04 0:00:00</td>\n",
       "      <td>ssri</td>\n",
       "    </tr>\n",
       "    <tr>\n",
       "      <th>3</th>\n",
       "      <td>4</td>\n",
       "      <td>1305</td>\n",
       "      <td>4</td>\n",
       "      <td>lexapro.4</td>\n",
       "      <td>1</td>\n",
       "      <td>severe gad, minor depression, etc</td>\n",
       "      <td>Plenty! First 10 days were HORRIBLE, like a lo...</td>\n",
       "      <td>It didn't help me out, at all. My anxiety is w...</td>\n",
       "      <td>M</td>\n",
       "      <td>20.0</td>\n",
       "      <td>7  weeks</td>\n",
       "      <td>2007-07-05 0:00:00</td>\n",
       "      <td>ssri</td>\n",
       "    </tr>\n",
       "    <tr>\n",
       "      <th>4</th>\n",
       "      <td>5</td>\n",
       "      <td>909</td>\n",
       "      <td>5</td>\n",
       "      <td>lexapro.5</td>\n",
       "      <td>1</td>\n",
       "      <td>depression, anxiety</td>\n",
       "      <td>Chronic cough, weight gain, no sexual interest...</td>\n",
       "      <td>I would not suggest taking this medication. I ...</td>\n",
       "      <td>F</td>\n",
       "      <td>43.0</td>\n",
       "      <td>2  months</td>\n",
       "      <td>2008-10-04 0:00:00</td>\n",
       "      <td>ssri</td>\n",
       "    </tr>\n",
       "  </tbody>\n",
       "</table>\n",
       "</div>"
      ],
      "text/plain": [
       "   index  comment_index  comment_id    drug_id  rating  \\\n",
       "0      1            372           1  lexapro.1       1   \n",
       "1      2              4           2  lexapro.2       1   \n",
       "2      3            419           3  lexapro.3       1   \n",
       "3      4           1305           4  lexapro.4       1   \n",
       "4      5            909           5  lexapro.5       1   \n",
       "\n",
       "                            disorder  \\\n",
       "0             depression and anxiety   \n",
       "1                         depression   \n",
       "2                         depression   \n",
       "3  severe gad, minor depression, etc   \n",
       "4                depression, anxiety   \n",
       "\n",
       "                                         side-effect  \\\n",
       "0  extreme weight gain, short-term memory loss, h...   \n",
       "1  COMPLETELY DESTROYED SEXUALLY FUNCTIONING - EV...   \n",
       "2  Nausea, Blurred Vision, 3 to 5 hours sleep, Su...   \n",
       "3  Plenty! First 10 days were HORRIBLE, like a lo...   \n",
       "4  Chronic cough, weight gain, no sexual interest...   \n",
       "\n",
       "                                             comment gender   age  \\\n",
       "0  I am detoxing from Lexapro now. I slowly cut m...      F  39.0   \n",
       "1  Just TWO tablets of Lexapro 10mg completely de...      M  40.0   \n",
       "2  Be careful with this medication.  This was my ...      M  50.0   \n",
       "3  It didn't help me out, at all. My anxiety is w...      M  20.0   \n",
       "4  I would not suggest taking this medication. I ...      F  43.0   \n",
       "\n",
       "     dosage_duration                date category  \n",
       "0  5  years20mg 1X D  2011-02-21 0:00:00     ssri  \n",
       "1   2  days10mg 1X D  2016-08-21 0:00:00     ssri  \n",
       "2   2  days10mg 1X D  2010-10-04 0:00:00     ssri  \n",
       "3           7  weeks  2007-07-05 0:00:00     ssri  \n",
       "4          2  months  2008-10-04 0:00:00     ssri  "
      ]
     },
     "execution_count": 12,
     "metadata": {},
     "output_type": "execute_result"
    }
   ],
   "source": [
    "# What about the third dataset?\n",
    "psytar.head()"
   ]
  },
  {
   "cell_type": "code",
   "execution_count": 13,
   "id": "8b71071b",
   "metadata": {},
   "outputs": [
    {
     "data": {
      "text/plain": [
       "Index(['index', 'comment_index', 'comment_id', 'drug_id', 'rating', 'disorder',\n",
       "       'side-effect', 'comment', 'gender', 'age', 'dosage_duration', 'date',\n",
       "       'category'],\n",
       "      dtype='object')"
      ]
     },
     "execution_count": 13,
     "metadata": {},
     "output_type": "execute_result"
    }
   ],
   "source": [
    "psytar.columns"
   ]
  },
  {
   "cell_type": "code",
   "execution_count": 14,
   "id": "60bddad2",
   "metadata": {},
   "outputs": [
    {
     "data": {
      "text/plain": [
       "Index(['index', 'comment_index', 'comment_id', 'drugName', 'rating',\n",
       "       'condition', 'sideEffects', 'review', 'gender', 'age',\n",
       "       'dosage_duration', 'date', 'category'],\n",
       "      dtype='object')"
      ]
     },
     "execution_count": 14,
     "metadata": {},
     "output_type": "execute_result"
    }
   ],
   "source": [
    "psytar.columns = ['index', 'comment_index', 'comment_id', 'drugName', 'rating', 'condition',\n",
    "       'sideEffects', 'review', 'gender', 'age', 'dosage_duration', 'date',\n",
    "       'category']\n",
    "\n",
    "psytar.columns"
   ]
  },
  {
   "cell_type": "code",
   "execution_count": 15,
   "id": "38eb7b77",
   "metadata": {},
   "outputs": [
    {
     "data": {
      "text/html": [
       "<div>\n",
       "<style scoped>\n",
       "    .dataframe tbody tr th:only-of-type {\n",
       "        vertical-align: middle;\n",
       "    }\n",
       "\n",
       "    .dataframe tbody tr th {\n",
       "        vertical-align: top;\n",
       "    }\n",
       "\n",
       "    .dataframe thead th {\n",
       "        text-align: right;\n",
       "    }\n",
       "</style>\n",
       "<table border=\"1\" class=\"dataframe\">\n",
       "  <thead>\n",
       "    <tr style=\"text-align: right;\">\n",
       "      <th></th>\n",
       "      <th>Unnamed: 0</th>\n",
       "      <th>drugName</th>\n",
       "      <th>rating</th>\n",
       "      <th>effectiveness</th>\n",
       "      <th>sideEffects</th>\n",
       "      <th>condition</th>\n",
       "      <th>benefitsReview</th>\n",
       "      <th>sideEffectsReview</th>\n",
       "      <th>review</th>\n",
       "      <th>date</th>\n",
       "      <th>usefulCount</th>\n",
       "      <th>index</th>\n",
       "      <th>comment_index</th>\n",
       "      <th>comment_id</th>\n",
       "      <th>gender</th>\n",
       "      <th>age</th>\n",
       "      <th>dosage_duration</th>\n",
       "      <th>category</th>\n",
       "    </tr>\n",
       "  </thead>\n",
       "  <tbody>\n",
       "    <tr>\n",
       "      <th>0</th>\n",
       "      <td>2202.0</td>\n",
       "      <td>enalapril</td>\n",
       "      <td>4.0</td>\n",
       "      <td>Highly Effective</td>\n",
       "      <td>Mild Side Effects</td>\n",
       "      <td>management of congestive heart failure</td>\n",
       "      <td>slowed the progression of left ventricular dys...</td>\n",
       "      <td>cough, hypotension , proteinuria, impotence , ...</td>\n",
       "      <td>monitor blood pressure , weight and asses for ...</td>\n",
       "      <td>NaN</td>\n",
       "      <td>NaN</td>\n",
       "      <td>NaN</td>\n",
       "      <td>NaN</td>\n",
       "      <td>NaN</td>\n",
       "      <td>NaN</td>\n",
       "      <td>NaN</td>\n",
       "      <td>NaN</td>\n",
       "      <td>NaN</td>\n",
       "    </tr>\n",
       "  </tbody>\n",
       "</table>\n",
       "</div>"
      ],
      "text/plain": [
       "   Unnamed: 0   drugName  rating     effectiveness        sideEffects  \\\n",
       "0      2202.0  enalapril     4.0  Highly Effective  Mild Side Effects   \n",
       "\n",
       "                                condition  \\\n",
       "0  management of congestive heart failure   \n",
       "\n",
       "                                      benefitsReview  \\\n",
       "0  slowed the progression of left ventricular dys...   \n",
       "\n",
       "                                   sideEffectsReview  \\\n",
       "0  cough, hypotension , proteinuria, impotence , ...   \n",
       "\n",
       "                                              review date  usefulCount  index  \\\n",
       "0  monitor blood pressure , weight and asses for ...  NaN          NaN    NaN   \n",
       "\n",
       "   comment_index  comment_id gender  age dosage_duration category  \n",
       "0            NaN         NaN    NaN  NaN             NaN      NaN  "
      ]
     },
     "execution_count": 15,
     "metadata": {},
     "output_type": "execute_result"
    }
   ],
   "source": [
    "df = pd.merge(left=druglib_dotcom, right=psytar, how='outer')\n",
    "df.head(1)"
   ]
  },
  {
   "cell_type": "code",
   "execution_count": 16,
   "id": "4da141ba",
   "metadata": {},
   "outputs": [
    {
     "name": "stdout",
     "output_type": "stream",
     "text": [
      "<class 'pandas.core.frame.DataFrame'>\n",
      "Int64Index: 220097 entries, 0 to 220096\n",
      "Data columns (total 13 columns):\n",
      " #   Column             Non-Null Count   Dtype  \n",
      "---  ------             --------------   -----  \n",
      " 0   drugName           220097 non-null  object \n",
      " 1   rating             220097 non-null  float64\n",
      " 2   effectiveness      4143 non-null    object \n",
      " 3   sideEffects        5020 non-null    object \n",
      " 4   condition          218902 non-null  object \n",
      " 5   benefitsReview     4143 non-null    object \n",
      " 6   sideEffectsReview  4141 non-null    object \n",
      " 7   review             219966 non-null  object \n",
      " 8   date               215954 non-null  object \n",
      " 9   gender             881 non-null     object \n",
      " 10  age                879 non-null     float64\n",
      " 11  dosage_duration    888 non-null     object \n",
      " 12  category           891 non-null     object \n",
      "dtypes: float64(2), object(11)\n",
      "memory usage: 23.5+ MB\n"
     ]
    }
   ],
   "source": [
    "df = df.drop(columns=['Unnamed: 0','index', 'comment_index', 'comment_id', 'usefulCount'])\n",
    "df.info()"
   ]
  },
  {
   "cell_type": "code",
   "execution_count": 17,
   "id": "359680a5",
   "metadata": {},
   "outputs": [],
   "source": [
    "df = df.rename(columns={'drugName':'drug', 'sideEffects':'side_effects', \n",
    "                        'benefitsReview':'benefits', 'sideEffectsReview':'side_effects'})"
   ]
  },
  {
   "cell_type": "code",
   "execution_count": null,
   "id": "be23de41",
   "metadata": {},
   "outputs": [],
   "source": []
  }
 ],
 "metadata": {
  "kernelspec": {
   "display_name": "Python 3 (ipykernel)",
   "language": "python",
   "name": "python3"
  },
  "language_info": {
   "codemirror_mode": {
    "name": "ipython",
    "version": 3
   },
   "file_extension": ".py",
   "mimetype": "text/x-python",
   "name": "python",
   "nbconvert_exporter": "python",
   "pygments_lexer": "ipython3",
   "version": "3.9.15"
  }
 },
 "nbformat": 4,
 "nbformat_minor": 5
}
