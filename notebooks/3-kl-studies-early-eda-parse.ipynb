{
 "cells": [
  {
   "cell_type": "markdown",
   "id": "3a2d0283",
   "metadata": {},
   "source": [
    "# <font color='violet'> Exploration & Parsing\n",
    "Using prescription drug review data wrangled here: https://github.com/fractaldatalearning/psychedelic_efficacy/blob/main/notebooks/2-kl-wrangle_duplicates.ipynb"
   ]
  },
  {
   "cell_type": "code",
   "execution_count": 1,
   "id": "cb2ba9bb",
   "metadata": {},
   "outputs": [],
   "source": [
    "# ! pip install tqdm \n",
    "# !{sys.executable} -m pip install contractions"
   ]
  },
  {
   "cell_type": "code",
   "execution_count": 2,
   "id": "259f1ef3",
   "metadata": {},
   "outputs": [],
   "source": [
    "import numpy as np\n",
    "import pandas as pd\n",
    "import sys\n",
    "import contractions\n",
    "import re\n",
    "import string\n",
    "import matplotlib.pyplot as plt\n",
    "import seaborn as sns\n",
    "from tqdm import tqdm\n",
    "import unicodedata\n",
    "from collections import Counter"
   ]
  },
  {
   "cell_type": "code",
   "execution_count": 3,
   "id": "9731c0a0",
   "metadata": {},
   "outputs": [],
   "source": [
    "# prepare to add local python functions; import modules from src directory\n",
    "src = '../src'\n",
    "sys.path.append(src)\n",
    "\n",
    "# import local functions\n",
    "from nlp.parse import remove_accented_chars, strip_most_punc, strip_apostrophe, \\\n",
    "strip_non_emoji_emoji_symbol"
   ]
  },
  {
   "cell_type": "code",
   "execution_count": 4,
   "id": "2e1fb33d",
   "metadata": {},
   "outputs": [
    {
     "name": "stdout",
     "output_type": "stream",
     "text": [
      "<class 'pandas.core.frame.DataFrame'>\n",
      "RangeIndex: 31559 entries, 0 to 31558\n",
      "Data columns (total 21 columns):\n",
      " #   Column      Non-Null Count  Dtype  \n",
      "---  ------      --------------  -----  \n",
      " 0   Unnamed: 0  31559 non-null  int64  \n",
      " 1   rating      31559 non-null  float64\n",
      " 2   condition   31559 non-null  object \n",
      " 3   review      31559 non-null  object \n",
      " 4   date        31559 non-null  object \n",
      " 5   drug0       31559 non-null  object \n",
      " 6   drug1       18992 non-null  object \n",
      " 7   drug2       32 non-null     object \n",
      " 8   drug3       23 non-null     object \n",
      " 9   drug4       12 non-null     object \n",
      " 10  drug5       11 non-null     object \n",
      " 11  drug6       7 non-null      object \n",
      " 12  drug7       5 non-null      object \n",
      " 13  drug8       3 non-null      object \n",
      " 14  drug9       2 non-null      object \n",
      " 15  drug10      2 non-null      object \n",
      " 16  drug11      2 non-null      object \n",
      " 17  drug12      2 non-null      object \n",
      " 18  drug13      2 non-null      object \n",
      " 19  drug14      1 non-null      object \n",
      " 20  drug15      1 non-null      object \n",
      "dtypes: float64(1), int64(1), object(19)\n",
      "memory usage: 5.1+ MB\n"
     ]
    }
   ],
   "source": [
    "df = pd.read_csv('../data/interim/studies_no_duplicates.csv')\n",
    "df.info()"
   ]
  },
  {
   "cell_type": "code",
   "execution_count": 5,
   "id": "befb84a0",
   "metadata": {},
   "outputs": [
    {
     "data": {
      "text/html": [
       "<div>\n",
       "<style scoped>\n",
       "    .dataframe tbody tr th:only-of-type {\n",
       "        vertical-align: middle;\n",
       "    }\n",
       "\n",
       "    .dataframe tbody tr th {\n",
       "        vertical-align: top;\n",
       "    }\n",
       "\n",
       "    .dataframe thead th {\n",
       "        text-align: right;\n",
       "    }\n",
       "</style>\n",
       "<table border=\"1\" class=\"dataframe\">\n",
       "  <thead>\n",
       "    <tr style=\"text-align: right;\">\n",
       "      <th></th>\n",
       "      <th>rating</th>\n",
       "      <th>condition</th>\n",
       "      <th>review</th>\n",
       "      <th>date</th>\n",
       "      <th>drug0</th>\n",
       "      <th>drug1</th>\n",
       "      <th>drug2</th>\n",
       "      <th>drug3</th>\n",
       "      <th>drug4</th>\n",
       "      <th>drug5</th>\n",
       "      <th>drug6</th>\n",
       "      <th>drug7</th>\n",
       "      <th>drug8</th>\n",
       "      <th>drug9</th>\n",
       "      <th>drug10</th>\n",
       "      <th>drug11</th>\n",
       "      <th>drug12</th>\n",
       "      <th>drug13</th>\n",
       "      <th>drug14</th>\n",
       "      <th>drug15</th>\n",
       "    </tr>\n",
       "  </thead>\n",
       "  <tbody>\n",
       "    <tr>\n",
       "      <th>0</th>\n",
       "      <td>9.0</td>\n",
       "      <td>add</td>\n",
       "      <td>I had began taking 20mg of Vyvanse for three m...</td>\n",
       "      <td>0</td>\n",
       "      <td>vyvanse</td>\n",
       "      <td>NaN</td>\n",
       "      <td>NaN</td>\n",
       "      <td>NaN</td>\n",
       "      <td>NaN</td>\n",
       "      <td>NaN</td>\n",
       "      <td>NaN</td>\n",
       "      <td>NaN</td>\n",
       "      <td>NaN</td>\n",
       "      <td>NaN</td>\n",
       "      <td>NaN</td>\n",
       "      <td>NaN</td>\n",
       "      <td>NaN</td>\n",
       "      <td>NaN</td>\n",
       "      <td>NaN</td>\n",
       "      <td>NaN</td>\n",
       "    </tr>\n",
       "    <tr>\n",
       "      <th>1</th>\n",
       "      <td>8.0</td>\n",
       "      <td>add</td>\n",
       "      <td>Switched from Adderall to Dexedrine to compare...</td>\n",
       "      <td>0</td>\n",
       "      <td>dextroamphetamine</td>\n",
       "      <td>NaN</td>\n",
       "      <td>NaN</td>\n",
       "      <td>NaN</td>\n",
       "      <td>NaN</td>\n",
       "      <td>NaN</td>\n",
       "      <td>NaN</td>\n",
       "      <td>NaN</td>\n",
       "      <td>NaN</td>\n",
       "      <td>NaN</td>\n",
       "      <td>NaN</td>\n",
       "      <td>NaN</td>\n",
       "      <td>NaN</td>\n",
       "      <td>NaN</td>\n",
       "      <td>NaN</td>\n",
       "      <td>NaN</td>\n",
       "    </tr>\n",
       "  </tbody>\n",
       "</table>\n",
       "</div>"
      ],
      "text/plain": [
       "   rating condition                                             review date  \\\n",
       "0     9.0       add  I had began taking 20mg of Vyvanse for three m...    0   \n",
       "1     8.0       add  Switched from Adderall to Dexedrine to compare...    0   \n",
       "\n",
       "               drug0 drug1 drug2 drug3 drug4 drug5 drug6 drug7 drug8 drug9  \\\n",
       "0            vyvanse   NaN   NaN   NaN   NaN   NaN   NaN   NaN   NaN   NaN   \n",
       "1  dextroamphetamine   NaN   NaN   NaN   NaN   NaN   NaN   NaN   NaN   NaN   \n",
       "\n",
       "  drug10 drug11 drug12 drug13 drug14 drug15  \n",
       "0    NaN    NaN    NaN    NaN    NaN    NaN  \n",
       "1    NaN    NaN    NaN    NaN    NaN    NaN  "
      ]
     },
     "execution_count": 5,
     "metadata": {},
     "output_type": "execute_result"
    }
   ],
   "source": [
    "# Drop \"Unnamed\" column; it's redundant with the index\n",
    "df = df.drop(columns=['Unnamed: 0'])\n",
    "df.head(2)"
   ]
  },
  {
   "cell_type": "markdown",
   "id": "6003f8f2",
   "metadata": {},
   "source": [
    "<font color='violet'> Explore each column, starting with drug columns"
   ]
  },
  {
   "cell_type": "code",
   "execution_count": 6,
   "id": "efae90ef",
   "metadata": {},
   "outputs": [
    {
     "data": {
      "text/plain": [
       "368"
      ]
     },
     "execution_count": 6,
     "metadata": {},
     "output_type": "execute_result"
    }
   ],
   "source": [
    "# drug0 holds the name of the most-commonly reviewed drug reviewed for a particular row\n",
    "# How many are there?\n",
    "len(set(df.drug0))"
   ]
  },
  {
   "cell_type": "markdown",
   "id": "33c5ba1c",
   "metadata": {},
   "source": [
    "In the previous notebook, I saw that there were 633 total unique drugs. About 60% of them are represented in the drug0 column, but I'd like to explore using a list of all drugs contained in drug0:drug15 "
   ]
  },
  {
   "cell_type": "code",
   "execution_count": 7,
   "id": "12d7e90a",
   "metadata": {},
   "outputs": [
    {
     "data": {
      "text/plain": [
       "array(['vyvanse', nan, nan, ..., nan, nan, nan], dtype=object)"
      ]
     },
     "execution_count": 7,
     "metadata": {},
     "output_type": "execute_result"
    }
   ],
   "source": [
    "all_drugs = df.loc[:,['drug0','drug1','drug2','drug3','drug4','drug5','drug6','drug7','drug8',\n",
    "                'drug9','drug10','drug11','drug12','drug13','drug14','drug15'\n",
    "                     ]].values.flatten()\n",
    "all_drugs"
   ]
  },
  {
   "cell_type": "code",
   "execution_count": 8,
   "id": "7398b3a1",
   "metadata": {},
   "outputs": [
    {
     "data": {
      "text/plain": [
       "['vyvanse',\n",
       " 'dextroamphetamine',\n",
       " 'vyvanse',\n",
       " 'saizen',\n",
       " 'zyprexa',\n",
       " 'vyvanse',\n",
       " 'vyvanse',\n",
       " 'ritalin-la',\n",
       " 'wellbutrin-sr',\n",
       " 'concerta']"
      ]
     },
     "execution_count": 8,
     "metadata": {},
     "output_type": "execute_result"
    }
   ],
   "source": [
    "all_drugs = list(all_drugs)\n",
    "all_drugs = [d for d in all_drugs if str(d) != 'nan']\n",
    "all_drugs[:10]"
   ]
  },
  {
   "cell_type": "code",
   "execution_count": 9,
   "id": "f117deb5",
   "metadata": {},
   "outputs": [
    {
     "data": {
      "text/plain": [
       "['sertraline',\n",
       " 'escitalopram',\n",
       " 'citalopram',\n",
       " 'bupropion',\n",
       " 'lexapro',\n",
       " 'venlafaxine',\n",
       " 'varenicline',\n",
       " 'zoloft',\n",
       " 'quetiapine',\n",
       " 'clonazepam']"
      ]
     },
     "execution_count": 9,
     "metadata": {},
     "output_type": "execute_result"
    }
   ],
   "source": [
    "counter = Counter(all_drugs)\n",
    "counter_sorted = counter.most_common()\n",
    "freq_drugs = counter_sorted[:10]\n",
    "freq_drugs = list(dict(freq_drugs).keys())\n",
    "freq_drugs"
   ]
  },
  {
   "cell_type": "markdown",
   "id": "7880f582",
   "metadata": {},
   "source": [
    "Alternatively, drugs could be understood by the conditions they treat. For these purposes going forward, just use the drug0 column since it does contain most of the most common drugs. \n",
    "\n",
    "<font color='violet'> Explore conditions"
   ]
  },
  {
   "cell_type": "code",
   "execution_count": 10,
   "id": "78eb9871",
   "metadata": {},
   "outputs": [
    {
     "data": {
      "text/plain": [
       "38"
      ]
     },
     "execution_count": 10,
     "metadata": {},
     "output_type": "execute_result"
    }
   ],
   "source": [
    "len(df.condition.unique())"
   ]
  },
  {
   "cell_type": "code",
   "execution_count": 11,
   "id": "2f967ae8",
   "metadata": {},
   "outputs": [
    {
     "data": {
      "text/plain": [
       "anxiety          9113\n",
       "depression       8367\n",
       "insomnia         3488\n",
       "bipolar          3270\n",
       "addiction        3074\n",
       "hrt               854\n",
       "other             590\n",
       "ocd               479\n",
       "schizophrenia     437\n",
       "ptsd              313\n",
       "Name: condition, dtype: int64"
      ]
     },
     "execution_count": 11,
     "metadata": {},
     "output_type": "execute_result"
    }
   ],
   "source": [
    "freq_conditions = df.condition.value_counts().head(10)\n",
    "freq_conditions"
   ]
  },
  {
   "cell_type": "code",
   "execution_count": 17,
   "id": "f70c1f00",
   "metadata": {},
   "outputs": [
    {
     "data": {
      "text/plain": [
       "condition      drug0       \n",
       "addiction      bupropion        199\n",
       "               clonazepam        17\n",
       "               varenicline     1078\n",
       "               venlafaxine        1\n",
       "anxiety        bupropion         85\n",
       "               citalopram       704\n",
       "               clonazepam       776\n",
       "               escitalopram    1057\n",
       "               quetiapine       100\n",
       "               sertraline       840\n",
       "               venlafaxine      432\n",
       "bipolar        bupropion         41\n",
       "               citalopram         8\n",
       "               clonazepam        77\n",
       "               escitalopram      33\n",
       "               quetiapine       394\n",
       "               sertraline        32\n",
       "               venlafaxine       50\n",
       "depression     bupropion        892\n",
       "               citalopram       535\n",
       "               escitalopram     565\n",
       "               quetiapine       130\n",
       "               sertraline       763\n",
       "               venlafaxine      690\n",
       "hrt            bupropion          3\n",
       "               citalopram        14\n",
       "               escitalopram       8\n",
       "               sertraline        36\n",
       "               venlafaxine        3\n",
       "insomnia       citalopram         1\n",
       "               clonazepam       103\n",
       "               escitalopram       1\n",
       "               quetiapine       243\n",
       "ocd            citalopram        21\n",
       "               clonazepam         2\n",
       "               escitalopram      35\n",
       "               quetiapine        17\n",
       "               sertraline       105\n",
       "               venlafaxine       12\n",
       "other          bupropion          5\n",
       "               citalopram         5\n",
       "               clonazepam         7\n",
       "               escitalopram       5\n",
       "               quetiapine         7\n",
       "               sertraline         5\n",
       "               varenicline        3\n",
       "               venlafaxine        5\n",
       "ptsd           citalopram         3\n",
       "               quetiapine        34\n",
       "               sertraline        67\n",
       "               venlafaxine       13\n",
       "schizophrenia  quetiapine        32\n",
       "Name: rating, dtype: int64"
      ]
     },
     "execution_count": 17,
     "metadata": {},
     "output_type": "execute_result"
    }
   ],
   "source": [
    "# Which of the most common drugs are usually used to treat which of the most common conditions?\n",
    "freq_conditions = ['anxiety', 'depression', 'insomnia', 'bipolar', 'addiction', 'hrt',\n",
    "                  'other', 'ocd', 'schizophrenia', 'ptsd']\n",
    "freq_drug_conditions = df[df['drug0'].isin(freq_drugs) & df['condition'].isin(freq_conditions)]\n",
    "\n",
    "freq_drug_conditions.groupby(['condition','drug0']).count()['rating']"
   ]
  },
  {
   "cell_type": "code",
   "execution_count": 21,
   "id": "4bc06564",
   "metadata": {},
   "outputs": [
    {
     "data": {
      "text/plain": [
       "['varenicline',\n",
       " 'clonazepam',\n",
       " 'escitalopram',\n",
       " 'bupropion',\n",
       " 'venlafaxine',\n",
       " 'sertraline',\n",
       " 'quetiapine',\n",
       " 'citalopram']"
      ]
     },
     "execution_count": 21,
     "metadata": {},
     "output_type": "execute_result"
    }
   ],
   "source": [
    "drugs_to_treat_freq_cond = list(freq_drug_conditions.drug0.unique())\n",
    "drugs_to_treat_freq_cond"
   ]
  },
  {
   "cell_type": "code",
   "execution_count": 22,
   "id": "80cf171b",
   "metadata": {},
   "outputs": [
    {
     "data": {
      "text/html": [
       "<div>\n",
       "<style scoped>\n",
       "    .dataframe tbody tr th:only-of-type {\n",
       "        vertical-align: middle;\n",
       "    }\n",
       "\n",
       "    .dataframe tbody tr th {\n",
       "        vertical-align: top;\n",
       "    }\n",
       "\n",
       "    .dataframe thead th {\n",
       "        text-align: right;\n",
       "    }\n",
       "</style>\n",
       "<table border=\"1\" class=\"dataframe\">\n",
       "  <thead>\n",
       "    <tr style=\"text-align: right;\">\n",
       "      <th></th>\n",
       "      <th>varenicline</th>\n",
       "      <th>clonazepam</th>\n",
       "      <th>escitalopram</th>\n",
       "      <th>bupropion</th>\n",
       "      <th>venlafaxine</th>\n",
       "      <th>sertraline</th>\n",
       "      <th>quetiapine</th>\n",
       "      <th>citalopram</th>\n",
       "    </tr>\n",
       "    <tr>\n",
       "      <th>condition</th>\n",
       "      <th></th>\n",
       "      <th></th>\n",
       "      <th></th>\n",
       "      <th></th>\n",
       "      <th></th>\n",
       "      <th></th>\n",
       "      <th></th>\n",
       "      <th></th>\n",
       "    </tr>\n",
       "  </thead>\n",
       "  <tbody>\n",
       "    <tr>\n",
       "      <th>depression</th>\n",
       "      <td>892.0</td>\n",
       "      <td>535.0</td>\n",
       "      <td>NaN</td>\n",
       "      <td>565.0</td>\n",
       "      <td>130.0</td>\n",
       "      <td>763.0</td>\n",
       "      <td>NaN</td>\n",
       "      <td>690.0</td>\n",
       "    </tr>\n",
       "    <tr>\n",
       "      <th>addiction</th>\n",
       "      <td>199.0</td>\n",
       "      <td>NaN</td>\n",
       "      <td>17.0</td>\n",
       "      <td>NaN</td>\n",
       "      <td>NaN</td>\n",
       "      <td>NaN</td>\n",
       "      <td>1078.0</td>\n",
       "      <td>1.0</td>\n",
       "    </tr>\n",
       "    <tr>\n",
       "      <th>anxiety</th>\n",
       "      <td>85.0</td>\n",
       "      <td>704.0</td>\n",
       "      <td>776.0</td>\n",
       "      <td>1057.0</td>\n",
       "      <td>100.0</td>\n",
       "      <td>840.0</td>\n",
       "      <td>NaN</td>\n",
       "      <td>432.0</td>\n",
       "    </tr>\n",
       "    <tr>\n",
       "      <th>bipolar</th>\n",
       "      <td>41.0</td>\n",
       "      <td>8.0</td>\n",
       "      <td>77.0</td>\n",
       "      <td>33.0</td>\n",
       "      <td>394.0</td>\n",
       "      <td>32.0</td>\n",
       "      <td>NaN</td>\n",
       "      <td>50.0</td>\n",
       "    </tr>\n",
       "    <tr>\n",
       "      <th>other</th>\n",
       "      <td>5.0</td>\n",
       "      <td>5.0</td>\n",
       "      <td>7.0</td>\n",
       "      <td>5.0</td>\n",
       "      <td>7.0</td>\n",
       "      <td>5.0</td>\n",
       "      <td>3.0</td>\n",
       "      <td>5.0</td>\n",
       "    </tr>\n",
       "    <tr>\n",
       "      <th>hrt</th>\n",
       "      <td>3.0</td>\n",
       "      <td>14.0</td>\n",
       "      <td>NaN</td>\n",
       "      <td>8.0</td>\n",
       "      <td>NaN</td>\n",
       "      <td>36.0</td>\n",
       "      <td>NaN</td>\n",
       "      <td>3.0</td>\n",
       "    </tr>\n",
       "    <tr>\n",
       "      <th>ocd</th>\n",
       "      <td>NaN</td>\n",
       "      <td>21.0</td>\n",
       "      <td>2.0</td>\n",
       "      <td>35.0</td>\n",
       "      <td>17.0</td>\n",
       "      <td>105.0</td>\n",
       "      <td>NaN</td>\n",
       "      <td>12.0</td>\n",
       "    </tr>\n",
       "    <tr>\n",
       "      <th>ptsd</th>\n",
       "      <td>NaN</td>\n",
       "      <td>3.0</td>\n",
       "      <td>NaN</td>\n",
       "      <td>NaN</td>\n",
       "      <td>34.0</td>\n",
       "      <td>67.0</td>\n",
       "      <td>NaN</td>\n",
       "      <td>13.0</td>\n",
       "    </tr>\n",
       "    <tr>\n",
       "      <th>insomnia</th>\n",
       "      <td>NaN</td>\n",
       "      <td>1.0</td>\n",
       "      <td>103.0</td>\n",
       "      <td>1.0</td>\n",
       "      <td>243.0</td>\n",
       "      <td>NaN</td>\n",
       "      <td>NaN</td>\n",
       "      <td>NaN</td>\n",
       "    </tr>\n",
       "    <tr>\n",
       "      <th>schizophrenia</th>\n",
       "      <td>NaN</td>\n",
       "      <td>NaN</td>\n",
       "      <td>NaN</td>\n",
       "      <td>NaN</td>\n",
       "      <td>32.0</td>\n",
       "      <td>NaN</td>\n",
       "      <td>NaN</td>\n",
       "      <td>NaN</td>\n",
       "    </tr>\n",
       "  </tbody>\n",
       "</table>\n",
       "</div>"
      ],
      "text/plain": [
       "               varenicline  clonazepam  escitalopram  bupropion  venlafaxine  \\\n",
       "condition                                                                      \n",
       "depression           892.0       535.0           NaN      565.0        130.0   \n",
       "addiction            199.0         NaN          17.0        NaN          NaN   \n",
       "anxiety               85.0       704.0         776.0     1057.0        100.0   \n",
       "bipolar               41.0         8.0          77.0       33.0        394.0   \n",
       "other                  5.0         5.0           7.0        5.0          7.0   \n",
       "hrt                    3.0        14.0           NaN        8.0          NaN   \n",
       "ocd                    NaN        21.0           2.0       35.0         17.0   \n",
       "ptsd                   NaN         3.0           NaN        NaN         34.0   \n",
       "insomnia               NaN         1.0         103.0        1.0        243.0   \n",
       "schizophrenia          NaN         NaN           NaN        NaN         32.0   \n",
       "\n",
       "               sertraline  quetiapine  citalopram  \n",
       "condition                                          \n",
       "depression          763.0         NaN       690.0  \n",
       "addiction             NaN      1078.0         1.0  \n",
       "anxiety             840.0         NaN       432.0  \n",
       "bipolar              32.0         NaN        50.0  \n",
       "other                 5.0         3.0         5.0  \n",
       "hrt                  36.0         NaN         3.0  \n",
       "ocd                 105.0         NaN        12.0  \n",
       "ptsd                 67.0         NaN        13.0  \n",
       "insomnia              NaN         NaN         NaN  \n",
       "schizophrenia         NaN         NaN         NaN  "
      ]
     },
     "execution_count": 22,
     "metadata": {},
     "output_type": "execute_result"
    }
   ],
   "source": [
    "freq_combo_summary = freq_drug_conditions.pivot_table(index='condition', columns='drug0', \n",
    "                                                      aggfunc='count', values='review')\n",
    "freq_combo_summary.columns = drugs_to_treat_freq_cond\n",
    "freq_combo_summary = freq_combo_summary.sort_values(by=drugs_to_treat_freq_cond, \n",
    "                                                    ascending=False)\n",
    "freq_combo_summary"
   ]
  },
  {
   "cell_type": "code",
   "execution_count": 23,
   "id": "1534195c",
   "metadata": {},
   "outputs": [
    {
     "data": {
      "image/png": "[encoded data removed]",
      "text/plain": [
       "<Figure size 640x480 with 2 Axes>"
      ]
     },
     "metadata": {},
     "output_type": "display_data"
    }
   ],
   "source": [
    "# Visualize distribution of reviews across common conditions & drugs with a heatmap.\n",
    "sns.heatmap(freq_combo_summary, cmap='gray_r')\n",
    "plt.show()"
   ]
  },
  {
   "cell_type": "markdown",
   "id": "c625b56d",
   "metadata": {},
   "source": [
    "<font color='violet'> Which drugs & conditions have the highest ratings?"
   ]
  },
  {
   "cell_type": "code",
   "execution_count": 29,
   "id": "8bc5a62f",
   "metadata": {},
   "outputs": [
    {
     "data": {
      "text/plain": [
       "drug0\n",
       "hydrochlorothiazide / telmisartan            10.000000\n",
       "tiagabine                                    10.000000\n",
       "carisoprodol                                 10.000000\n",
       "multivitamin with iron                       10.000000\n",
       "acetaminophen / butalbital / caffeine        10.000000\n",
       "mupirocin                                    10.000000\n",
       "nabumetone                                   10.000000\n",
       "thyroid desiccated                           10.000000\n",
       "hydroxyurea                                  10.000000\n",
       "pentobarbital                                10.000000\n",
       "sodium hyaluronate                           10.000000\n",
       "betamethasone                                10.000000\n",
       "benzoyl peroxide                             10.000000\n",
       "olodaterol                                   10.000000\n",
       "hydrochlorothiazide / olmesartan             10.000000\n",
       "aspirin / meprobamate                        10.000000\n",
       "mometasone                                   10.000000\n",
       "isotretinoin                                 10.000000\n",
       "chantix                                      10.000000\n",
       "chlorpheniramine / hydrocodone               10.000000\n",
       "levocetirizine                               10.000000\n",
       "cholestyramine                               10.000000\n",
       "ciprofloxacin                                10.000000\n",
       "dimethyl sulfoxide                           10.000000\n",
       "methscopolamine                              10.000000\n",
       "clobetasol                                   10.000000\n",
       "tasimelteon                                  10.000000\n",
       "dextrostat                                   10.000000\n",
       "turmeric                                     10.000000\n",
       "undecylenic acid                             10.000000\n",
       "magnesium oxide                              10.000000\n",
       "magnesium citrate                            10.000000\n",
       "desmopressin                                 10.000000\n",
       "penicillin v potassium                       10.000000\n",
       "dasatinib                                    10.000000\n",
       "secobarbital                                 10.000000\n",
       "adalimumab                                   10.000000\n",
       "amikacin                                     10.000000\n",
       "rosuvastatin                                 10.000000\n",
       "pristiq                                      10.000000\n",
       "ethinyl estradiol / etonogestrel             10.000000\n",
       "alfuzosin                                    10.000000\n",
       "trandolapril / verapamil                     10.000000\n",
       "adenosine                                    10.000000\n",
       "zolmitriptan                                 10.000000\n",
       "ethchlorvynol                                10.000000\n",
       "etanercept                                   10.000000\n",
       "pseudoephedrine                              10.000000\n",
       "propofol                                     10.000000\n",
       "fexofenadine / pseudoephedrine               10.000000\n",
       "estropipate                                  10.000000\n",
       "acetaminophen / propoxyphene                 10.000000\n",
       "acetaminophen / phenylephrine                10.000000\n",
       "regadenoson                                  10.000000\n",
       "esterified estrogens / methyltestosterone     9.800000\n",
       "niacin                                        9.750000\n",
       "esomeprazole                                  9.666667\n",
       "amitriptyline / chlordiazepoxide              9.625000\n",
       "acetaminophen / oxycodone                     9.571429\n",
       "dimenhydrinate                                9.500000\n",
       "Name: rating, dtype: float64"
      ]
     },
     "execution_count": 29,
     "metadata": {},
     "output_type": "execute_result"
    }
   ],
   "source": [
    "top_drugs = df.groupby(['drug0'])['rating'].mean().sort_values(ascending=False)\n",
    "top_drugs.head(60)"
   ]
  },
  {
   "cell_type": "code",
   "execution_count": 30,
   "id": "f7747088",
   "metadata": {},
   "outputs": [
    {
     "data": {
      "text/plain": [
       "condition\n",
       "sad                  9.428571\n",
       "failure to thrive    9.333333\n",
       "did                  9.000000\n",
       "addiction            8.638907\n",
       "eating disorder      8.387097\n",
       "ocd                  7.997912\n",
       "other                7.937288\n",
       "nightmares           7.854167\n",
       "anxiety              7.715022\n",
       "add                  7.654545\n",
       "Name: rating, dtype: float64"
      ]
     },
     "execution_count": 30,
     "metadata": {},
     "output_type": "execute_result"
    }
   ],
   "source": [
    "successful_conditions = df.groupby(['condition'])['rating'].mean().sort_values(\n",
    "    ascending=False)\n",
    "successful_conditions.head(10)"
   ]
  },
  {
   "cell_type": "code",
   "execution_count": 44,
   "id": "b25d24af",
   "metadata": {},
   "outputs": [
    {
     "data": {
      "text/plain": [
       "drug0               condition      \n",
       "propofol            other              10.000000\n",
       "sodium hyaluronate  other              10.000000\n",
       "doxylamine          other              10.000000\n",
       "olanzapine          other              10.000000\n",
       "olodaterol          other              10.000000\n",
       "                                         ...    \n",
       "niacin              depression          9.750000\n",
       "tryptophan          insomnia            9.750000\n",
       "nortriptyline       anxiety             9.666667\n",
       "fluoxetine          eating disorder     9.666667\n",
       "dimenhydrinate      insomnia            9.666667\n",
       "Name: rating, Length: 100, dtype: float64"
      ]
     },
     "execution_count": 44,
     "metadata": {},
     "output_type": "execute_result"
    }
   ],
   "source": [
    "top_combo = df.groupby(['drug0', 'condition'])['rating'].mean().sort_values(\n",
    "    ascending=False)\n",
    "top_combo.head(100)"
   ]
  },
  {
   "cell_type": "code",
   "execution_count": 45,
   "id": "593af074",
   "metadata": {},
   "outputs": [
    {
     "data": {
      "text/plain": [
       "drug0                                      condition      \n",
       "zolmitriptan                               other              10.000000\n",
       "doxepin                                    other              10.000000\n",
       "ethinyl estradiol / etonogestrel           other              10.000000\n",
       "methadone                                  other               9.875000\n",
       "esterified estrogens / methyltestosterone  hrt                 9.800000\n",
       "niacin                                     depression          9.750000\n",
       "tryptophan                                 insomnia            9.750000\n",
       "nortriptyline                              anxiety             9.666667\n",
       "fluoxetine                                 eating disorder     9.666667\n",
       "dimenhydrinate                             insomnia            9.666667\n",
       "Name: rating, dtype: float64"
      ]
     },
     "execution_count": 45,
     "metadata": {},
     "output_type": "execute_result"
    }
   ],
   "source": [
    "top_combo[90:100]"
   ]
  },
  {
   "cell_type": "code",
   "execution_count": 41,
   "id": "1201849e",
   "metadata": {},
   "outputs": [
    {
     "data": {
      "text/plain": [
       "set()"
      ]
     },
     "execution_count": 41,
     "metadata": {},
     "output_type": "execute_result"
    }
   ],
   "source": [
    "top_freq_drugs = set(freq_drugs).intersection(set(top_drugs.index[0:54]))\n",
    "top_freq_drugs"
   ]
  },
  {
   "cell_type": "code",
   "execution_count": 47,
   "id": "25df595e",
   "metadata": {},
   "outputs": [
    {
     "data": {
      "text/plain": [
       "set()"
      ]
     },
     "execution_count": 47,
     "metadata": {},
     "output_type": "execute_result"
    }
   ],
   "source": [
    "top_freq_drugs_by_condition = set(freq_drugs).intersection(set(top_combo.index[0:93]))\n",
    "top_freq_drugs_by_condition"
   ]
  },
  {
   "cell_type": "code",
   "execution_count": 39,
   "id": "5ff6001e",
   "metadata": {},
   "outputs": [
    {
     "data": {
      "text/plain": [
       "{'addiction', 'anxiety', 'ocd', 'other'}"
      ]
     },
     "execution_count": 39,
     "metadata": {},
     "output_type": "execute_result"
    }
   ],
   "source": [
    "successful_freq_conditions = set(freq_conditions).intersection(set(\n",
    "    successful_conditions.index[0:10]))\n",
    "successful_freq_conditions"
   ]
  },
  {
   "cell_type": "markdown",
   "id": "452395b9",
   "metadata": {},
   "source": [
    "Anxiety, addction, and ocd are conditions for which there are many drug reviews and high rates of success with treatment. \n",
    "\n",
    "The 10 most frequently-reviewed drugs have nothing in common with the 54 perfectly-rated drugs or the 93 drugs that are rated perfectly for any single condition. My hypothesis is that these drugs may have only one or very few reviews each, which is how their average rating is so high. \n",
    "\n",
    "<font color='violet'> Explore distribution of ratings"
   ]
  },
  {
   "cell_type": "code",
   "execution_count": 48,
   "id": "4b911546",
   "metadata": {},
   "outputs": [
    {
     "data": {
      "image/png": "[encoded data removed]",
      "text/plain": [
       "<Figure size 640x480 with 1 Axes>"
      ]
     },
     "metadata": {},
     "output_type": "display_data"
    }
   ],
   "source": [
    "sns.histplot(df.rating)\n",
    "plt.axvline(df.rating.mean(), color='orange')\n",
    "plt.axvline(df.rating.median(), color='violet')\n",
    "plt.show()"
   ]
  },
  {
   "cell_type": "markdown",
   "id": "db2d768d",
   "metadata": {},
   "source": [
    "More participants gave their drug a high review than gave low reviews, and even fewer gave mediocre reviews.\n",
    "\n",
    "Now, find out: of drugs that received an average rating of 10, how many reiews is that mean derived from?"
   ]
  },
  {
   "cell_type": "code",
   "execution_count": 53,
   "id": "97fb1f40",
   "metadata": {},
   "outputs": [
    {
     "data": {
      "text/plain": [
       "drug0\n",
       "secobarbital          6\n",
       "magnesium citrate     4\n",
       "estropipate           3\n",
       "ciprofloxacin         2\n",
       "chantix               2\n",
       "isotretinoin          2\n",
       "thyroid desiccated    1\n",
       "dtype: int64"
      ]
     },
     "execution_count": 53,
     "metadata": {},
     "output_type": "execute_result"
    }
   ],
   "source": [
    "perfect_avg_rating = set(top_drugs.index[0:54])\n",
    "df[df.drug0.isin(perfect_avg_rating)].value_counts(subset='drug0')[0:7]"
   ]
  },
  {
   "cell_type": "markdown",
   "id": "94aea20a",
   "metadata": {},
   "source": [
    "Of the 54 drugs with perfect average ratings, only 6 of them had more than one rating, and only 3 of them had 3 or more ratings. Given that there are about 50500 ratings and 650 drugs, the average number of ratings per drug is about 80, so the perfectly-rated drugs definitely seem like outliers. I'd not be surprised if a model eventually has a difficult time correctly classifying the extreme ratings, but for now I'll just keep this in mind and see what happens. \n",
    "\n",
    "<font color='violet'> What does the distribution of ratings look like for drugs with at least 20 ratings (20 = 25% of the average number of ratings)?"
   ]
  },
  {
   "cell_type": "code",
   "execution_count": 54,
   "id": "aa9fd879",
   "metadata": {},
   "outputs": [
    {
     "data": {
      "text/html": [
       "<div>\n",
       "<style scoped>\n",
       "    .dataframe tbody tr th:only-of-type {\n",
       "        vertical-align: middle;\n",
       "    }\n",
       "\n",
       "    .dataframe tbody tr th {\n",
       "        vertical-align: top;\n",
       "    }\n",
       "\n",
       "    .dataframe thead th {\n",
       "        text-align: right;\n",
       "    }\n",
       "</style>\n",
       "<table border=\"1\" class=\"dataframe\">\n",
       "  <thead>\n",
       "    <tr style=\"text-align: right;\">\n",
       "      <th></th>\n",
       "      <th>rating</th>\n",
       "      <th>condition</th>\n",
       "      <th>review</th>\n",
       "      <th>date</th>\n",
       "      <th>drug0</th>\n",
       "      <th>drug1</th>\n",
       "      <th>drug2</th>\n",
       "      <th>drug3</th>\n",
       "      <th>drug4</th>\n",
       "      <th>drug5</th>\n",
       "      <th>...</th>\n",
       "      <th>drug7</th>\n",
       "      <th>drug8</th>\n",
       "      <th>drug9</th>\n",
       "      <th>drug10</th>\n",
       "      <th>drug11</th>\n",
       "      <th>drug12</th>\n",
       "      <th>drug13</th>\n",
       "      <th>drug14</th>\n",
       "      <th>drug15</th>\n",
       "      <th>ratings_count</th>\n",
       "    </tr>\n",
       "  </thead>\n",
       "  <tbody>\n",
       "    <tr>\n",
       "      <th>23170</th>\n",
       "      <td>8.0</td>\n",
       "      <td>other</td>\n",
       "      <td>\"I have been taking Atripla since it was appro...</td>\n",
       "      <td>October 28, 2008</td>\n",
       "      <td>efavirenz / emtricitabine / tenofovir</td>\n",
       "      <td>NaN</td>\n",
       "      <td>NaN</td>\n",
       "      <td>NaN</td>\n",
       "      <td>NaN</td>\n",
       "      <td>NaN</td>\n",
       "      <td>...</td>\n",
       "      <td>NaN</td>\n",
       "      <td>NaN</td>\n",
       "      <td>NaN</td>\n",
       "      <td>NaN</td>\n",
       "      <td>NaN</td>\n",
       "      <td>NaN</td>\n",
       "      <td>NaN</td>\n",
       "      <td>NaN</td>\n",
       "      <td>NaN</td>\n",
       "      <td>1</td>\n",
       "    </tr>\n",
       "    <tr>\n",
       "      <th>18072</th>\n",
       "      <td>5.0</td>\n",
       "      <td>other</td>\n",
       "      <td>\"Been on Forteo for a week. Rated a 5 - neutra...</td>\n",
       "      <td>August 22, 2008</td>\n",
       "      <td>teriparatide</td>\n",
       "      <td>NaN</td>\n",
       "      <td>NaN</td>\n",
       "      <td>NaN</td>\n",
       "      <td>NaN</td>\n",
       "      <td>NaN</td>\n",
       "      <td>...</td>\n",
       "      <td>NaN</td>\n",
       "      <td>NaN</td>\n",
       "      <td>NaN</td>\n",
       "      <td>NaN</td>\n",
       "      <td>NaN</td>\n",
       "      <td>NaN</td>\n",
       "      <td>NaN</td>\n",
       "      <td>NaN</td>\n",
       "      <td>NaN</td>\n",
       "      <td>1</td>\n",
       "    </tr>\n",
       "    <tr>\n",
       "      <th>27509</th>\n",
       "      <td>8.0</td>\n",
       "      <td>other</td>\n",
       "      <td>\"I&amp;#039;ve been taking Novomix and I had to go...</td>\n",
       "      <td>October 28, 2008</td>\n",
       "      <td>glipizide</td>\n",
       "      <td>NaN</td>\n",
       "      <td>NaN</td>\n",
       "      <td>NaN</td>\n",
       "      <td>NaN</td>\n",
       "      <td>NaN</td>\n",
       "      <td>...</td>\n",
       "      <td>NaN</td>\n",
       "      <td>NaN</td>\n",
       "      <td>NaN</td>\n",
       "      <td>NaN</td>\n",
       "      <td>NaN</td>\n",
       "      <td>NaN</td>\n",
       "      <td>NaN</td>\n",
       "      <td>NaN</td>\n",
       "      <td>NaN</td>\n",
       "      <td>1</td>\n",
       "    </tr>\n",
       "    <tr>\n",
       "      <th>20115</th>\n",
       "      <td>8.0</td>\n",
       "      <td>other</td>\n",
       "      <td>\"I have been taking biotin for about three yea...</td>\n",
       "      <td>October 4, 2008</td>\n",
       "      <td>biotin</td>\n",
       "      <td>NaN</td>\n",
       "      <td>NaN</td>\n",
       "      <td>NaN</td>\n",
       "      <td>NaN</td>\n",
       "      <td>NaN</td>\n",
       "      <td>...</td>\n",
       "      <td>NaN</td>\n",
       "      <td>NaN</td>\n",
       "      <td>NaN</td>\n",
       "      <td>NaN</td>\n",
       "      <td>NaN</td>\n",
       "      <td>NaN</td>\n",
       "      <td>NaN</td>\n",
       "      <td>NaN</td>\n",
       "      <td>NaN</td>\n",
       "      <td>1</td>\n",
       "    </tr>\n",
       "    <tr>\n",
       "      <th>24757</th>\n",
       "      <td>1.0</td>\n",
       "      <td>other</td>\n",
       "      <td>\"Creatine was recommended to increase muscle t...</td>\n",
       "      <td>July 19, 2014</td>\n",
       "      <td>creatine</td>\n",
       "      <td>NaN</td>\n",
       "      <td>NaN</td>\n",
       "      <td>NaN</td>\n",
       "      <td>NaN</td>\n",
       "      <td>NaN</td>\n",
       "      <td>...</td>\n",
       "      <td>NaN</td>\n",
       "      <td>NaN</td>\n",
       "      <td>NaN</td>\n",
       "      <td>NaN</td>\n",
       "      <td>NaN</td>\n",
       "      <td>NaN</td>\n",
       "      <td>NaN</td>\n",
       "      <td>NaN</td>\n",
       "      <td>NaN</td>\n",
       "      <td>1</td>\n",
       "    </tr>\n",
       "    <tr>\n",
       "      <th>...</th>\n",
       "      <td>...</td>\n",
       "      <td>...</td>\n",
       "      <td>...</td>\n",
       "      <td>...</td>\n",
       "      <td>...</td>\n",
       "      <td>...</td>\n",
       "      <td>...</td>\n",
       "      <td>...</td>\n",
       "      <td>...</td>\n",
       "      <td>...</td>\n",
       "      <td>...</td>\n",
       "      <td>...</td>\n",
       "      <td>...</td>\n",
       "      <td>...</td>\n",
       "      <td>...</td>\n",
       "      <td>...</td>\n",
       "      <td>...</td>\n",
       "      <td>...</td>\n",
       "      <td>...</td>\n",
       "      <td>...</td>\n",
       "      <td>...</td>\n",
       "    </tr>\n",
       "    <tr>\n",
       "      <th>9781</th>\n",
       "      <td>8.0</td>\n",
       "      <td>anxiety</td>\n",
       "      <td>\"51 Yr old male, hardworker, dedicated, and pa...</td>\n",
       "      <td>November 20, 2010</td>\n",
       "      <td>sertraline</td>\n",
       "      <td>zoloft</td>\n",
       "      <td>NaN</td>\n",
       "      <td>NaN</td>\n",
       "      <td>NaN</td>\n",
       "      <td>NaN</td>\n",
       "      <td>...</td>\n",
       "      <td>NaN</td>\n",
       "      <td>NaN</td>\n",
       "      <td>NaN</td>\n",
       "      <td>NaN</td>\n",
       "      <td>NaN</td>\n",
       "      <td>NaN</td>\n",
       "      <td>NaN</td>\n",
       "      <td>NaN</td>\n",
       "      <td>NaN</td>\n",
       "      <td>1855</td>\n",
       "    </tr>\n",
       "    <tr>\n",
       "      <th>13607</th>\n",
       "      <td>9.0</td>\n",
       "      <td>anxiety</td>\n",
       "      <td>\"I had my first panic attack almost two years ...</td>\n",
       "      <td>May 20, 2014</td>\n",
       "      <td>sertraline</td>\n",
       "      <td>NaN</td>\n",
       "      <td>NaN</td>\n",
       "      <td>NaN</td>\n",
       "      <td>NaN</td>\n",
       "      <td>NaN</td>\n",
       "      <td>...</td>\n",
       "      <td>NaN</td>\n",
       "      <td>NaN</td>\n",
       "      <td>NaN</td>\n",
       "      <td>NaN</td>\n",
       "      <td>NaN</td>\n",
       "      <td>NaN</td>\n",
       "      <td>NaN</td>\n",
       "      <td>NaN</td>\n",
       "      <td>NaN</td>\n",
       "      <td>1855</td>\n",
       "    </tr>\n",
       "    <tr>\n",
       "      <th>29993</th>\n",
       "      <td>6.0</td>\n",
       "      <td>anxiety</td>\n",
       "      <td>\"I have been taking it for a month, side effec...</td>\n",
       "      <td>July 9, 2015</td>\n",
       "      <td>sertraline</td>\n",
       "      <td>NaN</td>\n",
       "      <td>NaN</td>\n",
       "      <td>NaN</td>\n",
       "      <td>NaN</td>\n",
       "      <td>NaN</td>\n",
       "      <td>...</td>\n",
       "      <td>NaN</td>\n",
       "      <td>NaN</td>\n",
       "      <td>NaN</td>\n",
       "      <td>NaN</td>\n",
       "      <td>NaN</td>\n",
       "      <td>NaN</td>\n",
       "      <td>NaN</td>\n",
       "      <td>NaN</td>\n",
       "      <td>NaN</td>\n",
       "      <td>1855</td>\n",
       "    </tr>\n",
       "    <tr>\n",
       "      <th>9812</th>\n",
       "      <td>9.0</td>\n",
       "      <td>depression</td>\n",
       "      <td>\"This med helps me depression so much! I have ...</td>\n",
       "      <td>October 10, 2017</td>\n",
       "      <td>sertraline</td>\n",
       "      <td>zoloft</td>\n",
       "      <td>NaN</td>\n",
       "      <td>NaN</td>\n",
       "      <td>NaN</td>\n",
       "      <td>NaN</td>\n",
       "      <td>...</td>\n",
       "      <td>NaN</td>\n",
       "      <td>NaN</td>\n",
       "      <td>NaN</td>\n",
       "      <td>NaN</td>\n",
       "      <td>NaN</td>\n",
       "      <td>NaN</td>\n",
       "      <td>NaN</td>\n",
       "      <td>NaN</td>\n",
       "      <td>NaN</td>\n",
       "      <td>1855</td>\n",
       "    </tr>\n",
       "    <tr>\n",
       "      <th>20211</th>\n",
       "      <td>8.0</td>\n",
       "      <td>depression</td>\n",
       "      <td>\"I have major depression several years, it is ...</td>\n",
       "      <td>August 31, 2013</td>\n",
       "      <td>sertraline</td>\n",
       "      <td>zoloft</td>\n",
       "      <td>NaN</td>\n",
       "      <td>NaN</td>\n",
       "      <td>NaN</td>\n",
       "      <td>NaN</td>\n",
       "      <td>...</td>\n",
       "      <td>NaN</td>\n",
       "      <td>NaN</td>\n",
       "      <td>NaN</td>\n",
       "      <td>NaN</td>\n",
       "      <td>NaN</td>\n",
       "      <td>NaN</td>\n",
       "      <td>NaN</td>\n",
       "      <td>NaN</td>\n",
       "      <td>NaN</td>\n",
       "      <td>1855</td>\n",
       "    </tr>\n",
       "  </tbody>\n",
       "</table>\n",
       "<p>31559 rows × 21 columns</p>\n",
       "</div>"
      ],
      "text/plain": [
       "       rating   condition                                             review  \\\n",
       "23170     8.0       other  \"I have been taking Atripla since it was appro...   \n",
       "18072     5.0       other  \"Been on Forteo for a week. Rated a 5 - neutra...   \n",
       "27509     8.0       other  \"I&#039;ve been taking Novomix and I had to go...   \n",
       "20115     8.0       other  \"I have been taking biotin for about three yea...   \n",
       "24757     1.0       other  \"Creatine was recommended to increase muscle t...   \n",
       "...       ...         ...                                                ...   \n",
       "9781      8.0     anxiety  \"51 Yr old male, hardworker, dedicated, and pa...   \n",
       "13607     9.0     anxiety  \"I had my first panic attack almost two years ...   \n",
       "29993     6.0     anxiety  \"I have been taking it for a month, side effec...   \n",
       "9812      9.0  depression  \"This med helps me depression so much! I have ...   \n",
       "20211     8.0  depression  \"I have major depression several years, it is ...   \n",
       "\n",
       "                    date                                  drug0   drug1 drug2  \\\n",
       "23170   October 28, 2008  efavirenz / emtricitabine / tenofovir     NaN   NaN   \n",
       "18072    August 22, 2008                           teriparatide     NaN   NaN   \n",
       "27509   October 28, 2008                              glipizide     NaN   NaN   \n",
       "20115    October 4, 2008                                 biotin     NaN   NaN   \n",
       "24757      July 19, 2014                               creatine     NaN   NaN   \n",
       "...                  ...                                    ...     ...   ...   \n",
       "9781   November 20, 2010                             sertraline  zoloft   NaN   \n",
       "13607       May 20, 2014                             sertraline     NaN   NaN   \n",
       "29993       July 9, 2015                             sertraline     NaN   NaN   \n",
       "9812    October 10, 2017                             sertraline  zoloft   NaN   \n",
       "20211    August 31, 2013                             sertraline  zoloft   NaN   \n",
       "\n",
       "      drug3 drug4 drug5  ... drug7 drug8 drug9 drug10 drug11 drug12 drug13  \\\n",
       "23170   NaN   NaN   NaN  ...   NaN   NaN   NaN    NaN    NaN    NaN    NaN   \n",
       "18072   NaN   NaN   NaN  ...   NaN   NaN   NaN    NaN    NaN    NaN    NaN   \n",
       "27509   NaN   NaN   NaN  ...   NaN   NaN   NaN    NaN    NaN    NaN    NaN   \n",
       "20115   NaN   NaN   NaN  ...   NaN   NaN   NaN    NaN    NaN    NaN    NaN   \n",
       "24757   NaN   NaN   NaN  ...   NaN   NaN   NaN    NaN    NaN    NaN    NaN   \n",
       "...     ...   ...   ...  ...   ...   ...   ...    ...    ...    ...    ...   \n",
       "9781    NaN   NaN   NaN  ...   NaN   NaN   NaN    NaN    NaN    NaN    NaN   \n",
       "13607   NaN   NaN   NaN  ...   NaN   NaN   NaN    NaN    NaN    NaN    NaN   \n",
       "29993   NaN   NaN   NaN  ...   NaN   NaN   NaN    NaN    NaN    NaN    NaN   \n",
       "9812    NaN   NaN   NaN  ...   NaN   NaN   NaN    NaN    NaN    NaN    NaN   \n",
       "20211   NaN   NaN   NaN  ...   NaN   NaN   NaN    NaN    NaN    NaN    NaN   \n",
       "\n",
       "      drug14 drug15 ratings_count  \n",
       "23170    NaN    NaN             1  \n",
       "18072    NaN    NaN             1  \n",
       "27509    NaN    NaN             1  \n",
       "20115    NaN    NaN             1  \n",
       "24757    NaN    NaN             1  \n",
       "...      ...    ...           ...  \n",
       "9781     NaN    NaN          1855  \n",
       "13607    NaN    NaN          1855  \n",
       "29993    NaN    NaN          1855  \n",
       "9812     NaN    NaN          1855  \n",
       "20211    NaN    NaN          1855  \n",
       "\n",
       "[31559 rows x 21 columns]"
      ]
     },
     "execution_count": 54,
     "metadata": {},
     "output_type": "execute_result"
    }
   ],
   "source": [
    "df['ratings_count'] = df.groupby(['drug0'])['drug0'].transform('count')\n",
    "df.sort_values('ratings_count')"
   ]
  },
  {
   "cell_type": "code",
   "execution_count": 55,
   "id": "faf71b61",
   "metadata": {},
   "outputs": [
    {
     "data": {
      "text/html": [
       "<div>\n",
       "<style scoped>\n",
       "    .dataframe tbody tr th:only-of-type {\n",
       "        vertical-align: middle;\n",
       "    }\n",
       "\n",
       "    .dataframe tbody tr th {\n",
       "        vertical-align: top;\n",
       "    }\n",
       "\n",
       "    .dataframe thead th {\n",
       "        text-align: right;\n",
       "    }\n",
       "</style>\n",
       "<table border=\"1\" class=\"dataframe\">\n",
       "  <thead>\n",
       "    <tr style=\"text-align: right;\">\n",
       "      <th></th>\n",
       "      <th>rating</th>\n",
       "      <th>condition</th>\n",
       "      <th>review</th>\n",
       "      <th>date</th>\n",
       "      <th>drug0</th>\n",
       "      <th>drug1</th>\n",
       "      <th>drug2</th>\n",
       "      <th>drug3</th>\n",
       "      <th>drug4</th>\n",
       "      <th>drug5</th>\n",
       "      <th>...</th>\n",
       "      <th>drug7</th>\n",
       "      <th>drug8</th>\n",
       "      <th>drug9</th>\n",
       "      <th>drug10</th>\n",
       "      <th>drug11</th>\n",
       "      <th>drug12</th>\n",
       "      <th>drug13</th>\n",
       "      <th>drug14</th>\n",
       "      <th>drug15</th>\n",
       "      <th>ratings_count</th>\n",
       "    </tr>\n",
       "  </thead>\n",
       "  <tbody>\n",
       "    <tr>\n",
       "      <th>29799</th>\n",
       "      <td>10.0</td>\n",
       "      <td>hrt</td>\n",
       "      <td>\"Well it changed my life. I was only 43 and ev...</td>\n",
       "      <td>December 12, 2008</td>\n",
       "      <td>angeliq</td>\n",
       "      <td>drospirenone / estradiol</td>\n",
       "      <td>NaN</td>\n",
       "      <td>NaN</td>\n",
       "      <td>NaN</td>\n",
       "      <td>NaN</td>\n",
       "      <td>...</td>\n",
       "      <td>NaN</td>\n",
       "      <td>NaN</td>\n",
       "      <td>NaN</td>\n",
       "      <td>NaN</td>\n",
       "      <td>NaN</td>\n",
       "      <td>NaN</td>\n",
       "      <td>NaN</td>\n",
       "      <td>NaN</td>\n",
       "      <td>NaN</td>\n",
       "      <td>20</td>\n",
       "    </tr>\n",
       "    <tr>\n",
       "      <th>25120</th>\n",
       "      <td>10.0</td>\n",
       "      <td>depression</td>\n",
       "      <td>\"I was taking welbutrin xl for depression.  I ...</td>\n",
       "      <td>July 27, 2017</td>\n",
       "      <td>niacin</td>\n",
       "      <td>NaN</td>\n",
       "      <td>NaN</td>\n",
       "      <td>NaN</td>\n",
       "      <td>NaN</td>\n",
       "      <td>NaN</td>\n",
       "      <td>...</td>\n",
       "      <td>NaN</td>\n",
       "      <td>NaN</td>\n",
       "      <td>NaN</td>\n",
       "      <td>NaN</td>\n",
       "      <td>NaN</td>\n",
       "      <td>NaN</td>\n",
       "      <td>NaN</td>\n",
       "      <td>NaN</td>\n",
       "      <td>NaN</td>\n",
       "      <td>20</td>\n",
       "    </tr>\n",
       "    <tr>\n",
       "      <th>17496</th>\n",
       "      <td>8.0</td>\n",
       "      <td>alzheimers</td>\n",
       "      <td>\"My wife tried to add Namenda as a component o...</td>\n",
       "      <td>April 15, 2014</td>\n",
       "      <td>memantine</td>\n",
       "      <td>namenda xr</td>\n",
       "      <td>NaN</td>\n",
       "      <td>NaN</td>\n",
       "      <td>NaN</td>\n",
       "      <td>NaN</td>\n",
       "      <td>...</td>\n",
       "      <td>NaN</td>\n",
       "      <td>NaN</td>\n",
       "      <td>NaN</td>\n",
       "      <td>NaN</td>\n",
       "      <td>NaN</td>\n",
       "      <td>NaN</td>\n",
       "      <td>NaN</td>\n",
       "      <td>NaN</td>\n",
       "      <td>NaN</td>\n",
       "      <td>20</td>\n",
       "    </tr>\n",
       "    <tr>\n",
       "      <th>18070</th>\n",
       "      <td>10.0</td>\n",
       "      <td>depression</td>\n",
       "      <td>\"I have been on every ssri and different anti-...</td>\n",
       "      <td>December 4, 2015</td>\n",
       "      <td>niacin</td>\n",
       "      <td>NaN</td>\n",
       "      <td>NaN</td>\n",
       "      <td>NaN</td>\n",
       "      <td>NaN</td>\n",
       "      <td>NaN</td>\n",
       "      <td>...</td>\n",
       "      <td>NaN</td>\n",
       "      <td>NaN</td>\n",
       "      <td>NaN</td>\n",
       "      <td>NaN</td>\n",
       "      <td>NaN</td>\n",
       "      <td>NaN</td>\n",
       "      <td>NaN</td>\n",
       "      <td>NaN</td>\n",
       "      <td>NaN</td>\n",
       "      <td>20</td>\n",
       "    </tr>\n",
       "    <tr>\n",
       "      <th>24498</th>\n",
       "      <td>1.0</td>\n",
       "      <td>hrt</td>\n",
       "      <td>\"I am 55 years old and went through menapause ...</td>\n",
       "      <td>November 11, 2016</td>\n",
       "      <td>angeliq</td>\n",
       "      <td>drospirenone / estradiol</td>\n",
       "      <td>NaN</td>\n",
       "      <td>NaN</td>\n",
       "      <td>NaN</td>\n",
       "      <td>NaN</td>\n",
       "      <td>...</td>\n",
       "      <td>NaN</td>\n",
       "      <td>NaN</td>\n",
       "      <td>NaN</td>\n",
       "      <td>NaN</td>\n",
       "      <td>NaN</td>\n",
       "      <td>NaN</td>\n",
       "      <td>NaN</td>\n",
       "      <td>NaN</td>\n",
       "      <td>NaN</td>\n",
       "      <td>20</td>\n",
       "    </tr>\n",
       "    <tr>\n",
       "      <th>...</th>\n",
       "      <td>...</td>\n",
       "      <td>...</td>\n",
       "      <td>...</td>\n",
       "      <td>...</td>\n",
       "      <td>...</td>\n",
       "      <td>...</td>\n",
       "      <td>...</td>\n",
       "      <td>...</td>\n",
       "      <td>...</td>\n",
       "      <td>...</td>\n",
       "      <td>...</td>\n",
       "      <td>...</td>\n",
       "      <td>...</td>\n",
       "      <td>...</td>\n",
       "      <td>...</td>\n",
       "      <td>...</td>\n",
       "      <td>...</td>\n",
       "      <td>...</td>\n",
       "      <td>...</td>\n",
       "      <td>...</td>\n",
       "      <td>...</td>\n",
       "    </tr>\n",
       "    <tr>\n",
       "      <th>28630</th>\n",
       "      <td>7.0</td>\n",
       "      <td>anxiety</td>\n",
       "      <td>\"I have panic disorder along with Gemeralized ...</td>\n",
       "      <td>August 20, 2013</td>\n",
       "      <td>sertraline</td>\n",
       "      <td>zoloft</td>\n",
       "      <td>NaN</td>\n",
       "      <td>NaN</td>\n",
       "      <td>NaN</td>\n",
       "      <td>NaN</td>\n",
       "      <td>...</td>\n",
       "      <td>NaN</td>\n",
       "      <td>NaN</td>\n",
       "      <td>NaN</td>\n",
       "      <td>NaN</td>\n",
       "      <td>NaN</td>\n",
       "      <td>NaN</td>\n",
       "      <td>NaN</td>\n",
       "      <td>NaN</td>\n",
       "      <td>NaN</td>\n",
       "      <td>1855</td>\n",
       "    </tr>\n",
       "    <tr>\n",
       "      <th>8851</th>\n",
       "      <td>8.0</td>\n",
       "      <td>ocd</td>\n",
       "      <td>\"It really helped me years ago when I took it ...</td>\n",
       "      <td>January 25, 2010</td>\n",
       "      <td>sertraline</td>\n",
       "      <td>zoloft</td>\n",
       "      <td>NaN</td>\n",
       "      <td>NaN</td>\n",
       "      <td>NaN</td>\n",
       "      <td>NaN</td>\n",
       "      <td>...</td>\n",
       "      <td>NaN</td>\n",
       "      <td>NaN</td>\n",
       "      <td>NaN</td>\n",
       "      <td>NaN</td>\n",
       "      <td>NaN</td>\n",
       "      <td>NaN</td>\n",
       "      <td>NaN</td>\n",
       "      <td>NaN</td>\n",
       "      <td>NaN</td>\n",
       "      <td>1855</td>\n",
       "    </tr>\n",
       "    <tr>\n",
       "      <th>28638</th>\n",
       "      <td>9.0</td>\n",
       "      <td>depression</td>\n",
       "      <td>\"Been taking 50mg of Sertraline a day for abou...</td>\n",
       "      <td>March 30, 2016</td>\n",
       "      <td>sertraline</td>\n",
       "      <td>NaN</td>\n",
       "      <td>NaN</td>\n",
       "      <td>NaN</td>\n",
       "      <td>NaN</td>\n",
       "      <td>NaN</td>\n",
       "      <td>...</td>\n",
       "      <td>NaN</td>\n",
       "      <td>NaN</td>\n",
       "      <td>NaN</td>\n",
       "      <td>NaN</td>\n",
       "      <td>NaN</td>\n",
       "      <td>NaN</td>\n",
       "      <td>NaN</td>\n",
       "      <td>NaN</td>\n",
       "      <td>NaN</td>\n",
       "      <td>1855</td>\n",
       "    </tr>\n",
       "    <tr>\n",
       "      <th>11671</th>\n",
       "      <td>7.0</td>\n",
       "      <td>anxiety</td>\n",
       "      <td>\"Well I&amp;#039;ve been taking Zoloft for anxiety...</td>\n",
       "      <td>May 4, 2016</td>\n",
       "      <td>sertraline</td>\n",
       "      <td>zoloft</td>\n",
       "      <td>NaN</td>\n",
       "      <td>NaN</td>\n",
       "      <td>NaN</td>\n",
       "      <td>NaN</td>\n",
       "      <td>...</td>\n",
       "      <td>NaN</td>\n",
       "      <td>NaN</td>\n",
       "      <td>NaN</td>\n",
       "      <td>NaN</td>\n",
       "      <td>NaN</td>\n",
       "      <td>NaN</td>\n",
       "      <td>NaN</td>\n",
       "      <td>NaN</td>\n",
       "      <td>NaN</td>\n",
       "      <td>1855</td>\n",
       "    </tr>\n",
       "    <tr>\n",
       "      <th>8211</th>\n",
       "      <td>8.0</td>\n",
       "      <td>depression</td>\n",
       "      <td>\"I started taking Zoloft when I was 16. I was ...</td>\n",
       "      <td>September 4, 2011</td>\n",
       "      <td>sertraline</td>\n",
       "      <td>zoloft</td>\n",
       "      <td>NaN</td>\n",
       "      <td>NaN</td>\n",
       "      <td>NaN</td>\n",
       "      <td>NaN</td>\n",
       "      <td>...</td>\n",
       "      <td>NaN</td>\n",
       "      <td>NaN</td>\n",
       "      <td>NaN</td>\n",
       "      <td>NaN</td>\n",
       "      <td>NaN</td>\n",
       "      <td>NaN</td>\n",
       "      <td>NaN</td>\n",
       "      <td>NaN</td>\n",
       "      <td>NaN</td>\n",
       "      <td>1855</td>\n",
       "    </tr>\n",
       "  </tbody>\n",
       "</table>\n",
       "<p>30666 rows × 21 columns</p>\n",
       "</div>"
      ],
      "text/plain": [
       "       rating   condition                                             review  \\\n",
       "29799    10.0         hrt  \"Well it changed my life. I was only 43 and ev...   \n",
       "25120    10.0  depression  \"I was taking welbutrin xl for depression.  I ...   \n",
       "17496     8.0  alzheimers  \"My wife tried to add Namenda as a component o...   \n",
       "18070    10.0  depression  \"I have been on every ssri and different anti-...   \n",
       "24498     1.0         hrt  \"I am 55 years old and went through menapause ...   \n",
       "...       ...         ...                                                ...   \n",
       "28630     7.0     anxiety  \"I have panic disorder along with Gemeralized ...   \n",
       "8851      8.0         ocd  \"It really helped me years ago when I took it ...   \n",
       "28638     9.0  depression  \"Been taking 50mg of Sertraline a day for abou...   \n",
       "11671     7.0     anxiety  \"Well I&#039;ve been taking Zoloft for anxiety...   \n",
       "8211      8.0  depression  \"I started taking Zoloft when I was 16. I was ...   \n",
       "\n",
       "                    date       drug0                     drug1 drug2 drug3  \\\n",
       "29799  December 12, 2008     angeliq  drospirenone / estradiol   NaN   NaN   \n",
       "25120      July 27, 2017      niacin                       NaN   NaN   NaN   \n",
       "17496     April 15, 2014   memantine                namenda xr   NaN   NaN   \n",
       "18070   December 4, 2015      niacin                       NaN   NaN   NaN   \n",
       "24498  November 11, 2016     angeliq  drospirenone / estradiol   NaN   NaN   \n",
       "...                  ...         ...                       ...   ...   ...   \n",
       "28630    August 20, 2013  sertraline                    zoloft   NaN   NaN   \n",
       "8851    January 25, 2010  sertraline                    zoloft   NaN   NaN   \n",
       "28638     March 30, 2016  sertraline                       NaN   NaN   NaN   \n",
       "11671        May 4, 2016  sertraline                    zoloft   NaN   NaN   \n",
       "8211   September 4, 2011  sertraline                    zoloft   NaN   NaN   \n",
       "\n",
       "      drug4 drug5  ... drug7 drug8 drug9 drug10 drug11 drug12 drug13 drug14  \\\n",
       "29799   NaN   NaN  ...   NaN   NaN   NaN    NaN    NaN    NaN    NaN    NaN   \n",
       "25120   NaN   NaN  ...   NaN   NaN   NaN    NaN    NaN    NaN    NaN    NaN   \n",
       "17496   NaN   NaN  ...   NaN   NaN   NaN    NaN    NaN    NaN    NaN    NaN   \n",
       "18070   NaN   NaN  ...   NaN   NaN   NaN    NaN    NaN    NaN    NaN    NaN   \n",
       "24498   NaN   NaN  ...   NaN   NaN   NaN    NaN    NaN    NaN    NaN    NaN   \n",
       "...     ...   ...  ...   ...   ...   ...    ...    ...    ...    ...    ...   \n",
       "28630   NaN   NaN  ...   NaN   NaN   NaN    NaN    NaN    NaN    NaN    NaN   \n",
       "8851    NaN   NaN  ...   NaN   NaN   NaN    NaN    NaN    NaN    NaN    NaN   \n",
       "28638   NaN   NaN  ...   NaN   NaN   NaN    NaN    NaN    NaN    NaN    NaN   \n",
       "11671   NaN   NaN  ...   NaN   NaN   NaN    NaN    NaN    NaN    NaN    NaN   \n",
       "8211    NaN   NaN  ...   NaN   NaN   NaN    NaN    NaN    NaN    NaN    NaN   \n",
       "\n",
       "      drug15 ratings_count  \n",
       "29799    NaN            20  \n",
       "25120    NaN            20  \n",
       "17496    NaN            20  \n",
       "18070    NaN            20  \n",
       "24498    NaN            20  \n",
       "...      ...           ...  \n",
       "28630    NaN          1855  \n",
       "8851     NaN          1855  \n",
       "28638    NaN          1855  \n",
       "11671    NaN          1855  \n",
       "8211     NaN          1855  \n",
       "\n",
       "[30666 rows x 21 columns]"
      ]
     },
     "execution_count": 55,
     "metadata": {},
     "output_type": "execute_result"
    }
   ],
   "source": [
    "twenty_plus_ratings = df[df.ratings_count>=20]\n",
    "twenty_plus_ratings.sort_values('ratings_count')"
   ]
  },
  {
   "cell_type": "code",
   "execution_count": 56,
   "id": "9dbb69d8",
   "metadata": {},
   "outputs": [
    {
     "data": {
      "image/png": "[encoded data removed]",
      "text/plain": [
       "<Figure size 640x480 with 1 Axes>"
      ]
     },
     "metadata": {},
     "output_type": "display_data"
    }
   ],
   "source": [
    "sns.histplot(twenty_plus_ratings.rating)\n",
    "plt.axvline(df.rating.mean(), color='orange')\n",
    "plt.axvline(df.rating.median(), color='violet')\n",
    "plt.show()"
   ]
  },
  {
   "cell_type": "markdown",
   "id": "0e94b483",
   "metadata": {},
   "source": [
    "This distribution doesn't look much different from that which includes all reviews, which tells me the outliers aren't affecting the distribution too much. So it's probably a good idea to keep all rows in the dataset when moving forward.  \n",
    "\n",
    "<font color='violet'> What is the relationship between date and reviews?"
   ]
  },
  {
   "cell_type": "code",
   "execution_count": 57,
   "id": "d1cd1c9e",
   "metadata": {},
   "outputs": [
    {
     "data": {
      "text/plain": [
       "array(['0', 'February 28, 2012', 'October 18, 2016', ...,\n",
       "       'January 13, 2009', 'December 12, 2017', 'December 12, 2009'],\n",
       "      dtype=object)"
      ]
     },
     "execution_count": 57,
     "metadata": {},
     "output_type": "execute_result"
    }
   ],
   "source": [
    "df.date.unique()"
   ]
  },
  {
   "cell_type": "code",
   "execution_count": 58,
   "id": "c0b432c5",
   "metadata": {},
   "outputs": [
    {
     "data": {
      "text/plain": [
       "0                       NaN\n",
       "1                       NaN\n",
       "2                       NaN\n",
       "3                       NaN\n",
       "4                       NaN\n",
       "                ...        \n",
       "31554    September 13, 2017\n",
       "31555         July 25, 2016\n",
       "31556         July 17, 2016\n",
       "31557       August 16, 2016\n",
       "31558          May 31, 2015\n",
       "Name: date, Length: 31559, dtype: object"
      ]
     },
     "execution_count": 58,
     "metadata": {},
     "output_type": "execute_result"
    }
   ],
   "source": [
    "df.date = df.date.replace('0', np.nan)\n",
    "df.date"
   ]
  },
  {
   "cell_type": "code",
   "execution_count": 59,
   "id": "3e89ec9e",
   "metadata": {},
   "outputs": [
    {
     "data": {
      "text/plain": [
       "0              NaT\n",
       "1              NaT\n",
       "2              NaT\n",
       "3              NaT\n",
       "4              NaT\n",
       "           ...    \n",
       "31554   2017-09-13\n",
       "31555   2016-07-25\n",
       "31556   2016-07-17\n",
       "31557   2016-08-16\n",
       "31558   2015-05-31\n",
       "Name: date, Length: 31559, dtype: datetime64[ns]"
      ]
     },
     "execution_count": 59,
     "metadata": {},
     "output_type": "execute_result"
    }
   ],
   "source": [
    "df.date = pd.to_datetime(df.date)\n",
    "df.date"
   ]
  },
  {
   "cell_type": "code",
   "execution_count": 60,
   "id": "dcb94bdf",
   "metadata": {},
   "outputs": [
    {
     "data": {
      "text/html": [
       "<div>\n",
       "<style scoped>\n",
       "    .dataframe tbody tr th:only-of-type {\n",
       "        vertical-align: middle;\n",
       "    }\n",
       "\n",
       "    .dataframe tbody tr th {\n",
       "        vertical-align: top;\n",
       "    }\n",
       "\n",
       "    .dataframe thead th {\n",
       "        text-align: right;\n",
       "    }\n",
       "</style>\n",
       "<table border=\"1\" class=\"dataframe\">\n",
       "  <thead>\n",
       "    <tr style=\"text-align: right;\">\n",
       "      <th></th>\n",
       "      <th>rating</th>\n",
       "      <th>condition</th>\n",
       "      <th>review</th>\n",
       "      <th>date</th>\n",
       "      <th>drug0</th>\n",
       "      <th>drug1</th>\n",
       "      <th>drug2</th>\n",
       "      <th>drug3</th>\n",
       "      <th>drug4</th>\n",
       "      <th>drug5</th>\n",
       "      <th>...</th>\n",
       "      <th>drug8</th>\n",
       "      <th>drug9</th>\n",
       "      <th>drug10</th>\n",
       "      <th>drug11</th>\n",
       "      <th>drug12</th>\n",
       "      <th>drug13</th>\n",
       "      <th>drug14</th>\n",
       "      <th>drug15</th>\n",
       "      <th>ratings_count</th>\n",
       "      <th>count_by_date</th>\n",
       "    </tr>\n",
       "  </thead>\n",
       "  <tbody>\n",
       "    <tr>\n",
       "      <th>0</th>\n",
       "      <td>9.0</td>\n",
       "      <td>add</td>\n",
       "      <td>I had began taking 20mg of Vyvanse for three m...</td>\n",
       "      <td>NaT</td>\n",
       "      <td>vyvanse</td>\n",
       "      <td>NaN</td>\n",
       "      <td>NaN</td>\n",
       "      <td>NaN</td>\n",
       "      <td>NaN</td>\n",
       "      <td>NaN</td>\n",
       "      <td>...</td>\n",
       "      <td>NaN</td>\n",
       "      <td>NaN</td>\n",
       "      <td>NaN</td>\n",
       "      <td>NaN</td>\n",
       "      <td>NaN</td>\n",
       "      <td>NaN</td>\n",
       "      <td>NaN</td>\n",
       "      <td>NaN</td>\n",
       "      <td>76</td>\n",
       "      <td>NaN</td>\n",
       "    </tr>\n",
       "    <tr>\n",
       "      <th>108</th>\n",
       "      <td>10.0</td>\n",
       "      <td>depression</td>\n",
       "      <td>\"I&amp;#039;ve tried a few antidepressants over th...</td>\n",
       "      <td>2012-02-28</td>\n",
       "      <td>mirtazapine</td>\n",
       "      <td>NaN</td>\n",
       "      <td>NaN</td>\n",
       "      <td>NaN</td>\n",
       "      <td>NaN</td>\n",
       "      <td>NaN</td>\n",
       "      <td>...</td>\n",
       "      <td>NaN</td>\n",
       "      <td>NaN</td>\n",
       "      <td>NaN</td>\n",
       "      <td>NaN</td>\n",
       "      <td>NaN</td>\n",
       "      <td>NaN</td>\n",
       "      <td>NaN</td>\n",
       "      <td>NaN</td>\n",
       "      <td>716</td>\n",
       "      <td>11.0</td>\n",
       "    </tr>\n",
       "    <tr>\n",
       "      <th>109</th>\n",
       "      <td>7.0</td>\n",
       "      <td>addiction</td>\n",
       "      <td>\"Ive been on Methadone for over ten years and ...</td>\n",
       "      <td>2016-10-18</td>\n",
       "      <td>methadone</td>\n",
       "      <td>NaN</td>\n",
       "      <td>NaN</td>\n",
       "      <td>NaN</td>\n",
       "      <td>NaN</td>\n",
       "      <td>NaN</td>\n",
       "      <td>...</td>\n",
       "      <td>NaN</td>\n",
       "      <td>NaN</td>\n",
       "      <td>NaN</td>\n",
       "      <td>NaN</td>\n",
       "      <td>NaN</td>\n",
       "      <td>NaN</td>\n",
       "      <td>NaN</td>\n",
       "      <td>NaN</td>\n",
       "      <td>182</td>\n",
       "      <td>28.0</td>\n",
       "    </tr>\n",
       "    <tr>\n",
       "      <th>110</th>\n",
       "      <td>10.0</td>\n",
       "      <td>schizoaffective disorder</td>\n",
       "      <td>\"No problems, watch what you eat.\"</td>\n",
       "      <td>2014-10-08</td>\n",
       "      <td>quetiapine</td>\n",
       "      <td>seroquel</td>\n",
       "      <td>NaN</td>\n",
       "      <td>NaN</td>\n",
       "      <td>NaN</td>\n",
       "      <td>NaN</td>\n",
       "      <td>...</td>\n",
       "      <td>NaN</td>\n",
       "      <td>NaN</td>\n",
       "      <td>NaN</td>\n",
       "      <td>NaN</td>\n",
       "      <td>NaN</td>\n",
       "      <td>NaN</td>\n",
       "      <td>NaN</td>\n",
       "      <td>NaN</td>\n",
       "      <td>1061</td>\n",
       "      <td>12.0</td>\n",
       "    </tr>\n",
       "    <tr>\n",
       "      <th>111</th>\n",
       "      <td>2.0</td>\n",
       "      <td>insomnia</td>\n",
       "      <td>\"Ditto on rebound sleepless when discontinued....</td>\n",
       "      <td>2015-01-13</td>\n",
       "      <td>zolpidem</td>\n",
       "      <td>ambien</td>\n",
       "      <td>NaN</td>\n",
       "      <td>NaN</td>\n",
       "      <td>NaN</td>\n",
       "      <td>NaN</td>\n",
       "      <td>...</td>\n",
       "      <td>NaN</td>\n",
       "      <td>NaN</td>\n",
       "      <td>NaN</td>\n",
       "      <td>NaN</td>\n",
       "      <td>NaN</td>\n",
       "      <td>NaN</td>\n",
       "      <td>NaN</td>\n",
       "      <td>NaN</td>\n",
       "      <td>625</td>\n",
       "      <td>5.0</td>\n",
       "    </tr>\n",
       "  </tbody>\n",
       "</table>\n",
       "<p>5 rows × 22 columns</p>\n",
       "</div>"
      ],
      "text/plain": [
       "     rating                 condition  \\\n",
       "0       9.0                       add   \n",
       "108    10.0                depression   \n",
       "109     7.0                 addiction   \n",
       "110    10.0  schizoaffective disorder   \n",
       "111     2.0                  insomnia   \n",
       "\n",
       "                                                review       date  \\\n",
       "0    I had began taking 20mg of Vyvanse for three m...        NaT   \n",
       "108  \"I&#039;ve tried a few antidepressants over th... 2012-02-28   \n",
       "109  \"Ive been on Methadone for over ten years and ... 2016-10-18   \n",
       "110             \"No problems, watch what you eat.\"     2014-10-08   \n",
       "111  \"Ditto on rebound sleepless when discontinued.... 2015-01-13   \n",
       "\n",
       "           drug0     drug1 drug2 drug3 drug4 drug5  ... drug8 drug9 drug10  \\\n",
       "0        vyvanse       NaN   NaN   NaN   NaN   NaN  ...   NaN   NaN    NaN   \n",
       "108  mirtazapine       NaN   NaN   NaN   NaN   NaN  ...   NaN   NaN    NaN   \n",
       "109    methadone       NaN   NaN   NaN   NaN   NaN  ...   NaN   NaN    NaN   \n",
       "110   quetiapine  seroquel   NaN   NaN   NaN   NaN  ...   NaN   NaN    NaN   \n",
       "111     zolpidem    ambien   NaN   NaN   NaN   NaN  ...   NaN   NaN    NaN   \n",
       "\n",
       "    drug11 drug12 drug13 drug14 drug15 ratings_count count_by_date  \n",
       "0      NaN    NaN    NaN    NaN    NaN            76           NaN  \n",
       "108    NaN    NaN    NaN    NaN    NaN           716          11.0  \n",
       "109    NaN    NaN    NaN    NaN    NaN           182          28.0  \n",
       "110    NaN    NaN    NaN    NaN    NaN          1061          12.0  \n",
       "111    NaN    NaN    NaN    NaN    NaN           625           5.0  \n",
       "\n",
       "[5 rows x 22 columns]"
      ]
     },
     "execution_count": 60,
     "metadata": {},
     "output_type": "execute_result"
    }
   ],
   "source": [
    "# Are there more or fewer reviews from any given point in time?\n",
    "df['count_by_date'] = df.groupby(['date'])['date'].transform('count')\n",
    "unique_dates = df.drop_duplicates(subset=['date'])\n",
    "unique_dates.head()"
   ]
  },
  {
   "cell_type": "code",
   "execution_count": 61,
   "id": "b62fe8f7",
   "metadata": {},
   "outputs": [
    {
     "data": {
      "text/html": [
       "<div>\n",
       "<style scoped>\n",
       "    .dataframe tbody tr th:only-of-type {\n",
       "        vertical-align: middle;\n",
       "    }\n",
       "\n",
       "    .dataframe tbody tr th {\n",
       "        vertical-align: top;\n",
       "    }\n",
       "\n",
       "    .dataframe thead th {\n",
       "        text-align: right;\n",
       "    }\n",
       "</style>\n",
       "<table border=\"1\" class=\"dataframe\">\n",
       "  <thead>\n",
       "    <tr style=\"text-align: right;\">\n",
       "      <th></th>\n",
       "      <th>rating</th>\n",
       "      <th>ratings_count</th>\n",
       "      <th>count_by_date</th>\n",
       "    </tr>\n",
       "  </thead>\n",
       "  <tbody>\n",
       "    <tr>\n",
       "      <th>count</th>\n",
       "      <td>31559.000000</td>\n",
       "      <td>31559.000000</td>\n",
       "      <td>31451.000000</td>\n",
       "    </tr>\n",
       "    <tr>\n",
       "      <th>mean</th>\n",
       "      <td>7.424855</td>\n",
       "      <td>766.035141</td>\n",
       "      <td>12.674223</td>\n",
       "    </tr>\n",
       "    <tr>\n",
       "      <th>std</th>\n",
       "      <td>3.067194</td>\n",
       "      <td>523.556743</td>\n",
       "      <td>6.538243</td>\n",
       "    </tr>\n",
       "    <tr>\n",
       "      <th>min</th>\n",
       "      <td>1.000000</td>\n",
       "      <td>1.000000</td>\n",
       "      <td>1.000000</td>\n",
       "    </tr>\n",
       "    <tr>\n",
       "      <th>25%</th>\n",
       "      <td>6.000000</td>\n",
       "      <td>288.000000</td>\n",
       "      <td>7.000000</td>\n",
       "    </tr>\n",
       "    <tr>\n",
       "      <th>50%</th>\n",
       "      <td>9.000000</td>\n",
       "      <td>716.000000</td>\n",
       "      <td>12.000000</td>\n",
       "    </tr>\n",
       "    <tr>\n",
       "      <th>75%</th>\n",
       "      <td>10.000000</td>\n",
       "      <td>1081.000000</td>\n",
       "      <td>17.000000</td>\n",
       "    </tr>\n",
       "    <tr>\n",
       "      <th>max</th>\n",
       "      <td>10.000000</td>\n",
       "      <td>1855.000000</td>\n",
       "      <td>35.000000</td>\n",
       "    </tr>\n",
       "  </tbody>\n",
       "</table>\n",
       "</div>"
      ],
      "text/plain": [
       "             rating  ratings_count  count_by_date\n",
       "count  31559.000000   31559.000000   31451.000000\n",
       "mean       7.424855     766.035141      12.674223\n",
       "std        3.067194     523.556743       6.538243\n",
       "min        1.000000       1.000000       1.000000\n",
       "25%        6.000000     288.000000       7.000000\n",
       "50%        9.000000     716.000000      12.000000\n",
       "75%       10.000000    1081.000000      17.000000\n",
       "max       10.000000    1855.000000      35.000000"
      ]
     },
     "execution_count": 61,
     "metadata": {},
     "output_type": "execute_result"
    }
   ],
   "source": [
    "df.describe()"
   ]
  },
  {
   "cell_type": "code",
   "execution_count": 62,
   "id": "002cfefc",
   "metadata": {},
   "outputs": [
    {
     "data": {
      "image/png": "[encoded data removed]",
      "text/plain": [
       "<Figure size 640x480 with 1 Axes>"
      ]
     },
     "metadata": {},
     "output_type": "display_data"
    }
   ],
   "source": [
    "sns.lineplot(data=unique_dates, x='date', y='count_by_date')\n",
    "plt.show()"
   ]
  },
  {
   "cell_type": "markdown",
   "id": "b2864abf",
   "metadata": {},
   "source": [
    "There was an increase in the number of reviews submitted daily around 2015. \n",
    "\n",
    "<font color='violet'> Do ratings change with time?"
   ]
  },
  {
   "cell_type": "code",
   "execution_count": 63,
   "id": "be68cb46",
   "metadata": {},
   "outputs": [
    {
     "data": {
      "image/png": "[encoded data removed]",
      "text/plain": [
       "<Figure size 640x480 with 1 Axes>"
      ]
     },
     "metadata": {},
     "output_type": "display_data"
    }
   ],
   "source": [
    "sns.lineplot(data=df, x='date', y='rating')\n",
    "plt.show()"
   ]
  },
  {
   "cell_type": "markdown",
   "id": "6f86cd76",
   "metadata": {},
   "source": [
    "This looks like something other than total random noise, like maybe there were some current events happening around 2009 and again in 2015 that led people to start rating their psych meds less favorably. There may also be some annual seaonality. Whatever the reason, it seems that date could be correlated with rating and should not be removed. Process this column further to better understand the relationship between date and rating. "
   ]
  },
  {
   "cell_type": "code",
   "execution_count": 64,
   "id": "39e7517d",
   "metadata": {},
   "outputs": [
    {
     "data": {
      "text/html": [
       "<div>\n",
       "<style scoped>\n",
       "    .dataframe tbody tr th:only-of-type {\n",
       "        vertical-align: middle;\n",
       "    }\n",
       "\n",
       "    .dataframe tbody tr th {\n",
       "        vertical-align: top;\n",
       "    }\n",
       "\n",
       "    .dataframe thead th {\n",
       "        text-align: right;\n",
       "    }\n",
       "</style>\n",
       "<table border=\"1\" class=\"dataframe\">\n",
       "  <thead>\n",
       "    <tr style=\"text-align: right;\">\n",
       "      <th></th>\n",
       "      <th>rating</th>\n",
       "    </tr>\n",
       "    <tr>\n",
       "      <th>date</th>\n",
       "      <th></th>\n",
       "    </tr>\n",
       "  </thead>\n",
       "  <tbody>\n",
       "    <tr>\n",
       "      <th>2012-02-28</th>\n",
       "      <td>10.0</td>\n",
       "    </tr>\n",
       "    <tr>\n",
       "      <th>2016-10-18</th>\n",
       "      <td>7.0</td>\n",
       "    </tr>\n",
       "    <tr>\n",
       "      <th>2014-10-08</th>\n",
       "      <td>10.0</td>\n",
       "    </tr>\n",
       "    <tr>\n",
       "      <th>2015-01-13</th>\n",
       "      <td>2.0</td>\n",
       "    </tr>\n",
       "    <tr>\n",
       "      <th>2015-02-14</th>\n",
       "      <td>10.0</td>\n",
       "    </tr>\n",
       "    <tr>\n",
       "      <th>...</th>\n",
       "      <td>...</td>\n",
       "    </tr>\n",
       "    <tr>\n",
       "      <th>2017-09-13</th>\n",
       "      <td>10.0</td>\n",
       "    </tr>\n",
       "    <tr>\n",
       "      <th>2016-07-25</th>\n",
       "      <td>3.0</td>\n",
       "    </tr>\n",
       "    <tr>\n",
       "      <th>2016-07-17</th>\n",
       "      <td>2.0</td>\n",
       "    </tr>\n",
       "    <tr>\n",
       "      <th>2016-08-16</th>\n",
       "      <td>9.0</td>\n",
       "    </tr>\n",
       "    <tr>\n",
       "      <th>2015-05-31</th>\n",
       "      <td>10.0</td>\n",
       "    </tr>\n",
       "  </tbody>\n",
       "</table>\n",
       "<p>31451 rows × 1 columns</p>\n",
       "</div>"
      ],
      "text/plain": [
       "            rating\n",
       "date              \n",
       "2012-02-28    10.0\n",
       "2016-10-18     7.0\n",
       "2014-10-08    10.0\n",
       "2015-01-13     2.0\n",
       "2015-02-14    10.0\n",
       "...            ...\n",
       "2017-09-13    10.0\n",
       "2016-07-25     3.0\n",
       "2016-07-17     2.0\n",
       "2016-08-16     9.0\n",
       "2015-05-31    10.0\n",
       "\n",
       "[31451 rows x 1 columns]"
      ]
     },
     "execution_count": 64,
     "metadata": {},
     "output_type": "execute_result"
    }
   ],
   "source": [
    "rating_date = df[['date', 'rating']].dropna().set_index('date')\n",
    "rating_date"
   ]
  },
  {
   "cell_type": "code",
   "execution_count": 65,
   "id": "d26fb701",
   "metadata": {},
   "outputs": [
    {
     "data": {
      "text/plain": [
       "<AxesSubplot: xlabel='date'>"
      ]
     },
     "execution_count": 65,
     "metadata": {},
     "output_type": "execute_result"
    },
    {
     "data": {
      "image/png": "[encoded data removed]",
      "text/plain": [
       "<Figure size 640x480 with 1 Axes>"
      ]
     },
     "metadata": {},
     "output_type": "display_data"
    }
   ],
   "source": [
    "downsample_week = rating_date.resample('W').mean()\n",
    "downsample_week.plot()"
   ]
  },
  {
   "cell_type": "code",
   "execution_count": 66,
   "id": "624cdf79",
   "metadata": {},
   "outputs": [
    {
     "data": {
      "text/plain": [
       "<AxesSubplot: xlabel='date'>"
      ]
     },
     "execution_count": 66,
     "metadata": {},
     "output_type": "execute_result"
    },
    {
     "data": {
      "image/png": "[encoded data removed]",
      "text/plain": [
       "<Figure size 640x480 with 1 Axes>"
      ]
     },
     "metadata": {},
     "output_type": "display_data"
    }
   ],
   "source": [
    "rolling_mean = downsample_week.rolling(window=30).mean()\n",
    "rolling_mean.plot()"
   ]
  },
  {
   "cell_type": "code",
   "execution_count": 67,
   "id": "2dd89f8c",
   "metadata": {},
   "outputs": [
    {
     "data": {
      "text/plain": [
       "<AxesSubplot: xlabel='date'>"
      ]
     },
     "execution_count": 67,
     "metadata": {},
     "output_type": "execute_result"
    },
    {
     "data": {
      "image/png": "[encoded data removed]",
      "text/plain": [
       "<Figure size 640x480 with 1 Axes>"
      ]
     },
     "metadata": {},
     "output_type": "display_data"
    }
   ],
   "source": [
    "# Check for seasonality\n",
    "index_month = rating_date.index.month\n",
    "rating_by_month = rating_date.groupby(index_month).mean()\n",
    "rating_by_month.plot()"
   ]
  },
  {
   "cell_type": "markdown",
   "id": "f33f9836",
   "metadata": {},
   "source": [
    "It seems that seasonal variation is less extreme than variation by year (average range of 7.3-7.55 instead of 6.5-9.0), with people rating their drugs as being, on average, very slightly less effective in July-November. \n",
    "\n",
    "It is even more clear now that weekly average ratings of drugs in these studies did in facat dip in 2009 and again in 2015. The purpose behind these trends isn't so important (though I have some guesses as to what was happening in 2009 and 2015). The date, though, will be a valuable variable alongside narrataive text features when predicting ratings, so as to compare like with like current-events wise. \n",
    "\n",
    "Now, move from the more quantitative data into the narrative column, cleaning up language therein. \n",
    "\n",
    "<font color='violet'> Parse Language\n",
    "    \n",
    "The review column contains narratives where patients explain their experience with a prescription psych med. Language features from that column need to be extracted or created after any necessary cleaning of strings has been completed. Do any preparations necessary to conduct sentiment analysis. I'll be drawing quite a bit from the following resource: https://towardsdatascience.com/a-practitioners-guide-to-natural-language-processing-part-i-processing-understanding-text-9f4abfd13e72"
   ]
  },
  {
   "cell_type": "code",
   "execution_count": 68,
   "id": "46517f38",
   "metadata": {},
   "outputs": [
    {
     "data": {
      "text/plain": [
       "'I had began taking 20mg of Vyvanse for three months and was surprised to find that such a small dose affected my mood so effectively.  When it came to school work though I found that I needed the 30mg to increase my level of focus (and have been on it for a month since).  I had not experienced decreased appetite until about a month into taking the 20mg.  I find that the greatest benefit of Vyvanse for me is that it tends to stabalize my mood on a daily basis and lessens any bouts of anxiety and depression that i used to face before I was perscribed. a few experiences of nausiea, heavy moodswings on the days I do not take it, decreased appetite, and some negative affect on my short-term memory. My mood has noticably improved, I have more energy, experience better sleep and digestion.'"
      ]
     },
     "execution_count": 68,
     "metadata": {},
     "output_type": "execute_result"
    }
   ],
   "source": [
    "# View a sample string. Search for special characters.\n",
    "df.review[0]"
   ]
  },
  {
   "cell_type": "code",
   "execution_count": 69,
   "id": "791e7c2f",
   "metadata": {},
   "outputs": [
    {
     "data": {
      "text/html": [
       "<div>\n",
       "<style scoped>\n",
       "    .dataframe tbody tr th:only-of-type {\n",
       "        vertical-align: middle;\n",
       "    }\n",
       "\n",
       "    .dataframe tbody tr th {\n",
       "        vertical-align: top;\n",
       "    }\n",
       "\n",
       "    .dataframe thead th {\n",
       "        text-align: right;\n",
       "    }\n",
       "</style>\n",
       "<table border=\"1\" class=\"dataframe\">\n",
       "  <thead>\n",
       "    <tr style=\"text-align: right;\">\n",
       "      <th></th>\n",
       "      <th>rating</th>\n",
       "      <th>condition</th>\n",
       "      <th>review</th>\n",
       "      <th>date</th>\n",
       "      <th>drug0</th>\n",
       "      <th>drug1</th>\n",
       "      <th>drug2</th>\n",
       "      <th>drug3</th>\n",
       "      <th>drug4</th>\n",
       "      <th>drug5</th>\n",
       "      <th>...</th>\n",
       "      <th>drug8</th>\n",
       "      <th>drug9</th>\n",
       "      <th>drug10</th>\n",
       "      <th>drug11</th>\n",
       "      <th>drug12</th>\n",
       "      <th>drug13</th>\n",
       "      <th>drug14</th>\n",
       "      <th>drug15</th>\n",
       "      <th>ratings_count</th>\n",
       "      <th>count_by_date</th>\n",
       "    </tr>\n",
       "  </thead>\n",
       "  <tbody>\n",
       "  </tbody>\n",
       "</table>\n",
       "<p>0 rows × 22 columns</p>\n",
       "</div>"
      ],
      "text/plain": [
       "Empty DataFrame\n",
       "Columns: [rating, condition, review, date, drug0, drug1, drug2, drug3, drug4, drug5, drug6, drug7, drug8, drug9, drug10, drug11, drug12, drug13, drug14, drug15, ratings_count, count_by_date]\n",
       "Index: []\n",
       "\n",
       "[0 rows x 22 columns]"
      ]
     },
     "execution_count": 69,
     "metadata": {},
     "output_type": "execute_result"
    }
   ],
   "source": [
    "df[df['review'].str.find(\"é\")!=-1].head(1)"
   ]
  },
  {
   "cell_type": "code",
   "execution_count": 70,
   "id": "deaaea37",
   "metadata": {},
   "outputs": [
    {
     "data": {
      "text/html": [
       "<div>\n",
       "<style scoped>\n",
       "    .dataframe tbody tr th:only-of-type {\n",
       "        vertical-align: middle;\n",
       "    }\n",
       "\n",
       "    .dataframe tbody tr th {\n",
       "        vertical-align: top;\n",
       "    }\n",
       "\n",
       "    .dataframe thead th {\n",
       "        text-align: right;\n",
       "    }\n",
       "</style>\n",
       "<table border=\"1\" class=\"dataframe\">\n",
       "  <thead>\n",
       "    <tr style=\"text-align: right;\">\n",
       "      <th></th>\n",
       "      <th>rating</th>\n",
       "      <th>condition</th>\n",
       "      <th>review</th>\n",
       "      <th>date</th>\n",
       "      <th>drug0</th>\n",
       "      <th>drug1</th>\n",
       "      <th>drug2</th>\n",
       "      <th>drug3</th>\n",
       "      <th>drug4</th>\n",
       "      <th>drug5</th>\n",
       "      <th>...</th>\n",
       "      <th>drug8</th>\n",
       "      <th>drug9</th>\n",
       "      <th>drug10</th>\n",
       "      <th>drug11</th>\n",
       "      <th>drug12</th>\n",
       "      <th>drug13</th>\n",
       "      <th>drug14</th>\n",
       "      <th>drug15</th>\n",
       "      <th>ratings_count</th>\n",
       "      <th>count_by_date</th>\n",
       "    </tr>\n",
       "  </thead>\n",
       "  <tbody>\n",
       "  </tbody>\n",
       "</table>\n",
       "<p>0 rows × 22 columns</p>\n",
       "</div>"
      ],
      "text/plain": [
       "Empty DataFrame\n",
       "Columns: [rating, condition, review, date, drug0, drug1, drug2, drug3, drug4, drug5, drug6, drug7, drug8, drug9, drug10, drug11, drug12, drug13, drug14, drug15, ratings_count, count_by_date]\n",
       "Index: []\n",
       "\n",
       "[0 rows x 22 columns]"
      ]
     },
     "execution_count": 70,
     "metadata": {},
     "output_type": "execute_result"
    }
   ],
   "source": [
    "df[df['review'].str.find(\"ä\")!=-1].head(1)"
   ]
  },
  {
   "cell_type": "markdown",
   "id": "0f48a3bb",
   "metadata": {},
   "source": [
    "<font color='violet'> Remove Most Special Characters\n",
    "\n",
    "...if there are any. Haven't been able to find any of the most common special characters é or ä in the data, but doing it just in case. "
   ]
  },
  {
   "cell_type": "code",
   "execution_count": 71,
   "id": "76b71dbc",
   "metadata": {},
   "outputs": [],
   "source": [
    "# This function works in the test suite, but there may not be examples in the data\n",
    "df['review'] = df['review'].apply(remove_accented_chars)"
   ]
  },
  {
   "cell_type": "markdown",
   "id": "ae25ec35",
   "metadata": {},
   "source": [
    "<font color='violet'> Expand Contractions"
   ]
  },
  {
   "cell_type": "code",
   "execution_count": 72,
   "id": "03f7c7b4",
   "metadata": {},
   "outputs": [
    {
     "data": {
      "text/html": [
       "<div>\n",
       "<style scoped>\n",
       "    .dataframe tbody tr th:only-of-type {\n",
       "        vertical-align: middle;\n",
       "    }\n",
       "\n",
       "    .dataframe tbody tr th {\n",
       "        vertical-align: top;\n",
       "    }\n",
       "\n",
       "    .dataframe thead th {\n",
       "        text-align: right;\n",
       "    }\n",
       "</style>\n",
       "<table border=\"1\" class=\"dataframe\">\n",
       "  <thead>\n",
       "    <tr style=\"text-align: right;\">\n",
       "      <th></th>\n",
       "      <th>rating</th>\n",
       "      <th>condition</th>\n",
       "      <th>review</th>\n",
       "      <th>date</th>\n",
       "      <th>drug0</th>\n",
       "      <th>drug1</th>\n",
       "      <th>drug2</th>\n",
       "      <th>drug3</th>\n",
       "      <th>drug4</th>\n",
       "      <th>drug5</th>\n",
       "      <th>...</th>\n",
       "      <th>drug8</th>\n",
       "      <th>drug9</th>\n",
       "      <th>drug10</th>\n",
       "      <th>drug11</th>\n",
       "      <th>drug12</th>\n",
       "      <th>drug13</th>\n",
       "      <th>drug14</th>\n",
       "      <th>drug15</th>\n",
       "      <th>ratings_count</th>\n",
       "      <th>count_by_date</th>\n",
       "    </tr>\n",
       "  </thead>\n",
       "  <tbody>\n",
       "    <tr>\n",
       "      <th>9</th>\n",
       "      <td>8.0</td>\n",
       "      <td>adhd</td>\n",
       "      <td>The treatment details were pretty basic.  I ju...</td>\n",
       "      <td>NaT</td>\n",
       "      <td>concerta</td>\n",
       "      <td>NaN</td>\n",
       "      <td>NaN</td>\n",
       "      <td>NaN</td>\n",
       "      <td>NaN</td>\n",
       "      <td>NaN</td>\n",
       "      <td>...</td>\n",
       "      <td>NaN</td>\n",
       "      <td>NaN</td>\n",
       "      <td>NaN</td>\n",
       "      <td>NaN</td>\n",
       "      <td>NaN</td>\n",
       "      <td>NaN</td>\n",
       "      <td>NaN</td>\n",
       "      <td>NaN</td>\n",
       "      <td>13</td>\n",
       "      <td>NaN</td>\n",
       "    </tr>\n",
       "  </tbody>\n",
       "</table>\n",
       "<p>1 rows × 22 columns</p>\n",
       "</div>"
      ],
      "text/plain": [
       "   rating condition                                             review date  \\\n",
       "9     8.0      adhd  The treatment details were pretty basic.  I ju...  NaT   \n",
       "\n",
       "      drug0 drug1 drug2 drug3 drug4 drug5  ... drug8 drug9 drug10 drug11  \\\n",
       "9  concerta   NaN   NaN   NaN   NaN   NaN  ...   NaN   NaN    NaN    NaN   \n",
       "\n",
       "  drug12 drug13 drug14 drug15 ratings_count count_by_date  \n",
       "9    NaN    NaN    NaN    NaN            13           NaN  \n",
       "\n",
       "[1 rows x 22 columns]"
      ]
     },
     "execution_count": 72,
     "metadata": {},
     "output_type": "execute_result"
    }
   ],
   "source": [
    "# First, find some to confirm it works. \n",
    "df[df['review'].str.find(\"'\")!=-1].head(1)"
   ]
  },
  {
   "cell_type": "code",
   "execution_count": 73,
   "id": "01f946b7",
   "metadata": {},
   "outputs": [
    {
     "data": {
      "text/plain": [
       "\"The treatment details were pretty basic.  I just took the medication in the morning at the same time of day every day.  I was allowed to skip it on the weekends or less busy times if I so desired.  I really don't have anything else to put for this section of the survey.  I'm trying to fill up the 50 word requirement though.  You shouldn't really have that requirement on this form.  It seems kind of silly to be writing with nothing left to say. Some of the side affects that I had were:  my stomach would hurt sometimes and other times it was difficult to eat without getting queezy.  I didn't have much of an appetite.  When the medicine wore off, it seemed to have a strong rebound effect and things became difficult for me during that last several hours of my day. I liked taking the medication, I just wish it would have lasted longer during the day.  By 3p-5pm it had wore off and that seemed to by my busiest time of day with the kids, dinner and house stuff all at once. I did not have any other conditions.  Just an inability to focus, hyperactivity, and impulsive behavior.  I had a hard time staying organized and difficulty completing tasks.  I also had difficulty staying with one job for too long.  I had a hard time sustaining reading without getting really tired, and I also had a hard time controlling my emotional outbursts.  The  Concerta really helped me control all of those things.\""
      ]
     },
     "execution_count": 73,
     "metadata": {},
     "output_type": "execute_result"
    }
   ],
   "source": [
    "df.review[9]"
   ]
  },
  {
   "cell_type": "code",
   "execution_count": 74,
   "id": "e49e1fa3",
   "metadata": {},
   "outputs": [
    {
     "data": {
      "text/plain": [
       "'The treatment details were pretty basic.  I just took the medication in the morning at the same time of day every day.  I was allowed to skip it on the weekends or less busy times if I so desired.  I really do not have anything else to put for this section of the survey.  I am trying to fill up the 50 word requirement though.  You should not really have that requirement on this form.  It seems kind of silly to be writing with nothing left to say. Some of the side affects that I had were:  my stomach would hurt sometimes and other times it was difficult to eat without getting queezy.  I did not have much of an appetite.  When the medicine wore off, it seemed to have a strong rebound effect and things became difficult for me during that last several hours of my day. I liked taking the medication, I just wish it would have lasted longer during the day.  By 3p-5pm it had wore off and that seemed to by my busiest time of day with the kids, dinner and house stuff all at once. I did not have any other conditions.  Just an inability to focus, hyperactivity, and impulsive behavior.  I had a hard time staying organized and difficulty completing tasks.  I also had difficulty staying with one job for too long.  I had a hard time sustaining reading without getting really tired, and I also had a hard time controlling my emotional outbursts.  The  Concerta really helped me control all of those things.'"
      ]
     },
     "execution_count": 74,
     "metadata": {},
     "output_type": "execute_result"
    }
   ],
   "source": [
    "df['review'] = df['review'].apply(contractions.fix)\n",
    "df.review[9]"
   ]
  },
  {
   "cell_type": "markdown",
   "id": "e1d1f4d1",
   "metadata": {},
   "source": [
    "\"Don't\" got changed to \"do not\"; contraction expansion worked. \n",
    "\n",
    "<font color='violet'> Remove punctuation/special characters where appropriate. \n",
    "    \n",
    "Try to keep those correlated with sentiment: ! ? # % ;) :( .  Again, first find an example to confirm it works."
   ]
  },
  {
   "cell_type": "code",
   "execution_count": 75,
   "id": "386e580f",
   "metadata": {},
   "outputs": [
    {
     "data": {
      "text/html": [
       "<div>\n",
       "<style scoped>\n",
       "    .dataframe tbody tr th:only-of-type {\n",
       "        vertical-align: middle;\n",
       "    }\n",
       "\n",
       "    .dataframe tbody tr th {\n",
       "        vertical-align: top;\n",
       "    }\n",
       "\n",
       "    .dataframe thead th {\n",
       "        text-align: right;\n",
       "    }\n",
       "</style>\n",
       "<table border=\"1\" class=\"dataframe\">\n",
       "  <thead>\n",
       "    <tr style=\"text-align: right;\">\n",
       "      <th></th>\n",
       "      <th>rating</th>\n",
       "      <th>condition</th>\n",
       "      <th>review</th>\n",
       "      <th>date</th>\n",
       "      <th>drug0</th>\n",
       "      <th>drug1</th>\n",
       "      <th>drug2</th>\n",
       "      <th>drug3</th>\n",
       "      <th>drug4</th>\n",
       "      <th>drug5</th>\n",
       "      <th>...</th>\n",
       "      <th>drug8</th>\n",
       "      <th>drug9</th>\n",
       "      <th>drug10</th>\n",
       "      <th>drug11</th>\n",
       "      <th>drug12</th>\n",
       "      <th>drug13</th>\n",
       "      <th>drug14</th>\n",
       "      <th>drug15</th>\n",
       "      <th>ratings_count</th>\n",
       "      <th>count_by_date</th>\n",
       "    </tr>\n",
       "  </thead>\n",
       "  <tbody>\n",
       "    <tr>\n",
       "      <th>6</th>\n",
       "      <td>7.0</td>\n",
       "      <td>add</td>\n",
       "      <td>So far the throwing up has stopped and the hea...</td>\n",
       "      <td>NaT</td>\n",
       "      <td>vyvanse</td>\n",
       "      <td>NaN</td>\n",
       "      <td>NaN</td>\n",
       "      <td>NaN</td>\n",
       "      <td>NaN</td>\n",
       "      <td>NaN</td>\n",
       "      <td>...</td>\n",
       "      <td>NaN</td>\n",
       "      <td>NaN</td>\n",
       "      <td>NaN</td>\n",
       "      <td>NaN</td>\n",
       "      <td>NaN</td>\n",
       "      <td>NaN</td>\n",
       "      <td>NaN</td>\n",
       "      <td>NaN</td>\n",
       "      <td>76</td>\n",
       "      <td>NaN</td>\n",
       "    </tr>\n",
       "  </tbody>\n",
       "</table>\n",
       "<p>1 rows × 22 columns</p>\n",
       "</div>"
      ],
      "text/plain": [
       "   rating condition                                             review date  \\\n",
       "6     7.0       add  So far the throwing up has stopped and the hea...  NaT   \n",
       "\n",
       "     drug0 drug1 drug2 drug3 drug4 drug5  ... drug8 drug9 drug10 drug11  \\\n",
       "6  vyvanse   NaN   NaN   NaN   NaN   NaN  ...   NaN   NaN    NaN    NaN   \n",
       "\n",
       "  drug12 drug13 drug14 drug15 ratings_count count_by_date  \n",
       "6    NaN    NaN    NaN    NaN            76           NaN  \n",
       "\n",
       "[1 rows x 22 columns]"
      ]
     },
     "execution_count": 75,
     "metadata": {},
     "output_type": "execute_result"
    }
   ],
   "source": [
    "df[df['review'].str.find(\"!\")!=-1].head(1)"
   ]
  },
  {
   "cell_type": "code",
   "execution_count": 76,
   "id": "d22cf3ed",
   "metadata": {},
   "outputs": [
    {
     "data": {
      "text/plain": [
       "'So far the throwing up has stopped and the headaches come and go no food even looks good to eat no cravings very easy to diet ;) and passing all my finals was AMAZING. This drug makes strattera look like tylenol! throwing up alot, bad headaches, twitching, crazy heart beat, loss of appetite (which is a plus in my eyes), and happy thoughts (like \"wow i am soo beautiful\" for some reason would pop in my head alot), as well as some negative thoughts and worrying about homework constantly which is fine to because i would get it all done. I needed to switch from straterra which made me very very depressed quiet and i slept for like an hour each night with that drug it was horrible. I switched to Vyvanse and the first time i took it, it was like an anti deppresant at first i was the normal happy hyper me but i could still focus very well on studying but when i started comming down from it that was the worst i was dry heaving with a TERRIBLE HEADACHE for an hour and then i would just throw everything up it made me very irritated i would twitch ALOT and my heart beat was fast and very heavy but after my second day my body started getting use to it and i have not had anymore problems with it.'"
      ]
     },
     "execution_count": 76,
     "metadata": {},
     "output_type": "execute_result"
    }
   ],
   "source": [
    "df.review[6]"
   ]
  },
  {
   "cell_type": "code",
   "execution_count": 77,
   "id": "75d66da5",
   "metadata": {},
   "outputs": [
    {
     "name": "stderr",
     "output_type": "stream",
     "text": [
      "100%|██████████| 31559/31559 [00:21<00:00, 1468.07it/s]\n"
     ]
    },
    {
     "data": {
      "text/plain": [
       "'So far the throwing up has stopped and the headaches come and go no food even looks good to eat no cravings very easy to diet ;) and passing all my finals was AMAZING This drug makes strattera look like tylenol! throwing up alot bad headaches twitching crazy heart beat loss of appetite (which is a plus in my eyes) and happy thoughts (like wow i am soo beautiful for some reason would pop in my head alot) as well as some negative thoughts and worrying about homework constantly which is fine to because i would get it all done I needed to switch from straterra which made me very very depressed quiet and i slept for like an hour each night with that drug it was horrible I switched to Vyvanse and the first time i took it it was like an anti deppresant at first i was the normal happy hyper me but i could still focus very well on studying but when i started comming down from it that was the worst i was dry heaving with a TERRIBLE HEADACHE for an hour and then i would just throw everything up it made me very irritated i would twitch ALOT and my heart beat was fast and very heavy but after my second day my body started getting use to it and i have not had anymore problems with it'"
      ]
     },
     "execution_count": 77,
     "metadata": {},
     "output_type": "execute_result"
    }
   ],
   "source": [
    "# Use function from package I made to get rid of most of the punctuation.\n",
    "strip_most_punc(df, 'review')\n",
    "df.review[6]"
   ]
  },
  {
   "cell_type": "code",
   "execution_count": 78,
   "id": "97e2cab0",
   "metadata": {},
   "outputs": [
    {
     "data": {
      "text/html": [
       "<div>\n",
       "<style scoped>\n",
       "    .dataframe tbody tr th:only-of-type {\n",
       "        vertical-align: middle;\n",
       "    }\n",
       "\n",
       "    .dataframe tbody tr th {\n",
       "        vertical-align: top;\n",
       "    }\n",
       "\n",
       "    .dataframe thead th {\n",
       "        text-align: right;\n",
       "    }\n",
       "</style>\n",
       "<table border=\"1\" class=\"dataframe\">\n",
       "  <thead>\n",
       "    <tr style=\"text-align: right;\">\n",
       "      <th></th>\n",
       "      <th>rating</th>\n",
       "      <th>condition</th>\n",
       "      <th>review</th>\n",
       "      <th>date</th>\n",
       "      <th>drug0</th>\n",
       "      <th>drug1</th>\n",
       "      <th>drug2</th>\n",
       "      <th>drug3</th>\n",
       "      <th>drug4</th>\n",
       "      <th>drug5</th>\n",
       "      <th>...</th>\n",
       "      <th>drug8</th>\n",
       "      <th>drug9</th>\n",
       "      <th>drug10</th>\n",
       "      <th>drug11</th>\n",
       "      <th>drug12</th>\n",
       "      <th>drug13</th>\n",
       "      <th>drug14</th>\n",
       "      <th>drug15</th>\n",
       "      <th>ratings_count</th>\n",
       "      <th>count_by_date</th>\n",
       "    </tr>\n",
       "  </thead>\n",
       "  <tbody>\n",
       "    <tr>\n",
       "      <th>16</th>\n",
       "      <td>8.0</td>\n",
       "      <td>add</td>\n",
       "      <td>Diagnosed with Adult ADD I first took Ritalin ...</td>\n",
       "      <td>NaT</td>\n",
       "      <td>adderall</td>\n",
       "      <td>NaN</td>\n",
       "      <td>NaN</td>\n",
       "      <td>NaN</td>\n",
       "      <td>NaN</td>\n",
       "      <td>NaN</td>\n",
       "      <td>...</td>\n",
       "      <td>NaN</td>\n",
       "      <td>NaN</td>\n",
       "      <td>NaN</td>\n",
       "      <td>NaN</td>\n",
       "      <td>NaN</td>\n",
       "      <td>NaN</td>\n",
       "      <td>NaN</td>\n",
       "      <td>NaN</td>\n",
       "      <td>13</td>\n",
       "      <td>NaN</td>\n",
       "    </tr>\n",
       "  </tbody>\n",
       "</table>\n",
       "<p>1 rows × 22 columns</p>\n",
       "</div>"
      ],
      "text/plain": [
       "    rating condition                                             review date  \\\n",
       "16     8.0       add  Diagnosed with Adult ADD I first took Ritalin ...  NaT   \n",
       "\n",
       "       drug0 drug1 drug2 drug3 drug4 drug5  ... drug8 drug9 drug10 drug11  \\\n",
       "16  adderall   NaN   NaN   NaN   NaN   NaN  ...   NaN   NaN    NaN    NaN   \n",
       "\n",
       "   drug12 drug13 drug14 drug15 ratings_count count_by_date  \n",
       "16    NaN    NaN    NaN    NaN            13           NaN  \n",
       "\n",
       "[1 rows x 22 columns]"
      ]
     },
     "execution_count": 78,
     "metadata": {},
     "output_type": "execute_result"
    }
   ],
   "source": [
    "# left to strip are ' and : ; () where they don't appear as emoji.\n",
    "\n",
    "df[df['review'].str.find(\"'\")!=-1].head(1)"
   ]
  },
  {
   "cell_type": "code",
   "execution_count": 79,
   "id": "115d2f34",
   "metadata": {},
   "outputs": [
    {
     "data": {
      "text/plain": [
       "\"Diagnosed with Adult ADD I first took Ritalin I found this to cause some 'nervousness' and to have peaks  valleys I switched to Adderall XR and find I notice no physical symptoms only an increase in positive mood and desire to accomplish the days work The effect does seem to peak soon after the dose slowly level out and at about 68 hrs after initial dose I feel calm but now enthusiastic as earlier in the day None noticeable Increased interest and enthusiasm in activities\""
      ]
     },
     "execution_count": 79,
     "metadata": {},
     "output_type": "execute_result"
    }
   ],
   "source": [
    "df.review[16]"
   ]
  },
  {
   "cell_type": "code",
   "execution_count": 80,
   "id": "0224964f",
   "metadata": {},
   "outputs": [
    {
     "name": "stderr",
     "output_type": "stream",
     "text": [
      "100%|██████████| 31559/31559 [00:23<00:00, 1365.32it/s]\n"
     ]
    },
    {
     "data": {
      "text/plain": [
       "'Diagnosed with Adult ADD I first took Ritalin I found this to cause some nervousness and to have peaks  valleys I switched to Adderall XR and find I notice no physical symptoms only an increase in positive mood and desire to accomplish the days work The effect does seem to peak soon after the dose slowly level out and at about 68 hrs after initial dose I feel calm but now enthusiastic as earlier in the day None noticeable Increased interest and enthusiasm in activities'"
      ]
     },
     "execution_count": 80,
     "metadata": {},
     "output_type": "execute_result"
    }
   ],
   "source": [
    "strip_apostrophe(df, 'review')\n",
    "df.review[16]"
   ]
  },
  {
   "cell_type": "markdown",
   "id": "50d70245",
   "metadata": {},
   "source": [
    "Stripping apostrophes worked. \n",
    "\n",
    "<font color='violet'> Zoom in on characters that are commonly used in emoji and remove them where they don't appear as part of an emoticon. \n",
    "    \n",
    "Now remove :;() when they appear next to a letter, not emoji. This isn't a perfect solution, as many characters that I already removed can get used in emoji, but at least the most common emoji will be preserved. I'm not going to search for places where these appear next to numbers because my assumption is that symbols appear next to numbers more often as emoji, compared with letters which appear more often next to symbols used for basic punctuation. \n",
    "    \n",
    "Row 6 from earlier has an emoji ;) as well as other ( and ) symbols. Where might I find some other : and ; to see if I'm successfully removing them?"
   ]
  },
  {
   "cell_type": "code",
   "execution_count": 83,
   "id": "a39ba89b",
   "metadata": {},
   "outputs": [
    {
     "data": {
      "text/html": [
       "<div>\n",
       "<style scoped>\n",
       "    .dataframe tbody tr th:only-of-type {\n",
       "        vertical-align: middle;\n",
       "    }\n",
       "\n",
       "    .dataframe tbody tr th {\n",
       "        vertical-align: top;\n",
       "    }\n",
       "\n",
       "    .dataframe thead th {\n",
       "        text-align: right;\n",
       "    }\n",
       "</style>\n",
       "<table border=\"1\" class=\"dataframe\">\n",
       "  <thead>\n",
       "    <tr style=\"text-align: right;\">\n",
       "      <th></th>\n",
       "      <th>rating</th>\n",
       "      <th>condition</th>\n",
       "      <th>review</th>\n",
       "      <th>date</th>\n",
       "      <th>drug0</th>\n",
       "      <th>drug1</th>\n",
       "      <th>drug2</th>\n",
       "      <th>drug3</th>\n",
       "      <th>drug4</th>\n",
       "      <th>drug5</th>\n",
       "      <th>...</th>\n",
       "      <th>drug8</th>\n",
       "      <th>drug9</th>\n",
       "      <th>drug10</th>\n",
       "      <th>drug11</th>\n",
       "      <th>drug12</th>\n",
       "      <th>drug13</th>\n",
       "      <th>drug14</th>\n",
       "      <th>drug15</th>\n",
       "      <th>ratings_count</th>\n",
       "      <th>count_by_date</th>\n",
       "    </tr>\n",
       "  </thead>\n",
       "  <tbody>\n",
       "    <tr>\n",
       "      <th>9</th>\n",
       "      <td>8.0</td>\n",
       "      <td>adhd</td>\n",
       "      <td>The treatment details were pretty basic  I jus...</td>\n",
       "      <td>NaT</td>\n",
       "      <td>concerta</td>\n",
       "      <td>NaN</td>\n",
       "      <td>NaN</td>\n",
       "      <td>NaN</td>\n",
       "      <td>NaN</td>\n",
       "      <td>NaN</td>\n",
       "      <td>...</td>\n",
       "      <td>NaN</td>\n",
       "      <td>NaN</td>\n",
       "      <td>NaN</td>\n",
       "      <td>NaN</td>\n",
       "      <td>NaN</td>\n",
       "      <td>NaN</td>\n",
       "      <td>NaN</td>\n",
       "      <td>NaN</td>\n",
       "      <td>13</td>\n",
       "      <td>NaN</td>\n",
       "    </tr>\n",
       "    <tr>\n",
       "      <th>13</th>\n",
       "      <td>8.0</td>\n",
       "      <td>add</td>\n",
       "      <td>With or without this medication I am a philoso...</td>\n",
       "      <td>NaT</td>\n",
       "      <td>strattera</td>\n",
       "      <td>NaN</td>\n",
       "      <td>NaN</td>\n",
       "      <td>NaN</td>\n",
       "      <td>NaN</td>\n",
       "      <td>NaN</td>\n",
       "      <td>...</td>\n",
       "      <td>NaN</td>\n",
       "      <td>NaN</td>\n",
       "      <td>NaN</td>\n",
       "      <td>NaN</td>\n",
       "      <td>NaN</td>\n",
       "      <td>NaN</td>\n",
       "      <td>NaN</td>\n",
       "      <td>NaN</td>\n",
       "      <td>21</td>\n",
       "      <td>NaN</td>\n",
       "    </tr>\n",
       "  </tbody>\n",
       "</table>\n",
       "<p>2 rows × 22 columns</p>\n",
       "</div>"
      ],
      "text/plain": [
       "    rating condition                                             review date  \\\n",
       "9      8.0      adhd  The treatment details were pretty basic  I jus...  NaT   \n",
       "13     8.0       add  With or without this medication I am a philoso...  NaT   \n",
       "\n",
       "        drug0 drug1 drug2 drug3 drug4 drug5  ... drug8 drug9 drug10 drug11  \\\n",
       "9    concerta   NaN   NaN   NaN   NaN   NaN  ...   NaN   NaN    NaN    NaN   \n",
       "13  strattera   NaN   NaN   NaN   NaN   NaN  ...   NaN   NaN    NaN    NaN   \n",
       "\n",
       "   drug12 drug13 drug14 drug15 ratings_count count_by_date  \n",
       "9     NaN    NaN    NaN    NaN            13           NaN  \n",
       "13    NaN    NaN    NaN    NaN            21           NaN  \n",
       "\n",
       "[2 rows x 22 columns]"
      ]
     },
     "execution_count": 83,
     "metadata": {},
     "output_type": "execute_result"
    }
   ],
   "source": [
    "df[df['review'].str.find(\":\")!=-1].head(2)"
   ]
  },
  {
   "cell_type": "code",
   "execution_count": 82,
   "id": "5855d56d",
   "metadata": {},
   "outputs": [
    {
     "data": {
      "text/plain": [
       "'With or without this medication I am a philosopher So I will be explain how the drug works on me from a philosophical assessment\\r\\r\\n\\r\\r\\nBackground:\\r\\r\\nI had taken Strattera for three years (20052007) where it helped control ADD where I had difficulty doing so It helped me focus stay organized manage relations and most or all of the benefits I listed prior I dropped the drug for 3 years so that I may learn how to control my ADD without the help of medication During those three years I gained remarkable self control in overcoming ADD However I got to the point where I could not win over ADD which was losing focus randomly During college lectures that I found very intriguing I would often zone outspace out when I could not have been more interested in what was being professed The frustration of this led me to conclude that medical assistance was the best choice\\r\\r\\n\\r\\r\\nOn the drug:\\r\\r\\nI read and understand that the (generally) biggest conside effectto this drug is that there is some sort of depressive or suicidal figure involved From an evaluative standpoint of myself I have concluded that my desire for happiness is lowered from where it was prior to the drug In other words if I felt a need for a happiness at a 9th strength before I now had the need for happiness at a 5th strength Since happiness to me and most I would say is the driving force for existence in life a lessened desire for it would lead to two results Lessened feeling for the needing to existlive and feeling less depressed (because I now do not need to be happy as much as before)\\r\\r\\n\\r\\r\\nUnderstand that this drug does not control me I control this drug I suggest that while you take the medication you assert a greater selfawareness As you examine how it affects you you can understand when you are thinking naturally or by the drug Lower regard for selfvalue naturally depressive concepts seem less farfetched appear less happy Greater focus stronger commitment lessened stress improved selfconfidence goal setting less depressed better organization and memory (as in remembering events) clearer in thought and expression thereof'"
      ]
     },
     "execution_count": 82,
     "metadata": {},
     "output_type": "execute_result"
    }
   ],
   "source": [
    "df.review[13]"
   ]
  },
  {
   "cell_type": "code",
   "execution_count": 90,
   "id": "d242e960",
   "metadata": {},
   "outputs": [
    {
     "data": {
      "text/html": [
       "<div>\n",
       "<style scoped>\n",
       "    .dataframe tbody tr th:only-of-type {\n",
       "        vertical-align: middle;\n",
       "    }\n",
       "\n",
       "    .dataframe tbody tr th {\n",
       "        vertical-align: top;\n",
       "    }\n",
       "\n",
       "    .dataframe thead th {\n",
       "        text-align: right;\n",
       "    }\n",
       "</style>\n",
       "<table border=\"1\" class=\"dataframe\">\n",
       "  <thead>\n",
       "    <tr style=\"text-align: right;\">\n",
       "      <th></th>\n",
       "      <th>rating</th>\n",
       "      <th>condition</th>\n",
       "      <th>review</th>\n",
       "      <th>date</th>\n",
       "      <th>drug0</th>\n",
       "      <th>drug1</th>\n",
       "      <th>drug2</th>\n",
       "      <th>drug3</th>\n",
       "      <th>drug4</th>\n",
       "      <th>drug5</th>\n",
       "      <th>...</th>\n",
       "      <th>drug8</th>\n",
       "      <th>drug9</th>\n",
       "      <th>drug10</th>\n",
       "      <th>drug11</th>\n",
       "      <th>drug12</th>\n",
       "      <th>drug13</th>\n",
       "      <th>drug14</th>\n",
       "      <th>drug15</th>\n",
       "      <th>ratings_count</th>\n",
       "      <th>count_by_date</th>\n",
       "    </tr>\n",
       "  </thead>\n",
       "  <tbody>\n",
       "    <tr>\n",
       "      <th>6</th>\n",
       "      <td>7.0</td>\n",
       "      <td>add</td>\n",
       "      <td>So far the throwing up has stopped and the hea...</td>\n",
       "      <td>NaT</td>\n",
       "      <td>vyvanse</td>\n",
       "      <td>NaN</td>\n",
       "      <td>NaN</td>\n",
       "      <td>NaN</td>\n",
       "      <td>NaN</td>\n",
       "      <td>NaN</td>\n",
       "      <td>...</td>\n",
       "      <td>NaN</td>\n",
       "      <td>NaN</td>\n",
       "      <td>NaN</td>\n",
       "      <td>NaN</td>\n",
       "      <td>NaN</td>\n",
       "      <td>NaN</td>\n",
       "      <td>NaN</td>\n",
       "      <td>NaN</td>\n",
       "      <td>76</td>\n",
       "      <td>NaN</td>\n",
       "    </tr>\n",
       "    <tr>\n",
       "      <th>25</th>\n",
       "      <td>9.0</td>\n",
       "      <td>add</td>\n",
       "      <td>Have tried Ritalin for ADD and while it worked...</td>\n",
       "      <td>NaT</td>\n",
       "      <td>provigil</td>\n",
       "      <td>NaN</td>\n",
       "      <td>NaN</td>\n",
       "      <td>NaN</td>\n",
       "      <td>NaN</td>\n",
       "      <td>NaN</td>\n",
       "      <td>...</td>\n",
       "      <td>NaN</td>\n",
       "      <td>NaN</td>\n",
       "      <td>NaN</td>\n",
       "      <td>NaN</td>\n",
       "      <td>NaN</td>\n",
       "      <td>NaN</td>\n",
       "      <td>NaN</td>\n",
       "      <td>NaN</td>\n",
       "      <td>2</td>\n",
       "      <td>NaN</td>\n",
       "    </tr>\n",
       "  </tbody>\n",
       "</table>\n",
       "<p>2 rows × 22 columns</p>\n",
       "</div>"
      ],
      "text/plain": [
       "    rating condition                                             review date  \\\n",
       "6      7.0       add  So far the throwing up has stopped and the hea...  NaT   \n",
       "25     9.0       add  Have tried Ritalin for ADD and while it worked...  NaT   \n",
       "\n",
       "       drug0 drug1 drug2 drug3 drug4 drug5  ... drug8 drug9 drug10 drug11  \\\n",
       "6    vyvanse   NaN   NaN   NaN   NaN   NaN  ...   NaN   NaN    NaN    NaN   \n",
       "25  provigil   NaN   NaN   NaN   NaN   NaN  ...   NaN   NaN    NaN    NaN   \n",
       "\n",
       "   drug12 drug13 drug14 drug15 ratings_count count_by_date  \n",
       "6     NaN    NaN    NaN    NaN            76           NaN  \n",
       "25    NaN    NaN    NaN    NaN             2           NaN  \n",
       "\n",
       "[2 rows x 22 columns]"
      ]
     },
     "execution_count": 90,
     "metadata": {},
     "output_type": "execute_result"
    }
   ],
   "source": [
    "# That example has lots of weird stuff going on; deal with that eventually if necessary.\n",
    "# For now I can at lease see where the : is (row 2) and check if my function below delets it\n",
    "# Finally, find an example of ;\n",
    "\n",
    "df[df['review'].str.find(\";\")!=-1].head(2)"
   ]
  },
  {
   "cell_type": "code",
   "execution_count": 92,
   "id": "d9cc395e",
   "metadata": {},
   "outputs": [
    {
     "data": {
      "text/plain": [
       "'So far the throwing up has stopped and the headaches come and go no food even looks good to eat no cravings very easy to diet ;) and passing all my finals was AMAZING This drug makes strattera look like tylenol! throwing up alot bad headaches twitching crazy heart beat loss of appetite (which is a plus in my eyes) and happy thoughts (like wow i am soo beautiful for some reason would pop in my head alot) as well as some negative thoughts and worrying about homework constantly which is fine to because i would get it all done I needed to switch from straterra which made me very very depressed quiet and i slept for like an hour each night with that drug it was horrible I switched to Vyvanse and the first time i took it it was like an anti deppresant at first i was the normal happy hyper me but i could still focus very well on studying but when i started comming down from it that was the worst i was dry heaving with a TERRIBLE HEADACHE for an hour and then i would just throw everything up it made me very irritated i would twitch ALOT and my heart beat was fast and very heavy but after my second day my body started getting use to it and i have not had anymore problems with it'"
      ]
     },
     "execution_count": 92,
     "metadata": {},
     "output_type": "execute_result"
    }
   ],
   "source": [
    "df.review[6]"
   ]
  },
  {
   "cell_type": "markdown",
   "id": "3d000f23",
   "metadata": {},
   "source": [
    "<font color='violet'> This was working several times, and I changed nothing but it stopped working. Debug later. "
   ]
  },
  {
   "cell_type": "code",
   "execution_count": 93,
   "id": "bdbfb0c8",
   "metadata": {},
   "outputs": [
    {
     "name": "stderr",
     "output_type": "stream",
     "text": [
      "  0%|          | 0/31559 [00:00<?, ?it/s]\n"
     ]
    },
    {
     "ename": "NameError",
     "evalue": "name 're' is not defined",
     "output_type": "error",
     "traceback": [
      "\u001b[0;31m---------------------------------------------------------------------------\u001b[0m",
      "\u001b[0;31mNameError\u001b[0m                                 Traceback (most recent call last)",
      "Cell \u001b[0;32mIn[93], line 3\u001b[0m\n\u001b[1;32m      1\u001b[0m \u001b[38;5;66;03m# Note: the ; in that last example above shows up in the third to last row.\u001b[39;00m\n\u001b[1;32m      2\u001b[0m \u001b[38;5;66;03m# Use a function that can remove these characters appropriately\u001b[39;00m\n\u001b[0;32m----> 3\u001b[0m \u001b[43mstrip_non_emoji_emoji_symbol\u001b[49m\u001b[43m(\u001b[49m\u001b[43mdf\u001b[49m\u001b[43m,\u001b[49m\u001b[38;5;124;43m'\u001b[39;49m\u001b[38;5;124;43mreview\u001b[39;49m\u001b[38;5;124;43m'\u001b[39;49m\u001b[43m)\u001b[49m\n\u001b[1;32m      5\u001b[0m df\u001b[38;5;241m.\u001b[39mreview[\u001b[38;5;241m6\u001b[39m]\n",
      "File \u001b[0;32m~/Documents/GitHub/psychedelic_efficacy/notebooks/../src/nlp/parse.py:74\u001b[0m, in \u001b[0;36mstrip_non_emoji_emoji_symbol\u001b[0;34m(df, column)\u001b[0m\n\u001b[1;32m     71\u001b[0m string_to_strip \u001b[38;5;241m=\u001b[39m df\u001b[38;5;241m.\u001b[39mloc[row,column]\n\u001b[1;32m     73\u001b[0m \u001b[38;5;66;03m# Find each ) that appears next to letters, not other symbols.\u001b[39;00m\n\u001b[0;32m---> 74\u001b[0m closing_parentheses \u001b[38;5;241m=\u001b[39m [m\u001b[38;5;241m.\u001b[39mend() \u001b[38;5;28;01mfor\u001b[39;00m m \u001b[38;5;129;01min\u001b[39;00m \u001b[43mre\u001b[49m\u001b[38;5;241m.\u001b[39mfinditer(\u001b[38;5;124m'\u001b[39m\u001b[38;5;124m[a-zA-z]\u001b[39m\u001b[38;5;124m\\\u001b[39m\u001b[38;5;124m)\u001b[39m\u001b[38;5;124m'\u001b[39m, string_to_strip)]\n\u001b[1;32m     75\u001b[0m \u001b[38;5;66;03m# That's not capturing the correct character. Fix this.\u001b[39;00m\n\u001b[1;32m     76\u001b[0m clos_parenth_indices \u001b[38;5;241m=\u001b[39m [n \u001b[38;5;241m-\u001b[39m \u001b[38;5;241m1\u001b[39m \u001b[38;5;28;01mfor\u001b[39;00m n \u001b[38;5;129;01min\u001b[39;00m closing_parentheses]\n",
      "\u001b[0;31mNameError\u001b[0m: name 're' is not defined"
     ]
    }
   ],
   "source": [
    "# Note: the ; in that last example above shows up in the third to last row.\n",
    "# Use a function that can remove these characters appropriately\n",
    "strip_non_emoji_emoji_symbol(df,'review')\n",
    "\n",
    "df.review[6]"
   ]
  },
  {
   "cell_type": "code",
   "execution_count": null,
   "id": "26036882",
   "metadata": {},
   "outputs": [],
   "source": []
  },
  {
   "cell_type": "code",
   "execution_count": null,
   "id": "ba7dfddc",
   "metadata": {},
   "outputs": [],
   "source": [
    "# The ;) is intact, but all other parentheses that had been in the string from row 6 are gone!\n",
    "# Check on the two other strings.\n",
    "df.review[13]"
   ]
  },
  {
   "cell_type": "code",
   "execution_count": null,
   "id": "50d54d99",
   "metadata": {},
   "outputs": [],
   "source": [
    "df.review[78]"
   ]
  },
  {
   "cell_type": "markdown",
   "id": "7bd26558",
   "metadata": {},
   "source": [
    "There is much that yet needs to be done to process the review texts. Continue that more in-depth NLP and EDA in the next notebook: https://github.com/fractaldatalearning/psychedelic_efficacy/blob/main/notebooks/3-kl-studies-early-eda-parse.ipynb"
   ]
  },
  {
   "cell_type": "code",
   "execution_count": null,
   "id": "33c185b1",
   "metadata": {},
   "outputs": [],
   "source": []
  }
 ],
 "metadata": {
  "kernelspec": {
   "display_name": "Python 3 (ipykernel)",
   "language": "python",
   "name": "python3"
  },
  "language_info": {
   "codemirror_mode": {
    "name": "ipython",
    "version": 3
   },
   "file_extension": ".py",
   "mimetype": "text/x-python",
   "name": "python",
   "nbconvert_exporter": "python",
   "pygments_lexer": "ipython3",
   "version": "3.9.15"
  }
 },
 "nbformat": 4,
 "nbformat_minor": 5
}
