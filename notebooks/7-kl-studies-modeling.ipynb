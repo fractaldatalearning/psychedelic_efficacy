{
 "cells": [
  {
   "cell_type": "markdown",
   "id": "6aaa3e1b",
   "metadata": {},
   "source": [
    "# <font color='violet'> Modeling to Predict Ratings based on Reviews \n",
    "    \n",
    "Using data with most features engineered here: \n"
   ]
  },
  {
   "cell_type": "code",
   "execution_count": 1,
   "id": "cf9ffa4d",
   "metadata": {},
   "outputs": [],
   "source": [
    "import pandas as pd"
   ]
  },
  {
   "cell_type": "code",
   "execution_count": null,
   "id": "8b4a4ae9",
   "metadata": {},
   "outputs": [],
   "source": [
    "df = pd.read_csv('../data/interim/studies_w_vector_similarity.csv')"
   ]
  }
 ],
 "metadata": {
  "kernelspec": {
   "display_name": "Python 3 (ipykernel)",
   "language": "python",
   "name": "python3"
  },
  "language_info": {
   "codemirror_mode": {
    "name": "ipython",
    "version": 3
   },
   "file_extension": ".py",
   "mimetype": "text/x-python",
   "name": "python",
   "nbconvert_exporter": "python",
   "pygments_lexer": "ipython3",
   "version": "3.9.15"
  }
 },
 "nbformat": 4,
 "nbformat_minor": 5
}
