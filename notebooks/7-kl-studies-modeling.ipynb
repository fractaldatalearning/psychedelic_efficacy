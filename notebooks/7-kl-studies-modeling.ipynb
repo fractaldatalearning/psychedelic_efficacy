{
 "cells": [
  {
   "cell_type": "markdown",
   "id": "6bf2e3b7",
   "metadata": {},
   "source": [
    "# <font color='violet'> Modeling to Predict Ratings based on Reviews \n",
    "    \n",
    "Using data with most features engineered here: https://github.com/fractaldatalearning/psychedelic_efficacy/blob/main/notebooks/6-kl-studies-finish-preprocess.ipynb\n",
    "\n",
    "Other feature engineering will be completed as part of the modeling pipeline. "
   ]
  },
  {
   "cell_type": "code",
   "execution_count": 1,
   "id": "cb8f810f",
   "metadata": {},
   "outputs": [],
   "source": [
    "# ! pip install xgboost"
   ]
  },
  {
   "cell_type": "code",
   "execution_count": 2,
   "id": "bba29f3e",
   "metadata": {},
   "outputs": [],
   "source": [
    "import pandas as pd\n",
    "from sklearn.preprocessing import MinMaxScaler, LabelEncoder\n",
    "from sklearn.feature_extraction.text import CountVectorizer\n",
    "from sklearn.compose import ColumnTransformer \n",
    "from sklearn.pipeline import Pipeline\n",
    "import numpy as np\n",
    "from sklearn.model_selection import RandomizedSearchCV\n",
    "from sklearn.decomposition import PCA\n",
    "from sklearn.pipeline import Pipeline\n",
    "\n",
    "from sklearn.naive_bayes import ComplementNB\n",
    "from xgboost import XGBClassifier\n",
    "from sklearn.linear_model import RidgeClassifier\n",
    "from sklearn.neighbors import KNeighborsClassifier\n",
    "from sklearn.svm import SVC\n",
    "from sklearn.discriminant_analysis import LinearDiscriminantAnalysis\n",
    "\n",
    "from IPython.display import Audio\n",
    "sound_file = './alert.wav'"
   ]
  },
  {
   "cell_type": "code",
   "execution_count": 3,
   "id": "9ea2a86b",
   "metadata": {},
   "outputs": [
    {
     "name": "stdout",
     "output_type": "stream",
     "text": [
      "<class 'pandas.core.frame.DataFrame'>\n",
      "RangeIndex: 31557 entries, 0 to 31556\n",
      "Data columns (total 13 columns):\n",
      " #   Column             Non-Null Count  Dtype  \n",
      "---  ------             --------------  -----  \n",
      " 0   Unnamed: 0         31557 non-null  int64  \n",
      " 1   condition          31557 non-null  object \n",
      " 2   date               31557 non-null  object \n",
      " 3   drug0              31557 non-null  object \n",
      " 4   drug1              31557 non-null  object \n",
      " 5   review_len         31557 non-null  int64  \n",
      " 6   complexity         31557 non-null  float64\n",
      " 7   no_stop_cap_lemm   31557 non-null  object \n",
      " 8   subjectivity       31557 non-null  float64\n",
      " 9   original_polarity  31557 non-null  float64\n",
      " 10  set                31557 non-null  object \n",
      " 11  rating             31557 non-null  float64\n",
      " 12  similarity_w_10    31557 non-null  float64\n",
      "dtypes: float64(5), int64(2), object(6)\n",
      "memory usage: 3.1+ MB\n"
     ]
    }
   ],
   "source": [
    "df = pd.read_csv('../data/interim/studies_w_vector_similarity.csv')\n",
    "df.info()"
   ]
  },
  {
   "cell_type": "code",
   "execution_count": 4,
   "id": "4eb3d421",
   "metadata": {},
   "outputs": [
    {
     "data": {
      "text/html": [
       "<div>\n",
       "<style scoped>\n",
       "    .dataframe tbody tr th:only-of-type {\n",
       "        vertical-align: middle;\n",
       "    }\n",
       "\n",
       "    .dataframe tbody tr th {\n",
       "        vertical-align: top;\n",
       "    }\n",
       "\n",
       "    .dataframe thead th {\n",
       "        text-align: right;\n",
       "    }\n",
       "</style>\n",
       "<table border=\"1\" class=\"dataframe\">\n",
       "  <thead>\n",
       "    <tr style=\"text-align: right;\">\n",
       "      <th></th>\n",
       "      <th>review</th>\n",
       "      <th>rating</th>\n",
       "      <th>review_len</th>\n",
       "      <th>complexity</th>\n",
       "      <th>subjectivity</th>\n",
       "      <th>original_polarity</th>\n",
       "      <th>similarity_w_10</th>\n",
       "      <th>set</th>\n",
       "    </tr>\n",
       "  </thead>\n",
       "  <tbody>\n",
       "    <tr>\n",
       "      <th>0</th>\n",
       "      <td>good give run gas</td>\n",
       "      <td>9.0</td>\n",
       "      <td>36</td>\n",
       "      <td>-1.2</td>\n",
       "      <td>0.600000</td>\n",
       "      <td>0.700000</td>\n",
       "      <td>0.640050</td>\n",
       "      <td>train</td>\n",
       "    </tr>\n",
       "    <tr>\n",
       "      <th>1</th>\n",
       "      <td>75 mg x daily no noticeable effect 150 mg x da...</td>\n",
       "      <td>8.0</td>\n",
       "      <td>547</td>\n",
       "      <td>5.4</td>\n",
       "      <td>0.343056</td>\n",
       "      <td>0.031439</td>\n",
       "      <td>0.841263</td>\n",
       "      <td>train</td>\n",
       "    </tr>\n",
       "    <tr>\n",
       "      <th>2</th>\n",
       "      <td>take 145 mg 10 year fantastic insomnia really ...</td>\n",
       "      <td>8.0</td>\n",
       "      <td>390</td>\n",
       "      <td>4.8</td>\n",
       "      <td>0.591667</td>\n",
       "      <td>0.096296</td>\n",
       "      <td>0.922576</td>\n",
       "      <td>train</td>\n",
       "    </tr>\n",
       "    <tr>\n",
       "      <th>3</th>\n",
       "      <td>help stability mood help insomnia start experi...</td>\n",
       "      <td>7.0</td>\n",
       "      <td>156</td>\n",
       "      <td>8.2</td>\n",
       "      <td>1.000000</td>\n",
       "      <td>-1.000000</td>\n",
       "      <td>0.825203</td>\n",
       "      <td>train</td>\n",
       "    </tr>\n",
       "    <tr>\n",
       "      <th>4</th>\n",
       "      <td>crazy eat sleep sit</td>\n",
       "      <td>2.0</td>\n",
       "      <td>66</td>\n",
       "      <td>-0.4</td>\n",
       "      <td>0.900000</td>\n",
       "      <td>-0.600000</td>\n",
       "      <td>0.467668</td>\n",
       "      <td>train</td>\n",
       "    </tr>\n",
       "  </tbody>\n",
       "</table>\n",
       "</div>"
      ],
      "text/plain": [
       "                                              review  rating  review_len  \\\n",
       "0                                  good give run gas     9.0          36   \n",
       "1  75 mg x daily no noticeable effect 150 mg x da...     8.0         547   \n",
       "2  take 145 mg 10 year fantastic insomnia really ...     8.0         390   \n",
       "3  help stability mood help insomnia start experi...     7.0         156   \n",
       "4                                crazy eat sleep sit     2.0          66   \n",
       "\n",
       "   complexity  subjectivity  original_polarity  similarity_w_10    set  \n",
       "0        -1.2      0.600000           0.700000         0.640050  train  \n",
       "1         5.4      0.343056           0.031439         0.841263  train  \n",
       "2         4.8      0.591667           0.096296         0.922576  train  \n",
       "3         8.2      1.000000          -1.000000         0.825203  train  \n",
       "4        -0.4      0.900000          -0.600000         0.467668  train  "
      ]
     },
     "execution_count": 4,
     "metadata": {},
     "output_type": "execute_result"
    }
   ],
   "source": [
    "# Remove categorical features that aren't specifically related to the review text\n",
    "df = df.drop(columns = ['Unnamed: 0', 'condition', 'date', 'drug0', 'drug1'])\n",
    "\n",
    "# Rename the review column for clarity.\n",
    "df = df.rename(columns={'no_stop_cap_lemm':'review'})\n",
    "\n",
    "# Reorder columns for clarity\n",
    "df = df[['review', 'rating', 'review_len', 'complexity', 'subjectivity', \n",
    "              'original_polarity', 'similarity_w_10', 'set']]\n",
    "\n",
    "df.head()"
   ]
  },
  {
   "cell_type": "markdown",
   "id": "47642b00",
   "metadata": {},
   "source": [
    "There are going to be a bunch of moving parts once I get to the gridsearch. I'd like to take care of anything I can in advance rather than including normalization in the pipeline. \n",
    "\n",
    "<font color='violet'> Normalize numerical dependent variables prior to moving on"
   ]
  },
  {
   "cell_type": "code",
   "execution_count": 5,
   "id": "0ef9ed69",
   "metadata": {},
   "outputs": [
    {
     "data": {
      "text/html": [
       "<div>\n",
       "<style scoped>\n",
       "    .dataframe tbody tr th:only-of-type {\n",
       "        vertical-align: middle;\n",
       "    }\n",
       "\n",
       "    .dataframe tbody tr th {\n",
       "        vertical-align: top;\n",
       "    }\n",
       "\n",
       "    .dataframe thead th {\n",
       "        text-align: right;\n",
       "    }\n",
       "</style>\n",
       "<table border=\"1\" class=\"dataframe\">\n",
       "  <thead>\n",
       "    <tr style=\"text-align: right;\">\n",
       "      <th></th>\n",
       "      <th>review</th>\n",
       "      <th>rating</th>\n",
       "      <th>review_len</th>\n",
       "      <th>complexity</th>\n",
       "      <th>subjectivity</th>\n",
       "      <th>original_polarity</th>\n",
       "      <th>similarity_w_10</th>\n",
       "      <th>set</th>\n",
       "    </tr>\n",
       "  </thead>\n",
       "  <tbody>\n",
       "    <tr>\n",
       "      <th>0</th>\n",
       "      <td>good give run gas</td>\n",
       "      <td>9.0</td>\n",
       "      <td>0.004525</td>\n",
       "      <td>0.034848</td>\n",
       "      <td>0.600000</td>\n",
       "      <td>0.850000</td>\n",
       "      <td>0.681421</td>\n",
       "      <td>train</td>\n",
       "    </tr>\n",
       "    <tr>\n",
       "      <th>1</th>\n",
       "      <td>75 mg x daily no noticeable effect 150 mg x da...</td>\n",
       "      <td>8.0</td>\n",
       "      <td>0.087104</td>\n",
       "      <td>0.134848</td>\n",
       "      <td>0.343056</td>\n",
       "      <td>0.515720</td>\n",
       "      <td>0.867294</td>\n",
       "      <td>train</td>\n",
       "    </tr>\n",
       "    <tr>\n",
       "      <th>2</th>\n",
       "      <td>take 145 mg 10 year fantastic insomnia really ...</td>\n",
       "      <td>8.0</td>\n",
       "      <td>0.061732</td>\n",
       "      <td>0.125758</td>\n",
       "      <td>0.591667</td>\n",
       "      <td>0.548148</td>\n",
       "      <td>0.942408</td>\n",
       "      <td>train</td>\n",
       "    </tr>\n",
       "    <tr>\n",
       "      <th>3</th>\n",
       "      <td>help stability mood help insomnia start experi...</td>\n",
       "      <td>7.0</td>\n",
       "      <td>0.023917</td>\n",
       "      <td>0.177273</td>\n",
       "      <td>1.000000</td>\n",
       "      <td>0.000000</td>\n",
       "      <td>0.852459</td>\n",
       "      <td>train</td>\n",
       "    </tr>\n",
       "    <tr>\n",
       "      <th>4</th>\n",
       "      <td>crazy eat sleep sit</td>\n",
       "      <td>2.0</td>\n",
       "      <td>0.009373</td>\n",
       "      <td>0.046970</td>\n",
       "      <td>0.900000</td>\n",
       "      <td>0.200000</td>\n",
       "      <td>0.522181</td>\n",
       "      <td>train</td>\n",
       "    </tr>\n",
       "  </tbody>\n",
       "</table>\n",
       "</div>"
      ],
      "text/plain": [
       "                                              review  rating  review_len  \\\n",
       "0                                  good give run gas     9.0    0.004525   \n",
       "1  75 mg x daily no noticeable effect 150 mg x da...     8.0    0.087104   \n",
       "2  take 145 mg 10 year fantastic insomnia really ...     8.0    0.061732   \n",
       "3  help stability mood help insomnia start experi...     7.0    0.023917   \n",
       "4                                crazy eat sleep sit     2.0    0.009373   \n",
       "\n",
       "   complexity  subjectivity  original_polarity  similarity_w_10    set  \n",
       "0    0.034848      0.600000           0.850000         0.681421  train  \n",
       "1    0.134848      0.343056           0.515720         0.867294  train  \n",
       "2    0.125758      0.591667           0.548148         0.942408  train  \n",
       "3    0.177273      1.000000           0.000000         0.852459  train  \n",
       "4    0.046970      0.900000           0.200000         0.522181  train  "
      ]
     },
     "execution_count": 5,
     "metadata": {},
     "output_type": "execute_result"
    }
   ],
   "source": [
    "# Normalize numeric dependent variables prior to moving on. \n",
    "mms = MinMaxScaler()\n",
    "df[['review_len', 'complexity', 'subjectivity', 'original_polarity', \n",
    "    'similarity_w_10']] = mms.fit_transform(df[['review_len', 'complexity', 'subjectivity', \n",
    "                                                'original_polarity', 'similarity_w_10']])\n",
    "\n",
    "df.head()"
   ]
  },
  {
   "cell_type": "markdown",
   "id": "6ec09dde",
   "metadata": {},
   "source": [
    "<font color='violet'> Change ratings from 1-10 to 0-9 "
   ]
  },
  {
   "cell_type": "code",
   "execution_count": 6,
   "id": "ae35368c",
   "metadata": {},
   "outputs": [
    {
     "data": {
      "text/plain": [
       "array([8, 7, 6, 1, 9, 2, 0, 4, 3, 5])"
      ]
     },
     "execution_count": 6,
     "metadata": {},
     "output_type": "execute_result"
    }
   ],
   "source": [
    "df['rating'] = LabelEncoder().fit_transform(df.rating)\n",
    "df.rating.unique()"
   ]
  },
  {
   "cell_type": "code",
   "execution_count": 7,
   "id": "44d59d74",
   "metadata": {},
   "outputs": [
    {
     "name": "stdout",
     "output_type": "stream",
     "text": [
      "<class 'pandas.core.frame.DataFrame'>\n",
      "Int64Index: 22089 entries, 0 to 22088\n",
      "Data columns (total 7 columns):\n",
      " #   Column             Non-Null Count  Dtype  \n",
      "---  ------             --------------  -----  \n",
      " 0   review             22089 non-null  object \n",
      " 1   rating             22089 non-null  int64  \n",
      " 2   review_len         22089 non-null  float64\n",
      " 3   complexity         22089 non-null  float64\n",
      " 4   subjectivity       22089 non-null  float64\n",
      " 5   original_polarity  22089 non-null  float64\n",
      " 6   similarity_w_10    22089 non-null  float64\n",
      "dtypes: float64(5), int64(1), object(1)\n",
      "memory usage: 1.3+ MB\n"
     ]
    }
   ],
   "source": [
    "# Recreate train-test sets\n",
    "train_set = df[df.set=='train'].drop(columns=['set']).copy()\n",
    "test_set = df[df.set=='test'].drop(columns=['set']).copy()\n",
    "\n",
    "train_set.info()"
   ]
  },
  {
   "cell_type": "code",
   "execution_count": 8,
   "id": "6c6f6e56",
   "metadata": {},
   "outputs": [
    {
     "name": "stdout",
     "output_type": "stream",
     "text": [
      "<class 'pandas.core.frame.DataFrame'>\n",
      "Int64Index: 22089 entries, 0 to 22088\n",
      "Data columns (total 6 columns):\n",
      " #   Column             Non-Null Count  Dtype  \n",
      "---  ------             --------------  -----  \n",
      " 0   review             22089 non-null  object \n",
      " 1   review_len         22089 non-null  float64\n",
      " 2   complexity         22089 non-null  float64\n",
      " 3   subjectivity       22089 non-null  float64\n",
      " 4   original_polarity  22089 non-null  float64\n",
      " 5   similarity_w_10    22089 non-null  float64\n",
      "dtypes: float64(5), object(1)\n",
      "memory usage: 1.2+ MB\n"
     ]
    }
   ],
   "source": [
    "X_train = train_set.drop(columns=['rating'])\n",
    "X_test = test_set.drop(columns=['rating'])\n",
    "y_train = train_set.rating\n",
    "y_test = test_set.rating\n",
    "\n",
    "X_train.info()"
   ]
  },
  {
   "cell_type": "markdown",
   "id": "34b05e40",
   "metadata": {},
   "source": [
    "Create a pipeline in order to gridsearch and tune hyperparameters of PCA and classifiers. Include PCA and CountVectorizer in a column transformer. \n",
    "\n",
    "<font color='violet'> Conduct initial random grid search"
   ]
  },
  {
   "cell_type": "code",
   "execution_count": null,
   "id": "afc74fe6",
   "metadata": {},
   "outputs": [],
   "source": [
    "# Try out adding both PCA and CV parameters to param grid\n",
    "\n",
    "# Make variables for types of columns & instantiate what to do with each \n",
    "review_col = 'review'\n",
    "numeric_cols = ['review_len', 'complexity', 'subjectivity', 'original_polarity', \n",
    "                'similarity_w_10']\n",
    "\n",
    "num_trans = Pipeline(steps=[('pca', PCA(random_state=17)), ('mms', MinMaxScaler())])\n",
    "text_trans = CountVectorizer(lowercase=False)\n",
    "\n",
    "# Build column transformer\n",
    "cols = ColumnTransformer([('num', num_trans, numeric_cols), \n",
    "                          ('text', text_trans, review_col)])\n",
    "\n",
    "# Create parameters for PCA, CountVectorizer\n",
    "# I found during preprocessing that 1,2,3 or all features might be meaningful. \n",
    "# counting character combinations might actually make the model work better on unseen data.\n",
    "# Don't actually want character 1grams or word 3grams; change later if those come out on top.\n",
    "\n",
    "pca_cv = {'cols__num__pca__n_components':['passthrough',1,2,3], \n",
    "              'cols__text__ngram_range':[(1,1), (1,2), (1,3)], \n",
    "              'cols__text__analyzer':['word', 'char']}\n",
    "\n",
    "# list potential parameters for each classifier\n",
    "knn_params = {'clf':(KNeighborsClassifier(),), 'clf__n_neighbors':list(np.arange(3,22,2)), \n",
    "              'clf__weights':['uniform','distance'], \n",
    "              'clf__leaf_size':list(np.arange(10,101,10)), 'clf__p':[1,2], \n",
    "              'clf__metric':['euclidean','chebyshev','minkowski']}\n",
    "knn_params.update(pca_cv)\n",
    "\n",
    "svc_params = {'clf':(SVC(probability=True, random_state=43),), 'clf__C':list(np.arange(1,11)), \n",
    "              'clf__kernel':['linear', 'poly', 'rbf', 'sigmoid'], \n",
    "              'clf__degree':list(np.arange(1,11)), 'clf__gamma':['scale', 'auto'], \n",
    "              'clf__coef0':list(np.arange(0,4,0.5)), 'clf__shrinking':[True,False], \n",
    "              'clf__probability':[True,False], 'clf__class_weight':[None,'balanced']}\n",
    "svc_params.update(pca_cv)\n",
    "\n",
    "cnb_params = {'clf':(ComplementNB(),), 'clf__alpha':[0.01, 0.1, 0.5, 1, 2, 5, 10]}\n",
    "cnb_params.update(pca_cv)\n",
    "\n",
    "# Only select XGB hyperparameters that I've read minimize overfitting, a problem w/ trees\n",
    "xgb_params = {'clf':(XGBClassifier(),), 'clf__colsample_bytree':list(np.arange(0.1, 0.6, 0.1)), \n",
    "              'clf__subsample':list(np.arange(0, 0.6, 0.1)), 'clf__max_depth':list(np.arange(1,5)), \n",
    "              'clf__gamma':list(np.arange(4,11,1)), 'clf__eta':list(np.arange(0, 0.6, 0.1)), \n",
    "              'clf__min_child_weight':[5,20,50,100,200], 'clf__alpha':[5,10,20,50,100], \n",
    "              'clf__n_estimators':[5,10,20,50]}\n",
    "xgb_params.update(pca_cv)\n",
    "\n",
    "ridge_params = {'clf':(RidgeClassifier(class_weight='balanced', random_state=17),), \n",
    "                'clf__alpha':[1e-10, 1e-5, 1e-2, 1, 5, 10, 20, 50, 100, 200, 500]}\n",
    "ridge_params.update(pca_cv)\n",
    "\n",
    "lda_params = {'clf':(LinearDiscriminantAnalysis(shrinkage='auto'),), \n",
    "              'clf__solver':['svd', 'lsqr', 'eigen'], 'clf__store_covariance':[True,False]}\n",
    "lda_params.update(pca_cv)\n",
    "\n",
    "\n",
    "# Build final pipeline and param grid & instantiate gridsearch\n",
    "pipe = Pipeline(steps=[('cols', cols), ('clf', KNeighborsClassifier())])\n",
    "param_grid = [svc_params, cnb_params, xgb_params, ridge_params, lda_params]\n",
    "\n",
    "rgs = RandomizedSearchCV(estimator=pipe, param_distributions=param_grid,\n",
    "                         scoring='roc_auc_ovr', random_state=17, error_score='raise')\n",
    "\n",
    "# Run the gridsearch\n",
    "rgs.fit(X_train, y_train)\n",
    "print(rgs.best_params_)\n",
    "print(rgs.best_score_)\n",
    "\n",
    "Audio(sound_file, autoplay=True)"
   ]
  },
  {
   "cell_type": "markdown",
   "id": "a96ac8c9",
   "metadata": {},
   "source": [
    "After 1 iterations of random grid-search, the best parameters:\n",
    "\n",
    "{'cols__text__ngram_range': (1, 1), 'cols__text__analyzer': 'char', 'cols__num__pca__n_components': 2, 'clf__subsample': 0.1, 'clf__n_estimators': 20, 'clf__min_child_weight': 200, 'clf__max_depth': 3, 'clf__gamma': 4, 'clf__eta': 0.30000000000000004, 'clf__colsample_bytree': 0.30000000000000004, 'clf__alpha': 20, 'clf': XGBClassifier(alpha=20, base_score=None, booster=None, callbacks=None,\n",
    "              colsample_bylevel=None, colsample_bynode=None,\n",
    "              colsample_bytree=0.30000000000000004, early_stopping_rounds=None,\n",
    "              enable_categorical=False, eta=0.30000000000000004,\n",
    "              eval_metric=None, feature_types=None, gamma=4, gpu_id=None,\n",
    "              grow_policy=None, importance_type=None,\n",
    "              interaction_constraints=None, learning_rate=None, max_bin=None,\n",
    "              max_cat_threshold=None, max_cat_to_onehot=None,\n",
    "              max_delta_step=None, max_depth=3, max_leaves=None,\n",
    "              min_child_weight=200, missing=nan, monotone_constraints=None,\n",
    "              n_estimators=20, n_jobs=None, num_parallel_tree=None, ...)}\n",
    "0.5796871769733423"
   ]
  },
  {
   "cell_type": "code",
   "execution_count": null,
   "id": "8c2919af",
   "metadata": {},
   "outputs": [],
   "source": [
    "# Final model tuning and evaluation"
   ]
  },
  {
   "cell_type": "code",
   "execution_count": null,
   "id": "bebb5bb4",
   "metadata": {},
   "outputs": [],
   "source": [
    "# Pickle the model for later use"
   ]
  },
  {
   "cell_type": "markdown",
   "id": "c23bfc72",
   "metadata": {},
   "source": [
    "<font color='violet'> Next Steps:\n",
    "\n",
    "I'd like to come back to this portion of the project (prior notebook and this one) to improve text preprocessing, but for now move on to part two: \n",
    "    \n",
    "Begin scraping the web for psychedelic experience reports so they can be preprocessed to match the format of this data and run through this model. Get started with wrangling here: \n",
    "    \n",
    "Note: I drew ideas from these resources: \n",
    "- https://towardsdatascience.com/getting-the-most-out-of-scikit-learn-pipelines-c2afc4410f1a\n",
    "- https://stackoverflow.com/questions/63467815/how-to-access-columntransformer-elements-in-gridsearchcv"
   ]
  }
 ],
 "metadata": {
  "kernelspec": {
   "display_name": "Python 3 (ipykernel)",
   "language": "python",
   "name": "python3"
  },
  "language_info": {
   "codemirror_mode": {
    "name": "ipython",
    "version": 3
   },
   "file_extension": ".py",
   "mimetype": "text/x-python",
   "name": "python",
   "nbconvert_exporter": "python",
   "pygments_lexer": "ipython3",
   "version": "3.9.15"
  }
 },
 "nbformat": 4,
 "nbformat_minor": 5
}
