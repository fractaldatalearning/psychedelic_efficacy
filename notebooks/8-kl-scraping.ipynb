{
 "cells": [
  {
   "cell_type": "markdown",
   "id": "366c8c2b",
   "metadata": {},
   "source": [
    "# <font color='violet'> Scrape Web for Psychedelic Experience Reports\n",
    "\n",
    "Start with erowid, then move to psychonaut wiki, and finally relevant subreddits."
   ]
  }
 ],
 "metadata": {
  "kernelspec": {
   "display_name": "Python 3 (ipykernel)",
   "language": "python",
   "name": "python3"
  },
  "language_info": {
   "codemirror_mode": {
    "name": "ipython",
    "version": 3
   },
   "file_extension": ".py",
   "mimetype": "text/x-python",
   "name": "python",
   "nbconvert_exporter": "python",
   "pygments_lexer": "ipython3",
   "version": "3.9.15"
  }
 },
 "nbformat": 4,
 "nbformat_minor": 5
}
