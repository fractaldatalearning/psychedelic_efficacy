{
 "cells": [
  {
   "cell_type": "markdown",
   "id": "a55c6f7b",
   "metadata": {},
   "source": [
    "# <font color='violet'> Scrape Psychedelic Experience Reports\n",
    "\n",
    "Start with erowid, then move to psychonaut wiki, and finally relevant subreddits."
   ]
  },
  {
   "cell_type": "code",
   "execution_count": 1,
   "id": "d2228d67",
   "metadata": {},
   "outputs": [],
   "source": [
    "# ! pip install scrapy\n",
    "# ! pip install crochet"
   ]
  },
  {
   "cell_type": "markdown",
   "id": "318df482",
   "metadata": {},
   "source": [
    "I got this information when I started a new scrapy project inside the src folder of the main psychedelic_efficacy folder:\n",
    "\n",
    "You can start your first spider with:\n",
    "    cd scrapy_psychedelic\n",
    "    scrapy genspider example example.com"
   ]
  },
  {
   "cell_type": "code",
   "execution_count": 2,
   "id": "e72ef6ee",
   "metadata": {},
   "outputs": [],
   "source": [
    "import scrapy\n",
    "from scrapy.crawler import CrawlerProcess"
   ]
  },
  {
   "cell_type": "code",
   "execution_count": 3,
   "id": "a1c74970",
   "metadata": {},
   "outputs": [],
   "source": [
    "import sys\n",
    "src = '../src'\n",
    "sys.path.append(src)\n",
    "\n",
    "# import local package\n",
    "from scrapy_psychedelic.scrapy_psychedelic.settings import REQUEST_FINGERPRINTER_IMPLEMENTATION"
   ]
  },
  {
   "cell_type": "code",
   "execution_count": 4,
   "id": "f736160c",
   "metadata": {},
   "outputs": [
    {
     "ename": "NameError",
     "evalue": "name 'scrapy_psychedelic' is not defined",
     "output_type": "error",
     "traceback": [
      "\u001b[0;31m---------------------------------------------------------------------------\u001b[0m",
      "\u001b[0;31mNameError\u001b[0m                                 Traceback (most recent call last)",
      "Cell \u001b[0;32mIn[4], line 1\u001b[0m\n\u001b[0;32m----> 1\u001b[0m \u001b[43mscrapy_psychedelic\u001b[49m\u001b[38;5;241m.\u001b[39mscrapy_psychedelic\u001b[38;5;241m.\u001b[39msettings\u001b[38;5;241m.\u001b[39mREQUEST_FINGERPRINTER_IMPLEMENTATION\n",
      "\u001b[0;31mNameError\u001b[0m: name 'scrapy_psychedelic' is not defined"
     ]
    }
   ],
   "source": [
    "scrapy_psychedelic.scrapy_psychedelic.settings.REQUEST_FINGERPRINTER_IMPLEMENTATION"
   ]
  },
  {
   "cell_type": "code",
   "execution_count": null,
   "id": "c9c269f5",
   "metadata": {},
   "outputs": [],
   "source": [
    "class ErowidSpider(scrapy.Spider):\n",
    "    name='erowid_spider'\n",
    "    \n",
    "    def start_request(self):\n",
    "        urls = ['https://www.erowid.org/experiences/exp_list.shtml']\n",
    "        for url in urls:\n",
    "            yield scrapy.Request(url=url, callback=self.parse)\n",
    "            \n",
    "    def parse(self, response):\n",
    "        html_file = 'erowid_reports_index.html'\n",
    "        with open(html_file, 'wb') as fout:\n",
    "            fout.write(response.body)"
   ]
  },
  {
   "cell_type": "code",
   "execution_count": null,
   "id": "ea3f4bd2",
   "metadata": {},
   "outputs": [],
   "source": [
    "process = CrawlerProcess()\n",
    "process.crawl(ErowidSpider)\n",
    "process.start()"
   ]
  },
  {
   "cell_type": "code",
   "execution_count": null,
   "id": "d60372d5",
   "metadata": {},
   "outputs": [],
   "source": []
  }
 ],
 "metadata": {
  "kernelspec": {
   "display_name": "Python 3 (ipykernel)",
   "language": "python",
   "name": "python3"
  },
  "language_info": {
   "codemirror_mode": {
    "name": "ipython",
    "version": 3
   },
   "file_extension": ".py",
   "mimetype": "text/x-python",
   "name": "python",
   "nbconvert_exporter": "python",
   "pygments_lexer": "ipython3",
   "version": "3.9.15"
  }
 },
 "nbformat": 4,
 "nbformat_minor": 5
}
