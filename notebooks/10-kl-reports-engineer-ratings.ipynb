{
 "cells": [
  {
   "cell_type": "markdown",
   "id": "391e5e28",
   "metadata": {},
   "source": [
    "# <font color='violet'> Complete Feature Engineering. Assign Ratings to Psychedelic Experience Reports & Analyze Findings\n",
    "    \n",
    "Drawing from scraped psychedelic experience reports that were cleaned here: https://github.com/fractaldatalearning/psychedelic_efficacy/blob/main/notebooks/9-kl-reports-clean-engineer.ipynb"
   ]
  },
  {
   "cell_type": "code",
   "execution_count": null,
   "id": "a1317cf1",
   "metadata": {},
   "outputs": [],
   "source": [
    "import pandas as pd\n",
    "import pickle"
   ]
  },
  {
   "cell_type": "code",
   "execution_count": null,
   "id": "03118808",
   "metadata": {},
   "outputs": [],
   "source": [
    "# prepare to add local python functions; import modules from src directory\n",
    "import sys\n",
    "src = '../src'\n",
    "sys.path.append(src)\n",
    "\n",
    "# import local functions\n",
    "from nlp.feature_engineer import analyze_sentiment"
   ]
  },
  {
   "cell_type": "code",
   "execution_count": null,
   "id": "045e7050",
   "metadata": {},
   "outputs": [],
   "source": [
    "# Import data\n",
    "df = pd.read_csv('../data/processed/erowid_cleaned.csv')\n",
    "df.info()"
   ]
  },
  {
   "cell_type": "code",
   "execution_count": null,
   "id": "1a571953",
   "metadata": {},
   "outputs": [],
   "source": [
    "# Delete irrelevant columns"
   ]
  },
  {
   "cell_type": "code",
   "execution_count": null,
   "id": "537bff6f",
   "metadata": {},
   "outputs": [],
   "source": [
    "# Prepare for modeling"
   ]
  },
  {
   "cell_type": "markdown",
   "id": "47cc2066",
   "metadata": {},
   "source": [
    "<font color='violet'> Use pre-trained model to assign ratings"
   ]
  },
  {
   "cell_type": "code",
   "execution_count": null,
   "id": "d8ac6194",
   "metadata": {},
   "outputs": [],
   "source": [
    "# load pickled trained classifier with which to assign ratings\n",
    "with open(\"../models/trained_model.pkl\", \"rb\") as f:\n",
    "    model = pickle.load(f)\n",
    "\n",
    "# Assign ratings\n",
    "ratings = model.predict(X_unseen)"
   ]
  },
  {
   "cell_type": "code",
   "execution_count": null,
   "id": "c2161e20",
   "metadata": {},
   "outputs": [],
   "source": [
    "df.to_csv('../data/processed/name_this_data.csv')"
   ]
  }
 ],
 "metadata": {
  "kernelspec": {
   "display_name": "Python 3 (ipykernel)",
   "language": "python",
   "name": "python3"
  },
  "language_info": {
   "codemirror_mode": {
    "name": "ipython",
    "version": 3
   },
   "file_extension": ".py",
   "mimetype": "text/x-python",
   "name": "python",
   "nbconvert_exporter": "python",
   "pygments_lexer": "ipython3",
   "version": "3.9.15"
  }
 },
 "nbformat": 4,
 "nbformat_minor": 5
}
