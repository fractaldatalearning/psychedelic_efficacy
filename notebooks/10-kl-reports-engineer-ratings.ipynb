{
 "cells": [
  {
   "cell_type": "markdown",
   "id": "391e5e28",
   "metadata": {},
   "source": [
    "# <font color='violet'> Complete Feature Engineering & Assign Ratigns to Psychedelic Experience Reports\n",
    "    \n",
    "Drawing from scraped psychedelic experience reports that were cleaned here: https://github.com/fractaldatalearning/psychedelic_efficacy/blob/main/notebooks/9-kl-reports-clean-engineer.ipynb"
   ]
  },
  {
   "cell_type": "code",
   "execution_count": null,
   "id": "a1317cf1",
   "metadata": {},
   "outputs": [],
   "source": [
    "import"
   ]
  },
  {
   "cell_type": "code",
   "execution_count": null,
   "id": "03118808",
   "metadata": {},
   "outputs": [],
   "source": [
    "# prepare to add local python functions; import modules from src directory\n",
    "import sys\n",
    "src = '../src'\n",
    "sys.path.append(src)\n",
    "\n",
    "# import local functions\n",
    "from nlp.feature_engineer import analyze_sentiment"
   ]
  },
  {
   "cell_type": "code",
   "execution_count": null,
   "id": "045e7050",
   "metadata": {},
   "outputs": [],
   "source": [
    "df = pd.read_csv('../data/processed/erowid_cleaned.csv')\n",
    "df.info()"
   ]
  },
  {
   "cell_type": "markdown",
   "id": "47cc2066",
   "metadata": {},
   "source": [
    "<font color='violet'> Next Thing. "
   ]
  },
  {
   "cell_type": "code",
   "execution_count": null,
   "id": "c2161e20",
   "metadata": {},
   "outputs": [],
   "source": [
    "df.to_csv('../data/processed/name_this_data.csv')"
   ]
  }
 ],
 "metadata": {
  "kernelspec": {
   "display_name": "Python 3 (ipykernel)",
   "language": "python",
   "name": "python3"
  },
  "language_info": {
   "codemirror_mode": {
    "name": "ipython",
    "version": 3
   },
   "file_extension": ".py",
   "mimetype": "text/x-python",
   "name": "python",
   "nbconvert_exporter": "python",
   "pygments_lexer": "ipython3",
   "version": "3.9.15"
  }
 },
 "nbformat": 4,
 "nbformat_minor": 5
}
