{
 "cells": [
  {
   "cell_type": "markdown",
   "id": "fe933d0f",
   "metadata": {},
   "source": [
    "# <font color='violet'> Deeper EDA on Review Text\n",
    "\n",
    "On data that was cleaned and lemmatized here: https://github.com/fractaldatalearning/psychedelic_efficacy/blob/main/notebooks/4-kl-studies-nlp.ipynb\n",
    "\n",
    "\n",
    "    \n",
    "    Resources with tips for effective EDA visualization with NLP:\n",
    "\n",
    "https://medium.com/plotly/nlp-visualisations-for-clear-immediate-insights-into-text-data-and-outputs-9ebfab168d5b\n",
    "    \n",
    "https://www.numpyninja.com/post/nlp-text-data-visualization\n",
    "    \n",
    "https://www.kaggle.com/code/sainathkrothapalli/nlp-visualisation-guide\n",
    "    \n",
    "https://medium.com/acing-ai/visualizations-in-natural-language-processing-2ca60dd34ce\n",
    "    \n",
    "https://towardsdatascience.com/a-complete-exploratory-data-analysis-and-visualization-for-text-data-29fb1b96fb6a\n",
    "    \n",
    "https://towardsdatascience.com/getting-started-with-text-nlp-visualization-9dcb54bc91dd\n",
    "    \n",
    "https://www.kaggle.com/code/mitramir5/nlp-visualization-eda-glove\n",
    "    \n",
    "https://medium.com/analytics-vidhya/how-to-begin-performing-eda-on-nlp-ffdef92bedf6\n",
    "    \n",
    "https://inside-machinelearning.com/en/eda-nlp/\n",
    "    \n",
    "https://towardsdatascience.com/fundamental-eda-techniques-for-nlp-f81a93696a75\n",
    "    \n",
    "https://neptune.ai/blog/exploratory-data-analysis-natural-language-processing-tools\n",
    "    \n",
    "https://www.kdnuggets.com/2019/05/complete-exploratory-data-analysis-visualization-text-data.html\n",
    "    \n"
   ]
  },
  {
   "cell_type": "code",
   "execution_count": 9,
   "id": "2fde81eb",
   "metadata": {},
   "outputs": [],
   "source": [
    "import pandas as pd\n",
    "import numpy as np"
   ]
  },
  {
   "cell_type": "code",
   "execution_count": 5,
   "id": "967a3948",
   "metadata": {},
   "outputs": [
    {
     "name": "stdout",
     "output_type": "stream",
     "text": [
      "<class 'pandas.core.frame.DataFrame'>\n",
      "RangeIndex: 31559 entries, 0 to 31558\n",
      "Data columns (total 21 columns):\n",
      " #   Column         Non-Null Count  Dtype  \n",
      "---  ------         --------------  -----  \n",
      " 0   rating         31559 non-null  float64\n",
      " 1   condition      31559 non-null  object \n",
      " 2   review         31559 non-null  object \n",
      " 3   date           31451 non-null  object \n",
      " 4   drug0          31559 non-null  object \n",
      " 5   drug1          18992 non-null  object \n",
      " 6   drug2          32 non-null     object \n",
      " 7   drug3          23 non-null     object \n",
      " 8   drug4          12 non-null     object \n",
      " 9   drug5          11 non-null     object \n",
      " 10  drug6          7 non-null      object \n",
      " 11  drug7          5 non-null      object \n",
      " 12  drug8          3 non-null      object \n",
      " 13  drug9          2 non-null      object \n",
      " 14  drug10         2 non-null      object \n",
      " 15  drug11         2 non-null      object \n",
      " 16  drug12         2 non-null      object \n",
      " 17  drug13         2 non-null      object \n",
      " 18  drug14         1 non-null      object \n",
      " 19  drug15         1 non-null      object \n",
      " 20  no_stops_lemm  31559 non-null  object \n",
      "dtypes: float64(1), object(20)\n",
      "memory usage: 5.1+ MB\n"
     ]
    }
   ],
   "source": [
    "df = pd.read_csv('../data/interim/studies_lemmatized.csv').drop(columns=['Unnamed: 0'])\n",
    "df.info()"
   ]
  },
  {
   "cell_type": "markdown",
   "id": "e01325a1",
   "metadata": {},
   "source": [
    "How do the lengths compare for the review strings with just punctuation removed vs. the lemmatized strings?"
   ]
  },
  {
   "cell_type": "code",
   "execution_count": 10,
   "id": "a6ee3456",
   "metadata": {},
   "outputs": [
    {
     "data": {
      "text/plain": [
       "457.6392471244336"
      ]
     },
     "execution_count": 10,
     "metadata": {},
     "output_type": "execute_result"
    }
   ],
   "source": [
    "review_lengths = [len(df.loc[row,'review']) for row in range(len(df))]\n",
    "review_mean_length = np.mean(review_lengths)\n",
    "review_mean_length"
   ]
  },
  {
   "cell_type": "code",
   "execution_count": 11,
   "id": "7fe25096",
   "metadata": {},
   "outputs": [
    {
     "data": {
      "text/plain": [
       "256.8190690452803"
      ]
     },
     "execution_count": 11,
     "metadata": {},
     "output_type": "execute_result"
    }
   ],
   "source": [
    "lemm_length = [len(df.loc[row,'no_stops_lemm']) for row in range(len(df))]\n",
    "lemm_mean_length = np.mean(lemm_length)\n",
    "lemm_mean_length"
   ]
  },
  {
   "cell_type": "code",
   "execution_count": null,
   "id": "3ccef0b0",
   "metadata": {},
   "outputs": [],
   "source": []
  }
 ],
 "metadata": {
  "kernelspec": {
   "display_name": "Python 3 (ipykernel)",
   "language": "python",
   "name": "python3"
  },
  "language_info": {
   "codemirror_mode": {
    "name": "ipython",
    "version": 3
   },
   "file_extension": ".py",
   "mimetype": "text/x-python",
   "name": "python",
   "nbconvert_exporter": "python",
   "pygments_lexer": "ipython3",
   "version": "3.9.15"
  }
 },
 "nbformat": 4,
 "nbformat_minor": 5
}
