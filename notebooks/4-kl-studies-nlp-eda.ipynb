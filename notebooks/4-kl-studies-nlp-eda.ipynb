{
 "cells": [
  {
   "cell_type": "markdown",
   "id": "b783c893",
   "metadata": {},
   "source": [
    "# <font color='violet'> Complete Language Processing, Continue Deeper EDA\n",
    "    \n",
    "Using prescription drug review data analyzed and parsed here: https://github.com/fractaldatalearning/psychedelic_efficacy/blob/main/notebooks/3-kl-studies-early-eda-parse.ipynb"
   ]
  },
  {
   "cell_type": "markdown",
   "id": "fb3d1c24",
   "metadata": {},
   "source": [
    "<font color='violet'> Lemmatize text and do further NLP & EDA in a new notebook once this first round of basic text cleaning is complete. \n",
    "    \n",
    "Resources with tips for effective EDA visualization with NLP:\n",
    "\n",
    "https://medium.com/plotly/nlp-visualisations-for-clear-immediate-insights-into-text-data-and-outputs-9ebfab168d5b\n",
    "    \n",
    "https://www.numpyninja.com/post/nlp-text-data-visualization\n",
    "    \n",
    "https://www.kaggle.com/code/sainathkrothapalli/nlp-visualisation-guide\n",
    "    \n",
    "https://medium.com/acing-ai/visualizations-in-natural-language-processing-2ca60dd34ce\n",
    "    \n",
    "https://towardsdatascience.com/a-complete-exploratory-data-analysis-and-visualization-for-text-data-29fb1b96fb6a\n",
    "    \n",
    "https://towardsdatascience.com/getting-started-with-text-nlp-visualization-9dcb54bc91dd\n",
    "    \n",
    "https://www.kaggle.com/code/mitramir5/nlp-visualization-eda-glove\n",
    "    \n",
    "https://medium.com/analytics-vidhya/how-to-begin-performing-eda-on-nlp-ffdef92bedf6\n",
    "    \n",
    "https://inside-machinelearning.com/en/eda-nlp/\n",
    "    \n",
    "https://towardsdatascience.com/fundamental-eda-techniques-for-nlp-f81a93696a75\n",
    "    \n",
    "https://neptune.ai/blog/exploratory-data-analysis-natural-language-processing-tools\n",
    "    \n",
    "https://www.kdnuggets.com/2019/05/complete-exploratory-data-analysis-visualization-text-data.html\n",
    "    \n"
   ]
  }
 ],
 "metadata": {
  "kernelspec": {
   "display_name": "Python 3 (ipykernel)",
   "language": "python",
   "name": "python3"
  },
  "language_info": {
   "codemirror_mode": {
    "name": "ipython",
    "version": 3
   },
   "file_extension": ".py",
   "mimetype": "text/x-python",
   "name": "python",
   "nbconvert_exporter": "python",
   "pygments_lexer": "ipython3",
   "version": "3.9.15"
  }
 },
 "nbformat": 4,
 "nbformat_minor": 5
}
