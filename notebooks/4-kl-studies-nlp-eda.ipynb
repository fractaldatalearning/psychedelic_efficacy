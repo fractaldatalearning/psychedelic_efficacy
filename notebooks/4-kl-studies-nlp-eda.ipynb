{
 "cells": [
  {
   "cell_type": "markdown",
   "id": "b783c893",
   "metadata": {},
   "source": [
    "# <font color='violet'> Continue Language Processing, Continue Deeper EDA\n",
    "    \n",
    "Using prescription drug review data analyzed and parsed here: https://github.com/fractaldatalearning/psychedelic_efficacy/blob/main/notebooks/3-kl-studies-early-eda-parse.ipynb"
   ]
  },
  {
   "cell_type": "code",
   "execution_count": 7,
   "id": "f77f6db9",
   "metadata": {},
   "outputs": [
    {
     "name": "stdout",
     "output_type": "stream",
     "text": [
      "Collecting en-core-web-sm==3.4.1\n",
      "  Downloading https://github.com/explosion/spacy-models/releases/download/en_core_web_sm-3.4.1/en_core_web_sm-3.4.1-py3-none-any.whl (12.8 MB)\n",
      "\u001b[2K     \u001b[90m━━━━━━━━━━━━━━━━━━━━━━━━━━━━━━━━━━━━━━━\u001b[0m \u001b[32m12.8/12.8 MB\u001b[0m \u001b[31m452.3 kB/s\u001b[0m eta \u001b[36m0:00:00\u001b[0m00:01\u001b[0m00:01\u001b[0m\n",
      "\u001b[?25hRequirement already satisfied: spacy<3.5.0,>=3.4.0 in /Users/admin/opt/anaconda3/envs/psychedelic_efficacy/lib/python3.9/site-packages (from en-core-web-sm==3.4.1) (3.4.4)\n",
      "Requirement already satisfied: langcodes<4.0.0,>=3.2.0 in /Users/admin/opt/anaconda3/envs/psychedelic_efficacy/lib/python3.9/site-packages (from spacy<3.5.0,>=3.4.0->en-core-web-sm==3.4.1) (3.3.0)\n",
      "Requirement already satisfied: numpy>=1.15.0 in /Users/admin/opt/anaconda3/envs/psychedelic_efficacy/lib/python3.9/site-packages (from spacy<3.5.0,>=3.4.0->en-core-web-sm==3.4.1) (1.24.1)\n",
      "Requirement already satisfied: srsly<3.0.0,>=2.4.3 in /Users/admin/opt/anaconda3/envs/psychedelic_efficacy/lib/python3.9/site-packages (from spacy<3.5.0,>=3.4.0->en-core-web-sm==3.4.1) (2.4.5)\n",
      "Requirement already satisfied: cymem<2.1.0,>=2.0.2 in /Users/admin/opt/anaconda3/envs/psychedelic_efficacy/lib/python3.9/site-packages (from spacy<3.5.0,>=3.4.0->en-core-web-sm==3.4.1) (2.0.7)\n",
      "Requirement already satisfied: smart-open<7.0.0,>=5.2.1 in /Users/admin/opt/anaconda3/envs/psychedelic_efficacy/lib/python3.9/site-packages (from spacy<3.5.0,>=3.4.0->en-core-web-sm==3.4.1) (6.3.0)\n",
      "Requirement already satisfied: spacy-loggers<2.0.0,>=1.0.0 in /Users/admin/opt/anaconda3/envs/psychedelic_efficacy/lib/python3.9/site-packages (from spacy<3.5.0,>=3.4.0->en-core-web-sm==3.4.1) (1.0.4)\n",
      "Requirement already satisfied: pathy>=0.3.5 in /Users/admin/opt/anaconda3/envs/psychedelic_efficacy/lib/python3.9/site-packages (from spacy<3.5.0,>=3.4.0->en-core-web-sm==3.4.1) (0.10.1)\n",
      "Requirement already satisfied: requests<3.0.0,>=2.13.0 in /Users/admin/opt/anaconda3/envs/psychedelic_efficacy/lib/python3.9/site-packages (from spacy<3.5.0,>=3.4.0->en-core-web-sm==3.4.1) (2.28.1)\n",
      "Requirement already satisfied: typer<0.8.0,>=0.3.0 in /Users/admin/opt/anaconda3/envs/psychedelic_efficacy/lib/python3.9/site-packages (from spacy<3.5.0,>=3.4.0->en-core-web-sm==3.4.1) (0.7.0)\n",
      "Requirement already satisfied: murmurhash<1.1.0,>=0.28.0 in /Users/admin/opt/anaconda3/envs/psychedelic_efficacy/lib/python3.9/site-packages (from spacy<3.5.0,>=3.4.0->en-core-web-sm==3.4.1) (1.0.9)\n",
      "Requirement already satisfied: packaging>=20.0 in /Users/admin/opt/anaconda3/envs/psychedelic_efficacy/lib/python3.9/site-packages (from spacy<3.5.0,>=3.4.0->en-core-web-sm==3.4.1) (22.0)\n",
      "Requirement already satisfied: thinc<8.2.0,>=8.1.0 in /Users/admin/opt/anaconda3/envs/psychedelic_efficacy/lib/python3.9/site-packages (from spacy<3.5.0,>=3.4.0->en-core-web-sm==3.4.1) (8.1.6)\n",
      "Requirement already satisfied: jinja2 in /Users/admin/opt/anaconda3/envs/psychedelic_efficacy/lib/python3.9/site-packages (from spacy<3.5.0,>=3.4.0->en-core-web-sm==3.4.1) (3.1.2)\n",
      "Requirement already satisfied: pydantic!=1.8,!=1.8.1,<1.11.0,>=1.7.4 in /Users/admin/opt/anaconda3/envs/psychedelic_efficacy/lib/python3.9/site-packages (from spacy<3.5.0,>=3.4.0->en-core-web-sm==3.4.1) (1.10.4)\n",
      "Requirement already satisfied: catalogue<2.1.0,>=2.0.6 in /Users/admin/opt/anaconda3/envs/psychedelic_efficacy/lib/python3.9/site-packages (from spacy<3.5.0,>=3.4.0->en-core-web-sm==3.4.1) (2.0.8)\n",
      "Requirement already satisfied: tqdm<5.0.0,>=4.38.0 in /Users/admin/opt/anaconda3/envs/psychedelic_efficacy/lib/python3.9/site-packages (from spacy<3.5.0,>=3.4.0->en-core-web-sm==3.4.1) (4.64.1)\n",
      "Requirement already satisfied: preshed<3.1.0,>=3.0.2 in /Users/admin/opt/anaconda3/envs/psychedelic_efficacy/lib/python3.9/site-packages (from spacy<3.5.0,>=3.4.0->en-core-web-sm==3.4.1) (3.0.8)\n",
      "Requirement already satisfied: spacy-legacy<3.1.0,>=3.0.10 in /Users/admin/opt/anaconda3/envs/psychedelic_efficacy/lib/python3.9/site-packages (from spacy<3.5.0,>=3.4.0->en-core-web-sm==3.4.1) (3.0.11)\n",
      "Requirement already satisfied: setuptools in /Users/admin/opt/anaconda3/envs/psychedelic_efficacy/lib/python3.9/site-packages (from spacy<3.5.0,>=3.4.0->en-core-web-sm==3.4.1) (65.5.0)\n",
      "Requirement already satisfied: wasabi<1.1.0,>=0.9.1 in /Users/admin/opt/anaconda3/envs/psychedelic_efficacy/lib/python3.9/site-packages (from spacy<3.5.0,>=3.4.0->en-core-web-sm==3.4.1) (0.10.1)\n",
      "Requirement already satisfied: typing-extensions>=4.2.0 in /Users/admin/opt/anaconda3/envs/psychedelic_efficacy/lib/python3.9/site-packages (from pydantic!=1.8,!=1.8.1,<1.11.0,>=1.7.4->spacy<3.5.0,>=3.4.0->en-core-web-sm==3.4.1) (4.4.0)\n",
      "Requirement already satisfied: urllib3<1.27,>=1.21.1 in /Users/admin/opt/anaconda3/envs/psychedelic_efficacy/lib/python3.9/site-packages (from requests<3.0.0,>=2.13.0->spacy<3.5.0,>=3.4.0->en-core-web-sm==3.4.1) (1.26.13)\n",
      "Requirement already satisfied: certifi>=2017.4.17 in /Users/admin/opt/anaconda3/envs/psychedelic_efficacy/lib/python3.9/site-packages (from requests<3.0.0,>=2.13.0->spacy<3.5.0,>=3.4.0->en-core-web-sm==3.4.1) (2022.12.7)\n",
      "Requirement already satisfied: idna<4,>=2.5 in /Users/admin/opt/anaconda3/envs/psychedelic_efficacy/lib/python3.9/site-packages (from requests<3.0.0,>=2.13.0->spacy<3.5.0,>=3.4.0->en-core-web-sm==3.4.1) (3.4)\n",
      "Requirement already satisfied: charset-normalizer<3,>=2 in /Users/admin/opt/anaconda3/envs/psychedelic_efficacy/lib/python3.9/site-packages (from requests<3.0.0,>=2.13.0->spacy<3.5.0,>=3.4.0->en-core-web-sm==3.4.1) (2.1.1)\n",
      "Requirement already satisfied: blis<0.8.0,>=0.7.8 in /Users/admin/opt/anaconda3/envs/psychedelic_efficacy/lib/python3.9/site-packages (from thinc<8.2.0,>=8.1.0->spacy<3.5.0,>=3.4.0->en-core-web-sm==3.4.1) (0.7.9)\n",
      "Requirement already satisfied: confection<1.0.0,>=0.0.1 in /Users/admin/opt/anaconda3/envs/psychedelic_efficacy/lib/python3.9/site-packages (from thinc<8.2.0,>=8.1.0->spacy<3.5.0,>=3.4.0->en-core-web-sm==3.4.1) (0.0.3)\n",
      "Requirement already satisfied: click<9.0.0,>=7.1.1 in /Users/admin/opt/anaconda3/envs/psychedelic_efficacy/lib/python3.9/site-packages (from typer<0.8.0,>=0.3.0->spacy<3.5.0,>=3.4.0->en-core-web-sm==3.4.1) (8.1.3)\n",
      "Requirement already satisfied: MarkupSafe>=2.0 in /Users/admin/opt/anaconda3/envs/psychedelic_efficacy/lib/python3.9/site-packages (from jinja2->spacy<3.5.0,>=3.4.0->en-core-web-sm==3.4.1) (2.1.1)\n",
      "\u001b[38;5;2m✔ Download and installation successful\u001b[0m\n",
      "You can now load the package via spacy.load('en_core_web_sm')\n"
     ]
    }
   ],
   "source": [
    "# ! pip install spacy\n",
    "# ! python -m spacy download en_core_web_sm"
   ]
  },
  {
   "cell_type": "code",
   "execution_count": 2,
   "id": "af2aaa0b",
   "metadata": {},
   "outputs": [],
   "source": [
    "import pandas as pd\n",
    "import spacy"
   ]
  },
  {
   "cell_type": "code",
   "execution_count": 3,
   "id": "97ca8590",
   "metadata": {},
   "outputs": [
    {
     "name": "stdout",
     "output_type": "stream",
     "text": [
      "<class 'pandas.core.frame.DataFrame'>\n",
      "RangeIndex: 31559 entries, 0 to 31558\n",
      "Data columns (total 23 columns):\n",
      " #   Column         Non-Null Count  Dtype  \n",
      "---  ------         --------------  -----  \n",
      " 0   Unnamed: 0     31559 non-null  int64  \n",
      " 1   rating         31559 non-null  float64\n",
      " 2   condition      31559 non-null  object \n",
      " 3   review         31559 non-null  object \n",
      " 4   date           31451 non-null  object \n",
      " 5   drug0          31559 non-null  object \n",
      " 6   drug1          18992 non-null  object \n",
      " 7   drug2          32 non-null     object \n",
      " 8   drug3          23 non-null     object \n",
      " 9   drug4          12 non-null     object \n",
      " 10  drug5          11 non-null     object \n",
      " 11  drug6          7 non-null      object \n",
      " 12  drug7          5 non-null      object \n",
      " 13  drug8          3 non-null      object \n",
      " 14  drug9          2 non-null      object \n",
      " 15  drug10         2 non-null      object \n",
      " 16  drug11         2 non-null      object \n",
      " 17  drug12         2 non-null      object \n",
      " 18  drug13         2 non-null      object \n",
      " 19  drug14         1 non-null      object \n",
      " 20  drug15         1 non-null      object \n",
      " 21  ratings_count  31559 non-null  int64  \n",
      " 22  count_by_date  31451 non-null  float64\n",
      "dtypes: float64(2), int64(2), object(19)\n",
      "memory usage: 5.5+ MB\n"
     ]
    }
   ],
   "source": [
    "df = pd.read_csv('../data/interim/studies_early_parsing.csv')\n",
    "df.info()"
   ]
  },
  {
   "cell_type": "code",
   "execution_count": 4,
   "id": "1cc51e31",
   "metadata": {},
   "outputs": [
    {
     "data": {
      "text/html": [
       "<div>\n",
       "<style scoped>\n",
       "    .dataframe tbody tr th:only-of-type {\n",
       "        vertical-align: middle;\n",
       "    }\n",
       "\n",
       "    .dataframe tbody tr th {\n",
       "        vertical-align: top;\n",
       "    }\n",
       "\n",
       "    .dataframe thead th {\n",
       "        text-align: right;\n",
       "    }\n",
       "</style>\n",
       "<table border=\"1\" class=\"dataframe\">\n",
       "  <thead>\n",
       "    <tr style=\"text-align: right;\">\n",
       "      <th></th>\n",
       "      <th>rating</th>\n",
       "      <th>condition</th>\n",
       "      <th>review</th>\n",
       "      <th>date</th>\n",
       "      <th>drug0</th>\n",
       "      <th>drug1</th>\n",
       "      <th>drug2</th>\n",
       "      <th>drug3</th>\n",
       "      <th>drug4</th>\n",
       "      <th>drug5</th>\n",
       "      <th>drug6</th>\n",
       "      <th>drug7</th>\n",
       "      <th>drug8</th>\n",
       "      <th>drug9</th>\n",
       "      <th>drug10</th>\n",
       "      <th>drug11</th>\n",
       "      <th>drug12</th>\n",
       "      <th>drug13</th>\n",
       "      <th>drug14</th>\n",
       "      <th>drug15</th>\n",
       "    </tr>\n",
       "  </thead>\n",
       "  <tbody>\n",
       "    <tr>\n",
       "      <th>0</th>\n",
       "      <td>9.0</td>\n",
       "      <td>add</td>\n",
       "      <td>I had began taking 20mg of Vyvanse for three m...</td>\n",
       "      <td>NaN</td>\n",
       "      <td>vyvanse</td>\n",
       "      <td>NaN</td>\n",
       "      <td>NaN</td>\n",
       "      <td>NaN</td>\n",
       "      <td>NaN</td>\n",
       "      <td>NaN</td>\n",
       "      <td>NaN</td>\n",
       "      <td>NaN</td>\n",
       "      <td>NaN</td>\n",
       "      <td>NaN</td>\n",
       "      <td>NaN</td>\n",
       "      <td>NaN</td>\n",
       "      <td>NaN</td>\n",
       "      <td>NaN</td>\n",
       "      <td>NaN</td>\n",
       "      <td>NaN</td>\n",
       "    </tr>\n",
       "    <tr>\n",
       "      <th>1</th>\n",
       "      <td>8.0</td>\n",
       "      <td>add</td>\n",
       "      <td>Switched from Adderall to Dexedrine to compare...</td>\n",
       "      <td>NaN</td>\n",
       "      <td>dextroamphetamine</td>\n",
       "      <td>NaN</td>\n",
       "      <td>NaN</td>\n",
       "      <td>NaN</td>\n",
       "      <td>NaN</td>\n",
       "      <td>NaN</td>\n",
       "      <td>NaN</td>\n",
       "      <td>NaN</td>\n",
       "      <td>NaN</td>\n",
       "      <td>NaN</td>\n",
       "      <td>NaN</td>\n",
       "      <td>NaN</td>\n",
       "      <td>NaN</td>\n",
       "      <td>NaN</td>\n",
       "      <td>NaN</td>\n",
       "      <td>NaN</td>\n",
       "    </tr>\n",
       "    <tr>\n",
       "      <th>2</th>\n",
       "      <td>8.0</td>\n",
       "      <td>adhd</td>\n",
       "      <td>I have only been on Vyvanse for 2 weeks  I sta...</td>\n",
       "      <td>NaN</td>\n",
       "      <td>vyvanse</td>\n",
       "      <td>NaN</td>\n",
       "      <td>NaN</td>\n",
       "      <td>NaN</td>\n",
       "      <td>NaN</td>\n",
       "      <td>NaN</td>\n",
       "      <td>NaN</td>\n",
       "      <td>NaN</td>\n",
       "      <td>NaN</td>\n",
       "      <td>NaN</td>\n",
       "      <td>NaN</td>\n",
       "      <td>NaN</td>\n",
       "      <td>NaN</td>\n",
       "      <td>NaN</td>\n",
       "      <td>NaN</td>\n",
       "      <td>NaN</td>\n",
       "    </tr>\n",
       "  </tbody>\n",
       "</table>\n",
       "</div>"
      ],
      "text/plain": [
       "   rating condition                                             review date  \\\n",
       "0     9.0       add  I had began taking 20mg of Vyvanse for three m...  NaN   \n",
       "1     8.0       add  Switched from Adderall to Dexedrine to compare...  NaN   \n",
       "2     8.0      adhd  I have only been on Vyvanse for 2 weeks  I sta...  NaN   \n",
       "\n",
       "               drug0 drug1 drug2 drug3 drug4 drug5 drug6 drug7 drug8 drug9  \\\n",
       "0            vyvanse   NaN   NaN   NaN   NaN   NaN   NaN   NaN   NaN   NaN   \n",
       "1  dextroamphetamine   NaN   NaN   NaN   NaN   NaN   NaN   NaN   NaN   NaN   \n",
       "2            vyvanse   NaN   NaN   NaN   NaN   NaN   NaN   NaN   NaN   NaN   \n",
       "\n",
       "  drug10 drug11 drug12 drug13 drug14 drug15  \n",
       "0    NaN    NaN    NaN    NaN    NaN    NaN  \n",
       "1    NaN    NaN    NaN    NaN    NaN    NaN  \n",
       "2    NaN    NaN    NaN    NaN    NaN    NaN  "
      ]
     },
     "execution_count": 4,
     "metadata": {},
     "output_type": "execute_result"
    }
   ],
   "source": [
    "# Delete unnamed column and columns I'd used for eda previously but won't need here.\n",
    "df = df.drop(columns = ['Unnamed: 0', 'ratings_count', 'count_by_date'])\n",
    "df.head(3)"
   ]
  },
  {
   "cell_type": "markdown",
   "id": "fb3d1c24",
   "metadata": {},
   "source": [
    "<font color='violet'> Lemmatize text & Remove Stopwords"
   ]
  },
  {
   "cell_type": "code",
   "execution_count": 9,
   "id": "393b9a38",
   "metadata": {},
   "outputs": [
    {
     "data": {
      "text/plain": [
       "0    begin take 20 mg Vyvanse month surprised find ...\n",
       "1    switch Adderall Dexedrine compare effect Dexed...\n",
       "2    Vyvanse 2 week   start 40 mg 60 mg week probab...\n",
       "3    1 subcutaneous injection somatropin abdoman in...\n",
       "4    ss ss diseaseLewy body Syndrome Demenia take r...\n",
       "Name: stops_removed, dtype: object"
      ]
     },
     "execution_count": 9,
     "metadata": {},
     "output_type": "execute_result"
    }
   ],
   "source": [
    "nlp = spacy.load('en_core_web_sm')\n",
    "\n",
    "stopwords = spacy.lang.en.stop_words.STOP_WORDS        \n",
    "\n",
    "df['stops_removed'] = df.review.apply(lambda text: \" \".join(token.lemma_ for token in nlp(text) if not token.is_stop))\n",
    "\n",
    "df['stops_removed'].head()"
   ]
  },
  {
   "cell_type": "code",
   "execution_count": 11,
   "id": "38fdec62",
   "metadata": {},
   "outputs": [
    {
     "data": {
      "text/plain": [
       "'far throwing stop headache come food look good eat craving easy diet ;) pass final amazing drug make strattera look like tylenol ! throw alot bad headache twitch crazy heart beat loss appetite   plus eye   happy thought   like wow soo beautiful reason pop head alot   negative thought worry homework constantly fine need switch straterra depressed quiet sleep like hour night drug horrible switch Vyvanse time take like anti deppresant normal happy hyper focus study start comme bad dry heave TERRIBLE HEADACHE hour throw irritated twitch ALOT heart beat fast heavy second day body start get use anymore problem'"
      ]
     },
     "execution_count": 11,
     "metadata": {},
     "output_type": "execute_result"
    }
   ],
   "source": [
    "# Check to see what happened with everything, including. There was one in row 6. \n",
    "df.stops_removed[6]"
   ]
  },
  {
   "cell_type": "markdown",
   "id": "930169cd",
   "metadata": {},
   "source": [
    "I can see that each word is a basic lemma, and stopwords are removed successfully. \n",
    "\n",
    "Since I didn't want to simply strip all punctuation initially, I know some of it remains. Now, I should find any remaining punctuation and decide what to do with it on a more case-by-case basis. \n",
    "\n",
    "<font color='violet'> Deal with remaining punctuation"
   ]
  },
  {
   "cell_type": "code",
   "execution_count": 26,
   "id": "614d5c1a",
   "metadata": {},
   "outputs": [
    {
     "data": {
      "text/plain": [
       "{'\\t',\n",
       " '\\n',\n",
       " '\\r',\n",
       " ' ',\n",
       " '!',\n",
       " '#',\n",
       " '$',\n",
       " '%',\n",
       " '(',\n",
       " ')',\n",
       " '+',\n",
       " '0',\n",
       " '1',\n",
       " '2',\n",
       " '3',\n",
       " '4',\n",
       " '5',\n",
       " '6',\n",
       " '7',\n",
       " '8',\n",
       " '9',\n",
       " ':',\n",
       " ';',\n",
       " '=',\n",
       " '?',\n",
       " '\\\\',\n",
       " '`',\n",
       " '\\x7f'}"
      ]
     },
     "execution_count": 26,
     "metadata": {},
     "output_type": "execute_result"
    }
   ],
   "source": [
    "punctuation = set([token for token in df.stops_removed.str.cat(sep=' ') if \n",
    "                   token.isalpha()==False])\n",
    "punctuation"
   ]
  },
  {
   "cell_type": "code",
   "execution_count": 45,
   "id": "e19d00a2",
   "metadata": {},
   "outputs": [
    {
     "data": {
      "text/html": [
       "<div>\n",
       "<style scoped>\n",
       "    .dataframe tbody tr th:only-of-type {\n",
       "        vertical-align: middle;\n",
       "    }\n",
       "\n",
       "    .dataframe tbody tr th {\n",
       "        vertical-align: top;\n",
       "    }\n",
       "\n",
       "    .dataframe thead th {\n",
       "        text-align: right;\n",
       "    }\n",
       "</style>\n",
       "<table border=\"1\" class=\"dataframe\">\n",
       "  <thead>\n",
       "    <tr style=\"text-align: right;\">\n",
       "      <th></th>\n",
       "      <th>rating</th>\n",
       "      <th>condition</th>\n",
       "      <th>review</th>\n",
       "      <th>date</th>\n",
       "      <th>drug0</th>\n",
       "      <th>drug1</th>\n",
       "      <th>drug2</th>\n",
       "      <th>drug3</th>\n",
       "      <th>drug4</th>\n",
       "      <th>drug5</th>\n",
       "      <th>...</th>\n",
       "      <th>drug7</th>\n",
       "      <th>drug8</th>\n",
       "      <th>drug9</th>\n",
       "      <th>drug10</th>\n",
       "      <th>drug11</th>\n",
       "      <th>drug12</th>\n",
       "      <th>drug13</th>\n",
       "      <th>drug14</th>\n",
       "      <th>drug15</th>\n",
       "      <th>stops_removed</th>\n",
       "    </tr>\n",
       "  </thead>\n",
       "  <tbody>\n",
       "    <tr>\n",
       "      <th>1600</th>\n",
       "      <td>1.0</td>\n",
       "      <td>depression</td>\n",
       "      <td>bull \\t19 April 2016\\r\\r\\n\\r\\r\\nBegan initial ...</td>\n",
       "      <td>2016-04-22</td>\n",
       "      <td>duloxetine</td>\n",
       "      <td>NaN</td>\n",
       "      <td>NaN</td>\n",
       "      <td>NaN</td>\n",
       "      <td>NaN</td>\n",
       "      <td>NaN</td>\n",
       "      <td>...</td>\n",
       "      <td>NaN</td>\n",
       "      <td>NaN</td>\n",
       "      <td>NaN</td>\n",
       "      <td>NaN</td>\n",
       "      <td>NaN</td>\n",
       "      <td>NaN</td>\n",
       "      <td>NaN</td>\n",
       "      <td>NaN</td>\n",
       "      <td>NaN</td>\n",
       "      <td>bull \\t 19 April 2016 \\r\\r\\n\\r\\r\\n begin initi...</td>\n",
       "    </tr>\n",
       "  </tbody>\n",
       "</table>\n",
       "<p>1 rows × 21 columns</p>\n",
       "</div>"
      ],
      "text/plain": [
       "      rating   condition                                             review  \\\n",
       "1600     1.0  depression  bull \\t19 April 2016\\r\\r\\n\\r\\r\\nBegan initial ...   \n",
       "\n",
       "            date       drug0 drug1 drug2 drug3 drug4 drug5  ... drug7 drug8  \\\n",
       "1600  2016-04-22  duloxetine   NaN   NaN   NaN   NaN   NaN  ...   NaN   NaN   \n",
       "\n",
       "     drug9 drug10 drug11 drug12 drug13 drug14 drug15  \\\n",
       "1600   NaN    NaN    NaN    NaN    NaN    NaN    NaN   \n",
       "\n",
       "                                          stops_removed  \n",
       "1600  bull \\t 19 April 2016 \\r\\r\\n\\r\\r\\n begin initi...  \n",
       "\n",
       "[1 rows x 21 columns]"
      ]
     },
     "execution_count": 45,
     "metadata": {},
     "output_type": "execute_result"
    }
   ],
   "source": [
    "# Identify obviously unwanted symbols. Some of the symbols above still carry meaning\n",
    "replacements = ['\\t', '\\n', '\\r', '\\\\', '`', '\\x7f']\n",
    "\n",
    "# Find where some of these occur, so as to see if removing them work?\n",
    "df[df.stops_removed.str.find('\\t')!=-1].head(1)"
   ]
  },
  {
   "cell_type": "code",
   "execution_count": 29,
   "id": "6bf05ee5",
   "metadata": {},
   "outputs": [
    {
     "data": {
      "text/html": [
       "<div>\n",
       "<style scoped>\n",
       "    .dataframe tbody tr th:only-of-type {\n",
       "        vertical-align: middle;\n",
       "    }\n",
       "\n",
       "    .dataframe tbody tr th {\n",
       "        vertical-align: top;\n",
       "    }\n",
       "\n",
       "    .dataframe thead th {\n",
       "        text-align: right;\n",
       "    }\n",
       "</style>\n",
       "<table border=\"1\" class=\"dataframe\">\n",
       "  <thead>\n",
       "    <tr style=\"text-align: right;\">\n",
       "      <th></th>\n",
       "      <th>rating</th>\n",
       "      <th>condition</th>\n",
       "      <th>review</th>\n",
       "      <th>date</th>\n",
       "      <th>drug0</th>\n",
       "      <th>drug1</th>\n",
       "      <th>drug2</th>\n",
       "      <th>drug3</th>\n",
       "      <th>drug4</th>\n",
       "      <th>drug5</th>\n",
       "      <th>...</th>\n",
       "      <th>drug7</th>\n",
       "      <th>drug8</th>\n",
       "      <th>drug9</th>\n",
       "      <th>drug10</th>\n",
       "      <th>drug11</th>\n",
       "      <th>drug12</th>\n",
       "      <th>drug13</th>\n",
       "      <th>drug14</th>\n",
       "      <th>drug15</th>\n",
       "      <th>stops_removed</th>\n",
       "    </tr>\n",
       "  </thead>\n",
       "  <tbody>\n",
       "    <tr>\n",
       "      <th>85</th>\n",
       "      <td>9.0</td>\n",
       "      <td>add</td>\n",
       "      <td>Took 20mg 3x a day Immediate release worked be...</td>\n",
       "      <td>NaN</td>\n",
       "      <td>adderall</td>\n",
       "      <td>NaN</td>\n",
       "      <td>NaN</td>\n",
       "      <td>NaN</td>\n",
       "      <td>NaN</td>\n",
       "      <td>NaN</td>\n",
       "      <td>...</td>\n",
       "      <td>NaN</td>\n",
       "      <td>NaN</td>\n",
       "      <td>NaN</td>\n",
       "      <td>NaN</td>\n",
       "      <td>NaN</td>\n",
       "      <td>NaN</td>\n",
       "      <td>NaN</td>\n",
       "      <td>NaN</td>\n",
       "      <td>NaN</td>\n",
       "      <td>take 20 mg 3x day Immediate release work well ...</td>\n",
       "    </tr>\n",
       "  </tbody>\n",
       "</table>\n",
       "<p>1 rows × 21 columns</p>\n",
       "</div>"
      ],
      "text/plain": [
       "    rating condition                                             review date  \\\n",
       "85     9.0       add  Took 20mg 3x a day Immediate release worked be...  NaN   \n",
       "\n",
       "       drug0 drug1 drug2 drug3 drug4 drug5  ... drug7 drug8 drug9 drug10  \\\n",
       "85  adderall   NaN   NaN   NaN   NaN   NaN  ...   NaN   NaN   NaN    NaN   \n",
       "\n",
       "   drug11 drug12 drug13 drug14 drug15  \\\n",
       "85    NaN    NaN    NaN    NaN    NaN   \n",
       "\n",
       "                                        stops_removed  \n",
       "85  take 20 mg 3x day Immediate release work well ...  \n",
       "\n",
       "[1 rows x 21 columns]"
      ]
     },
     "execution_count": 29,
     "metadata": {},
     "output_type": "execute_result"
    }
   ],
   "source": [
    "df[df.stops_removed.str.find('\\\\')!=-1].head(1)"
   ]
  },
  {
   "cell_type": "code",
   "execution_count": 33,
   "id": "7101b326",
   "metadata": {},
   "outputs": [
    {
     "data": {
      "text/plain": [
       "'take 20 mg 3x day Immediate release work well extended version control med taper needsschedule day Dry mouth lead dental cavity desire smoke increase Jawhandfoot clench Loss appetite great keep thin force eatdrink Ability focus motivation energy stamina increase feeling wellbeing black hole depression sleep improve trouble go sleep quell disturbing\\\\busy dream leave exhausted morning lie awake night try slow calm mind'"
      ]
     },
     "execution_count": 33,
     "metadata": {},
     "output_type": "execute_result"
    }
   ],
   "source": [
    "df.stops_removed[85]"
   ]
  },
  {
   "cell_type": "code",
   "execution_count": 30,
   "id": "5ced222d",
   "metadata": {},
   "outputs": [
    {
     "data": {
      "text/html": [
       "<div>\n",
       "<style scoped>\n",
       "    .dataframe tbody tr th:only-of-type {\n",
       "        vertical-align: middle;\n",
       "    }\n",
       "\n",
       "    .dataframe tbody tr th {\n",
       "        vertical-align: top;\n",
       "    }\n",
       "\n",
       "    .dataframe thead th {\n",
       "        text-align: right;\n",
       "    }\n",
       "</style>\n",
       "<table border=\"1\" class=\"dataframe\">\n",
       "  <thead>\n",
       "    <tr style=\"text-align: right;\">\n",
       "      <th></th>\n",
       "      <th>rating</th>\n",
       "      <th>condition</th>\n",
       "      <th>review</th>\n",
       "      <th>date</th>\n",
       "      <th>drug0</th>\n",
       "      <th>drug1</th>\n",
       "      <th>drug2</th>\n",
       "      <th>drug3</th>\n",
       "      <th>drug4</th>\n",
       "      <th>drug5</th>\n",
       "      <th>...</th>\n",
       "      <th>drug7</th>\n",
       "      <th>drug8</th>\n",
       "      <th>drug9</th>\n",
       "      <th>drug10</th>\n",
       "      <th>drug11</th>\n",
       "      <th>drug12</th>\n",
       "      <th>drug13</th>\n",
       "      <th>drug14</th>\n",
       "      <th>drug15</th>\n",
       "      <th>stops_removed</th>\n",
       "    </tr>\n",
       "  </thead>\n",
       "  <tbody>\n",
       "    <tr>\n",
       "      <th>2535</th>\n",
       "      <td>10.0</td>\n",
       "      <td>other</td>\n",
       "      <td>I`ve had Ulcerative Colitis  YOUC  since I was...</td>\n",
       "      <td>2008-06-09</td>\n",
       "      <td>alprazolam</td>\n",
       "      <td>NaN</td>\n",
       "      <td>NaN</td>\n",
       "      <td>NaN</td>\n",
       "      <td>NaN</td>\n",
       "      <td>NaN</td>\n",
       "      <td>...</td>\n",
       "      <td>NaN</td>\n",
       "      <td>NaN</td>\n",
       "      <td>NaN</td>\n",
       "      <td>NaN</td>\n",
       "      <td>NaN</td>\n",
       "      <td>NaN</td>\n",
       "      <td>NaN</td>\n",
       "      <td>NaN</td>\n",
       "      <td>NaN</td>\n",
       "      <td>i`ve Ulcerative Colitis   youc   17 age 25 thi...</td>\n",
       "    </tr>\n",
       "  </tbody>\n",
       "</table>\n",
       "<p>1 rows × 21 columns</p>\n",
       "</div>"
      ],
      "text/plain": [
       "      rating condition                                             review  \\\n",
       "2535    10.0     other  I`ve had Ulcerative Colitis  YOUC  since I was...   \n",
       "\n",
       "            date       drug0 drug1 drug2 drug3 drug4 drug5  ... drug7 drug8  \\\n",
       "2535  2008-06-09  alprazolam   NaN   NaN   NaN   NaN   NaN  ...   NaN   NaN   \n",
       "\n",
       "     drug9 drug10 drug11 drug12 drug13 drug14 drug15  \\\n",
       "2535   NaN    NaN    NaN    NaN    NaN    NaN    NaN   \n",
       "\n",
       "                                          stops_removed  \n",
       "2535  i`ve Ulcerative Colitis   youc   17 age 25 thi...  \n",
       "\n",
       "[1 rows x 21 columns]"
      ]
     },
     "execution_count": 30,
     "metadata": {},
     "output_type": "execute_result"
    }
   ],
   "source": [
    "df[df.stops_removed.str.find('`')!=-1].head(1)"
   ]
  },
  {
   "cell_type": "code",
   "execution_count": 32,
   "id": "57357152",
   "metadata": {},
   "outputs": [
    {
     "data": {
      "text/html": [
       "<div>\n",
       "<style scoped>\n",
       "    .dataframe tbody tr th:only-of-type {\n",
       "        vertical-align: middle;\n",
       "    }\n",
       "\n",
       "    .dataframe tbody tr th {\n",
       "        vertical-align: top;\n",
       "    }\n",
       "\n",
       "    .dataframe thead th {\n",
       "        text-align: right;\n",
       "    }\n",
       "</style>\n",
       "<table border=\"1\" class=\"dataframe\">\n",
       "  <thead>\n",
       "    <tr style=\"text-align: right;\">\n",
       "      <th></th>\n",
       "      <th>rating</th>\n",
       "      <th>condition</th>\n",
       "      <th>review</th>\n",
       "      <th>date</th>\n",
       "      <th>drug0</th>\n",
       "      <th>drug1</th>\n",
       "      <th>drug2</th>\n",
       "      <th>drug3</th>\n",
       "      <th>drug4</th>\n",
       "      <th>drug5</th>\n",
       "      <th>...</th>\n",
       "      <th>drug7</th>\n",
       "      <th>drug8</th>\n",
       "      <th>drug9</th>\n",
       "      <th>drug10</th>\n",
       "      <th>drug11</th>\n",
       "      <th>drug12</th>\n",
       "      <th>drug13</th>\n",
       "      <th>drug14</th>\n",
       "      <th>drug15</th>\n",
       "      <th>stops_removed</th>\n",
       "    </tr>\n",
       "  </thead>\n",
       "  <tbody>\n",
       "    <tr>\n",
       "      <th>25327</th>\n",
       "      <td>1.0</td>\n",
       "      <td>schizophrenia</td>\n",
       "      <td>I was told that Latuda is a better tablet than...</td>\n",
       "      <td>2016-10-06</td>\n",
       "      <td>lurasidone</td>\n",
       "      <td>latuda</td>\n",
       "      <td>NaN</td>\n",
       "      <td>NaN</td>\n",
       "      <td>NaN</td>\n",
       "      <td>NaN</td>\n",
       "      <td>...</td>\n",
       "      <td>NaN</td>\n",
       "      <td>NaN</td>\n",
       "      <td>NaN</td>\n",
       "      <td>NaN</td>\n",
       "      <td>NaN</td>\n",
       "      <td>NaN</td>\n",
       "      <td>NaN</td>\n",
       "      <td>NaN</td>\n",
       "      <td>NaN</td>\n",
       "      <td>tell Latuda well tablet take old tablet stelaz...</td>\n",
       "    </tr>\n",
       "  </tbody>\n",
       "</table>\n",
       "<p>1 rows × 21 columns</p>\n",
       "</div>"
      ],
      "text/plain": [
       "       rating      condition  \\\n",
       "25327     1.0  schizophrenia   \n",
       "\n",
       "                                                  review        date  \\\n",
       "25327  I was told that Latuda is a better tablet than...  2016-10-06   \n",
       "\n",
       "            drug0   drug1 drug2 drug3 drug4 drug5  ... drug7 drug8 drug9  \\\n",
       "25327  lurasidone  latuda   NaN   NaN   NaN   NaN  ...   NaN   NaN   NaN   \n",
       "\n",
       "      drug10 drug11 drug12 drug13 drug14 drug15  \\\n",
       "25327    NaN    NaN    NaN    NaN    NaN    NaN   \n",
       "\n",
       "                                           stops_removed  \n",
       "25327  tell Latuda well tablet take old tablet stelaz...  \n",
       "\n",
       "[1 rows x 21 columns]"
      ]
     },
     "execution_count": 32,
     "metadata": {},
     "output_type": "execute_result"
    }
   ],
   "source": [
    "df[df.stops_removed.str.find('\\x7f')!=-1].head(1)"
   ]
  },
  {
   "cell_type": "code",
   "execution_count": 35,
   "id": "2d1ff537",
   "metadata": {},
   "outputs": [
    {
     "data": {
      "text/plain": [
       "'tell Latuda well tablet take old tablet stelazine 10ml day affect tired time sleep that#039 s I#039 m 60ml day effect bad one bad thing happen tonight life aggressive against\\x7f daughter husband like Stelazine \\r\\r\\n husband tear tonight attitude aggressive behavior didn#039 t feel remorse definitely good tablet Schizophrenia Bipolar depression don#039 t care hard Stelazine I#039 m go stelazine well family    '"
      ]
     },
     "execution_count": 35,
     "metadata": {},
     "output_type": "execute_result"
    }
   ],
   "source": [
    "df.stops_removed[25327]"
   ]
  },
  {
   "cell_type": "code",
   "execution_count": 51,
   "id": "d25079ee",
   "metadata": {},
   "outputs": [
    {
     "data": {
      "text/plain": [
       "'bull   19 April 2016        begin initial dose 2230 hour Felt medicine work frac12 ; hour good mood take Warfarin date drift sleep glance clock approx 2300 hrs odd feeling throat possibly close remember worry go ? feeling throat persist feel ldquo Adamrsquo s applerdquo   fluttering elevated heart rate soon fall asleep med take Atorvastatin        bull   20 April 2016         awake 0600 hour bathroom arise feel damp spot underwear pull sheet discovered Shit bed sleep Felt real dizzy drowsy Thought ldquo amp   why?rdquo   happen go shower        morning continue 0630 effect evident     1   ldquo Hot flashesrdquo   absolutely miserable   stay comfortable firstly flush sweat cold turn air conditioner fan half hour hot continue stop extremely bad migraine wake let Sensitive noise light sound     2   feeling throat wake drink water cool stop didnrsquo t     3   face tingle     4   moderately nauseous stand sit nausea continue day special K cereal bar ease morning have relief hour     5   Tried eat cereal lunch discover unable eat taste make sicker     6   take 500 mg acetaminophen 0700 relief slight head ache return hour     7   overall neck pain ease arthritic symptom definitley tell difference head ache           8   decide dosage morning 1000 hrs avoid loss bowel control sleep hour feel work system effect mention severe headache Nausea day course unbearable hot amp   cold feeling think eventually pass     9   Laid 1400 1700 alleviate symptom awake nap try eat dinner bite sick stomach Headaches     10   Overall feel bedtime day try tomorrow morning     med Atorvastatin acetaminophen        bull   21 April 2016        awake 0815   bowel leakage take dose Duloxetine 1000 able tolerate cereal bar   notice effect unable bowel movement hour try   stop medication   feel effect terrible    '"
      ]
     },
     "execution_count": 51,
     "metadata": {},
     "output_type": "execute_result"
    }
   ],
   "source": [
    "# Remove these tokens wherever they are\n",
    "df['stripped'] = df.stops_removed\n",
    "for symbol in replacements:\n",
    "    df['stripped'] = df.stripped.str.replace(symbol, ' ', regex=False)\n",
    "\n",
    "df.stripped[1600]"
   ]
  },
  {
   "cell_type": "code",
   "execution_count": 53,
   "id": "e9e1d6fb",
   "metadata": {},
   "outputs": [
    {
     "data": {
      "text/plain": [
       "'take 20 mg 3x day Immediate release work well extended version control med taper needsschedule day Dry mouth lead dental cavity desire smoke increase Jawhandfoot clench Loss appetite great keep thin force eatdrink Ability focus motivation energy stamina increase feeling wellbeing black hole depression sleep improve trouble go sleep quell disturbing busy dream leave exhausted morning lie awake night try slow calm mind'"
      ]
     },
     "execution_count": 53,
     "metadata": {},
     "output_type": "execute_result"
    }
   ],
   "source": [
    "df.stripped[85]"
   ]
  },
  {
   "cell_type": "code",
   "execution_count": 54,
   "id": "a11f308b",
   "metadata": {},
   "outputs": [
    {
     "data": {
      "text/plain": [
       "'i ve Ulcerative Colitis   youc   17 age 25 think have heart attack go emergency room diagnose panic attack give XANAX ( 1 mg   heart attack tell doctor story history youc prescribe 2 mg day I#039 m 37 year young XANAX free tyranny debilitate condition    '"
      ]
     },
     "execution_count": 54,
     "metadata": {},
     "output_type": "execute_result"
    }
   ],
   "source": [
    "df.stripped[2535]"
   ]
  },
  {
   "cell_type": "code",
   "execution_count": 55,
   "id": "f8e29364",
   "metadata": {},
   "outputs": [
    {
     "data": {
      "text/plain": [
       "'tell Latuda well tablet take old tablet stelazine 10ml day affect tired time sleep that#039 s I#039 m 60ml day effect bad one bad thing happen tonight life aggressive against  daughter husband like Stelazine     husband tear tonight attitude aggressive behavior didn#039 t feel remorse definitely good tablet Schizophrenia Bipolar depression don#039 t care hard Stelazine I#039 m go stelazine well family    '"
      ]
     },
     "execution_count": 55,
     "metadata": {},
     "output_type": "execute_result"
    }
   ],
   "source": [
    "df.stripped[25327]"
   ]
  },
  {
   "cell_type": "markdown",
   "id": "a1ef6216",
   "metadata": {},
   "source": [
    "That worked to get rid of the most obviously meaningless symbols. Non-alphabetic characters yet to deal with are: ! # $ ( ) + : ; = ? 0-9\n",
    "\n",
    "! I'm going to keep wherever it appears because it's so strongly indicative of sentiment.\n",
    "For the rest, I'd like to check out individually and see where exactly they appear. \n",
    "\n",
    "<font color='violet'> Inspect context of characters that may or may not impact sentiment"
   ]
  },
  {
   "cell_type": "code",
   "execution_count": 65,
   "id": "2d8002e4",
   "metadata": {},
   "outputs": [
    {
     "data": {
      "text/html": [
       "<div>\n",
       "<style scoped>\n",
       "    .dataframe tbody tr th:only-of-type {\n",
       "        vertical-align: middle;\n",
       "    }\n",
       "\n",
       "    .dataframe tbody tr th {\n",
       "        vertical-align: top;\n",
       "    }\n",
       "\n",
       "    .dataframe thead th {\n",
       "        text-align: right;\n",
       "    }\n",
       "</style>\n",
       "<table border=\"1\" class=\"dataframe\">\n",
       "  <thead>\n",
       "    <tr style=\"text-align: right;\">\n",
       "      <th></th>\n",
       "      <th>rating</th>\n",
       "      <th>condition</th>\n",
       "      <th>review</th>\n",
       "      <th>date</th>\n",
       "      <th>drug0</th>\n",
       "      <th>drug1</th>\n",
       "      <th>drug2</th>\n",
       "      <th>drug3</th>\n",
       "      <th>drug4</th>\n",
       "      <th>drug5</th>\n",
       "      <th>...</th>\n",
       "      <th>drug8</th>\n",
       "      <th>drug9</th>\n",
       "      <th>drug10</th>\n",
       "      <th>drug11</th>\n",
       "      <th>drug12</th>\n",
       "      <th>drug13</th>\n",
       "      <th>drug14</th>\n",
       "      <th>drug15</th>\n",
       "      <th>stops_removed</th>\n",
       "      <th>stripped</th>\n",
       "    </tr>\n",
       "  </thead>\n",
       "  <tbody>\n",
       "    <tr>\n",
       "      <th>108</th>\n",
       "      <td>10.0</td>\n",
       "      <td>depression</td>\n",
       "      <td>I#039 ve tried a few antidepressants over the ...</td>\n",
       "      <td>2012-02-28</td>\n",
       "      <td>mirtazapine</td>\n",
       "      <td>NaN</td>\n",
       "      <td>NaN</td>\n",
       "      <td>NaN</td>\n",
       "      <td>NaN</td>\n",
       "      <td>NaN</td>\n",
       "      <td>...</td>\n",
       "      <td>NaN</td>\n",
       "      <td>NaN</td>\n",
       "      <td>NaN</td>\n",
       "      <td>NaN</td>\n",
       "      <td>NaN</td>\n",
       "      <td>NaN</td>\n",
       "      <td>NaN</td>\n",
       "      <td>NaN</td>\n",
       "      <td>I#039 ve try antidepressant year   citalopram ...</td>\n",
       "      <td>I#039 ve try antidepressant year   citalopram ...</td>\n",
       "    </tr>\n",
       "    <tr>\n",
       "      <th>109</th>\n",
       "      <td>7.0</td>\n",
       "      <td>addiction</td>\n",
       "      <td>I Have been on Methadone for over ten years an...</td>\n",
       "      <td>2016-10-18</td>\n",
       "      <td>methadone</td>\n",
       "      <td>NaN</td>\n",
       "      <td>NaN</td>\n",
       "      <td>NaN</td>\n",
       "      <td>NaN</td>\n",
       "      <td>NaN</td>\n",
       "      <td>...</td>\n",
       "      <td>NaN</td>\n",
       "      <td>NaN</td>\n",
       "      <td>NaN</td>\n",
       "      <td>NaN</td>\n",
       "      <td>NaN</td>\n",
       "      <td>NaN</td>\n",
       "      <td>NaN</td>\n",
       "      <td>NaN</td>\n",
       "      <td>Methadone year currentlyI try drug decrease 2 ...</td>\n",
       "      <td>Methadone year currentlyI try drug decrease 2 ...</td>\n",
       "    </tr>\n",
       "    <tr>\n",
       "      <th>112</th>\n",
       "      <td>10.0</td>\n",
       "      <td>addiction</td>\n",
       "      <td>I smoked for 50+ years  Took it for one week a...</td>\n",
       "      <td>2015-02-14</td>\n",
       "      <td>varenicline</td>\n",
       "      <td>chantix</td>\n",
       "      <td>NaN</td>\n",
       "      <td>NaN</td>\n",
       "      <td>NaN</td>\n",
       "      <td>NaN</td>\n",
       "      <td>...</td>\n",
       "      <td>NaN</td>\n",
       "      <td>NaN</td>\n",
       "      <td>NaN</td>\n",
       "      <td>NaN</td>\n",
       "      <td>NaN</td>\n",
       "      <td>NaN</td>\n",
       "      <td>NaN</td>\n",
       "      <td>NaN</td>\n",
       "      <td>smoke 50 + year   take week   didn#039 t think...</td>\n",
       "      <td>smoke 50 + year   take week   didn#039 t think...</td>\n",
       "    </tr>\n",
       "    <tr>\n",
       "      <th>114</th>\n",
       "      <td>1.0</td>\n",
       "      <td>insomnia</td>\n",
       "      <td>If I could give it a 0 I would absolutely do s...</td>\n",
       "      <td>2016-10-18</td>\n",
       "      <td>trazodone</td>\n",
       "      <td>NaN</td>\n",
       "      <td>NaN</td>\n",
       "      <td>NaN</td>\n",
       "      <td>NaN</td>\n",
       "      <td>NaN</td>\n",
       "      <td>...</td>\n",
       "      <td>NaN</td>\n",
       "      <td>NaN</td>\n",
       "      <td>NaN</td>\n",
       "      <td>NaN</td>\n",
       "      <td>NaN</td>\n",
       "      <td>NaN</td>\n",
       "      <td>NaN</td>\n",
       "      <td>NaN</td>\n",
       "      <td>0 absolutely   start 50 mg feel WIRED   want c...</td>\n",
       "      <td>0 absolutely   start 50 mg feel WIRED   want c...</td>\n",
       "    </tr>\n",
       "    <tr>\n",
       "      <th>120</th>\n",
       "      <td>10.0</td>\n",
       "      <td>addiction</td>\n",
       "      <td>Been a heavy drinker for over 6 years since a ...</td>\n",
       "      <td>2013-08-23</td>\n",
       "      <td>acamprosate</td>\n",
       "      <td>campral</td>\n",
       "      <td>NaN</td>\n",
       "      <td>NaN</td>\n",
       "      <td>NaN</td>\n",
       "      <td>NaN</td>\n",
       "      <td>...</td>\n",
       "      <td>NaN</td>\n",
       "      <td>NaN</td>\n",
       "      <td>NaN</td>\n",
       "      <td>NaN</td>\n",
       "      <td>NaN</td>\n",
       "      <td>NaN</td>\n",
       "      <td>NaN</td>\n",
       "      <td>NaN</td>\n",
       "      <td>heavy drinker 6 year major operation leave add...</td>\n",
       "      <td>heavy drinker 6 year major operation leave add...</td>\n",
       "    </tr>\n",
       "  </tbody>\n",
       "</table>\n",
       "<p>5 rows × 22 columns</p>\n",
       "</div>"
      ],
      "text/plain": [
       "     rating   condition                                             review  \\\n",
       "108    10.0  depression  I#039 ve tried a few antidepressants over the ...   \n",
       "109     7.0   addiction  I Have been on Methadone for over ten years an...   \n",
       "112    10.0   addiction  I smoked for 50+ years  Took it for one week a...   \n",
       "114     1.0    insomnia  If I could give it a 0 I would absolutely do s...   \n",
       "120    10.0   addiction  Been a heavy drinker for over 6 years since a ...   \n",
       "\n",
       "           date        drug0    drug1 drug2 drug3 drug4 drug5  ... drug8  \\\n",
       "108  2012-02-28  mirtazapine      NaN   NaN   NaN   NaN   NaN  ...   NaN   \n",
       "109  2016-10-18    methadone      NaN   NaN   NaN   NaN   NaN  ...   NaN   \n",
       "112  2015-02-14  varenicline  chantix   NaN   NaN   NaN   NaN  ...   NaN   \n",
       "114  2016-10-18    trazodone      NaN   NaN   NaN   NaN   NaN  ...   NaN   \n",
       "120  2013-08-23  acamprosate  campral   NaN   NaN   NaN   NaN  ...   NaN   \n",
       "\n",
       "    drug9 drug10 drug11 drug12 drug13 drug14 drug15  \\\n",
       "108   NaN    NaN    NaN    NaN    NaN    NaN    NaN   \n",
       "109   NaN    NaN    NaN    NaN    NaN    NaN    NaN   \n",
       "112   NaN    NaN    NaN    NaN    NaN    NaN    NaN   \n",
       "114   NaN    NaN    NaN    NaN    NaN    NaN    NaN   \n",
       "120   NaN    NaN    NaN    NaN    NaN    NaN    NaN   \n",
       "\n",
       "                                         stops_removed  \\\n",
       "108  I#039 ve try antidepressant year   citalopram ...   \n",
       "109  Methadone year currentlyI try drug decrease 2 ...   \n",
       "112  smoke 50 + year   take week   didn#039 t think...   \n",
       "114  0 absolutely   start 50 mg feel WIRED   want c...   \n",
       "120  heavy drinker 6 year major operation leave add...   \n",
       "\n",
       "                                              stripped  \n",
       "108  I#039 ve try antidepressant year   citalopram ...  \n",
       "109  Methadone year currentlyI try drug decrease 2 ...  \n",
       "112  smoke 50 + year   take week   didn#039 t think...  \n",
       "114  0 absolutely   start 50 mg feel WIRED   want c...  \n",
       "120  heavy drinker 6 year major operation leave add...  \n",
       "\n",
       "[5 rows x 22 columns]"
      ]
     },
     "execution_count": 65,
     "metadata": {},
     "output_type": "execute_result"
    }
   ],
   "source": [
    "df[df.stripped.str.find('#')!=-1].head()"
   ]
  },
  {
   "cell_type": "code",
   "execution_count": 60,
   "id": "fa7d2aa4",
   "metadata": {},
   "outputs": [
    {
     "data": {
      "text/plain": [
       "19822"
      ]
     },
     "execution_count": 60,
     "metadata": {},
     "output_type": "execute_result"
    }
   ],
   "source": [
    "len(df[df.stripped.str.find('#')!=-1])"
   ]
  },
  {
   "cell_type": "code",
   "execution_count": 61,
   "id": "fa6f8149",
   "metadata": {},
   "outputs": [
    {
     "data": {
      "text/plain": [
       "'Methadone year currentlyI try drug decrease 2 mgs month year 3 mgs start feel withdrawI don#039 t plan 30 dosesbecause rediculous little 3 dose 3 mg terrified truthful encouragement ?    '"
      ]
     },
     "execution_count": 61,
     "metadata": {},
     "output_type": "execute_result"
    }
   ],
   "source": [
    "# the # symbol appears frequently. Does it provide meaningful content?\n",
    "\n",
    "df.stripped[109]"
   ]
  },
  {
   "cell_type": "code",
   "execution_count": 62,
   "id": "d9216db5",
   "metadata": {},
   "outputs": [
    {
     "data": {
      "text/plain": [
       "'smoke 50 + year   take week   didn#039 t think possible quit   6 year   great product    '"
      ]
     },
     "execution_count": 62,
     "metadata": {},
     "output_type": "execute_result"
    }
   ],
   "source": [
    "df.stripped[112]"
   ]
  },
  {
   "cell_type": "code",
   "execution_count": 63,
   "id": "7ef30ec8",
   "metadata": {},
   "outputs": [
    {
     "data": {
      "text/plain": [
       "'0 absolutely   start 50 mg feel WIRED   want clean house !   bump 100 mg wired wide awake night   bump 150 lack effect   MD inform dose effective sleep bother   15 year try different sleep medication alternative sure effective come   it#039 s low price point feel free try maybe lucky ?   Everyone#039 s sleep condition different   hyper benadryl expect reaction drug    '"
      ]
     },
     "execution_count": 63,
     "metadata": {},
     "output_type": "execute_result"
    }
   ],
   "source": [
    "df.stripped[114]"
   ]
  },
  {
   "cell_type": "code",
   "execution_count": 66,
   "id": "61c48c8f",
   "metadata": {},
   "outputs": [
    {
     "data": {
      "text/plain": [
       "'heavy drinker 6 year major operation leave addicted morphine Replaced morphine beer wine everyday day take Campral craving go away don#039 t feel like drink anymore    '"
      ]
     },
     "execution_count": 66,
     "metadata": {},
     "output_type": "execute_result"
    }
   ],
   "source": [
    "df.stripped[120]"
   ]
  },
  {
   "cell_type": "markdown",
   "id": "40923f83",
   "metadata": {},
   "source": [
    "In all of the first 5 reviews where it appears, the # is just a glitch, a placeholder for an apostrophe. Any value it might add to the rare review where somebody might have been trying to make some sort of point by using the vernacular of adding a hashtag for emphasis isn't worth it. Get rid of all the #\n",
    "\n",
    "Next, look into $"
   ]
  },
  {
   "cell_type": "code",
   "execution_count": 76,
   "id": "731ad214",
   "metadata": {},
   "outputs": [
    {
     "data": {
      "text/html": [
       "<div>\n",
       "<style scoped>\n",
       "    .dataframe tbody tr th:only-of-type {\n",
       "        vertical-align: middle;\n",
       "    }\n",
       "\n",
       "    .dataframe tbody tr th {\n",
       "        vertical-align: top;\n",
       "    }\n",
       "\n",
       "    .dataframe thead th {\n",
       "        text-align: right;\n",
       "    }\n",
       "</style>\n",
       "<table border=\"1\" class=\"dataframe\">\n",
       "  <thead>\n",
       "    <tr style=\"text-align: right;\">\n",
       "      <th></th>\n",
       "      <th>rating</th>\n",
       "      <th>condition</th>\n",
       "      <th>review</th>\n",
       "      <th>date</th>\n",
       "      <th>drug0</th>\n",
       "      <th>drug1</th>\n",
       "      <th>drug2</th>\n",
       "      <th>drug3</th>\n",
       "      <th>drug4</th>\n",
       "      <th>drug5</th>\n",
       "      <th>...</th>\n",
       "      <th>drug8</th>\n",
       "      <th>drug9</th>\n",
       "      <th>drug10</th>\n",
       "      <th>drug11</th>\n",
       "      <th>drug12</th>\n",
       "      <th>drug13</th>\n",
       "      <th>drug14</th>\n",
       "      <th>drug15</th>\n",
       "      <th>stops_removed</th>\n",
       "      <th>stripped</th>\n",
       "    </tr>\n",
       "  </thead>\n",
       "  <tbody>\n",
       "    <tr>\n",
       "      <th>22</th>\n",
       "      <td>3.0</td>\n",
       "      <td>add</td>\n",
       "      <td>Unfortunately I had a doctor who was uneducate...</td>\n",
       "      <td>NaN</td>\n",
       "      <td>strattera</td>\n",
       "      <td>NaN</td>\n",
       "      <td>NaN</td>\n",
       "      <td>NaN</td>\n",
       "      <td>NaN</td>\n",
       "      <td>NaN</td>\n",
       "      <td>...</td>\n",
       "      <td>NaN</td>\n",
       "      <td>NaN</td>\n",
       "      <td>NaN</td>\n",
       "      <td>NaN</td>\n",
       "      <td>NaN</td>\n",
       "      <td>NaN</td>\n",
       "      <td>NaN</td>\n",
       "      <td>NaN</td>\n",
       "      <td>unfortunately doctor uneducated add uncomforta...</td>\n",
       "      <td>unfortunately doctor uneducated add uncomforta...</td>\n",
       "    </tr>\n",
       "    <tr>\n",
       "      <th>33</th>\n",
       "      <td>3.0</td>\n",
       "      <td>add</td>\n",
       "      <td>Unpleasant !\\r\\r\\nBy the way is it normal to p...</td>\n",
       "      <td>NaN</td>\n",
       "      <td>concerta</td>\n",
       "      <td>NaN</td>\n",
       "      <td>NaN</td>\n",
       "      <td>NaN</td>\n",
       "      <td>NaN</td>\n",
       "      <td>NaN</td>\n",
       "      <td>...</td>\n",
       "      <td>NaN</td>\n",
       "      <td>NaN</td>\n",
       "      <td>NaN</td>\n",
       "      <td>NaN</td>\n",
       "      <td>NaN</td>\n",
       "      <td>NaN</td>\n",
       "      <td>NaN</td>\n",
       "      <td>NaN</td>\n",
       "      <td>unpleasant ! \\r\\r\\n way normal pay psychiatris...</td>\n",
       "      <td>unpleasant !     way normal pay psychiatrist 1...</td>\n",
       "    </tr>\n",
       "    <tr>\n",
       "      <th>37</th>\n",
       "      <td>10.0</td>\n",
       "      <td>adhd</td>\n",
       "      <td>Vyvanse is a new medication used to treat ADHD...</td>\n",
       "      <td>NaN</td>\n",
       "      <td>vyvanse</td>\n",
       "      <td>NaN</td>\n",
       "      <td>NaN</td>\n",
       "      <td>NaN</td>\n",
       "      <td>NaN</td>\n",
       "      <td>NaN</td>\n",
       "      <td>...</td>\n",
       "      <td>NaN</td>\n",
       "      <td>NaN</td>\n",
       "      <td>NaN</td>\n",
       "      <td>NaN</td>\n",
       "      <td>NaN</td>\n",
       "      <td>NaN</td>\n",
       "      <td>NaN</td>\n",
       "      <td>NaN</td>\n",
       "      <td>vyvanse new medication treat adhd   timereleas...</td>\n",
       "      <td>vyvanse new medication treat adhd   timereleas...</td>\n",
       "    </tr>\n",
       "    <tr>\n",
       "      <th>93</th>\n",
       "      <td>7.0</td>\n",
       "      <td>addiction</td>\n",
       "      <td>When i first started going to the methadone cl...</td>\n",
       "      <td>NaN</td>\n",
       "      <td>methadone</td>\n",
       "      <td>NaN</td>\n",
       "      <td>NaN</td>\n",
       "      <td>NaN</td>\n",
       "      <td>NaN</td>\n",
       "      <td>NaN</td>\n",
       "      <td>...</td>\n",
       "      <td>NaN</td>\n",
       "      <td>NaN</td>\n",
       "      <td>NaN</td>\n",
       "      <td>NaN</td>\n",
       "      <td>NaN</td>\n",
       "      <td>NaN</td>\n",
       "      <td>NaN</td>\n",
       "      <td>NaN</td>\n",
       "      <td>start go methadone clinic withdraw   physical ...</td>\n",
       "      <td>start go methadone clinic withdraw   physical ...</td>\n",
       "    </tr>\n",
       "    <tr>\n",
       "      <th>160</th>\n",
       "      <td>1.0</td>\n",
       "      <td>depression</td>\n",
       "      <td>Horrible side effects! I tried Ciprelex  escit...</td>\n",
       "      <td>2016-06-15</td>\n",
       "      <td>venlafaxine</td>\n",
       "      <td>effexor</td>\n",
       "      <td>NaN</td>\n",
       "      <td>NaN</td>\n",
       "      <td>NaN</td>\n",
       "      <td>NaN</td>\n",
       "      <td>...</td>\n",
       "      <td>NaN</td>\n",
       "      <td>NaN</td>\n",
       "      <td>NaN</td>\n",
       "      <td>NaN</td>\n",
       "      <td>NaN</td>\n",
       "      <td>NaN</td>\n",
       "      <td>NaN</td>\n",
       "      <td>NaN</td>\n",
       "      <td>horrible effect ! try Ciprelex   escitalopram ...</td>\n",
       "      <td>horrible effect ! try Ciprelex   escitalopram ...</td>\n",
       "    </tr>\n",
       "  </tbody>\n",
       "</table>\n",
       "<p>5 rows × 22 columns</p>\n",
       "</div>"
      ],
      "text/plain": [
       "     rating   condition                                             review  \\\n",
       "22      3.0         add  Unfortunately I had a doctor who was uneducate...   \n",
       "33      3.0         add  Unpleasant !\\r\\r\\nBy the way is it normal to p...   \n",
       "37     10.0        adhd  Vyvanse is a new medication used to treat ADHD...   \n",
       "93      7.0   addiction  When i first started going to the methadone cl...   \n",
       "160     1.0  depression  Horrible side effects! I tried Ciprelex  escit...   \n",
       "\n",
       "           date        drug0    drug1 drug2 drug3 drug4 drug5  ... drug8  \\\n",
       "22          NaN    strattera      NaN   NaN   NaN   NaN   NaN  ...   NaN   \n",
       "33          NaN     concerta      NaN   NaN   NaN   NaN   NaN  ...   NaN   \n",
       "37          NaN      vyvanse      NaN   NaN   NaN   NaN   NaN  ...   NaN   \n",
       "93          NaN    methadone      NaN   NaN   NaN   NaN   NaN  ...   NaN   \n",
       "160  2016-06-15  venlafaxine  effexor   NaN   NaN   NaN   NaN  ...   NaN   \n",
       "\n",
       "    drug9 drug10 drug11 drug12 drug13 drug14 drug15  \\\n",
       "22    NaN    NaN    NaN    NaN    NaN    NaN    NaN   \n",
       "33    NaN    NaN    NaN    NaN    NaN    NaN    NaN   \n",
       "37    NaN    NaN    NaN    NaN    NaN    NaN    NaN   \n",
       "93    NaN    NaN    NaN    NaN    NaN    NaN    NaN   \n",
       "160   NaN    NaN    NaN    NaN    NaN    NaN    NaN   \n",
       "\n",
       "                                         stops_removed  \\\n",
       "22   unfortunately doctor uneducated add uncomforta...   \n",
       "33   unpleasant ! \\r\\r\\n way normal pay psychiatris...   \n",
       "37   vyvanse new medication treat adhd   timereleas...   \n",
       "93   start go methadone clinic withdraw   physical ...   \n",
       "160  horrible effect ! try Ciprelex   escitalopram ...   \n",
       "\n",
       "                                              stripped  \n",
       "22   unfortunately doctor uneducated add uncomforta...  \n",
       "33   unpleasant !     way normal pay psychiatrist 1...  \n",
       "37   vyvanse new medication treat adhd   timereleas...  \n",
       "93   start go methadone clinic withdraw   physical ...  \n",
       "160  horrible effect ! try Ciprelex   escitalopram ...  \n",
       "\n",
       "[5 rows x 22 columns]"
      ]
     },
     "execution_count": 76,
     "metadata": {},
     "output_type": "execute_result"
    }
   ],
   "source": [
    "df[df.stripped.str.find('$')!=-1].head()"
   ]
  },
  {
   "cell_type": "code",
   "execution_count": 67,
   "id": "5c9a4ab6",
   "metadata": {},
   "outputs": [
    {
     "data": {
      "text/plain": [
       "329"
      ]
     },
     "execution_count": 67,
     "metadata": {},
     "output_type": "execute_result"
    }
   ],
   "source": [
    "len(df[df.stripped.str.find('$')!=-1])"
   ]
  },
  {
   "cell_type": "code",
   "execution_count": 77,
   "id": "1e4cd38f",
   "metadata": {},
   "outputs": [
    {
     "data": {
      "text/plain": [
       "'unfortunately doctor uneducated add uncomfortable prescribe medication 10 mg firstafter 34 week go ask increase prescribe 20 mg find 20 mg dose   instead change proper mg decide 2 10 mg pill morning double cost benefit year   finally prescribe therapeutic dosage 40 mg problem pharmacy order right ( 4 10 mg pill day order right one ! health insurance get program cost $ 6 screw order   run $ 13000 10mgs x 2 20 mg x 4 40mgs ! ! way pharmacy itscamme federal program   somethingso finally quit take definately notice pee barely warning eyesight get alot bad fiance say mean stop add force ! Blurry vision increase bladder leaksmoodiness little weight gain Strattera awake morning instead groggy foggy brain able focus LITTLE bit well'"
      ]
     },
     "execution_count": 77,
     "metadata": {},
     "output_type": "execute_result"
    }
   ],
   "source": [
    "df.stripped[22]"
   ]
  },
  {
   "cell_type": "code",
   "execution_count": 78,
   "id": "243e3ac9",
   "metadata": {},
   "outputs": [
    {
     "data": {
      "text/plain": [
       "'unpleasant !     way normal pay psychiatrist 150 $ monthly renewal say insurance people handle     invite answer fionahope hotmail day 3   feel effect nausea physical numbness irritated effect increase attention     pay attention know continue try live unpleasant ! ! ! woman great Aderall 2 day fantastic easy go task bird overall focus good great mind great joy'"
      ]
     },
     "execution_count": 78,
     "metadata": {},
     "output_type": "execute_result"
    }
   ],
   "source": [
    "df.stripped[33]"
   ]
  },
  {
   "cell_type": "code",
   "execution_count": 79,
   "id": "95200384",
   "metadata": {},
   "outputs": [
    {
     "data": {
      "text/plain": [
       "'vyvanse new medication treat adhd   timereleased capsule   easy swallow   bad taste like press pill   upset stomach   take 70 mg pill morning   pill release drug slowly hit time   allow medicine equally effective day hour normal ADHD med effect   rapid heart rate anxiety jittery feel   downside medication cost   Vyvanse new generic   pay $ 160month 30 pill ! selfpay sure have insurance ideal ! expensive worth effect drug !   love sustain focus improvement attention span great achievement daily task   Easy pill day !'"
      ]
     },
     "execution_count": 79,
     "metadata": {},
     "output_type": "execute_result"
    }
   ],
   "source": [
    "df.stripped[37]"
   ]
  },
  {
   "cell_type": "markdown",
   "id": "9520b8d5",
   "metadata": {},
   "source": [
    "So far, every time $ appears, somebody is just talking about how much something costs, which seems like meaningful content. Keep the $ symbols intact. \n",
    "\n",
    "Find all the ("
   ]
  },
  {
   "cell_type": "code",
   "execution_count": 81,
   "id": "3ee01f7f",
   "metadata": {},
   "outputs": [
    {
     "data": {
      "text/html": [
       "<div>\n",
       "<style scoped>\n",
       "    .dataframe tbody tr th:only-of-type {\n",
       "        vertical-align: middle;\n",
       "    }\n",
       "\n",
       "    .dataframe tbody tr th {\n",
       "        vertical-align: top;\n",
       "    }\n",
       "\n",
       "    .dataframe thead th {\n",
       "        text-align: right;\n",
       "    }\n",
       "</style>\n",
       "<table border=\"1\" class=\"dataframe\">\n",
       "  <thead>\n",
       "    <tr style=\"text-align: right;\">\n",
       "      <th></th>\n",
       "      <th>rating</th>\n",
       "      <th>condition</th>\n",
       "      <th>review</th>\n",
       "      <th>date</th>\n",
       "      <th>drug0</th>\n",
       "      <th>drug1</th>\n",
       "      <th>drug2</th>\n",
       "      <th>drug3</th>\n",
       "      <th>drug4</th>\n",
       "      <th>drug5</th>\n",
       "      <th>...</th>\n",
       "      <th>drug8</th>\n",
       "      <th>drug9</th>\n",
       "      <th>drug10</th>\n",
       "      <th>drug11</th>\n",
       "      <th>drug12</th>\n",
       "      <th>drug13</th>\n",
       "      <th>drug14</th>\n",
       "      <th>drug15</th>\n",
       "      <th>stops_removed</th>\n",
       "      <th>stripped</th>\n",
       "    </tr>\n",
       "  </thead>\n",
       "  <tbody>\n",
       "    <tr>\n",
       "      <th>13</th>\n",
       "      <td>8.0</td>\n",
       "      <td>add</td>\n",
       "      <td>With or without this medication I am a philoso...</td>\n",
       "      <td>NaN</td>\n",
       "      <td>strattera</td>\n",
       "      <td>NaN</td>\n",
       "      <td>NaN</td>\n",
       "      <td>NaN</td>\n",
       "      <td>NaN</td>\n",
       "      <td>NaN</td>\n",
       "      <td>...</td>\n",
       "      <td>NaN</td>\n",
       "      <td>NaN</td>\n",
       "      <td>NaN</td>\n",
       "      <td>NaN</td>\n",
       "      <td>NaN</td>\n",
       "      <td>NaN</td>\n",
       "      <td>NaN</td>\n",
       "      <td>NaN</td>\n",
       "      <td>medication philosopher explain drug work philo...</td>\n",
       "      <td>medication philosopher explain drug work philo...</td>\n",
       "    </tr>\n",
       "    <tr>\n",
       "      <th>22</th>\n",
       "      <td>3.0</td>\n",
       "      <td>add</td>\n",
       "      <td>Unfortunately I had a doctor who was uneducate...</td>\n",
       "      <td>NaN</td>\n",
       "      <td>strattera</td>\n",
       "      <td>NaN</td>\n",
       "      <td>NaN</td>\n",
       "      <td>NaN</td>\n",
       "      <td>NaN</td>\n",
       "      <td>NaN</td>\n",
       "      <td>...</td>\n",
       "      <td>NaN</td>\n",
       "      <td>NaN</td>\n",
       "      <td>NaN</td>\n",
       "      <td>NaN</td>\n",
       "      <td>NaN</td>\n",
       "      <td>NaN</td>\n",
       "      <td>NaN</td>\n",
       "      <td>NaN</td>\n",
       "      <td>unfortunately doctor uneducated add uncomforta...</td>\n",
       "      <td>unfortunately doctor uneducated add uncomforta...</td>\n",
       "    </tr>\n",
       "    <tr>\n",
       "      <th>31</th>\n",
       "      <td>6.0</td>\n",
       "      <td>adhd</td>\n",
       "      <td>On 91811 I was prescribed (30) 30mg Vyvanse fo...</td>\n",
       "      <td>NaN</td>\n",
       "      <td>vyvanse</td>\n",
       "      <td>NaN</td>\n",
       "      <td>NaN</td>\n",
       "      <td>NaN</td>\n",
       "      <td>NaN</td>\n",
       "      <td>NaN</td>\n",
       "      <td>...</td>\n",
       "      <td>NaN</td>\n",
       "      <td>NaN</td>\n",
       "      <td>NaN</td>\n",
       "      <td>NaN</td>\n",
       "      <td>NaN</td>\n",
       "      <td>NaN</td>\n",
       "      <td>NaN</td>\n",
       "      <td>NaN</td>\n",
       "      <td>91811 prescribe ( 30 ) 30 mg Vyvanse ADHD morn...</td>\n",
       "      <td>91811 prescribe ( 30 ) 30 mg Vyvanse ADHD morn...</td>\n",
       "    </tr>\n",
       "    <tr>\n",
       "      <th>71</th>\n",
       "      <td>10.0</td>\n",
       "      <td>add</td>\n",
       "      <td>I take a 30 mg pill shortly after waking and w...</td>\n",
       "      <td>NaN</td>\n",
       "      <td>adderall-xr</td>\n",
       "      <td>NaN</td>\n",
       "      <td>NaN</td>\n",
       "      <td>NaN</td>\n",
       "      <td>NaN</td>\n",
       "      <td>NaN</td>\n",
       "      <td>...</td>\n",
       "      <td>NaN</td>\n",
       "      <td>NaN</td>\n",
       "      <td>NaN</td>\n",
       "      <td>NaN</td>\n",
       "      <td>NaN</td>\n",
       "      <td>NaN</td>\n",
       "      <td>NaN</td>\n",
       "      <td>NaN</td>\n",
       "      <td>30 mg pill shortly wake hour fog chronically l...</td>\n",
       "      <td>30 mg pill shortly wake hour fog chronically l...</td>\n",
       "    </tr>\n",
       "    <tr>\n",
       "      <th>74</th>\n",
       "      <td>6.0</td>\n",
       "      <td>adhd</td>\n",
       "      <td>I seemed to metabolized the drug quickly Onset...</td>\n",
       "      <td>NaN</td>\n",
       "      <td>ritalin</td>\n",
       "      <td>NaN</td>\n",
       "      <td>NaN</td>\n",
       "      <td>NaN</td>\n",
       "      <td>NaN</td>\n",
       "      <td>NaN</td>\n",
       "      <td>...</td>\n",
       "      <td>NaN</td>\n",
       "      <td>NaN</td>\n",
       "      <td>NaN</td>\n",
       "      <td>NaN</td>\n",
       "      <td>NaN</td>\n",
       "      <td>NaN</td>\n",
       "      <td>NaN</td>\n",
       "      <td>NaN</td>\n",
       "      <td>metabolize drug quickly Onset rapid anxiety pr...</td>\n",
       "      <td>metabolize drug quickly Onset rapid anxiety pr...</td>\n",
       "    </tr>\n",
       "  </tbody>\n",
       "</table>\n",
       "<p>5 rows × 22 columns</p>\n",
       "</div>"
      ],
      "text/plain": [
       "    rating condition                                             review date  \\\n",
       "13     8.0       add  With or without this medication I am a philoso...  NaN   \n",
       "22     3.0       add  Unfortunately I had a doctor who was uneducate...  NaN   \n",
       "31     6.0      adhd  On 91811 I was prescribed (30) 30mg Vyvanse fo...  NaN   \n",
       "71    10.0       add  I take a 30 mg pill shortly after waking and w...  NaN   \n",
       "74     6.0      adhd  I seemed to metabolized the drug quickly Onset...  NaN   \n",
       "\n",
       "          drug0 drug1 drug2 drug3 drug4 drug5  ... drug8 drug9 drug10 drug11  \\\n",
       "13    strattera   NaN   NaN   NaN   NaN   NaN  ...   NaN   NaN    NaN    NaN   \n",
       "22    strattera   NaN   NaN   NaN   NaN   NaN  ...   NaN   NaN    NaN    NaN   \n",
       "31      vyvanse   NaN   NaN   NaN   NaN   NaN  ...   NaN   NaN    NaN    NaN   \n",
       "71  adderall-xr   NaN   NaN   NaN   NaN   NaN  ...   NaN   NaN    NaN    NaN   \n",
       "74      ritalin   NaN   NaN   NaN   NaN   NaN  ...   NaN   NaN    NaN    NaN   \n",
       "\n",
       "   drug12 drug13 drug14 drug15  \\\n",
       "13    NaN    NaN    NaN    NaN   \n",
       "22    NaN    NaN    NaN    NaN   \n",
       "31    NaN    NaN    NaN    NaN   \n",
       "71    NaN    NaN    NaN    NaN   \n",
       "74    NaN    NaN    NaN    NaN   \n",
       "\n",
       "                                        stops_removed  \\\n",
       "13  medication philosopher explain drug work philo...   \n",
       "22  unfortunately doctor uneducated add uncomforta...   \n",
       "31  91811 prescribe ( 30 ) 30 mg Vyvanse ADHD morn...   \n",
       "71  30 mg pill shortly wake hour fog chronically l...   \n",
       "74  metabolize drug quickly Onset rapid anxiety pr...   \n",
       "\n",
       "                                             stripped  \n",
       "13  medication philosopher explain drug work philo...  \n",
       "22  unfortunately doctor uneducated add uncomforta...  \n",
       "31  91811 prescribe ( 30 ) 30 mg Vyvanse ADHD morn...  \n",
       "71  30 mg pill shortly wake hour fog chronically l...  \n",
       "74  metabolize drug quickly Onset rapid anxiety pr...  \n",
       "\n",
       "[5 rows x 22 columns]"
      ]
     },
     "execution_count": 81,
     "metadata": {},
     "output_type": "execute_result"
    }
   ],
   "source": [
    "df[df.stripped.str.find('(')!=-1].head()"
   ]
  },
  {
   "cell_type": "code",
   "execution_count": null,
   "id": "752cbe8d",
   "metadata": {},
   "outputs": [],
   "source": [
    "df.stripped[]"
   ]
  },
  {
   "cell_type": "code",
   "execution_count": null,
   "id": "9906913c",
   "metadata": {},
   "outputs": [],
   "source": [
    "final_symbols_to_delete = ['#', ]"
   ]
  },
  {
   "cell_type": "markdown",
   "id": "4c06785f",
   "metadata": {},
   "source": [
    "Resources with tips for effective EDA visualization with NLP:\n",
    "\n",
    "https://medium.com/plotly/nlp-visualisations-for-clear-immediate-insights-into-text-data-and-outputs-9ebfab168d5b\n",
    "    \n",
    "https://www.numpyninja.com/post/nlp-text-data-visualization\n",
    "    \n",
    "https://www.kaggle.com/code/sainathkrothapalli/nlp-visualisation-guide\n",
    "    \n",
    "https://medium.com/acing-ai/visualizations-in-natural-language-processing-2ca60dd34ce\n",
    "    \n",
    "https://towardsdatascience.com/a-complete-exploratory-data-analysis-and-visualization-for-text-data-29fb1b96fb6a\n",
    "    \n",
    "https://towardsdatascience.com/getting-started-with-text-nlp-visualization-9dcb54bc91dd\n",
    "    \n",
    "https://www.kaggle.com/code/mitramir5/nlp-visualization-eda-glove\n",
    "    \n",
    "https://medium.com/analytics-vidhya/how-to-begin-performing-eda-on-nlp-ffdef92bedf6\n",
    "    \n",
    "https://inside-machinelearning.com/en/eda-nlp/\n",
    "    \n",
    "https://towardsdatascience.com/fundamental-eda-techniques-for-nlp-f81a93696a75\n",
    "    \n",
    "https://neptune.ai/blog/exploratory-data-analysis-natural-language-processing-tools\n",
    "    \n",
    "https://www.kdnuggets.com/2019/05/complete-exploratory-data-analysis-visualization-text-data.html\n",
    "    \n"
   ]
  }
 ],
 "metadata": {
  "kernelspec": {
   "display_name": "Python 3 (ipykernel)",
   "language": "python",
   "name": "python3"
  },
  "language_info": {
   "codemirror_mode": {
    "name": "ipython",
    "version": 3
   },
   "file_extension": ".py",
   "mimetype": "text/x-python",
   "name": "python",
   "nbconvert_exporter": "python",
   "pygments_lexer": "ipython3",
   "version": "3.9.15"
  }
 },
 "nbformat": 4,
 "nbformat_minor": 5
}
