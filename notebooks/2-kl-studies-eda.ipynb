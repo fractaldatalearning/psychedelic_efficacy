{
 "cells": [
  {
   "cell_type": "markdown",
   "id": "3a2d0283",
   "metadata": {},
   "source": [
    "# <font color='violet'> Exploration & Parsing\n",
    "Using data wrangled here: https://github.com/fractaldatalearning/psychedelic_efficacy/blob/main/notebooks/1-kl-wrangle-tabular.ipynb"
   ]
  },
  {
   "cell_type": "code",
   "execution_count": 1,
   "id": "cb2ba9bb",
   "metadata": {},
   "outputs": [],
   "source": [
    "# ! pip install tqdm \n",
    "# !{sys.executable} -m pip install contractions"
   ]
  },
  {
   "cell_type": "code",
   "execution_count": 2,
   "id": "259f1ef3",
   "metadata": {},
   "outputs": [],
   "source": [
    "import pandas as pd\n",
    "import sys\n",
    "import contractions\n",
    "import re\n",
    "import string\n",
    "import matplotlib.pyplot as plt\n",
    "import seaborn as sns\n",
    "from tqdm import tqdm"
   ]
  },
  {
   "cell_type": "code",
   "execution_count": 3,
   "id": "813c59c5",
   "metadata": {},
   "outputs": [],
   "source": [
    "# prepare to add local python functions; import modules from src directory\n",
    "src = '../src'\n",
    "sys.path.append(src)\n",
    "\n",
    "# import local functions\n",
    "from nlp.parse import remove_accented_chars, strip_most_punc, strip_apostrophe"
   ]
  },
  {
   "cell_type": "code",
   "execution_count": 4,
   "id": "2e1fb33d",
   "metadata": {},
   "outputs": [
    {
     "name": "stdout",
     "output_type": "stream",
     "text": [
      "<class 'pandas.core.frame.DataFrame'>\n",
      "RangeIndex: 50652 entries, 0 to 50651\n",
      "Data columns (total 6 columns):\n",
      " #   Column      Non-Null Count  Dtype  \n",
      "---  ------      --------------  -----  \n",
      " 0   Unnamed: 0  50652 non-null  int64  \n",
      " 1   drug        50652 non-null  object \n",
      " 2   rating      50652 non-null  float64\n",
      " 3   condition   50652 non-null  object \n",
      " 4   review      50652 non-null  object \n",
      " 5   date        50652 non-null  object \n",
      "dtypes: float64(1), int64(1), object(4)\n",
      "memory usage: 2.3+ MB\n"
     ]
    }
   ],
   "source": [
    "df = pd.read_csv('../data/interim/studies_clean.csv')\n",
    "df.info()"
   ]
  },
  {
   "cell_type": "code",
   "execution_count": 5,
   "id": "befb84a0",
   "metadata": {},
   "outputs": [
    {
     "data": {
      "text/html": [
       "<div>\n",
       "<style scoped>\n",
       "    .dataframe tbody tr th:only-of-type {\n",
       "        vertical-align: middle;\n",
       "    }\n",
       "\n",
       "    .dataframe tbody tr th {\n",
       "        vertical-align: top;\n",
       "    }\n",
       "\n",
       "    .dataframe thead th {\n",
       "        text-align: right;\n",
       "    }\n",
       "</style>\n",
       "<table border=\"1\" class=\"dataframe\">\n",
       "  <thead>\n",
       "    <tr style=\"text-align: right;\">\n",
       "      <th></th>\n",
       "      <th>drug</th>\n",
       "      <th>rating</th>\n",
       "      <th>condition</th>\n",
       "      <th>review</th>\n",
       "      <th>date</th>\n",
       "    </tr>\n",
       "  </thead>\n",
       "  <tbody>\n",
       "    <tr>\n",
       "      <th>0</th>\n",
       "      <td>vyvanse</td>\n",
       "      <td>9.0</td>\n",
       "      <td>add</td>\n",
       "      <td>I had began taking 20mg of Vyvanse for three m...</td>\n",
       "      <td>0</td>\n",
       "    </tr>\n",
       "    <tr>\n",
       "      <th>1</th>\n",
       "      <td>dextroamphetamine</td>\n",
       "      <td>8.0</td>\n",
       "      <td>add</td>\n",
       "      <td>Switched from Adderall to Dexedrine to compare...</td>\n",
       "      <td>0</td>\n",
       "    </tr>\n",
       "  </tbody>\n",
       "</table>\n",
       "</div>"
      ],
      "text/plain": [
       "                drug  rating condition  \\\n",
       "0            vyvanse     9.0       add   \n",
       "1  dextroamphetamine     8.0       add   \n",
       "\n",
       "                                              review date  \n",
       "0  I had began taking 20mg of Vyvanse for three m...    0  \n",
       "1  Switched from Adderall to Dexedrine to compare...    0  "
      ]
     },
     "execution_count": 5,
     "metadata": {},
     "output_type": "execute_result"
    }
   ],
   "source": [
    "# Drop \"Unnamed\" column; it's redundant with the index\n",
    "df = df.drop(columns=['Unnamed: 0'])\n",
    "df.head(2)"
   ]
  },
  {
   "cell_type": "markdown",
   "id": "6003f8f2",
   "metadata": {},
   "source": [
    "<font color='violet'> Explore each column, starting with 'drug'"
   ]
  },
  {
   "cell_type": "code",
   "execution_count": 6,
   "id": "efae90ef",
   "metadata": {},
   "outputs": [
    {
     "data": {
      "text/plain": [
       "651"
      ]
     },
     "execution_count": 6,
     "metadata": {},
     "output_type": "execute_result"
    }
   ],
   "source": [
    "# How many drugs are in the data? \n",
    "len(df.drug.unique())"
   ]
  },
  {
   "cell_type": "code",
   "execution_count": 11,
   "id": "f117deb5",
   "metadata": {},
   "outputs": [
    {
     "data": {
      "text/plain": [
       "Sertraline      1855\n",
       "Escitalopram    1714\n",
       "Citalopram      1298\n",
       "Bupropion       1278\n",
       "Lexapro         1232\n",
       "Venlafaxine     1212\n",
       "Varenicline     1082\n",
       "Zoloft          1075\n",
       "Quetiapine      1065\n",
       "Clonazepam      1004\n",
       "Name: drug, dtype: int64"
      ]
     },
     "execution_count": 11,
     "metadata": {},
     "output_type": "execute_result"
    }
   ],
   "source": [
    "# Which drugs are most commonly reviewed?\n",
    "df.drug.value_counts().head(10)"
   ]
  },
  {
   "cell_type": "markdown",
   "id": "f33f9836",
   "metadata": {},
   "source": [
    "<font color='violet'> Parse Language\n",
    "    \n",
    "   The review column contains narratives where patients explain their experience with a prescription psych med. Language features from that column need to be extracted or created after any necessary cleaning of strings has been completed. Do any preparations necessary to conduct sentiment analysis. I'll be drawing quite a bit from the following resource: \n",
    "    - https://towardsdatascience.com/a-practitioners-guide-to-natural-language-processing-part-i-processing-understanding-text-9f4abfd13e72"
   ]
  },
  {
   "cell_type": "code",
   "execution_count": null,
   "id": "46517f38",
   "metadata": {},
   "outputs": [],
   "source": [
    "# View a sample string. Search for special characters.\n",
    "df.review[0]"
   ]
  },
  {
   "cell_type": "code",
   "execution_count": null,
   "id": "791e7c2f",
   "metadata": {},
   "outputs": [],
   "source": [
    "df[df['review'].str.find(\"é\")!=-1].head(1)"
   ]
  },
  {
   "cell_type": "code",
   "execution_count": null,
   "id": "deaaea37",
   "metadata": {},
   "outputs": [],
   "source": [
    "df[df['review'].str.find(\"ä\")!=-1].head(1)"
   ]
  },
  {
   "cell_type": "markdown",
   "id": "0f48a3bb",
   "metadata": {},
   "source": [
    "<font color='violet'> Remove Special Characters\n",
    "\n",
    "...if there are any. Haven't been able to find any of the most common special characters é or ä in the data, but doing it just in case. "
   ]
  },
  {
   "cell_type": "code",
   "execution_count": null,
   "id": "76b71dbc",
   "metadata": {},
   "outputs": [],
   "source": [
    "# This function works in the test suite, but there may not be examples in the data\n",
    "df['review'] = df['review'].apply(remove_accented_chars)"
   ]
  },
  {
   "cell_type": "markdown",
   "id": "ae25ec35",
   "metadata": {},
   "source": [
    "<font color='violet'> Expand Contractions"
   ]
  },
  {
   "cell_type": "code",
   "execution_count": null,
   "id": "03f7c7b4",
   "metadata": {},
   "outputs": [],
   "source": [
    "# First, find some to confirm it works. \n",
    "df[df['review'].str.find(\"'\")!=-1].head(1)"
   ]
  },
  {
   "cell_type": "code",
   "execution_count": null,
   "id": "01f946b7",
   "metadata": {},
   "outputs": [],
   "source": [
    "df.review[9]"
   ]
  },
  {
   "cell_type": "code",
   "execution_count": null,
   "id": "e49e1fa3",
   "metadata": {},
   "outputs": [],
   "source": [
    "df['review'] = df['review'].apply(contractions.fix)\n",
    "df.review[9]"
   ]
  },
  {
   "cell_type": "markdown",
   "id": "e1d1f4d1",
   "metadata": {},
   "source": [
    "\"Don't\" got changed to \"do not\"; contraction expansion worked. \n",
    "\n",
    "<font color='violet'> Next, remove punctuation/special characters where appropriate. \n",
    "    \n",
    "Try to keep those correlated with sentiment: ! ? # % ;) :( .  Again, first find an example to confirm it works."
   ]
  },
  {
   "cell_type": "code",
   "execution_count": null,
   "id": "386e580f",
   "metadata": {},
   "outputs": [],
   "source": [
    "df[df['review'].str.find(\"!\")!=-1].head(1)"
   ]
  },
  {
   "cell_type": "code",
   "execution_count": null,
   "id": "d22cf3ed",
   "metadata": {},
   "outputs": [],
   "source": [
    "df.review[6]"
   ]
  },
  {
   "cell_type": "code",
   "execution_count": null,
   "id": "75d66da5",
   "metadata": {},
   "outputs": [],
   "source": [
    "strip_most_punc(df, 'review')\n",
    "df.review[6]"
   ]
  },
  {
   "cell_type": "code",
   "execution_count": null,
   "id": "97e2cab0",
   "metadata": {},
   "outputs": [],
   "source": [
    "# left to strip are ' and : ; () where they don't appear as emoji.\n",
    "\n",
    "df[df['review'].str.find(\"'\")!=-1].head(1)"
   ]
  },
  {
   "cell_type": "code",
   "execution_count": null,
   "id": "115d2f34",
   "metadata": {},
   "outputs": [],
   "source": [
    "df.review[16]"
   ]
  },
  {
   "cell_type": "code",
   "execution_count": null,
   "id": "0224964f",
   "metadata": {},
   "outputs": [],
   "source": [
    "strip_apostrophe(df, 'review')\n",
    "df.review[16]"
   ]
  },
  {
   "cell_type": "code",
   "execution_count": null,
   "id": "bdbfb0c8",
   "metadata": {},
   "outputs": [],
   "source": [
    "# apostrophes stripped successfully. Move onto final characters. \n",
    "\n",
    "# use regex to identify :;() when they appear next to a letter rather than in emoji.\n",
    "\n"
   ]
  },
  {
   "cell_type": "markdown",
   "id": "684d7e19",
   "metadata": {},
   "source": [
    "<font color='violet'> Lemmatize texts using spacy."
   ]
  },
  {
   "cell_type": "markdown",
   "id": "7bd26558",
   "metadata": {},
   "source": [
    "<font color='violet'> More EDA\n",
    "\n",
    "https://medium.com/plotly/nlp-visualisations-for-clear-immediate-insights-into-text-data-and-outputs-9ebfab168d5b\n",
    "    \n",
    "https://www.numpyninja.com/post/nlp-text-data-visualization\n",
    "    \n",
    "https://www.kaggle.com/code/sainathkrothapalli/nlp-visualisation-guide\n",
    "    \n",
    "https://medium.com/acing-ai/visualizations-in-natural-language-processing-2ca60dd34ce\n",
    "    \n",
    "https://towardsdatascience.com/a-complete-exploratory-data-analysis-and-visualization-for-text-data-29fb1b96fb6a\n",
    "    \n",
    "https://towardsdatascience.com/getting-started-with-text-nlp-visualization-9dcb54bc91dd\n",
    "    \n",
    "https://www.kaggle.com/code/mitramir5/nlp-visualization-eda-glove\n",
    "    \n",
    "https://medium.com/analytics-vidhya/how-to-begin-performing-eda-on-nlp-ffdef92bedf6\n",
    "    \n",
    "https://inside-machinelearning.com/en/eda-nlp/\n",
    "    \n",
    "https://towardsdatascience.com/fundamental-eda-techniques-for-nlp-f81a93696a75\n",
    "    \n",
    "https://neptune.ai/blog/exploratory-data-analysis-natural-language-processing-tools\n",
    "    \n",
    "https://www.kdnuggets.com/2019/05/complete-exploratory-data-analysis-visualization-text-data.html\n",
    "    \n"
   ]
  }
 ],
 "metadata": {
  "kernelspec": {
   "display_name": "Python 3 (ipykernel)",
   "language": "python",
   "name": "python3"
  },
  "language_info": {
   "codemirror_mode": {
    "name": "ipython",
    "version": 3
   },
   "file_extension": ".py",
   "mimetype": "text/x-python",
   "name": "python",
   "nbconvert_exporter": "python",
   "pygments_lexer": "ipython3",
   "version": "3.9.15"
  }
 },
 "nbformat": 4,
 "nbformat_minor": 5
}
