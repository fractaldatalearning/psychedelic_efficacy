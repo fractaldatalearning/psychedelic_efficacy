{
 "cells": [
  {
   "cell_type": "markdown",
   "id": "3a2d0283",
   "metadata": {},
   "source": [
    "# <font color='violet'> Exploration & Parsing\n",
    "Using prescription drug review data wrangled here: https://github.com/fractaldatalearning/psychedelic_efficacy/blob/main/notebooks/1-kl-wrangle-tabular.ipynb"
   ]
  },
  {
   "cell_type": "code",
   "execution_count": 1,
   "id": "cb2ba9bb",
   "metadata": {},
   "outputs": [],
   "source": [
    "# ! pip install tqdm \n",
    "# !{sys.executable} -m pip install contractions"
   ]
  },
  {
   "cell_type": "code",
   "execution_count": 2,
   "id": "259f1ef3",
   "metadata": {},
   "outputs": [],
   "source": [
    "import numpy as np\n",
    "import pandas as pd\n",
    "import sys\n",
    "import contractions\n",
    "import re\n",
    "import string\n",
    "import matplotlib.pyplot as plt\n",
    "import seaborn as sns\n",
    "from tqdm import tqdm"
   ]
  },
  {
   "cell_type": "code",
   "execution_count": 86,
   "id": "813c59c5",
   "metadata": {},
   "outputs": [
    {
     "ename": "ImportError",
     "evalue": "cannot import name 'strip_non_emoji_emoji_symbol' from 'nlp.parse' (/Users/admin/Documents/GitHub/psychedelic_efficacy/notebooks/../src/nlp/parse.py)",
     "output_type": "error",
     "traceback": [
      "\u001b[0;31m---------------------------------------------------------------------------\u001b[0m",
      "\u001b[0;31mImportError\u001b[0m                               Traceback (most recent call last)",
      "Cell \u001b[0;32mIn[86], line 6\u001b[0m\n\u001b[1;32m      3\u001b[0m sys\u001b[38;5;241m.\u001b[39mpath\u001b[38;5;241m.\u001b[39mappend(src)\n\u001b[1;32m      5\u001b[0m \u001b[38;5;66;03m# import local functions\u001b[39;00m\n\u001b[0;32m----> 6\u001b[0m \u001b[38;5;28;01mfrom\u001b[39;00m \u001b[38;5;21;01mnlp\u001b[39;00m\u001b[38;5;21;01m.\u001b[39;00m\u001b[38;5;21;01mparse\u001b[39;00m \u001b[38;5;28;01mimport\u001b[39;00m remove_accented_chars, strip_most_punc, strip_apostrophe, strip_non_emoji_emoji_symbol\n",
      "\u001b[0;31mImportError\u001b[0m: cannot import name 'strip_non_emoji_emoji_symbol' from 'nlp.parse' (/Users/admin/Documents/GitHub/psychedelic_efficacy/notebooks/../src/nlp/parse.py)"
     ]
    }
   ],
   "source": [
    "# prepare to add local python functions; import modules from src directory\n",
    "src = '../src'\n",
    "sys.path.append(src)\n",
    "\n",
    "# import local functions\n",
    "from nlp.parse import remove_accented_chars, strip_most_punc, strip_apostrophe"
   ]
  },
  {
   "cell_type": "code",
   "execution_count": 4,
   "id": "2e1fb33d",
   "metadata": {},
   "outputs": [
    {
     "name": "stdout",
     "output_type": "stream",
     "text": [
      "<class 'pandas.core.frame.DataFrame'>\n",
      "RangeIndex: 50652 entries, 0 to 50651\n",
      "Data columns (total 6 columns):\n",
      " #   Column      Non-Null Count  Dtype  \n",
      "---  ------      --------------  -----  \n",
      " 0   Unnamed: 0  50652 non-null  int64  \n",
      " 1   drug        50652 non-null  object \n",
      " 2   rating      50652 non-null  float64\n",
      " 3   condition   50652 non-null  object \n",
      " 4   review      50652 non-null  object \n",
      " 5   date        50652 non-null  object \n",
      "dtypes: float64(1), int64(1), object(4)\n",
      "memory usage: 2.3+ MB\n"
     ]
    }
   ],
   "source": [
    "df = pd.read_csv('../data/interim/studies_clean.csv')\n",
    "df.info()"
   ]
  },
  {
   "cell_type": "code",
   "execution_count": 5,
   "id": "befb84a0",
   "metadata": {},
   "outputs": [
    {
     "data": {
      "text/html": [
       "<div>\n",
       "<style scoped>\n",
       "    .dataframe tbody tr th:only-of-type {\n",
       "        vertical-align: middle;\n",
       "    }\n",
       "\n",
       "    .dataframe tbody tr th {\n",
       "        vertical-align: top;\n",
       "    }\n",
       "\n",
       "    .dataframe thead th {\n",
       "        text-align: right;\n",
       "    }\n",
       "</style>\n",
       "<table border=\"1\" class=\"dataframe\">\n",
       "  <thead>\n",
       "    <tr style=\"text-align: right;\">\n",
       "      <th></th>\n",
       "      <th>drug</th>\n",
       "      <th>rating</th>\n",
       "      <th>condition</th>\n",
       "      <th>review</th>\n",
       "      <th>date</th>\n",
       "    </tr>\n",
       "  </thead>\n",
       "  <tbody>\n",
       "    <tr>\n",
       "      <th>0</th>\n",
       "      <td>vyvanse</td>\n",
       "      <td>9.0</td>\n",
       "      <td>add</td>\n",
       "      <td>I had began taking 20mg of Vyvanse for three m...</td>\n",
       "      <td>0</td>\n",
       "    </tr>\n",
       "    <tr>\n",
       "      <th>1</th>\n",
       "      <td>dextroamphetamine</td>\n",
       "      <td>8.0</td>\n",
       "      <td>add</td>\n",
       "      <td>Switched from Adderall to Dexedrine to compare...</td>\n",
       "      <td>0</td>\n",
       "    </tr>\n",
       "  </tbody>\n",
       "</table>\n",
       "</div>"
      ],
      "text/plain": [
       "                drug  rating condition  \\\n",
       "0            vyvanse     9.0       add   \n",
       "1  dextroamphetamine     8.0       add   \n",
       "\n",
       "                                              review date  \n",
       "0  I had began taking 20mg of Vyvanse for three m...    0  \n",
       "1  Switched from Adderall to Dexedrine to compare...    0  "
      ]
     },
     "execution_count": 5,
     "metadata": {},
     "output_type": "execute_result"
    }
   ],
   "source": [
    "# Drop \"Unnamed\" column; it's redundant with the index\n",
    "df = df.drop(columns=['Unnamed: 0'])\n",
    "df.head(2)"
   ]
  },
  {
   "cell_type": "markdown",
   "id": "6003f8f2",
   "metadata": {},
   "source": [
    "<font color='violet'> Explore each column, starting with 'drug'"
   ]
  },
  {
   "cell_type": "code",
   "execution_count": 6,
   "id": "efae90ef",
   "metadata": {},
   "outputs": [
    {
     "data": {
      "text/plain": [
       "651"
      ]
     },
     "execution_count": 6,
     "metadata": {},
     "output_type": "execute_result"
    }
   ],
   "source": [
    "# How many drugs are in the data? \n",
    "len(df.drug.unique())"
   ]
  },
  {
   "cell_type": "code",
   "execution_count": 7,
   "id": "f117deb5",
   "metadata": {},
   "outputs": [
    {
     "data": {
      "text/plain": [
       "Sertraline      1855\n",
       "Escitalopram    1714\n",
       "Citalopram      1298\n",
       "Bupropion       1278\n",
       "Lexapro         1232\n",
       "Venlafaxine     1212\n",
       "Varenicline     1082\n",
       "Zoloft          1075\n",
       "Quetiapine      1065\n",
       "Clonazepam      1004\n",
       "Name: drug, dtype: int64"
      ]
     },
     "execution_count": 7,
     "metadata": {},
     "output_type": "execute_result"
    }
   ],
   "source": [
    "# Which drugs are most commonly reviewed?\n",
    "freq_drugs = df.drug.value_counts().head(10)\n",
    "freq_drugs"
   ]
  },
  {
   "cell_type": "markdown",
   "id": "7880f582",
   "metadata": {},
   "source": [
    "It would be best to add a 'drug class' column when I come to feature engineering so that all these drugs are categorized. That column existed previously but came from one of the origina tables where too few of the rows had reviews for psych meds. I could eventually do this by creating a dictionary of drugs and their classes using information scraped from this website: https://www.drugs.com/drug-classes.html\n",
    "\n",
    "Alternatively, drugs could be understood by the conditions they treat. \n",
    "\n",
    "<font color='violet'> Explore conditions"
   ]
  },
  {
   "cell_type": "code",
   "execution_count": 8,
   "id": "78eb9871",
   "metadata": {},
   "outputs": [
    {
     "data": {
      "text/plain": [
       "38"
      ]
     },
     "execution_count": 8,
     "metadata": {},
     "output_type": "execute_result"
    }
   ],
   "source": [
    "len(df.condition.unique())"
   ]
  },
  {
   "cell_type": "code",
   "execution_count": 9,
   "id": "2f967ae8",
   "metadata": {},
   "outputs": [
    {
     "data": {
      "text/plain": [
       "depression                  14425\n",
       "anxiety                     14114\n",
       "bipolar                      5604\n",
       "addiction                    5192\n",
       "insomnia                     5018\n",
       "hrt                          1456\n",
       "schizophrenia                 789\n",
       "ocd                           752\n",
       "other                         592\n",
       "schizoaffective disorder      523\n",
       "Name: condition, dtype: int64"
      ]
     },
     "execution_count": 9,
     "metadata": {},
     "output_type": "execute_result"
    }
   ],
   "source": [
    "freq_conditions = df.condition.value_counts().head(10)\n",
    "freq_conditions"
   ]
  },
  {
   "cell_type": "code",
   "execution_count": 10,
   "id": "f70c1f00",
   "metadata": {},
   "outputs": [
    {
     "data": {
      "text/html": [
       "<div>\n",
       "<style scoped>\n",
       "    .dataframe tbody tr th:only-of-type {\n",
       "        vertical-align: middle;\n",
       "    }\n",
       "\n",
       "    .dataframe tbody tr th {\n",
       "        vertical-align: top;\n",
       "    }\n",
       "\n",
       "    .dataframe thead th {\n",
       "        text-align: right;\n",
       "    }\n",
       "</style>\n",
       "<table border=\"1\" class=\"dataframe\">\n",
       "  <thead>\n",
       "    <tr style=\"text-align: right;\">\n",
       "      <th></th>\n",
       "      <th>drug</th>\n",
       "      <th>rating</th>\n",
       "      <th>condition</th>\n",
       "      <th>review</th>\n",
       "      <th>date</th>\n",
       "    </tr>\n",
       "  </thead>\n",
       "  <tbody>\n",
       "    <tr>\n",
       "      <th>118</th>\n",
       "      <td>Clonazepam</td>\n",
       "      <td>10.0</td>\n",
       "      <td>anxiety</td>\n",
       "      <td>\"klonopin has definitely given me my life back...</td>\n",
       "      <td>April 19, 2008</td>\n",
       "    </tr>\n",
       "    <tr>\n",
       "      <th>120</th>\n",
       "      <td>Escitalopram</td>\n",
       "      <td>9.0</td>\n",
       "      <td>depression</td>\n",
       "      <td>\"I am a 22 year old female college student. I ...</td>\n",
       "      <td>April 29, 2014</td>\n",
       "    </tr>\n",
       "    <tr>\n",
       "      <th>124</th>\n",
       "      <td>Clonazepam</td>\n",
       "      <td>6.0</td>\n",
       "      <td>anxiety</td>\n",
       "      <td>\"Works for me\"</td>\n",
       "      <td>March 24, 2013</td>\n",
       "    </tr>\n",
       "    <tr>\n",
       "      <th>127</th>\n",
       "      <td>Zoloft</td>\n",
       "      <td>1.0</td>\n",
       "      <td>depression</td>\n",
       "      <td>\"Zoloft did not help me at all.  I was on it f...</td>\n",
       "      <td>January 14, 2013</td>\n",
       "    </tr>\n",
       "    <tr>\n",
       "      <th>129</th>\n",
       "      <td>Sertraline</td>\n",
       "      <td>10.0</td>\n",
       "      <td>depression</td>\n",
       "      <td>\"I had major depression from the time I starte...</td>\n",
       "      <td>November 2, 2014</td>\n",
       "    </tr>\n",
       "  </tbody>\n",
       "</table>\n",
       "</div>"
      ],
      "text/plain": [
       "             drug  rating   condition  \\\n",
       "118    Clonazepam    10.0     anxiety   \n",
       "120  Escitalopram     9.0  depression   \n",
       "124    Clonazepam     6.0     anxiety   \n",
       "127        Zoloft     1.0  depression   \n",
       "129    Sertraline    10.0  depression   \n",
       "\n",
       "                                                review              date  \n",
       "118  \"klonopin has definitely given me my life back...    April 19, 2008  \n",
       "120  \"I am a 22 year old female college student. I ...    April 29, 2014  \n",
       "124                                 \"Works for me\"        March 24, 2013  \n",
       "127  \"Zoloft did not help me at all.  I was on it f...  January 14, 2013  \n",
       "129  \"I had major depression from the time I starte...  November 2, 2014  "
      ]
     },
     "execution_count": 10,
     "metadata": {},
     "output_type": "execute_result"
    }
   ],
   "source": [
    "# Which of the most common drugs are used to treat which of the most common conditions?\n",
    "\n",
    "freq_drugs = ['Sertraline', 'Escitalopram', 'Citalopram', 'Bupropion', 'Lexapro', \n",
    "             'Venlafaxine', 'Varenicline', 'Zoloft', 'Quetiapine', 'Clonazepam']\n",
    "freq_conditions = ['depression', 'anxiety', 'bipolar', 'addiction', 'insomnia', 'hrt',\n",
    "                  'schizophrenia', 'ocd', 'other', 'schizoaffective disorder']\n",
    "freq_drug_conditions = df[df['drug'].isin(freq_drugs) & df['condition'].isin(freq_conditions)]\n",
    "\n",
    "freq_drug_conditions.head()"
   ]
  },
  {
   "cell_type": "code",
   "execution_count": 11,
   "id": "80cf171b",
   "metadata": {},
   "outputs": [
    {
     "data": {
      "text/html": [
       "<div>\n",
       "<style scoped>\n",
       "    .dataframe tbody tr th:only-of-type {\n",
       "        vertical-align: middle;\n",
       "    }\n",
       "\n",
       "    .dataframe tbody tr th {\n",
       "        vertical-align: top;\n",
       "    }\n",
       "\n",
       "    .dataframe thead th {\n",
       "        text-align: right;\n",
       "    }\n",
       "</style>\n",
       "<table border=\"1\" class=\"dataframe\">\n",
       "  <thead>\n",
       "    <tr style=\"text-align: right;\">\n",
       "      <th></th>\n",
       "      <th>Sertraline</th>\n",
       "      <th>Escitalopram</th>\n",
       "      <th>Citalopram</th>\n",
       "      <th>Bupropion</th>\n",
       "      <th>Lexapro</th>\n",
       "      <th>Venlafaxine</th>\n",
       "      <th>Varenicline</th>\n",
       "      <th>Zoloft</th>\n",
       "      <th>Quetiapine</th>\n",
       "      <th>Clonazepam</th>\n",
       "    </tr>\n",
       "    <tr>\n",
       "      <th>condition</th>\n",
       "      <th></th>\n",
       "      <th></th>\n",
       "      <th></th>\n",
       "      <th></th>\n",
       "      <th></th>\n",
       "      <th></th>\n",
       "      <th></th>\n",
       "      <th></th>\n",
       "      <th></th>\n",
       "      <th></th>\n",
       "    </tr>\n",
       "  </thead>\n",
       "  <tbody>\n",
       "    <tr>\n",
       "      <th>depression</th>\n",
       "      <td>893.0</td>\n",
       "      <td>536.0</td>\n",
       "      <td>NaN</td>\n",
       "      <td>566.0</td>\n",
       "      <td>443.0</td>\n",
       "      <td>131.0</td>\n",
       "      <td>763.0</td>\n",
       "      <td>NaN</td>\n",
       "      <td>692.0</td>\n",
       "      <td>464.0</td>\n",
       "    </tr>\n",
       "    <tr>\n",
       "      <th>addiction</th>\n",
       "      <td>199.0</td>\n",
       "      <td>NaN</td>\n",
       "      <td>17.0</td>\n",
       "      <td>NaN</td>\n",
       "      <td>NaN</td>\n",
       "      <td>NaN</td>\n",
       "      <td>NaN</td>\n",
       "      <td>1079.0</td>\n",
       "      <td>NaN</td>\n",
       "      <td>NaN</td>\n",
       "    </tr>\n",
       "    <tr>\n",
       "      <th>anxiety</th>\n",
       "      <td>85.0</td>\n",
       "      <td>709.0</td>\n",
       "      <td>782.0</td>\n",
       "      <td>1061.0</td>\n",
       "      <td>751.0</td>\n",
       "      <td>100.0</td>\n",
       "      <td>841.0</td>\n",
       "      <td>NaN</td>\n",
       "      <td>432.0</td>\n",
       "      <td>441.0</td>\n",
       "    </tr>\n",
       "    <tr>\n",
       "      <th>bipolar</th>\n",
       "      <td>41.0</td>\n",
       "      <td>8.0</td>\n",
       "      <td>77.0</td>\n",
       "      <td>33.0</td>\n",
       "      <td>25.0</td>\n",
       "      <td>396.0</td>\n",
       "      <td>32.0</td>\n",
       "      <td>NaN</td>\n",
       "      <td>51.0</td>\n",
       "      <td>11.0</td>\n",
       "    </tr>\n",
       "    <tr>\n",
       "      <th>other</th>\n",
       "      <td>5.0</td>\n",
       "      <td>5.0</td>\n",
       "      <td>7.0</td>\n",
       "      <td>5.0</td>\n",
       "      <td>NaN</td>\n",
       "      <td>7.0</td>\n",
       "      <td>4.0</td>\n",
       "      <td>3.0</td>\n",
       "      <td>5.0</td>\n",
       "      <td>NaN</td>\n",
       "    </tr>\n",
       "    <tr>\n",
       "      <th>hrt</th>\n",
       "      <td>3.0</td>\n",
       "      <td>14.0</td>\n",
       "      <td>NaN</td>\n",
       "      <td>8.0</td>\n",
       "      <td>3.0</td>\n",
       "      <td>NaN</td>\n",
       "      <td>36.0</td>\n",
       "      <td>NaN</td>\n",
       "      <td>3.0</td>\n",
       "      <td>30.0</td>\n",
       "    </tr>\n",
       "    <tr>\n",
       "      <th>ocd</th>\n",
       "      <td>NaN</td>\n",
       "      <td>21.0</td>\n",
       "      <td>2.0</td>\n",
       "      <td>35.0</td>\n",
       "      <td>10.0</td>\n",
       "      <td>17.0</td>\n",
       "      <td>105.0</td>\n",
       "      <td>NaN</td>\n",
       "      <td>12.0</td>\n",
       "      <td>80.0</td>\n",
       "    </tr>\n",
       "    <tr>\n",
       "      <th>insomnia</th>\n",
       "      <td>NaN</td>\n",
       "      <td>NaN</td>\n",
       "      <td>103.0</td>\n",
       "      <td>NaN</td>\n",
       "      <td>NaN</td>\n",
       "      <td>243.0</td>\n",
       "      <td>NaN</td>\n",
       "      <td>NaN</td>\n",
       "      <td>NaN</td>\n",
       "      <td>NaN</td>\n",
       "    </tr>\n",
       "    <tr>\n",
       "      <th>schizoaffective disorder</th>\n",
       "      <td>NaN</td>\n",
       "      <td>NaN</td>\n",
       "      <td>NaN</td>\n",
       "      <td>NaN</td>\n",
       "      <td>NaN</td>\n",
       "      <td>32.0</td>\n",
       "      <td>NaN</td>\n",
       "      <td>NaN</td>\n",
       "      <td>NaN</td>\n",
       "      <td>NaN</td>\n",
       "    </tr>\n",
       "    <tr>\n",
       "      <th>schizophrenia</th>\n",
       "      <td>NaN</td>\n",
       "      <td>NaN</td>\n",
       "      <td>NaN</td>\n",
       "      <td>NaN</td>\n",
       "      <td>NaN</td>\n",
       "      <td>32.0</td>\n",
       "      <td>NaN</td>\n",
       "      <td>NaN</td>\n",
       "      <td>NaN</td>\n",
       "      <td>NaN</td>\n",
       "    </tr>\n",
       "  </tbody>\n",
       "</table>\n",
       "</div>"
      ],
      "text/plain": [
       "                          Sertraline  Escitalopram  Citalopram  Bupropion  \\\n",
       "condition                                                                   \n",
       "depression                     893.0         536.0         NaN      566.0   \n",
       "addiction                      199.0           NaN        17.0        NaN   \n",
       "anxiety                         85.0         709.0       782.0     1061.0   \n",
       "bipolar                         41.0           8.0        77.0       33.0   \n",
       "other                            5.0           5.0         7.0        5.0   \n",
       "hrt                              3.0          14.0         NaN        8.0   \n",
       "ocd                              NaN          21.0         2.0       35.0   \n",
       "insomnia                         NaN           NaN       103.0        NaN   \n",
       "schizoaffective disorder         NaN           NaN         NaN        NaN   \n",
       "schizophrenia                    NaN           NaN         NaN        NaN   \n",
       "\n",
       "                          Lexapro  Venlafaxine  Varenicline  Zoloft  \\\n",
       "condition                                                             \n",
       "depression                  443.0        131.0        763.0     NaN   \n",
       "addiction                     NaN          NaN          NaN  1079.0   \n",
       "anxiety                     751.0        100.0        841.0     NaN   \n",
       "bipolar                      25.0        396.0         32.0     NaN   \n",
       "other                         NaN          7.0          4.0     3.0   \n",
       "hrt                           3.0          NaN         36.0     NaN   \n",
       "ocd                          10.0         17.0        105.0     NaN   \n",
       "insomnia                      NaN        243.0          NaN     NaN   \n",
       "schizoaffective disorder      NaN         32.0          NaN     NaN   \n",
       "schizophrenia                 NaN         32.0          NaN     NaN   \n",
       "\n",
       "                          Quetiapine  Clonazepam  \n",
       "condition                                         \n",
       "depression                     692.0       464.0  \n",
       "addiction                        NaN         NaN  \n",
       "anxiety                        432.0       441.0  \n",
       "bipolar                         51.0        11.0  \n",
       "other                            5.0         NaN  \n",
       "hrt                              3.0        30.0  \n",
       "ocd                             12.0        80.0  \n",
       "insomnia                         NaN         NaN  \n",
       "schizoaffective disorder         NaN         NaN  \n",
       "schizophrenia                    NaN         NaN  "
      ]
     },
     "execution_count": 11,
     "metadata": {},
     "output_type": "execute_result"
    }
   ],
   "source": [
    "freq_combo_summary = freq_drug_conditions.pivot_table(index='condition', columns='drug', \n",
    "                                                    aggfunc='count', values='review')\n",
    "freq_combo_summary.columns = freq_drugs\n",
    "freq_combo_summary = freq_combo_summary.sort_values(by=freq_drugs, ascending=False)\n",
    "freq_combo_summary"
   ]
  },
  {
   "cell_type": "code",
   "execution_count": 12,
   "id": "1534195c",
   "metadata": {},
   "outputs": [
    {
     "data": {
      "image/png": "[encoded data removed]",
      "text/plain": [
       "<Figure size 640x480 with 2 Axes>"
      ]
     },
     "metadata": {},
     "output_type": "display_data"
    }
   ],
   "source": [
    "# Visualize distribution of reviews across common conditions & drugs with a heatmap.\n",
    "sns.heatmap(freq_combo_summary, cmap='gray_r')\n",
    "plt.show()"
   ]
  },
  {
   "cell_type": "markdown",
   "id": "c625b56d",
   "metadata": {},
   "source": [
    "<font color='violet'> Which drugs & conditions have the highest ratings?"
   ]
  },
  {
   "cell_type": "code",
   "execution_count": 13,
   "id": "8bc5a62f",
   "metadata": {},
   "outputs": [
    {
     "data": {
      "text/plain": [
       "drug\n",
       "Hydrochlorothiazide / olmesartan    10.000000\n",
       "Undecylenic acid                    10.000000\n",
       "Vivelle                             10.000000\n",
       "Focalin XR                          10.000000\n",
       "lorazepam                           10.000000\n",
       "                                      ...    \n",
       "Micrainin                           10.000000\n",
       "Tiagabine                           10.000000\n",
       "Seconal Sodium                      10.000000\n",
       "Propofol                            10.000000\n",
       "Alprazolam Intensol                  9.833333\n",
       "Name: rating, Length: 80, dtype: float64"
      ]
     },
     "execution_count": 13,
     "metadata": {},
     "output_type": "execute_result"
    }
   ],
   "source": [
    "top_drugs = df.groupby(['drug'])['rating'].mean().sort_values(ascending=False)\n",
    "top_drugs.head(80)"
   ]
  },
  {
   "cell_type": "code",
   "execution_count": 14,
   "id": "f7747088",
   "metadata": {},
   "outputs": [
    {
     "data": {
      "text/plain": [
       "condition\n",
       "sad                  9.421053\n",
       "failure to thrive    9.333333\n",
       "did                  9.000000\n",
       "addiction            8.686826\n",
       "eating disorder      8.209302\n",
       "ocd                  8.082447\n",
       "nightmares           8.000000\n",
       "other                7.939189\n",
       "anxiety              7.750531\n",
       "ptsd                 7.685185\n",
       "Name: rating, dtype: float64"
      ]
     },
     "execution_count": 14,
     "metadata": {},
     "output_type": "execute_result"
    }
   ],
   "source": [
    "successful_conditions = df.groupby(['condition'])['rating'].mean().sort_values(\n",
    "    ascending=False)\n",
    "successful_conditions.head(10)"
   ]
  },
  {
   "cell_type": "code",
   "execution_count": 15,
   "id": "b25d24af",
   "metadata": {},
   "outputs": [
    {
     "data": {
      "text/plain": [
       "drug                 condition \n",
       "Effexor              asd           10.000000\n",
       "Asendin              depression    10.000000\n",
       "Niravam              depression    10.000000\n",
       "dextrostat           add           10.000000\n",
       "Tofranil             nightmares    10.000000\n",
       "                                     ...    \n",
       "Evzio                addiction     10.000000\n",
       "Pseudoephedrine      other         10.000000\n",
       "Pristiq              hrt           10.000000\n",
       "Methadone            other          9.875000\n",
       "Alprazolam Intensol  anxiety        9.833333\n",
       "Name: rating, Length: 140, dtype: float64"
      ]
     },
     "execution_count": 15,
     "metadata": {},
     "output_type": "execute_result"
    }
   ],
   "source": [
    "top_combo = df.groupby(['drug', 'condition'])['rating'].mean().sort_values(\n",
    "    ascending=False)\n",
    "top_combo.head(140)"
   ]
  },
  {
   "cell_type": "code",
   "execution_count": 16,
   "id": "1201849e",
   "metadata": {},
   "outputs": [
    {
     "data": {
      "text/plain": [
       "set()"
      ]
     },
     "execution_count": 16,
     "metadata": {},
     "output_type": "execute_result"
    }
   ],
   "source": [
    "top_freq_drugs = set(freq_drugs).intersection(set(top_drugs.index[0:79]))\n",
    "top_freq_drugs"
   ]
  },
  {
   "cell_type": "code",
   "execution_count": 17,
   "id": "25df595e",
   "metadata": {},
   "outputs": [
    {
     "data": {
      "text/plain": [
       "set()"
      ]
     },
     "execution_count": 17,
     "metadata": {},
     "output_type": "execute_result"
    }
   ],
   "source": [
    "top_freq_drugs_by_condition = set(freq_drugs).intersection(set(top_combo.index[0:138]))\n",
    "top_freq_drugs_by_condition"
   ]
  },
  {
   "cell_type": "code",
   "execution_count": 18,
   "id": "5ff6001e",
   "metadata": {},
   "outputs": [
    {
     "data": {
      "text/plain": [
       "{'addiction', 'anxiety', 'ocd', 'other'}"
      ]
     },
     "execution_count": 18,
     "metadata": {},
     "output_type": "execute_result"
    }
   ],
   "source": [
    "successful_freq_conditions = set(freq_conditions).intersection(set(\n",
    "    successful_conditions.index[0:10]))\n",
    "successful_freq_conditions"
   ]
  },
  {
   "cell_type": "markdown",
   "id": "452395b9",
   "metadata": {},
   "source": [
    "Anxiety, addction, and ocd are conditions for which there are many drug reviews and high rates of success with treatment. \n",
    "\n",
    "The 10 most frequently-reviewed drugs have nothing in common with the 79 perfectly-rated drugs or the 138 drugs that are rated perfectly for any single condition. My hypothesis is that these drugs may have only one or very few reviews each, which is how their average rating is so high. \n",
    "\n",
    "<font color='violet'> Explore distribution of ratings"
   ]
  },
  {
   "cell_type": "code",
   "execution_count": 19,
   "id": "4b911546",
   "metadata": {},
   "outputs": [
    {
     "data": {
      "image/png": "[encoded data removed]",
      "text/plain": [
       "<Figure size 640x480 with 1 Axes>"
      ]
     },
     "metadata": {},
     "output_type": "display_data"
    }
   ],
   "source": [
    "sns.histplot(df.rating)\n",
    "plt.axvline(df.rating.mean(), color='orange')\n",
    "plt.axvline(df.rating.median(), color='violet')\n",
    "plt.show()"
   ]
  },
  {
   "cell_type": "markdown",
   "id": "db2d768d",
   "metadata": {},
   "source": [
    "More participants gave their drug a high review than gave low reviews, and even fewer gave mediocre reviews.\n",
    "\n",
    "Now, find out: of drugs that received an average rating of 10, how many reiews is that mean derived from?"
   ]
  },
  {
   "cell_type": "code",
   "execution_count": 20,
   "id": "97fb1f40",
   "metadata": {},
   "outputs": [
    {
     "data": {
      "text/plain": [
       "drug\n",
       "Secobarbital         6\n",
       "Estratest H.S.       5\n",
       "Magnesium citrate    4\n",
       "Seconal              3\n",
       "Estropipate          3\n",
       "Seconal Sodium       3\n",
       "Diazepam Intensol    3\n",
       "Focalin XR           3\n",
       "Cenestin             3\n",
       "Tranxene SD          2\n",
       "Ciprofloxacin        2\n",
       "Eskalith-CR          2\n",
       "Ogen                 2\n",
       "Vivelle              2\n",
       "Isotretinoin         2\n",
       "chantix              2\n",
       "Regadenoson          1\n",
       "dtype: int64"
      ]
     },
     "execution_count": 20,
     "metadata": {},
     "output_type": "execute_result"
    }
   ],
   "source": [
    "perfect_avg_rating = set(top_drugs.index[0:79])\n",
    "df[df.drug.isin(perfect_avg_rating)].value_counts(subset='drug')[0:17]"
   ]
  },
  {
   "cell_type": "markdown",
   "id": "94aea20a",
   "metadata": {},
   "source": [
    "Of the 79 drugs with perfect average ratings, only 16 of them had more than one rating, and only 3 of them had more than 3 ratings. Given that there are about 50500 ratings and 650 drugs, the average number of ratings per drug is about 80, so the perfectly-rated drugs definitely seem like outliers. I'd not be surprised if a model eventually has a difficult time correctly classifying the extreme ratings, but for now I'll just keep this in mind and see what happens. \n",
    "\n",
    "<font color='violet'> What does the distribution of ratings look like for drugs with at least 20 ratings (20 = 25% of the average number of ratings)?"
   ]
  },
  {
   "cell_type": "code",
   "execution_count": 21,
   "id": "aa9fd879",
   "metadata": {},
   "outputs": [
    {
     "data": {
      "text/html": [
       "<div>\n",
       "<style scoped>\n",
       "    .dataframe tbody tr th:only-of-type {\n",
       "        vertical-align: middle;\n",
       "    }\n",
       "\n",
       "    .dataframe tbody tr th {\n",
       "        vertical-align: top;\n",
       "    }\n",
       "\n",
       "    .dataframe thead th {\n",
       "        text-align: right;\n",
       "    }\n",
       "</style>\n",
       "<table border=\"1\" class=\"dataframe\">\n",
       "  <thead>\n",
       "    <tr style=\"text-align: right;\">\n",
       "      <th></th>\n",
       "      <th>drug</th>\n",
       "      <th>rating</th>\n",
       "      <th>condition</th>\n",
       "      <th>review</th>\n",
       "      <th>date</th>\n",
       "      <th>ratings_count</th>\n",
       "    </tr>\n",
       "  </thead>\n",
       "  <tbody>\n",
       "    <tr>\n",
       "      <th>19385</th>\n",
       "      <td>Silver sulfadiazine</td>\n",
       "      <td>9.0</td>\n",
       "      <td>other</td>\n",
       "      <td>\"Works well, but I get a bit short of breath a...</td>\n",
       "      <td>July 1, 2016</td>\n",
       "      <td>1</td>\n",
       "    </tr>\n",
       "    <tr>\n",
       "      <th>44539</th>\n",
       "      <td>Brisdelle</td>\n",
       "      <td>7.0</td>\n",
       "      <td>hrt</td>\n",
       "      <td>\"I have been on Brisdelle for 3 yrs now at fir...</td>\n",
       "      <td>August 24, 2016</td>\n",
       "      <td>1</td>\n",
       "    </tr>\n",
       "    <tr>\n",
       "      <th>44568</th>\n",
       "      <td>Dimethyl sulfoxide</td>\n",
       "      <td>10.0</td>\n",
       "      <td>other</td>\n",
       "      <td>\"I have used DMSO for many things related to p...</td>\n",
       "      <td>March 13, 2013</td>\n",
       "      <td>1</td>\n",
       "    </tr>\n",
       "    <tr>\n",
       "      <th>35596</th>\n",
       "      <td>Cholestyramine</td>\n",
       "      <td>10.0</td>\n",
       "      <td>other</td>\n",
       "      <td>\"I have used this for 1 year and have no side ...</td>\n",
       "      <td>February 26, 2011</td>\n",
       "      <td>1</td>\n",
       "    </tr>\n",
       "    <tr>\n",
       "      <th>9404</th>\n",
       "      <td>Hydrocortisone / neomycin / polymyxin b</td>\n",
       "      <td>1.0</td>\n",
       "      <td>other</td>\n",
       "      <td>\"I went to my doctor for earache relief and I ...</td>\n",
       "      <td>May 29, 2016</td>\n",
       "      <td>1</td>\n",
       "    </tr>\n",
       "    <tr>\n",
       "      <th>...</th>\n",
       "      <td>...</td>\n",
       "      <td>...</td>\n",
       "      <td>...</td>\n",
       "      <td>...</td>\n",
       "      <td>...</td>\n",
       "      <td>...</td>\n",
       "    </tr>\n",
       "    <tr>\n",
       "      <th>45820</th>\n",
       "      <td>Sertraline</td>\n",
       "      <td>10.0</td>\n",
       "      <td>anxiety</td>\n",
       "      <td>\"Worked wonders for me. Changed my life. I hav...</td>\n",
       "      <td>July 15, 2008</td>\n",
       "      <td>1855</td>\n",
       "    </tr>\n",
       "    <tr>\n",
       "      <th>11268</th>\n",
       "      <td>Sertraline</td>\n",
       "      <td>8.0</td>\n",
       "      <td>anxiety</td>\n",
       "      <td>\"I am on day 16 of 50mg and I am starting to f...</td>\n",
       "      <td>January 6, 2015</td>\n",
       "      <td>1855</td>\n",
       "    </tr>\n",
       "    <tr>\n",
       "      <th>29321</th>\n",
       "      <td>Sertraline</td>\n",
       "      <td>10.0</td>\n",
       "      <td>hrt</td>\n",
       "      <td>\"I was on Lexapro for almost 5 years for depre...</td>\n",
       "      <td>February 3, 2013</td>\n",
       "      <td>1855</td>\n",
       "    </tr>\n",
       "    <tr>\n",
       "      <th>43521</th>\n",
       "      <td>Sertraline</td>\n",
       "      <td>2.0</td>\n",
       "      <td>depression</td>\n",
       "      <td>\"I started taking this medicine over a week ag...</td>\n",
       "      <td>September 20, 2016</td>\n",
       "      <td>1855</td>\n",
       "    </tr>\n",
       "    <tr>\n",
       "      <th>43127</th>\n",
       "      <td>Sertraline</td>\n",
       "      <td>7.0</td>\n",
       "      <td>depression</td>\n",
       "      <td>\"I also suffer from anxiety and I take 50mg in...</td>\n",
       "      <td>March 1, 2009</td>\n",
       "      <td>1855</td>\n",
       "    </tr>\n",
       "  </tbody>\n",
       "</table>\n",
       "<p>50652 rows × 6 columns</p>\n",
       "</div>"
      ],
      "text/plain": [
       "                                          drug  rating   condition  \\\n",
       "19385                      Silver sulfadiazine     9.0       other   \n",
       "44539                                Brisdelle     7.0         hrt   \n",
       "44568                       Dimethyl sulfoxide    10.0       other   \n",
       "35596                           Cholestyramine    10.0       other   \n",
       "9404   Hydrocortisone / neomycin / polymyxin b     1.0       other   \n",
       "...                                        ...     ...         ...   \n",
       "45820                               Sertraline    10.0     anxiety   \n",
       "11268                               Sertraline     8.0     anxiety   \n",
       "29321                               Sertraline    10.0         hrt   \n",
       "43521                               Sertraline     2.0  depression   \n",
       "43127                               Sertraline     7.0  depression   \n",
       "\n",
       "                                                  review                date  \\\n",
       "19385  \"Works well, but I get a bit short of breath a...        July 1, 2016   \n",
       "44539  \"I have been on Brisdelle for 3 yrs now at fir...     August 24, 2016   \n",
       "44568  \"I have used DMSO for many things related to p...      March 13, 2013   \n",
       "35596  \"I have used this for 1 year and have no side ...   February 26, 2011   \n",
       "9404   \"I went to my doctor for earache relief and I ...        May 29, 2016   \n",
       "...                                                  ...                 ...   \n",
       "45820  \"Worked wonders for me. Changed my life. I hav...       July 15, 2008   \n",
       "11268  \"I am on day 16 of 50mg and I am starting to f...     January 6, 2015   \n",
       "29321  \"I was on Lexapro for almost 5 years for depre...    February 3, 2013   \n",
       "43521  \"I started taking this medicine over a week ag...  September 20, 2016   \n",
       "43127  \"I also suffer from anxiety and I take 50mg in...       March 1, 2009   \n",
       "\n",
       "       ratings_count  \n",
       "19385              1  \n",
       "44539              1  \n",
       "44568              1  \n",
       "35596              1  \n",
       "9404               1  \n",
       "...              ...  \n",
       "45820           1855  \n",
       "11268           1855  \n",
       "29321           1855  \n",
       "43521           1855  \n",
       "43127           1855  \n",
       "\n",
       "[50652 rows x 6 columns]"
      ]
     },
     "execution_count": 21,
     "metadata": {},
     "output_type": "execute_result"
    }
   ],
   "source": [
    "df['ratings_count'] = df.groupby(['drug'])['drug'].transform('count')\n",
    "df.sort_values('ratings_count')"
   ]
  },
  {
   "cell_type": "code",
   "execution_count": 22,
   "id": "faf71b61",
   "metadata": {},
   "outputs": [
    {
     "data": {
      "text/html": [
       "<div>\n",
       "<style scoped>\n",
       "    .dataframe tbody tr th:only-of-type {\n",
       "        vertical-align: middle;\n",
       "    }\n",
       "\n",
       "    .dataframe tbody tr th {\n",
       "        vertical-align: top;\n",
       "    }\n",
       "\n",
       "    .dataframe thead th {\n",
       "        text-align: right;\n",
       "    }\n",
       "</style>\n",
       "<table border=\"1\" class=\"dataframe\">\n",
       "  <thead>\n",
       "    <tr style=\"text-align: right;\">\n",
       "      <th></th>\n",
       "      <th>drug</th>\n",
       "      <th>rating</th>\n",
       "      <th>condition</th>\n",
       "      <th>review</th>\n",
       "      <th>date</th>\n",
       "      <th>ratings_count</th>\n",
       "    </tr>\n",
       "  </thead>\n",
       "  <tbody>\n",
       "    <tr>\n",
       "      <th>20018</th>\n",
       "      <td>Budeprion XL</td>\n",
       "      <td>9.0</td>\n",
       "      <td>depression</td>\n",
       "      <td>\"I have been using Budeprion for about 3 month...</td>\n",
       "      <td>November 19, 2011</td>\n",
       "      <td>20</td>\n",
       "    </tr>\n",
       "    <tr>\n",
       "      <th>19072</th>\n",
       "      <td>Angeliq</td>\n",
       "      <td>10.0</td>\n",
       "      <td>hrt</td>\n",
       "      <td>\"I am 59 years old. I had all the symptoms of ...</td>\n",
       "      <td>October 27, 2016</td>\n",
       "      <td>20</td>\n",
       "    </tr>\n",
       "    <tr>\n",
       "      <th>19312</th>\n",
       "      <td>Memantine</td>\n",
       "      <td>1.0</td>\n",
       "      <td>alzheimers</td>\n",
       "      <td>\"My wife began the 4 stage process a couple of...</td>\n",
       "      <td>June 27, 2014</td>\n",
       "      <td>20</td>\n",
       "    </tr>\n",
       "    <tr>\n",
       "      <th>49228</th>\n",
       "      <td>Drospirenone / estradiol</td>\n",
       "      <td>10.0</td>\n",
       "      <td>hrt</td>\n",
       "      <td>\"Well it changed my life. I was only 43 and ev...</td>\n",
       "      <td>December 12, 2008</td>\n",
       "      <td>20</td>\n",
       "    </tr>\n",
       "    <tr>\n",
       "      <th>40570</th>\n",
       "      <td>Drospirenone / estradiol</td>\n",
       "      <td>2.0</td>\n",
       "      <td>hrt</td>\n",
       "      <td>\"Lots of side effects especially breast pain a...</td>\n",
       "      <td>January 5, 2016</td>\n",
       "      <td>20</td>\n",
       "    </tr>\n",
       "    <tr>\n",
       "      <th>...</th>\n",
       "      <td>...</td>\n",
       "      <td>...</td>\n",
       "      <td>...</td>\n",
       "      <td>...</td>\n",
       "      <td>...</td>\n",
       "      <td>...</td>\n",
       "    </tr>\n",
       "    <tr>\n",
       "      <th>19675</th>\n",
       "      <td>Sertraline</td>\n",
       "      <td>10.0</td>\n",
       "      <td>anxiety</td>\n",
       "      <td>\"My 18 year old son was diagnosed with panic d...</td>\n",
       "      <td>December 8, 2014</td>\n",
       "      <td>1855</td>\n",
       "    </tr>\n",
       "    <tr>\n",
       "      <th>34582</th>\n",
       "      <td>Sertraline</td>\n",
       "      <td>8.0</td>\n",
       "      <td>ptsd</td>\n",
       "      <td>\"As someone that HATES crowds &amp;amp; dealing wi...</td>\n",
       "      <td>November 12, 2015</td>\n",
       "      <td>1855</td>\n",
       "    </tr>\n",
       "    <tr>\n",
       "      <th>29253</th>\n",
       "      <td>Sertraline</td>\n",
       "      <td>8.0</td>\n",
       "      <td>anxiety</td>\n",
       "      <td>\"Having suffered with severe depression &amp;amp; ...</td>\n",
       "      <td>May 7, 2017</td>\n",
       "      <td>1855</td>\n",
       "    </tr>\n",
       "    <tr>\n",
       "      <th>34578</th>\n",
       "      <td>Sertraline</td>\n",
       "      <td>8.0</td>\n",
       "      <td>depression</td>\n",
       "      <td>\"I started taking this drug to battle mild dep...</td>\n",
       "      <td>July 29, 2016</td>\n",
       "      <td>1855</td>\n",
       "    </tr>\n",
       "    <tr>\n",
       "      <th>18789</th>\n",
       "      <td>Sertraline</td>\n",
       "      <td>10.0</td>\n",
       "      <td>anxiety</td>\n",
       "      <td>\"Please give this medicine a try. I have had s...</td>\n",
       "      <td>December 1, 2014</td>\n",
       "      <td>1855</td>\n",
       "    </tr>\n",
       "  </tbody>\n",
       "</table>\n",
       "<p>48653 rows × 6 columns</p>\n",
       "</div>"
      ],
      "text/plain": [
       "                           drug  rating   condition  \\\n",
       "20018              Budeprion XL     9.0  depression   \n",
       "19072                   Angeliq    10.0         hrt   \n",
       "19312                 Memantine     1.0  alzheimers   \n",
       "49228  Drospirenone / estradiol    10.0         hrt   \n",
       "40570  Drospirenone / estradiol     2.0         hrt   \n",
       "...                         ...     ...         ...   \n",
       "19675                Sertraline    10.0     anxiety   \n",
       "34582                Sertraline     8.0        ptsd   \n",
       "29253                Sertraline     8.0     anxiety   \n",
       "34578                Sertraline     8.0  depression   \n",
       "18789                Sertraline    10.0     anxiety   \n",
       "\n",
       "                                                  review               date  \\\n",
       "20018  \"I have been using Budeprion for about 3 month...  November 19, 2011   \n",
       "19072  \"I am 59 years old. I had all the symptoms of ...   October 27, 2016   \n",
       "19312  \"My wife began the 4 stage process a couple of...      June 27, 2014   \n",
       "49228  \"Well it changed my life. I was only 43 and ev...  December 12, 2008   \n",
       "40570  \"Lots of side effects especially breast pain a...    January 5, 2016   \n",
       "...                                                  ...                ...   \n",
       "19675  \"My 18 year old son was diagnosed with panic d...   December 8, 2014   \n",
       "34582  \"As someone that HATES crowds &amp; dealing wi...  November 12, 2015   \n",
       "29253  \"Having suffered with severe depression &amp; ...        May 7, 2017   \n",
       "34578  \"I started taking this drug to battle mild dep...      July 29, 2016   \n",
       "18789  \"Please give this medicine a try. I have had s...   December 1, 2014   \n",
       "\n",
       "       ratings_count  \n",
       "20018             20  \n",
       "19072             20  \n",
       "19312             20  \n",
       "49228             20  \n",
       "40570             20  \n",
       "...              ...  \n",
       "19675           1855  \n",
       "34582           1855  \n",
       "29253           1855  \n",
       "34578           1855  \n",
       "18789           1855  \n",
       "\n",
       "[48653 rows x 6 columns]"
      ]
     },
     "execution_count": 22,
     "metadata": {},
     "output_type": "execute_result"
    }
   ],
   "source": [
    "twenty_plus_ratings = df[df.ratings_count>=20]\n",
    "twenty_plus_ratings.sort_values('ratings_count')"
   ]
  },
  {
   "cell_type": "code",
   "execution_count": 23,
   "id": "9dbb69d8",
   "metadata": {},
   "outputs": [
    {
     "data": {
      "image/png": "[encoded data removed]",
      "text/plain": [
       "<Figure size 640x480 with 1 Axes>"
      ]
     },
     "metadata": {},
     "output_type": "display_data"
    }
   ],
   "source": [
    "sns.histplot(twenty_plus_ratings.rating)\n",
    "plt.axvline(df.rating.mean(), color='orange')\n",
    "plt.axvline(df.rating.median(), color='violet')\n",
    "plt.show()"
   ]
  },
  {
   "cell_type": "markdown",
   "id": "0e94b483",
   "metadata": {},
   "source": [
    "This distribution doesn't look much different from that which includes all reviews, which tells me the outliers aren't affecting the distribution too much. So it's probably a good idea to keep all rows in the dataset when moving forward.  \n",
    "\n",
    "<font color='violet'> What is the relationship between date and reviews?"
   ]
  },
  {
   "cell_type": "code",
   "execution_count": 24,
   "id": "d1cd1c9e",
   "metadata": {},
   "outputs": [
    {
     "data": {
      "text/plain": [
       "array(['0', 'February 28, 2012', 'October 18, 2016', ...,\n",
       "       'January 13, 2009', 'December 12, 2017', 'December 12, 2009'],\n",
       "      dtype=object)"
      ]
     },
     "execution_count": 24,
     "metadata": {},
     "output_type": "execute_result"
    }
   ],
   "source": [
    "df.date.unique()"
   ]
  },
  {
   "cell_type": "code",
   "execution_count": 25,
   "id": "c0b432c5",
   "metadata": {},
   "outputs": [
    {
     "data": {
      "text/plain": [
       "0                      NaN\n",
       "1                      NaN\n",
       "2                      NaN\n",
       "3                      NaN\n",
       "4                      NaN\n",
       "               ...        \n",
       "50647    November 10, 2016\n",
       "50648        July 17, 2016\n",
       "50649      August 16, 2016\n",
       "50650     January 21, 2015\n",
       "50651         May 31, 2015\n",
       "Name: date, Length: 50652, dtype: object"
      ]
     },
     "execution_count": 25,
     "metadata": {},
     "output_type": "execute_result"
    }
   ],
   "source": [
    "df.date = df.date.replace('0', np.nan)\n",
    "df.date"
   ]
  },
  {
   "cell_type": "code",
   "execution_count": 26,
   "id": "3e89ec9e",
   "metadata": {},
   "outputs": [
    {
     "data": {
      "text/plain": [
       "0              NaT\n",
       "1              NaT\n",
       "2              NaT\n",
       "3              NaT\n",
       "4              NaT\n",
       "           ...    \n",
       "50647   2016-11-10\n",
       "50648   2016-07-17\n",
       "50649   2016-08-16\n",
       "50650   2015-01-21\n",
       "50651   2015-05-31\n",
       "Name: date, Length: 50652, dtype: datetime64[ns]"
      ]
     },
     "execution_count": 26,
     "metadata": {},
     "output_type": "execute_result"
    }
   ],
   "source": [
    "df.date = pd.to_datetime(df.date)\n",
    "df.date"
   ]
  },
  {
   "cell_type": "code",
   "execution_count": 27,
   "id": "dcb94bdf",
   "metadata": {},
   "outputs": [
    {
     "data": {
      "text/html": [
       "<div>\n",
       "<style scoped>\n",
       "    .dataframe tbody tr th:only-of-type {\n",
       "        vertical-align: middle;\n",
       "    }\n",
       "\n",
       "    .dataframe tbody tr th {\n",
       "        vertical-align: top;\n",
       "    }\n",
       "\n",
       "    .dataframe thead th {\n",
       "        text-align: right;\n",
       "    }\n",
       "</style>\n",
       "<table border=\"1\" class=\"dataframe\">\n",
       "  <thead>\n",
       "    <tr style=\"text-align: right;\">\n",
       "      <th></th>\n",
       "      <th>drug</th>\n",
       "      <th>rating</th>\n",
       "      <th>condition</th>\n",
       "      <th>review</th>\n",
       "      <th>date</th>\n",
       "      <th>ratings_count</th>\n",
       "      <th>count_by_date</th>\n",
       "    </tr>\n",
       "  </thead>\n",
       "  <tbody>\n",
       "    <tr>\n",
       "      <th>0</th>\n",
       "      <td>vyvanse</td>\n",
       "      <td>9.0</td>\n",
       "      <td>add</td>\n",
       "      <td>I had began taking 20mg of Vyvanse for three m...</td>\n",
       "      <td>NaT</td>\n",
       "      <td>21</td>\n",
       "      <td>NaN</td>\n",
       "    </tr>\n",
       "    <tr>\n",
       "      <th>109</th>\n",
       "      <td>Mirtazapine</td>\n",
       "      <td>10.0</td>\n",
       "      <td>depression</td>\n",
       "      <td>\"I&amp;#039;ve tried a few antidepressants over th...</td>\n",
       "      <td>2012-02-28</td>\n",
       "      <td>719</td>\n",
       "      <td>20.0</td>\n",
       "    </tr>\n",
       "    <tr>\n",
       "      <th>110</th>\n",
       "      <td>Methadone</td>\n",
       "      <td>7.0</td>\n",
       "      <td>addiction</td>\n",
       "      <td>\"Ive been on Methadone for over ten years and ...</td>\n",
       "      <td>2016-10-18</td>\n",
       "      <td>181</td>\n",
       "      <td>37.0</td>\n",
       "    </tr>\n",
       "    <tr>\n",
       "      <th>111</th>\n",
       "      <td>Seroquel</td>\n",
       "      <td>10.0</td>\n",
       "      <td>schizoaffective disorder</td>\n",
       "      <td>\"No problems, watch what you eat.\"</td>\n",
       "      <td>2014-10-08</td>\n",
       "      <td>417</td>\n",
       "      <td>21.0</td>\n",
       "    </tr>\n",
       "    <tr>\n",
       "      <th>112</th>\n",
       "      <td>Ambien</td>\n",
       "      <td>2.0</td>\n",
       "      <td>insomnia</td>\n",
       "      <td>\"Ditto on rebound sleepless when discontinued....</td>\n",
       "      <td>2015-01-13</td>\n",
       "      <td>381</td>\n",
       "      <td>8.0</td>\n",
       "    </tr>\n",
       "  </tbody>\n",
       "</table>\n",
       "</div>"
      ],
      "text/plain": [
       "            drug  rating                 condition  \\\n",
       "0        vyvanse     9.0                       add   \n",
       "109  Mirtazapine    10.0                depression   \n",
       "110    Methadone     7.0                 addiction   \n",
       "111     Seroquel    10.0  schizoaffective disorder   \n",
       "112       Ambien     2.0                  insomnia   \n",
       "\n",
       "                                                review       date  \\\n",
       "0    I had began taking 20mg of Vyvanse for three m...        NaT   \n",
       "109  \"I&#039;ve tried a few antidepressants over th... 2012-02-28   \n",
       "110  \"Ive been on Methadone for over ten years and ... 2016-10-18   \n",
       "111             \"No problems, watch what you eat.\"     2014-10-08   \n",
       "112  \"Ditto on rebound sleepless when discontinued.... 2015-01-13   \n",
       "\n",
       "     ratings_count  count_by_date  \n",
       "0               21            NaN  \n",
       "109            719           20.0  \n",
       "110            181           37.0  \n",
       "111            417           21.0  \n",
       "112            381            8.0  "
      ]
     },
     "execution_count": 27,
     "metadata": {},
     "output_type": "execute_result"
    }
   ],
   "source": [
    "# Are there more or fewer reviews from any given point in time?\n",
    "df['count_by_date'] = df.groupby(['date'])['date'].transform('count')\n",
    "unique_dates = df.drop_duplicates(subset=['date'])\n",
    "unique_dates.head()"
   ]
  },
  {
   "cell_type": "code",
   "execution_count": 28,
   "id": "b62fe8f7",
   "metadata": {},
   "outputs": [
    {
     "data": {
      "text/html": [
       "<div>\n",
       "<style scoped>\n",
       "    .dataframe tbody tr th:only-of-type {\n",
       "        vertical-align: middle;\n",
       "    }\n",
       "\n",
       "    .dataframe tbody tr th {\n",
       "        vertical-align: top;\n",
       "    }\n",
       "\n",
       "    .dataframe thead th {\n",
       "        text-align: right;\n",
       "    }\n",
       "</style>\n",
       "<table border=\"1\" class=\"dataframe\">\n",
       "  <thead>\n",
       "    <tr style=\"text-align: right;\">\n",
       "      <th></th>\n",
       "      <th>rating</th>\n",
       "      <th>ratings_count</th>\n",
       "      <th>count_by_date</th>\n",
       "    </tr>\n",
       "  </thead>\n",
       "  <tbody>\n",
       "    <tr>\n",
       "      <th>count</th>\n",
       "      <td>50652.000000</td>\n",
       "      <td>50652.000000</td>\n",
       "      <td>50543.000000</td>\n",
       "    </tr>\n",
       "    <tr>\n",
       "      <th>mean</th>\n",
       "      <td>7.412501</td>\n",
       "      <td>660.981245</td>\n",
       "      <td>19.495222</td>\n",
       "    </tr>\n",
       "    <tr>\n",
       "      <th>std</th>\n",
       "      <td>3.075669</td>\n",
       "      <td>484.434979</td>\n",
       "      <td>9.489709</td>\n",
       "    </tr>\n",
       "    <tr>\n",
       "      <th>min</th>\n",
       "      <td>1.000000</td>\n",
       "      <td>1.000000</td>\n",
       "      <td>1.000000</td>\n",
       "    </tr>\n",
       "    <tr>\n",
       "      <th>25%</th>\n",
       "      <td>6.000000</td>\n",
       "      <td>245.000000</td>\n",
       "      <td>12.000000</td>\n",
       "    </tr>\n",
       "    <tr>\n",
       "      <th>50%</th>\n",
       "      <td>9.000000</td>\n",
       "      <td>596.000000</td>\n",
       "      <td>18.000000</td>\n",
       "    </tr>\n",
       "    <tr>\n",
       "      <th>75%</th>\n",
       "      <td>10.000000</td>\n",
       "      <td>1004.000000</td>\n",
       "      <td>26.000000</td>\n",
       "    </tr>\n",
       "    <tr>\n",
       "      <th>max</th>\n",
       "      <td>10.000000</td>\n",
       "      <td>1855.000000</td>\n",
       "      <td>55.000000</td>\n",
       "    </tr>\n",
       "  </tbody>\n",
       "</table>\n",
       "</div>"
      ],
      "text/plain": [
       "             rating  ratings_count  count_by_date\n",
       "count  50652.000000   50652.000000   50543.000000\n",
       "mean       7.412501     660.981245      19.495222\n",
       "std        3.075669     484.434979       9.489709\n",
       "min        1.000000       1.000000       1.000000\n",
       "25%        6.000000     245.000000      12.000000\n",
       "50%        9.000000     596.000000      18.000000\n",
       "75%       10.000000    1004.000000      26.000000\n",
       "max       10.000000    1855.000000      55.000000"
      ]
     },
     "execution_count": 28,
     "metadata": {},
     "output_type": "execute_result"
    }
   ],
   "source": [
    "df.describe()"
   ]
  },
  {
   "cell_type": "code",
   "execution_count": 29,
   "id": "002cfefc",
   "metadata": {},
   "outputs": [
    {
     "data": {
      "image/png": "[encoded data removed]",
      "text/plain": [
       "<Figure size 640x480 with 1 Axes>"
      ]
     },
     "metadata": {},
     "output_type": "display_data"
    }
   ],
   "source": [
    "sns.lineplot(data=unique_dates, x='date', y='count_by_date')\n",
    "plt.show()"
   ]
  },
  {
   "cell_type": "markdown",
   "id": "b2864abf",
   "metadata": {},
   "source": [
    "There was an increase in the number of reviews submitted daily around 2015. \n",
    "\n",
    "<font color='violet'> Do ratings change with time?"
   ]
  },
  {
   "cell_type": "code",
   "execution_count": 30,
   "id": "be68cb46",
   "metadata": {},
   "outputs": [
    {
     "data": {
      "image/png": "[encoded data removed]",
      "text/plain": [
       "<Figure size 640x480 with 1 Axes>"
      ]
     },
     "metadata": {},
     "output_type": "display_data"
    }
   ],
   "source": [
    "sns.lineplot(data=df, x='date', y='rating')\n",
    "plt.show()"
   ]
  },
  {
   "cell_type": "markdown",
   "id": "6f86cd76",
   "metadata": {},
   "source": [
    "This looks like something other than total random noise, like maybe there were some current events happening around 2009 and again in 2015 that led people to start rating their psych meds less favorably. There may also be some annual seaonality. Whatever the reason, it seems that date could be correlated with rating and should not be removed. Process this column further to better understand the relationship between date and rating. "
   ]
  },
  {
   "cell_type": "code",
   "execution_count": 31,
   "id": "39e7517d",
   "metadata": {},
   "outputs": [
    {
     "data": {
      "text/html": [
       "<div>\n",
       "<style scoped>\n",
       "    .dataframe tbody tr th:only-of-type {\n",
       "        vertical-align: middle;\n",
       "    }\n",
       "\n",
       "    .dataframe tbody tr th {\n",
       "        vertical-align: top;\n",
       "    }\n",
       "\n",
       "    .dataframe thead th {\n",
       "        text-align: right;\n",
       "    }\n",
       "</style>\n",
       "<table border=\"1\" class=\"dataframe\">\n",
       "  <thead>\n",
       "    <tr style=\"text-align: right;\">\n",
       "      <th></th>\n",
       "      <th>rating</th>\n",
       "    </tr>\n",
       "    <tr>\n",
       "      <th>date</th>\n",
       "      <th></th>\n",
       "    </tr>\n",
       "  </thead>\n",
       "  <tbody>\n",
       "    <tr>\n",
       "      <th>2012-02-28</th>\n",
       "      <td>10.0</td>\n",
       "    </tr>\n",
       "    <tr>\n",
       "      <th>2016-10-18</th>\n",
       "      <td>7.0</td>\n",
       "    </tr>\n",
       "    <tr>\n",
       "      <th>2014-10-08</th>\n",
       "      <td>10.0</td>\n",
       "    </tr>\n",
       "    <tr>\n",
       "      <th>2015-01-13</th>\n",
       "      <td>2.0</td>\n",
       "    </tr>\n",
       "    <tr>\n",
       "      <th>2015-02-14</th>\n",
       "      <td>10.0</td>\n",
       "    </tr>\n",
       "    <tr>\n",
       "      <th>...</th>\n",
       "      <td>...</td>\n",
       "    </tr>\n",
       "    <tr>\n",
       "      <th>2016-11-10</th>\n",
       "      <td>9.0</td>\n",
       "    </tr>\n",
       "    <tr>\n",
       "      <th>2016-07-17</th>\n",
       "      <td>2.0</td>\n",
       "    </tr>\n",
       "    <tr>\n",
       "      <th>2016-08-16</th>\n",
       "      <td>9.0</td>\n",
       "    </tr>\n",
       "    <tr>\n",
       "      <th>2015-01-21</th>\n",
       "      <td>8.0</td>\n",
       "    </tr>\n",
       "    <tr>\n",
       "      <th>2015-05-31</th>\n",
       "      <td>10.0</td>\n",
       "    </tr>\n",
       "  </tbody>\n",
       "</table>\n",
       "<p>50543 rows × 1 columns</p>\n",
       "</div>"
      ],
      "text/plain": [
       "            rating\n",
       "date              \n",
       "2012-02-28    10.0\n",
       "2016-10-18     7.0\n",
       "2014-10-08    10.0\n",
       "2015-01-13     2.0\n",
       "2015-02-14    10.0\n",
       "...            ...\n",
       "2016-11-10     9.0\n",
       "2016-07-17     2.0\n",
       "2016-08-16     9.0\n",
       "2015-01-21     8.0\n",
       "2015-05-31    10.0\n",
       "\n",
       "[50543 rows x 1 columns]"
      ]
     },
     "execution_count": 31,
     "metadata": {},
     "output_type": "execute_result"
    }
   ],
   "source": [
    "rating_date = df[['date', 'rating']].dropna().set_index('date')\n",
    "rating_date"
   ]
  },
  {
   "cell_type": "code",
   "execution_count": 32,
   "id": "d26fb701",
   "metadata": {},
   "outputs": [
    {
     "data": {
      "text/plain": [
       "<AxesSubplot: xlabel='date'>"
      ]
     },
     "execution_count": 32,
     "metadata": {},
     "output_type": "execute_result"
    },
    {
     "data": {
      "image/png": "[encoded data removed]",
      "text/plain": [
       "<Figure size 640x480 with 1 Axes>"
      ]
     },
     "metadata": {},
     "output_type": "display_data"
    }
   ],
   "source": [
    "downsample_week = rating_date.resample('W').mean()\n",
    "downsample_week.plot()"
   ]
  },
  {
   "cell_type": "code",
   "execution_count": 33,
   "id": "624cdf79",
   "metadata": {},
   "outputs": [
    {
     "data": {
      "text/plain": [
       "<AxesSubplot: xlabel='date'>"
      ]
     },
     "execution_count": 33,
     "metadata": {},
     "output_type": "execute_result"
    },
    {
     "data": {
      "image/png": "[encoded data removed]",
      "text/plain": [
       "<Figure size 640x480 with 1 Axes>"
      ]
     },
     "metadata": {},
     "output_type": "display_data"
    }
   ],
   "source": [
    "rolling_mean = downsample_week.rolling(window=30).mean()\n",
    "rolling_mean.plot()"
   ]
  },
  {
   "cell_type": "code",
   "execution_count": 34,
   "id": "2dd89f8c",
   "metadata": {},
   "outputs": [
    {
     "data": {
      "text/plain": [
       "<AxesSubplot: xlabel='date'>"
      ]
     },
     "execution_count": 34,
     "metadata": {},
     "output_type": "execute_result"
    },
    {
     "data": {
      "image/png": "[encoded data removed]",
      "text/plain": [
       "<Figure size 640x480 with 1 Axes>"
      ]
     },
     "metadata": {},
     "output_type": "display_data"
    }
   ],
   "source": [
    "# Check for seasonality\n",
    "index_month = rating_date.index.month\n",
    "rating_by_month = rating_date.groupby(index_month).mean()\n",
    "rating_by_month.plot()"
   ]
  },
  {
   "cell_type": "markdown",
   "id": "f33f9836",
   "metadata": {},
   "source": [
    "It seems that seasonal variation is less extreme than variation by year (average range of 7.3-7.55 instead of 6.5-9.0), with people rating their drugs as being, on average, very slightly less effective in July-November. \n",
    "\n",
    "It is even more clear now that weekly average ratings of drugs in these studies did in facat dip in 2009 and again in 2015. The purpose behind these trends isn't so important (though I have some guesses as to what was happening in 2009 and 2015). The date, though, will be a valuable variable alongside narrataive text features when predicting ratings, so as to compare like with like current-events wise. \n",
    "\n",
    "Now, move from the more quantitative data into the narrative column, cleaning up language therein. \n",
    "\n",
    "<font color='violet'> Parse Language\n",
    "    \n",
    "The review column contains narratives where patients explain their experience with a prescription psych med. Language features from that column need to be extracted or created after any necessary cleaning of strings has been completed. Do any preparations necessary to conduct sentiment analysis. I'll be drawing quite a bit from the following resource: https://towardsdatascience.com/a-practitioners-guide-to-natural-language-processing-part-i-processing-understanding-text-9f4abfd13e72"
   ]
  },
  {
   "cell_type": "code",
   "execution_count": 35,
   "id": "46517f38",
   "metadata": {},
   "outputs": [
    {
     "data": {
      "text/plain": [
       "'I had began taking 20mg of Vyvanse for three months and was surprised to find that such a small dose affected my mood so effectively.  When it came to school work though I found that I needed the 30mg to increase my level of focus (and have been on it for a month since).  I had not experienced decreased appetite until about a month into taking the 20mg.  I find that the greatest benefit of Vyvanse for me is that it tends to stabalize my mood on a daily basis and lessens any bouts of anxiety and depression that i used to face before I was perscribed. a few experiences of nausiea, heavy moodswings on the days I do not take it, decreased appetite, and some negative affect on my short-term memory. My mood has noticably improved, I have more energy, experience better sleep and digestion.'"
      ]
     },
     "execution_count": 35,
     "metadata": {},
     "output_type": "execute_result"
    }
   ],
   "source": [
    "# View a sample string. Search for special characters.\n",
    "df.review[0]"
   ]
  },
  {
   "cell_type": "code",
   "execution_count": 36,
   "id": "791e7c2f",
   "metadata": {},
   "outputs": [
    {
     "data": {
      "text/html": [
       "<div>\n",
       "<style scoped>\n",
       "    .dataframe tbody tr th:only-of-type {\n",
       "        vertical-align: middle;\n",
       "    }\n",
       "\n",
       "    .dataframe tbody tr th {\n",
       "        vertical-align: top;\n",
       "    }\n",
       "\n",
       "    .dataframe thead th {\n",
       "        text-align: right;\n",
       "    }\n",
       "</style>\n",
       "<table border=\"1\" class=\"dataframe\">\n",
       "  <thead>\n",
       "    <tr style=\"text-align: right;\">\n",
       "      <th></th>\n",
       "      <th>drug</th>\n",
       "      <th>rating</th>\n",
       "      <th>condition</th>\n",
       "      <th>review</th>\n",
       "      <th>date</th>\n",
       "      <th>ratings_count</th>\n",
       "      <th>count_by_date</th>\n",
       "    </tr>\n",
       "  </thead>\n",
       "  <tbody>\n",
       "  </tbody>\n",
       "</table>\n",
       "</div>"
      ],
      "text/plain": [
       "Empty DataFrame\n",
       "Columns: [drug, rating, condition, review, date, ratings_count, count_by_date]\n",
       "Index: []"
      ]
     },
     "execution_count": 36,
     "metadata": {},
     "output_type": "execute_result"
    }
   ],
   "source": [
    "df[df['review'].str.find(\"é\")!=-1].head(1)"
   ]
  },
  {
   "cell_type": "code",
   "execution_count": 37,
   "id": "deaaea37",
   "metadata": {},
   "outputs": [
    {
     "data": {
      "text/html": [
       "<div>\n",
       "<style scoped>\n",
       "    .dataframe tbody tr th:only-of-type {\n",
       "        vertical-align: middle;\n",
       "    }\n",
       "\n",
       "    .dataframe tbody tr th {\n",
       "        vertical-align: top;\n",
       "    }\n",
       "\n",
       "    .dataframe thead th {\n",
       "        text-align: right;\n",
       "    }\n",
       "</style>\n",
       "<table border=\"1\" class=\"dataframe\">\n",
       "  <thead>\n",
       "    <tr style=\"text-align: right;\">\n",
       "      <th></th>\n",
       "      <th>drug</th>\n",
       "      <th>rating</th>\n",
       "      <th>condition</th>\n",
       "      <th>review</th>\n",
       "      <th>date</th>\n",
       "      <th>ratings_count</th>\n",
       "      <th>count_by_date</th>\n",
       "    </tr>\n",
       "  </thead>\n",
       "  <tbody>\n",
       "  </tbody>\n",
       "</table>\n",
       "</div>"
      ],
      "text/plain": [
       "Empty DataFrame\n",
       "Columns: [drug, rating, condition, review, date, ratings_count, count_by_date]\n",
       "Index: []"
      ]
     },
     "execution_count": 37,
     "metadata": {},
     "output_type": "execute_result"
    }
   ],
   "source": [
    "df[df['review'].str.find(\"ä\")!=-1].head(1)"
   ]
  },
  {
   "cell_type": "markdown",
   "id": "0f48a3bb",
   "metadata": {},
   "source": [
    "<font color='violet'> Remove Special Characters\n",
    "\n",
    "...if there are any. Haven't been able to find any of the most common special characters é or ä in the data, but doing it just in case. "
   ]
  },
  {
   "cell_type": "code",
   "execution_count": 38,
   "id": "76b71dbc",
   "metadata": {},
   "outputs": [],
   "source": [
    "# This function works in the test suite, but there may not be examples in the data\n",
    "df['review'] = df['review'].apply(remove_accented_chars)"
   ]
  },
  {
   "cell_type": "markdown",
   "id": "ae25ec35",
   "metadata": {},
   "source": [
    "<font color='violet'> Expand Contractions"
   ]
  },
  {
   "cell_type": "code",
   "execution_count": 39,
   "id": "03f7c7b4",
   "metadata": {},
   "outputs": [
    {
     "data": {
      "text/html": [
       "<div>\n",
       "<style scoped>\n",
       "    .dataframe tbody tr th:only-of-type {\n",
       "        vertical-align: middle;\n",
       "    }\n",
       "\n",
       "    .dataframe tbody tr th {\n",
       "        vertical-align: top;\n",
       "    }\n",
       "\n",
       "    .dataframe thead th {\n",
       "        text-align: right;\n",
       "    }\n",
       "</style>\n",
       "<table border=\"1\" class=\"dataframe\">\n",
       "  <thead>\n",
       "    <tr style=\"text-align: right;\">\n",
       "      <th></th>\n",
       "      <th>drug</th>\n",
       "      <th>rating</th>\n",
       "      <th>condition</th>\n",
       "      <th>review</th>\n",
       "      <th>date</th>\n",
       "      <th>ratings_count</th>\n",
       "      <th>count_by_date</th>\n",
       "    </tr>\n",
       "  </thead>\n",
       "  <tbody>\n",
       "    <tr>\n",
       "      <th>9</th>\n",
       "      <td>concerta</td>\n",
       "      <td>8.0</td>\n",
       "      <td>adhd</td>\n",
       "      <td>The treatment details were pretty basic.  I ju...</td>\n",
       "      <td>NaT</td>\n",
       "      <td>13</td>\n",
       "      <td>NaN</td>\n",
       "    </tr>\n",
       "  </tbody>\n",
       "</table>\n",
       "</div>"
      ],
      "text/plain": [
       "       drug  rating condition  \\\n",
       "9  concerta     8.0      adhd   \n",
       "\n",
       "                                              review date  ratings_count  \\\n",
       "9  The treatment details were pretty basic.  I ju...  NaT             13   \n",
       "\n",
       "   count_by_date  \n",
       "9            NaN  "
      ]
     },
     "execution_count": 39,
     "metadata": {},
     "output_type": "execute_result"
    }
   ],
   "source": [
    "# First, find some to confirm it works. \n",
    "df[df['review'].str.find(\"'\")!=-1].head(1)"
   ]
  },
  {
   "cell_type": "code",
   "execution_count": 40,
   "id": "01f946b7",
   "metadata": {},
   "outputs": [
    {
     "data": {
      "text/plain": [
       "\"The treatment details were pretty basic.  I just took the medication in the morning at the same time of day every day.  I was allowed to skip it on the weekends or less busy times if I so desired.  I really don't have anything else to put for this section of the survey.  I'm trying to fill up the 50 word requirement though.  You shouldn't really have that requirement on this form.  It seems kind of silly to be writing with nothing left to say. Some of the side affects that I had were:  my stomach would hurt sometimes and other times it was difficult to eat without getting queezy.  I didn't have much of an appetite.  When the medicine wore off, it seemed to have a strong rebound effect and things became difficult for me during that last several hours of my day. I liked taking the medication, I just wish it would have lasted longer during the day.  By 3p-5pm it had wore off and that seemed to by my busiest time of day with the kids, dinner and house stuff all at once. I did not have any other conditions.  Just an inability to focus, hyperactivity, and impulsive behavior.  I had a hard time staying organized and difficulty completing tasks.  I also had difficulty staying with one job for too long.  I had a hard time sustaining reading without getting really tired, and I also had a hard time controlling my emotional outbursts.  The  Concerta really helped me control all of those things.\""
      ]
     },
     "execution_count": 40,
     "metadata": {},
     "output_type": "execute_result"
    }
   ],
   "source": [
    "df.review[9]"
   ]
  },
  {
   "cell_type": "code",
   "execution_count": 41,
   "id": "e49e1fa3",
   "metadata": {},
   "outputs": [
    {
     "data": {
      "text/plain": [
       "'The treatment details were pretty basic.  I just took the medication in the morning at the same time of day every day.  I was allowed to skip it on the weekends or less busy times if I so desired.  I really do not have anything else to put for this section of the survey.  I am trying to fill up the 50 word requirement though.  You should not really have that requirement on this form.  It seems kind of silly to be writing with nothing left to say. Some of the side affects that I had were:  my stomach would hurt sometimes and other times it was difficult to eat without getting queezy.  I did not have much of an appetite.  When the medicine wore off, it seemed to have a strong rebound effect and things became difficult for me during that last several hours of my day. I liked taking the medication, I just wish it would have lasted longer during the day.  By 3p-5pm it had wore off and that seemed to by my busiest time of day with the kids, dinner and house stuff all at once. I did not have any other conditions.  Just an inability to focus, hyperactivity, and impulsive behavior.  I had a hard time staying organized and difficulty completing tasks.  I also had difficulty staying with one job for too long.  I had a hard time sustaining reading without getting really tired, and I also had a hard time controlling my emotional outbursts.  The  Concerta really helped me control all of those things.'"
      ]
     },
     "execution_count": 41,
     "metadata": {},
     "output_type": "execute_result"
    }
   ],
   "source": [
    "df['review'] = df['review'].apply(contractions.fix)\n",
    "df.review[9]"
   ]
  },
  {
   "cell_type": "markdown",
   "id": "e1d1f4d1",
   "metadata": {},
   "source": [
    "\"Don't\" got changed to \"do not\"; contraction expansion worked. \n",
    "\n",
    "<font color='violet'> Next, remove punctuation/special characters where appropriate. \n",
    "    \n",
    "Try to keep those correlated with sentiment: ! ? # % ;) :( .  Again, first find an example to confirm it works."
   ]
  },
  {
   "cell_type": "code",
   "execution_count": 42,
   "id": "386e580f",
   "metadata": {},
   "outputs": [
    {
     "data": {
      "text/html": [
       "<div>\n",
       "<style scoped>\n",
       "    .dataframe tbody tr th:only-of-type {\n",
       "        vertical-align: middle;\n",
       "    }\n",
       "\n",
       "    .dataframe tbody tr th {\n",
       "        vertical-align: top;\n",
       "    }\n",
       "\n",
       "    .dataframe thead th {\n",
       "        text-align: right;\n",
       "    }\n",
       "</style>\n",
       "<table border=\"1\" class=\"dataframe\">\n",
       "  <thead>\n",
       "    <tr style=\"text-align: right;\">\n",
       "      <th></th>\n",
       "      <th>drug</th>\n",
       "      <th>rating</th>\n",
       "      <th>condition</th>\n",
       "      <th>review</th>\n",
       "      <th>date</th>\n",
       "      <th>ratings_count</th>\n",
       "      <th>count_by_date</th>\n",
       "    </tr>\n",
       "  </thead>\n",
       "  <tbody>\n",
       "    <tr>\n",
       "      <th>6</th>\n",
       "      <td>vyvanse</td>\n",
       "      <td>7.0</td>\n",
       "      <td>add</td>\n",
       "      <td>So far the throwing up has stopped and the hea...</td>\n",
       "      <td>NaT</td>\n",
       "      <td>21</td>\n",
       "      <td>NaN</td>\n",
       "    </tr>\n",
       "  </tbody>\n",
       "</table>\n",
       "</div>"
      ],
      "text/plain": [
       "      drug  rating condition  \\\n",
       "6  vyvanse     7.0       add   \n",
       "\n",
       "                                              review date  ratings_count  \\\n",
       "6  So far the throwing up has stopped and the hea...  NaT             21   \n",
       "\n",
       "   count_by_date  \n",
       "6            NaN  "
      ]
     },
     "execution_count": 42,
     "metadata": {},
     "output_type": "execute_result"
    }
   ],
   "source": [
    "df[df['review'].str.find(\"!\")!=-1].head(1)"
   ]
  },
  {
   "cell_type": "code",
   "execution_count": 43,
   "id": "d22cf3ed",
   "metadata": {},
   "outputs": [
    {
     "data": {
      "text/plain": [
       "'So far the throwing up has stopped and the headaches come and go no food even looks good to eat no cravings very easy to diet ;) and passing all my finals was AMAZING. This drug makes strattera look like tylenol! throwing up alot, bad headaches, twitching, crazy heart beat, loss of appetite (which is a plus in my eyes), and happy thoughts (like \"wow i am soo beautiful\" for some reason would pop in my head alot), as well as some negative thoughts and worrying about homework constantly which is fine to because i would get it all done. I needed to switch from straterra which made me very very depressed quiet and i slept for like an hour each night with that drug it was horrible. I switched to Vyvanse and the first time i took it, it was like an anti deppresant at first i was the normal happy hyper me but i could still focus very well on studying but when i started comming down from it that was the worst i was dry heaving with a TERRIBLE HEADACHE for an hour and then i would just throw everything up it made me very irritated i would twitch ALOT and my heart beat was fast and very heavy but after my second day my body started getting use to it and i have not had anymore problems with it.'"
      ]
     },
     "execution_count": 43,
     "metadata": {},
     "output_type": "execute_result"
    }
   ],
   "source": [
    "df.review[6]"
   ]
  },
  {
   "cell_type": "code",
   "execution_count": 44,
   "id": "75d66da5",
   "metadata": {},
   "outputs": [
    {
     "name": "stderr",
     "output_type": "stream",
     "text": [
      "100%|██████████| 50652/50652 [01:01<00:00, 818.16it/s] \n"
     ]
    },
    {
     "data": {
      "text/plain": [
       "'So far the throwing up has stopped and the headaches come and go no food even looks good to eat no cravings very easy to diet ;) and passing all my finals was AMAZING This drug makes strattera look like tylenol! throwing up alot bad headaches twitching crazy heart beat loss of appetite (which is a plus in my eyes) and happy thoughts (like wow i am soo beautiful for some reason would pop in my head alot) as well as some negative thoughts and worrying about homework constantly which is fine to because i would get it all done I needed to switch from straterra which made me very very depressed quiet and i slept for like an hour each night with that drug it was horrible I switched to Vyvanse and the first time i took it it was like an anti deppresant at first i was the normal happy hyper me but i could still focus very well on studying but when i started comming down from it that was the worst i was dry heaving with a TERRIBLE HEADACHE for an hour and then i would just throw everything up it made me very irritated i would twitch ALOT and my heart beat was fast and very heavy but after my second day my body started getting use to it and i have not had anymore problems with it'"
      ]
     },
     "execution_count": 44,
     "metadata": {},
     "output_type": "execute_result"
    }
   ],
   "source": [
    "# Use function from package I made to get rid of most of the punctuation.\n",
    "strip_most_punc(df, 'review')\n",
    "df.review[6]"
   ]
  },
  {
   "cell_type": "code",
   "execution_count": 45,
   "id": "97e2cab0",
   "metadata": {},
   "outputs": [
    {
     "data": {
      "text/html": [
       "<div>\n",
       "<style scoped>\n",
       "    .dataframe tbody tr th:only-of-type {\n",
       "        vertical-align: middle;\n",
       "    }\n",
       "\n",
       "    .dataframe tbody tr th {\n",
       "        vertical-align: top;\n",
       "    }\n",
       "\n",
       "    .dataframe thead th {\n",
       "        text-align: right;\n",
       "    }\n",
       "</style>\n",
       "<table border=\"1\" class=\"dataframe\">\n",
       "  <thead>\n",
       "    <tr style=\"text-align: right;\">\n",
       "      <th></th>\n",
       "      <th>drug</th>\n",
       "      <th>rating</th>\n",
       "      <th>condition</th>\n",
       "      <th>review</th>\n",
       "      <th>date</th>\n",
       "      <th>ratings_count</th>\n",
       "      <th>count_by_date</th>\n",
       "    </tr>\n",
       "  </thead>\n",
       "  <tbody>\n",
       "    <tr>\n",
       "      <th>16</th>\n",
       "      <td>adderall</td>\n",
       "      <td>8.0</td>\n",
       "      <td>add</td>\n",
       "      <td>Diagnosed with Adult ADD I first took Ritalin ...</td>\n",
       "      <td>NaT</td>\n",
       "      <td>13</td>\n",
       "      <td>NaN</td>\n",
       "    </tr>\n",
       "  </tbody>\n",
       "</table>\n",
       "</div>"
      ],
      "text/plain": [
       "        drug  rating condition  \\\n",
       "16  adderall     8.0       add   \n",
       "\n",
       "                                               review date  ratings_count  \\\n",
       "16  Diagnosed with Adult ADD I first took Ritalin ...  NaT             13   \n",
       "\n",
       "    count_by_date  \n",
       "16            NaN  "
      ]
     },
     "execution_count": 45,
     "metadata": {},
     "output_type": "execute_result"
    }
   ],
   "source": [
    "# left to strip are ' and : ; () where they don't appear as emoji.\n",
    "\n",
    "df[df['review'].str.find(\"'\")!=-1].head(1)"
   ]
  },
  {
   "cell_type": "code",
   "execution_count": 46,
   "id": "115d2f34",
   "metadata": {},
   "outputs": [
    {
     "data": {
      "text/plain": [
       "\"Diagnosed with Adult ADD I first took Ritalin I found this to cause some 'nervousness' and to have peaks  valleys I switched to Adderall XR and find I notice no physical symptoms only an increase in positive mood and desire to accomplish the days work The effect does seem to peak soon after the dose slowly level out and at about 68 hrs after initial dose I feel calm but now enthusiastic as earlier in the day None noticeable Increased interest and enthusiasm in activities\""
      ]
     },
     "execution_count": 46,
     "metadata": {},
     "output_type": "execute_result"
    }
   ],
   "source": [
    "df.review[16]"
   ]
  },
  {
   "cell_type": "code",
   "execution_count": 47,
   "id": "0224964f",
   "metadata": {},
   "outputs": [
    {
     "name": "stderr",
     "output_type": "stream",
     "text": [
      "100%|██████████| 50652/50652 [01:13<00:00, 688.19it/s] \n"
     ]
    },
    {
     "data": {
      "text/plain": [
       "'Diagnosed with Adult ADD I first took Ritalin I found this to cause some nervousness and to have peaks  valleys I switched to Adderall XR and find I notice no physical symptoms only an increase in positive mood and desire to accomplish the days work The effect does seem to peak soon after the dose slowly level out and at about 68 hrs after initial dose I feel calm but now enthusiastic as earlier in the day None noticeable Increased interest and enthusiasm in activities'"
      ]
     },
     "execution_count": 47,
     "metadata": {},
     "output_type": "execute_result"
    }
   ],
   "source": [
    "strip_apostrophe(df, 'review')\n",
    "df.review[16]"
   ]
  },
  {
   "cell_type": "markdown",
   "id": "50d70245",
   "metadata": {},
   "source": [
    "Stripping apostrophes worked. \n",
    "\n",
    "<font color='violet'> Zero in on characters that are commonly used in emoji and remove them where they don't appear as part of an emoticon. \n",
    "    \n",
    "Now remove :;() when they appear next to a letter, not emoji. This isn't a perfect solution, as many characters that I already removed can get used in emoji, but at least the most common emoji will be preserved. I'm not going to search for places where these appear next to numbers because my assumption is that symbols appear next to numbers more often as emoji, compared with letters which appear more often next to symbols used for basic punctuation. \n",
    "    \n",
    "Row 6 from earlier has an emoji ;) as well as other ( and ) symbols. Where might I find some other : and ; to see if I'm successfully removing them?"
   ]
  },
  {
   "cell_type": "code",
   "execution_count": 66,
   "id": "a39ba89b",
   "metadata": {},
   "outputs": [
    {
     "data": {
      "text/html": [
       "<div>\n",
       "<style scoped>\n",
       "    .dataframe tbody tr th:only-of-type {\n",
       "        vertical-align: middle;\n",
       "    }\n",
       "\n",
       "    .dataframe tbody tr th {\n",
       "        vertical-align: top;\n",
       "    }\n",
       "\n",
       "    .dataframe thead th {\n",
       "        text-align: right;\n",
       "    }\n",
       "</style>\n",
       "<table border=\"1\" class=\"dataframe\">\n",
       "  <thead>\n",
       "    <tr style=\"text-align: right;\">\n",
       "      <th></th>\n",
       "      <th>drug</th>\n",
       "      <th>rating</th>\n",
       "      <th>condition</th>\n",
       "      <th>review</th>\n",
       "      <th>date</th>\n",
       "      <th>ratings_count</th>\n",
       "      <th>count_by_date</th>\n",
       "    </tr>\n",
       "  </thead>\n",
       "  <tbody>\n",
       "    <tr>\n",
       "      <th>13</th>\n",
       "      <td>strattera</td>\n",
       "      <td>8.0</td>\n",
       "      <td>add</td>\n",
       "      <td>With or without this medication I am a philoso...</td>\n",
       "      <td>NaT</td>\n",
       "      <td>17</td>\n",
       "      <td>NaN</td>\n",
       "    </tr>\n",
       "  </tbody>\n",
       "</table>\n",
       "</div>"
      ],
      "text/plain": [
       "         drug  rating condition  \\\n",
       "13  strattera     8.0       add   \n",
       "\n",
       "                                               review date  ratings_count  \\\n",
       "13  With or without this medication I am a philoso...  NaT             17   \n",
       "\n",
       "    count_by_date  \n",
       "13            NaN  "
      ]
     },
     "execution_count": 66,
     "metadata": {},
     "output_type": "execute_result"
    }
   ],
   "source": [
    "df[df['review'].str.find(\":\")!=-1].head(1)"
   ]
  },
  {
   "cell_type": "code",
   "execution_count": 67,
   "id": "5855d56d",
   "metadata": {},
   "outputs": [
    {
     "data": {
      "text/plain": [
       "'With or without this medication I am a philosopher So I will be explain how the drug works on me from a philosophical assessment\\r\\r\\n\\r\\r\\nBackground:\\r\\r\\nI had taken Strattera for three years (20052007) where it helped control ADD where I had difficulty doing so It helped me focus stay organized manage relations and most or all of the benefits I listed prior I dropped the drug for 3 years so that I may learn how to control my ADD without the help of medication During those three years I gained remarkable self control in overcoming ADD However I got to the point where I could not win over ADD which was losing focus randomly During college lectures that I found very intriguing I would often zone outspace out when I could not have been more interested in what was being professed The frustration of this led me to conclude that medical assistance was the best choice\\r\\r\\n\\r\\r\\nOn the drug:\\r\\r\\nI read and understand that the erally biggest conside effectto this drug is that there is some sort of depressive or suicidal figure involved From an evaluative standpoint of myself I have concluded that my desire for happiness is lowered from where it was prior to the drug In other words if I felt a need for a happiness at a 9th strength before I now had the need for happiness at a 5th strength Since happiness to me and most I would say is the driving force for existence in life a lessened desire for it would lead to two results Lessened feeling for the needing to existlive and feeling less depressed ause I now do not need to be happy as much as before\\r\\r\\n\\r\\r\\nUnderstand that this drug does not control me I control this drug I suggest that while you take the medication you assert a greater selfawareness As you examine how it affects you you can understand when you are thinking naturally or by the drug Lower regard for selfvalue naturally depressive concepts seem less farfetched appear less happy Greater focus stronger commitment lessened stress improved selfconfidence goal setting less depressed better organization and memory in remembering events clearer in thought and expression thereof'"
      ]
     },
     "execution_count": 67,
     "metadata": {},
     "output_type": "execute_result"
    }
   ],
   "source": [
    "df.review[13]"
   ]
  },
  {
   "cell_type": "code",
   "execution_count": 75,
   "id": "d242e960",
   "metadata": {},
   "outputs": [
    {
     "data": {
      "text/html": [
       "<div>\n",
       "<style scoped>\n",
       "    .dataframe tbody tr th:only-of-type {\n",
       "        vertical-align: middle;\n",
       "    }\n",
       "\n",
       "    .dataframe tbody tr th {\n",
       "        vertical-align: top;\n",
       "    }\n",
       "\n",
       "    .dataframe thead th {\n",
       "        text-align: right;\n",
       "    }\n",
       "</style>\n",
       "<table border=\"1\" class=\"dataframe\">\n",
       "  <thead>\n",
       "    <tr style=\"text-align: right;\">\n",
       "      <th></th>\n",
       "      <th>drug</th>\n",
       "      <th>rating</th>\n",
       "      <th>condition</th>\n",
       "      <th>review</th>\n",
       "      <th>date</th>\n",
       "      <th>ratings_count</th>\n",
       "      <th>count_by_date</th>\n",
       "    </tr>\n",
       "  </thead>\n",
       "  <tbody>\n",
       "    <tr>\n",
       "      <th>6</th>\n",
       "      <td>vyvanse</td>\n",
       "      <td>7.0</td>\n",
       "      <td>add</td>\n",
       "      <td>So far the throwing up has stopped and the hea...</td>\n",
       "      <td>NaT</td>\n",
       "      <td>21</td>\n",
       "      <td>NaN</td>\n",
       "    </tr>\n",
       "    <tr>\n",
       "      <th>7</th>\n",
       "      <td>ritalin-la</td>\n",
       "      <td>8.0</td>\n",
       "      <td>adhd</td>\n",
       "      <td>So far the throwing up has stopped and the hea...</td>\n",
       "      <td>NaT</td>\n",
       "      <td>1</td>\n",
       "      <td>NaN</td>\n",
       "    </tr>\n",
       "    <tr>\n",
       "      <th>8</th>\n",
       "      <td>wellbutrin-sr</td>\n",
       "      <td>8.0</td>\n",
       "      <td>adhd</td>\n",
       "      <td>So far the throwing up has stopped and the hea...</td>\n",
       "      <td>NaT</td>\n",
       "      <td>2</td>\n",
       "      <td>NaN</td>\n",
       "    </tr>\n",
       "    <tr>\n",
       "      <th>9</th>\n",
       "      <td>concerta</td>\n",
       "      <td>8.0</td>\n",
       "      <td>adhd</td>\n",
       "      <td>So far the throwing up has stopped and the hea...</td>\n",
       "      <td>NaT</td>\n",
       "      <td>13</td>\n",
       "      <td>NaN</td>\n",
       "    </tr>\n",
       "    <tr>\n",
       "      <th>10</th>\n",
       "      <td>concerta</td>\n",
       "      <td>2.0</td>\n",
       "      <td>adhd</td>\n",
       "      <td>So far the throwing up has stopped and the hea...</td>\n",
       "      <td>NaT</td>\n",
       "      <td>13</td>\n",
       "      <td>NaN</td>\n",
       "    </tr>\n",
       "    <tr>\n",
       "      <th>11</th>\n",
       "      <td>strattera</td>\n",
       "      <td>8.0</td>\n",
       "      <td>add</td>\n",
       "      <td>So far the throwing up has stopped and the hea...</td>\n",
       "      <td>NaT</td>\n",
       "      <td>17</td>\n",
       "      <td>NaN</td>\n",
       "    </tr>\n",
       "    <tr>\n",
       "      <th>12</th>\n",
       "      <td>vyvanse</td>\n",
       "      <td>10.0</td>\n",
       "      <td>adhd</td>\n",
       "      <td>So far the throwing up has stopped and the hea...</td>\n",
       "      <td>NaT</td>\n",
       "      <td>21</td>\n",
       "      <td>NaN</td>\n",
       "    </tr>\n",
       "    <tr>\n",
       "      <th>78</th>\n",
       "      <td>strattera</td>\n",
       "      <td>7.0</td>\n",
       "      <td>adhd</td>\n",
       "      <td>Best way I have discovered to eliminate the si...</td>\n",
       "      <td>NaT</td>\n",
       "      <td>17</td>\n",
       "      <td>NaN</td>\n",
       "    </tr>\n",
       "  </tbody>\n",
       "</table>\n",
       "</div>"
      ],
      "text/plain": [
       "             drug  rating condition  \\\n",
       "6         vyvanse     7.0       add   \n",
       "7      ritalin-la     8.0      adhd   \n",
       "8   wellbutrin-sr     8.0      adhd   \n",
       "9        concerta     8.0      adhd   \n",
       "10       concerta     2.0      adhd   \n",
       "11      strattera     8.0       add   \n",
       "12        vyvanse    10.0      adhd   \n",
       "78      strattera     7.0      adhd   \n",
       "\n",
       "                                               review date  ratings_count  \\\n",
       "6   So far the throwing up has stopped and the hea...  NaT             21   \n",
       "7   So far the throwing up has stopped and the hea...  NaT              1   \n",
       "8   So far the throwing up has stopped and the hea...  NaT              2   \n",
       "9   So far the throwing up has stopped and the hea...  NaT             13   \n",
       "10  So far the throwing up has stopped and the hea...  NaT             13   \n",
       "11  So far the throwing up has stopped and the hea...  NaT             17   \n",
       "12  So far the throwing up has stopped and the hea...  NaT             21   \n",
       "78  Best way I have discovered to eliminate the si...  NaT             17   \n",
       "\n",
       "    count_by_date  \n",
       "6             NaN  \n",
       "7             NaN  \n",
       "8             NaN  \n",
       "9             NaN  \n",
       "10            NaN  \n",
       "11            NaN  \n",
       "12            NaN  \n",
       "78            NaN  "
      ]
     },
     "execution_count": 75,
     "metadata": {},
     "output_type": "execute_result"
    }
   ],
   "source": [
    "# That example has lots of weird stuff going on; deal with that eventually if necessary.\n",
    "# For now I can at lease see where the : is (row 2) and check if my function below delets it\n",
    "# Finally, find an example of ;\n",
    "\n",
    "df[df['review'].str.find(\";\")!=-1].head(8)"
   ]
  },
  {
   "cell_type": "code",
   "execution_count": 76,
   "id": "d9cc395e",
   "metadata": {},
   "outputs": [
    {
     "data": {
      "text/plain": [
       "'Best way I have discovered to eliminate the side effects is to eat a proteinrich breakfast ally egghamcheese sandwich for me then WAIT for at least a few minutes anywhere from 15 to 60 or more before taking the medication Seems to retain efficacy COMPLETELY eliminate stomach problems and GREATLY reduce grogginess though that also seems to be partly dependent on how much sleep I get imum of 6 hours preferably 8 or 9) Now that I discovered this trick I am feeling MUCH better and no longer considering abandoning the medication! I like that it helps with sleeping quality on top of helping me focus remember and feel more aware of surroundings Would cry now if I had to go back to not using it  I almost cannot function without medication and the nonstimulant allows me to sleep SO much better and I do not crash from it! Severe grogginess often accompanied by lightheadedness upset stomachnausea  ALL aggravated by sleep loss or lack of food become slightly less severe after I would been on it again for a couple of weeks Severe grogginess was slightly alleviated by caffeine resso or some rest ( or both Best solution appears to be to take the meds with or after food and to attempt to get a decent amount of sleep Also notice a certain level of dependence ( actual addiction though  mostly due to return of symptoms in medications absence I may also have dry mouth but I am not sure if that is the meds or if I am not drinking enough water The head made of air feeling I tend to have goes away:I become more attentive much more aware of my surroundings feel much more grounded in the herenow and much better able to focus My mind stops trying to jump from one subject to another every second; memory retentionrecall improves DRAMATICALLY I also find it FAR easier to fall asleep at night seem to sleep better and seem to be far more emotionally stable I also do not crash from it later in the day like my former mulant meds Also does not appear to be physically addictive'"
      ]
     },
     "execution_count": 76,
     "metadata": {},
     "output_type": "execute_result"
    }
   ],
   "source": [
    "# Yikes, I'm glad I discovered those duplicate reviews; deal with that shortly\n",
    "df.review[78]"
   ]
  },
  {
   "cell_type": "code",
   "execution_count": 79,
   "id": "bdbfb0c8",
   "metadata": {},
   "outputs": [
    {
     "name": "stderr",
     "output_type": "stream",
     "text": [
      "100%|██████████| 50652/50652 [01:11<00:00, 708.37it/s]\n"
     ]
    },
    {
     "data": {
      "text/plain": [
       "'With or without this medication I am a philosopher So I will be explain how the drug works on me from a philosophical assessment\\r\\r\\n\\r\\r\\nBackground \\r\\r\\nI had taken Strattera for three years (20052007) where it helped control ADD where I had difficulty doing so It helped me focus stay organized manage relations and most or all of the benefits I listed prior I dropped the drug for 3 years so that I may learn how to control my ADD without the help of medication During those three years I gained remarkable self control in overcoming ADD However I got to the point where I could not win over ADD which was losing focus randomly During college lectures that I found very intriguing I would often zone outspace out when I could not have been more interested in what was being professed The frustration of this led me to conclude that medical assistance was the best choice\\r\\r\\n\\r\\r\\nOn the drug \\r\\r\\nI read and understand that the erally biggest conside effectto this drug is that there is some sort of depressive or suicidal figure involved From an evaluative standpoint of myself I have concluded that my desire for happiness is lowered from where it was prior to the drug In other words if I felt a need for a happiness at a 9th strength before I now had the need for happiness at a 5th strength Since happiness to me and most I would say is the driving force for existence in life a lessened desire for it would lead to two results Lessened feeling for the needing to existlive and feeling less depressed ause I now do not need to be happy as much as before\\r\\r\\n\\r\\r\\nUnderstand that this drug does not control me I control this drug I suggest that while you take the medication you assert a greater selfawareness As you examine how it affects you you can understand when you are thinking naturally or by the drug Lower regard for selfvalue naturally depressive concepts seem less farfetched appear less happy Greater focus stronger commitment lessened stress improved selfconfidence goal setting less depressed better organization and memory in remembering events clearer in thought and expression thereof'"
      ]
     },
     "execution_count": 79,
     "metadata": {},
     "output_type": "execute_result"
    }
   ],
   "source": [
    "# Note: the ; in that last example above shows up in the third to last row.\n",
    "\n",
    "# Use a function that can remove these characters appropriately\n",
    "# I'd like to include this in my nlp.parse package, but the import isn't working\n",
    "# Not sure why (other functions imported fine), so I'll just leave it here for now. \n",
    "\n",
    "def strip_non_emoji_emoji_symbol(df, column):\n",
    "    # Isolate 1 narrative at a time\n",
    "    for row in tqdm(range(len(df))):\n",
    "        string_to_strip = df.loc[row,column]\n",
    "        \n",
    "        # Find each ) that appears next to letters, not other symbols.\n",
    "        closing_parentheses = [m.end() for m in re.finditer('[a-zA-z]\\)', string_to_strip)]\n",
    "        # That's not capturing the correct character. Fix this.\n",
    "        clos_parenth_indices = [n - 1 for n in closing_parentheses]\n",
    "        # Find each (\n",
    "        opening_parentheses = [m.start() for m in re.finditer('\\([a-zA-z]', string_to_strip)]\n",
    "        # Find each :\n",
    "        colon_after_word = [m.end() for m in re.finditer('[a-zA-z]\\:', string_to_strip)]\n",
    "        colon_after_indices = [n - 1 for n in colon_after_word]\n",
    "        colon_before_word = [m.start() for m in re.finditer('\\:[a-zA-z]', string_to_strip)]\n",
    "        # find each ;\n",
    "        semicolon_after_word = [m.end() for m in re.finditer('[a-zA-z]\\;', string_to_strip)]\n",
    "        semicolon_after_indices = [n - 1 for n in semicolon_after_word]\n",
    "        semicolon_before_word = [m.start() for m in re.finditer('\\;[a-zA-z]', string_to_strip)]\n",
    "\n",
    "        # Combine lsits of indices in order to replace all characters\n",
    "        indices_to_remove = clos_parenth_indices + opening_parentheses + colon_after_indices \\\n",
    "        + colon_before_word + semicolon_after_indices + semicolon_before_word\n",
    "        \n",
    "        # Replace target characters in the string to strip with just a space ' '\n",
    "        # Use a space ' ' instead of nothing '' in case of something like:this\n",
    "        temp = list(string_to_strip)\n",
    "        for index in indices_to_remove:\n",
    "            temp[index] = ' '\n",
    "            result = ''.join(temp)\n",
    "            new_string = str(result)\n",
    "        # This returns nothing if there were no symbols to replace so provide alternative\n",
    "        try: df.loc[row,column] = new_string\n",
    "        except: df.loc[row,column] = string_to_strip\n",
    "                        \n",
    "strip_non_emoji_emoji_symbol(df,'review')\n",
    "\n",
    "df.review[6]"
   ]
  },
  {
   "cell_type": "code",
   "execution_count": 49,
   "id": "ba7dfddc",
   "metadata": {},
   "outputs": [
    {
     "data": {
      "text/plain": [
       "'So far so good ;) passing all my finals (like wow (really'"
      ]
     },
     "execution_count": 49,
     "metadata": {},
     "output_type": "execute_result"
    }
   ],
   "source": [
    "# The ;) is intact, but all other parentheses that had been in the string from row 6 are gone!\n",
    "# Check on the two other strings.\n",
    "df.review[13]"
   ]
  },
  {
   "cell_type": "code",
   "execution_count": 80,
   "id": "50d54d99",
   "metadata": {},
   "outputs": [
    {
     "data": {
      "text/plain": [
       "'Best way I have discovered to eliminate the side effects is to eat a proteinrich breakfast ally egghamcheese sandwich for me then WAIT for at least a few minutes anywhere from 15 to 60 or more before taking the medication Seems to retain efficacy COMPLETELY eliminate stomach problems and GREATLY reduce grogginess though that also seems to be partly dependent on how much sleep I get imum of 6 hours preferably 8 or 9) Now that I discovered this trick I am feeling MUCH better and no longer considering abandoning the medication! I like that it helps with sleeping quality on top of helping me focus remember and feel more aware of surroundings Would cry now if I had to go back to not using it  I almost cannot function without medication and the nonstimulant allows me to sleep SO much better and I do not crash from it! Severe grogginess often accompanied by lightheadedness upset stomachnausea  ALL aggravated by sleep loss or lack of food become slightly less severe after I would been on it again for a couple of weeks Severe grogginess was slightly alleviated by caffeine resso or some rest ( or both Best solution appears to be to take the meds with or after food and to attempt to get a decent amount of sleep Also notice a certain level of dependence ( actual addiction though  mostly due to return of symptoms in medications absence I may also have dry mouth but I am not sure if that is the meds or if I am not drinking enough water The head made of air feeling I tend to have goes away I become more attentive much more aware of my surroundings feel much more grounded in the herenow and much better able to focus My mind stops trying to jump from one subject to another every second  memory retentionrecall improves DRAMATICALLY I also find it FAR easier to fall asleep at night seem to sleep better and seem to be far more emotionally stable I also do not crash from it later in the day like my former mulant meds Also does not appear to be physically addictive'"
      ]
     },
     "execution_count": 80,
     "metadata": {},
     "output_type": "execute_result"
    }
   ],
   "source": [
    "df.review[78]"
   ]
  },
  {
   "cell_type": "markdown",
   "id": "997f0d34",
   "metadata": {},
   "source": [
    "Symbol removal so far has worked well. I'm going to stop with that becaue I don't need perfection, just cleaner text than I started with so as to end up with fewer oddballs to deal with if I want to do something like making a bag of words. \n",
    "\n",
    "I do definitely want to figure out if there are a bunch of rows with duplicate reviews. It seems that what I discovered is one person may have just written one big review for all their drugs and entered it multiple times, with a different drug and rating each time. Is this behavior an outlier or are there other examples like this? "
   ]
  },
  {
   "cell_type": "code",
   "execution_count": 99,
   "id": "e78254eb",
   "metadata": {},
   "outputs": [
    {
     "data": {
      "text/html": [
       "<div>\n",
       "<style scoped>\n",
       "    .dataframe tbody tr th:only-of-type {\n",
       "        vertical-align: middle;\n",
       "    }\n",
       "\n",
       "    .dataframe tbody tr th {\n",
       "        vertical-align: top;\n",
       "    }\n",
       "\n",
       "    .dataframe thead th {\n",
       "        text-align: right;\n",
       "    }\n",
       "</style>\n",
       "<table border=\"1\" class=\"dataframe\">\n",
       "  <thead>\n",
       "    <tr style=\"text-align: right;\">\n",
       "      <th></th>\n",
       "      <th>drug</th>\n",
       "      <th>rating</th>\n",
       "      <th>condition</th>\n",
       "      <th>review</th>\n",
       "      <th>date</th>\n",
       "      <th>ratings_count</th>\n",
       "      <th>count_by_date</th>\n",
       "    </tr>\n",
       "  </thead>\n",
       "  <tbody>\n",
       "    <tr>\n",
       "      <th>1</th>\n",
       "      <td>dextroamphetamine</td>\n",
       "      <td>8.0</td>\n",
       "      <td>add</td>\n",
       "      <td>I had began taking 20mg of Vyvanse for three m...</td>\n",
       "      <td>NaT</td>\n",
       "      <td>3</td>\n",
       "      <td>NaN</td>\n",
       "    </tr>\n",
       "    <tr>\n",
       "      <th>2</th>\n",
       "      <td>vyvanse</td>\n",
       "      <td>8.0</td>\n",
       "      <td>adhd</td>\n",
       "      <td>I had began taking 20mg of Vyvanse for three m...</td>\n",
       "      <td>NaT</td>\n",
       "      <td>21</td>\n",
       "      <td>NaN</td>\n",
       "    </tr>\n",
       "    <tr>\n",
       "      <th>3</th>\n",
       "      <td>saizen</td>\n",
       "      <td>8.0</td>\n",
       "      <td>fatigue</td>\n",
       "      <td>I had began taking 20mg of Vyvanse for three m...</td>\n",
       "      <td>NaT</td>\n",
       "      <td>1</td>\n",
       "      <td>NaN</td>\n",
       "    </tr>\n",
       "    <tr>\n",
       "      <th>4</th>\n",
       "      <td>zyprexa</td>\n",
       "      <td>3.0</td>\n",
       "      <td>dementia</td>\n",
       "      <td>I had began taking 20mg of Vyvanse for three m...</td>\n",
       "      <td>NaT</td>\n",
       "      <td>1</td>\n",
       "      <td>NaN</td>\n",
       "    </tr>\n",
       "    <tr>\n",
       "      <th>5</th>\n",
       "      <td>vyvanse</td>\n",
       "      <td>10.0</td>\n",
       "      <td>add</td>\n",
       "      <td>I had began taking 20mg of Vyvanse for three m...</td>\n",
       "      <td>NaT</td>\n",
       "      <td>21</td>\n",
       "      <td>NaN</td>\n",
       "    </tr>\n",
       "    <tr>\n",
       "      <th>...</th>\n",
       "      <td>...</td>\n",
       "      <td>...</td>\n",
       "      <td>...</td>\n",
       "      <td>...</td>\n",
       "      <td>...</td>\n",
       "      <td>...</td>\n",
       "      <td>...</td>\n",
       "    </tr>\n",
       "    <tr>\n",
       "      <th>50647</th>\n",
       "      <td>Venlafaxine</td>\n",
       "      <td>9.0</td>\n",
       "      <td>anxiety</td>\n",
       "      <td>Had panic attacks and social anxiety starting ...</td>\n",
       "      <td>2016-11-10</td>\n",
       "      <td>1212</td>\n",
       "      <td>27.0</td>\n",
       "    </tr>\n",
       "    <tr>\n",
       "      <th>50648</th>\n",
       "      <td>Vortioxetine</td>\n",
       "      <td>2.0</td>\n",
       "      <td>depression</td>\n",
       "      <td>Had panic attacks and social anxiety starting ...</td>\n",
       "      <td>2016-07-17</td>\n",
       "      <td>681</td>\n",
       "      <td>18.0</td>\n",
       "    </tr>\n",
       "    <tr>\n",
       "      <th>50649</th>\n",
       "      <td>Ativan</td>\n",
       "      <td>9.0</td>\n",
       "      <td>anxiety</td>\n",
       "      <td>I was super against taking medication I#039 ve...</td>\n",
       "      <td>2016-08-16</td>\n",
       "      <td>282</td>\n",
       "      <td>42.0</td>\n",
       "    </tr>\n",
       "    <tr>\n",
       "      <th>50650</th>\n",
       "      <td>Fluoxetine</td>\n",
       "      <td>8.0</td>\n",
       "      <td>ocd</td>\n",
       "      <td>I was super against taking medication I#039 ve...</td>\n",
       "      <td>2015-01-21</td>\n",
       "      <td>950</td>\n",
       "      <td>12.0</td>\n",
       "    </tr>\n",
       "    <tr>\n",
       "      <th>50651</th>\n",
       "      <td>Campral</td>\n",
       "      <td>10.0</td>\n",
       "      <td>addiction</td>\n",
       "      <td>I was super against taking medication I#039 ve...</td>\n",
       "      <td>2015-05-31</td>\n",
       "      <td>122</td>\n",
       "      <td>30.0</td>\n",
       "    </tr>\n",
       "  </tbody>\n",
       "</table>\n",
       "<p>47239 rows × 7 columns</p>\n",
       "</div>"
      ],
      "text/plain": [
       "                    drug  rating   condition  \\\n",
       "1      dextroamphetamine     8.0         add   \n",
       "2                vyvanse     8.0        adhd   \n",
       "3                 saizen     8.0     fatigue   \n",
       "4                zyprexa     3.0    dementia   \n",
       "5                vyvanse    10.0         add   \n",
       "...                  ...     ...         ...   \n",
       "50647        Venlafaxine     9.0     anxiety   \n",
       "50648       Vortioxetine     2.0  depression   \n",
       "50649             Ativan     9.0     anxiety   \n",
       "50650         Fluoxetine     8.0         ocd   \n",
       "50651            Campral    10.0   addiction   \n",
       "\n",
       "                                                  review       date  \\\n",
       "1      I had began taking 20mg of Vyvanse for three m...        NaT   \n",
       "2      I had began taking 20mg of Vyvanse for three m...        NaT   \n",
       "3      I had began taking 20mg of Vyvanse for three m...        NaT   \n",
       "4      I had began taking 20mg of Vyvanse for three m...        NaT   \n",
       "5      I had began taking 20mg of Vyvanse for three m...        NaT   \n",
       "...                                                  ...        ...   \n",
       "50647  Had panic attacks and social anxiety starting ... 2016-11-10   \n",
       "50648  Had panic attacks and social anxiety starting ... 2016-07-17   \n",
       "50649  I was super against taking medication I#039 ve... 2016-08-16   \n",
       "50650  I was super against taking medication I#039 ve... 2015-01-21   \n",
       "50651  I was super against taking medication I#039 ve... 2015-05-31   \n",
       "\n",
       "       ratings_count  count_by_date  \n",
       "1                  3            NaN  \n",
       "2                 21            NaN  \n",
       "3                  1            NaN  \n",
       "4                  1            NaN  \n",
       "5                 21            NaN  \n",
       "...              ...            ...  \n",
       "50647           1212           27.0  \n",
       "50648            681           18.0  \n",
       "50649            282           42.0  \n",
       "50650            950           12.0  \n",
       "50651            122           30.0  \n",
       "\n",
       "[47239 rows x 7 columns]"
      ]
     },
     "execution_count": 99,
     "metadata": {},
     "output_type": "execute_result"
    }
   ],
   "source": [
    "df[df.review.duplicated()==True]"
   ]
  },
  {
   "cell_type": "markdown",
   "id": "4cd97283",
   "metadata": {},
   "source": [
    "The majority of rows actually contain duplicate reviews, each connected with multiple different drugs. Did the data start out this way, or did I make an error during wrangling?"
   ]
  },
  {
   "cell_type": "code",
   "execution_count": 89,
   "id": "8280291b",
   "metadata": {},
   "outputs": [],
   "source": [
    "drugs_dotcom_train = pd.read_csv('../data/raw/drugsComTrain_raw.tsv', sep='\\t')\n",
    "drugs_dotcom_test = pd.read_csv('../data/raw/drugsComTest_raw.tsv', sep='\\t')\n",
    "druglib_train = pd.read_csv('../data/raw/drugLibTrain_raw.tsv', sep='\\t')\n",
    "druglib_test = pd.read_csv('../data/raw/drugLibTest_raw.tsv', sep='\\t')\n",
    "psytar = pd.read_csv('../data/raw/PsyTAR_dataset_samples.csv')"
   ]
  },
  {
   "cell_type": "code",
   "execution_count": 113,
   "id": "2cf2c8c7",
   "metadata": {},
   "outputs": [
    {
     "name": "stdout",
     "output_type": "stream",
     "text": [
      "50652 47239\n"
     ]
    },
    {
     "data": {
      "text/html": [
       "<div>\n",
       "<style scoped>\n",
       "    .dataframe tbody tr th:only-of-type {\n",
       "        vertical-align: middle;\n",
       "    }\n",
       "\n",
       "    .dataframe tbody tr th {\n",
       "        vertical-align: top;\n",
       "    }\n",
       "\n",
       "    .dataframe thead th {\n",
       "        text-align: right;\n",
       "    }\n",
       "</style>\n",
       "<table border=\"1\" class=\"dataframe\">\n",
       "  <thead>\n",
       "    <tr style=\"text-align: right;\">\n",
       "      <th></th>\n",
       "      <th>drug</th>\n",
       "      <th>rating</th>\n",
       "      <th>condition</th>\n",
       "      <th>review</th>\n",
       "      <th>date</th>\n",
       "      <th>ratings_count</th>\n",
       "      <th>count_by_date</th>\n",
       "    </tr>\n",
       "  </thead>\n",
       "  <tbody>\n",
       "    <tr>\n",
       "      <th>43426</th>\n",
       "      <td>Paxil</td>\n",
       "      <td>8.0</td>\n",
       "      <td>depression</td>\n",
       "      <td>Reminder everyone#039 s experience is differe...</td>\n",
       "      <td>2011-04-15</td>\n",
       "      <td>592</td>\n",
       "      <td>20.0</td>\n",
       "    </tr>\n",
       "    <tr>\n",
       "      <th>43425</th>\n",
       "      <td>Lamotrigine</td>\n",
       "      <td>8.0</td>\n",
       "      <td>bipolar</td>\n",
       "      <td>Reminder everyone#039 s experience is differe...</td>\n",
       "      <td>2016-05-30</td>\n",
       "      <td>691</td>\n",
       "      <td>13.0</td>\n",
       "    </tr>\n",
       "    <tr>\n",
       "      <th>43424</th>\n",
       "      <td>Paroxetine</td>\n",
       "      <td>9.0</td>\n",
       "      <td>anxiety</td>\n",
       "      <td>Reminder everyone#039 s experience is differe...</td>\n",
       "      <td>2016-06-04</td>\n",
       "      <td>776</td>\n",
       "      <td>26.0</td>\n",
       "    </tr>\n",
       "    <tr>\n",
       "      <th>41322</th>\n",
       "      <td>Geodon</td>\n",
       "      <td>8.0</td>\n",
       "      <td>schizoaffective disorder</td>\n",
       "      <td>Reminder everyone#039 s experience is differe...</td>\n",
       "      <td>2012-11-01</td>\n",
       "      <td>221</td>\n",
       "      <td>10.0</td>\n",
       "    </tr>\n",
       "    <tr>\n",
       "      <th>41321</th>\n",
       "      <td>Bupropion</td>\n",
       "      <td>8.0</td>\n",
       "      <td>depression</td>\n",
       "      <td>Reminder everyone#039 s experience is differe...</td>\n",
       "      <td>2010-06-02</td>\n",
       "      <td>1278</td>\n",
       "      <td>8.0</td>\n",
       "    </tr>\n",
       "  </tbody>\n",
       "</table>\n",
       "</div>"
      ],
      "text/plain": [
       "              drug  rating                 condition  \\\n",
       "43426        Paxil     8.0                depression   \n",
       "43425  Lamotrigine     8.0                   bipolar   \n",
       "43424   Paroxetine     9.0                   anxiety   \n",
       "41322       Geodon     8.0  schizoaffective disorder   \n",
       "41321    Bupropion     8.0                depression   \n",
       "\n",
       "                                                  review       date  \\\n",
       "43426   Reminder everyone#039 s experience is differe... 2011-04-15   \n",
       "43425   Reminder everyone#039 s experience is differe... 2016-05-30   \n",
       "43424   Reminder everyone#039 s experience is differe... 2016-06-04   \n",
       "41322   Reminder everyone#039 s experience is differe... 2012-11-01   \n",
       "41321   Reminder everyone#039 s experience is differe... 2010-06-02   \n",
       "\n",
       "       ratings_count  count_by_date  \n",
       "43426            592           20.0  \n",
       "43425            691           13.0  \n",
       "43424            776           26.0  \n",
       "41322            221           10.0  \n",
       "41321           1278            8.0  "
      ]
     },
     "execution_count": 113,
     "metadata": {},
     "output_type": "execute_result"
    }
   ],
   "source": [
    "# Make a function to help figure out what's going on \n",
    "def inspect_duplicate_reviews(df, column):\n",
    "    df = df.sort_values(by=column)\n",
    "    print(len(df), len(df[df[column].duplicated()==True]))\n",
    "    return df[df[column].duplicated()==True].head()\n",
    "\n",
    "# What my current working data looks like\n",
    "inspect_duplicate_reviews(df, 'review')"
   ]
  },
  {
   "cell_type": "code",
   "execution_count": 114,
   "id": "03cbb1ba",
   "metadata": {},
   "outputs": [
    {
     "name": "stdout",
     "output_type": "stream",
     "text": [
      "<class 'pandas.core.frame.DataFrame'>\n",
      "Int64Index: 161297 entries, 112607 to 110436\n",
      "Data columns (total 7 columns):\n",
      " #   Column       Non-Null Count   Dtype  \n",
      "---  ------       --------------   -----  \n",
      " 0   Unnamed: 0   161297 non-null  int64  \n",
      " 1   drugName     161297 non-null  object \n",
      " 2   condition    160398 non-null  object \n",
      " 3   review       161297 non-null  object \n",
      " 4   rating       161297 non-null  float64\n",
      " 5   date         161297 non-null  object \n",
      " 6   usefulCount  161297 non-null  int64  \n",
      "dtypes: float64(1), int64(2), object(4)\n",
      "memory usage: 9.8+ MB\n"
     ]
    }
   ],
   "source": [
    "# Check out each of the other raw datasets\n",
    "drugs_dotcom_train.info()"
   ]
  },
  {
   "cell_type": "code",
   "execution_count": 115,
   "id": "4ac61dee",
   "metadata": {},
   "outputs": [
    {
     "name": "stdout",
     "output_type": "stream",
     "text": [
      "161297 48968\n"
     ]
    },
    {
     "data": {
      "text/html": [
       "<div>\n",
       "<style scoped>\n",
       "    .dataframe tbody tr th:only-of-type {\n",
       "        vertical-align: middle;\n",
       "    }\n",
       "\n",
       "    .dataframe tbody tr th {\n",
       "        vertical-align: top;\n",
       "    }\n",
       "\n",
       "    .dataframe thead th {\n",
       "        text-align: right;\n",
       "    }\n",
       "</style>\n",
       "<table border=\"1\" class=\"dataframe\">\n",
       "  <thead>\n",
       "    <tr style=\"text-align: right;\">\n",
       "      <th></th>\n",
       "      <th>Unnamed: 0</th>\n",
       "      <th>drugName</th>\n",
       "      <th>condition</th>\n",
       "      <th>review</th>\n",
       "      <th>rating</th>\n",
       "      <th>date</th>\n",
       "      <th>usefulCount</th>\n",
       "    </tr>\n",
       "  </thead>\n",
       "  <tbody>\n",
       "    <tr>\n",
       "      <th>73400</th>\n",
       "      <td>124699</td>\n",
       "      <td>Tri-Previfem</td>\n",
       "      <td>Birth Control</td>\n",
       "      <td>\"\\r\\nFirst of all, the worst side effect for m...</td>\n",
       "      <td>1.0</td>\n",
       "      <td>September 12, 2017</td>\n",
       "      <td>2</td>\n",
       "    </tr>\n",
       "    <tr>\n",
       "      <th>145940</th>\n",
       "      <td>37325</td>\n",
       "      <td>Vyvanse</td>\n",
       "      <td>ADHD</td>\n",
       "      <td>\"\\r\\nGood. Concentration, happy, easy to talk ...</td>\n",
       "      <td>5.0</td>\n",
       "      <td>October 17, 2015</td>\n",
       "      <td>10</td>\n",
       "    </tr>\n",
       "    <tr>\n",
       "      <th>5332</th>\n",
       "      <td>167112</td>\n",
       "      <td>Levonorgestrel</td>\n",
       "      <td>Birth Control</td>\n",
       "      <td>\"\\r\\nI got tired of taking the pill so I figur...</td>\n",
       "      <td>3.0</td>\n",
       "      <td>June 8, 2016</td>\n",
       "      <td>1</td>\n",
       "    </tr>\n",
       "    <tr>\n",
       "      <th>33031</th>\n",
       "      <td>39621</td>\n",
       "      <td>Contrave</td>\n",
       "      <td>Obesity</td>\n",
       "      <td>\"\\r\\nMost insurance companies won&amp;#039;t pay f...</td>\n",
       "      <td>8.0</td>\n",
       "      <td>March 14, 2016</td>\n",
       "      <td>15</td>\n",
       "    </tr>\n",
       "    <tr>\n",
       "      <th>30158</th>\n",
       "      <td>79026</td>\n",
       "      <td>Plan B One-Step</td>\n",
       "      <td>Emergency Contraception</td>\n",
       "      <td>\"\\r\\nMy bf and I had a condom break and I pani...</td>\n",
       "      <td>7.0</td>\n",
       "      <td>June 30, 2017</td>\n",
       "      <td>2</td>\n",
       "    </tr>\n",
       "  </tbody>\n",
       "</table>\n",
       "</div>"
      ],
      "text/plain": [
       "        Unnamed: 0         drugName                condition  \\\n",
       "73400       124699     Tri-Previfem            Birth Control   \n",
       "145940       37325          Vyvanse                     ADHD   \n",
       "5332        167112   Levonorgestrel            Birth Control   \n",
       "33031        39621         Contrave                  Obesity   \n",
       "30158        79026  Plan B One-Step  Emergency Contraception   \n",
       "\n",
       "                                                   review  rating  \\\n",
       "73400   \"\\r\\nFirst of all, the worst side effect for m...     1.0   \n",
       "145940  \"\\r\\nGood. Concentration, happy, easy to talk ...     5.0   \n",
       "5332    \"\\r\\nI got tired of taking the pill so I figur...     3.0   \n",
       "33031   \"\\r\\nMost insurance companies won&#039;t pay f...     8.0   \n",
       "30158   \"\\r\\nMy bf and I had a condom break and I pani...     7.0   \n",
       "\n",
       "                      date  usefulCount  \n",
       "73400   September 12, 2017            2  \n",
       "145940    October 17, 2015           10  \n",
       "5332          June 8, 2016            1  \n",
       "33031       March 14, 2016           15  \n",
       "30158        June 30, 2017            2  "
      ]
     },
     "execution_count": 115,
     "metadata": {},
     "output_type": "execute_result"
    }
   ],
   "source": [
    "inspect_duplicate_reviews(drugs_dotcom_train, 'review')"
   ]
  },
  {
   "cell_type": "code",
   "execution_count": 116,
   "id": "f7727a9e",
   "metadata": {},
   "outputs": [
    {
     "name": "stdout",
     "output_type": "stream",
     "text": [
      "53766 5486\n"
     ]
    },
    {
     "data": {
      "text/html": [
       "<div>\n",
       "<style scoped>\n",
       "    .dataframe tbody tr th:only-of-type {\n",
       "        vertical-align: middle;\n",
       "    }\n",
       "\n",
       "    .dataframe tbody tr th {\n",
       "        vertical-align: top;\n",
       "    }\n",
       "\n",
       "    .dataframe thead th {\n",
       "        text-align: right;\n",
       "    }\n",
       "</style>\n",
       "<table border=\"1\" class=\"dataframe\">\n",
       "  <thead>\n",
       "    <tr style=\"text-align: right;\">\n",
       "      <th></th>\n",
       "      <th>Unnamed: 0</th>\n",
       "      <th>drugName</th>\n",
       "      <th>condition</th>\n",
       "      <th>review</th>\n",
       "      <th>rating</th>\n",
       "      <th>date</th>\n",
       "      <th>usefulCount</th>\n",
       "    </tr>\n",
       "  </thead>\n",
       "  <tbody>\n",
       "    <tr>\n",
       "      <th>45612</th>\n",
       "      <td>113336</td>\n",
       "      <td>Bisacodyl</td>\n",
       "      <td>Constipation</td>\n",
       "      <td>\"\\r\\nHell no, never again! severe stomach cram...</td>\n",
       "      <td>1.0</td>\n",
       "      <td>July 27, 2015</td>\n",
       "      <td>10</td>\n",
       "    </tr>\n",
       "    <tr>\n",
       "      <th>13632</th>\n",
       "      <td>88800</td>\n",
       "      <td>Necon 1 / 35</td>\n",
       "      <td>Endometriosis</td>\n",
       "      <td>\" I&amp;#039;m on my 2nd round of necon 1/35. I st...</td>\n",
       "      <td>2.0</td>\n",
       "      <td>July 8, 2016</td>\n",
       "      <td>5</td>\n",
       "    </tr>\n",
       "    <tr>\n",
       "      <th>37900</th>\n",
       "      <td>150121</td>\n",
       "      <td>Mucinex D</td>\n",
       "      <td>Cough and Nasal Congestion</td>\n",
       "      <td>\" It got rid of my cough but then made my nose...</td>\n",
       "      <td>1.0</td>\n",
       "      <td>February 15, 2016</td>\n",
       "      <td>16</td>\n",
       "    </tr>\n",
       "    <tr>\n",
       "      <th>21080</th>\n",
       "      <td>142825</td>\n",
       "      <td>Levonorgestrel</td>\n",
       "      <td>Emergency Contraception</td>\n",
       "      <td>\" On May 18th this guy came completely inside ...</td>\n",
       "      <td>10.0</td>\n",
       "      <td>July 5, 2017</td>\n",
       "      <td>6</td>\n",
       "    </tr>\n",
       "    <tr>\n",
       "      <th>10712</th>\n",
       "      <td>374</td>\n",
       "      <td>Medroxyprogesterone</td>\n",
       "      <td>Abnormal Uterine Bleeding</td>\n",
       "      <td>\"&amp;quot;just stopped because I have been on it ...</td>\n",
       "      <td>10.0</td>\n",
       "      <td>March 27, 2015</td>\n",
       "      <td>7</td>\n",
       "    </tr>\n",
       "  </tbody>\n",
       "</table>\n",
       "</div>"
      ],
      "text/plain": [
       "       Unnamed: 0             drugName                   condition  \\\n",
       "45612      113336            Bisacodyl                Constipation   \n",
       "13632       88800         Necon 1 / 35               Endometriosis   \n",
       "37900      150121            Mucinex D  Cough and Nasal Congestion   \n",
       "21080      142825       Levonorgestrel     Emergency Contraception   \n",
       "10712         374  Medroxyprogesterone   Abnormal Uterine Bleeding   \n",
       "\n",
       "                                                  review  rating  \\\n",
       "45612  \"\\r\\nHell no, never again! severe stomach cram...     1.0   \n",
       "13632  \" I&#039;m on my 2nd round of necon 1/35. I st...     2.0   \n",
       "37900  \" It got rid of my cough but then made my nose...     1.0   \n",
       "21080  \" On May 18th this guy came completely inside ...    10.0   \n",
       "10712  \"&quot;just stopped because I have been on it ...    10.0   \n",
       "\n",
       "                    date  usefulCount  \n",
       "45612      July 27, 2015           10  \n",
       "13632       July 8, 2016            5  \n",
       "37900  February 15, 2016           16  \n",
       "21080       July 5, 2017            6  \n",
       "10712     March 27, 2015            7  "
      ]
     },
     "execution_count": 116,
     "metadata": {},
     "output_type": "execute_result"
    }
   ],
   "source": [
    "# 30% of the original reviews from that set were duplicates. \n",
    "inspect_duplicate_reviews(drugs_dotcom_test, 'review')"
   ]
  },
  {
   "cell_type": "code",
   "execution_count": 117,
   "id": "a1773682",
   "metadata": {},
   "outputs": [
    {
     "name": "stdout",
     "output_type": "stream",
     "text": [
      "<class 'pandas.core.frame.DataFrame'>\n",
      "RangeIndex: 3107 entries, 0 to 3106\n",
      "Data columns (total 9 columns):\n",
      " #   Column             Non-Null Count  Dtype \n",
      "---  ------             --------------  ----- \n",
      " 0   Unnamed: 0         3107 non-null   int64 \n",
      " 1   urlDrugName        3107 non-null   object\n",
      " 2   rating             3107 non-null   int64 \n",
      " 3   effectiveness      3107 non-null   object\n",
      " 4   sideEffects        3107 non-null   object\n",
      " 5   condition          3106 non-null   object\n",
      " 6   benefitsReview     3107 non-null   object\n",
      " 7   sideEffectsReview  3105 non-null   object\n",
      " 8   commentsReview     3099 non-null   object\n",
      "dtypes: int64(2), object(7)\n",
      "memory usage: 218.6+ KB\n"
     ]
    }
   ],
   "source": [
    "# 10% of drugs_dotcom_test was duplicates\n",
    "druglib_train.info()"
   ]
  },
  {
   "cell_type": "code",
   "execution_count": 120,
   "id": "75c33c2c",
   "metadata": {},
   "outputs": [
    {
     "name": "stdout",
     "output_type": "stream",
     "text": [
      "3107 59\n"
     ]
    },
    {
     "data": {
      "text/html": [
       "<div>\n",
       "<style scoped>\n",
       "    .dataframe tbody tr th:only-of-type {\n",
       "        vertical-align: middle;\n",
       "    }\n",
       "\n",
       "    .dataframe tbody tr th {\n",
       "        vertical-align: top;\n",
       "    }\n",
       "\n",
       "    .dataframe thead th {\n",
       "        text-align: right;\n",
       "    }\n",
       "</style>\n",
       "<table border=\"1\" class=\"dataframe\">\n",
       "  <thead>\n",
       "    <tr style=\"text-align: right;\">\n",
       "      <th></th>\n",
       "      <th>Unnamed: 0</th>\n",
       "      <th>urlDrugName</th>\n",
       "      <th>rating</th>\n",
       "      <th>effectiveness</th>\n",
       "      <th>sideEffects</th>\n",
       "      <th>condition</th>\n",
       "      <th>benefitsReview</th>\n",
       "      <th>sideEffectsReview</th>\n",
       "      <th>commentsReview</th>\n",
       "    </tr>\n",
       "  </thead>\n",
       "  <tbody>\n",
       "    <tr>\n",
       "      <th>1408</th>\n",
       "      <td>3024</td>\n",
       "      <td>cipro</td>\n",
       "      <td>10</td>\n",
       "      <td>Highly Effective</td>\n",
       "      <td>Mild Side Effects</td>\n",
       "      <td>rare kidney infection</td>\n",
       "      <td>My daughter is playing now finally and she see...</td>\n",
       "      <td>Blistering rash</td>\n",
       "      <td>.</td>\n",
       "    </tr>\n",
       "    <tr>\n",
       "      <th>249</th>\n",
       "      <td>1843</td>\n",
       "      <td>yasmin</td>\n",
       "      <td>10</td>\n",
       "      <td>Highly Effective</td>\n",
       "      <td>No Side Effects</td>\n",
       "      <td>birth control</td>\n",
       "      <td>I've been on yasmin four years now, it works s...</td>\n",
       "      <td>None</td>\n",
       "      <td>.</td>\n",
       "    </tr>\n",
       "    <tr>\n",
       "      <th>2282</th>\n",
       "      <td>1922</td>\n",
       "      <td>zithromax</td>\n",
       "      <td>8</td>\n",
       "      <td>Highly Effective</td>\n",
       "      <td>Mild Side Effects</td>\n",
       "      <td>sinusitis</td>\n",
       "      <td>It is extremely, powerful antibiotic, which gi...</td>\n",
       "      <td>nausea</td>\n",
       "      <td>500 mg of azithromycin once in a day...for thr...</td>\n",
       "    </tr>\n",
       "    <tr>\n",
       "      <th>2575</th>\n",
       "      <td>1894</td>\n",
       "      <td>doxycycline</td>\n",
       "      <td>10</td>\n",
       "      <td>Highly Effective</td>\n",
       "      <td>No Side Effects</td>\n",
       "      <td>severe peridontal disease</td>\n",
       "      <td>I had   persistent periodontal problems, both ...</td>\n",
       "      <td>None.</td>\n",
       "      <td>A dentist in my dental HMO prescribed it and w...</td>\n",
       "    </tr>\n",
       "    <tr>\n",
       "      <th>439</th>\n",
       "      <td>1660</td>\n",
       "      <td>climara</td>\n",
       "      <td>10</td>\n",
       "      <td>Highly Effective</td>\n",
       "      <td>Mild Side Effects</td>\n",
       "      <td>menopausal</td>\n",
       "      <td>Climara patch almost completely stopped the se...</td>\n",
       "      <td>The only side effect from the Climara is mild ...</td>\n",
       "      <td>After being miserable with frequent (20+ times...</td>\n",
       "    </tr>\n",
       "  </tbody>\n",
       "</table>\n",
       "</div>"
      ],
      "text/plain": [
       "      Unnamed: 0  urlDrugName  rating     effectiveness        sideEffects  \\\n",
       "1408        3024        cipro      10  Highly Effective  Mild Side Effects   \n",
       "249         1843       yasmin      10  Highly Effective    No Side Effects   \n",
       "2282        1922    zithromax       8  Highly Effective  Mild Side Effects   \n",
       "2575        1894  doxycycline      10  Highly Effective    No Side Effects   \n",
       "439         1660      climara      10  Highly Effective  Mild Side Effects   \n",
       "\n",
       "                      condition  \\\n",
       "1408      rare kidney infection   \n",
       "249               birth control   \n",
       "2282                  sinusitis   \n",
       "2575  severe peridontal disease   \n",
       "439                  menopausal   \n",
       "\n",
       "                                         benefitsReview  \\\n",
       "1408  My daughter is playing now finally and she see...   \n",
       "249   I've been on yasmin four years now, it works s...   \n",
       "2282  It is extremely, powerful antibiotic, which gi...   \n",
       "2575  I had   persistent periodontal problems, both ...   \n",
       "439   Climara patch almost completely stopped the se...   \n",
       "\n",
       "                                      sideEffectsReview  \\\n",
       "1408                                    Blistering rash   \n",
       "249                                                None   \n",
       "2282                                             nausea   \n",
       "2575                                              None.   \n",
       "439   The only side effect from the Climara is mild ...   \n",
       "\n",
       "                                         commentsReview  \n",
       "1408                                                  .  \n",
       "249                                                   .  \n",
       "2282  500 mg of azithromycin once in a day...for thr...  \n",
       "2575  A dentist in my dental HMO prescribed it and w...  \n",
       "439   After being miserable with frequent (20+ times...  "
      ]
     },
     "execution_count": 120,
     "metadata": {},
     "output_type": "execute_result"
    }
   ],
   "source": [
    "inspect_duplicate_reviews(druglib_train, 'commentsReview')"
   ]
  },
  {
   "cell_type": "code",
   "execution_count": 122,
   "id": "89633a4b",
   "metadata": {},
   "outputs": [
    {
     "name": "stdout",
     "output_type": "stream",
     "text": [
      "<class 'pandas.core.frame.DataFrame'>\n",
      "RangeIndex: 891 entries, 0 to 890\n",
      "Data columns (total 13 columns):\n",
      " #   Column           Non-Null Count  Dtype  \n",
      "---  ------           --------------  -----  \n",
      " 0   index            891 non-null    int64  \n",
      " 1   comment_index    891 non-null    int64  \n",
      " 2   comment_id       891 non-null    int64  \n",
      " 3   drug_id          891 non-null    object \n",
      " 4   rating           891 non-null    int64  \n",
      " 5   disorder         891 non-null    object \n",
      " 6   side-effect      877 non-null    object \n",
      " 7   comment          768 non-null    object \n",
      " 8   gender           881 non-null    object \n",
      " 9   age              879 non-null    float64\n",
      " 10  dosage_duration  888 non-null    object \n",
      " 11  date             891 non-null    object \n",
      " 12  category         891 non-null    object \n",
      "dtypes: float64(1), int64(4), object(8)\n",
      "memory usage: 90.6+ KB\n"
     ]
    }
   ],
   "source": [
    "# Fewer of these were duplicates\n",
    "psytar.info()"
   ]
  },
  {
   "cell_type": "code",
   "execution_count": 123,
   "id": "26cc4fde",
   "metadata": {},
   "outputs": [
    {
     "name": "stdout",
     "output_type": "stream",
     "text": [
      "891 124\n"
     ]
    },
    {
     "data": {
      "text/html": [
       "<div>\n",
       "<style scoped>\n",
       "    .dataframe tbody tr th:only-of-type {\n",
       "        vertical-align: middle;\n",
       "    }\n",
       "\n",
       "    .dataframe tbody tr th {\n",
       "        vertical-align: top;\n",
       "    }\n",
       "\n",
       "    .dataframe thead th {\n",
       "        text-align: right;\n",
       "    }\n",
       "</style>\n",
       "<table border=\"1\" class=\"dataframe\">\n",
       "  <thead>\n",
       "    <tr style=\"text-align: right;\">\n",
       "      <th></th>\n",
       "      <th>index</th>\n",
       "      <th>comment_index</th>\n",
       "      <th>comment_id</th>\n",
       "      <th>drug_id</th>\n",
       "      <th>rating</th>\n",
       "      <th>disorder</th>\n",
       "      <th>side-effect</th>\n",
       "      <th>comment</th>\n",
       "      <th>gender</th>\n",
       "      <th>age</th>\n",
       "      <th>dosage_duration</th>\n",
       "      <th>date</th>\n",
       "      <th>category</th>\n",
       "    </tr>\n",
       "  </thead>\n",
       "  <tbody>\n",
       "    <tr>\n",
       "      <th>236</th>\n",
       "      <td>237</td>\n",
       "      <td>1412</td>\n",
       "      <td>18</td>\n",
       "      <td>zoloft.18</td>\n",
       "      <td>1</td>\n",
       "      <td>depression</td>\n",
       "      <td>Weight gain (20lbs.), no sexual feelings at al...</td>\n",
       "      <td>At first, I din't realize all of these side ef...</td>\n",
       "      <td>F</td>\n",
       "      <td>24.0</td>\n",
       "      <td>9  months</td>\n",
       "      <td>2003-09-01 0:00:00</td>\n",
       "      <td>ssri</td>\n",
       "    </tr>\n",
       "    <tr>\n",
       "      <th>444</th>\n",
       "      <td>445</td>\n",
       "      <td>2289</td>\n",
       "      <td>13</td>\n",
       "      <td>cymbalta.13</td>\n",
       "      <td>1</td>\n",
       "      <td>depression</td>\n",
       "      <td>nonstop headache, constipation, racing thought...</td>\n",
       "      <td>Bad Drug!</td>\n",
       "      <td>F</td>\n",
       "      <td>53.0</td>\n",
       "      <td>2  weeks</td>\n",
       "      <td>2006-06-25 0:00:00</td>\n",
       "      <td>snri</td>\n",
       "    </tr>\n",
       "    <tr>\n",
       "      <th>7</th>\n",
       "      <td>8</td>\n",
       "      <td>156</td>\n",
       "      <td>8</td>\n",
       "      <td>lexapro.8</td>\n",
       "      <td>1</td>\n",
       "      <td>depression/ anxiety</td>\n",
       "      <td>Extreme Weight Gain 30 pounds</td>\n",
       "      <td>NaN</td>\n",
       "      <td>M</td>\n",
       "      <td>16.0</td>\n",
       "      <td>1  years5 MG</td>\n",
       "      <td>2014-02-19 0:00:00</td>\n",
       "      <td>ssri</td>\n",
       "    </tr>\n",
       "    <tr>\n",
       "      <th>46</th>\n",
       "      <td>47</td>\n",
       "      <td>1793</td>\n",
       "      <td>47</td>\n",
       "      <td>lexapro.47</td>\n",
       "      <td>2</td>\n",
       "      <td>depression</td>\n",
       "      <td>weight gain</td>\n",
       "      <td>NaN</td>\n",
       "      <td>F</td>\n",
       "      <td>27.0</td>\n",
       "      <td>4  months</td>\n",
       "      <td>2006-05-16 0:00:00</td>\n",
       "      <td>ssri</td>\n",
       "    </tr>\n",
       "    <tr>\n",
       "      <th>50</th>\n",
       "      <td>51</td>\n",
       "      <td>574</td>\n",
       "      <td>51</td>\n",
       "      <td>lexapro.51</td>\n",
       "      <td>2</td>\n",
       "      <td>depression</td>\n",
       "      <td>Problems with memory. Inability to focus/conce...</td>\n",
       "      <td>NaN</td>\n",
       "      <td>F</td>\n",
       "      <td>66.0</td>\n",
       "      <td>7  weeks</td>\n",
       "      <td>2009-12-17 0:00:00</td>\n",
       "      <td>ssri</td>\n",
       "    </tr>\n",
       "  </tbody>\n",
       "</table>\n",
       "</div>"
      ],
      "text/plain": [
       "     index  comment_index  comment_id      drug_id  rating  \\\n",
       "236    237           1412          18    zoloft.18       1   \n",
       "444    445           2289          13  cymbalta.13       1   \n",
       "7        8            156           8    lexapro.8       1   \n",
       "46      47           1793          47   lexapro.47       2   \n",
       "50      51            574          51   lexapro.51       2   \n",
       "\n",
       "                disorder                                        side-effect  \\\n",
       "236           depression  Weight gain (20lbs.), no sexual feelings at al...   \n",
       "444           depression  nonstop headache, constipation, racing thought...   \n",
       "7    depression/ anxiety                      Extreme Weight Gain 30 pounds   \n",
       "46            depression                                        weight gain   \n",
       "50            depression  Problems with memory. Inability to focus/conce...   \n",
       "\n",
       "                                               comment gender   age  \\\n",
       "236  At first, I din't realize all of these side ef...      F  24.0   \n",
       "444                                          Bad Drug!      F  53.0   \n",
       "7                                                  NaN      M  16.0   \n",
       "46                                                 NaN      F  27.0   \n",
       "50                                                 NaN      F  66.0   \n",
       "\n",
       "    dosage_duration                date category  \n",
       "236       9  months  2003-09-01 0:00:00     ssri  \n",
       "444        2  weeks  2006-06-25 0:00:00     snri  \n",
       "7      1  years5 MG  2014-02-19 0:00:00     ssri  \n",
       "46        4  months  2006-05-16 0:00:00     ssri  \n",
       "50         7  weeks  2009-12-17 0:00:00     ssri  "
      ]
     },
     "execution_count": 123,
     "metadata": {},
     "output_type": "execute_result"
    }
   ],
   "source": [
    "inspect_duplicate_reviews(psytar, 'comment')"
   ]
  },
  {
   "cell_type": "markdown",
   "id": "73adec8c",
   "metadata": {},
   "source": [
    "This last raw dataset has about 15% duplicate values but few rows overall. \n",
    "\n",
    "I did go back to the wrangling notebook and don't see any errors that would have caused this. I think I just didn't notice earlier because I would expect there to be duplicates in many of the columns (drug, condition) without it being a problem at all. Or perhaps completely duplicated rows, and took care of those. But it didn't cross my mind to think that specifically the reveiw column would have duplicates across multiple drugs. \n",
    "\n",
    "There are enough duplicated reviews in the raw data to account for all the duplicates in my current dataframe. My best working hypothesis is that the duplicate reviews appeared more often with psych meds because people may cycle through and try many drugs and then write up one big narrative to submit. Or perhaps, they feel one way about the drug's effects and go back to change their rating later, which results in two rows varying only by rating. I may need to more closely inspect each set of duplicates and find out which drugs the reviews are actually relevant for, removing the rest of the rows. \n",
    "\n",
    "<font color='violet'> Remove rows with irrelevant duplicated reviews"
   ]
  },
  {
   "cell_type": "code",
   "execution_count": 125,
   "id": "fb608aa1",
   "metadata": {},
   "outputs": [
    {
     "data": {
      "text/html": [
       "<div>\n",
       "<style scoped>\n",
       "    .dataframe tbody tr th:only-of-type {\n",
       "        vertical-align: middle;\n",
       "    }\n",
       "\n",
       "    .dataframe tbody tr th {\n",
       "        vertical-align: top;\n",
       "    }\n",
       "\n",
       "    .dataframe thead th {\n",
       "        text-align: right;\n",
       "    }\n",
       "</style>\n",
       "<table border=\"1\" class=\"dataframe\">\n",
       "  <thead>\n",
       "    <tr style=\"text-align: right;\">\n",
       "      <th></th>\n",
       "      <th>drug</th>\n",
       "      <th>rating</th>\n",
       "      <th>condition</th>\n",
       "      <th>review</th>\n",
       "      <th>date</th>\n",
       "      <th>ratings_count</th>\n",
       "      <th>count_by_date</th>\n",
       "    </tr>\n",
       "  </thead>\n",
       "  <tbody>\n",
       "    <tr>\n",
       "      <th>0</th>\n",
       "      <td>vyvanse</td>\n",
       "      <td>9.0</td>\n",
       "      <td>add</td>\n",
       "      <td>I had began taking 20mg of Vyvanse for three m...</td>\n",
       "      <td>NaT</td>\n",
       "      <td>21</td>\n",
       "      <td>NaN</td>\n",
       "    </tr>\n",
       "    <tr>\n",
       "      <th>1</th>\n",
       "      <td>dextroamphetamine</td>\n",
       "      <td>8.0</td>\n",
       "      <td>add</td>\n",
       "      <td>I had began taking 20mg of Vyvanse for three m...</td>\n",
       "      <td>NaT</td>\n",
       "      <td>3</td>\n",
       "      <td>NaN</td>\n",
       "    </tr>\n",
       "    <tr>\n",
       "      <th>2</th>\n",
       "      <td>vyvanse</td>\n",
       "      <td>8.0</td>\n",
       "      <td>adhd</td>\n",
       "      <td>I had began taking 20mg of Vyvanse for three m...</td>\n",
       "      <td>NaT</td>\n",
       "      <td>21</td>\n",
       "      <td>NaN</td>\n",
       "    </tr>\n",
       "    <tr>\n",
       "      <th>3</th>\n",
       "      <td>saizen</td>\n",
       "      <td>8.0</td>\n",
       "      <td>fatigue</td>\n",
       "      <td>I had began taking 20mg of Vyvanse for three m...</td>\n",
       "      <td>NaT</td>\n",
       "      <td>1</td>\n",
       "      <td>NaN</td>\n",
       "    </tr>\n",
       "    <tr>\n",
       "      <th>4</th>\n",
       "      <td>zyprexa</td>\n",
       "      <td>3.0</td>\n",
       "      <td>dementia</td>\n",
       "      <td>I had began taking 20mg of Vyvanse for three m...</td>\n",
       "      <td>NaT</td>\n",
       "      <td>1</td>\n",
       "      <td>NaN</td>\n",
       "    </tr>\n",
       "    <tr>\n",
       "      <th>5</th>\n",
       "      <td>vyvanse</td>\n",
       "      <td>10.0</td>\n",
       "      <td>add</td>\n",
       "      <td>I had began taking 20mg of Vyvanse for three m...</td>\n",
       "      <td>NaT</td>\n",
       "      <td>21</td>\n",
       "      <td>NaN</td>\n",
       "    </tr>\n",
       "    <tr>\n",
       "      <th>6</th>\n",
       "      <td>vyvanse</td>\n",
       "      <td>7.0</td>\n",
       "      <td>add</td>\n",
       "      <td>So far the throwing up has stopped and the hea...</td>\n",
       "      <td>NaT</td>\n",
       "      <td>21</td>\n",
       "      <td>NaN</td>\n",
       "    </tr>\n",
       "  </tbody>\n",
       "</table>\n",
       "</div>"
      ],
      "text/plain": [
       "                drug  rating condition  \\\n",
       "0            vyvanse     9.0       add   \n",
       "1  dextroamphetamine     8.0       add   \n",
       "2            vyvanse     8.0      adhd   \n",
       "3             saizen     8.0   fatigue   \n",
       "4            zyprexa     3.0  dementia   \n",
       "5            vyvanse    10.0       add   \n",
       "6            vyvanse     7.0       add   \n",
       "\n",
       "                                              review date  ratings_count  \\\n",
       "0  I had began taking 20mg of Vyvanse for three m...  NaT             21   \n",
       "1  I had began taking 20mg of Vyvanse for three m...  NaT              3   \n",
       "2  I had began taking 20mg of Vyvanse for three m...  NaT             21   \n",
       "3  I had began taking 20mg of Vyvanse for three m...  NaT              1   \n",
       "4  I had began taking 20mg of Vyvanse for three m...  NaT              1   \n",
       "5  I had began taking 20mg of Vyvanse for three m...  NaT             21   \n",
       "6  So far the throwing up has stopped and the hea...  NaT             21   \n",
       "\n",
       "   count_by_date  \n",
       "0            NaN  \n",
       "1            NaN  \n",
       "2            NaN  \n",
       "3            NaN  \n",
       "4            NaN  \n",
       "5            NaN  \n",
       "6            NaN  "
      ]
     },
     "execution_count": 125,
     "metadata": {},
     "output_type": "execute_result"
    }
   ],
   "source": [
    "# Start with just one set of duplicates and see what I find.\n",
    "df.head(8)"
   ]
  },
  {
   "cell_type": "markdown",
   "id": "4f2dd027",
   "metadata": {},
   "source": [
    "It appears that somebody submitted the same review for vyvanse, dextroamphetamine, saizen, and zyprexa. And with vyvanse, they submitted it as being used to treat both add and adhd. And for add they gave it a rating of 9 with one submission and 10 with another. \n",
    "\n",
    "I can see already that this definitly pertains to vyvanse. Since the add ratings are ambiguous, I can just get rid of those and keep the row for adhd. "
   ]
  },
  {
   "cell_type": "code",
   "execution_count": 127,
   "id": "25d00db3",
   "metadata": {},
   "outputs": [
    {
     "data": {
      "text/html": [
       "<div>\n",
       "<style scoped>\n",
       "    .dataframe tbody tr th:only-of-type {\n",
       "        vertical-align: middle;\n",
       "    }\n",
       "\n",
       "    .dataframe tbody tr th {\n",
       "        vertical-align: top;\n",
       "    }\n",
       "\n",
       "    .dataframe thead th {\n",
       "        text-align: right;\n",
       "    }\n",
       "</style>\n",
       "<table border=\"1\" class=\"dataframe\">\n",
       "  <thead>\n",
       "    <tr style=\"text-align: right;\">\n",
       "      <th></th>\n",
       "      <th>drug</th>\n",
       "      <th>rating</th>\n",
       "      <th>condition</th>\n",
       "      <th>review</th>\n",
       "      <th>date</th>\n",
       "      <th>ratings_count</th>\n",
       "      <th>count_by_date</th>\n",
       "    </tr>\n",
       "  </thead>\n",
       "  <tbody>\n",
       "    <tr>\n",
       "      <th>1</th>\n",
       "      <td>dextroamphetamine</td>\n",
       "      <td>8.0</td>\n",
       "      <td>add</td>\n",
       "      <td>I had began taking 20mg of Vyvanse for three m...</td>\n",
       "      <td>NaT</td>\n",
       "      <td>3</td>\n",
       "      <td>NaN</td>\n",
       "    </tr>\n",
       "    <tr>\n",
       "      <th>2</th>\n",
       "      <td>vyvanse</td>\n",
       "      <td>8.0</td>\n",
       "      <td>adhd</td>\n",
       "      <td>I had began taking 20mg of Vyvanse for three m...</td>\n",
       "      <td>NaT</td>\n",
       "      <td>21</td>\n",
       "      <td>NaN</td>\n",
       "    </tr>\n",
       "    <tr>\n",
       "      <th>3</th>\n",
       "      <td>saizen</td>\n",
       "      <td>8.0</td>\n",
       "      <td>fatigue</td>\n",
       "      <td>I had began taking 20mg of Vyvanse for three m...</td>\n",
       "      <td>NaT</td>\n",
       "      <td>1</td>\n",
       "      <td>NaN</td>\n",
       "    </tr>\n",
       "    <tr>\n",
       "      <th>4</th>\n",
       "      <td>zyprexa</td>\n",
       "      <td>3.0</td>\n",
       "      <td>dementia</td>\n",
       "      <td>I had began taking 20mg of Vyvanse for three m...</td>\n",
       "      <td>NaT</td>\n",
       "      <td>1</td>\n",
       "      <td>NaN</td>\n",
       "    </tr>\n",
       "    <tr>\n",
       "      <th>6</th>\n",
       "      <td>vyvanse</td>\n",
       "      <td>7.0</td>\n",
       "      <td>add</td>\n",
       "      <td>So far the throwing up has stopped and the hea...</td>\n",
       "      <td>NaT</td>\n",
       "      <td>21</td>\n",
       "      <td>NaN</td>\n",
       "    </tr>\n",
       "  </tbody>\n",
       "</table>\n",
       "</div>"
      ],
      "text/plain": [
       "                drug  rating condition  \\\n",
       "1  dextroamphetamine     8.0       add   \n",
       "2            vyvanse     8.0      adhd   \n",
       "3             saizen     8.0   fatigue   \n",
       "4            zyprexa     3.0  dementia   \n",
       "6            vyvanse     7.0       add   \n",
       "\n",
       "                                              review date  ratings_count  \\\n",
       "1  I had began taking 20mg of Vyvanse for three m...  NaT              3   \n",
       "2  I had began taking 20mg of Vyvanse for three m...  NaT             21   \n",
       "3  I had began taking 20mg of Vyvanse for three m...  NaT              1   \n",
       "4  I had began taking 20mg of Vyvanse for three m...  NaT              1   \n",
       "6  So far the throwing up has stopped and the hea...  NaT             21   \n",
       "\n",
       "   count_by_date  \n",
       "1            NaN  \n",
       "2            NaN  \n",
       "3            NaN  \n",
       "4            NaN  \n",
       "6            NaN  "
      ]
     },
     "execution_count": 127,
     "metadata": {},
     "output_type": "execute_result"
    }
   ],
   "source": [
    "df = df.drop(labels=[0,5])\n",
    "df.head(6)"
   ]
  },
  {
   "cell_type": "code",
   "execution_count": 128,
   "id": "ccbd8381",
   "metadata": {},
   "outputs": [
    {
     "data": {
      "text/plain": [
       "'I had began taking 20mg of Vyvanse for three months and was surprised to find that such a small dose affected my mood so effectively  When it came to school work though I found that I needed the 30mg to increase my level of focus ( have been on it for a month since  I had not experienced decreased appetite until about a month into taking the 20mg  I find that the greatest benefit of Vyvanse for me is that it tends to stabalize my mood on a daily basis and lessens any bouts of anxiety and depression that i used to face before I was perscribed a few experiences of nausiea heavy moodswings on the days I do not take it decreased appetite and some negative affect on my shortterm memory My mood has noticably improved I have more energy experience better sleep and digestion'"
      ]
     },
     "execution_count": 128,
     "metadata": {},
     "output_type": "execute_result"
    }
   ],
   "source": [
    "# Take a closer look at the full review to see if it pertains to the other drugs.\n",
    "df.review[1]"
   ]
  },
  {
   "cell_type": "code",
   "execution_count": 129,
   "id": "fc5a38e5",
   "metadata": {},
   "outputs": [
    {
     "data": {
      "text/html": [
       "<div>\n",
       "<style scoped>\n",
       "    .dataframe tbody tr th:only-of-type {\n",
       "        vertical-align: middle;\n",
       "    }\n",
       "\n",
       "    .dataframe tbody tr th {\n",
       "        vertical-align: top;\n",
       "    }\n",
       "\n",
       "    .dataframe thead th {\n",
       "        text-align: right;\n",
       "    }\n",
       "</style>\n",
       "<table border=\"1\" class=\"dataframe\">\n",
       "  <thead>\n",
       "    <tr style=\"text-align: right;\">\n",
       "      <th></th>\n",
       "      <th>drug</th>\n",
       "      <th>rating</th>\n",
       "      <th>condition</th>\n",
       "      <th>review</th>\n",
       "      <th>date</th>\n",
       "      <th>ratings_count</th>\n",
       "      <th>count_by_date</th>\n",
       "    </tr>\n",
       "  </thead>\n",
       "  <tbody>\n",
       "    <tr>\n",
       "      <th>2</th>\n",
       "      <td>vyvanse</td>\n",
       "      <td>8.0</td>\n",
       "      <td>adhd</td>\n",
       "      <td>I had began taking 20mg of Vyvanse for three m...</td>\n",
       "      <td>NaT</td>\n",
       "      <td>21</td>\n",
       "      <td>NaN</td>\n",
       "    </tr>\n",
       "    <tr>\n",
       "      <th>6</th>\n",
       "      <td>vyvanse</td>\n",
       "      <td>7.0</td>\n",
       "      <td>add</td>\n",
       "      <td>So far the throwing up has stopped and the hea...</td>\n",
       "      <td>NaT</td>\n",
       "      <td>21</td>\n",
       "      <td>NaN</td>\n",
       "    </tr>\n",
       "  </tbody>\n",
       "</table>\n",
       "</div>"
      ],
      "text/plain": [
       "      drug  rating condition  \\\n",
       "2  vyvanse     8.0      adhd   \n",
       "6  vyvanse     7.0       add   \n",
       "\n",
       "                                              review date  ratings_count  \\\n",
       "2  I had began taking 20mg of Vyvanse for three m...  NaT             21   \n",
       "6  So far the throwing up has stopped and the hea...  NaT             21   \n",
       "\n",
       "   count_by_date  \n",
       "2            NaN  \n",
       "6            NaN  "
      ]
     },
     "execution_count": 129,
     "metadata": {},
     "output_type": "execute_result"
    }
   ],
   "source": [
    "# This only pertains to vyvanse. Drop other rows. \n",
    "df = df.drop(labels=[1,3,4])\n",
    "df.head(2)"
   ]
  },
  {
   "cell_type": "markdown",
   "id": "87735222",
   "metadata": {},
   "source": [
    "I cannot think of many reliable ways to do what I just did without going through case-by-case. How many sets of duplicates will I need to work with? "
   ]
  },
  {
   "cell_type": "code",
   "execution_count": 139,
   "id": "7ab0cf5d",
   "metadata": {},
   "outputs": [
    {
     "data": {
      "text/plain": [
       "3265"
      ]
     },
     "execution_count": 139,
     "metadata": {},
     "output_type": "execute_result"
    }
   ],
   "source": [
    "len(df[df.review.duplicated()==True]['review'].unique())"
   ]
  },
  {
   "cell_type": "markdown",
   "id": "b1926386",
   "metadata": {},
   "source": [
    "I'm going to need to find some way to automate or otherwise speed up row deletion. The choices about which rows to delete may be less perfect than if I do everything by hand, but thousands of cases is so many."
   ]
  },
  {
   "cell_type": "code",
   "execution_count": 134,
   "id": "0c09966b",
   "metadata": {},
   "outputs": [
    {
     "data": {
      "text/html": [
       "<div>\n",
       "<style scoped>\n",
       "    .dataframe tbody tr th:only-of-type {\n",
       "        vertical-align: middle;\n",
       "    }\n",
       "\n",
       "    .dataframe tbody tr th {\n",
       "        vertical-align: top;\n",
       "    }\n",
       "\n",
       "    .dataframe thead th {\n",
       "        text-align: right;\n",
       "    }\n",
       "</style>\n",
       "<table border=\"1\" class=\"dataframe\">\n",
       "  <thead>\n",
       "    <tr style=\"text-align: right;\">\n",
       "      <th></th>\n",
       "      <th>drug</th>\n",
       "      <th>rating</th>\n",
       "      <th>condition</th>\n",
       "      <th>review</th>\n",
       "      <th>date</th>\n",
       "      <th>ratings_count</th>\n",
       "      <th>count_by_date</th>\n",
       "    </tr>\n",
       "  </thead>\n",
       "  <tbody>\n",
       "    <tr>\n",
       "      <th>2</th>\n",
       "      <td>vyvanse</td>\n",
       "      <td>8.0</td>\n",
       "      <td>adhd</td>\n",
       "      <td>I had began taking 20mg of Vyvanse for three m...</td>\n",
       "      <td>NaT</td>\n",
       "      <td>21</td>\n",
       "      <td>NaN</td>\n",
       "    </tr>\n",
       "    <tr>\n",
       "      <th>6</th>\n",
       "      <td>vyvanse</td>\n",
       "      <td>7.0</td>\n",
       "      <td>add</td>\n",
       "      <td>So far the throwing up has stopped and the hea...</td>\n",
       "      <td>NaT</td>\n",
       "      <td>21</td>\n",
       "      <td>NaN</td>\n",
       "    </tr>\n",
       "    <tr>\n",
       "      <th>7</th>\n",
       "      <td>ritalin-la</td>\n",
       "      <td>8.0</td>\n",
       "      <td>adhd</td>\n",
       "      <td>So far the throwing up has stopped and the hea...</td>\n",
       "      <td>NaT</td>\n",
       "      <td>1</td>\n",
       "      <td>NaN</td>\n",
       "    </tr>\n",
       "    <tr>\n",
       "      <th>8</th>\n",
       "      <td>wellbutrin-sr</td>\n",
       "      <td>8.0</td>\n",
       "      <td>adhd</td>\n",
       "      <td>So far the throwing up has stopped and the hea...</td>\n",
       "      <td>NaT</td>\n",
       "      <td>2</td>\n",
       "      <td>NaN</td>\n",
       "    </tr>\n",
       "    <tr>\n",
       "      <th>9</th>\n",
       "      <td>concerta</td>\n",
       "      <td>8.0</td>\n",
       "      <td>adhd</td>\n",
       "      <td>So far the throwing up has stopped and the hea...</td>\n",
       "      <td>NaT</td>\n",
       "      <td>13</td>\n",
       "      <td>NaN</td>\n",
       "    </tr>\n",
       "    <tr>\n",
       "      <th>10</th>\n",
       "      <td>concerta</td>\n",
       "      <td>2.0</td>\n",
       "      <td>adhd</td>\n",
       "      <td>So far the throwing up has stopped and the hea...</td>\n",
       "      <td>NaT</td>\n",
       "      <td>13</td>\n",
       "      <td>NaN</td>\n",
       "    </tr>\n",
       "    <tr>\n",
       "      <th>11</th>\n",
       "      <td>strattera</td>\n",
       "      <td>8.0</td>\n",
       "      <td>add</td>\n",
       "      <td>So far the throwing up has stopped and the hea...</td>\n",
       "      <td>NaT</td>\n",
       "      <td>17</td>\n",
       "      <td>NaN</td>\n",
       "    </tr>\n",
       "    <tr>\n",
       "      <th>12</th>\n",
       "      <td>vyvanse</td>\n",
       "      <td>10.0</td>\n",
       "      <td>adhd</td>\n",
       "      <td>So far the throwing up has stopped and the hea...</td>\n",
       "      <td>NaT</td>\n",
       "      <td>21</td>\n",
       "      <td>NaN</td>\n",
       "    </tr>\n",
       "    <tr>\n",
       "      <th>13</th>\n",
       "      <td>strattera</td>\n",
       "      <td>8.0</td>\n",
       "      <td>add</td>\n",
       "      <td>With or without this medication I am a philoso...</td>\n",
       "      <td>NaT</td>\n",
       "      <td>17</td>\n",
       "      <td>NaN</td>\n",
       "    </tr>\n",
       "  </tbody>\n",
       "</table>\n",
       "</div>"
      ],
      "text/plain": [
       "             drug  rating condition  \\\n",
       "2         vyvanse     8.0      adhd   \n",
       "6         vyvanse     7.0       add   \n",
       "7      ritalin-la     8.0      adhd   \n",
       "8   wellbutrin-sr     8.0      adhd   \n",
       "9        concerta     8.0      adhd   \n",
       "10       concerta     2.0      adhd   \n",
       "11      strattera     8.0       add   \n",
       "12        vyvanse    10.0      adhd   \n",
       "13      strattera     8.0       add   \n",
       "\n",
       "                                               review date  ratings_count  \\\n",
       "2   I had began taking 20mg of Vyvanse for three m...  NaT             21   \n",
       "6   So far the throwing up has stopped and the hea...  NaT             21   \n",
       "7   So far the throwing up has stopped and the hea...  NaT              1   \n",
       "8   So far the throwing up has stopped and the hea...  NaT              2   \n",
       "9   So far the throwing up has stopped and the hea...  NaT             13   \n",
       "10  So far the throwing up has stopped and the hea...  NaT             13   \n",
       "11  So far the throwing up has stopped and the hea...  NaT             17   \n",
       "12  So far the throwing up has stopped and the hea...  NaT             21   \n",
       "13  With or without this medication I am a philoso...  NaT             17   \n",
       "\n",
       "    count_by_date  \n",
       "2             NaN  \n",
       "6             NaN  \n",
       "7             NaN  \n",
       "8             NaN  \n",
       "9             NaN  \n",
       "10            NaN  \n",
       "11            NaN  \n",
       "12            NaN  \n",
       "13            NaN  "
      ]
     },
     "execution_count": 134,
     "metadata": {},
     "output_type": "execute_result"
    }
   ],
   "source": [
    "df.head(10)"
   ]
  },
  {
   "cell_type": "code",
   "execution_count": null,
   "id": "83951008",
   "metadata": {},
   "outputs": [],
   "source": []
  },
  {
   "cell_type": "markdown",
   "id": "684d7e19",
   "metadata": {},
   "source": [
    "<font color='violet'> Lemmatize text"
   ]
  },
  {
   "cell_type": "markdown",
   "id": "7bd26558",
   "metadata": {},
   "source": [
    "Resources with tips for effective EDA visualization with NLP\n",
    "\n",
    "https://medium.com/plotly/nlp-visualisations-for-clear-immediate-insights-into-text-data-and-outputs-9ebfab168d5b\n",
    "    \n",
    "https://www.numpyninja.com/post/nlp-text-data-visualization\n",
    "    \n",
    "https://www.kaggle.com/code/sainathkrothapalli/nlp-visualisation-guide\n",
    "    \n",
    "https://medium.com/acing-ai/visualizations-in-natural-language-processing-2ca60dd34ce\n",
    "    \n",
    "https://towardsdatascience.com/a-complete-exploratory-data-analysis-and-visualization-for-text-data-29fb1b96fb6a\n",
    "    \n",
    "https://towardsdatascience.com/getting-started-with-text-nlp-visualization-9dcb54bc91dd\n",
    "    \n",
    "https://www.kaggle.com/code/mitramir5/nlp-visualization-eda-glove\n",
    "    \n",
    "https://medium.com/analytics-vidhya/how-to-begin-performing-eda-on-nlp-ffdef92bedf6\n",
    "    \n",
    "https://inside-machinelearning.com/en/eda-nlp/\n",
    "    \n",
    "https://towardsdatascience.com/fundamental-eda-techniques-for-nlp-f81a93696a75\n",
    "    \n",
    "https://neptune.ai/blog/exploratory-data-analysis-natural-language-processing-tools\n",
    "    \n",
    "https://www.kdnuggets.com/2019/05/complete-exploratory-data-analysis-visualization-text-data.html\n",
    "    \n"
   ]
  }
 ],
 "metadata": {
  "kernelspec": {
   "display_name": "Python 3 (ipykernel)",
   "language": "python",
   "name": "python3"
  },
  "language_info": {
   "codemirror_mode": {
    "name": "ipython",
    "version": 3
   },
   "file_extension": ".py",
   "mimetype": "text/x-python",
   "name": "python",
   "nbconvert_exporter": "python",
   "pygments_lexer": "ipython3",
   "version": "3.9.15"
  }
 },
 "nbformat": 4,
 "nbformat_minor": 5
}
