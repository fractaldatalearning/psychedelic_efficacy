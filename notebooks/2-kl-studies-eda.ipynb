{
 "cells": [
  {
   "cell_type": "markdown",
   "id": "3a2d0283",
   "metadata": {},
   "source": [
    "# <font color='violet'> Exploration & Parsing\n",
    "Using prescription drug review data wrangled here: https://github.com/fractaldatalearning/psychedelic_efficacy/blob/main/notebooks/1-kl-wrangle-tabular.ipynb"
   ]
  },
  {
   "cell_type": "code",
   "execution_count": 1,
   "id": "cb2ba9bb",
   "metadata": {},
   "outputs": [],
   "source": [
    "# ! pip install tqdm \n",
    "# !{sys.executable} -m pip install contractions"
   ]
  },
  {
   "cell_type": "code",
   "execution_count": 2,
   "id": "259f1ef3",
   "metadata": {},
   "outputs": [],
   "source": [
    "import numpy as np\n",
    "import pandas as pd\n",
    "import sys\n",
    "import contractions\n",
    "import re\n",
    "import string\n",
    "import matplotlib.pyplot as plt\n",
    "import seaborn as sns\n",
    "from tqdm import tqdm"
   ]
  },
  {
   "cell_type": "code",
   "execution_count": 3,
   "id": "813c59c5",
   "metadata": {},
   "outputs": [],
   "source": [
    "# prepare to add local python functions; import modules from src directory\n",
    "src = '../src'\n",
    "sys.path.append(src)\n",
    "\n",
    "# import local functions\n",
    "from nlp.parse import remove_accented_chars, strip_most_punc, strip_apostrophe"
   ]
  },
  {
   "cell_type": "code",
   "execution_count": 4,
   "id": "2e1fb33d",
   "metadata": {},
   "outputs": [
    {
     "name": "stdout",
     "output_type": "stream",
     "text": [
      "<class 'pandas.core.frame.DataFrame'>\n",
      "RangeIndex: 50652 entries, 0 to 50651\n",
      "Data columns (total 6 columns):\n",
      " #   Column      Non-Null Count  Dtype  \n",
      "---  ------      --------------  -----  \n",
      " 0   Unnamed: 0  50652 non-null  int64  \n",
      " 1   drug        50652 non-null  object \n",
      " 2   rating      50652 non-null  float64\n",
      " 3   condition   50652 non-null  object \n",
      " 4   review      50652 non-null  object \n",
      " 5   date        50652 non-null  object \n",
      "dtypes: float64(1), int64(1), object(4)\n",
      "memory usage: 2.3+ MB\n"
     ]
    }
   ],
   "source": [
    "df = pd.read_csv('../data/interim/studies_clean.csv')\n",
    "df.info()"
   ]
  },
  {
   "cell_type": "code",
   "execution_count": 5,
   "id": "befb84a0",
   "metadata": {},
   "outputs": [
    {
     "data": {
      "text/html": [
       "<div>\n",
       "<style scoped>\n",
       "    .dataframe tbody tr th:only-of-type {\n",
       "        vertical-align: middle;\n",
       "    }\n",
       "\n",
       "    .dataframe tbody tr th {\n",
       "        vertical-align: top;\n",
       "    }\n",
       "\n",
       "    .dataframe thead th {\n",
       "        text-align: right;\n",
       "    }\n",
       "</style>\n",
       "<table border=\"1\" class=\"dataframe\">\n",
       "  <thead>\n",
       "    <tr style=\"text-align: right;\">\n",
       "      <th></th>\n",
       "      <th>drug</th>\n",
       "      <th>rating</th>\n",
       "      <th>condition</th>\n",
       "      <th>review</th>\n",
       "      <th>date</th>\n",
       "    </tr>\n",
       "  </thead>\n",
       "  <tbody>\n",
       "    <tr>\n",
       "      <th>0</th>\n",
       "      <td>vyvanse</td>\n",
       "      <td>9.0</td>\n",
       "      <td>add</td>\n",
       "      <td>I had began taking 20mg of Vyvanse for three m...</td>\n",
       "      <td>0</td>\n",
       "    </tr>\n",
       "    <tr>\n",
       "      <th>1</th>\n",
       "      <td>dextroamphetamine</td>\n",
       "      <td>8.0</td>\n",
       "      <td>add</td>\n",
       "      <td>Switched from Adderall to Dexedrine to compare...</td>\n",
       "      <td>0</td>\n",
       "    </tr>\n",
       "  </tbody>\n",
       "</table>\n",
       "</div>"
      ],
      "text/plain": [
       "                drug  rating condition  \\\n",
       "0            vyvanse     9.0       add   \n",
       "1  dextroamphetamine     8.0       add   \n",
       "\n",
       "                                              review date  \n",
       "0  I had began taking 20mg of Vyvanse for three m...    0  \n",
       "1  Switched from Adderall to Dexedrine to compare...    0  "
      ]
     },
     "execution_count": 5,
     "metadata": {},
     "output_type": "execute_result"
    }
   ],
   "source": [
    "# Drop \"Unnamed\" column; it's redundant with the index\n",
    "df = df.drop(columns=['Unnamed: 0'])\n",
    "df.head(2)"
   ]
  },
  {
   "cell_type": "markdown",
   "id": "6003f8f2",
   "metadata": {},
   "source": [
    "<font color='violet'> Explore each column, starting with 'drug'"
   ]
  },
  {
   "cell_type": "code",
   "execution_count": 6,
   "id": "efae90ef",
   "metadata": {},
   "outputs": [
    {
     "data": {
      "text/plain": [
       "651"
      ]
     },
     "execution_count": 6,
     "metadata": {},
     "output_type": "execute_result"
    }
   ],
   "source": [
    "# How many drugs are in the data? \n",
    "len(df.drug.unique())"
   ]
  },
  {
   "cell_type": "code",
   "execution_count": 7,
   "id": "f117deb5",
   "metadata": {},
   "outputs": [
    {
     "data": {
      "text/plain": [
       "Sertraline      1855\n",
       "Escitalopram    1714\n",
       "Citalopram      1298\n",
       "Bupropion       1278\n",
       "Lexapro         1232\n",
       "Venlafaxine     1212\n",
       "Varenicline     1082\n",
       "Zoloft          1075\n",
       "Quetiapine      1065\n",
       "Clonazepam      1004\n",
       "Name: drug, dtype: int64"
      ]
     },
     "execution_count": 7,
     "metadata": {},
     "output_type": "execute_result"
    }
   ],
   "source": [
    "# Which drugs are most commonly reviewed?\n",
    "freq_drugs = df.drug.value_counts().head(10)\n",
    "freq_drugs"
   ]
  },
  {
   "cell_type": "markdown",
   "id": "78ba1216",
   "metadata": {},
   "source": [
    "It would be best to add a 'drug class' column when I come to feature engineering so that all these drugs are categorized. That column existed previously but came from one of the origina tables where too few of the rows had reviews for psych meds. I could eventually do this by creating a dictionary of drugs and their classes using information scraped from this website: https://www.drugs.com/drug-classes.html\n",
    "\n",
    "Alternatively, drugs could be understood by the conditions they treat. \n",
    "\n",
    "<font color='violet'> Explore conditions"
   ]
  },
  {
   "cell_type": "code",
   "execution_count": 8,
   "id": "32140746",
   "metadata": {},
   "outputs": [
    {
     "data": {
      "text/plain": [
       "38"
      ]
     },
     "execution_count": 8,
     "metadata": {},
     "output_type": "execute_result"
    }
   ],
   "source": [
    "len(df.condition.unique())"
   ]
  },
  {
   "cell_type": "code",
   "execution_count": 9,
   "id": "7e5e0f54",
   "metadata": {},
   "outputs": [
    {
     "data": {
      "text/plain": [
       "depression                  14425\n",
       "anxiety                     14114\n",
       "bipolar                      5604\n",
       "addiction                    5192\n",
       "insomnia                     5018\n",
       "hrt                          1456\n",
       "schizophrenia                 789\n",
       "ocd                           752\n",
       "other                         592\n",
       "schizoaffective disorder      523\n",
       "Name: condition, dtype: int64"
      ]
     },
     "execution_count": 9,
     "metadata": {},
     "output_type": "execute_result"
    }
   ],
   "source": [
    "freq_conditions = df.condition.value_counts().head(10)\n",
    "freq_conditions"
   ]
  },
  {
   "cell_type": "code",
   "execution_count": 10,
   "id": "11fd1a2b",
   "metadata": {},
   "outputs": [
    {
     "data": {
      "text/html": [
       "<div>\n",
       "<style scoped>\n",
       "    .dataframe tbody tr th:only-of-type {\n",
       "        vertical-align: middle;\n",
       "    }\n",
       "\n",
       "    .dataframe tbody tr th {\n",
       "        vertical-align: top;\n",
       "    }\n",
       "\n",
       "    .dataframe thead th {\n",
       "        text-align: right;\n",
       "    }\n",
       "</style>\n",
       "<table border=\"1\" class=\"dataframe\">\n",
       "  <thead>\n",
       "    <tr style=\"text-align: right;\">\n",
       "      <th></th>\n",
       "      <th>drug</th>\n",
       "      <th>rating</th>\n",
       "      <th>condition</th>\n",
       "      <th>review</th>\n",
       "      <th>date</th>\n",
       "    </tr>\n",
       "  </thead>\n",
       "  <tbody>\n",
       "    <tr>\n",
       "      <th>118</th>\n",
       "      <td>Clonazepam</td>\n",
       "      <td>10.0</td>\n",
       "      <td>anxiety</td>\n",
       "      <td>\"klonopin has definitely given me my life back...</td>\n",
       "      <td>April 19, 2008</td>\n",
       "    </tr>\n",
       "    <tr>\n",
       "      <th>120</th>\n",
       "      <td>Escitalopram</td>\n",
       "      <td>9.0</td>\n",
       "      <td>depression</td>\n",
       "      <td>\"I am a 22 year old female college student. I ...</td>\n",
       "      <td>April 29, 2014</td>\n",
       "    </tr>\n",
       "    <tr>\n",
       "      <th>124</th>\n",
       "      <td>Clonazepam</td>\n",
       "      <td>6.0</td>\n",
       "      <td>anxiety</td>\n",
       "      <td>\"Works for me\"</td>\n",
       "      <td>March 24, 2013</td>\n",
       "    </tr>\n",
       "    <tr>\n",
       "      <th>127</th>\n",
       "      <td>Zoloft</td>\n",
       "      <td>1.0</td>\n",
       "      <td>depression</td>\n",
       "      <td>\"Zoloft did not help me at all.  I was on it f...</td>\n",
       "      <td>January 14, 2013</td>\n",
       "    </tr>\n",
       "    <tr>\n",
       "      <th>129</th>\n",
       "      <td>Sertraline</td>\n",
       "      <td>10.0</td>\n",
       "      <td>depression</td>\n",
       "      <td>\"I had major depression from the time I starte...</td>\n",
       "      <td>November 2, 2014</td>\n",
       "    </tr>\n",
       "  </tbody>\n",
       "</table>\n",
       "</div>"
      ],
      "text/plain": [
       "             drug  rating   condition  \\\n",
       "118    Clonazepam    10.0     anxiety   \n",
       "120  Escitalopram     9.0  depression   \n",
       "124    Clonazepam     6.0     anxiety   \n",
       "127        Zoloft     1.0  depression   \n",
       "129    Sertraline    10.0  depression   \n",
       "\n",
       "                                                review              date  \n",
       "118  \"klonopin has definitely given me my life back...    April 19, 2008  \n",
       "120  \"I am a 22 year old female college student. I ...    April 29, 2014  \n",
       "124                                 \"Works for me\"        March 24, 2013  \n",
       "127  \"Zoloft did not help me at all.  I was on it f...  January 14, 2013  \n",
       "129  \"I had major depression from the time I starte...  November 2, 2014  "
      ]
     },
     "execution_count": 10,
     "metadata": {},
     "output_type": "execute_result"
    }
   ],
   "source": [
    "# Which of the most common drugs are used to treat which of the most common conditions?\n",
    "\n",
    "freq_drugs = ['Sertraline', 'Escitalopram', 'Citalopram', 'Bupropion', 'Lexapro', \n",
    "             'Venlafaxine', 'Varenicline', 'Zoloft', 'Quetiapine', 'Clonazepam']\n",
    "freq_conditions = ['depression', 'anxiety', 'bipolar', 'addiction', 'insomnia', 'hrt',\n",
    "                  'schizophrenia', 'ocd', 'other', 'schizoaffective disorder']\n",
    "freq_drug_conditions = df[df['drug'].isin(freq_drugs) & df['condition'].isin(freq_conditions)]\n",
    "\n",
    "freq_drug_conditions.head()"
   ]
  },
  {
   "cell_type": "code",
   "execution_count": 11,
   "id": "82af7776",
   "metadata": {},
   "outputs": [
    {
     "data": {
      "text/html": [
       "<div>\n",
       "<style scoped>\n",
       "    .dataframe tbody tr th:only-of-type {\n",
       "        vertical-align: middle;\n",
       "    }\n",
       "\n",
       "    .dataframe tbody tr th {\n",
       "        vertical-align: top;\n",
       "    }\n",
       "\n",
       "    .dataframe thead th {\n",
       "        text-align: right;\n",
       "    }\n",
       "</style>\n",
       "<table border=\"1\" class=\"dataframe\">\n",
       "  <thead>\n",
       "    <tr style=\"text-align: right;\">\n",
       "      <th></th>\n",
       "      <th>Sertraline</th>\n",
       "      <th>Escitalopram</th>\n",
       "      <th>Citalopram</th>\n",
       "      <th>Bupropion</th>\n",
       "      <th>Lexapro</th>\n",
       "      <th>Venlafaxine</th>\n",
       "      <th>Varenicline</th>\n",
       "      <th>Zoloft</th>\n",
       "      <th>Quetiapine</th>\n",
       "      <th>Clonazepam</th>\n",
       "    </tr>\n",
       "    <tr>\n",
       "      <th>condition</th>\n",
       "      <th></th>\n",
       "      <th></th>\n",
       "      <th></th>\n",
       "      <th></th>\n",
       "      <th></th>\n",
       "      <th></th>\n",
       "      <th></th>\n",
       "      <th></th>\n",
       "      <th></th>\n",
       "      <th></th>\n",
       "    </tr>\n",
       "  </thead>\n",
       "  <tbody>\n",
       "    <tr>\n",
       "      <th>depression</th>\n",
       "      <td>893.0</td>\n",
       "      <td>536.0</td>\n",
       "      <td>NaN</td>\n",
       "      <td>566.0</td>\n",
       "      <td>443.0</td>\n",
       "      <td>131.0</td>\n",
       "      <td>763.0</td>\n",
       "      <td>NaN</td>\n",
       "      <td>692.0</td>\n",
       "      <td>464.0</td>\n",
       "    </tr>\n",
       "    <tr>\n",
       "      <th>addiction</th>\n",
       "      <td>199.0</td>\n",
       "      <td>NaN</td>\n",
       "      <td>17.0</td>\n",
       "      <td>NaN</td>\n",
       "      <td>NaN</td>\n",
       "      <td>NaN</td>\n",
       "      <td>NaN</td>\n",
       "      <td>1079.0</td>\n",
       "      <td>NaN</td>\n",
       "      <td>NaN</td>\n",
       "    </tr>\n",
       "    <tr>\n",
       "      <th>anxiety</th>\n",
       "      <td>85.0</td>\n",
       "      <td>709.0</td>\n",
       "      <td>782.0</td>\n",
       "      <td>1061.0</td>\n",
       "      <td>751.0</td>\n",
       "      <td>100.0</td>\n",
       "      <td>841.0</td>\n",
       "      <td>NaN</td>\n",
       "      <td>432.0</td>\n",
       "      <td>441.0</td>\n",
       "    </tr>\n",
       "    <tr>\n",
       "      <th>bipolar</th>\n",
       "      <td>41.0</td>\n",
       "      <td>8.0</td>\n",
       "      <td>77.0</td>\n",
       "      <td>33.0</td>\n",
       "      <td>25.0</td>\n",
       "      <td>396.0</td>\n",
       "      <td>32.0</td>\n",
       "      <td>NaN</td>\n",
       "      <td>51.0</td>\n",
       "      <td>11.0</td>\n",
       "    </tr>\n",
       "    <tr>\n",
       "      <th>other</th>\n",
       "      <td>5.0</td>\n",
       "      <td>5.0</td>\n",
       "      <td>7.0</td>\n",
       "      <td>5.0</td>\n",
       "      <td>NaN</td>\n",
       "      <td>7.0</td>\n",
       "      <td>4.0</td>\n",
       "      <td>3.0</td>\n",
       "      <td>5.0</td>\n",
       "      <td>NaN</td>\n",
       "    </tr>\n",
       "    <tr>\n",
       "      <th>hrt</th>\n",
       "      <td>3.0</td>\n",
       "      <td>14.0</td>\n",
       "      <td>NaN</td>\n",
       "      <td>8.0</td>\n",
       "      <td>3.0</td>\n",
       "      <td>NaN</td>\n",
       "      <td>36.0</td>\n",
       "      <td>NaN</td>\n",
       "      <td>3.0</td>\n",
       "      <td>30.0</td>\n",
       "    </tr>\n",
       "    <tr>\n",
       "      <th>ocd</th>\n",
       "      <td>NaN</td>\n",
       "      <td>21.0</td>\n",
       "      <td>2.0</td>\n",
       "      <td>35.0</td>\n",
       "      <td>10.0</td>\n",
       "      <td>17.0</td>\n",
       "      <td>105.0</td>\n",
       "      <td>NaN</td>\n",
       "      <td>12.0</td>\n",
       "      <td>80.0</td>\n",
       "    </tr>\n",
       "    <tr>\n",
       "      <th>insomnia</th>\n",
       "      <td>NaN</td>\n",
       "      <td>NaN</td>\n",
       "      <td>103.0</td>\n",
       "      <td>NaN</td>\n",
       "      <td>NaN</td>\n",
       "      <td>243.0</td>\n",
       "      <td>NaN</td>\n",
       "      <td>NaN</td>\n",
       "      <td>NaN</td>\n",
       "      <td>NaN</td>\n",
       "    </tr>\n",
       "    <tr>\n",
       "      <th>schizoaffective disorder</th>\n",
       "      <td>NaN</td>\n",
       "      <td>NaN</td>\n",
       "      <td>NaN</td>\n",
       "      <td>NaN</td>\n",
       "      <td>NaN</td>\n",
       "      <td>32.0</td>\n",
       "      <td>NaN</td>\n",
       "      <td>NaN</td>\n",
       "      <td>NaN</td>\n",
       "      <td>NaN</td>\n",
       "    </tr>\n",
       "    <tr>\n",
       "      <th>schizophrenia</th>\n",
       "      <td>NaN</td>\n",
       "      <td>NaN</td>\n",
       "      <td>NaN</td>\n",
       "      <td>NaN</td>\n",
       "      <td>NaN</td>\n",
       "      <td>32.0</td>\n",
       "      <td>NaN</td>\n",
       "      <td>NaN</td>\n",
       "      <td>NaN</td>\n",
       "      <td>NaN</td>\n",
       "    </tr>\n",
       "  </tbody>\n",
       "</table>\n",
       "</div>"
      ],
      "text/plain": [
       "                          Sertraline  Escitalopram  Citalopram  Bupropion  \\\n",
       "condition                                                                   \n",
       "depression                     893.0         536.0         NaN      566.0   \n",
       "addiction                      199.0           NaN        17.0        NaN   \n",
       "anxiety                         85.0         709.0       782.0     1061.0   \n",
       "bipolar                         41.0           8.0        77.0       33.0   \n",
       "other                            5.0           5.0         7.0        5.0   \n",
       "hrt                              3.0          14.0         NaN        8.0   \n",
       "ocd                              NaN          21.0         2.0       35.0   \n",
       "insomnia                         NaN           NaN       103.0        NaN   \n",
       "schizoaffective disorder         NaN           NaN         NaN        NaN   \n",
       "schizophrenia                    NaN           NaN         NaN        NaN   \n",
       "\n",
       "                          Lexapro  Venlafaxine  Varenicline  Zoloft  \\\n",
       "condition                                                             \n",
       "depression                  443.0        131.0        763.0     NaN   \n",
       "addiction                     NaN          NaN          NaN  1079.0   \n",
       "anxiety                     751.0        100.0        841.0     NaN   \n",
       "bipolar                      25.0        396.0         32.0     NaN   \n",
       "other                         NaN          7.0          4.0     3.0   \n",
       "hrt                           3.0          NaN         36.0     NaN   \n",
       "ocd                          10.0         17.0        105.0     NaN   \n",
       "insomnia                      NaN        243.0          NaN     NaN   \n",
       "schizoaffective disorder      NaN         32.0          NaN     NaN   \n",
       "schizophrenia                 NaN         32.0          NaN     NaN   \n",
       "\n",
       "                          Quetiapine  Clonazepam  \n",
       "condition                                         \n",
       "depression                     692.0       464.0  \n",
       "addiction                        NaN         NaN  \n",
       "anxiety                        432.0       441.0  \n",
       "bipolar                         51.0        11.0  \n",
       "other                            5.0         NaN  \n",
       "hrt                              3.0        30.0  \n",
       "ocd                             12.0        80.0  \n",
       "insomnia                         NaN         NaN  \n",
       "schizoaffective disorder         NaN         NaN  \n",
       "schizophrenia                    NaN         NaN  "
      ]
     },
     "execution_count": 11,
     "metadata": {},
     "output_type": "execute_result"
    }
   ],
   "source": [
    "freq_combo_summary = freq_drug_conditions.pivot_table(index='condition', columns='drug', \n",
    "                                                    aggfunc='count', values='review')\n",
    "freq_combo_summary.columns = freq_drugs\n",
    "freq_combo_summary = freq_combo_summary.sort_values(by=freq_drugs, ascending=False)\n",
    "freq_combo_summary"
   ]
  },
  {
   "cell_type": "code",
   "execution_count": 12,
   "id": "f2e36f45",
   "metadata": {},
   "outputs": [
    {
     "data": {
      "image/png": "[encoded data removed]",
      "text/plain": [
       "<Figure size 640x480 with 2 Axes>"
      ]
     },
     "metadata": {},
     "output_type": "display_data"
    }
   ],
   "source": [
    "# Visualize distribution of reviews across common conditions & drugs with a heatmap.\n",
    "sns.heatmap(freq_combo_summary, cmap='gray_r')\n",
    "plt.show()"
   ]
  },
  {
   "cell_type": "markdown",
   "id": "e342196f",
   "metadata": {},
   "source": [
    "<font color='violet'> Which drugs & conditions have the highest ratings?"
   ]
  },
  {
   "cell_type": "code",
   "execution_count": 13,
   "id": "3297bf94",
   "metadata": {},
   "outputs": [
    {
     "data": {
      "text/plain": [
       "drug\n",
       "Hydrochlorothiazide / olmesartan    10.000000\n",
       "Undecylenic acid                    10.000000\n",
       "Vivelle                             10.000000\n",
       "Focalin XR                          10.000000\n",
       "lorazepam                           10.000000\n",
       "                                      ...    \n",
       "Micrainin                           10.000000\n",
       "Tiagabine                           10.000000\n",
       "Seconal Sodium                      10.000000\n",
       "Propofol                            10.000000\n",
       "Alprazolam Intensol                  9.833333\n",
       "Name: rating, Length: 80, dtype: float64"
      ]
     },
     "execution_count": 13,
     "metadata": {},
     "output_type": "execute_result"
    }
   ],
   "source": [
    "top_drugs = df.groupby(['drug'])['rating'].mean().sort_values(ascending=False)\n",
    "top_drugs.head(80)"
   ]
  },
  {
   "cell_type": "code",
   "execution_count": 14,
   "id": "f3350848",
   "metadata": {},
   "outputs": [
    {
     "data": {
      "text/plain": [
       "condition\n",
       "sad                  9.421053\n",
       "failure to thrive    9.333333\n",
       "did                  9.000000\n",
       "addiction            8.686826\n",
       "eating disorder      8.209302\n",
       "ocd                  8.082447\n",
       "nightmares           8.000000\n",
       "other                7.939189\n",
       "anxiety              7.750531\n",
       "ptsd                 7.685185\n",
       "Name: rating, dtype: float64"
      ]
     },
     "execution_count": 14,
     "metadata": {},
     "output_type": "execute_result"
    }
   ],
   "source": [
    "successful_conditions = df.groupby(['condition'])['rating'].mean().sort_values(\n",
    "    ascending=False)\n",
    "successful_conditions.head(10)"
   ]
  },
  {
   "cell_type": "code",
   "execution_count": 15,
   "id": "94993ff0",
   "metadata": {},
   "outputs": [
    {
     "data": {
      "text/plain": [
       "drug                 condition \n",
       "Effexor              asd           10.000000\n",
       "Asendin              depression    10.000000\n",
       "Niravam              depression    10.000000\n",
       "dextrostat           add           10.000000\n",
       "Tofranil             nightmares    10.000000\n",
       "                                     ...    \n",
       "Evzio                addiction     10.000000\n",
       "Pseudoephedrine      other         10.000000\n",
       "Pristiq              hrt           10.000000\n",
       "Methadone            other          9.875000\n",
       "Alprazolam Intensol  anxiety        9.833333\n",
       "Name: rating, Length: 140, dtype: float64"
      ]
     },
     "execution_count": 15,
     "metadata": {},
     "output_type": "execute_result"
    }
   ],
   "source": [
    "top_combo = df.groupby(['drug', 'condition'])['rating'].mean().sort_values(\n",
    "    ascending=False)\n",
    "top_combo.head(140)"
   ]
  },
  {
   "cell_type": "code",
   "execution_count": 16,
   "id": "66f02cd0",
   "metadata": {},
   "outputs": [
    {
     "data": {
      "text/plain": [
       "set()"
      ]
     },
     "execution_count": 16,
     "metadata": {},
     "output_type": "execute_result"
    }
   ],
   "source": [
    "top_freq_drugs = set(freq_drugs).intersection(set(top_drugs.index[0:79]))\n",
    "top_freq_drugs"
   ]
  },
  {
   "cell_type": "code",
   "execution_count": 17,
   "id": "d2c87e43",
   "metadata": {},
   "outputs": [
    {
     "data": {
      "text/plain": [
       "set()"
      ]
     },
     "execution_count": 17,
     "metadata": {},
     "output_type": "execute_result"
    }
   ],
   "source": [
    "top_freq_drugs_by_condition = set(freq_drugs).intersection(set(top_combo.index[0:138]))\n",
    "top_freq_drugs_by_condition"
   ]
  },
  {
   "cell_type": "code",
   "execution_count": 18,
   "id": "41d1c192",
   "metadata": {},
   "outputs": [
    {
     "data": {
      "text/plain": [
       "{'addiction', 'anxiety', 'ocd', 'other'}"
      ]
     },
     "execution_count": 18,
     "metadata": {},
     "output_type": "execute_result"
    }
   ],
   "source": [
    "successful_freq_conditions = set(freq_conditions).intersection(set(\n",
    "    successful_conditions.index[0:10]))\n",
    "successful_freq_conditions"
   ]
  },
  {
   "cell_type": "markdown",
   "id": "3fca0b5f",
   "metadata": {},
   "source": [
    "Anxiety, addction, and ocd are conditions for which there are many drug reviews and high rates of success with treatment. \n",
    "\n",
    "The 10 most frequently-reviewed drugs have nothing in common with the 79 perfectly-rated drugs or the 138 drugs that are rated perfectly for any single condition. My hypothesis is that these drugs may have only one or very few reviews each, which is how their average rating is so high. \n",
    "\n",
    "<font color='violet'> Explore distribution of ratings"
   ]
  },
  {
   "cell_type": "code",
   "execution_count": 19,
   "id": "81400476",
   "metadata": {},
   "outputs": [
    {
     "data": {
      "image/png": "[encoded data removed]",
      "text/plain": [
       "<Figure size 640x480 with 1 Axes>"
      ]
     },
     "metadata": {},
     "output_type": "display_data"
    }
   ],
   "source": [
    "sns.histplot(df.rating)\n",
    "plt.show()"
   ]
  },
  {
   "cell_type": "markdown",
   "id": "98405e08",
   "metadata": {},
   "source": [
    "More participants gave their drug a high review than gave low reviews, and even fewer gave mediocre reviews.\n",
    "\n",
    "Now, find out: of drugs that received an average rating of 10, how many reiews is that mean derived from?"
   ]
  },
  {
   "cell_type": "code",
   "execution_count": 20,
   "id": "df6f7756",
   "metadata": {},
   "outputs": [
    {
     "data": {
      "text/plain": [
       "drug\n",
       "Secobarbital         6\n",
       "Estratest H.S.       5\n",
       "Magnesium citrate    4\n",
       "Seconal              3\n",
       "Estropipate          3\n",
       "Seconal Sodium       3\n",
       "Diazepam Intensol    3\n",
       "Focalin XR           3\n",
       "Cenestin             3\n",
       "Tranxene SD          2\n",
       "Ciprofloxacin        2\n",
       "Eskalith-CR          2\n",
       "Ogen                 2\n",
       "Vivelle              2\n",
       "Isotretinoin         2\n",
       "chantix              2\n",
       "Regadenoson          1\n",
       "dtype: int64"
      ]
     },
     "execution_count": 20,
     "metadata": {},
     "output_type": "execute_result"
    }
   ],
   "source": [
    "perfect_avg_rating = set(top_drugs.index[0:79])\n",
    "df[df.drug.isin(perfect_avg_rating)].value_counts(subset='drug')[0:17]"
   ]
  },
  {
   "cell_type": "markdown",
   "id": "56190998",
   "metadata": {},
   "source": [
    "Of the 79 drugs with perfect average ratings, only 16 of them had more than one rating, and only 3 of them had more than 3 ratings. Given that there are about 50500 ratings and 650 drugs, the average number of ratings per drug is about 80, so the perfectly-rated drugs definitely seem like outliers. I'd not be surprised if a model eventually has a difficult time correctly classifying the extreme ratings, but for now I'll just keep this in mind and see what happens. \n",
    "\n",
    "<font color='violet'> What does the distribution of ratings look like for drugs with at least 20 ratings (20 = 25% of the average number of ratings)?"
   ]
  },
  {
   "cell_type": "code",
   "execution_count": 21,
   "id": "e9bba231",
   "metadata": {},
   "outputs": [
    {
     "data": {
      "text/html": [
       "<div>\n",
       "<style scoped>\n",
       "    .dataframe tbody tr th:only-of-type {\n",
       "        vertical-align: middle;\n",
       "    }\n",
       "\n",
       "    .dataframe tbody tr th {\n",
       "        vertical-align: top;\n",
       "    }\n",
       "\n",
       "    .dataframe thead th {\n",
       "        text-align: right;\n",
       "    }\n",
       "</style>\n",
       "<table border=\"1\" class=\"dataframe\">\n",
       "  <thead>\n",
       "    <tr style=\"text-align: right;\">\n",
       "      <th></th>\n",
       "      <th>drug</th>\n",
       "      <th>rating</th>\n",
       "      <th>condition</th>\n",
       "      <th>review</th>\n",
       "      <th>date</th>\n",
       "      <th>ratings_count</th>\n",
       "    </tr>\n",
       "  </thead>\n",
       "  <tbody>\n",
       "    <tr>\n",
       "      <th>19385</th>\n",
       "      <td>Silver sulfadiazine</td>\n",
       "      <td>9.0</td>\n",
       "      <td>other</td>\n",
       "      <td>\"Works well, but I get a bit short of breath a...</td>\n",
       "      <td>July 1, 2016</td>\n",
       "      <td>1</td>\n",
       "    </tr>\n",
       "    <tr>\n",
       "      <th>44539</th>\n",
       "      <td>Brisdelle</td>\n",
       "      <td>7.0</td>\n",
       "      <td>hrt</td>\n",
       "      <td>\"I have been on Brisdelle for 3 yrs now at fir...</td>\n",
       "      <td>August 24, 2016</td>\n",
       "      <td>1</td>\n",
       "    </tr>\n",
       "    <tr>\n",
       "      <th>44568</th>\n",
       "      <td>Dimethyl sulfoxide</td>\n",
       "      <td>10.0</td>\n",
       "      <td>other</td>\n",
       "      <td>\"I have used DMSO for many things related to p...</td>\n",
       "      <td>March 13, 2013</td>\n",
       "      <td>1</td>\n",
       "    </tr>\n",
       "    <tr>\n",
       "      <th>35596</th>\n",
       "      <td>Cholestyramine</td>\n",
       "      <td>10.0</td>\n",
       "      <td>other</td>\n",
       "      <td>\"I have used this for 1 year and have no side ...</td>\n",
       "      <td>February 26, 2011</td>\n",
       "      <td>1</td>\n",
       "    </tr>\n",
       "    <tr>\n",
       "      <th>9404</th>\n",
       "      <td>Hydrocortisone / neomycin / polymyxin b</td>\n",
       "      <td>1.0</td>\n",
       "      <td>other</td>\n",
       "      <td>\"I went to my doctor for earache relief and I ...</td>\n",
       "      <td>May 29, 2016</td>\n",
       "      <td>1</td>\n",
       "    </tr>\n",
       "    <tr>\n",
       "      <th>...</th>\n",
       "      <td>...</td>\n",
       "      <td>...</td>\n",
       "      <td>...</td>\n",
       "      <td>...</td>\n",
       "      <td>...</td>\n",
       "      <td>...</td>\n",
       "    </tr>\n",
       "    <tr>\n",
       "      <th>45820</th>\n",
       "      <td>Sertraline</td>\n",
       "      <td>10.0</td>\n",
       "      <td>anxiety</td>\n",
       "      <td>\"Worked wonders for me. Changed my life. I hav...</td>\n",
       "      <td>July 15, 2008</td>\n",
       "      <td>1855</td>\n",
       "    </tr>\n",
       "    <tr>\n",
       "      <th>11268</th>\n",
       "      <td>Sertraline</td>\n",
       "      <td>8.0</td>\n",
       "      <td>anxiety</td>\n",
       "      <td>\"I am on day 16 of 50mg and I am starting to f...</td>\n",
       "      <td>January 6, 2015</td>\n",
       "      <td>1855</td>\n",
       "    </tr>\n",
       "    <tr>\n",
       "      <th>29321</th>\n",
       "      <td>Sertraline</td>\n",
       "      <td>10.0</td>\n",
       "      <td>hrt</td>\n",
       "      <td>\"I was on Lexapro for almost 5 years for depre...</td>\n",
       "      <td>February 3, 2013</td>\n",
       "      <td>1855</td>\n",
       "    </tr>\n",
       "    <tr>\n",
       "      <th>43521</th>\n",
       "      <td>Sertraline</td>\n",
       "      <td>2.0</td>\n",
       "      <td>depression</td>\n",
       "      <td>\"I started taking this medicine over a week ag...</td>\n",
       "      <td>September 20, 2016</td>\n",
       "      <td>1855</td>\n",
       "    </tr>\n",
       "    <tr>\n",
       "      <th>43127</th>\n",
       "      <td>Sertraline</td>\n",
       "      <td>7.0</td>\n",
       "      <td>depression</td>\n",
       "      <td>\"I also suffer from anxiety and I take 50mg in...</td>\n",
       "      <td>March 1, 2009</td>\n",
       "      <td>1855</td>\n",
       "    </tr>\n",
       "  </tbody>\n",
       "</table>\n",
       "<p>50652 rows × 6 columns</p>\n",
       "</div>"
      ],
      "text/plain": [
       "                                          drug  rating   condition  \\\n",
       "19385                      Silver sulfadiazine     9.0       other   \n",
       "44539                                Brisdelle     7.0         hrt   \n",
       "44568                       Dimethyl sulfoxide    10.0       other   \n",
       "35596                           Cholestyramine    10.0       other   \n",
       "9404   Hydrocortisone / neomycin / polymyxin b     1.0       other   \n",
       "...                                        ...     ...         ...   \n",
       "45820                               Sertraline    10.0     anxiety   \n",
       "11268                               Sertraline     8.0     anxiety   \n",
       "29321                               Sertraline    10.0         hrt   \n",
       "43521                               Sertraline     2.0  depression   \n",
       "43127                               Sertraline     7.0  depression   \n",
       "\n",
       "                                                  review                date  \\\n",
       "19385  \"Works well, but I get a bit short of breath a...        July 1, 2016   \n",
       "44539  \"I have been on Brisdelle for 3 yrs now at fir...     August 24, 2016   \n",
       "44568  \"I have used DMSO for many things related to p...      March 13, 2013   \n",
       "35596  \"I have used this for 1 year and have no side ...   February 26, 2011   \n",
       "9404   \"I went to my doctor for earache relief and I ...        May 29, 2016   \n",
       "...                                                  ...                 ...   \n",
       "45820  \"Worked wonders for me. Changed my life. I hav...       July 15, 2008   \n",
       "11268  \"I am on day 16 of 50mg and I am starting to f...     January 6, 2015   \n",
       "29321  \"I was on Lexapro for almost 5 years for depre...    February 3, 2013   \n",
       "43521  \"I started taking this medicine over a week ag...  September 20, 2016   \n",
       "43127  \"I also suffer from anxiety and I take 50mg in...       March 1, 2009   \n",
       "\n",
       "       ratings_count  \n",
       "19385              1  \n",
       "44539              1  \n",
       "44568              1  \n",
       "35596              1  \n",
       "9404               1  \n",
       "...              ...  \n",
       "45820           1855  \n",
       "11268           1855  \n",
       "29321           1855  \n",
       "43521           1855  \n",
       "43127           1855  \n",
       "\n",
       "[50652 rows x 6 columns]"
      ]
     },
     "execution_count": 21,
     "metadata": {},
     "output_type": "execute_result"
    }
   ],
   "source": [
    "df['ratings_count'] = df.groupby(['drug'])['drug'].transform('count')\n",
    "df.sort_values('ratings_count')"
   ]
  },
  {
   "cell_type": "code",
   "execution_count": 22,
   "id": "6a3d2255",
   "metadata": {},
   "outputs": [
    {
     "data": {
      "text/html": [
       "<div>\n",
       "<style scoped>\n",
       "    .dataframe tbody tr th:only-of-type {\n",
       "        vertical-align: middle;\n",
       "    }\n",
       "\n",
       "    .dataframe tbody tr th {\n",
       "        vertical-align: top;\n",
       "    }\n",
       "\n",
       "    .dataframe thead th {\n",
       "        text-align: right;\n",
       "    }\n",
       "</style>\n",
       "<table border=\"1\" class=\"dataframe\">\n",
       "  <thead>\n",
       "    <tr style=\"text-align: right;\">\n",
       "      <th></th>\n",
       "      <th>drug</th>\n",
       "      <th>rating</th>\n",
       "      <th>condition</th>\n",
       "      <th>review</th>\n",
       "      <th>date</th>\n",
       "      <th>ratings_count</th>\n",
       "    </tr>\n",
       "  </thead>\n",
       "  <tbody>\n",
       "    <tr>\n",
       "      <th>20018</th>\n",
       "      <td>Budeprion XL</td>\n",
       "      <td>9.0</td>\n",
       "      <td>depression</td>\n",
       "      <td>\"I have been using Budeprion for about 3 month...</td>\n",
       "      <td>November 19, 2011</td>\n",
       "      <td>20</td>\n",
       "    </tr>\n",
       "    <tr>\n",
       "      <th>19072</th>\n",
       "      <td>Angeliq</td>\n",
       "      <td>10.0</td>\n",
       "      <td>hrt</td>\n",
       "      <td>\"I am 59 years old. I had all the symptoms of ...</td>\n",
       "      <td>October 27, 2016</td>\n",
       "      <td>20</td>\n",
       "    </tr>\n",
       "    <tr>\n",
       "      <th>19312</th>\n",
       "      <td>Memantine</td>\n",
       "      <td>1.0</td>\n",
       "      <td>alzheimers</td>\n",
       "      <td>\"My wife began the 4 stage process a couple of...</td>\n",
       "      <td>June 27, 2014</td>\n",
       "      <td>20</td>\n",
       "    </tr>\n",
       "    <tr>\n",
       "      <th>49228</th>\n",
       "      <td>Drospirenone / estradiol</td>\n",
       "      <td>10.0</td>\n",
       "      <td>hrt</td>\n",
       "      <td>\"Well it changed my life. I was only 43 and ev...</td>\n",
       "      <td>December 12, 2008</td>\n",
       "      <td>20</td>\n",
       "    </tr>\n",
       "    <tr>\n",
       "      <th>40570</th>\n",
       "      <td>Drospirenone / estradiol</td>\n",
       "      <td>2.0</td>\n",
       "      <td>hrt</td>\n",
       "      <td>\"Lots of side effects especially breast pain a...</td>\n",
       "      <td>January 5, 2016</td>\n",
       "      <td>20</td>\n",
       "    </tr>\n",
       "    <tr>\n",
       "      <th>...</th>\n",
       "      <td>...</td>\n",
       "      <td>...</td>\n",
       "      <td>...</td>\n",
       "      <td>...</td>\n",
       "      <td>...</td>\n",
       "      <td>...</td>\n",
       "    </tr>\n",
       "    <tr>\n",
       "      <th>19675</th>\n",
       "      <td>Sertraline</td>\n",
       "      <td>10.0</td>\n",
       "      <td>anxiety</td>\n",
       "      <td>\"My 18 year old son was diagnosed with panic d...</td>\n",
       "      <td>December 8, 2014</td>\n",
       "      <td>1855</td>\n",
       "    </tr>\n",
       "    <tr>\n",
       "      <th>34582</th>\n",
       "      <td>Sertraline</td>\n",
       "      <td>8.0</td>\n",
       "      <td>ptsd</td>\n",
       "      <td>\"As someone that HATES crowds &amp;amp; dealing wi...</td>\n",
       "      <td>November 12, 2015</td>\n",
       "      <td>1855</td>\n",
       "    </tr>\n",
       "    <tr>\n",
       "      <th>29253</th>\n",
       "      <td>Sertraline</td>\n",
       "      <td>8.0</td>\n",
       "      <td>anxiety</td>\n",
       "      <td>\"Having suffered with severe depression &amp;amp; ...</td>\n",
       "      <td>May 7, 2017</td>\n",
       "      <td>1855</td>\n",
       "    </tr>\n",
       "    <tr>\n",
       "      <th>34578</th>\n",
       "      <td>Sertraline</td>\n",
       "      <td>8.0</td>\n",
       "      <td>depression</td>\n",
       "      <td>\"I started taking this drug to battle mild dep...</td>\n",
       "      <td>July 29, 2016</td>\n",
       "      <td>1855</td>\n",
       "    </tr>\n",
       "    <tr>\n",
       "      <th>18789</th>\n",
       "      <td>Sertraline</td>\n",
       "      <td>10.0</td>\n",
       "      <td>anxiety</td>\n",
       "      <td>\"Please give this medicine a try. I have had s...</td>\n",
       "      <td>December 1, 2014</td>\n",
       "      <td>1855</td>\n",
       "    </tr>\n",
       "  </tbody>\n",
       "</table>\n",
       "<p>48653 rows × 6 columns</p>\n",
       "</div>"
      ],
      "text/plain": [
       "                           drug  rating   condition  \\\n",
       "20018              Budeprion XL     9.0  depression   \n",
       "19072                   Angeliq    10.0         hrt   \n",
       "19312                 Memantine     1.0  alzheimers   \n",
       "49228  Drospirenone / estradiol    10.0         hrt   \n",
       "40570  Drospirenone / estradiol     2.0         hrt   \n",
       "...                         ...     ...         ...   \n",
       "19675                Sertraline    10.0     anxiety   \n",
       "34582                Sertraline     8.0        ptsd   \n",
       "29253                Sertraline     8.0     anxiety   \n",
       "34578                Sertraline     8.0  depression   \n",
       "18789                Sertraline    10.0     anxiety   \n",
       "\n",
       "                                                  review               date  \\\n",
       "20018  \"I have been using Budeprion for about 3 month...  November 19, 2011   \n",
       "19072  \"I am 59 years old. I had all the symptoms of ...   October 27, 2016   \n",
       "19312  \"My wife began the 4 stage process a couple of...      June 27, 2014   \n",
       "49228  \"Well it changed my life. I was only 43 and ev...  December 12, 2008   \n",
       "40570  \"Lots of side effects especially breast pain a...    January 5, 2016   \n",
       "...                                                  ...                ...   \n",
       "19675  \"My 18 year old son was diagnosed with panic d...   December 8, 2014   \n",
       "34582  \"As someone that HATES crowds &amp; dealing wi...  November 12, 2015   \n",
       "29253  \"Having suffered with severe depression &amp; ...        May 7, 2017   \n",
       "34578  \"I started taking this drug to battle mild dep...      July 29, 2016   \n",
       "18789  \"Please give this medicine a try. I have had s...   December 1, 2014   \n",
       "\n",
       "       ratings_count  \n",
       "20018             20  \n",
       "19072             20  \n",
       "19312             20  \n",
       "49228             20  \n",
       "40570             20  \n",
       "...              ...  \n",
       "19675           1855  \n",
       "34582           1855  \n",
       "29253           1855  \n",
       "34578           1855  \n",
       "18789           1855  \n",
       "\n",
       "[48653 rows x 6 columns]"
      ]
     },
     "execution_count": 22,
     "metadata": {},
     "output_type": "execute_result"
    }
   ],
   "source": [
    "twenty_plus_ratings = df[df.ratings_count>=20]\n",
    "twenty_plus_ratings.sort_values('ratings_count')"
   ]
  },
  {
   "cell_type": "code",
   "execution_count": 23,
   "id": "6e22fc77",
   "metadata": {},
   "outputs": [
    {
     "data": {
      "image/png": "[encoded data removed]",
      "text/plain": [
       "<Figure size 640x480 with 1 Axes>"
      ]
     },
     "metadata": {},
     "output_type": "display_data"
    }
   ],
   "source": [
    "sns.histplot(twenty_plus_ratings.rating)\n",
    "plt.show()"
   ]
  },
  {
   "cell_type": "markdown",
   "id": "3fed63e2",
   "metadata": {},
   "source": [
    "This distribution doesn't look grossly different from that which includes all reviews, so it's probably a good idea to keep all rows in the dataset when moving forward.  \n",
    "\n",
    "<font color='violet'> What is the relationship between date and reviews?"
   ]
  },
  {
   "cell_type": "code",
   "execution_count": 24,
   "id": "4432b9df",
   "metadata": {},
   "outputs": [
    {
     "data": {
      "text/plain": [
       "array(['0', 'February 28, 2012', 'October 18, 2016', ...,\n",
       "       'January 13, 2009', 'December 12, 2017', 'December 12, 2009'],\n",
       "      dtype=object)"
      ]
     },
     "execution_count": 24,
     "metadata": {},
     "output_type": "execute_result"
    }
   ],
   "source": [
    "df.date.unique()"
   ]
  },
  {
   "cell_type": "code",
   "execution_count": 25,
   "id": "5d1a160b",
   "metadata": {},
   "outputs": [
    {
     "data": {
      "text/plain": [
       "0                      NaN\n",
       "1                      NaN\n",
       "2                      NaN\n",
       "3                      NaN\n",
       "4                      NaN\n",
       "               ...        \n",
       "50647    November 10, 2016\n",
       "50648        July 17, 2016\n",
       "50649      August 16, 2016\n",
       "50650     January 21, 2015\n",
       "50651         May 31, 2015\n",
       "Name: date, Length: 50652, dtype: object"
      ]
     },
     "execution_count": 25,
     "metadata": {},
     "output_type": "execute_result"
    }
   ],
   "source": [
    "df.date = df.date.replace('0', np.nan)\n",
    "df.date"
   ]
  },
  {
   "cell_type": "code",
   "execution_count": 26,
   "id": "cee991e9",
   "metadata": {},
   "outputs": [
    {
     "data": {
      "text/plain": [
       "0              NaT\n",
       "1              NaT\n",
       "2              NaT\n",
       "3              NaT\n",
       "4              NaT\n",
       "           ...    \n",
       "50647   2016-11-10\n",
       "50648   2016-07-17\n",
       "50649   2016-08-16\n",
       "50650   2015-01-21\n",
       "50651   2015-05-31\n",
       "Name: date, Length: 50652, dtype: datetime64[ns]"
      ]
     },
     "execution_count": 26,
     "metadata": {},
     "output_type": "execute_result"
    }
   ],
   "source": [
    "df.date = pd.to_datetime(df.date)\n",
    "df.date"
   ]
  },
  {
   "cell_type": "code",
   "execution_count": 27,
   "id": "b4757d8f",
   "metadata": {},
   "outputs": [
    {
     "data": {
      "image/png": "[encoded data removed]",
      "text/plain": [
       "<Figure size 640x480 with 1 Axes>"
      ]
     },
     "metadata": {},
     "output_type": "display_data"
    }
   ],
   "source": [
    "sns.lineplot(data=df, x='date', y='rating')\n",
    "plt.show()"
   ]
  },
  {
   "cell_type": "markdown",
   "id": "3fec82c4",
   "metadata": {},
   "source": [
    "This looks like something other than total random noise, like maybe there were some current events happening around 2009 and again in 2015 that led people to start rating their psych meds less favorably. There may also be some annual seaonality. Whatever the reason, it seems that date could be correlated with rating and should not be removed. Process this column further to better understand the relationship between date and rating. "
   ]
  },
  {
   "cell_type": "code",
   "execution_count": null,
   "id": "dc0d4307",
   "metadata": {},
   "outputs": [],
   "source": []
  },
  {
   "cell_type": "markdown",
   "id": "f33f9836",
   "metadata": {},
   "source": [
    "<font color='violet'> Parse Language\n",
    "    \n",
    "The review column contains narratives where patients explain their experience with a prescription psych med. Language features from that column need to be extracted or created after any necessary cleaning of strings has been completed. Do any preparations necessary to conduct sentiment analysis. I'll be drawing quite a bit from the following resource: https://towardsdatascience.com/a-practitioners-guide-to-natural-language-processing-part-i-processing-understanding-text-9f4abfd13e72"
   ]
  },
  {
   "cell_type": "code",
   "execution_count": 28,
   "id": "46517f38",
   "metadata": {},
   "outputs": [
    {
     "data": {
      "text/plain": [
       "'I had began taking 20mg of Vyvanse for three months and was surprised to find that such a small dose affected my mood so effectively.  When it came to school work though I found that I needed the 30mg to increase my level of focus (and have been on it for a month since).  I had not experienced decreased appetite until about a month into taking the 20mg.  I find that the greatest benefit of Vyvanse for me is that it tends to stabalize my mood on a daily basis and lessens any bouts of anxiety and depression that i used to face before I was perscribed. a few experiences of nausiea, heavy moodswings on the days I do not take it, decreased appetite, and some negative affect on my short-term memory. My mood has noticably improved, I have more energy, experience better sleep and digestion.'"
      ]
     },
     "execution_count": 28,
     "metadata": {},
     "output_type": "execute_result"
    }
   ],
   "source": [
    "# View a sample string. Search for special characters.\n",
    "df.review[0]"
   ]
  },
  {
   "cell_type": "code",
   "execution_count": 29,
   "id": "791e7c2f",
   "metadata": {},
   "outputs": [
    {
     "data": {
      "text/html": [
       "<div>\n",
       "<style scoped>\n",
       "    .dataframe tbody tr th:only-of-type {\n",
       "        vertical-align: middle;\n",
       "    }\n",
       "\n",
       "    .dataframe tbody tr th {\n",
       "        vertical-align: top;\n",
       "    }\n",
       "\n",
       "    .dataframe thead th {\n",
       "        text-align: right;\n",
       "    }\n",
       "</style>\n",
       "<table border=\"1\" class=\"dataframe\">\n",
       "  <thead>\n",
       "    <tr style=\"text-align: right;\">\n",
       "      <th></th>\n",
       "      <th>drug</th>\n",
       "      <th>rating</th>\n",
       "      <th>condition</th>\n",
       "      <th>review</th>\n",
       "      <th>date</th>\n",
       "      <th>ratings_count</th>\n",
       "    </tr>\n",
       "  </thead>\n",
       "  <tbody>\n",
       "  </tbody>\n",
       "</table>\n",
       "</div>"
      ],
      "text/plain": [
       "Empty DataFrame\n",
       "Columns: [drug, rating, condition, review, date, ratings_count]\n",
       "Index: []"
      ]
     },
     "execution_count": 29,
     "metadata": {},
     "output_type": "execute_result"
    }
   ],
   "source": [
    "df[df['review'].str.find(\"é\")!=-1].head(1)"
   ]
  },
  {
   "cell_type": "code",
   "execution_count": 30,
   "id": "deaaea37",
   "metadata": {},
   "outputs": [
    {
     "data": {
      "text/html": [
       "<div>\n",
       "<style scoped>\n",
       "    .dataframe tbody tr th:only-of-type {\n",
       "        vertical-align: middle;\n",
       "    }\n",
       "\n",
       "    .dataframe tbody tr th {\n",
       "        vertical-align: top;\n",
       "    }\n",
       "\n",
       "    .dataframe thead th {\n",
       "        text-align: right;\n",
       "    }\n",
       "</style>\n",
       "<table border=\"1\" class=\"dataframe\">\n",
       "  <thead>\n",
       "    <tr style=\"text-align: right;\">\n",
       "      <th></th>\n",
       "      <th>drug</th>\n",
       "      <th>rating</th>\n",
       "      <th>condition</th>\n",
       "      <th>review</th>\n",
       "      <th>date</th>\n",
       "      <th>ratings_count</th>\n",
       "    </tr>\n",
       "  </thead>\n",
       "  <tbody>\n",
       "  </tbody>\n",
       "</table>\n",
       "</div>"
      ],
      "text/plain": [
       "Empty DataFrame\n",
       "Columns: [drug, rating, condition, review, date, ratings_count]\n",
       "Index: []"
      ]
     },
     "execution_count": 30,
     "metadata": {},
     "output_type": "execute_result"
    }
   ],
   "source": [
    "df[df['review'].str.find(\"ä\")!=-1].head(1)"
   ]
  },
  {
   "cell_type": "markdown",
   "id": "0f48a3bb",
   "metadata": {},
   "source": [
    "<font color='violet'> Remove Special Characters\n",
    "\n",
    "...if there are any. Haven't been able to find any of the most common special characters é or ä in the data, but doing it just in case. "
   ]
  },
  {
   "cell_type": "code",
   "execution_count": 31,
   "id": "76b71dbc",
   "metadata": {},
   "outputs": [],
   "source": [
    "# This function works in the test suite, but there may not be examples in the data\n",
    "df['review'] = df['review'].apply(remove_accented_chars)"
   ]
  },
  {
   "cell_type": "markdown",
   "id": "ae25ec35",
   "metadata": {},
   "source": [
    "<font color='violet'> Expand Contractions"
   ]
  },
  {
   "cell_type": "code",
   "execution_count": 32,
   "id": "03f7c7b4",
   "metadata": {},
   "outputs": [
    {
     "data": {
      "text/html": [
       "<div>\n",
       "<style scoped>\n",
       "    .dataframe tbody tr th:only-of-type {\n",
       "        vertical-align: middle;\n",
       "    }\n",
       "\n",
       "    .dataframe tbody tr th {\n",
       "        vertical-align: top;\n",
       "    }\n",
       "\n",
       "    .dataframe thead th {\n",
       "        text-align: right;\n",
       "    }\n",
       "</style>\n",
       "<table border=\"1\" class=\"dataframe\">\n",
       "  <thead>\n",
       "    <tr style=\"text-align: right;\">\n",
       "      <th></th>\n",
       "      <th>drug</th>\n",
       "      <th>rating</th>\n",
       "      <th>condition</th>\n",
       "      <th>review</th>\n",
       "      <th>date</th>\n",
       "      <th>ratings_count</th>\n",
       "    </tr>\n",
       "  </thead>\n",
       "  <tbody>\n",
       "    <tr>\n",
       "      <th>9</th>\n",
       "      <td>concerta</td>\n",
       "      <td>8.0</td>\n",
       "      <td>adhd</td>\n",
       "      <td>The treatment details were pretty basic.  I ju...</td>\n",
       "      <td>NaT</td>\n",
       "      <td>13</td>\n",
       "    </tr>\n",
       "  </tbody>\n",
       "</table>\n",
       "</div>"
      ],
      "text/plain": [
       "       drug  rating condition  \\\n",
       "9  concerta     8.0      adhd   \n",
       "\n",
       "                                              review date  ratings_count  \n",
       "9  The treatment details were pretty basic.  I ju...  NaT             13  "
      ]
     },
     "execution_count": 32,
     "metadata": {},
     "output_type": "execute_result"
    }
   ],
   "source": [
    "# First, find some to confirm it works. \n",
    "df[df['review'].str.find(\"'\")!=-1].head(1)"
   ]
  },
  {
   "cell_type": "code",
   "execution_count": 33,
   "id": "01f946b7",
   "metadata": {},
   "outputs": [
    {
     "data": {
      "text/plain": [
       "\"The treatment details were pretty basic.  I just took the medication in the morning at the same time of day every day.  I was allowed to skip it on the weekends or less busy times if I so desired.  I really don't have anything else to put for this section of the survey.  I'm trying to fill up the 50 word requirement though.  You shouldn't really have that requirement on this form.  It seems kind of silly to be writing with nothing left to say. Some of the side affects that I had were:  my stomach would hurt sometimes and other times it was difficult to eat without getting queezy.  I didn't have much of an appetite.  When the medicine wore off, it seemed to have a strong rebound effect and things became difficult for me during that last several hours of my day. I liked taking the medication, I just wish it would have lasted longer during the day.  By 3p-5pm it had wore off and that seemed to by my busiest time of day with the kids, dinner and house stuff all at once. I did not have any other conditions.  Just an inability to focus, hyperactivity, and impulsive behavior.  I had a hard time staying organized and difficulty completing tasks.  I also had difficulty staying with one job for too long.  I had a hard time sustaining reading without getting really tired, and I also had a hard time controlling my emotional outbursts.  The  Concerta really helped me control all of those things.\""
      ]
     },
     "execution_count": 33,
     "metadata": {},
     "output_type": "execute_result"
    }
   ],
   "source": [
    "df.review[9]"
   ]
  },
  {
   "cell_type": "code",
   "execution_count": 34,
   "id": "e49e1fa3",
   "metadata": {},
   "outputs": [
    {
     "data": {
      "text/plain": [
       "'The treatment details were pretty basic.  I just took the medication in the morning at the same time of day every day.  I was allowed to skip it on the weekends or less busy times if I so desired.  I really do not have anything else to put for this section of the survey.  I am trying to fill up the 50 word requirement though.  You should not really have that requirement on this form.  It seems kind of silly to be writing with nothing left to say. Some of the side affects that I had were:  my stomach would hurt sometimes and other times it was difficult to eat without getting queezy.  I did not have much of an appetite.  When the medicine wore off, it seemed to have a strong rebound effect and things became difficult for me during that last several hours of my day. I liked taking the medication, I just wish it would have lasted longer during the day.  By 3p-5pm it had wore off and that seemed to by my busiest time of day with the kids, dinner and house stuff all at once. I did not have any other conditions.  Just an inability to focus, hyperactivity, and impulsive behavior.  I had a hard time staying organized and difficulty completing tasks.  I also had difficulty staying with one job for too long.  I had a hard time sustaining reading without getting really tired, and I also had a hard time controlling my emotional outbursts.  The  Concerta really helped me control all of those things.'"
      ]
     },
     "execution_count": 34,
     "metadata": {},
     "output_type": "execute_result"
    }
   ],
   "source": [
    "df['review'] = df['review'].apply(contractions.fix)\n",
    "df.review[9]"
   ]
  },
  {
   "cell_type": "markdown",
   "id": "e1d1f4d1",
   "metadata": {},
   "source": [
    "\"Don't\" got changed to \"do not\"; contraction expansion worked. \n",
    "\n",
    "<font color='violet'> Next, remove punctuation/special characters where appropriate. \n",
    "    \n",
    "Try to keep those correlated with sentiment: ! ? # % ;) :( .  Again, first find an example to confirm it works."
   ]
  },
  {
   "cell_type": "code",
   "execution_count": 35,
   "id": "386e580f",
   "metadata": {},
   "outputs": [
    {
     "data": {
      "text/html": [
       "<div>\n",
       "<style scoped>\n",
       "    .dataframe tbody tr th:only-of-type {\n",
       "        vertical-align: middle;\n",
       "    }\n",
       "\n",
       "    .dataframe tbody tr th {\n",
       "        vertical-align: top;\n",
       "    }\n",
       "\n",
       "    .dataframe thead th {\n",
       "        text-align: right;\n",
       "    }\n",
       "</style>\n",
       "<table border=\"1\" class=\"dataframe\">\n",
       "  <thead>\n",
       "    <tr style=\"text-align: right;\">\n",
       "      <th></th>\n",
       "      <th>drug</th>\n",
       "      <th>rating</th>\n",
       "      <th>condition</th>\n",
       "      <th>review</th>\n",
       "      <th>date</th>\n",
       "      <th>ratings_count</th>\n",
       "    </tr>\n",
       "  </thead>\n",
       "  <tbody>\n",
       "    <tr>\n",
       "      <th>6</th>\n",
       "      <td>vyvanse</td>\n",
       "      <td>7.0</td>\n",
       "      <td>add</td>\n",
       "      <td>So far the throwing up has stopped and the hea...</td>\n",
       "      <td>NaT</td>\n",
       "      <td>21</td>\n",
       "    </tr>\n",
       "  </tbody>\n",
       "</table>\n",
       "</div>"
      ],
      "text/plain": [
       "      drug  rating condition  \\\n",
       "6  vyvanse     7.0       add   \n",
       "\n",
       "                                              review date  ratings_count  \n",
       "6  So far the throwing up has stopped and the hea...  NaT             21  "
      ]
     },
     "execution_count": 35,
     "metadata": {},
     "output_type": "execute_result"
    }
   ],
   "source": [
    "df[df['review'].str.find(\"!\")!=-1].head(1)"
   ]
  },
  {
   "cell_type": "code",
   "execution_count": 36,
   "id": "d22cf3ed",
   "metadata": {},
   "outputs": [
    {
     "data": {
      "text/plain": [
       "'So far the throwing up has stopped and the headaches come and go no food even looks good to eat no cravings very easy to diet ;) and passing all my finals was AMAZING. This drug makes strattera look like tylenol! throwing up alot, bad headaches, twitching, crazy heart beat, loss of appetite (which is a plus in my eyes), and happy thoughts (like \"wow i am soo beautiful\" for some reason would pop in my head alot), as well as some negative thoughts and worrying about homework constantly which is fine to because i would get it all done. I needed to switch from straterra which made me very very depressed quiet and i slept for like an hour each night with that drug it was horrible. I switched to Vyvanse and the first time i took it, it was like an anti deppresant at first i was the normal happy hyper me but i could still focus very well on studying but when i started comming down from it that was the worst i was dry heaving with a TERRIBLE HEADACHE for an hour and then i would just throw everything up it made me very irritated i would twitch ALOT and my heart beat was fast and very heavy but after my second day my body started getting use to it and i have not had anymore problems with it.'"
      ]
     },
     "execution_count": 36,
     "metadata": {},
     "output_type": "execute_result"
    }
   ],
   "source": [
    "df.review[6]"
   ]
  },
  {
   "cell_type": "code",
   "execution_count": 37,
   "id": "75d66da5",
   "metadata": {},
   "outputs": [
    {
     "name": "stderr",
     "output_type": "stream",
     "text": [
      "100%|██████████| 50652/50652 [01:01<00:00, 822.98it/s] \n"
     ]
    },
    {
     "data": {
      "text/plain": [
       "'So far the throwing up has stopped and the headaches come and go no food even looks good to eat no cravings very easy to diet ;) and passing all my finals was AMAZING This drug makes strattera look like tylenol! throwing up alot bad headaches twitching crazy heart beat loss of appetite (which is a plus in my eyes) and happy thoughts (like wow i am soo beautiful for some reason would pop in my head alot) as well as some negative thoughts and worrying about homework constantly which is fine to because i would get it all done I needed to switch from straterra which made me very very depressed quiet and i slept for like an hour each night with that drug it was horrible I switched to Vyvanse and the first time i took it it was like an anti deppresant at first i was the normal happy hyper me but i could still focus very well on studying but when i started comming down from it that was the worst i was dry heaving with a TERRIBLE HEADACHE for an hour and then i would just throw everything up it made me very irritated i would twitch ALOT and my heart beat was fast and very heavy but after my second day my body started getting use to it and i have not had anymore problems with it'"
      ]
     },
     "execution_count": 37,
     "metadata": {},
     "output_type": "execute_result"
    }
   ],
   "source": [
    "strip_most_punc(df, 'review')\n",
    "df.review[6]"
   ]
  },
  {
   "cell_type": "code",
   "execution_count": 38,
   "id": "97e2cab0",
   "metadata": {},
   "outputs": [
    {
     "data": {
      "text/html": [
       "<div>\n",
       "<style scoped>\n",
       "    .dataframe tbody tr th:only-of-type {\n",
       "        vertical-align: middle;\n",
       "    }\n",
       "\n",
       "    .dataframe tbody tr th {\n",
       "        vertical-align: top;\n",
       "    }\n",
       "\n",
       "    .dataframe thead th {\n",
       "        text-align: right;\n",
       "    }\n",
       "</style>\n",
       "<table border=\"1\" class=\"dataframe\">\n",
       "  <thead>\n",
       "    <tr style=\"text-align: right;\">\n",
       "      <th></th>\n",
       "      <th>drug</th>\n",
       "      <th>rating</th>\n",
       "      <th>condition</th>\n",
       "      <th>review</th>\n",
       "      <th>date</th>\n",
       "      <th>ratings_count</th>\n",
       "    </tr>\n",
       "  </thead>\n",
       "  <tbody>\n",
       "    <tr>\n",
       "      <th>16</th>\n",
       "      <td>adderall</td>\n",
       "      <td>8.0</td>\n",
       "      <td>add</td>\n",
       "      <td>Diagnosed with Adult ADD I first took Ritalin ...</td>\n",
       "      <td>NaT</td>\n",
       "      <td>13</td>\n",
       "    </tr>\n",
       "  </tbody>\n",
       "</table>\n",
       "</div>"
      ],
      "text/plain": [
       "        drug  rating condition  \\\n",
       "16  adderall     8.0       add   \n",
       "\n",
       "                                               review date  ratings_count  \n",
       "16  Diagnosed with Adult ADD I first took Ritalin ...  NaT             13  "
      ]
     },
     "execution_count": 38,
     "metadata": {},
     "output_type": "execute_result"
    }
   ],
   "source": [
    "# left to strip are ' and : ; () where they don't appear as emoji.\n",
    "\n",
    "df[df['review'].str.find(\"'\")!=-1].head(1)"
   ]
  },
  {
   "cell_type": "code",
   "execution_count": 39,
   "id": "115d2f34",
   "metadata": {},
   "outputs": [
    {
     "data": {
      "text/plain": [
       "\"Diagnosed with Adult ADD I first took Ritalin I found this to cause some 'nervousness' and to have peaks  valleys I switched to Adderall XR and find I notice no physical symptoms only an increase in positive mood and desire to accomplish the days work The effect does seem to peak soon after the dose slowly level out and at about 68 hrs after initial dose I feel calm but now enthusiastic as earlier in the day None noticeable Increased interest and enthusiasm in activities\""
      ]
     },
     "execution_count": 39,
     "metadata": {},
     "output_type": "execute_result"
    }
   ],
   "source": [
    "df.review[16]"
   ]
  },
  {
   "cell_type": "code",
   "execution_count": 40,
   "id": "0224964f",
   "metadata": {},
   "outputs": [
    {
     "name": "stderr",
     "output_type": "stream",
     "text": [
      "100%|██████████| 50652/50652 [01:06<00:00, 766.20it/s] \n"
     ]
    },
    {
     "data": {
      "text/plain": [
       "'Diagnosed with Adult ADD I first took Ritalin I found this to cause some nervousness and to have peaks  valleys I switched to Adderall XR and find I notice no physical symptoms only an increase in positive mood and desire to accomplish the days work The effect does seem to peak soon after the dose slowly level out and at about 68 hrs after initial dose I feel calm but now enthusiastic as earlier in the day None noticeable Increased interest and enthusiasm in activities'"
      ]
     },
     "execution_count": 40,
     "metadata": {},
     "output_type": "execute_result"
    }
   ],
   "source": [
    "strip_apostrophe(df, 'review')\n",
    "df.review[16]"
   ]
  },
  {
   "cell_type": "code",
   "execution_count": 41,
   "id": "bdbfb0c8",
   "metadata": {},
   "outputs": [],
   "source": [
    "# apostrophes stripped successfully. Move onto final characters. \n",
    "\n",
    "# use regex to identify :;() when they appear next to a letter rather than in emoji.\n",
    "\n",
    "# Then isolate just the symbol itself for removal\n",
    "# https://pynative.com/python-find-position-of-regex-match-using-span-start-end/"
   ]
  },
  {
   "cell_type": "markdown",
   "id": "684d7e19",
   "metadata": {},
   "source": [
    "<font color='violet'> Lemmatize text"
   ]
  },
  {
   "cell_type": "markdown",
   "id": "7bd26558",
   "metadata": {},
   "source": [
    "<font color='violet'> More EDA\n",
    "\n",
    "https://medium.com/plotly/nlp-visualisations-for-clear-immediate-insights-into-text-data-and-outputs-9ebfab168d5b\n",
    "    \n",
    "https://www.numpyninja.com/post/nlp-text-data-visualization\n",
    "    \n",
    "https://www.kaggle.com/code/sainathkrothapalli/nlp-visualisation-guide\n",
    "    \n",
    "https://medium.com/acing-ai/visualizations-in-natural-language-processing-2ca60dd34ce\n",
    "    \n",
    "https://towardsdatascience.com/a-complete-exploratory-data-analysis-and-visualization-for-text-data-29fb1b96fb6a\n",
    "    \n",
    "https://towardsdatascience.com/getting-started-with-text-nlp-visualization-9dcb54bc91dd\n",
    "    \n",
    "https://www.kaggle.com/code/mitramir5/nlp-visualization-eda-glove\n",
    "    \n",
    "https://medium.com/analytics-vidhya/how-to-begin-performing-eda-on-nlp-ffdef92bedf6\n",
    "    \n",
    "https://inside-machinelearning.com/en/eda-nlp/\n",
    "    \n",
    "https://towardsdatascience.com/fundamental-eda-techniques-for-nlp-f81a93696a75\n",
    "    \n",
    "https://neptune.ai/blog/exploratory-data-analysis-natural-language-processing-tools\n",
    "    \n",
    "https://www.kdnuggets.com/2019/05/complete-exploratory-data-analysis-visualization-text-data.html\n",
    "    \n"
   ]
  }
 ],
 "metadata": {
  "kernelspec": {
   "display_name": "Python 3 (ipykernel)",
   "language": "python",
   "name": "python3"
  },
  "language_info": {
   "codemirror_mode": {
    "name": "ipython",
    "version": 3
   },
   "file_extension": ".py",
   "mimetype": "text/x-python",
   "name": "python",
   "nbconvert_exporter": "python",
   "pygments_lexer": "ipython3",
   "version": "3.9.15"
  }
 },
 "nbformat": 4,
 "nbformat_minor": 5
}
