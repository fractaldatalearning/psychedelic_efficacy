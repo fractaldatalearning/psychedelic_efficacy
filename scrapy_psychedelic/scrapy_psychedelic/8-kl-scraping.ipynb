{
 "cells": [
  {
   "cell_type": "markdown",
   "id": "c2779342",
   "metadata": {},
   "source": [
    "# <font color='violet'> Scrape Psychedelic Experience Reports\n",
    "\n",
    "Start with erowid, then move to psychonaut wiki, and finally relevant subreddits."
   ]
  },
  {
   "cell_type": "code",
   "execution_count": 3,
   "id": "b5d746a0",
   "metadata": {},
   "outputs": [],
   "source": [
    "# Check if this notebook is running correctly as part of the scrapy project,\n",
    "# able to access key project settings. Fingerprinter implementation should be 2.7\n",
    "from settings import REQUEST_FINGERPRINTER_IMPLEMENTATION"
   ]
  },
  {
   "cell_type": "code",
   "execution_count": 4,
   "id": "e81bb290",
   "metadata": {},
   "outputs": [
    {
     "data": {
      "text/plain": [
       "'2.7'"
      ]
     },
     "execution_count": 4,
     "metadata": {},
     "output_type": "execute_result"
    }
   ],
   "source": [
    "REQUEST_FINGERPRINTER_IMPLEMENTATION"
   ]
  },
  {
   "cell_type": "code",
   "execution_count": 7,
   "id": "71b228ea",
   "metadata": {},
   "outputs": [],
   "source": [
    "import scrapy\n",
    "from scrapy.crawler import CrawlerProcess"
   ]
  },
  {
   "cell_type": "markdown",
   "id": "d9ef57d3",
   "metadata": {},
   "source": [
    "<font color='violet'> First, just scope out how scrapy returns scraped data from a single page."
   ]
  },
  {
   "cell_type": "code",
   "execution_count": 8,
   "id": "4d0661f6",
   "metadata": {},
   "outputs": [],
   "source": [
    "class ErowidSpider(scrapy.Spider):\n",
    "    name='erowid_spider'\n",
    "    \n",
    "    def start_request(self):\n",
    "        urls = ['https://www.erowid.org/experiences/exp_list.shtml']\n",
    "        for url in urls:\n",
    "            yield scrapy.Request(url=url, callback=self.parse)\n",
    "            \n",
    "    def parse(self, response):\n",
    "        html_file = 'erowid_reports_index.html'\n",
    "        with open(html_file, 'wb') as fout:\n",
    "            fout.write(response.body)"
   ]
  },
  {
   "cell_type": "code",
   "execution_count": 9,
   "id": "d403dec5",
   "metadata": {},
   "outputs": [
    {
     "name": "stderr",
     "output_type": "stream",
     "text": [
      "2023-01-22 19:03:07 [scrapy.utils.log] INFO: Scrapy 2.7.1 started (bot: scrapybot)\n",
      "2023-01-22 19:03:07 [scrapy.utils.log] INFO: Versions: lxml 4.9.1.0, libxml2 2.9.14, cssselect 1.2.0, parsel 1.7.0, w3lib 2.1.1, Twisted 22.10.0, Python 3.9.15 (main, Nov 24 2022, 08:29:02) - [Clang 14.0.6 ], pyOpenSSL 23.0.0 (OpenSSL 3.0.7 1 Nov 2022), cryptography 39.0.0, Platform macOS-10.16-x86_64-i386-64bit\n",
      "2023-01-22 19:03:07 [scrapy.crawler] INFO: Overridden settings:\n",
      "{}\n",
      "2023-01-22 19:03:07 [py.warnings] WARNING: /Users/admin/opt/anaconda3/envs/psychedelic_efficacy/lib/python3.9/site-packages/scrapy/utils/request.py:231: ScrapyDeprecationWarning: '2.6' is a deprecated value for the 'REQUEST_FINGERPRINTER_IMPLEMENTATION' setting.\n",
      "\n",
      "It is also the default value. In other words, it is normal to get this warning if you have not defined a value for the 'REQUEST_FINGERPRINTER_IMPLEMENTATION' setting. This is so for backward compatibility reasons, but it will change in a future version of Scrapy.\n",
      "\n",
      "See the documentation of the 'REQUEST_FINGERPRINTER_IMPLEMENTATION' setting for information on how to handle this deprecation.\n",
      "  return cls(crawler)\n",
      "\n",
      "2023-01-22 19:03:07 [scrapy.utils.log] DEBUG: Using reactor: twisted.internet.selectreactor.SelectReactor\n",
      "2023-01-22 19:03:07 [scrapy.extensions.telnet] INFO: Telnet Password: 8a57e0b0dc2137a4\n",
      "2023-01-22 19:03:07 [scrapy.middleware] INFO: Enabled extensions:\n",
      "['scrapy.extensions.corestats.CoreStats',\n",
      " 'scrapy.extensions.telnet.TelnetConsole',\n",
      " 'scrapy.extensions.memusage.MemoryUsage',\n",
      " 'scrapy.extensions.logstats.LogStats']\n",
      "2023-01-22 19:03:07 [scrapy.middleware] INFO: Enabled downloader middlewares:\n",
      "['scrapy.downloadermiddlewares.httpauth.HttpAuthMiddleware',\n",
      " 'scrapy.downloadermiddlewares.downloadtimeout.DownloadTimeoutMiddleware',\n",
      " 'scrapy.downloadermiddlewares.defaultheaders.DefaultHeadersMiddleware',\n",
      " 'scrapy.downloadermiddlewares.useragent.UserAgentMiddleware',\n",
      " 'scrapy.downloadermiddlewares.retry.RetryMiddleware',\n",
      " 'scrapy.downloadermiddlewares.redirect.MetaRefreshMiddleware',\n",
      " 'scrapy.downloadermiddlewares.httpcompression.HttpCompressionMiddleware',\n",
      " 'scrapy.downloadermiddlewares.redirect.RedirectMiddleware',\n",
      " 'scrapy.downloadermiddlewares.cookies.CookiesMiddleware',\n",
      " 'scrapy.downloadermiddlewares.httpproxy.HttpProxyMiddleware',\n",
      " 'scrapy.downloadermiddlewares.stats.DownloaderStats']\n",
      "2023-01-22 19:03:07 [scrapy.middleware] INFO: Enabled spider middlewares:\n",
      "['scrapy.spidermiddlewares.httperror.HttpErrorMiddleware',\n",
      " 'scrapy.spidermiddlewares.offsite.OffsiteMiddleware',\n",
      " 'scrapy.spidermiddlewares.referer.RefererMiddleware',\n",
      " 'scrapy.spidermiddlewares.urllength.UrlLengthMiddleware',\n",
      " 'scrapy.spidermiddlewares.depth.DepthMiddleware']\n",
      "2023-01-22 19:03:07 [scrapy.middleware] INFO: Enabled item pipelines:\n",
      "[]\n",
      "2023-01-22 19:03:07 [scrapy.core.engine] INFO: Spider opened\n",
      "2023-01-22 19:03:08 [scrapy.extensions.logstats] INFO: Crawled 0 pages (at 0 pages/min), scraped 0 items (at 0 items/min)\n",
      "2023-01-22 19:03:08 [scrapy.extensions.telnet] INFO: Telnet console listening on 127.0.0.1:6023\n",
      "2023-01-22 19:03:08 [scrapy.core.engine] INFO: Closing spider (finished)\n",
      "2023-01-22 19:03:08 [scrapy.statscollectors] INFO: Dumping Scrapy stats:\n",
      "{'elapsed_time_seconds': 0.011791,\n",
      " 'finish_reason': 'finished',\n",
      " 'finish_time': datetime.datetime(2023, 1, 23, 3, 3, 8, 263703),\n",
      " 'log_count/DEBUG': 1,\n",
      " 'log_count/INFO': 10,\n",
      " 'log_count/WARNING': 1,\n",
      " 'memusage/max': 112467968,\n",
      " 'memusage/startup': 112467968,\n",
      " 'start_time': datetime.datetime(2023, 1, 23, 3, 3, 8, 251912)}\n",
      "2023-01-22 19:03:08 [scrapy.core.engine] INFO: Spider closed (finished)\n"
     ]
    }
   ],
   "source": [
    "process = CrawlerProcess()\n",
    "process.crawl(ErowidSpider)\n",
    "process.start()"
   ]
  },
  {
   "cell_type": "code",
   "execution_count": null,
   "id": "b726a737",
   "metadata": {},
   "outputs": [],
   "source": []
  }
 ],
 "metadata": {
  "kernelspec": {
   "display_name": "Python 3 (ipykernel)",
   "language": "python",
   "name": "python3"
  },
  "language_info": {
   "codemirror_mode": {
    "name": "ipython",
    "version": 3
   },
   "file_extension": ".py",
   "mimetype": "text/x-python",
   "name": "python",
   "nbconvert_exporter": "python",
   "pygments_lexer": "ipython3",
   "version": "3.9.15"
  }
 },
 "nbformat": 4,
 "nbformat_minor": 5
}
